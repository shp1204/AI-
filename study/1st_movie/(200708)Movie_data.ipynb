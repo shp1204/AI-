{
 "cells": [
  {
   "cell_type": "code",
   "execution_count": 2,
   "metadata": {
    "ExecuteTime": {
     "end_time": "2020-07-12T06:24:14.541591Z",
     "start_time": "2020-07-12T06:24:14.508567Z"
    },
    "colab": {
     "base_uri": "https://localhost:8080/",
     "height": 426
    },
    "colab_type": "code",
    "executionInfo": {
     "elapsed": 1907,
     "status": "error",
     "timestamp": 1594287159387,
     "user": {
      "displayName": "Shin Seunghyun",
      "photoUrl": "",
      "userId": "01830219061583101873"
     },
     "user_tz": -540
    },
    "id": "GPZe_ZtT6peA",
    "outputId": "548d13d5-e75d-4c7f-fceb-9cd22b137b1e"
   },
   "outputs": [],
   "source": [
    "import pandas as pd\n",
    "import numpy as np \n",
    "import matplotlib.pyplot as plt\n",
    "train_data = pd.read_csv('./data/movies_train.csv')\n",
    "test_data = pd.read_csv('./data/movies_test.csv')"
   ]
  },
  {
   "cell_type": "code",
   "execution_count": 3,
   "metadata": {
    "ExecuteTime": {
     "end_time": "2020-07-12T06:24:15.691408Z",
     "start_time": "2020-07-12T06:24:15.674392Z"
    },
    "colab": {
     "base_uri": "https://localhost:8080/",
     "height": 164
    },
    "colab_type": "code",
    "executionInfo": {
     "elapsed": 1919,
     "status": "error",
     "timestamp": 1594287159413,
     "user": {
      "displayName": "Shin Seunghyun",
      "photoUrl": "",
      "userId": "01830219061583101873"
     },
     "user_tz": -540
    },
    "id": "MoQGJ4za6peE",
    "outputId": "96d55a85-cee9-4c9e-f84f-ee79886df6ce"
   },
   "outputs": [
    {
     "name": "stdout",
     "output_type": "stream",
     "text": [
      "<class 'pandas.core.frame.DataFrame'>\n",
      "RangeIndex: 600 entries, 0 to 599\n",
      "Data columns (total 12 columns):\n",
      "title             600 non-null object\n",
      "distributor       600 non-null object\n",
      "genre             600 non-null object\n",
      "release_time      600 non-null object\n",
      "time              600 non-null int64\n",
      "screening_rat     600 non-null object\n",
      "director          600 non-null object\n",
      "dir_prev_bfnum    270 non-null float64\n",
      "dir_prev_num      600 non-null int64\n",
      "num_staff         600 non-null int64\n",
      "num_actor         600 non-null int64\n",
      "box_off_num       600 non-null int64\n",
      "dtypes: float64(1), int64(5), object(6)\n",
      "memory usage: 56.4+ KB\n"
     ]
    }
   ],
   "source": [
    "train_data.info()"
   ]
  },
  {
   "cell_type": "code",
   "execution_count": 4,
   "metadata": {
    "ExecuteTime": {
     "end_time": "2020-07-12T06:24:19.383034Z",
     "start_time": "2020-07-12T06:24:19.371021Z"
    },
    "colab": {},
    "colab_type": "code",
    "id": "r-aGNO8y6peH"
   },
   "outputs": [
    {
     "data": {
      "text/plain": [
       "title               0\n",
       "distributor         0\n",
       "genre               0\n",
       "release_time        0\n",
       "time                0\n",
       "screening_rat       0\n",
       "director            0\n",
       "dir_prev_bfnum    330\n",
       "dir_prev_num        0\n",
       "num_staff           0\n",
       "num_actor           0\n",
       "box_off_num         0\n",
       "dtype: int64"
      ]
     },
     "execution_count": 4,
     "metadata": {},
     "output_type": "execute_result"
    }
   ],
   "source": [
    "train_data.isnull().sum()"
   ]
  },
  {
   "cell_type": "code",
   "execution_count": 5,
   "metadata": {
    "ExecuteTime": {
     "end_time": "2020-07-12T06:24:20.670947Z",
     "start_time": "2020-07-12T06:24:20.651933Z"
    },
    "colab": {},
    "colab_type": "code",
    "id": "YRUmWqiS6peK"
   },
   "outputs": [],
   "source": [
    "train_data['dir_prev_bfnum'] = train_data['dir_prev_bfnum'].fillna(0)\n",
    "freq_distributor = train_data.groupby('distributor').size()\n",
    "freq_genre = train_data.groupby('genre').size()\n",
    "freq_rat = train_data.groupby('screening_rat').size()\n",
    "freq_director = train_data.groupby('director').size()"
   ]
  },
  {
   "cell_type": "code",
   "execution_count": 6,
   "metadata": {
    "ExecuteTime": {
     "end_time": "2020-07-12T06:24:23.188736Z",
     "start_time": "2020-07-12T06:24:23.178725Z"
    },
    "colab": {},
    "colab_type": "code",
    "id": "4iXVUMas6peM"
   },
   "outputs": [],
   "source": [
    "from matplotlib import font_manager, rc\n",
    "font_name = font_manager.FontProperties(fname=\"c:/Windows/Fonts/malgun.ttf\").get_name()\n",
    "rc('font', family=font_name)\n"
   ]
  },
  {
   "cell_type": "code",
   "execution_count": 7,
   "metadata": {
    "ExecuteTime": {
     "end_time": "2020-07-12T06:24:24.727827Z",
     "start_time": "2020-07-12T06:24:24.219466Z"
    },
    "colab": {},
    "colab_type": "code",
    "id": "D5b9xVr-6peO"
   },
   "outputs": [
    {
     "name": "stdout",
     "output_type": "stream",
     "text": [
      "genre\n",
      "SF         13\n",
      "공포         42\n",
      "느와르        27\n",
      "다큐멘터리      93\n",
      "드라마       221\n",
      "멜로/로맨스     78\n",
      "뮤지컬         5\n",
      "미스터리       17\n",
      "서스펜스        2\n",
      "애니메이션      21\n",
      "액션         28\n",
      "코미디        53\n",
      "dtype: int64\n",
      "max size = 221, minsize = 2\n"
     ]
    },
    {
     "data": {
      "image/png": "[encoded data removed]",
      "text/plain": [
       "<Figure size 432x288 with 1 Axes>"
      ]
     },
     "metadata": {
      "needs_background": "light"
     },
     "output_type": "display_data"
    }
   ],
   "source": [
    "train_data['genre'].value_counts().plot(kind='bar')\n",
    "print(freq_genre)\n",
    "print(\"max size = {}, minsize = {}\".format(str(max(freq_genre)),str(min(freq_genre))))"
   ]
  },
  {
   "cell_type": "code",
   "execution_count": 8,
   "metadata": {
    "ExecuteTime": {
     "end_time": "2020-07-12T06:24:26.733253Z",
     "start_time": "2020-07-12T06:24:26.297943Z"
    },
    "colab": {},
    "colab_type": "code",
    "id": "V2NOIcmE6peQ"
   },
   "outputs": [
    {
     "name": "stdout",
     "output_type": "stream",
     "text": [
      "screening_rat\n",
      "12세 관람가     102\n",
      "15세 관람가     202\n",
      "전체 관람가       92\n",
      "청소년 관람불가    204\n",
      "dtype: int64\n",
      "max size = 204, minsize = 92\n"
     ]
    },
    {
     "data": {
      "image/png": "[encoded data removed]",
      "text/plain": [
       "<Figure size 432x288 with 1 Axes>"
      ]
     },
     "metadata": {
      "needs_background": "light"
     },
     "output_type": "display_data"
    }
   ],
   "source": [
    "train_data['screening_rat'].value_counts().plot(kind='bar')\n",
    "print(freq_rat)\n",
    "print(\"max size = {}, minsize = {}\".format(str(max(freq_rat)),str(min(freq_rat))))"
   ]
  },
  {
   "cell_type": "code",
   "execution_count": 9,
   "metadata": {
    "ExecuteTime": {
     "end_time": "2020-07-12T06:24:38.017271Z",
     "start_time": "2020-07-12T06:24:28.574560Z"
    },
    "colab": {},
    "colab_type": "code",
    "id": "fUnSKPzh6peS"
   },
   "outputs": [
    {
     "name": "stdout",
     "output_type": "stream",
     "text": [
      "director\n",
      "New Pistol    1\n",
      "강석필           1\n",
      "강성옥           1\n",
      "강우석           2\n",
      "강의석           1\n",
      "             ..\n",
      "황석호           1\n",
      "황욱            1\n",
      "황유식           1\n",
      "황인호           2\n",
      "황철민           1\n",
      "Length: 472, dtype: int64\n",
      "max size = 7, minsize = 1\n"
     ]
    },
    {
     "data": {
      "image/png": "[encoded data removed]",
      "text/plain": [
       "<Figure size 432x288 with 1 Axes>"
      ]
     },
     "metadata": {
      "needs_background": "light"
     },
     "output_type": "display_data"
    }
   ],
   "source": [
    "train_data['director'].value_counts().plot(kind='bar')\n",
    "print(freq_director)\n",
    "print(\"max size = {}, minsize = {}\".format(str(max(freq_director)),str(min(freq_director))))"
   ]
  },
  {
   "cell_type": "code",
   "execution_count": 10,
   "metadata": {
    "ExecuteTime": {
     "end_time": "2020-07-12T06:24:42.176227Z",
     "start_time": "2020-07-12T06:24:38.157372Z"
    },
    "colab": {},
    "colab_type": "code",
    "id": "uNu7hJJP6peU"
   },
   "outputs": [
    {
     "name": "stdout",
     "output_type": "stream",
     "text": [
      "distributor\n",
      "(주) 브릿지웍스          3\n",
      "(주) 액티버스엔터테인먼트     2\n",
      "(주) 영화사조제         10\n",
      "(주) 영화제작전원사        3\n",
      "(주) 케이알씨지         14\n",
      "                  ..\n",
      "필름라인               1\n",
      "하준사                1\n",
      "한국YWCA연합회          1\n",
      "홀리가든               4\n",
      "화앤담이엔티             2\n",
      "Length: 169, dtype: int64\n",
      "max size = 54, minsize = 1\n"
     ]
    },
    {
     "data": {
      "image/png": "[encoded data removed]",
      "text/plain": [
       "<Figure size 432x288 with 1 Axes>"
      ]
     },
     "metadata": {
      "needs_background": "light"
     },
     "output_type": "display_data"
    }
   ],
   "source": [
    "train_data['distributor'].value_counts().plot(kind='bar')\n",
    "print(freq_distributor)\n",
    "print(\"max size = {}, minsize = {}\".format(str(max(freq_distributor)),str(min(freq_distributor))))\n"
   ]
  },
  {
   "cell_type": "code",
   "execution_count": 11,
   "metadata": {
    "ExecuteTime": {
     "end_time": "2020-07-12T06:24:42.546490Z",
     "start_time": "2020-07-12T06:24:42.410395Z"
    },
    "colab": {},
    "colab_type": "code",
    "id": "OWclGSef6peW"
   },
   "outputs": [],
   "source": [
    "list_dis = []\n",
    "list_dir = []\n",
    "for i in range(600):\n",
    "    list_dis.append(freq_distributor[train_data['distributor'][i]])\n",
    "    list_dir.append(freq_director[train_data['director'][i]])\n",
    "train_data['freq_distributor'] = list_dis\n",
    "train_data['freq_director'] = list_dir\n"
   ]
  },
  {
   "cell_type": "code",
   "execution_count": null,
   "metadata": {
    "colab": {},
    "colab_type": "code",
    "id": "GE8CY2qw6peY"
   },
   "outputs": [],
   "source": [
    "train_data"
   ]
  },
  {
   "cell_type": "code",
   "execution_count": 12,
   "metadata": {
    "ExecuteTime": {
     "end_time": "2020-07-12T06:24:42.743630Z",
     "start_time": "2020-07-12T06:24:42.714610Z"
    },
    "colab": {},
    "colab_type": "code",
    "id": "dwhH1aHl6peZ"
   },
   "outputs": [],
   "source": [
    "#hundred_students = pd.get_dummies(hundred_students, columns=['지역'], prefix='지역')\n",
    "\n",
    "train_data = pd.get_dummies(train_data, columns=['genre'], prefix='genre')"
   ]
  },
  {
   "cell_type": "code",
   "execution_count": 13,
   "metadata": {
    "ExecuteTime": {
     "end_time": "2020-07-12T06:24:42.976807Z",
     "start_time": "2020-07-12T06:24:42.955781Z"
    },
    "colab": {},
    "colab_type": "code",
    "id": "coToJnL86peb"
   },
   "outputs": [],
   "source": [
    "train_data = pd.get_dummies(train_data, columns=['screening_rat'], prefix='screening_rat')"
   ]
  },
  {
   "cell_type": "code",
   "execution_count": 14,
   "metadata": {
    "ExecuteTime": {
     "end_time": "2020-07-12T06:24:43.245989Z",
     "start_time": "2020-07-12T06:24:43.155924Z"
    },
    "colab": {},
    "colab_type": "code",
    "id": "I18Z-MWx6ped"
   },
   "outputs": [
    {
     "data": {
      "text/html": [
       "<div>\n",
       "<style scoped>\n",
       "    .dataframe tbody tr th:only-of-type {\n",
       "        vertical-align: middle;\n",
       "    }\n",
       "\n",
       "    .dataframe tbody tr th {\n",
       "        vertical-align: top;\n",
       "    }\n",
       "\n",
       "    .dataframe thead th {\n",
       "        text-align: right;\n",
       "    }\n",
       "</style>\n",
       "<table border=\"1\" class=\"dataframe\">\n",
       "  <thead>\n",
       "    <tr style=\"text-align: right;\">\n",
       "      <th></th>\n",
       "      <th>title</th>\n",
       "      <th>distributor</th>\n",
       "      <th>release_time</th>\n",
       "      <th>time</th>\n",
       "      <th>director</th>\n",
       "      <th>dir_prev_bfnum</th>\n",
       "      <th>dir_prev_num</th>\n",
       "      <th>num_staff</th>\n",
       "      <th>num_actor</th>\n",
       "      <th>box_off_num</th>\n",
       "      <th>...</th>\n",
       "      <th>genre_뮤지컬</th>\n",
       "      <th>genre_미스터리</th>\n",
       "      <th>genre_서스펜스</th>\n",
       "      <th>genre_애니메이션</th>\n",
       "      <th>genre_액션</th>\n",
       "      <th>genre_코미디</th>\n",
       "      <th>screening_rat_12세 관람가</th>\n",
       "      <th>screening_rat_15세 관람가</th>\n",
       "      <th>screening_rat_전체 관람가</th>\n",
       "      <th>screening_rat_청소년 관람불가</th>\n",
       "    </tr>\n",
       "  </thead>\n",
       "  <tbody>\n",
       "    <tr>\n",
       "      <th>0</th>\n",
       "      <td>개들의 전쟁</td>\n",
       "      <td>롯데엔터테인먼트</td>\n",
       "      <td>2012-11-22</td>\n",
       "      <td>96</td>\n",
       "      <td>조병옥</td>\n",
       "      <td>0.00</td>\n",
       "      <td>0</td>\n",
       "      <td>91</td>\n",
       "      <td>2</td>\n",
       "      <td>23398</td>\n",
       "      <td>...</td>\n",
       "      <td>0</td>\n",
       "      <td>0</td>\n",
       "      <td>0</td>\n",
       "      <td>0</td>\n",
       "      <td>1</td>\n",
       "      <td>0</td>\n",
       "      <td>0</td>\n",
       "      <td>0</td>\n",
       "      <td>0</td>\n",
       "      <td>1</td>\n",
       "    </tr>\n",
       "    <tr>\n",
       "      <th>1</th>\n",
       "      <td>내부자들</td>\n",
       "      <td>(주)쇼박스</td>\n",
       "      <td>2015-11-19</td>\n",
       "      <td>130</td>\n",
       "      <td>우민호</td>\n",
       "      <td>1161602.50</td>\n",
       "      <td>2</td>\n",
       "      <td>387</td>\n",
       "      <td>3</td>\n",
       "      <td>7072501</td>\n",
       "      <td>...</td>\n",
       "      <td>0</td>\n",
       "      <td>0</td>\n",
       "      <td>0</td>\n",
       "      <td>0</td>\n",
       "      <td>0</td>\n",
       "      <td>0</td>\n",
       "      <td>0</td>\n",
       "      <td>0</td>\n",
       "      <td>0</td>\n",
       "      <td>1</td>\n",
       "    </tr>\n",
       "    <tr>\n",
       "      <th>2</th>\n",
       "      <td>은밀하게 위대하게</td>\n",
       "      <td>(주)쇼박스</td>\n",
       "      <td>2013-06-05</td>\n",
       "      <td>123</td>\n",
       "      <td>장철수</td>\n",
       "      <td>220775.25</td>\n",
       "      <td>4</td>\n",
       "      <td>343</td>\n",
       "      <td>4</td>\n",
       "      <td>6959083</td>\n",
       "      <td>...</td>\n",
       "      <td>0</td>\n",
       "      <td>0</td>\n",
       "      <td>0</td>\n",
       "      <td>0</td>\n",
       "      <td>1</td>\n",
       "      <td>0</td>\n",
       "      <td>0</td>\n",
       "      <td>1</td>\n",
       "      <td>0</td>\n",
       "      <td>0</td>\n",
       "    </tr>\n",
       "    <tr>\n",
       "      <th>3</th>\n",
       "      <td>나는 공무원이다</td>\n",
       "      <td>(주)NEW</td>\n",
       "      <td>2012-07-12</td>\n",
       "      <td>101</td>\n",
       "      <td>구자홍</td>\n",
       "      <td>23894.00</td>\n",
       "      <td>2</td>\n",
       "      <td>20</td>\n",
       "      <td>6</td>\n",
       "      <td>217866</td>\n",
       "      <td>...</td>\n",
       "      <td>0</td>\n",
       "      <td>0</td>\n",
       "      <td>0</td>\n",
       "      <td>0</td>\n",
       "      <td>0</td>\n",
       "      <td>1</td>\n",
       "      <td>0</td>\n",
       "      <td>0</td>\n",
       "      <td>1</td>\n",
       "      <td>0</td>\n",
       "    </tr>\n",
       "    <tr>\n",
       "      <th>4</th>\n",
       "      <td>불량남녀</td>\n",
       "      <td>쇼박스(주)미디어플렉스</td>\n",
       "      <td>2010-11-04</td>\n",
       "      <td>108</td>\n",
       "      <td>신근호</td>\n",
       "      <td>1.00</td>\n",
       "      <td>1</td>\n",
       "      <td>251</td>\n",
       "      <td>2</td>\n",
       "      <td>483387</td>\n",
       "      <td>...</td>\n",
       "      <td>0</td>\n",
       "      <td>0</td>\n",
       "      <td>0</td>\n",
       "      <td>0</td>\n",
       "      <td>0</td>\n",
       "      <td>1</td>\n",
       "      <td>0</td>\n",
       "      <td>1</td>\n",
       "      <td>0</td>\n",
       "      <td>0</td>\n",
       "    </tr>\n",
       "    <tr>\n",
       "      <th>...</th>\n",
       "      <td>...</td>\n",
       "      <td>...</td>\n",
       "      <td>...</td>\n",
       "      <td>...</td>\n",
       "      <td>...</td>\n",
       "      <td>...</td>\n",
       "      <td>...</td>\n",
       "      <td>...</td>\n",
       "      <td>...</td>\n",
       "      <td>...</td>\n",
       "      <td>...</td>\n",
       "      <td>...</td>\n",
       "      <td>...</td>\n",
       "      <td>...</td>\n",
       "      <td>...</td>\n",
       "      <td>...</td>\n",
       "      <td>...</td>\n",
       "      <td>...</td>\n",
       "      <td>...</td>\n",
       "      <td>...</td>\n",
       "      <td>...</td>\n",
       "    </tr>\n",
       "    <tr>\n",
       "      <th>595</th>\n",
       "      <td>해무</td>\n",
       "      <td>(주)NEW</td>\n",
       "      <td>2014-08-13</td>\n",
       "      <td>111</td>\n",
       "      <td>심성보</td>\n",
       "      <td>3833.00</td>\n",
       "      <td>1</td>\n",
       "      <td>510</td>\n",
       "      <td>7</td>\n",
       "      <td>1475091</td>\n",
       "      <td>...</td>\n",
       "      <td>0</td>\n",
       "      <td>0</td>\n",
       "      <td>0</td>\n",
       "      <td>0</td>\n",
       "      <td>0</td>\n",
       "      <td>0</td>\n",
       "      <td>0</td>\n",
       "      <td>0</td>\n",
       "      <td>0</td>\n",
       "      <td>1</td>\n",
       "    </tr>\n",
       "    <tr>\n",
       "      <th>596</th>\n",
       "      <td>파파로티</td>\n",
       "      <td>(주)쇼박스</td>\n",
       "      <td>2013-03-14</td>\n",
       "      <td>127</td>\n",
       "      <td>윤종찬</td>\n",
       "      <td>496061.00</td>\n",
       "      <td>1</td>\n",
       "      <td>286</td>\n",
       "      <td>6</td>\n",
       "      <td>1716438</td>\n",
       "      <td>...</td>\n",
       "      <td>0</td>\n",
       "      <td>0</td>\n",
       "      <td>0</td>\n",
       "      <td>0</td>\n",
       "      <td>0</td>\n",
       "      <td>0</td>\n",
       "      <td>0</td>\n",
       "      <td>1</td>\n",
       "      <td>0</td>\n",
       "      <td>0</td>\n",
       "    </tr>\n",
       "    <tr>\n",
       "      <th>597</th>\n",
       "      <td>살인의 강</td>\n",
       "      <td>(주)마운틴픽쳐스</td>\n",
       "      <td>2010-09-30</td>\n",
       "      <td>99</td>\n",
       "      <td>김대현</td>\n",
       "      <td>0.00</td>\n",
       "      <td>0</td>\n",
       "      <td>123</td>\n",
       "      <td>4</td>\n",
       "      <td>2475</td>\n",
       "      <td>...</td>\n",
       "      <td>0</td>\n",
       "      <td>0</td>\n",
       "      <td>0</td>\n",
       "      <td>0</td>\n",
       "      <td>0</td>\n",
       "      <td>0</td>\n",
       "      <td>0</td>\n",
       "      <td>0</td>\n",
       "      <td>0</td>\n",
       "      <td>1</td>\n",
       "    </tr>\n",
       "    <tr>\n",
       "      <th>598</th>\n",
       "      <td>악의 연대기</td>\n",
       "      <td>CJ 엔터테인먼트</td>\n",
       "      <td>2015-05-14</td>\n",
       "      <td>102</td>\n",
       "      <td>백운학</td>\n",
       "      <td>0.00</td>\n",
       "      <td>0</td>\n",
       "      <td>431</td>\n",
       "      <td>4</td>\n",
       "      <td>2192525</td>\n",
       "      <td>...</td>\n",
       "      <td>0</td>\n",
       "      <td>0</td>\n",
       "      <td>0</td>\n",
       "      <td>0</td>\n",
       "      <td>0</td>\n",
       "      <td>0</td>\n",
       "      <td>0</td>\n",
       "      <td>1</td>\n",
       "      <td>0</td>\n",
       "      <td>0</td>\n",
       "    </tr>\n",
       "    <tr>\n",
       "      <th>599</th>\n",
       "      <td>베를린</td>\n",
       "      <td>CJ 엔터테인먼트</td>\n",
       "      <td>2013-01-30</td>\n",
       "      <td>120</td>\n",
       "      <td>류승완</td>\n",
       "      <td>0.00</td>\n",
       "      <td>0</td>\n",
       "      <td>363</td>\n",
       "      <td>5</td>\n",
       "      <td>7166532</td>\n",
       "      <td>...</td>\n",
       "      <td>0</td>\n",
       "      <td>0</td>\n",
       "      <td>0</td>\n",
       "      <td>0</td>\n",
       "      <td>1</td>\n",
       "      <td>0</td>\n",
       "      <td>0</td>\n",
       "      <td>1</td>\n",
       "      <td>0</td>\n",
       "      <td>0</td>\n",
       "    </tr>\n",
       "  </tbody>\n",
       "</table>\n",
       "<p>600 rows × 28 columns</p>\n",
       "</div>"
      ],
      "text/plain": [
       "         title   distributor release_time  time director  dir_prev_bfnum  \\\n",
       "0       개들의 전쟁      롯데엔터테인먼트   2012-11-22    96      조병옥            0.00   \n",
       "1         내부자들        (주)쇼박스   2015-11-19   130      우민호      1161602.50   \n",
       "2    은밀하게 위대하게        (주)쇼박스   2013-06-05   123      장철수       220775.25   \n",
       "3     나는 공무원이다        (주)NEW   2012-07-12   101      구자홍        23894.00   \n",
       "4         불량남녀  쇼박스(주)미디어플렉스   2010-11-04   108      신근호            1.00   \n",
       "..         ...           ...          ...   ...      ...             ...   \n",
       "595         해무        (주)NEW   2014-08-13   111      심성보         3833.00   \n",
       "596       파파로티        (주)쇼박스   2013-03-14   127      윤종찬       496061.00   \n",
       "597      살인의 강     (주)마운틴픽쳐스   2010-09-30    99      김대현            0.00   \n",
       "598     악의 연대기     CJ 엔터테인먼트   2015-05-14   102      백운학            0.00   \n",
       "599        베를린     CJ 엔터테인먼트   2013-01-30   120      류승완            0.00   \n",
       "\n",
       "     dir_prev_num  num_staff  num_actor  box_off_num  ...  genre_뮤지컬  \\\n",
       "0               0         91          2        23398  ...          0   \n",
       "1               2        387          3      7072501  ...          0   \n",
       "2               4        343          4      6959083  ...          0   \n",
       "3               2         20          6       217866  ...          0   \n",
       "4               1        251          2       483387  ...          0   \n",
       "..            ...        ...        ...          ...  ...        ...   \n",
       "595             1        510          7      1475091  ...          0   \n",
       "596             1        286          6      1716438  ...          0   \n",
       "597             0        123          4         2475  ...          0   \n",
       "598             0        431          4      2192525  ...          0   \n",
       "599             0        363          5      7166532  ...          0   \n",
       "\n",
       "     genre_미스터리  genre_서스펜스  genre_애니메이션  genre_액션  genre_코미디  \\\n",
       "0             0           0            0         1          0   \n",
       "1             0           0            0         0          0   \n",
       "2             0           0            0         1          0   \n",
       "3             0           0            0         0          1   \n",
       "4             0           0            0         0          1   \n",
       "..          ...         ...          ...       ...        ...   \n",
       "595           0           0            0         0          0   \n",
       "596           0           0            0         0          0   \n",
       "597           0           0            0         0          0   \n",
       "598           0           0            0         0          0   \n",
       "599           0           0            0         1          0   \n",
       "\n",
       "     screening_rat_12세 관람가  screening_rat_15세 관람가  screening_rat_전체 관람가  \\\n",
       "0                        0                      0                     0   \n",
       "1                        0                      0                     0   \n",
       "2                        0                      1                     0   \n",
       "3                        0                      0                     1   \n",
       "4                        0                      1                     0   \n",
       "..                     ...                    ...                   ...   \n",
       "595                      0                      0                     0   \n",
       "596                      0                      1                     0   \n",
       "597                      0                      0                     0   \n",
       "598                      0                      1                     0   \n",
       "599                      0                      1                     0   \n",
       "\n",
       "     screening_rat_청소년 관람불가  \n",
       "0                         1  \n",
       "1                         1  \n",
       "2                         0  \n",
       "3                         0  \n",
       "4                         0  \n",
       "..                      ...  \n",
       "595                       1  \n",
       "596                       0  \n",
       "597                       1  \n",
       "598                       0  \n",
       "599                       0  \n",
       "\n",
       "[600 rows x 28 columns]"
      ]
     },
     "execution_count": 14,
     "metadata": {},
     "output_type": "execute_result"
    }
   ],
   "source": [
    "train_data"
   ]
  },
  {
   "cell_type": "code",
   "execution_count": null,
   "metadata": {
    "colab": {},
    "colab_type": "code",
    "id": "NvCyQvsY6pef"
   },
   "outputs": [],
   "source": [
    "train_data['release_time'] = train_data['release_time'].str.replace(\"-\",\"\")\n",
    "train_data['release_time'] = pd.to_numeric(train_data['release_time'])"
   ]
  },
  {
   "cell_type": "code",
   "execution_count": null,
   "metadata": {
    "colab": {},
    "colab_type": "code",
    "id": "VbyQeJ4_6peg"
   },
   "outputs": [],
   "source": [
    "train_data.drop(columns = ['title','distributor','director'], inplace=True)"
   ]
  },
  {
   "cell_type": "code",
   "execution_count": null,
   "metadata": {
    "colab": {},
    "colab_type": "code",
    "id": "8jbVuvad6pei",
    "scrolled": true
   },
   "outputs": [],
   "source": [
    "train_data.info()"
   ]
  },
  {
   "cell_type": "code",
   "execution_count": null,
   "metadata": {
    "colab": {},
    "colab_type": "code",
    "id": "lTrzZ40F6pek"
   },
   "outputs": [],
   "source": [
    "import seaborn as sns\n",
    "from matplotlib import pyplot as plt\n",
    "plt.figure(figsize=(15,10))\n",
    "sns.heatmap(train_data.corr(), annot=True, cmap='PuBu')\n",
    "plt.show()"
   ]
  },
  {
   "cell_type": "code",
   "execution_count": null,
   "metadata": {
    "colab": {},
    "colab_type": "code",
    "id": "Dgi_eZSc6peo"
   },
   "outputs": [],
   "source": [
    "train_data.corr()['box_off_num'].sort_values()"
   ]
  },
  {
   "cell_type": "code",
   "execution_count": null,
   "metadata": {
    "colab": {},
    "colab_type": "code",
    "id": "CRB8DlQB6pep"
   },
   "outputs": [],
   "source": [
    "list_down = list(train_data.corr()['box_off_num'].sort_values()[4:15].keys())"
   ]
  },
  {
   "cell_type": "code",
   "execution_count": null,
   "metadata": {
    "colab": {},
    "colab_type": "code",
    "id": "1SS-9B9a6per"
   },
   "outputs": [],
   "source": [
    "train_data3 = train_data.drop(columns=list_down, inplace=False)"
   ]
  },
  {
   "cell_type": "code",
   "execution_count": null,
   "metadata": {
    "colab": {},
    "colab_type": "code",
    "id": "1LuJaHkD6pet"
   },
   "outputs": [],
   "source": [
    "train_data3"
   ]
  },
  {
   "cell_type": "code",
   "execution_count": null,
   "metadata": {
    "colab": {},
    "colab_type": "code",
    "id": "FYQnFO416peu"
   },
   "outputs": [],
   "source": [
    "train_data2 = train_data.iloc[:,:9]"
   ]
  },
  {
   "cell_type": "code",
   "execution_count": null,
   "metadata": {
    "colab": {},
    "colab_type": "code",
    "id": "nQz8j3Xj6pew"
   },
   "outputs": [],
   "source": [
    "train_tdata = train_data['box_off_num']\n",
    "train_xdata = train_data.drop(columns ='box_off_num',inplace=False)\n",
    "\n",
    "#corr반영\n",
    "train_tdata3 = train_data3['box_off_num']\n",
    "train_xdata3 = train_data3.drop(columns ='box_off_num',inplace=False)\n",
    "\n",
    "from sklearn.model_selection import train_test_split\n",
    "train_Xdata, test_Xdata, train_ydata, test_ydata = train_test_split(train_xdata,train_tdata, test_size=0.3, random_state=100)\n",
    "\n",
    "train_Xdata3, test_Xdata3, train_ydata3, test_ydata3 = train_test_split(train_xdata3,train_tdata3, test_size=0.3, random_state=100)"
   ]
  },
  {
   "cell_type": "code",
   "execution_count": null,
   "metadata": {
    "colab": {},
    "colab_type": "code",
    "id": "Wff9N0g96pey"
   },
   "outputs": [],
   "source": [
    "from sklearn.linear_model import LinearRegression"
   ]
  },
  {
   "cell_type": "code",
   "execution_count": null,
   "metadata": {
    "colab": {},
    "colab_type": "code",
    "id": "h6AXHVv56pe0"
   },
   "outputs": [],
   "source": [
    "model = LinearRegression(normalize= True)\n",
    "model3 = LinearRegression(normalize= True)"
   ]
  },
  {
   "cell_type": "code",
   "execution_count": null,
   "metadata": {
    "colab": {},
    "colab_type": "code",
    "id": "rqGkIEqO6pe2"
   },
   "outputs": [],
   "source": [
    "model.fit(train_Xdata, train_ydata)\n",
    "model3.fit(train_Xdata3, train_ydata3)"
   ]
  },
  {
   "cell_type": "code",
   "execution_count": null,
   "metadata": {
    "colab": {},
    "colab_type": "code",
    "id": "cSxee_Vy6pe4"
   },
   "outputs": [],
   "source": [
    "predicted = model.predict(test_Xdata)\n",
    "predicted3 = model3.predict(test_Xdata3)"
   ]
  },
  {
   "cell_type": "code",
   "execution_count": null,
   "metadata": {
    "colab": {},
    "colab_type": "code",
    "id": "xfvJ33hd6pe5"
   },
   "outputs": [],
   "source": [
    "model_score = model.score(test_Xdata,test_ydata)\n",
    "model_score3 = model3.score(test_Xdata3,test_ydata3)"
   ]
  },
  {
   "cell_type": "code",
   "execution_count": null,
   "metadata": {
    "colab": {},
    "colab_type": "code",
    "id": "djcGCrHa6pe7"
   },
   "outputs": [],
   "source": [
    "print(\"\\n> 모델 평가 점수 :\", model_score)\n",
    "\n",
    "print(\"\\n> 모델 평가 점수 :\", model_score3)"
   ]
  },
  {
   "cell_type": "code",
   "execution_count": null,
   "metadata": {
    "colab": {},
    "colab_type": "code",
    "id": "LeeldYfa6pe8"
   },
   "outputs": [],
   "source": [
    "model.coef_"
   ]
  },
  {
   "cell_type": "code",
   "execution_count": null,
   "metadata": {
    "colab": {},
    "colab_type": "code",
    "id": "AtWSCBad6pe-"
   },
   "outputs": [],
   "source": [
    "model3.coef_"
   ]
  },
  {
   "cell_type": "code",
   "execution_count": null,
   "metadata": {
    "colab": {},
    "colab_type": "code",
    "id": "FJBwolG86pe_"
   },
   "outputs": [],
   "source": [
    "# Import SVC from sklearn.svm and accuracy_score from sklearn.metrics\n",
    "from sklearn.svm import SVC\n",
    "from sklearn.metrics import accuracy_score\n",
    "\n",
    "# Create an instance of the Support Vector Classification class\n",
    "svc = SVC()\n",
    "svc3 = SVC()"
   ]
  },
  {
   "cell_type": "code",
   "execution_count": null,
   "metadata": {
    "colab": {},
    "colab_type": "code",
    "id": "rkksjg3N6pfB"
   },
   "outputs": [],
   "source": [
    "svc.fit(train_Xdata, train_ydata)\n",
    "svc3.fit(train_Xdata3, train_ydata3)"
   ]
  },
  {
   "cell_type": "code",
   "execution_count": null,
   "metadata": {
    "colab": {},
    "colab_type": "code",
    "id": "SFvKKyKD6pfC"
   },
   "outputs": [],
   "source": [
    "accuracy_train = accuracy_score(train_ydata, svc.predict(train_Xdata))\n",
    "accuracy_test = accuracy_score(test_ydata, svc.predict(test_Xdata))\n",
    "\n",
    "accuracy_train3 = accuracy_score(train_ydata3, svc3.predict(train_Xdata3))\n",
    "accuracy_test3 = accuracy_score(test_ydata3, svc3.predict(test_Xdata3))"
   ]
  },
  {
   "cell_type": "code",
   "execution_count": null,
   "metadata": {
    "colab": {},
    "colab_type": "code",
    "id": "IPit2eAR6pfE"
   },
   "outputs": [],
   "source": [
    "print(\"{0:.1%} accuracy on test set vs. {1:.1%} on training set\".format(accuracy_test, accuracy_train))\n",
    "\n",
    "print(\"{0:.1%} accuracy on test set vs. {1:.1%} on training set\".format(accuracy_test3, accuracy_train3))"
   ]
  },
  {
   "cell_type": "code",
   "execution_count": null,
   "metadata": {
    "colab": {},
    "colab_type": "code",
    "id": "KteGuSwX6pfF",
    "scrolled": true
   },
   "outputs": [],
   "source": [
    "test_data['dir_prev_bfnum'] = train_data['dir_prev_bfnum'].fillna(0)\n",
    "freq_distributor = test_data.groupby('distributor').size()\n",
    "freq_genre = test_data.groupby('genre').size()\n",
    "freq_rat = test_data.groupby('screening_rat').size()\n",
    "freq_director = test_data.groupby('director').size()\n",
    "list_dis = []\n",
    "list_dir = []\n",
    "for i in range(len(test_data)):\n",
    "    list_dis.append(freq_distributor[test_data['distributor'][i]])\n",
    "    list_dir.append(freq_director[test_data['director'][i]])\n",
    "test_data['freq_distributor'] = list_dis\n",
    "test_data['freq_director'] = list_dir\n",
    "test_data = pd.get_dummies(test_data, columns=['genre'], prefix='genre')\n",
    "test_data = pd.get_dummies(test_data, columns=['screening_rat'], prefix='screening_rat')\n",
    "test_data['release_time'] = test_data['release_time'].str.replace(\"-\",\"\")\n",
    "test_data['release_time'] = pd.to_numeric(test_data['release_time'])\n",
    "test_data.drop(columns = ['title','distributor','director'], inplace=True)"
   ]
  },
  {
   "cell_type": "code",
   "execution_count": null,
   "metadata": {
    "colab": {},
    "colab_type": "code",
    "id": "qiEiEEzV6pfH"
   },
   "outputs": [],
   "source": [
    "model = LinearRegression()\n",
    "model.fit(train_Xdata3, train_ydata3)\n",
    "predicted = model.predict(test_data)"
   ]
  },
  {
   "cell_type": "code",
   "execution_count": null,
   "metadata": {
    "colab": {},
    "colab_type": "code",
    "id": "ngm5sund6pfJ"
   },
   "outputs": [],
   "source": []
  },
  {
   "cell_type": "code",
   "execution_count": null,
   "metadata": {
    "colab": {},
    "colab_type": "code",
    "id": "LAjx8ZJD6pfK"
   },
   "outputs": [],
   "source": [
    "len(predicted)"
   ]
  },
  {
   "cell_type": "code",
   "execution_count": null,
   "metadata": {
    "colab": {},
    "colab_type": "code",
    "id": "zT7JFRrW6pfL"
   },
   "outputs": [],
   "source": [
    "submit = pd.read_csv('./data/movies/submission.csv')"
   ]
  },
  {
   "cell_type": "code",
   "execution_count": null,
   "metadata": {
    "colab": {},
    "colab_type": "code",
    "id": "h36ZVtJI6pfN"
   },
   "outputs": [],
   "source": [
    "submit['box_off_num'] = predicted"
   ]
  },
  {
   "cell_type": "code",
   "execution_count": null,
   "metadata": {
    "colab": {},
    "colab_type": "code",
    "id": "Kol6OaLp6pfP"
   },
   "outputs": [],
   "source": [
    "submit"
   ]
  },
  {
   "cell_type": "code",
   "execution_count": null,
   "metadata": {
    "colab": {},
    "colab_type": "code",
    "id": "wh_QNDlF6pfQ"
   },
   "outputs": [],
   "source": [
    "submit.to_csv('C:/Users/smj71/Desktop/sub.csv', index= False)"
   ]
  },
  {
   "cell_type": "markdown",
   "metadata": {
    "colab_type": "text",
    "id": "-ffK9ERj6pfT"
   },
   "source": [
    "### K-Fold 교차검증"
   ]
  },
  {
   "cell_type": "code",
   "execution_count": null,
   "metadata": {
    "colab": {},
    "colab_type": "code",
    "id": "Rho9c7dt6pfT"
   },
   "outputs": [],
   "source": [
    "from sklearn.model_selection import KFold\n",
    "kfold = KFold(5)\n",
    "n_iter = 0\n",
    "model_scores = []\n",
    "model=LinearRegression()\n",
    "\n",
    "for train_idx, val_idx in kfold.split(train_Xdata):\n",
    "    \n",
    "    # 4. 학습용과 검증용으로 나눈 데이터를 저장합니다.\n",
    "    X_train, X_val = train_Xdata[train_idx], train_Xdata[val_idx]\n",
    "    y_train, y_val = train_ydata[train_idx], train_ydata[val_idx]\n",
    "\n",
    "\n",
    "    # 5. 학습용 데이터로 모델 학습을 진행합니다.\n",
    "    model.fit(X_train,y_train)\n",
    "\n",
    "    # 각 Iter 별 모델 평가 점수를 측정하여 변수 score에 저장합니다.\n",
    "    score = model.score(X_val, y_val)\n",
    "    \n",
    "    train_size = X_train.shape[0]\n",
    "    val_size = X_val.shape[0]\n",
    "\n",
    "    print(\"Iter : {0} K fold Cross-Validation Score : {1}, Train Data 크기 : {2}, Validation Data 크기 : {3}\"\n",
    "          .format(n_iter, score, train_size, val_size))\n",
    "    \n",
    "    n_iter += 1\n",
    "    model_scores.append(score)\n",
    "\n",
    "print(\"\\n> 평균 검증 모델 점수 : \", np.mean(model_scores)) # 평균 모델 점수 출력\n",
    "print(\"> 테스트 데이터 모델 점수 : \", model.score(test_Xdata,test_ydata))"
   ]
  },
  {
   "cell_type": "code",
   "execution_count": null,
   "metadata": {
    "colab": {},
    "colab_type": "code",
    "id": "z6aoBJ6s6pfV"
   },
   "outputs": [],
   "source": []
  },
  {
   "cell_type": "markdown",
   "metadata": {
    "colab_type": "text",
    "id": "a8KLfegg6pfX"
   },
   "source": [
    "## tensorflow deeplearning"
   ]
  },
  {
   "cell_type": "code",
   "execution_count": null,
   "metadata": {
    "colab": {},
    "colab_type": "code",
    "id": "ymVDzD5J6pfX"
   },
   "outputs": [],
   "source": [
    "from __future__ import absolute_import, division, print_function, unicode_literals, unicode_literals\n",
    "\n",
    "import pathlib\n",
    "\n",
    "import matplotlib.pyplot as plt\n",
    "import pandas as pd\n",
    "import seaborn as sns\n",
    "\n",
    "import tensorflow as tf\n",
    "from tensorflow import keras\n",
    "from tensorflow.keras import layers\n",
    "\n",
    "print(tf.__version__)"
   ]
  },
  {
   "cell_type": "code",
   "execution_count": null,
   "metadata": {
    "colab": {},
    "colab_type": "code",
    "id": "OfxW56Gf6pfZ"
   },
   "outputs": [],
   "source": []
  },
  {
   "cell_type": "code",
   "execution_count": null,
   "metadata": {
    "colab": {},
    "colab_type": "code",
    "id": "3miNX4OI6pfa"
   },
   "outputs": [],
   "source": []
  }
 ],
 "metadata": {
  "colab": {
   "name": "(200708)Movie_data.ipynb",
   "provenance": []
  },
  "kernelspec": {
   "display_name": "Python 3",
   "language": "python",
   "name": "python3"
  },
  "language_info": {
   "codemirror_mode": {
    "name": "ipython",
    "version": 3
   },
   "file_extension": ".py",
   "mimetype": "text/x-python",
   "name": "python",
   "nbconvert_exporter": "python",
   "pygments_lexer": "ipython3",
   "version": "3.6.9"
  },
  "toc": {
   "base_numbering": 1,
   "nav_menu": {},
   "number_sections": true,
   "sideBar": true,
   "skip_h1_title": false,
   "title_cell": "Table of Contents",
   "title_sidebar": "Contents",
   "toc_cell": false,
   "toc_position": {},
   "toc_section_display": true,
   "toc_window_display": false
  },
  "varInspector": {
   "cols": {
    "lenName": 16,
    "lenType": 16,
    "lenVar": 40
   },
   "kernels_config": {
    "python": {
     "delete_cmd_postfix": "",
     "delete_cmd_prefix": "del ",
     "library": "var_list.py",
     "varRefreshCmd": "print(var_dic_list())"
    },
    "r": {
     "delete_cmd_postfix": ") ",
     "delete_cmd_prefix": "rm(",
     "library": "var_list.r",
     "varRefreshCmd": "cat(var_dic_list()) "
    }
   },
   "types_to_exclude": [
    "module",
    "function",
    "builtin_function_or_method",
    "instance",
    "_Feature"
   ],
   "window_display": false
  }
 },
 "nbformat": 4,
 "nbformat_minor": 1
}
