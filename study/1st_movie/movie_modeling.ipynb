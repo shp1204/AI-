{
 "cells": [
  {
   "cell_type": "code",
   "execution_count": 177,
   "metadata": {
    "ExecuteTime": {
     "end_time": "2020-07-09T17:01:57.895764Z",
     "start_time": "2020-07-09T17:01:57.852730Z"
    }
   },
   "outputs": [],
   "source": [
    "import pandas as pd\n",
    "df = pd.read_csv('./data/movies_train.csv')\n",
    "testdf = pd.read_csv('./data/movies_test.csv')"
   ]
  },
  {
   "cell_type": "markdown",
   "metadata": {
    "heading_collapsed": true
   },
   "source": [
    "# 전처리"
   ]
  },
  {
   "cell_type": "code",
   "execution_count": 178,
   "metadata": {
    "ExecuteTime": {
     "end_time": "2020-07-09T17:02:23.283804Z",
     "start_time": "2020-07-09T17:02:23.242776Z"
    },
    "hidden": true
   },
   "outputs": [],
   "source": [
    "# column 삭제\n",
    "def delete_col(df) :\n",
    "    del_list = ['title','dir_prev_bfnum' ,'dir_prev_num','num_staff','num_actor','director'] \n",
    "    for i in del_list :\n",
    "        del df[i]\n",
    "    return df\n",
    "\n",
    "\n",
    "# column 생성\n",
    "def make_col(dataframe, column_name, mapper) :\n",
    "    new = []\n",
    "    for i in dataframe[column_name] :\n",
    "        if i in mapper.keys() :\n",
    "            new.append(mapper.get(i))\n",
    "        else :\n",
    "            new.append(1)\n",
    "    dataframe['new_' + str(column_name)] = pd.DataFrame(new)\n",
    "    del dataframe[column_name]\n",
    "    return dataframe\n",
    "\n",
    "# 배급사 mapping\n",
    "def distributor(df, distributor_mapper) :\n",
    "    return make_col(df, 'distributor', distributor_mapper )\n",
    "    \n",
    "\n",
    "# genre mapping\n",
    "def genre(df) :\n",
    "    tmp = pd.DataFrame(pd.get_dummies(df['genre'], prefix='genre'))\n",
    "    df = pd.concat([df, tmp], axis=1)\n",
    "    del df['genre']\n",
    "    return df\n",
    "\n",
    "# release time\n",
    "def release_time(df) :\n",
    "    years, months, days = [], [], []\n",
    "    for line in df['release_time'] :\n",
    "        a = line.split('-')\n",
    "        years.append(int(a[0]))\n",
    "        months.append(int(a[1]))\n",
    "        days.append(a[2])\n",
    "        \n",
    "    new_days = []\n",
    "    for i in range(len(days)) :\n",
    "        if int(days[i]) >= 20 :\n",
    "            new_days.append(3)\n",
    "        elif int(days[i]) >= 10 :\n",
    "            new_days.append(2)\n",
    "        else :\n",
    "            new_days.append(1)    \n",
    "            \n",
    "    df['release_year'] = pd.DataFrame(years)\n",
    "    df['release_month'] = pd.DataFrame(months)\n",
    "    df['release_day'] = pd.DataFrame(new_days)\n",
    "\n",
    "    del df['release_time']\n",
    "    return df\n",
    "\n",
    "# time \n",
    "def time(df) :\n",
    "    new_time = []\n",
    "    for i in df['time'] :\n",
    "        if i >= 130 :\n",
    "            new_time.append(3)\n",
    "        elif i > 70 : \n",
    "            new_time.append(2)\n",
    "        else :\n",
    "            new_time.append(1)\n",
    "\n",
    "    df['new_time'] = pd.DataFrame(new_time)\n",
    "    del df['time']\n",
    "    return df\n",
    "\n",
    "# screen_rat\n",
    "def screen_rat(df) :\n",
    "    tmp = sorted(df['screening_rat'].unique(), reverse=False)\n",
    "\n",
    "    mapping = {}\n",
    "    num = 1\n",
    "    for i in tmp :\n",
    "        mapping.update({i : num})\n",
    "        num += 1\n",
    "\n",
    "    return make_col(df, 'screening_rat', mapping)\n",
    "    "
   ]
  },
  {
   "cell_type": "code",
   "execution_count": 179,
   "metadata": {
    "ExecuteTime": {
     "end_time": "2020-07-09T17:02:26.381023Z",
     "start_time": "2020-07-09T17:02:26.344980Z"
    },
    "hidden": true
   },
   "outputs": [],
   "source": [
    "# 배급사 mapper는 정해둔다\n",
    "distributor_mapper = df['distributor'].value_counts()\n",
    "distributor_mapper.value_counts()\n",
    "\n",
    "mapping = {}\n",
    "for i in range(len(distributor_mapper)):\n",
    "\n",
    "    if distributor_mapper[i] >= 30 :\n",
    "        mapping.update({ distributor_mapper.index[i] : 4 })\n",
    "\n",
    "    elif distributor_mapper[i] >= 10 :\n",
    "        mapping.update({ distributor_mapper.index[i] : 3 })\n",
    "        \n",
    "    elif distributor_mapper[i] >= 2 :\n",
    "        mapping.update({ distributor_mapper.index[i] : 2 })\n",
    "        \n",
    "    else :\n",
    "        mapping.update({ distributor_mapper.index[i] : 1 })\n"
   ]
  },
  {
   "cell_type": "code",
   "execution_count": 180,
   "metadata": {
    "ExecuteTime": {
     "end_time": "2020-07-09T17:02:27.679946Z",
     "start_time": "2020-07-09T17:02:27.607877Z"
    },
    "hidden": true,
    "scrolled": false
   },
   "outputs": [
    {
     "data": {
      "text/html": [
       "<div>\n",
       "<style scoped>\n",
       "    .dataframe tbody tr th:only-of-type {\n",
       "        vertical-align: middle;\n",
       "    }\n",
       "\n",
       "    .dataframe tbody tr th {\n",
       "        vertical-align: top;\n",
       "    }\n",
       "\n",
       "    .dataframe thead th {\n",
       "        text-align: right;\n",
       "    }\n",
       "</style>\n",
       "<table border=\"1\" class=\"dataframe\">\n",
       "  <thead>\n",
       "    <tr style=\"text-align: right;\">\n",
       "      <th></th>\n",
       "      <th>num_staff</th>\n",
       "      <th>num_actor</th>\n",
       "      <th>box_off_num</th>\n",
       "      <th>new_distributor</th>\n",
       "      <th>release_year</th>\n",
       "      <th>release_month</th>\n",
       "      <th>release_day</th>\n",
       "      <th>new_time</th>\n",
       "      <th>new_screening_rat</th>\n",
       "    </tr>\n",
       "  </thead>\n",
       "  <tbody>\n",
       "    <tr>\n",
       "      <th>0</th>\n",
       "      <td>91</td>\n",
       "      <td>2</td>\n",
       "      <td>23398</td>\n",
       "      <td>4</td>\n",
       "      <td>2012</td>\n",
       "      <td>11</td>\n",
       "      <td>3</td>\n",
       "      <td>2</td>\n",
       "      <td>4</td>\n",
       "    </tr>\n",
       "    <tr>\n",
       "      <th>1</th>\n",
       "      <td>387</td>\n",
       "      <td>3</td>\n",
       "      <td>7072501</td>\n",
       "      <td>3</td>\n",
       "      <td>2015</td>\n",
       "      <td>11</td>\n",
       "      <td>2</td>\n",
       "      <td>3</td>\n",
       "      <td>4</td>\n",
       "    </tr>\n",
       "    <tr>\n",
       "      <th>2</th>\n",
       "      <td>343</td>\n",
       "      <td>4</td>\n",
       "      <td>6959083</td>\n",
       "      <td>3</td>\n",
       "      <td>2013</td>\n",
       "      <td>6</td>\n",
       "      <td>1</td>\n",
       "      <td>2</td>\n",
       "      <td>2</td>\n",
       "    </tr>\n",
       "    <tr>\n",
       "      <th>3</th>\n",
       "      <td>20</td>\n",
       "      <td>6</td>\n",
       "      <td>217866</td>\n",
       "      <td>4</td>\n",
       "      <td>2012</td>\n",
       "      <td>7</td>\n",
       "      <td>2</td>\n",
       "      <td>2</td>\n",
       "      <td>3</td>\n",
       "    </tr>\n",
       "    <tr>\n",
       "      <th>4</th>\n",
       "      <td>251</td>\n",
       "      <td>2</td>\n",
       "      <td>483387</td>\n",
       "      <td>2</td>\n",
       "      <td>2010</td>\n",
       "      <td>11</td>\n",
       "      <td>1</td>\n",
       "      <td>2</td>\n",
       "      <td>2</td>\n",
       "    </tr>\n",
       "    <tr>\n",
       "      <th>...</th>\n",
       "      <td>...</td>\n",
       "      <td>...</td>\n",
       "      <td>...</td>\n",
       "      <td>...</td>\n",
       "      <td>...</td>\n",
       "      <td>...</td>\n",
       "      <td>...</td>\n",
       "      <td>...</td>\n",
       "      <td>...</td>\n",
       "    </tr>\n",
       "    <tr>\n",
       "      <th>595</th>\n",
       "      <td>510</td>\n",
       "      <td>7</td>\n",
       "      <td>1475091</td>\n",
       "      <td>4</td>\n",
       "      <td>2014</td>\n",
       "      <td>8</td>\n",
       "      <td>2</td>\n",
       "      <td>2</td>\n",
       "      <td>4</td>\n",
       "    </tr>\n",
       "    <tr>\n",
       "      <th>596</th>\n",
       "      <td>286</td>\n",
       "      <td>6</td>\n",
       "      <td>1716438</td>\n",
       "      <td>3</td>\n",
       "      <td>2013</td>\n",
       "      <td>3</td>\n",
       "      <td>2</td>\n",
       "      <td>2</td>\n",
       "      <td>2</td>\n",
       "    </tr>\n",
       "    <tr>\n",
       "      <th>597</th>\n",
       "      <td>123</td>\n",
       "      <td>4</td>\n",
       "      <td>2475</td>\n",
       "      <td>3</td>\n",
       "      <td>2010</td>\n",
       "      <td>9</td>\n",
       "      <td>3</td>\n",
       "      <td>2</td>\n",
       "      <td>4</td>\n",
       "    </tr>\n",
       "    <tr>\n",
       "      <th>598</th>\n",
       "      <td>431</td>\n",
       "      <td>4</td>\n",
       "      <td>2192525</td>\n",
       "      <td>4</td>\n",
       "      <td>2015</td>\n",
       "      <td>5</td>\n",
       "      <td>2</td>\n",
       "      <td>2</td>\n",
       "      <td>2</td>\n",
       "    </tr>\n",
       "    <tr>\n",
       "      <th>599</th>\n",
       "      <td>363</td>\n",
       "      <td>5</td>\n",
       "      <td>7166532</td>\n",
       "      <td>4</td>\n",
       "      <td>2013</td>\n",
       "      <td>1</td>\n",
       "      <td>3</td>\n",
       "      <td>2</td>\n",
       "      <td>2</td>\n",
       "    </tr>\n",
       "  </tbody>\n",
       "</table>\n",
       "<p>600 rows × 9 columns</p>\n",
       "</div>"
      ],
      "text/plain": [
       "     num_staff  num_actor  box_off_num  new_distributor  release_year  \\\n",
       "0           91          2        23398                4          2012   \n",
       "1          387          3      7072501                3          2015   \n",
       "2          343          4      6959083                3          2013   \n",
       "3           20          6       217866                4          2012   \n",
       "4          251          2       483387                2          2010   \n",
       "..         ...        ...          ...              ...           ...   \n",
       "595        510          7      1475091                4          2014   \n",
       "596        286          6      1716438                3          2013   \n",
       "597        123          4         2475                3          2010   \n",
       "598        431          4      2192525                4          2015   \n",
       "599        363          5      7166532                4          2013   \n",
       "\n",
       "     release_month  release_day  new_time  new_screening_rat  \n",
       "0               11            3         2                  4  \n",
       "1               11            2         3                  4  \n",
       "2                6            1         2                  2  \n",
       "3                7            2         2                  3  \n",
       "4               11            1         2                  2  \n",
       "..             ...          ...       ...                ...  \n",
       "595              8            2         2                  4  \n",
       "596              3            2         2                  2  \n",
       "597              9            3         2                  4  \n",
       "598              5            2         2                  2  \n",
       "599              1            3         2                  2  \n",
       "\n",
       "[600 rows x 9 columns]"
      ]
     },
     "execution_count": 180,
     "metadata": {},
     "output_type": "execute_result"
    }
   ],
   "source": [
    "delete_col(df)\n",
    "distributor(df, mapping)\n",
    "genre(df)\n",
    "release_time(df)\n",
    "time(df)\n",
    "screen_rat(df)\n",
    "\n",
    "del df['genre']\n",
    "df"
   ]
  },
  {
   "cell_type": "code",
   "execution_count": 181,
   "metadata": {
    "ExecuteTime": {
     "end_time": "2020-07-09T17:02:29.369129Z",
     "start_time": "2020-07-09T17:02:29.291073Z"
    },
    "hidden": true,
    "scrolled": false
   },
   "outputs": [
    {
     "data": {
      "text/html": [
       "<div>\n",
       "<style scoped>\n",
       "    .dataframe tbody tr th:only-of-type {\n",
       "        vertical-align: middle;\n",
       "    }\n",
       "\n",
       "    .dataframe tbody tr th {\n",
       "        vertical-align: top;\n",
       "    }\n",
       "\n",
       "    .dataframe thead th {\n",
       "        text-align: right;\n",
       "    }\n",
       "</style>\n",
       "<table border=\"1\" class=\"dataframe\">\n",
       "  <thead>\n",
       "    <tr style=\"text-align: right;\">\n",
       "      <th></th>\n",
       "      <th>num_staff</th>\n",
       "      <th>num_actor</th>\n",
       "      <th>new_distributor</th>\n",
       "      <th>release_year</th>\n",
       "      <th>release_month</th>\n",
       "      <th>release_day</th>\n",
       "      <th>new_time</th>\n",
       "      <th>new_screening_rat</th>\n",
       "    </tr>\n",
       "  </thead>\n",
       "  <tbody>\n",
       "    <tr>\n",
       "      <th>0</th>\n",
       "      <td>304</td>\n",
       "      <td>3</td>\n",
       "      <td>2</td>\n",
       "      <td>2010</td>\n",
       "      <td>1</td>\n",
       "      <td>1</td>\n",
       "      <td>2</td>\n",
       "      <td>4</td>\n",
       "    </tr>\n",
       "    <tr>\n",
       "      <th>1</th>\n",
       "      <td>275</td>\n",
       "      <td>3</td>\n",
       "      <td>3</td>\n",
       "      <td>2010</td>\n",
       "      <td>1</td>\n",
       "      <td>2</td>\n",
       "      <td>2</td>\n",
       "      <td>1</td>\n",
       "    </tr>\n",
       "    <tr>\n",
       "      <th>2</th>\n",
       "      <td>419</td>\n",
       "      <td>7</td>\n",
       "      <td>4</td>\n",
       "      <td>2010</td>\n",
       "      <td>1</td>\n",
       "      <td>3</td>\n",
       "      <td>2</td>\n",
       "      <td>1</td>\n",
       "    </tr>\n",
       "    <tr>\n",
       "      <th>3</th>\n",
       "      <td>408</td>\n",
       "      <td>2</td>\n",
       "      <td>3</td>\n",
       "      <td>2010</td>\n",
       "      <td>2</td>\n",
       "      <td>1</td>\n",
       "      <td>2</td>\n",
       "      <td>2</td>\n",
       "    </tr>\n",
       "    <tr>\n",
       "      <th>4</th>\n",
       "      <td>380</td>\n",
       "      <td>1</td>\n",
       "      <td>4</td>\n",
       "      <td>2010</td>\n",
       "      <td>2</td>\n",
       "      <td>2</td>\n",
       "      <td>2</td>\n",
       "      <td>2</td>\n",
       "    </tr>\n",
       "    <tr>\n",
       "      <th>...</th>\n",
       "      <td>...</td>\n",
       "      <td>...</td>\n",
       "      <td>...</td>\n",
       "      <td>...</td>\n",
       "      <td>...</td>\n",
       "      <td>...</td>\n",
       "      <td>...</td>\n",
       "      <td>...</td>\n",
       "    </tr>\n",
       "    <tr>\n",
       "      <th>238</th>\n",
       "      <td>4</td>\n",
       "      <td>4</td>\n",
       "      <td>1</td>\n",
       "      <td>2015</td>\n",
       "      <td>11</td>\n",
       "      <td>2</td>\n",
       "      <td>2</td>\n",
       "      <td>2</td>\n",
       "    </tr>\n",
       "    <tr>\n",
       "      <th>239</th>\n",
       "      <td>18</td>\n",
       "      <td>2</td>\n",
       "      <td>3</td>\n",
       "      <td>2015</td>\n",
       "      <td>10</td>\n",
       "      <td>3</td>\n",
       "      <td>2</td>\n",
       "      <td>1</td>\n",
       "    </tr>\n",
       "    <tr>\n",
       "      <th>240</th>\n",
       "      <td>224</td>\n",
       "      <td>4</td>\n",
       "      <td>1</td>\n",
       "      <td>2015</td>\n",
       "      <td>10</td>\n",
       "      <td>3</td>\n",
       "      <td>2</td>\n",
       "      <td>4</td>\n",
       "    </tr>\n",
       "    <tr>\n",
       "      <th>241</th>\n",
       "      <td>68</td>\n",
       "      <td>7</td>\n",
       "      <td>1</td>\n",
       "      <td>2015</td>\n",
       "      <td>10</td>\n",
       "      <td>3</td>\n",
       "      <td>2</td>\n",
       "      <td>4</td>\n",
       "    </tr>\n",
       "    <tr>\n",
       "      <th>242</th>\n",
       "      <td>10</td>\n",
       "      <td>4</td>\n",
       "      <td>3</td>\n",
       "      <td>2015</td>\n",
       "      <td>10</td>\n",
       "      <td>3</td>\n",
       "      <td>2</td>\n",
       "      <td>4</td>\n",
       "    </tr>\n",
       "  </tbody>\n",
       "</table>\n",
       "<p>243 rows × 8 columns</p>\n",
       "</div>"
      ],
      "text/plain": [
       "     num_staff  num_actor  new_distributor  release_year  release_month  \\\n",
       "0          304          3                2          2010              1   \n",
       "1          275          3                3          2010              1   \n",
       "2          419          7                4          2010              1   \n",
       "3          408          2                3          2010              2   \n",
       "4          380          1                4          2010              2   \n",
       "..         ...        ...              ...           ...            ...   \n",
       "238          4          4                1          2015             11   \n",
       "239         18          2                3          2015             10   \n",
       "240        224          4                1          2015             10   \n",
       "241         68          7                1          2015             10   \n",
       "242         10          4                3          2015             10   \n",
       "\n",
       "     release_day  new_time  new_screening_rat  \n",
       "0              1         2                  4  \n",
       "1              2         2                  1  \n",
       "2              3         2                  1  \n",
       "3              1         2                  2  \n",
       "4              2         2                  2  \n",
       "..           ...       ...                ...  \n",
       "238            2         2                  2  \n",
       "239            3         2                  1  \n",
       "240            3         2                  4  \n",
       "241            3         2                  4  \n",
       "242            3         2                  4  \n",
       "\n",
       "[243 rows x 8 columns]"
      ]
     },
     "execution_count": 181,
     "metadata": {},
     "output_type": "execute_result"
    }
   ],
   "source": [
    "delete_col(testdf)\n",
    "distributor(testdf, mapping)\n",
    "genre(testdf)\n",
    "release_time(testdf)\n",
    "time(testdf)\n",
    "screen_rat(testdf)\n",
    "\n",
    "del testdf['genre']\n",
    "testdf"
   ]
  },
  {
   "cell_type": "markdown",
   "metadata": {},
   "source": [
    "# 모델링"
   ]
  },
  {
   "cell_type": "code",
   "execution_count": 182,
   "metadata": {
    "ExecuteTime": {
     "end_time": "2020-07-09T17:02:33.842309Z",
     "start_time": "2020-07-09T17:02:33.832302Z"
    }
   },
   "outputs": [],
   "source": [
    "train_Y = df['box_off_num']\n",
    "train_X = df.drop(['box_off_num'], axis=1)\n",
    "\n",
    "test_X = testdf"
   ]
  },
  {
   "cell_type": "code",
   "execution_count": 117,
   "metadata": {
    "ExecuteTime": {
     "end_time": "2020-07-09T16:15:28.621400Z",
     "start_time": "2020-07-09T16:15:28.614393Z"
    }
   },
   "outputs": [],
   "source": [
    "# 저장함수\n",
    "def save_file(prediction, number) :\n",
    "    sub = pd.read_csv('./data/submission.csv')\n",
    "    sub['box_off_num'] = prediction\n",
    "    sub.to_csv('./submission/submission' + str(number) + '.csv', index=False)\n",
    "    return print('done')"
   ]
  },
  {
   "cell_type": "markdown",
   "metadata": {
    "heading_collapsed": true
   },
   "source": [
    "## 사이킷런"
   ]
  },
  {
   "cell_type": "code",
   "execution_count": 183,
   "metadata": {
    "ExecuteTime": {
     "end_time": "2020-07-09T17:02:36.845443Z",
     "start_time": "2020-07-09T17:02:36.830431Z"
    },
    "hidden": true
   },
   "outputs": [],
   "source": [
    "from sklearn import linear_model\n",
    "\n",
    "lm = linear_model.LinearRegression()\n",
    "lm.fit(train_X, train_Y)\n",
    "\n",
    "prediction = lm.predict(test_X)"
   ]
  },
  {
   "cell_type": "code",
   "execution_count": 119,
   "metadata": {
    "ExecuteTime": {
     "end_time": "2020-07-09T16:16:03.032855Z",
     "start_time": "2020-07-09T16:16:03.009841Z"
    },
    "hidden": true,
    "scrolled": false
   },
   "outputs": [
    {
     "name": "stdout",
     "output_type": "stream",
     "text": [
      "done\n"
     ]
    }
   ],
   "source": [
    "save_file(prediction, 1)\n",
    "# 1744049.2329963981\t"
   ]
  },
  {
   "cell_type": "code",
   "execution_count": 184,
   "metadata": {
    "ExecuteTime": {
     "end_time": "2020-07-09T17:03:05.240624Z",
     "start_time": "2020-07-09T17:03:05.213606Z"
    },
    "hidden": true
   },
   "outputs": [
    {
     "name": "stdout",
     "output_type": "stream",
     "text": [
      "done\n"
     ]
    }
   ],
   "source": [
    "save_file(prediction, 4)\n",
    "# 1509223.1428086378\t , 'num_staff','num_actor'를 추가하였을 때"
   ]
  },
  {
   "cell_type": "markdown",
   "metadata": {
    "heading_collapsed": true
   },
   "source": [
    "## tensorflow"
   ]
  },
  {
   "cell_type": "code",
   "execution_count": 185,
   "metadata": {
    "ExecuteTime": {
     "end_time": "2020-07-09T17:09:07.244903Z",
     "start_time": "2020-07-09T17:04:19.963730Z"
    },
    "hidden": true
   },
   "outputs": [
    {
     "name": "stdout",
     "output_type": "stream",
     "text": [
      "cost값은 : 3835362017280.0\n",
      "cost값은 : 2346045669376.0\n",
      "cost값은 : 2344372928512.0\n",
      "cost값은 : 2342798229504.0\n",
      "cost값은 : 2341311610880.0\n",
      "cost값은 : 2339906256896.0\n",
      "cost값은 : 2338578497536.0\n",
      "cost값은 : 2337319944192.0\n",
      "cost값은 : 2336127975424.0\n",
      "cost값은 : 2334994464768.0\n"
     ]
    }
   ],
   "source": [
    "import tensorflow as tf\n",
    "import numpy as np\n",
    "\n",
    "X = tf.placeholder(shape = [None,8], dtype=tf.float32)\n",
    "Y = tf.placeholder(shape = [None,1], dtype=tf.float32)\n",
    "\n",
    "W = tf.Variable(tf.random_normal([8,1]), name='weight')\n",
    "b = tf.Variable(tf.random_normal([1]), name = 'bias')\n",
    "\n",
    "H = tf.matmul(X, W) + b\n",
    "\n",
    "cost = tf.reduce_mean(tf.square(H-Y))\n",
    "\n",
    "optimizer = tf.train.GradientDescentOptimizer(learning_rate = 0.0000001)\n",
    "train = optimizer.minimize(cost)\n",
    "\n",
    "sess = tf.Session()\n",
    "sess.run(tf.global_variables_initializer())\n",
    "\n",
    "for step in range(300000) :\n",
    "    _, cost_val = sess.run([train, cost],\n",
    "                          feed_dict = {\n",
    "                              X : train_X.values,\n",
    "                              Y : train_Y.values.reshape(-1,1)\n",
    "                          })\n",
    "    if step % 30000 == 0 :\n",
    "        print('cost값은 : {}'.format(cost_val))\n",
    "    \n",
    "prediction = sess.run(H, feed_dict = {X : test_X.values, })"
   ]
  },
  {
   "cell_type": "code",
   "execution_count": 172,
   "metadata": {
    "ExecuteTime": {
     "end_time": "2020-07-09T16:39:58.758239Z",
     "start_time": "2020-07-09T16:39:58.739227Z"
    },
    "hidden": true,
    "scrolled": true
   },
   "outputs": [
    {
     "name": "stdout",
     "output_type": "stream",
     "text": [
      "done\n"
     ]
    }
   ],
   "source": [
    "save_file(prediction, 2)\n",
    "# learning_rate = 0.0000001\n",
    "# 30000번 학습\n",
    "# \t1857916.1853515022\t "
   ]
  },
  {
   "cell_type": "code",
   "execution_count": 176,
   "metadata": {
    "ExecuteTime": {
     "end_time": "2020-07-09T16:45:41.952149Z",
     "start_time": "2020-07-09T16:45:41.911120Z"
    },
    "hidden": true
   },
   "outputs": [
    {
     "name": "stdout",
     "output_type": "stream",
     "text": [
      "done\n"
     ]
    }
   ],
   "source": [
    "save_file(prediction, 3)\n",
    "# 300000번 학습\n",
    "# 1844690.7292044302\t"
   ]
  },
  {
   "cell_type": "code",
   "execution_count": 186,
   "metadata": {
    "ExecuteTime": {
     "end_time": "2020-07-09T17:09:07.627174Z",
     "start_time": "2020-07-09T17:09:07.597153Z"
    },
    "hidden": true
   },
   "outputs": [
    {
     "name": "stdout",
     "output_type": "stream",
     "text": [
      "done\n"
     ]
    }
   ],
   "source": [
    "save_file(prediction, 5)\n",
    "# num_staff','num_actor'를 추가하였을 때 \n",
    "# \t1493283.9481655352\t"
   ]
  }
 ],
 "metadata": {
  "kernelspec": {
   "display_name": "Python [conda env:cpu_env] *",
   "language": "python",
   "name": "conda-env-cpu_env-py"
  },
  "language_info": {
   "codemirror_mode": {
    "name": "ipython",
    "version": 3
   },
   "file_extension": ".py",
   "mimetype": "text/x-python",
   "name": "python",
   "nbconvert_exporter": "python",
   "pygments_lexer": "ipython3",
   "version": "3.6.9"
  },
  "toc": {
   "base_numbering": 1,
   "nav_menu": {},
   "number_sections": true,
   "sideBar": true,
   "skip_h1_title": false,
   "title_cell": "Table of Contents",
   "title_sidebar": "Contents",
   "toc_cell": false,
   "toc_position": {},
   "toc_section_display": true,
   "toc_window_display": false
  },
  "varInspector": {
   "cols": {
    "lenName": 16,
    "lenType": 16,
    "lenVar": 40
   },
   "kernels_config": {
    "python": {
     "delete_cmd_postfix": "",
     "delete_cmd_prefix": "del ",
     "library": "var_list.py",
     "varRefreshCmd": "print(var_dic_list())"
    },
    "r": {
     "delete_cmd_postfix": ") ",
     "delete_cmd_prefix": "rm(",
     "library": "var_list.r",
     "varRefreshCmd": "cat(var_dic_list()) "
    }
   },
   "types_to_exclude": [
    "module",
    "function",
    "builtin_function_or_method",
    "instance",
    "_Feature"
   ],
   "window_display": false
  }
 },
 "nbformat": 4,
 "nbformat_minor": 2
}
