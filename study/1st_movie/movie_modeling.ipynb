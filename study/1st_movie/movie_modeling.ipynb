{
 "cells": [
  {
   "cell_type": "code",
   "execution_count": 7,
   "metadata": {
    "ExecuteTime": {
     "end_time": "2020-07-13T07:12:38.413356Z",
     "start_time": "2020-07-13T07:12:38.387339Z"
    }
   },
   "outputs": [],
   "source": [
    "import pandas as pd\n",
    "df = pd.read_csv('./data/movies_train.csv')\n",
    "testdf = pd.read_csv('./data/movies_test.csv')"
   ]
  },
  {
   "cell_type": "code",
   "execution_count": 8,
   "metadata": {
    "ExecuteTime": {
     "end_time": "2020-07-13T07:12:40.517849Z",
     "start_time": "2020-07-13T07:12:40.459808Z"
    }
   },
   "outputs": [
    {
     "data": {
      "text/html": [
       "<div>\n",
       "<style scoped>\n",
       "    .dataframe tbody tr th:only-of-type {\n",
       "        vertical-align: middle;\n",
       "    }\n",
       "\n",
       "    .dataframe tbody tr th {\n",
       "        vertical-align: top;\n",
       "    }\n",
       "\n",
       "    .dataframe thead th {\n",
       "        text-align: right;\n",
       "    }\n",
       "</style>\n",
       "<table border=\"1\" class=\"dataframe\">\n",
       "  <thead>\n",
       "    <tr style=\"text-align: right;\">\n",
       "      <th></th>\n",
       "      <th>time</th>\n",
       "      <th>dir_prev_bfnum</th>\n",
       "      <th>dir_prev_num</th>\n",
       "      <th>num_staff</th>\n",
       "      <th>num_actor</th>\n",
       "      <th>box_off_num</th>\n",
       "    </tr>\n",
       "  </thead>\n",
       "  <tbody>\n",
       "    <tr>\n",
       "      <th>time</th>\n",
       "      <td>1.000000</td>\n",
       "      <td>0.264675</td>\n",
       "      <td>0.306727</td>\n",
       "      <td>0.623205</td>\n",
       "      <td>0.114153</td>\n",
       "      <td>0.441452</td>\n",
       "    </tr>\n",
       "    <tr>\n",
       "      <th>dir_prev_bfnum</th>\n",
       "      <td>0.264675</td>\n",
       "      <td>1.000000</td>\n",
       "      <td>0.131822</td>\n",
       "      <td>0.323521</td>\n",
       "      <td>0.083818</td>\n",
       "      <td>0.283184</td>\n",
       "    </tr>\n",
       "    <tr>\n",
       "      <th>dir_prev_num</th>\n",
       "      <td>0.306727</td>\n",
       "      <td>0.131822</td>\n",
       "      <td>1.000000</td>\n",
       "      <td>0.450706</td>\n",
       "      <td>0.014006</td>\n",
       "      <td>0.259674</td>\n",
       "    </tr>\n",
       "    <tr>\n",
       "      <th>num_staff</th>\n",
       "      <td>0.623205</td>\n",
       "      <td>0.323521</td>\n",
       "      <td>0.450706</td>\n",
       "      <td>1.000000</td>\n",
       "      <td>0.077871</td>\n",
       "      <td>0.544265</td>\n",
       "    </tr>\n",
       "    <tr>\n",
       "      <th>num_actor</th>\n",
       "      <td>0.114153</td>\n",
       "      <td>0.083818</td>\n",
       "      <td>0.014006</td>\n",
       "      <td>0.077871</td>\n",
       "      <td>1.000000</td>\n",
       "      <td>0.111179</td>\n",
       "    </tr>\n",
       "    <tr>\n",
       "      <th>box_off_num</th>\n",
       "      <td>0.441452</td>\n",
       "      <td>0.283184</td>\n",
       "      <td>0.259674</td>\n",
       "      <td>0.544265</td>\n",
       "      <td>0.111179</td>\n",
       "      <td>1.000000</td>\n",
       "    </tr>\n",
       "  </tbody>\n",
       "</table>\n",
       "</div>"
      ],
      "text/plain": [
       "                    time  dir_prev_bfnum  dir_prev_num  num_staff  num_actor  \\\n",
       "time            1.000000        0.264675      0.306727   0.623205   0.114153   \n",
       "dir_prev_bfnum  0.264675        1.000000      0.131822   0.323521   0.083818   \n",
       "dir_prev_num    0.306727        0.131822      1.000000   0.450706   0.014006   \n",
       "num_staff       0.623205        0.323521      0.450706   1.000000   0.077871   \n",
       "num_actor       0.114153        0.083818      0.014006   0.077871   1.000000   \n",
       "box_off_num     0.441452        0.283184      0.259674   0.544265   0.111179   \n",
       "\n",
       "                box_off_num  \n",
       "time               0.441452  \n",
       "dir_prev_bfnum     0.283184  \n",
       "dir_prev_num       0.259674  \n",
       "num_staff          0.544265  \n",
       "num_actor          0.111179  \n",
       "box_off_num        1.000000  "
      ]
     },
     "execution_count": 8,
     "metadata": {},
     "output_type": "execute_result"
    }
   ],
   "source": [
    "df.corr()"
   ]
  },
  {
   "cell_type": "markdown",
   "metadata": {},
   "source": [
    "# 전처리"
   ]
  },
  {
   "cell_type": "code",
   "execution_count": 9,
   "metadata": {
    "ExecuteTime": {
     "end_time": "2020-07-13T07:12:43.252794Z",
     "start_time": "2020-07-13T07:12:43.241804Z"
    }
   },
   "outputs": [],
   "source": [
    "# column 삭제\n",
    "def delete_col(df) :\n",
    "    del_list = ['title','director']  # 'num_staff','num_actor','dir_prev_num','dir_prev_bfnum' ,\n",
    "    for i in del_list :\n",
    "        del df[i]\n",
    "    return df\n",
    "\n",
    "\n",
    "# column 생성\n",
    "def make_col(dataframe, column_name, mapper) :\n",
    "    new = []\n",
    "    for i in dataframe[column_name] :\n",
    "        if i in mapper.keys() :\n",
    "            new.append(mapper.get(i))\n",
    "        else :\n",
    "            new.append(1)\n",
    "    dataframe['new_' + str(column_name)] = pd.DataFrame(new)\n",
    "    del dataframe[column_name]\n",
    "    return dataframe"
   ]
  },
  {
   "cell_type": "code",
   "execution_count": 10,
   "metadata": {
    "ExecuteTime": {
     "end_time": "2020-07-13T07:12:45.034059Z",
     "start_time": "2020-07-13T07:12:45.018049Z"
    }
   },
   "outputs": [],
   "source": [
    "# 배급사 mapping\n",
    "def distributor(df, distributor_mapper) :\n",
    "    return make_col(df, 'distributor', distributor_mapper )\n",
    "    \n",
    "# genre mapping\n",
    "def genre(df) :\n",
    "    df = pd.get_dummies(df, columns=['genre'], prefix='genre')\n",
    "    return df\n",
    "\n",
    "# release time\n",
    "def release_time(df) :\n",
    "    years, months, days = [], [], []\n",
    "    for line in df['release_time'] :\n",
    "        a = line.split('-')\n",
    "        years.append(int(a[0]))\n",
    "        months.append(int(a[1]))\n",
    "        days.append(a[2])\n",
    "        \n",
    "    new_days = []\n",
    "    for i in range(len(days)) :\n",
    "        if int(days[i]) >= 20 :\n",
    "            new_days.append(3)\n",
    "        elif int(days[i]) >= 10 :\n",
    "            new_days.append(2)\n",
    "        else :\n",
    "            new_days.append(1)    \n",
    "            \n",
    "    df['release_year'] = pd.DataFrame(years)\n",
    "    df['release_month'] = pd.DataFrame(months)\n",
    "    df['release_day'] = pd.DataFrame(new_days)\n",
    "\n",
    "    del df['release_time']\n",
    "    return df\n",
    "\n",
    "def screen_rat(df) :\n",
    "    df = pd.get_dummies(df, columns=['screening_rat'], prefix='genre')\n",
    "    return df"
   ]
  },
  {
   "cell_type": "code",
   "execution_count": 11,
   "metadata": {
    "ExecuteTime": {
     "end_time": "2020-07-13T07:12:48.196310Z",
     "start_time": "2020-07-13T07:12:48.150275Z"
    }
   },
   "outputs": [],
   "source": [
    "# 배급사 mapper는 정해둔다\n",
    "distributor_mapper = df['distributor'].value_counts()\n",
    "distributor_mapper.value_counts()\n",
    "\n",
    "mapping = {}\n",
    "for i in range(len(distributor_mapper)):\n",
    "\n",
    "    if distributor_mapper[i] >= 40 :\n",
    "        mapping.update({ distributor_mapper.index[i] : 6 })\n",
    "        \n",
    "    elif distributor_mapper[i] >= 30 :\n",
    "        mapping.update({ distributor_mapper.index[i] : 5 })\n",
    "        \n",
    "    elif distributor_mapper[i] >= 20 :\n",
    "        mapping.update({ distributor_mapper.index[i] : 4 })\n",
    "        \n",
    "    elif distributor_mapper[i] >= 10 :\n",
    "        mapping.update({ distributor_mapper.index[i] : 3 })\n",
    "        \n",
    "    elif distributor_mapper[i] >= 2 :\n",
    "        mapping.update({ distributor_mapper.index[i] : 2 })\n",
    "        \n",
    "    else :\n",
    "        mapping.update({ distributor_mapper.index[i] : 1 })\n"
   ]
  },
  {
   "cell_type": "code",
   "execution_count": 12,
   "metadata": {
    "ExecuteTime": {
     "end_time": "2020-07-13T07:12:51.480641Z",
     "start_time": "2020-07-13T07:12:51.343547Z"
    },
    "scrolled": false
   },
   "outputs": [
    {
     "data": {
      "text/html": [
       "<div>\n",
       "<style scoped>\n",
       "    .dataframe tbody tr th:only-of-type {\n",
       "        vertical-align: middle;\n",
       "    }\n",
       "\n",
       "    .dataframe tbody tr th {\n",
       "        vertical-align: top;\n",
       "    }\n",
       "\n",
       "    .dataframe thead th {\n",
       "        text-align: right;\n",
       "    }\n",
       "</style>\n",
       "<table border=\"1\" class=\"dataframe\">\n",
       "  <thead>\n",
       "    <tr style=\"text-align: right;\">\n",
       "      <th></th>\n",
       "      <th>time</th>\n",
       "      <th>dir_prev_bfnum</th>\n",
       "      <th>dir_prev_num</th>\n",
       "      <th>num_staff</th>\n",
       "      <th>num_actor</th>\n",
       "      <th>box_off_num</th>\n",
       "      <th>new_distributor</th>\n",
       "      <th>genre_SF</th>\n",
       "      <th>genre_공포</th>\n",
       "      <th>genre_느와르</th>\n",
       "      <th>...</th>\n",
       "      <th>genre_애니메이션</th>\n",
       "      <th>genre_액션</th>\n",
       "      <th>genre_코미디</th>\n",
       "      <th>release_year</th>\n",
       "      <th>release_month</th>\n",
       "      <th>release_day</th>\n",
       "      <th>genre_12세 관람가</th>\n",
       "      <th>genre_15세 관람가</th>\n",
       "      <th>genre_전체 관람가</th>\n",
       "      <th>genre_청소년 관람불가</th>\n",
       "    </tr>\n",
       "  </thead>\n",
       "  <tbody>\n",
       "    <tr>\n",
       "      <th>0</th>\n",
       "      <td>96</td>\n",
       "      <td>0.00</td>\n",
       "      <td>0</td>\n",
       "      <td>91</td>\n",
       "      <td>2</td>\n",
       "      <td>23398</td>\n",
       "      <td>6</td>\n",
       "      <td>0</td>\n",
       "      <td>0</td>\n",
       "      <td>0</td>\n",
       "      <td>...</td>\n",
       "      <td>0</td>\n",
       "      <td>1</td>\n",
       "      <td>0</td>\n",
       "      <td>2012</td>\n",
       "      <td>11</td>\n",
       "      <td>3</td>\n",
       "      <td>0</td>\n",
       "      <td>0</td>\n",
       "      <td>0</td>\n",
       "      <td>1</td>\n",
       "    </tr>\n",
       "    <tr>\n",
       "      <th>1</th>\n",
       "      <td>130</td>\n",
       "      <td>1161602.50</td>\n",
       "      <td>2</td>\n",
       "      <td>387</td>\n",
       "      <td>3</td>\n",
       "      <td>7072501</td>\n",
       "      <td>4</td>\n",
       "      <td>0</td>\n",
       "      <td>0</td>\n",
       "      <td>1</td>\n",
       "      <td>...</td>\n",
       "      <td>0</td>\n",
       "      <td>0</td>\n",
       "      <td>0</td>\n",
       "      <td>2015</td>\n",
       "      <td>11</td>\n",
       "      <td>2</td>\n",
       "      <td>0</td>\n",
       "      <td>0</td>\n",
       "      <td>0</td>\n",
       "      <td>1</td>\n",
       "    </tr>\n",
       "    <tr>\n",
       "      <th>2</th>\n",
       "      <td>123</td>\n",
       "      <td>220775.25</td>\n",
       "      <td>4</td>\n",
       "      <td>343</td>\n",
       "      <td>4</td>\n",
       "      <td>6959083</td>\n",
       "      <td>4</td>\n",
       "      <td>0</td>\n",
       "      <td>0</td>\n",
       "      <td>0</td>\n",
       "      <td>...</td>\n",
       "      <td>0</td>\n",
       "      <td>1</td>\n",
       "      <td>0</td>\n",
       "      <td>2013</td>\n",
       "      <td>6</td>\n",
       "      <td>1</td>\n",
       "      <td>0</td>\n",
       "      <td>1</td>\n",
       "      <td>0</td>\n",
       "      <td>0</td>\n",
       "    </tr>\n",
       "    <tr>\n",
       "      <th>3</th>\n",
       "      <td>101</td>\n",
       "      <td>23894.00</td>\n",
       "      <td>2</td>\n",
       "      <td>20</td>\n",
       "      <td>6</td>\n",
       "      <td>217866</td>\n",
       "      <td>5</td>\n",
       "      <td>0</td>\n",
       "      <td>0</td>\n",
       "      <td>0</td>\n",
       "      <td>...</td>\n",
       "      <td>0</td>\n",
       "      <td>0</td>\n",
       "      <td>1</td>\n",
       "      <td>2012</td>\n",
       "      <td>7</td>\n",
       "      <td>2</td>\n",
       "      <td>0</td>\n",
       "      <td>0</td>\n",
       "      <td>1</td>\n",
       "      <td>0</td>\n",
       "    </tr>\n",
       "    <tr>\n",
       "      <th>4</th>\n",
       "      <td>108</td>\n",
       "      <td>1.00</td>\n",
       "      <td>1</td>\n",
       "      <td>251</td>\n",
       "      <td>2</td>\n",
       "      <td>483387</td>\n",
       "      <td>2</td>\n",
       "      <td>0</td>\n",
       "      <td>0</td>\n",
       "      <td>0</td>\n",
       "      <td>...</td>\n",
       "      <td>0</td>\n",
       "      <td>0</td>\n",
       "      <td>1</td>\n",
       "      <td>2010</td>\n",
       "      <td>11</td>\n",
       "      <td>1</td>\n",
       "      <td>0</td>\n",
       "      <td>1</td>\n",
       "      <td>0</td>\n",
       "      <td>0</td>\n",
       "    </tr>\n",
       "    <tr>\n",
       "      <th>...</th>\n",
       "      <td>...</td>\n",
       "      <td>...</td>\n",
       "      <td>...</td>\n",
       "      <td>...</td>\n",
       "      <td>...</td>\n",
       "      <td>...</td>\n",
       "      <td>...</td>\n",
       "      <td>...</td>\n",
       "      <td>...</td>\n",
       "      <td>...</td>\n",
       "      <td>...</td>\n",
       "      <td>...</td>\n",
       "      <td>...</td>\n",
       "      <td>...</td>\n",
       "      <td>...</td>\n",
       "      <td>...</td>\n",
       "      <td>...</td>\n",
       "      <td>...</td>\n",
       "      <td>...</td>\n",
       "      <td>...</td>\n",
       "      <td>...</td>\n",
       "    </tr>\n",
       "    <tr>\n",
       "      <th>595</th>\n",
       "      <td>111</td>\n",
       "      <td>3833.00</td>\n",
       "      <td>1</td>\n",
       "      <td>510</td>\n",
       "      <td>7</td>\n",
       "      <td>1475091</td>\n",
       "      <td>5</td>\n",
       "      <td>0</td>\n",
       "      <td>0</td>\n",
       "      <td>0</td>\n",
       "      <td>...</td>\n",
       "      <td>0</td>\n",
       "      <td>0</td>\n",
       "      <td>0</td>\n",
       "      <td>2014</td>\n",
       "      <td>8</td>\n",
       "      <td>2</td>\n",
       "      <td>0</td>\n",
       "      <td>0</td>\n",
       "      <td>0</td>\n",
       "      <td>1</td>\n",
       "    </tr>\n",
       "    <tr>\n",
       "      <th>596</th>\n",
       "      <td>127</td>\n",
       "      <td>496061.00</td>\n",
       "      <td>1</td>\n",
       "      <td>286</td>\n",
       "      <td>6</td>\n",
       "      <td>1716438</td>\n",
       "      <td>4</td>\n",
       "      <td>0</td>\n",
       "      <td>0</td>\n",
       "      <td>0</td>\n",
       "      <td>...</td>\n",
       "      <td>0</td>\n",
       "      <td>0</td>\n",
       "      <td>0</td>\n",
       "      <td>2013</td>\n",
       "      <td>3</td>\n",
       "      <td>2</td>\n",
       "      <td>0</td>\n",
       "      <td>1</td>\n",
       "      <td>0</td>\n",
       "      <td>0</td>\n",
       "    </tr>\n",
       "    <tr>\n",
       "      <th>597</th>\n",
       "      <td>99</td>\n",
       "      <td>0.00</td>\n",
       "      <td>0</td>\n",
       "      <td>123</td>\n",
       "      <td>4</td>\n",
       "      <td>2475</td>\n",
       "      <td>4</td>\n",
       "      <td>0</td>\n",
       "      <td>1</td>\n",
       "      <td>0</td>\n",
       "      <td>...</td>\n",
       "      <td>0</td>\n",
       "      <td>0</td>\n",
       "      <td>0</td>\n",
       "      <td>2010</td>\n",
       "      <td>9</td>\n",
       "      <td>3</td>\n",
       "      <td>0</td>\n",
       "      <td>0</td>\n",
       "      <td>0</td>\n",
       "      <td>1</td>\n",
       "    </tr>\n",
       "    <tr>\n",
       "      <th>598</th>\n",
       "      <td>102</td>\n",
       "      <td>0.00</td>\n",
       "      <td>0</td>\n",
       "      <td>431</td>\n",
       "      <td>4</td>\n",
       "      <td>2192525</td>\n",
       "      <td>6</td>\n",
       "      <td>0</td>\n",
       "      <td>0</td>\n",
       "      <td>1</td>\n",
       "      <td>...</td>\n",
       "      <td>0</td>\n",
       "      <td>0</td>\n",
       "      <td>0</td>\n",
       "      <td>2015</td>\n",
       "      <td>5</td>\n",
       "      <td>2</td>\n",
       "      <td>0</td>\n",
       "      <td>1</td>\n",
       "      <td>0</td>\n",
       "      <td>0</td>\n",
       "    </tr>\n",
       "    <tr>\n",
       "      <th>599</th>\n",
       "      <td>120</td>\n",
       "      <td>0.00</td>\n",
       "      <td>0</td>\n",
       "      <td>363</td>\n",
       "      <td>5</td>\n",
       "      <td>7166532</td>\n",
       "      <td>6</td>\n",
       "      <td>0</td>\n",
       "      <td>0</td>\n",
       "      <td>0</td>\n",
       "      <td>...</td>\n",
       "      <td>0</td>\n",
       "      <td>1</td>\n",
       "      <td>0</td>\n",
       "      <td>2013</td>\n",
       "      <td>1</td>\n",
       "      <td>3</td>\n",
       "      <td>0</td>\n",
       "      <td>1</td>\n",
       "      <td>0</td>\n",
       "      <td>0</td>\n",
       "    </tr>\n",
       "  </tbody>\n",
       "</table>\n",
       "<p>600 rows × 26 columns</p>\n",
       "</div>"
      ],
      "text/plain": [
       "     time  dir_prev_bfnum  dir_prev_num  num_staff  num_actor  box_off_num  \\\n",
       "0      96            0.00             0         91          2        23398   \n",
       "1     130      1161602.50             2        387          3      7072501   \n",
       "2     123       220775.25             4        343          4      6959083   \n",
       "3     101        23894.00             2         20          6       217866   \n",
       "4     108            1.00             1        251          2       483387   \n",
       "..    ...             ...           ...        ...        ...          ...   \n",
       "595   111         3833.00             1        510          7      1475091   \n",
       "596   127       496061.00             1        286          6      1716438   \n",
       "597    99            0.00             0        123          4         2475   \n",
       "598   102            0.00             0        431          4      2192525   \n",
       "599   120            0.00             0        363          5      7166532   \n",
       "\n",
       "     new_distributor  genre_SF  genre_공포  genre_느와르  ...  genre_애니메이션  \\\n",
       "0                  6         0         0          0  ...            0   \n",
       "1                  4         0         0          1  ...            0   \n",
       "2                  4         0         0          0  ...            0   \n",
       "3                  5         0         0          0  ...            0   \n",
       "4                  2         0         0          0  ...            0   \n",
       "..               ...       ...       ...        ...  ...          ...   \n",
       "595                5         0         0          0  ...            0   \n",
       "596                4         0         0          0  ...            0   \n",
       "597                4         0         1          0  ...            0   \n",
       "598                6         0         0          1  ...            0   \n",
       "599                6         0         0          0  ...            0   \n",
       "\n",
       "     genre_액션  genre_코미디  release_year  release_month  release_day  \\\n",
       "0           1          0          2012             11            3   \n",
       "1           0          0          2015             11            2   \n",
       "2           1          0          2013              6            1   \n",
       "3           0          1          2012              7            2   \n",
       "4           0          1          2010             11            1   \n",
       "..        ...        ...           ...            ...          ...   \n",
       "595         0          0          2014              8            2   \n",
       "596         0          0          2013              3            2   \n",
       "597         0          0          2010              9            3   \n",
       "598         0          0          2015              5            2   \n",
       "599         1          0          2013              1            3   \n",
       "\n",
       "     genre_12세 관람가  genre_15세 관람가  genre_전체 관람가  genre_청소년 관람불가  \n",
       "0                0              0             0               1  \n",
       "1                0              0             0               1  \n",
       "2                0              1             0               0  \n",
       "3                0              0             1               0  \n",
       "4                0              1             0               0  \n",
       "..             ...            ...           ...             ...  \n",
       "595              0              0             0               1  \n",
       "596              0              1             0               0  \n",
       "597              0              0             0               1  \n",
       "598              0              1             0               0  \n",
       "599              0              1             0               0  \n",
       "\n",
       "[600 rows x 26 columns]"
      ]
     },
     "execution_count": 12,
     "metadata": {},
     "output_type": "execute_result"
    }
   ],
   "source": [
    "df = df.fillna(0)\n",
    "df = delete_col(df)\n",
    "df = distributor(df, mapping)\n",
    "df = genre(df)\n",
    "df = release_time(df)\n",
    "# df = time(df)\n",
    "# df = staff(df)\n",
    "# df = actor(df)\n",
    "df = screen_rat(df)\n",
    "\n",
    "df"
   ]
  },
  {
   "cell_type": "code",
   "execution_count": 13,
   "metadata": {
    "ExecuteTime": {
     "end_time": "2020-07-13T07:12:56.286056Z",
     "start_time": "2020-07-13T07:12:56.183001Z"
    },
    "scrolled": false
   },
   "outputs": [
    {
     "data": {
      "text/html": [
       "<div>\n",
       "<style scoped>\n",
       "    .dataframe tbody tr th:only-of-type {\n",
       "        vertical-align: middle;\n",
       "    }\n",
       "\n",
       "    .dataframe tbody tr th {\n",
       "        vertical-align: top;\n",
       "    }\n",
       "\n",
       "    .dataframe thead th {\n",
       "        text-align: right;\n",
       "    }\n",
       "</style>\n",
       "<table border=\"1\" class=\"dataframe\">\n",
       "  <thead>\n",
       "    <tr style=\"text-align: right;\">\n",
       "      <th></th>\n",
       "      <th>time</th>\n",
       "      <th>dir_prev_bfnum</th>\n",
       "      <th>dir_prev_num</th>\n",
       "      <th>num_staff</th>\n",
       "      <th>num_actor</th>\n",
       "      <th>new_distributor</th>\n",
       "      <th>genre_SF</th>\n",
       "      <th>genre_공포</th>\n",
       "      <th>genre_느와르</th>\n",
       "      <th>genre_다큐멘터리</th>\n",
       "      <th>...</th>\n",
       "      <th>genre_애니메이션</th>\n",
       "      <th>genre_액션</th>\n",
       "      <th>genre_코미디</th>\n",
       "      <th>release_year</th>\n",
       "      <th>release_month</th>\n",
       "      <th>release_day</th>\n",
       "      <th>genre_12세 관람가</th>\n",
       "      <th>genre_15세 관람가</th>\n",
       "      <th>genre_전체 관람가</th>\n",
       "      <th>genre_청소년 관람불가</th>\n",
       "    </tr>\n",
       "  </thead>\n",
       "  <tbody>\n",
       "    <tr>\n",
       "      <th>0</th>\n",
       "      <td>125</td>\n",
       "      <td>3.005290e+05</td>\n",
       "      <td>2</td>\n",
       "      <td>304</td>\n",
       "      <td>3</td>\n",
       "      <td>2</td>\n",
       "      <td>0</td>\n",
       "      <td>0</td>\n",
       "      <td>1</td>\n",
       "      <td>0</td>\n",
       "      <td>...</td>\n",
       "      <td>0</td>\n",
       "      <td>0</td>\n",
       "      <td>0</td>\n",
       "      <td>2010</td>\n",
       "      <td>1</td>\n",
       "      <td>1</td>\n",
       "      <td>0</td>\n",
       "      <td>0</td>\n",
       "      <td>0</td>\n",
       "      <td>1</td>\n",
       "    </tr>\n",
       "    <tr>\n",
       "      <th>1</th>\n",
       "      <td>113</td>\n",
       "      <td>3.427002e+05</td>\n",
       "      <td>4</td>\n",
       "      <td>275</td>\n",
       "      <td>3</td>\n",
       "      <td>4</td>\n",
       "      <td>0</td>\n",
       "      <td>0</td>\n",
       "      <td>0</td>\n",
       "      <td>0</td>\n",
       "      <td>...</td>\n",
       "      <td>0</td>\n",
       "      <td>0</td>\n",
       "      <td>0</td>\n",
       "      <td>2010</td>\n",
       "      <td>1</td>\n",
       "      <td>2</td>\n",
       "      <td>1</td>\n",
       "      <td>0</td>\n",
       "      <td>0</td>\n",
       "      <td>0</td>\n",
       "    </tr>\n",
       "    <tr>\n",
       "      <th>2</th>\n",
       "      <td>115</td>\n",
       "      <td>4.206611e+06</td>\n",
       "      <td>3</td>\n",
       "      <td>419</td>\n",
       "      <td>7</td>\n",
       "      <td>6</td>\n",
       "      <td>0</td>\n",
       "      <td>0</td>\n",
       "      <td>0</td>\n",
       "      <td>0</td>\n",
       "      <td>...</td>\n",
       "      <td>0</td>\n",
       "      <td>0</td>\n",
       "      <td>0</td>\n",
       "      <td>2010</td>\n",
       "      <td>1</td>\n",
       "      <td>3</td>\n",
       "      <td>1</td>\n",
       "      <td>0</td>\n",
       "      <td>0</td>\n",
       "      <td>0</td>\n",
       "    </tr>\n",
       "    <tr>\n",
       "      <th>3</th>\n",
       "      <td>116</td>\n",
       "      <td>6.913420e+05</td>\n",
       "      <td>2</td>\n",
       "      <td>408</td>\n",
       "      <td>2</td>\n",
       "      <td>4</td>\n",
       "      <td>0</td>\n",
       "      <td>0</td>\n",
       "      <td>0</td>\n",
       "      <td>0</td>\n",
       "      <td>...</td>\n",
       "      <td>0</td>\n",
       "      <td>1</td>\n",
       "      <td>0</td>\n",
       "      <td>2010</td>\n",
       "      <td>2</td>\n",
       "      <td>1</td>\n",
       "      <td>0</td>\n",
       "      <td>1</td>\n",
       "      <td>0</td>\n",
       "      <td>0</td>\n",
       "    </tr>\n",
       "    <tr>\n",
       "      <th>4</th>\n",
       "      <td>110</td>\n",
       "      <td>3.173800e+04</td>\n",
       "      <td>1</td>\n",
       "      <td>380</td>\n",
       "      <td>1</td>\n",
       "      <td>6</td>\n",
       "      <td>0</td>\n",
       "      <td>1</td>\n",
       "      <td>0</td>\n",
       "      <td>0</td>\n",
       "      <td>...</td>\n",
       "      <td>0</td>\n",
       "      <td>0</td>\n",
       "      <td>0</td>\n",
       "      <td>2010</td>\n",
       "      <td>2</td>\n",
       "      <td>2</td>\n",
       "      <td>0</td>\n",
       "      <td>1</td>\n",
       "      <td>0</td>\n",
       "      <td>0</td>\n",
       "    </tr>\n",
       "    <tr>\n",
       "      <th>...</th>\n",
       "      <td>...</td>\n",
       "      <td>...</td>\n",
       "      <td>...</td>\n",
       "      <td>...</td>\n",
       "      <td>...</td>\n",
       "      <td>...</td>\n",
       "      <td>...</td>\n",
       "      <td>...</td>\n",
       "      <td>...</td>\n",
       "      <td>...</td>\n",
       "      <td>...</td>\n",
       "      <td>...</td>\n",
       "      <td>...</td>\n",
       "      <td>...</td>\n",
       "      <td>...</td>\n",
       "      <td>...</td>\n",
       "      <td>...</td>\n",
       "      <td>...</td>\n",
       "      <td>...</td>\n",
       "      <td>...</td>\n",
       "      <td>...</td>\n",
       "    </tr>\n",
       "    <tr>\n",
       "      <th>238</th>\n",
       "      <td>78</td>\n",
       "      <td>2.590000e+03</td>\n",
       "      <td>1</td>\n",
       "      <td>4</td>\n",
       "      <td>4</td>\n",
       "      <td>1</td>\n",
       "      <td>0</td>\n",
       "      <td>0</td>\n",
       "      <td>0</td>\n",
       "      <td>0</td>\n",
       "      <td>...</td>\n",
       "      <td>0</td>\n",
       "      <td>0</td>\n",
       "      <td>0</td>\n",
       "      <td>2015</td>\n",
       "      <td>11</td>\n",
       "      <td>2</td>\n",
       "      <td>0</td>\n",
       "      <td>1</td>\n",
       "      <td>0</td>\n",
       "      <td>0</td>\n",
       "    </tr>\n",
       "    <tr>\n",
       "      <th>239</th>\n",
       "      <td>86</td>\n",
       "      <td>0.000000e+00</td>\n",
       "      <td>0</td>\n",
       "      <td>18</td>\n",
       "      <td>2</td>\n",
       "      <td>4</td>\n",
       "      <td>0</td>\n",
       "      <td>0</td>\n",
       "      <td>0</td>\n",
       "      <td>1</td>\n",
       "      <td>...</td>\n",
       "      <td>0</td>\n",
       "      <td>0</td>\n",
       "      <td>0</td>\n",
       "      <td>2015</td>\n",
       "      <td>10</td>\n",
       "      <td>3</td>\n",
       "      <td>1</td>\n",
       "      <td>0</td>\n",
       "      <td>0</td>\n",
       "      <td>0</td>\n",
       "    </tr>\n",
       "    <tr>\n",
       "      <th>240</th>\n",
       "      <td>107</td>\n",
       "      <td>0.000000e+00</td>\n",
       "      <td>0</td>\n",
       "      <td>224</td>\n",
       "      <td>4</td>\n",
       "      <td>1</td>\n",
       "      <td>0</td>\n",
       "      <td>0</td>\n",
       "      <td>1</td>\n",
       "      <td>0</td>\n",
       "      <td>...</td>\n",
       "      <td>0</td>\n",
       "      <td>0</td>\n",
       "      <td>0</td>\n",
       "      <td>2015</td>\n",
       "      <td>10</td>\n",
       "      <td>3</td>\n",
       "      <td>0</td>\n",
       "      <td>0</td>\n",
       "      <td>0</td>\n",
       "      <td>1</td>\n",
       "    </tr>\n",
       "    <tr>\n",
       "      <th>241</th>\n",
       "      <td>102</td>\n",
       "      <td>5.069900e+04</td>\n",
       "      <td>1</td>\n",
       "      <td>68</td>\n",
       "      <td>7</td>\n",
       "      <td>1</td>\n",
       "      <td>0</td>\n",
       "      <td>0</td>\n",
       "      <td>0</td>\n",
       "      <td>0</td>\n",
       "      <td>...</td>\n",
       "      <td>0</td>\n",
       "      <td>0</td>\n",
       "      <td>0</td>\n",
       "      <td>2015</td>\n",
       "      <td>10</td>\n",
       "      <td>3</td>\n",
       "      <td>0</td>\n",
       "      <td>0</td>\n",
       "      <td>0</td>\n",
       "      <td>1</td>\n",
       "    </tr>\n",
       "    <tr>\n",
       "      <th>242</th>\n",
       "      <td>76</td>\n",
       "      <td>0.000000e+00</td>\n",
       "      <td>0</td>\n",
       "      <td>10</td>\n",
       "      <td>4</td>\n",
       "      <td>3</td>\n",
       "      <td>0</td>\n",
       "      <td>0</td>\n",
       "      <td>0</td>\n",
       "      <td>0</td>\n",
       "      <td>...</td>\n",
       "      <td>0</td>\n",
       "      <td>0</td>\n",
       "      <td>0</td>\n",
       "      <td>2015</td>\n",
       "      <td>10</td>\n",
       "      <td>3</td>\n",
       "      <td>0</td>\n",
       "      <td>0</td>\n",
       "      <td>0</td>\n",
       "      <td>1</td>\n",
       "    </tr>\n",
       "  </tbody>\n",
       "</table>\n",
       "<p>243 rows × 25 columns</p>\n",
       "</div>"
      ],
      "text/plain": [
       "     time  dir_prev_bfnum  dir_prev_num  num_staff  num_actor  \\\n",
       "0     125    3.005290e+05             2        304          3   \n",
       "1     113    3.427002e+05             4        275          3   \n",
       "2     115    4.206611e+06             3        419          7   \n",
       "3     116    6.913420e+05             2        408          2   \n",
       "4     110    3.173800e+04             1        380          1   \n",
       "..    ...             ...           ...        ...        ...   \n",
       "238    78    2.590000e+03             1          4          4   \n",
       "239    86    0.000000e+00             0         18          2   \n",
       "240   107    0.000000e+00             0        224          4   \n",
       "241   102    5.069900e+04             1         68          7   \n",
       "242    76    0.000000e+00             0         10          4   \n",
       "\n",
       "     new_distributor  genre_SF  genre_공포  genre_느와르  genre_다큐멘터리  ...  \\\n",
       "0                  2         0         0          1            0  ...   \n",
       "1                  4         0         0          0            0  ...   \n",
       "2                  6         0         0          0            0  ...   \n",
       "3                  4         0         0          0            0  ...   \n",
       "4                  6         0         1          0            0  ...   \n",
       "..               ...       ...       ...        ...          ...  ...   \n",
       "238                1         0         0          0            0  ...   \n",
       "239                4         0         0          0            1  ...   \n",
       "240                1         0         0          1            0  ...   \n",
       "241                1         0         0          0            0  ...   \n",
       "242                3         0         0          0            0  ...   \n",
       "\n",
       "     genre_애니메이션  genre_액션  genre_코미디  release_year  release_month  \\\n",
       "0              0         0          0          2010              1   \n",
       "1              0         0          0          2010              1   \n",
       "2              0         0          0          2010              1   \n",
       "3              0         1          0          2010              2   \n",
       "4              0         0          0          2010              2   \n",
       "..           ...       ...        ...           ...            ...   \n",
       "238            0         0          0          2015             11   \n",
       "239            0         0          0          2015             10   \n",
       "240            0         0          0          2015             10   \n",
       "241            0         0          0          2015             10   \n",
       "242            0         0          0          2015             10   \n",
       "\n",
       "     release_day  genre_12세 관람가  genre_15세 관람가  genre_전체 관람가  genre_청소년 관람불가  \n",
       "0              1              0              0             0               1  \n",
       "1              2              1              0             0               0  \n",
       "2              3              1              0             0               0  \n",
       "3              1              0              1             0               0  \n",
       "4              2              0              1             0               0  \n",
       "..           ...            ...            ...           ...             ...  \n",
       "238            2              0              1             0               0  \n",
       "239            3              1              0             0               0  \n",
       "240            3              0              0             0               1  \n",
       "241            3              0              0             0               1  \n",
       "242            3              0              0             0               1  \n",
       "\n",
       "[243 rows x 25 columns]"
      ]
     },
     "execution_count": 13,
     "metadata": {},
     "output_type": "execute_result"
    }
   ],
   "source": [
    "testdf = testdf.fillna(0)\n",
    "testdf = delete_col(testdf)\n",
    "testdf = distributor(testdf, mapping)\n",
    "testdf = genre(testdf)\n",
    "testdf = release_time(testdf)\n",
    "# testdf = time(testdf)\n",
    "# testdf = staff(testdf)\n",
    "# testdf = actor(testdf)\n",
    "testdf = screen_rat(testdf)\n",
    "\n",
    "testdf"
   ]
  },
  {
   "cell_type": "code",
   "execution_count": 14,
   "metadata": {
    "ExecuteTime": {
     "end_time": "2020-07-13T07:12:58.465606Z",
     "start_time": "2020-07-13T07:12:58.376543Z"
    },
    "scrolled": true
   },
   "outputs": [
    {
     "data": {
      "text/html": [
       "<div>\n",
       "<style scoped>\n",
       "    .dataframe tbody tr th:only-of-type {\n",
       "        vertical-align: middle;\n",
       "    }\n",
       "\n",
       "    .dataframe tbody tr th {\n",
       "        vertical-align: top;\n",
       "    }\n",
       "\n",
       "    .dataframe thead th {\n",
       "        text-align: right;\n",
       "    }\n",
       "</style>\n",
       "<table border=\"1\" class=\"dataframe\">\n",
       "  <thead>\n",
       "    <tr style=\"text-align: right;\">\n",
       "      <th></th>\n",
       "      <th>time</th>\n",
       "      <th>dir_prev_bfnum</th>\n",
       "      <th>dir_prev_num</th>\n",
       "      <th>num_staff</th>\n",
       "      <th>num_actor</th>\n",
       "      <th>box_off_num</th>\n",
       "      <th>new_distributor</th>\n",
       "      <th>genre_SF</th>\n",
       "      <th>genre_공포</th>\n",
       "      <th>genre_느와르</th>\n",
       "      <th>...</th>\n",
       "      <th>genre_애니메이션</th>\n",
       "      <th>genre_액션</th>\n",
       "      <th>genre_코미디</th>\n",
       "      <th>release_year</th>\n",
       "      <th>release_month</th>\n",
       "      <th>release_day</th>\n",
       "      <th>genre_12세 관람가</th>\n",
       "      <th>genre_15세 관람가</th>\n",
       "      <th>genre_전체 관람가</th>\n",
       "      <th>genre_청소년 관람불가</th>\n",
       "    </tr>\n",
       "  </thead>\n",
       "  <tbody>\n",
       "    <tr>\n",
       "      <th>box_off_num</th>\n",
       "      <td>0.441452</td>\n",
       "      <td>0.293791</td>\n",
       "      <td>0.259674</td>\n",
       "      <td>0.544265</td>\n",
       "      <td>0.111179</td>\n",
       "      <td>1.000000</td>\n",
       "      <td>0.331999</td>\n",
       "      <td>0.088009</td>\n",
       "      <td>-0.017627</td>\n",
       "      <td>0.184869</td>\n",
       "      <td>...</td>\n",
       "      <td>-0.054872</td>\n",
       "      <td>0.181191</td>\n",
       "      <td>0.082780</td>\n",
       "      <td>-0.002497</td>\n",
       "      <td>0.019104</td>\n",
       "      <td>-0.011023</td>\n",
       "      <td>0.033896</td>\n",
       "      <td>0.210368</td>\n",
       "      <td>-0.133525</td>\n",
       "      <td>-0.135180</td>\n",
       "    </tr>\n",
       "    <tr>\n",
       "      <th>num_staff</th>\n",
       "      <td>0.623205</td>\n",
       "      <td>0.369657</td>\n",
       "      <td>0.450706</td>\n",
       "      <td>1.000000</td>\n",
       "      <td>0.077871</td>\n",
       "      <td>0.544265</td>\n",
       "      <td>0.472197</td>\n",
       "      <td>0.041529</td>\n",
       "      <td>0.041874</td>\n",
       "      <td>0.209779</td>\n",
       "      <td>...</td>\n",
       "      <td>-0.122539</td>\n",
       "      <td>0.249187</td>\n",
       "      <td>0.108996</td>\n",
       "      <td>-0.032891</td>\n",
       "      <td>-0.002841</td>\n",
       "      <td>0.008254</td>\n",
       "      <td>0.060474</td>\n",
       "      <td>0.246535</td>\n",
       "      <td>-0.273736</td>\n",
       "      <td>-0.085689</td>\n",
       "    </tr>\n",
       "    <tr>\n",
       "      <th>time</th>\n",
       "      <td>1.000000</td>\n",
       "      <td>0.266065</td>\n",
       "      <td>0.306727</td>\n",
       "      <td>0.623205</td>\n",
       "      <td>0.114153</td>\n",
       "      <td>0.441452</td>\n",
       "      <td>0.295490</td>\n",
       "      <td>0.004290</td>\n",
       "      <td>-0.009848</td>\n",
       "      <td>0.174151</td>\n",
       "      <td>...</td>\n",
       "      <td>-0.192651</td>\n",
       "      <td>0.166415</td>\n",
       "      <td>0.075757</td>\n",
       "      <td>-0.062575</td>\n",
       "      <td>-0.023969</td>\n",
       "      <td>0.024999</td>\n",
       "      <td>0.017161</td>\n",
       "      <td>0.239238</td>\n",
       "      <td>-0.259244</td>\n",
       "      <td>-0.055087</td>\n",
       "    </tr>\n",
       "    <tr>\n",
       "      <th>new_distributor</th>\n",
       "      <td>0.295490</td>\n",
       "      <td>0.184767</td>\n",
       "      <td>0.260738</td>\n",
       "      <td>0.472197</td>\n",
       "      <td>0.042123</td>\n",
       "      <td>0.331999</td>\n",
       "      <td>1.000000</td>\n",
       "      <td>0.044495</td>\n",
       "      <td>0.032871</td>\n",
       "      <td>0.090262</td>\n",
       "      <td>...</td>\n",
       "      <td>0.030787</td>\n",
       "      <td>0.106743</td>\n",
       "      <td>0.035902</td>\n",
       "      <td>-0.060617</td>\n",
       "      <td>-0.008559</td>\n",
       "      <td>-0.065397</td>\n",
       "      <td>0.003353</td>\n",
       "      <td>0.177246</td>\n",
       "      <td>-0.115598</td>\n",
       "      <td>-0.091553</td>\n",
       "    </tr>\n",
       "    <tr>\n",
       "      <th>dir_prev_bfnum</th>\n",
       "      <td>0.266065</td>\n",
       "      <td>1.000000</td>\n",
       "      <td>0.396616</td>\n",
       "      <td>0.369657</td>\n",
       "      <td>0.042491</td>\n",
       "      <td>0.293791</td>\n",
       "      <td>0.184767</td>\n",
       "      <td>0.087071</td>\n",
       "      <td>0.014085</td>\n",
       "      <td>0.050141</td>\n",
       "      <td>...</td>\n",
       "      <td>-0.068436</td>\n",
       "      <td>0.099508</td>\n",
       "      <td>0.112761</td>\n",
       "      <td>0.033592</td>\n",
       "      <td>0.047183</td>\n",
       "      <td>-0.035287</td>\n",
       "      <td>0.033362</td>\n",
       "      <td>0.099122</td>\n",
       "      <td>-0.123691</td>\n",
       "      <td>-0.031258</td>\n",
       "    </tr>\n",
       "    <tr>\n",
       "      <th>dir_prev_num</th>\n",
       "      <td>0.306727</td>\n",
       "      <td>0.396616</td>\n",
       "      <td>1.000000</td>\n",
       "      <td>0.450706</td>\n",
       "      <td>0.014006</td>\n",
       "      <td>0.259674</td>\n",
       "      <td>0.260738</td>\n",
       "      <td>0.054248</td>\n",
       "      <td>0.050714</td>\n",
       "      <td>0.077037</td>\n",
       "      <td>...</td>\n",
       "      <td>-0.133530</td>\n",
       "      <td>0.183462</td>\n",
       "      <td>0.057303</td>\n",
       "      <td>0.132621</td>\n",
       "      <td>0.034019</td>\n",
       "      <td>0.030678</td>\n",
       "      <td>0.020939</td>\n",
       "      <td>0.196600</td>\n",
       "      <td>-0.166861</td>\n",
       "      <td>-0.085814</td>\n",
       "    </tr>\n",
       "    <tr>\n",
       "      <th>genre_15세 관람가</th>\n",
       "      <td>0.239238</td>\n",
       "      <td>0.099122</td>\n",
       "      <td>0.196600</td>\n",
       "      <td>0.246535</td>\n",
       "      <td>0.065280</td>\n",
       "      <td>0.210368</td>\n",
       "      <td>0.177246</td>\n",
       "      <td>0.039323</td>\n",
       "      <td>0.067178</td>\n",
       "      <td>-0.001531</td>\n",
       "      <td>...</td>\n",
       "      <td>-0.116486</td>\n",
       "      <td>0.109911</td>\n",
       "      <td>0.126227</td>\n",
       "      <td>-0.071860</td>\n",
       "      <td>-0.051320</td>\n",
       "      <td>-0.018937</td>\n",
       "      <td>-0.322418</td>\n",
       "      <td>1.000000</td>\n",
       "      <td>-0.303177</td>\n",
       "      <td>-0.511330</td>\n",
       "    </tr>\n",
       "    <tr>\n",
       "      <th>genre_느와르</th>\n",
       "      <td>0.174151</td>\n",
       "      <td>0.050141</td>\n",
       "      <td>0.077037</td>\n",
       "      <td>0.209779</td>\n",
       "      <td>-0.010128</td>\n",
       "      <td>0.184869</td>\n",
       "      <td>0.090262</td>\n",
       "      <td>-0.032304</td>\n",
       "      <td>-0.059554</td>\n",
       "      <td>1.000000</td>\n",
       "      <td>...</td>\n",
       "      <td>-0.041340</td>\n",
       "      <td>-0.048027</td>\n",
       "      <td>-0.067569</td>\n",
       "      <td>0.013021</td>\n",
       "      <td>-0.033931</td>\n",
       "      <td>0.008163</td>\n",
       "      <td>-0.098240</td>\n",
       "      <td>-0.001531</td>\n",
       "      <td>-0.092378</td>\n",
       "      <td>0.149692</td>\n",
       "    </tr>\n",
       "    <tr>\n",
       "      <th>genre_액션</th>\n",
       "      <td>0.166415</td>\n",
       "      <td>0.099508</td>\n",
       "      <td>0.183462</td>\n",
       "      <td>0.249187</td>\n",
       "      <td>-0.009006</td>\n",
       "      <td>0.181191</td>\n",
       "      <td>0.106743</td>\n",
       "      <td>-0.032926</td>\n",
       "      <td>-0.060700</td>\n",
       "      <td>-0.048027</td>\n",
       "      <td>...</td>\n",
       "      <td>-0.042136</td>\n",
       "      <td>1.000000</td>\n",
       "      <td>-0.068869</td>\n",
       "      <td>-0.013522</td>\n",
       "      <td>0.031853</td>\n",
       "      <td>0.075406</td>\n",
       "      <td>-0.079095</td>\n",
       "      <td>0.109911</td>\n",
       "      <td>-0.094155</td>\n",
       "      <td>0.024687</td>\n",
       "    </tr>\n",
       "    <tr>\n",
       "      <th>num_actor</th>\n",
       "      <td>0.114153</td>\n",
       "      <td>0.042491</td>\n",
       "      <td>0.014006</td>\n",
       "      <td>0.077871</td>\n",
       "      <td>1.000000</td>\n",
       "      <td>0.111179</td>\n",
       "      <td>0.042123</td>\n",
       "      <td>-0.000874</td>\n",
       "      <td>0.019558</td>\n",
       "      <td>-0.010128</td>\n",
       "      <td>...</td>\n",
       "      <td>0.152677</td>\n",
       "      <td>-0.009006</td>\n",
       "      <td>0.131034</td>\n",
       "      <td>-0.098869</td>\n",
       "      <td>-0.015063</td>\n",
       "      <td>0.009580</td>\n",
       "      <td>-0.018293</td>\n",
       "      <td>0.065280</td>\n",
       "      <td>0.017003</td>\n",
       "      <td>-0.063550</td>\n",
       "    </tr>\n",
       "    <tr>\n",
       "      <th>genre_SF</th>\n",
       "      <td>0.004290</td>\n",
       "      <td>0.087071</td>\n",
       "      <td>0.054248</td>\n",
       "      <td>0.041529</td>\n",
       "      <td>-0.000874</td>\n",
       "      <td>0.088009</td>\n",
       "      <td>0.044495</td>\n",
       "      <td>1.000000</td>\n",
       "      <td>-0.040828</td>\n",
       "      <td>-0.032304</td>\n",
       "      <td>...</td>\n",
       "      <td>-0.028342</td>\n",
       "      <td>-0.032926</td>\n",
       "      <td>-0.046323</td>\n",
       "      <td>0.021702</td>\n",
       "      <td>-0.007262</td>\n",
       "      <td>-0.028737</td>\n",
       "      <td>0.024075</td>\n",
       "      <td>0.039323</td>\n",
       "      <td>-0.031559</td>\n",
       "      <td>-0.034315</td>\n",
       "    </tr>\n",
       "    <tr>\n",
       "      <th>genre_코미디</th>\n",
       "      <td>0.075757</td>\n",
       "      <td>0.112761</td>\n",
       "      <td>0.057303</td>\n",
       "      <td>0.108996</td>\n",
       "      <td>0.131034</td>\n",
       "      <td>0.082780</td>\n",
       "      <td>0.035902</td>\n",
       "      <td>-0.046323</td>\n",
       "      <td>-0.085399</td>\n",
       "      <td>-0.067569</td>\n",
       "      <td>...</td>\n",
       "      <td>-0.059281</td>\n",
       "      <td>-0.068869</td>\n",
       "      <td>1.000000</td>\n",
       "      <td>-0.053299</td>\n",
       "      <td>-0.032238</td>\n",
       "      <td>0.049645</td>\n",
       "      <td>0.015479</td>\n",
       "      <td>0.126227</td>\n",
       "      <td>-0.083566</td>\n",
       "      <td>-0.074637</td>\n",
       "    </tr>\n",
       "    <tr>\n",
       "      <th>genre_12세 관람가</th>\n",
       "      <td>0.017161</td>\n",
       "      <td>0.033362</td>\n",
       "      <td>0.020939</td>\n",
       "      <td>0.060474</td>\n",
       "      <td>-0.018293</td>\n",
       "      <td>0.033896</td>\n",
       "      <td>0.003353</td>\n",
       "      <td>0.024075</td>\n",
       "      <td>-0.106773</td>\n",
       "      <td>-0.098240</td>\n",
       "      <td>...</td>\n",
       "      <td>-0.013761</td>\n",
       "      <td>-0.079095</td>\n",
       "      <td>0.015479</td>\n",
       "      <td>-0.021416</td>\n",
       "      <td>0.042919</td>\n",
       "      <td>-0.026588</td>\n",
       "      <td>1.000000</td>\n",
       "      <td>-0.322418</td>\n",
       "      <td>-0.192596</td>\n",
       "      <td>-0.324828</td>\n",
       "    </tr>\n",
       "    <tr>\n",
       "      <th>release_month</th>\n",
       "      <td>-0.023969</td>\n",
       "      <td>0.047183</td>\n",
       "      <td>0.034019</td>\n",
       "      <td>-0.002841</td>\n",
       "      <td>-0.015063</td>\n",
       "      <td>0.019104</td>\n",
       "      <td>-0.008559</td>\n",
       "      <td>-0.007262</td>\n",
       "      <td>0.020240</td>\n",
       "      <td>-0.033931</td>\n",
       "      <td>...</td>\n",
       "      <td>0.018061</td>\n",
       "      <td>0.031853</td>\n",
       "      <td>-0.032238</td>\n",
       "      <td>0.046627</td>\n",
       "      <td>1.000000</td>\n",
       "      <td>-0.052697</td>\n",
       "      <td>0.042919</td>\n",
       "      <td>-0.051320</td>\n",
       "      <td>-0.000100</td>\n",
       "      <td>0.017240</td>\n",
       "    </tr>\n",
       "    <tr>\n",
       "      <th>release_year</th>\n",
       "      <td>-0.062575</td>\n",
       "      <td>0.033592</td>\n",
       "      <td>0.132621</td>\n",
       "      <td>-0.032891</td>\n",
       "      <td>-0.098869</td>\n",
       "      <td>-0.002497</td>\n",
       "      <td>-0.060617</td>\n",
       "      <td>0.021702</td>\n",
       "      <td>0.017298</td>\n",
       "      <td>0.013021</td>\n",
       "      <td>...</td>\n",
       "      <td>0.043537</td>\n",
       "      <td>-0.013522</td>\n",
       "      <td>-0.053299</td>\n",
       "      <td>1.000000</td>\n",
       "      <td>0.046627</td>\n",
       "      <td>0.022144</td>\n",
       "      <td>-0.021416</td>\n",
       "      <td>-0.071860</td>\n",
       "      <td>-0.066597</td>\n",
       "      <td>0.139324</td>\n",
       "    </tr>\n",
       "    <tr>\n",
       "      <th>release_day</th>\n",
       "      <td>0.024999</td>\n",
       "      <td>-0.035287</td>\n",
       "      <td>0.030678</td>\n",
       "      <td>0.008254</td>\n",
       "      <td>0.009580</td>\n",
       "      <td>-0.011023</td>\n",
       "      <td>-0.065397</td>\n",
       "      <td>-0.028737</td>\n",
       "      <td>0.036539</td>\n",
       "      <td>0.008163</td>\n",
       "      <td>...</td>\n",
       "      <td>0.019715</td>\n",
       "      <td>0.075406</td>\n",
       "      <td>0.049645</td>\n",
       "      <td>0.022144</td>\n",
       "      <td>-0.052697</td>\n",
       "      <td>1.000000</td>\n",
       "      <td>-0.026588</td>\n",
       "      <td>-0.018937</td>\n",
       "      <td>0.038841</td>\n",
       "      <td>0.010432</td>\n",
       "    </tr>\n",
       "    <tr>\n",
       "      <th>genre_미스터리</th>\n",
       "      <td>0.016289</td>\n",
       "      <td>0.014525</td>\n",
       "      <td>0.051792</td>\n",
       "      <td>-0.034835</td>\n",
       "      <td>-0.057575</td>\n",
       "      <td>-0.016888</td>\n",
       "      <td>0.042456</td>\n",
       "      <td>-0.025412</td>\n",
       "      <td>-0.046849</td>\n",
       "      <td>-0.037068</td>\n",
       "      <td>...</td>\n",
       "      <td>-0.032521</td>\n",
       "      <td>-0.037781</td>\n",
       "      <td>-0.053154</td>\n",
       "      <td>0.054004</td>\n",
       "      <td>0.023104</td>\n",
       "      <td>-0.045488</td>\n",
       "      <td>-0.077282</td>\n",
       "      <td>0.069648</td>\n",
       "      <td>-0.072670</td>\n",
       "      <td>0.047074</td>\n",
       "    </tr>\n",
       "    <tr>\n",
       "      <th>genre_공포</th>\n",
       "      <td>-0.009848</td>\n",
       "      <td>0.014085</td>\n",
       "      <td>0.050714</td>\n",
       "      <td>0.041874</td>\n",
       "      <td>0.019558</td>\n",
       "      <td>-0.017627</td>\n",
       "      <td>0.032871</td>\n",
       "      <td>-0.040828</td>\n",
       "      <td>1.000000</td>\n",
       "      <td>-0.059554</td>\n",
       "      <td>...</td>\n",
       "      <td>-0.052249</td>\n",
       "      <td>-0.060700</td>\n",
       "      <td>-0.085399</td>\n",
       "      <td>0.017298</td>\n",
       "      <td>0.020240</td>\n",
       "      <td>0.036539</td>\n",
       "      <td>-0.106773</td>\n",
       "      <td>0.067178</td>\n",
       "      <td>-0.116753</td>\n",
       "      <td>0.106455</td>\n",
       "    </tr>\n",
       "    <tr>\n",
       "      <th>genre_서스펜스</th>\n",
       "      <td>0.035617</td>\n",
       "      <td>-0.009087</td>\n",
       "      <td>0.006032</td>\n",
       "      <td>-0.014017</td>\n",
       "      <td>-0.016716</td>\n",
       "      <td>-0.019807</td>\n",
       "      <td>-0.054375</td>\n",
       "      <td>-0.008606</td>\n",
       "      <td>-0.015866</td>\n",
       "      <td>-0.012554</td>\n",
       "      <td>...</td>\n",
       "      <td>-0.011014</td>\n",
       "      <td>-0.012795</td>\n",
       "      <td>-0.018001</td>\n",
       "      <td>0.025189</td>\n",
       "      <td>-0.008724</td>\n",
       "      <td>0.024856</td>\n",
       "      <td>-0.026173</td>\n",
       "      <td>-0.041200</td>\n",
       "      <td>-0.024611</td>\n",
       "      <td>0.080574</td>\n",
       "    </tr>\n",
       "    <tr>\n",
       "      <th>genre_드라마</th>\n",
       "      <td>0.159977</td>\n",
       "      <td>-0.061472</td>\n",
       "      <td>-0.040161</td>\n",
       "      <td>0.061664</td>\n",
       "      <td>-0.018618</td>\n",
       "      <td>-0.034488</td>\n",
       "      <td>-0.010536</td>\n",
       "      <td>-0.113639</td>\n",
       "      <td>-0.209500</td>\n",
       "      <td>-0.165761</td>\n",
       "      <td>...</td>\n",
       "      <td>-0.145428</td>\n",
       "      <td>-0.168950</td>\n",
       "      <td>-0.237695</td>\n",
       "      <td>-0.060829</td>\n",
       "      <td>-0.004664</td>\n",
       "      <td>-0.035535</td>\n",
       "      <td>0.114338</td>\n",
       "      <td>0.011674</td>\n",
       "      <td>-0.161940</td>\n",
       "      <td>0.020861</td>\n",
       "    </tr>\n",
       "    <tr>\n",
       "      <th>genre_뮤지컬</th>\n",
       "      <td>0.031110</td>\n",
       "      <td>-0.033119</td>\n",
       "      <td>-0.067965</td>\n",
       "      <td>-0.082477</td>\n",
       "      <td>-0.033996</td>\n",
       "      <td>-0.035211</td>\n",
       "      <td>-0.070080</td>\n",
       "      <td>-0.013642</td>\n",
       "      <td>-0.025150</td>\n",
       "      <td>-0.019899</td>\n",
       "      <td>...</td>\n",
       "      <td>-0.017458</td>\n",
       "      <td>-0.020282</td>\n",
       "      <td>-0.028535</td>\n",
       "      <td>0.002744</td>\n",
       "      <td>0.059142</td>\n",
       "      <td>0.005139</td>\n",
       "      <td>0.007321</td>\n",
       "      <td>-0.065307</td>\n",
       "      <td>0.164525</td>\n",
       "      <td>-0.065795</td>\n",
       "    </tr>\n",
       "    <tr>\n",
       "      <th>genre_애니메이션</th>\n",
       "      <td>-0.192651</td>\n",
       "      <td>-0.068436</td>\n",
       "      <td>-0.133530</td>\n",
       "      <td>-0.122539</td>\n",
       "      <td>0.152677</td>\n",
       "      <td>-0.054872</td>\n",
       "      <td>0.030787</td>\n",
       "      <td>-0.028342</td>\n",
       "      <td>-0.052249</td>\n",
       "      <td>-0.041340</td>\n",
       "      <td>...</td>\n",
       "      <td>1.000000</td>\n",
       "      <td>-0.042136</td>\n",
       "      <td>-0.059281</td>\n",
       "      <td>0.043537</td>\n",
       "      <td>0.018061</td>\n",
       "      <td>0.019715</td>\n",
       "      <td>-0.013761</td>\n",
       "      <td>-0.116486</td>\n",
       "      <td>0.271328</td>\n",
       "      <td>-0.079257</td>\n",
       "    </tr>\n",
       "    <tr>\n",
       "      <th>genre_멜로/로맨스</th>\n",
       "      <td>-0.090262</td>\n",
       "      <td>0.042289</td>\n",
       "      <td>0.036129</td>\n",
       "      <td>-0.035817</td>\n",
       "      <td>-0.046865</td>\n",
       "      <td>-0.059728</td>\n",
       "      <td>-0.015068</td>\n",
       "      <td>-0.057526</td>\n",
       "      <td>-0.106052</td>\n",
       "      <td>-0.083911</td>\n",
       "      <td>...</td>\n",
       "      <td>-0.073618</td>\n",
       "      <td>-0.085525</td>\n",
       "      <td>-0.120325</td>\n",
       "      <td>0.067857</td>\n",
       "      <td>-0.010096</td>\n",
       "      <td>-0.000556</td>\n",
       "      <td>-0.043010</td>\n",
       "      <td>-0.055162</td>\n",
       "      <td>-0.150749</td>\n",
       "      <td>0.203796</td>\n",
       "    </tr>\n",
       "    <tr>\n",
       "      <th>genre_전체 관람가</th>\n",
       "      <td>-0.259244</td>\n",
       "      <td>-0.123691</td>\n",
       "      <td>-0.166861</td>\n",
       "      <td>-0.273736</td>\n",
       "      <td>0.017003</td>\n",
       "      <td>-0.133525</td>\n",
       "      <td>-0.115598</td>\n",
       "      <td>-0.031559</td>\n",
       "      <td>-0.116753</td>\n",
       "      <td>-0.092378</td>\n",
       "      <td>...</td>\n",
       "      <td>0.271328</td>\n",
       "      <td>-0.094155</td>\n",
       "      <td>-0.083566</td>\n",
       "      <td>-0.066597</td>\n",
       "      <td>-0.000100</td>\n",
       "      <td>0.038841</td>\n",
       "      <td>-0.192596</td>\n",
       "      <td>-0.303177</td>\n",
       "      <td>1.000000</td>\n",
       "      <td>-0.305443</td>\n",
       "    </tr>\n",
       "    <tr>\n",
       "      <th>genre_청소년 관람불가</th>\n",
       "      <td>-0.055087</td>\n",
       "      <td>-0.031258</td>\n",
       "      <td>-0.085814</td>\n",
       "      <td>-0.085689</td>\n",
       "      <td>-0.063550</td>\n",
       "      <td>-0.135180</td>\n",
       "      <td>-0.091553</td>\n",
       "      <td>-0.034315</td>\n",
       "      <td>0.106455</td>\n",
       "      <td>0.149692</td>\n",
       "      <td>...</td>\n",
       "      <td>-0.079257</td>\n",
       "      <td>0.024687</td>\n",
       "      <td>-0.074637</td>\n",
       "      <td>0.139324</td>\n",
       "      <td>0.017240</td>\n",
       "      <td>0.010432</td>\n",
       "      <td>-0.324828</td>\n",
       "      <td>-0.511330</td>\n",
       "      <td>-0.305443</td>\n",
       "      <td>1.000000</td>\n",
       "    </tr>\n",
       "    <tr>\n",
       "      <th>genre_다큐멘터리</th>\n",
       "      <td>-0.303400</td>\n",
       "      <td>-0.139600</td>\n",
       "      <td>-0.173434</td>\n",
       "      <td>-0.344846</td>\n",
       "      <td>-0.076703</td>\n",
       "      <td>-0.150310</td>\n",
       "      <td>-0.163933</td>\n",
       "      <td>-0.063737</td>\n",
       "      <td>-0.117502</td>\n",
       "      <td>-0.092970</td>\n",
       "      <td>...</td>\n",
       "      <td>-0.081566</td>\n",
       "      <td>-0.094759</td>\n",
       "      <td>-0.133316</td>\n",
       "      <td>-0.012262</td>\n",
       "      <td>-0.002831</td>\n",
       "      <td>-0.048279</td>\n",
       "      <td>0.088150</td>\n",
       "      <td>-0.139453</td>\n",
       "      <td>0.482372</td>\n",
       "      <td>-0.297679</td>\n",
       "    </tr>\n",
       "  </tbody>\n",
       "</table>\n",
       "<p>26 rows × 26 columns</p>\n",
       "</div>"
      ],
      "text/plain": [
       "                     time  dir_prev_bfnum  dir_prev_num  num_staff  num_actor  \\\n",
       "box_off_num      0.441452        0.293791      0.259674   0.544265   0.111179   \n",
       "num_staff        0.623205        0.369657      0.450706   1.000000   0.077871   \n",
       "time             1.000000        0.266065      0.306727   0.623205   0.114153   \n",
       "new_distributor  0.295490        0.184767      0.260738   0.472197   0.042123   \n",
       "dir_prev_bfnum   0.266065        1.000000      0.396616   0.369657   0.042491   \n",
       "dir_prev_num     0.306727        0.396616      1.000000   0.450706   0.014006   \n",
       "genre_15세 관람가    0.239238        0.099122      0.196600   0.246535   0.065280   \n",
       "genre_느와르        0.174151        0.050141      0.077037   0.209779  -0.010128   \n",
       "genre_액션         0.166415        0.099508      0.183462   0.249187  -0.009006   \n",
       "num_actor        0.114153        0.042491      0.014006   0.077871   1.000000   \n",
       "genre_SF         0.004290        0.087071      0.054248   0.041529  -0.000874   \n",
       "genre_코미디        0.075757        0.112761      0.057303   0.108996   0.131034   \n",
       "genre_12세 관람가    0.017161        0.033362      0.020939   0.060474  -0.018293   \n",
       "release_month   -0.023969        0.047183      0.034019  -0.002841  -0.015063   \n",
       "release_year    -0.062575        0.033592      0.132621  -0.032891  -0.098869   \n",
       "release_day      0.024999       -0.035287      0.030678   0.008254   0.009580   \n",
       "genre_미스터리       0.016289        0.014525      0.051792  -0.034835  -0.057575   \n",
       "genre_공포        -0.009848        0.014085      0.050714   0.041874   0.019558   \n",
       "genre_서스펜스       0.035617       -0.009087      0.006032  -0.014017  -0.016716   \n",
       "genre_드라마        0.159977       -0.061472     -0.040161   0.061664  -0.018618   \n",
       "genre_뮤지컬        0.031110       -0.033119     -0.067965  -0.082477  -0.033996   \n",
       "genre_애니메이션     -0.192651       -0.068436     -0.133530  -0.122539   0.152677   \n",
       "genre_멜로/로맨스    -0.090262        0.042289      0.036129  -0.035817  -0.046865   \n",
       "genre_전체 관람가    -0.259244       -0.123691     -0.166861  -0.273736   0.017003   \n",
       "genre_청소년 관람불가  -0.055087       -0.031258     -0.085814  -0.085689  -0.063550   \n",
       "genre_다큐멘터리     -0.303400       -0.139600     -0.173434  -0.344846  -0.076703   \n",
       "\n",
       "                 box_off_num  new_distributor  genre_SF  genre_공포  genre_느와르  \\\n",
       "box_off_num         1.000000         0.331999  0.088009 -0.017627   0.184869   \n",
       "num_staff           0.544265         0.472197  0.041529  0.041874   0.209779   \n",
       "time                0.441452         0.295490  0.004290 -0.009848   0.174151   \n",
       "new_distributor     0.331999         1.000000  0.044495  0.032871   0.090262   \n",
       "dir_prev_bfnum      0.293791         0.184767  0.087071  0.014085   0.050141   \n",
       "dir_prev_num        0.259674         0.260738  0.054248  0.050714   0.077037   \n",
       "genre_15세 관람가       0.210368         0.177246  0.039323  0.067178  -0.001531   \n",
       "genre_느와르           0.184869         0.090262 -0.032304 -0.059554   1.000000   \n",
       "genre_액션            0.181191         0.106743 -0.032926 -0.060700  -0.048027   \n",
       "num_actor           0.111179         0.042123 -0.000874  0.019558  -0.010128   \n",
       "genre_SF            0.088009         0.044495  1.000000 -0.040828  -0.032304   \n",
       "genre_코미디           0.082780         0.035902 -0.046323 -0.085399  -0.067569   \n",
       "genre_12세 관람가       0.033896         0.003353  0.024075 -0.106773  -0.098240   \n",
       "release_month       0.019104        -0.008559 -0.007262  0.020240  -0.033931   \n",
       "release_year       -0.002497        -0.060617  0.021702  0.017298   0.013021   \n",
       "release_day        -0.011023        -0.065397 -0.028737  0.036539   0.008163   \n",
       "genre_미스터리         -0.016888         0.042456 -0.025412 -0.046849  -0.037068   \n",
       "genre_공포           -0.017627         0.032871 -0.040828  1.000000  -0.059554   \n",
       "genre_서스펜스         -0.019807        -0.054375 -0.008606 -0.015866  -0.012554   \n",
       "genre_드라마          -0.034488        -0.010536 -0.113639 -0.209500  -0.165761   \n",
       "genre_뮤지컬          -0.035211        -0.070080 -0.013642 -0.025150  -0.019899   \n",
       "genre_애니메이션        -0.054872         0.030787 -0.028342 -0.052249  -0.041340   \n",
       "genre_멜로/로맨스       -0.059728        -0.015068 -0.057526 -0.106052  -0.083911   \n",
       "genre_전체 관람가       -0.133525        -0.115598 -0.031559 -0.116753  -0.092378   \n",
       "genre_청소년 관람불가     -0.135180        -0.091553 -0.034315  0.106455   0.149692   \n",
       "genre_다큐멘터리        -0.150310        -0.163933 -0.063737 -0.117502  -0.092970   \n",
       "\n",
       "                 ...  genre_애니메이션  genre_액션  genre_코미디  release_year  \\\n",
       "box_off_num      ...    -0.054872  0.181191   0.082780     -0.002497   \n",
       "num_staff        ...    -0.122539  0.249187   0.108996     -0.032891   \n",
       "time             ...    -0.192651  0.166415   0.075757     -0.062575   \n",
       "new_distributor  ...     0.030787  0.106743   0.035902     -0.060617   \n",
       "dir_prev_bfnum   ...    -0.068436  0.099508   0.112761      0.033592   \n",
       "dir_prev_num     ...    -0.133530  0.183462   0.057303      0.132621   \n",
       "genre_15세 관람가    ...    -0.116486  0.109911   0.126227     -0.071860   \n",
       "genre_느와르        ...    -0.041340 -0.048027  -0.067569      0.013021   \n",
       "genre_액션         ...    -0.042136  1.000000  -0.068869     -0.013522   \n",
       "num_actor        ...     0.152677 -0.009006   0.131034     -0.098869   \n",
       "genre_SF         ...    -0.028342 -0.032926  -0.046323      0.021702   \n",
       "genre_코미디        ...    -0.059281 -0.068869   1.000000     -0.053299   \n",
       "genre_12세 관람가    ...    -0.013761 -0.079095   0.015479     -0.021416   \n",
       "release_month    ...     0.018061  0.031853  -0.032238      0.046627   \n",
       "release_year     ...     0.043537 -0.013522  -0.053299      1.000000   \n",
       "release_day      ...     0.019715  0.075406   0.049645      0.022144   \n",
       "genre_미스터리       ...    -0.032521 -0.037781  -0.053154      0.054004   \n",
       "genre_공포         ...    -0.052249 -0.060700  -0.085399      0.017298   \n",
       "genre_서스펜스       ...    -0.011014 -0.012795  -0.018001      0.025189   \n",
       "genre_드라마        ...    -0.145428 -0.168950  -0.237695     -0.060829   \n",
       "genre_뮤지컬        ...    -0.017458 -0.020282  -0.028535      0.002744   \n",
       "genre_애니메이션      ...     1.000000 -0.042136  -0.059281      0.043537   \n",
       "genre_멜로/로맨스     ...    -0.073618 -0.085525  -0.120325      0.067857   \n",
       "genre_전체 관람가     ...     0.271328 -0.094155  -0.083566     -0.066597   \n",
       "genre_청소년 관람불가   ...    -0.079257  0.024687  -0.074637      0.139324   \n",
       "genre_다큐멘터리      ...    -0.081566 -0.094759  -0.133316     -0.012262   \n",
       "\n",
       "                 release_month  release_day  genre_12세 관람가  genre_15세 관람가  \\\n",
       "box_off_num           0.019104    -0.011023       0.033896       0.210368   \n",
       "num_staff            -0.002841     0.008254       0.060474       0.246535   \n",
       "time                 -0.023969     0.024999       0.017161       0.239238   \n",
       "new_distributor      -0.008559    -0.065397       0.003353       0.177246   \n",
       "dir_prev_bfnum        0.047183    -0.035287       0.033362       0.099122   \n",
       "dir_prev_num          0.034019     0.030678       0.020939       0.196600   \n",
       "genre_15세 관람가        -0.051320    -0.018937      -0.322418       1.000000   \n",
       "genre_느와르            -0.033931     0.008163      -0.098240      -0.001531   \n",
       "genre_액션              0.031853     0.075406      -0.079095       0.109911   \n",
       "num_actor            -0.015063     0.009580      -0.018293       0.065280   \n",
       "genre_SF             -0.007262    -0.028737       0.024075       0.039323   \n",
       "genre_코미디            -0.032238     0.049645       0.015479       0.126227   \n",
       "genre_12세 관람가         0.042919    -0.026588       1.000000      -0.322418   \n",
       "release_month         1.000000    -0.052697       0.042919      -0.051320   \n",
       "release_year          0.046627     0.022144      -0.021416      -0.071860   \n",
       "release_day          -0.052697     1.000000      -0.026588      -0.018937   \n",
       "genre_미스터리            0.023104    -0.045488      -0.077282       0.069648   \n",
       "genre_공포              0.020240     0.036539      -0.106773       0.067178   \n",
       "genre_서스펜스           -0.008724     0.024856      -0.026173      -0.041200   \n",
       "genre_드라마            -0.004664    -0.035535       0.114338       0.011674   \n",
       "genre_뮤지컬             0.059142     0.005139       0.007321      -0.065307   \n",
       "genre_애니메이션           0.018061     0.019715      -0.013761      -0.116486   \n",
       "genre_멜로/로맨스         -0.010096    -0.000556      -0.043010      -0.055162   \n",
       "genre_전체 관람가         -0.000100     0.038841      -0.192596      -0.303177   \n",
       "genre_청소년 관람불가        0.017240     0.010432      -0.324828      -0.511330   \n",
       "genre_다큐멘터리          -0.002831    -0.048279       0.088150      -0.139453   \n",
       "\n",
       "                 genre_전체 관람가  genre_청소년 관람불가  \n",
       "box_off_num         -0.133525       -0.135180  \n",
       "num_staff           -0.273736       -0.085689  \n",
       "time                -0.259244       -0.055087  \n",
       "new_distributor     -0.115598       -0.091553  \n",
       "dir_prev_bfnum      -0.123691       -0.031258  \n",
       "dir_prev_num        -0.166861       -0.085814  \n",
       "genre_15세 관람가       -0.303177       -0.511330  \n",
       "genre_느와르           -0.092378        0.149692  \n",
       "genre_액션            -0.094155        0.024687  \n",
       "num_actor            0.017003       -0.063550  \n",
       "genre_SF            -0.031559       -0.034315  \n",
       "genre_코미디           -0.083566       -0.074637  \n",
       "genre_12세 관람가       -0.192596       -0.324828  \n",
       "release_month       -0.000100        0.017240  \n",
       "release_year        -0.066597        0.139324  \n",
       "release_day          0.038841        0.010432  \n",
       "genre_미스터리          -0.072670        0.047074  \n",
       "genre_공포            -0.116753        0.106455  \n",
       "genre_서스펜스          -0.024611        0.080574  \n",
       "genre_드라마           -0.161940        0.020861  \n",
       "genre_뮤지컬            0.164525       -0.065795  \n",
       "genre_애니메이션          0.271328       -0.079257  \n",
       "genre_멜로/로맨스        -0.150749        0.203796  \n",
       "genre_전체 관람가         1.000000       -0.305443  \n",
       "genre_청소년 관람불가      -0.305443        1.000000  \n",
       "genre_다큐멘터리          0.482372       -0.297679  \n",
       "\n",
       "[26 rows x 26 columns]"
      ]
     },
     "execution_count": 14,
     "metadata": {},
     "output_type": "execute_result"
    }
   ],
   "source": [
    "df.corr().sort_values(by='box_off_num', ascending = False)"
   ]
  },
  {
   "cell_type": "code",
   "execution_count": 169,
   "metadata": {
    "ExecuteTime": {
     "end_time": "2020-07-12T18:18:21.077271Z",
     "start_time": "2020-07-12T18:18:21.060256Z"
    }
   },
   "outputs": [
    {
     "data": {
      "text/plain": [
       "Index(['box_off_num', 'num_staff', 'time', 'new_distributor', 'dir_prev_bfnum',\n",
       "       'dir_prev_num', 'genre_15세 관람가', 'genre_느와르', 'genre_액션', 'num_actor',\n",
       "       'genre_SF', 'genre_코미디', 'genre_12세 관람가', 'release_month',\n",
       "       'release_year', 'release_day', 'genre_미스터리', 'genre_공포', 'genre_서스펜스',\n",
       "       'genre_드라마', 'genre_뮤지컬', 'genre_애니메이션', 'genre_멜로/로맨스', 'genre_전체 관람가',\n",
       "       'genre_청소년 관람불가', 'genre_다큐멘터리'],\n",
       "      dtype='object')"
      ]
     },
     "execution_count": 169,
     "metadata": {},
     "output_type": "execute_result"
    }
   ],
   "source": [
    "df.corr().sort_values(by='box_off_num', ascending = False).index"
   ]
  },
  {
   "cell_type": "code",
   "execution_count": 172,
   "metadata": {
    "ExecuteTime": {
     "end_time": "2020-07-12T18:19:49.821338Z",
     "start_time": "2020-07-12T18:19:49.815339Z"
    }
   },
   "outputs": [],
   "source": [
    "features = ['num_staff', 'time', 'new_distributor', 'dir_prev_bfnum',\n",
    "       'dir_prev_num', 'genre_15세 관람가', 'genre_느와르', 'genre_액션']"
   ]
  },
  {
   "cell_type": "markdown",
   "metadata": {},
   "source": [
    "# 모델링"
   ]
  },
  {
   "cell_type": "code",
   "execution_count": 173,
   "metadata": {
    "ExecuteTime": {
     "end_time": "2020-07-12T18:19:51.644636Z",
     "start_time": "2020-07-12T18:19:51.630629Z"
    }
   },
   "outputs": [],
   "source": [
    "train_Y = df['box_off_num']\n",
    "train_X = df.drop(['box_off_num'], axis=1)[features]\n",
    "\n",
    "test_X = testdf[features]"
   ]
  },
  {
   "cell_type": "code",
   "execution_count": 150,
   "metadata": {
    "ExecuteTime": {
     "end_time": "2020-07-12T18:07:45.294410Z",
     "start_time": "2020-07-12T18:07:45.286425Z"
    }
   },
   "outputs": [],
   "source": [
    "# 저장함수\n",
    "def save_file(prediction, number) :\n",
    "    sub = pd.read_csv('./data/submission.csv')\n",
    "    sub['box_off_num'] = prediction\n",
    "    sub.to_csv('./submission/submission' + str(number) + '.csv', index=False)\n",
    "    return print('done')"
   ]
  },
  {
   "cell_type": "markdown",
   "metadata": {
    "heading_collapsed": true
   },
   "source": [
    "## 사이킷런"
   ]
  },
  {
   "cell_type": "code",
   "execution_count": 174,
   "metadata": {
    "ExecuteTime": {
     "end_time": "2020-07-12T18:19:57.644917Z",
     "start_time": "2020-07-12T18:19:57.630909Z"
    },
    "hidden": true
   },
   "outputs": [],
   "source": [
    "from sklearn import linear_model\n",
    "\n",
    "lm = linear_model.LinearRegression()\n",
    "lm.fit(train_X, train_Y)\n",
    "\n",
    "prediction = lm.predict(test_X)"
   ]
  },
  {
   "cell_type": "code",
   "execution_count": 119,
   "metadata": {
    "ExecuteTime": {
     "end_time": "2020-07-09T16:16:03.032855Z",
     "start_time": "2020-07-09T16:16:03.009841Z"
    },
    "hidden": true,
    "scrolled": false
   },
   "outputs": [
    {
     "name": "stdout",
     "output_type": "stream",
     "text": [
      "done\n"
     ]
    }
   ],
   "source": [
    "save_file(prediction, 1)\n",
    "# 1744049.2329963981\t"
   ]
  },
  {
   "cell_type": "code",
   "execution_count": 184,
   "metadata": {
    "ExecuteTime": {
     "end_time": "2020-07-09T17:03:05.240624Z",
     "start_time": "2020-07-09T17:03:05.213606Z"
    },
    "hidden": true
   },
   "outputs": [
    {
     "name": "stdout",
     "output_type": "stream",
     "text": [
      "done\n"
     ]
    }
   ],
   "source": [
    "save_file(prediction, 4)\n",
    "# 1509223.1428086378\t , 'num_staff','num_actor'를 추가하였을 때"
   ]
  },
  {
   "cell_type": "code",
   "execution_count": 15,
   "metadata": {
    "ExecuteTime": {
     "end_time": "2020-07-10T04:51:27.797631Z",
     "start_time": "2020-07-10T04:51:27.754603Z"
    },
    "hidden": true
   },
   "outputs": [
    {
     "name": "stdout",
     "output_type": "stream",
     "text": [
      "done\n"
     ]
    }
   ],
   "source": [
    "save_file(prediction, 6)"
   ]
  },
  {
   "cell_type": "code",
   "execution_count": 28,
   "metadata": {
    "ExecuteTime": {
     "end_time": "2020-07-12T06:27:57.749223Z",
     "start_time": "2020-07-12T06:27:57.707194Z"
    },
    "hidden": true
   },
   "outputs": [
    {
     "name": "stdout",
     "output_type": "stream",
     "text": [
      "done\n"
     ]
    }
   ],
   "source": [
    "save_file(prediction, 7)\n",
    "# 1661234.9589730736\t"
   ]
  },
  {
   "cell_type": "code",
   "execution_count": 39,
   "metadata": {
    "ExecuteTime": {
     "end_time": "2020-07-12T06:31:52.728225Z",
     "start_time": "2020-07-12T06:31:52.706209Z"
    },
    "hidden": true,
    "scrolled": true
   },
   "outputs": [
    {
     "name": "stdout",
     "output_type": "stream",
     "text": [
      "done\n"
     ]
    }
   ],
   "source": [
    "save_file(prediction, 8)\n",
    "# 1507395.893538275\t, 'num_staff','num_actor'를 추가하였을 때 , 상영시간 -> get_dummies"
   ]
  },
  {
   "cell_type": "code",
   "execution_count": 47,
   "metadata": {
    "ExecuteTime": {
     "end_time": "2020-07-12T06:33:32.615216Z",
     "start_time": "2020-07-12T06:33:32.594203Z"
    },
    "hidden": true,
    "scrolled": true
   },
   "outputs": [
    {
     "name": "stdout",
     "output_type": "stream",
     "text": [
      "done\n"
     ]
    }
   ],
   "source": [
    "save_file(prediction, 9)\n",
    "# 1507395.893538275\t num_staff','num_actor'를 추가하였을 때 , \n",
    "\n",
    "# 위와 결과가 같기 때문에 get_dummies와는 큰 관계가 없다"
   ]
  },
  {
   "cell_type": "code",
   "execution_count": null,
   "metadata": {
    "hidden": true
   },
   "outputs": [],
   "source": [
    "save_file(prediction, 11)\n",
    "# 1507395.893538275\t, 'num_staff','num_actor'를 추가하였을 때\n",
    "# 상영시간 -> get_dummies\n",
    "# times 원래 데이터 사용\n",
    "\n",
    "# 2651221.073888509\t"
   ]
  },
  {
   "cell_type": "code",
   "execution_count": 87,
   "metadata": {
    "ExecuteTime": {
     "end_time": "2020-07-12T08:00:30.018270Z",
     "start_time": "2020-07-12T08:00:29.443863Z"
    },
    "hidden": true
   },
   "outputs": [
    {
     "name": "stdout",
     "output_type": "stream",
     "text": [
      "done\n"
     ]
    }
   ],
   "source": [
    "save_file(prediction, 12)\n",
    "# 1507395.893538275\t, 'num_staff','num_actor', 'dir_prev_num'를 추가하였을 때\n",
    "# 상영시간 -> get_dummies\n",
    "\n",
    "# 1506004.9532714835"
   ]
  },
  {
   "cell_type": "code",
   "execution_count": 144,
   "metadata": {
    "ExecuteTime": {
     "end_time": "2020-07-12T08:37:01.559818Z",
     "start_time": "2020-07-12T08:37:01.477764Z"
    },
    "hidden": true
   },
   "outputs": [
    {
     "name": "stdout",
     "output_type": "stream",
     "text": [
      "done\n"
     ]
    }
   ],
   "source": [
    "prediction = abs(prediction.astype(int))\n",
    "# 'num_staff','num_actor', 'dir_prev_num'를 추가하였을 때\n",
    "# release_year 제거\n",
    "# abs( int )\n",
    "\n",
    "save_file(prediction, 13)\n",
    "# 1504505.219927887\t"
   ]
  },
  {
   "cell_type": "code",
   "execution_count": 21,
   "metadata": {
    "ExecuteTime": {
     "end_time": "2020-07-12T16:19:10.014943Z",
     "start_time": "2020-07-12T16:19:09.972914Z"
    },
    "hidden": true
   },
   "outputs": [
    {
     "name": "stdout",
     "output_type": "stream",
     "text": [
      "done\n"
     ]
    }
   ],
   "source": [
    "save_file(prediction, 16)\n",
    "# 1507654.7290159652\t"
   ]
  },
  {
   "cell_type": "code",
   "execution_count": 30,
   "metadata": {
    "ExecuteTime": {
     "end_time": "2020-07-12T16:29:37.354800Z",
     "start_time": "2020-07-12T16:29:37.332787Z"
    },
    "hidden": true
   },
   "outputs": [
    {
     "name": "stdout",
     "output_type": "stream",
     "text": [
      "done\n"
     ]
    }
   ],
   "source": [
    "save_file(prediction, 17)\n",
    "# 1505315.8479013287\t"
   ]
  },
  {
   "cell_type": "code",
   "execution_count": 43,
   "metadata": {
    "ExecuteTime": {
     "end_time": "2020-07-12T16:32:57.675169Z",
     "start_time": "2020-07-12T16:32:57.653154Z"
    },
    "hidden": true,
    "scrolled": true
   },
   "outputs": [
    {
     "name": "stdout",
     "output_type": "stream",
     "text": [
      "done\n"
     ]
    }
   ],
   "source": [
    "save_file(prediction, 18)\n",
    "# \t1488993.1435613963\t"
   ]
  },
  {
   "cell_type": "code",
   "execution_count": 152,
   "metadata": {
    "ExecuteTime": {
     "end_time": "2020-07-12T18:08:14.900452Z",
     "start_time": "2020-07-12T18:08:14.877436Z"
    },
    "hidden": true,
    "scrolled": true
   },
   "outputs": [
    {
     "name": "stdout",
     "output_type": "stream",
     "text": [
      "done\n"
     ]
    }
   ],
   "source": [
    "save_file(prediction, 20)\n",
    "# \t1569824.4586113354\t"
   ]
  },
  {
   "cell_type": "code",
   "execution_count": 168,
   "metadata": {
    "ExecuteTime": {
     "end_time": "2020-07-12T18:14:41.068906Z",
     "start_time": "2020-07-12T18:14:41.045892Z"
    },
    "hidden": true
   },
   "outputs": [
    {
     "name": "stdout",
     "output_type": "stream",
     "text": [
      "done\n"
     ]
    }
   ],
   "source": [
    "save_file(prediction, 21)\n",
    "# 0으로 바꿈\n",
    "# \t2510468.8149881857\t"
   ]
  },
  {
   "cell_type": "code",
   "execution_count": 175,
   "metadata": {
    "ExecuteTime": {
     "end_time": "2020-07-12T18:20:06.136934Z",
     "start_time": "2020-07-12T18:20:06.115924Z"
    },
    "hidden": true
   },
   "outputs": [
    {
     "name": "stdout",
     "output_type": "stream",
     "text": [
      "done\n"
     ]
    }
   ],
   "source": [
    "save_file(prediction, 22)\n",
    "# 2323819.3745796373\t"
   ]
  },
  {
   "cell_type": "markdown",
   "metadata": {
    "heading_collapsed": true
   },
   "source": [
    "## tensorflow"
   ]
  },
  {
   "cell_type": "code",
   "execution_count": 50,
   "metadata": {
    "ExecuteTime": {
     "end_time": "2020-07-12T16:57:24.426604Z",
     "start_time": "2020-07-12T16:57:18.332270Z"
    },
    "hidden": true,
    "scrolled": false
   },
   "outputs": [
    {
     "name": "stdout",
     "output_type": "stream",
     "text": [
      "cost값은 : 3389934796800.0\n",
      "cost값은 : nan\n",
      "cost값은 : nan\n",
      "cost값은 : nan\n",
      "cost값은 : nan\n",
      "cost값은 : nan\n",
      "cost값은 : nan\n",
      "cost값은 : nan\n",
      "cost값은 : nan\n",
      "cost값은 : nan\n"
     ]
    }
   ],
   "source": [
    "import tensorflow as tf\n",
    "import numpy as np\n",
    "\n",
    "X = tf.placeholder(shape = [None,25], dtype=tf.float32)\n",
    "Y = tf.placeholder(shape = [None,1], dtype=tf.float32)\n",
    "\n",
    "W = tf.Variable(tf.random_normal([25,1]), name='weight')\n",
    "b = tf.Variable(tf.random_normal([1]), name = 'bias')\n",
    "\n",
    "H = tf.matmul(X, W) + b\n",
    "cost = tf.reduce_mean(tf.square(H-Y))\n",
    "optimizer = tf.train.GradientDescentOptimizer(learning_rate = 0.0000000002)\n",
    "train = optimizer.minimize(cost)\n",
    "\n",
    "\n",
    "sess = tf.Session()\n",
    "sess.run(tf.global_variables_initializer())\n",
    "\n",
    "for step in range(5000) :\n",
    "    _, cost_val = sess.run([train, cost],\n",
    "                          feed_dict = {\n",
    "                              X : train_X.values,\n",
    "                              Y : train_Y.values.reshape(-1,1)\n",
    "                          })\n",
    "    if step % 500 == 0 :\n",
    "        print('cost값은 : {}'.format(cost_val))\n",
    "    \n",
    "prediction = sess.run(H, feed_dict = {X : test_X.values, })"
   ]
  },
  {
   "cell_type": "code",
   "execution_count": 172,
   "metadata": {
    "ExecuteTime": {
     "end_time": "2020-07-09T16:39:58.758239Z",
     "start_time": "2020-07-09T16:39:58.739227Z"
    },
    "hidden": true,
    "scrolled": true
   },
   "outputs": [
    {
     "name": "stdout",
     "output_type": "stream",
     "text": [
      "done\n"
     ]
    }
   ],
   "source": [
    "save_file(prediction, 2)\n",
    "# learning_rate = 0.0000001\n",
    "# 30000번 학습\n",
    "# \t1857916.1853515022\t "
   ]
  },
  {
   "cell_type": "code",
   "execution_count": 176,
   "metadata": {
    "ExecuteTime": {
     "end_time": "2020-07-09T16:45:41.952149Z",
     "start_time": "2020-07-09T16:45:41.911120Z"
    },
    "hidden": true
   },
   "outputs": [
    {
     "name": "stdout",
     "output_type": "stream",
     "text": [
      "done\n"
     ]
    }
   ],
   "source": [
    "save_file(prediction, 3)\n",
    "# 300000번 학습\n",
    "# 1844690.7292044302\t"
   ]
  },
  {
   "cell_type": "code",
   "execution_count": 186,
   "metadata": {
    "ExecuteTime": {
     "end_time": "2020-07-09T17:09:07.627174Z",
     "start_time": "2020-07-09T17:09:07.597153Z"
    },
    "hidden": true,
    "scrolled": true
   },
   "outputs": [
    {
     "name": "stdout",
     "output_type": "stream",
     "text": [
      "done\n"
     ]
    }
   ],
   "source": [
    "save_file(prediction, 5)\n",
    "# num_staff','num_actor'를 추가하였을 때 \n",
    "# \t1493283.9481655352\t"
   ]
  },
  {
   "cell_type": "code",
   "execution_count": 55,
   "metadata": {
    "ExecuteTime": {
     "end_time": "2020-07-12T06:42:19.482667Z",
     "start_time": "2020-07-12T06:42:19.443638Z"
    },
    "hidden": true,
    "scrolled": true
   },
   "outputs": [
    {
     "name": "stdout",
     "output_type": "stream",
     "text": [
      "done\n"
     ]
    }
   ],
   "source": [
    "save_file(prediction, 10)\n",
    "# num_staff','num_actor'를 추가하였을 때 \n",
    "# genre, screening_rat : get_dummies\n",
    "# 1493679.4503123555\t"
   ]
  },
  {
   "cell_type": "code",
   "execution_count": null,
   "metadata": {
    "hidden": true
   },
   "outputs": [],
   "source": [
    "save_file(prediction, 11)\n",
    "#1496128.6506115296\t"
   ]
  },
  {
   "cell_type": "code",
   "execution_count": 162,
   "metadata": {
    "ExecuteTime": {
     "end_time": "2020-07-12T08:58:09.280801Z",
     "start_time": "2020-07-12T08:58:09.260787Z"
    },
    "hidden": true
   },
   "outputs": [
    {
     "name": "stdout",
     "output_type": "stream",
     "text": [
      "done\n"
     ]
    }
   ],
   "source": [
    "prediction = abs(prediction.astype(int))\n",
    "# 'num_staff','num_actor', 'dir_prev_num'를 추가하였을 때\n",
    "# release_year 제거\n",
    "# -값들을 0으로 변경\n",
    "\n",
    "save_file(prediction, 14)\n",
    "\n",
    "# 1492642.1951272835"
   ]
  },
  {
   "cell_type": "markdown",
   "metadata": {
    "heading_collapsed": true
   },
   "source": [
    "## 3. k-fold , "
   ]
  },
  {
   "cell_type": "code",
   "execution_count": 52,
   "metadata": {
    "ExecuteTime": {
     "end_time": "2020-07-12T16:57:51.593911Z",
     "start_time": "2020-07-12T16:57:51.586910Z"
    },
    "hidden": true
   },
   "outputs": [
    {
     "data": {
      "text/plain": [
       "Index(['dir_prev_bfnum', 'dir_prev_num', 'num_staff', 'num_actor',\n",
       "       'box_off_num', 'new_distributor', 'genre_SF', 'genre_공포', 'genre_느와르',\n",
       "       'genre_다큐멘터리', 'genre_드라마', 'genre_멜로/로맨스', 'genre_뮤지컬', 'genre_미스터리',\n",
       "       'genre_서스펜스', 'genre_애니메이션', 'genre_액션', 'genre_코미디', 'release_year',\n",
       "       'release_month', 'release_day', 'new_time', 'genre_12세 관람가',\n",
       "       'genre_15세 관람가', 'genre_전체 관람가', 'genre_청소년 관람불가'],\n",
       "      dtype='object')"
      ]
     },
     "execution_count": 52,
     "metadata": {},
     "output_type": "execute_result"
    }
   ],
   "source": [
    "df.columns"
   ]
  },
  {
   "cell_type": "code",
   "execution_count": 54,
   "metadata": {
    "ExecuteTime": {
     "end_time": "2020-07-12T16:58:49.984410Z",
     "start_time": "2020-07-12T16:58:49.975405Z"
    },
    "hidden": true
   },
   "outputs": [],
   "source": [
    "df.columns = ['dir_prev_num', 'dir_prev_num','num_staff', 'num_actor', 'box_off_num',\n",
    "       'new_distributor', 'genre_SF', 'genre_horror', 'genre_noir', 'genre_document',\n",
    "       'genre_drama', 'genre_romance', 'genre_musical', 'genre_mystery', 'genre_suspense',\n",
    "       'genre_animation', 'genre_action', 'genre_comedy', 'release_year','release_month', 'release_day',\n",
    "       'new_time', 'genre_12', 'genre_15', 'genre_all',\n",
    "       'genre_19']\n",
    "testdf.columns = ['dir_prev_num', 'dir_prev_num','num_staff', 'num_actor',\n",
    "       'new_distributor', 'genre_SF', 'genre_horror', 'genre_noir', 'genre_document',\n",
    "       'genre_drama', 'genre_romance', 'genre_musical', 'genre_mystery', 'genre_suspense',\n",
    "       'genre_animation', 'genre_action', 'genre_comedy','release_year', 'release_month', 'release_day',\n",
    "       'new_time', 'genre_12', 'genre_15', 'genre_all',\n",
    "       'genre_19']"
   ]
  },
  {
   "cell_type": "code",
   "execution_count": 55,
   "metadata": {
    "ExecuteTime": {
     "end_time": "2020-07-12T16:58:57.142500Z",
     "start_time": "2020-07-12T16:58:52.746392Z"
    },
    "hidden": true
   },
   "outputs": [
    {
     "name": "stdout",
     "output_type": "stream",
     "text": [
      "Requirement already satisfied: lightgbm in c:\\python\\envs\\cpu_env\\lib\\site-packages (2.3.1)\n",
      "Requirement already satisfied: numpy in c:\\python\\envs\\cpu_env\\lib\\site-packages (from lightgbm) (1.18.1)\n",
      "Requirement already satisfied: scipy in c:\\python\\envs\\cpu_env\\lib\\site-packages (from lightgbm) (1.4.1)\n",
      "Requirement already satisfied: scikit-learn in c:\\python\\envs\\cpu_env\\lib\\site-packages (from lightgbm) (0.22.1)\n",
      "Requirement already satisfied: joblib>=0.11 in c:\\python\\envs\\cpu_env\\lib\\site-packages (from scikit-learn->lightgbm) (0.14.1)\n"
     ]
    }
   ],
   "source": [
    "!pip install lightgbm"
   ]
  },
  {
   "cell_type": "code",
   "execution_count": 58,
   "metadata": {
    "ExecuteTime": {
     "end_time": "2020-07-12T17:00:06.734974Z",
     "start_time": "2020-07-12T17:00:06.701935Z"
    },
    "hidden": true
   },
   "outputs": [],
   "source": [
    "import lightgbm as lgb\n",
    "from sklearn.model_selection import GridSearchCV\n",
    "from sklearn.model_selection import KFold\n",
    "k_fold = KFold(n_splits=5, shuffle=True, random_state = 777)\n",
    "\n",
    "model = lgb.LGBMRegressor(random_state = 777, n_estimators=1000)\n",
    "features = ['dir_prev_num', 'dir_prev_num','num_staff', 'num_actor',\n",
    "       'new_distributor', 'genre_SF', 'genre_horror', 'genre_noir', 'genre_document',\n",
    "       'genre_drama', 'genre_romance', 'genre_musical', 'genre_mystery', 'genre_suspense',\n",
    "       'genre_animation', 'genre_action', 'genre_comedy','release_year', 'release_month', 'release_day',\n",
    "       'new_time', 'genre_12', 'genre_15', 'genre_all',\n",
    "       'genre_19']\n",
    "\n",
    "target = ['box_off_num']\n",
    "\n",
    "params = {\n",
    "    'learning_rate' : [0.1, 0.01, 0.003],\n",
    "    'min_child_samples' : [20, 30]}\n",
    "\n",
    "gs = GridSearchCV(estimator=model,\n",
    "                 param_grid = params,\n",
    "                 scoring='neg_mean_squared_error',\n",
    "                 cv=k_fold)\n",
    "\n",
    "X_train, X_test, Y_train = df[features], testdf[features], df[target]\n"
   ]
  },
  {
   "cell_type": "code",
   "execution_count": 59,
   "metadata": {
    "ExecuteTime": {
     "end_time": "2020-07-12T17:00:45.636604Z",
     "start_time": "2020-07-12T17:00:11.147092Z"
    },
    "hidden": true,
    "scrolled": false
   },
   "outputs": [
    {
     "data": {
      "text/plain": [
       "GridSearchCV(cv=KFold(n_splits=5, random_state=777, shuffle=True),\n",
       "             error_score=nan,\n",
       "             estimator=LGBMRegressor(boosting_type='gbdt', class_weight=None,\n",
       "                                     colsample_bytree=1.0,\n",
       "                                     importance_type='split', learning_rate=0.1,\n",
       "                                     max_depth=-1, min_child_samples=20,\n",
       "                                     min_child_weight=0.001, min_split_gain=0.0,\n",
       "                                     n_estimators=1000, n_jobs=-1,\n",
       "                                     num_leaves=31, objective=None,\n",
       "                                     random_state=777, reg_alpha=0.0,\n",
       "                                     reg_lambda=0.0, silent=True, subsample=1.0,\n",
       "                                     subsample_for_bin=200000,\n",
       "                                     subsample_freq=0),\n",
       "             iid='deprecated', n_jobs=None,\n",
       "             param_grid={'learning_rate': [0.1, 0.01, 0.003],\n",
       "                         'min_child_samples': [20, 30]},\n",
       "             pre_dispatch='2*n_jobs', refit=True, return_train_score=False,\n",
       "             scoring='neg_mean_squared_error', verbose=0)"
      ]
     },
     "execution_count": 59,
     "metadata": {},
     "output_type": "execute_result"
    }
   ],
   "source": [
    "gs.fit(X_train, Y_train)"
   ]
  },
  {
   "cell_type": "code",
   "execution_count": 60,
   "metadata": {
    "ExecuteTime": {
     "end_time": "2020-07-12T17:00:48.027304Z",
     "start_time": "2020-07-12T17:00:48.019306Z"
    },
    "hidden": true
   },
   "outputs": [
    {
     "data": {
      "text/plain": [
       "{'learning_rate': 0.003, 'min_child_samples': 30}"
      ]
     },
     "execution_count": 60,
     "metadata": {},
     "output_type": "execute_result"
    }
   ],
   "source": [
    "gs.best_params_"
   ]
  },
  {
   "cell_type": "code",
   "execution_count": 62,
   "metadata": {
    "ExecuteTime": {
     "end_time": "2020-07-12T17:01:07.540171Z",
     "start_time": "2020-07-12T17:01:02.986941Z"
    },
    "hidden": true,
    "scrolled": true
   },
   "outputs": [
    {
     "name": "stdout",
     "output_type": "stream",
     "text": [
      "Training until validation scores don't improve for 100 rounds\n",
      "[100]\tvalid_0's l2: 2.5656e+12\n",
      "[200]\tvalid_0's l2: 2.47581e+12\n",
      "[300]\tvalid_0's l2: 2.43063e+12\n",
      "[400]\tvalid_0's l2: 2.4177e+12\n",
      "[500]\tvalid_0's l2: 2.41058e+12\n",
      "[600]\tvalid_0's l2: 2.3712e+12\n",
      "[700]\tvalid_0's l2: 2.32371e+12\n",
      "[800]\tvalid_0's l2: 2.33443e+12\n",
      "Early stopping, best iteration is:\n",
      "[723]\tvalid_0's l2: 2.31564e+12\n",
      "Training until validation scores don't improve for 100 rounds\n",
      "[100]\tvalid_0's l2: 5.1462e+12\n",
      "[200]\tvalid_0's l2: 4.87113e+12\n",
      "[300]\tvalid_0's l2: 4.65977e+12\n",
      "[400]\tvalid_0's l2: 4.53494e+12\n",
      "[500]\tvalid_0's l2: 4.4755e+12\n",
      "[600]\tvalid_0's l2: 4.4531e+12\n",
      "[700]\tvalid_0's l2: 4.41303e+12\n",
      "[800]\tvalid_0's l2: 4.37819e+12\n",
      "[900]\tvalid_0's l2: 4.35037e+12\n",
      "[1000]\tvalid_0's l2: 4.34754e+12\n",
      "Did not meet early stopping. Best iteration is:\n",
      "[974]\tvalid_0's l2: 4.34403e+12\n",
      "Training until validation scores don't improve for 100 rounds\n",
      "[100]\tvalid_0's l2: 3.31729e+12\n",
      "[200]\tvalid_0's l2: 3.04807e+12\n",
      "[300]\tvalid_0's l2: 2.9388e+12\n",
      "[400]\tvalid_0's l2: 2.87272e+12\n",
      "[500]\tvalid_0's l2: 2.80995e+12\n",
      "[600]\tvalid_0's l2: 2.74338e+12\n",
      "[700]\tvalid_0's l2: 2.68228e+12\n",
      "[800]\tvalid_0's l2: 2.63694e+12\n",
      "[900]\tvalid_0's l2: 2.60341e+12\n",
      "[1000]\tvalid_0's l2: 2.57307e+12\n",
      "Did not meet early stopping. Best iteration is:\n",
      "[1000]\tvalid_0's l2: 2.57307e+12\n",
      "Training until validation scores don't improve for 100 rounds\n",
      "[100]\tvalid_0's l2: 1.65084e+12\n",
      "[200]\tvalid_0's l2: 1.43238e+12\n",
      "[300]\tvalid_0's l2: 1.33541e+12\n",
      "[400]\tvalid_0's l2: 1.29392e+12\n",
      "[500]\tvalid_0's l2: 1.28158e+12\n",
      "[600]\tvalid_0's l2: 1.27361e+12\n",
      "[700]\tvalid_0's l2: 1.2708e+12\n",
      "[800]\tvalid_0's l2: 1.25015e+12\n",
      "[900]\tvalid_0's l2: 1.22237e+12\n",
      "[1000]\tvalid_0's l2: 1.22509e+12\n",
      "Did not meet early stopping. Best iteration is:\n",
      "[920]\tvalid_0's l2: 1.22131e+12\n",
      "Training until validation scores don't improve for 100 rounds\n",
      "[100]\tvalid_0's l2: 1.99434e+12\n",
      "[200]\tvalid_0's l2: 1.78325e+12\n",
      "[300]\tvalid_0's l2: 1.67674e+12\n",
      "[400]\tvalid_0's l2: 1.58396e+12\n",
      "[500]\tvalid_0's l2: 1.52786e+12\n",
      "[600]\tvalid_0's l2: 1.48563e+12\n",
      "[700]\tvalid_0's l2: 1.4511e+12\n",
      "[800]\tvalid_0's l2: 1.42061e+12\n",
      "[900]\tvalid_0's l2: 1.41223e+12\n",
      "Early stopping, best iteration is:\n",
      "[854]\tvalid_0's l2: 1.4108e+12\n"
     ]
    }
   ],
   "source": [
    "model = lgb.LGBMRegressor(random_state = 777, n_estimators=1000, learning_rate= 0.003, min_child_samples= 30)\n",
    "models = []\n",
    "for train_idx, val_idx in k_fold.split(X_train) :\n",
    "    x_t = X_train.iloc[train_idx]\n",
    "    y_t = Y_train.iloc[train_idx]\n",
    "    x_val = X_train.iloc[val_idx]\n",
    "    y_val = Y_train.iloc[val_idx]\n",
    "    \n",
    "    models.append(model.fit(x_t, y_t, eval_set = (x_val, y_val), early_stopping_rounds=100, verbose=100))\n",
    "    "
   ]
  },
  {
   "cell_type": "code",
   "execution_count": 63,
   "metadata": {
    "ExecuteTime": {
     "end_time": "2020-07-12T17:01:10.579331Z",
     "start_time": "2020-07-12T17:01:10.383192Z"
    },
    "hidden": true
   },
   "outputs": [
    {
     "data": {
      "text/plain": [
       "5"
      ]
     },
     "execution_count": 63,
     "metadata": {},
     "output_type": "execute_result"
    }
   ],
   "source": [
    "preds = []\n",
    "for model in models :\n",
    "    preds.append(model.predict(X_test))\n",
    "len(preds)"
   ]
  },
  {
   "cell_type": "code",
   "execution_count": 64,
   "metadata": {
    "ExecuteTime": {
     "end_time": "2020-07-12T17:01:12.670818Z",
     "start_time": "2020-07-12T17:01:12.665833Z"
    },
    "hidden": true
   },
   "outputs": [],
   "source": [
    "import numpy as np\n",
    "prediction = np.mean(preds, axis=0)"
   ]
  },
  {
   "cell_type": "code",
   "execution_count": 231,
   "metadata": {
    "ExecuteTime": {
     "end_time": "2020-07-12T09:35:08.793750Z",
     "start_time": "2020-07-12T09:35:08.769734Z"
    },
    "hidden": true
   },
   "outputs": [
    {
     "name": "stdout",
     "output_type": "stream",
     "text": [
      "done\n"
     ]
    }
   ],
   "source": [
    "save_file(prediction, 15)"
   ]
  },
  {
   "cell_type": "code",
   "execution_count": 68,
   "metadata": {
    "ExecuteTime": {
     "end_time": "2020-07-12T17:03:19.379872Z",
     "start_time": "2020-07-12T17:03:19.356855Z"
    },
    "hidden": true
   },
   "outputs": [
    {
     "name": "stdout",
     "output_type": "stream",
     "text": [
      "done\n"
     ]
    }
   ],
   "source": [
    "save_file(prediction, 19)\n",
    "# 1479080.053011345"
   ]
  },
  {
   "cell_type": "markdown",
   "metadata": {
    "heading_collapsed": true
   },
   "source": [
    "# tmp"
   ]
  },
  {
   "cell_type": "code",
   "execution_count": null,
   "metadata": {
    "hidden": true
   },
   "outputs": [],
   "source": [
    "#screen_rat\n",
    "def screen_rat(df) :\n",
    "    tmp = sorted(df['screening_rat'].unique(), reverse=False)\n",
    "\n",
    "    mapping = {}\n",
    "    num = 1\n",
    "    for i in tmp :\n",
    "        mapping.update({i : num})\n",
    "        num += 1\n",
    "\n",
    "    return make_col(df, 'screening_rat', mapping)\n",
    "\n",
    "def staff(df) :\n",
    "    new_staff = []\n",
    "    for i in df['num_staff'] :\n",
    "        if i == 0 :\n",
    "            new_staff.append(0)\n",
    "        elif i <= 100 :\n",
    "            new_staff.append(1)\n",
    "        elif i <= 500 :\n",
    "            new_staff.append(2)\n",
    "        else :\n",
    "            new_staff.append(3)\n",
    "    df['new_staff'] = pd.DataFrame(new_staff)\n",
    "    del df['num_staff']\n",
    "    return df\n",
    "\n",
    "def actor(df) :\n",
    "    new_actor = []\n",
    "    for i in df['num_actor'] :\n",
    "        if i == 0 :\n",
    "            new_actor.append(0)\n",
    "        elif i <= 5 :\n",
    "            new_actor.append(1)\n",
    "        elif i <= 10:\n",
    "            new_actor.append(2)\n",
    "        else :\n",
    "            new_actor.append(3)\n",
    "    df['new_actor'] = pd.DataFrame(new_actor)\n",
    "    del df['num_actor']\n",
    "    return df\n",
    "\n",
    "\n",
    "# time \n",
    "def time(df) :\n",
    "    new_time = []\n",
    "    for i in df['time'] :\n",
    "        if i >= 90 and i < 130 :\n",
    "            new_time.append(3)\n",
    "        elif i > 70 : \n",
    "            new_time.append(2)\n",
    "        else :\n",
    "            new_time.append(1)\n",
    "\n",
    "    df['new_time'] = pd.DataFrame(new_time)\n",
    "    del df['time']\n",
    "    return df"
   ]
  },
  {
   "cell_type": "code",
   "execution_count": null,
   "metadata": {
    "hidden": true
   },
   "outputs": [],
   "source": [
    "n = 0\n",
    "a = 0\n",
    "idx = []\n",
    "for i in range(len(prediction)) :\n",
    "    if prediction[i] < 0 :\n",
    "        prediction[i] = 0\n",
    "        n += 1\n",
    "        #print(i, a)\n",
    "        idx.append(a)\n",
    "    a += 1\n",
    "#test_X.loc[idx, :].sort_values(by = 'num_staff', ascending=False)\n",
    "prediction"
   ]
  },
  {
   "cell_type": "code",
   "execution_count": 167,
   "metadata": {
    "ExecuteTime": {
     "end_time": "2020-07-12T18:14:30.346287Z",
     "start_time": "2020-07-12T18:14:30.340282Z"
    },
    "hidden": true
   },
   "outputs": [],
   "source": [
    "for i in range(len(prediction)) :\n",
    "    if prediction[i] < 0 :\n",
    "        prediction[i] = 0\n"
   ]
  }
 ],
 "metadata": {
  "kernelspec": {
   "display_name": "Python [conda env:cpu_env] *",
   "language": "python",
   "name": "conda-env-cpu_env-py"
  },
  "language_info": {
   "codemirror_mode": {
    "name": "ipython",
    "version": 3
   },
   "file_extension": ".py",
   "mimetype": "text/x-python",
   "name": "python",
   "nbconvert_exporter": "python",
   "pygments_lexer": "ipython3",
   "version": "3.6.9"
  },
  "toc": {
   "base_numbering": 1,
   "nav_menu": {},
   "number_sections": true,
   "sideBar": true,
   "skip_h1_title": false,
   "title_cell": "Table of Contents",
   "title_sidebar": "Contents",
   "toc_cell": false,
   "toc_position": {},
   "toc_section_display": true,
   "toc_window_display": true
  },
  "varInspector": {
   "cols": {
    "lenName": 16,
    "lenType": 16,
    "lenVar": 40
   },
   "kernels_config": {
    "python": {
     "delete_cmd_postfix": "",
     "delete_cmd_prefix": "del ",
     "library": "var_list.py",
     "varRefreshCmd": "print(var_dic_list())"
    },
    "r": {
     "delete_cmd_postfix": ") ",
     "delete_cmd_prefix": "rm(",
     "library": "var_list.r",
     "varRefreshCmd": "cat(var_dic_list()) "
    }
   },
   "types_to_exclude": [
    "module",
    "function",
    "builtin_function_or_method",
    "instance",
    "_Feature"
   ],
   "window_display": false
  }
 },
 "nbformat": 4,
 "nbformat_minor": 2
}
