{
 "cells": [
  {
   "cell_type": "code",
   "execution_count": 226,
   "metadata": {
    "ExecuteTime": {
     "end_time": "2020-07-13T16:48:19.447389Z",
     "start_time": "2020-07-13T16:48:19.417367Z"
    }
   },
   "outputs": [],
   "source": [
    "import pandas as pd\n",
    "df = pd.read_csv('./data/movies_train.csv')\n",
    "testdf = pd.read_csv('./data/movies_test.csv')"
   ]
  },
  {
   "cell_type": "markdown",
   "metadata": {},
   "source": [
    "# 전처리"
   ]
  },
  {
   "cell_type": "code",
   "execution_count": 36,
   "metadata": {
    "ExecuteTime": {
     "end_time": "2020-07-13T15:39:58.399739Z",
     "start_time": "2020-07-13T15:39:58.392734Z"
    }
   },
   "outputs": [],
   "source": [
    "# column 생성\n",
    "def make_col(dataframe, column_name, mapper) :\n",
    "    new = []\n",
    "    for i in dataframe[column_name] :\n",
    "        if i in mapper.keys() :\n",
    "            new.append(mapper.get(i))\n",
    "        else :\n",
    "            new.append(1)\n",
    "    dataframe['new_' + str(column_name)] = pd.DataFrame(new)\n",
    "    del dataframe[column_name]\n",
    "    return dataframe"
   ]
  },
  {
   "cell_type": "markdown",
   "metadata": {},
   "source": [
    "## title\n",
    "title 은 제거"
   ]
  },
  {
   "cell_type": "code",
   "execution_count": 227,
   "metadata": {
    "ExecuteTime": {
     "end_time": "2020-07-13T16:48:20.346027Z",
     "start_time": "2020-07-13T16:48:20.339021Z"
    }
   },
   "outputs": [],
   "source": [
    "del df['title']\n",
    "del testdf['title']"
   ]
  },
  {
   "cell_type": "markdown",
   "metadata": {},
   "source": [
    "## distributor"
   ]
  },
  {
   "cell_type": "code",
   "execution_count": 228,
   "metadata": {
    "ExecuteTime": {
     "end_time": "2020-07-13T16:48:21.925148Z",
     "start_time": "2020-07-13T16:48:21.881119Z"
    }
   },
   "outputs": [],
   "source": [
    "a = df.groupby(['distributor']).mean()['box_off_num'].sort_values(ascending=False)\n",
    "\n",
    "distributor_mapper = {}\n",
    "for i in range(len(a)) :\n",
    "    if a[i] >= 1000000 :\n",
    "        distributor_mapper.update({a.index[i] : 5 })\n",
    "    elif a[i] >= 100000 :\n",
    "        distributor_mapper.update({a.index[i] : 4 })\n",
    "    elif a[i] >= 10000 :\n",
    "        distributor_mapper.update({a.index[i] : 3 })\n",
    "    elif a[i] >= 1000 :\n",
    "        distributor_mapper.update({a.index[i] : 2 })\n",
    "    else :\n",
    "        distributor_mapper.update({a.index[i] : 1 })\n",
    "\n",
    "df = make_col(df, 'distributor', distributor_mapper )\n",
    "testdf = make_col(testdf, 'distributor', distributor_mapper )"
   ]
  },
  {
   "cell_type": "markdown",
   "metadata": {
    "heading_collapsed": true
   },
   "source": [
    "### 배급사별 box_off_num 의 평균에 따른 head, tail"
   ]
  },
  {
   "cell_type": "code",
   "execution_count": 18,
   "metadata": {
    "ExecuteTime": {
     "end_time": "2020-07-13T15:23:50.701003Z",
     "start_time": "2020-07-13T15:23:50.681971Z"
    },
    "hidden": true,
    "scrolled": true
   },
   "outputs": [
    {
     "data": {
      "text/plain": [
       "distributor\n",
       "CJ E&M Pictures    4.122337e+06\n",
       "(주)쇼박스             3.386656e+06\n",
       "(주)아이필름코퍼레이션       3.117859e+06\n",
       "쇼박스(주)미디어플렉스       2.634823e+06\n",
       "영구아트무비             2.541603e+06\n",
       "CJ E&M 영화부문        2.505309e+06\n",
       "(주)NEW             2.184405e+06\n",
       "CJ 엔터테인먼트          2.162742e+06\n",
       "이십세기폭스코리아(주)       1.637046e+06\n",
       "SK텔레콤(주)           1.383867e+06\n",
       "CGV아트하우스           1.318189e+06\n",
       "롯데엔터테인먼트           1.238149e+06\n",
       "전망좋은영화사            1.214237e+06\n",
       "주머니필름              1.201944e+06\n",
       "NEW                1.019017e+06\n",
       "싸이더스               9.634390e+05\n",
       "시네마서비스             8.968432e+05\n",
       "보람엔터테인먼트           8.496350e+05\n",
       "스튜디오 블루            7.716990e+05\n",
       "씨네그루(주)키다리이엔티      7.551840e+05\n",
       "Name: box_off_num, dtype: float64"
      ]
     },
     "execution_count": 18,
     "metadata": {},
     "output_type": "execute_result"
    }
   ],
   "source": [
    "df.groupby(['distributor']).mean()['box_off_num'].sort_values(ascending=False).head(20)"
   ]
  },
  {
   "cell_type": "code",
   "execution_count": 19,
   "metadata": {
    "ExecuteTime": {
     "end_time": "2020-07-13T15:24:29.927864Z",
     "start_time": "2020-07-13T15:24:29.907849Z"
    },
    "hidden": true
   },
   "outputs": [
    {
     "data": {
      "text/plain": [
       "distributor\n",
       "웃기씨네           464.5\n",
       "판다미디어          432.0\n",
       "(주)더픽쳐스        429.0\n",
       "이상우필름          339.0\n",
       "(주)온비즈넷        310.0\n",
       "(주)유비네트워크      303.0\n",
       "(주)휘엔터테인먼트     228.0\n",
       "크리에이티브컴즈(주)    188.0\n",
       "ysfilm         172.0\n",
       "에스와이코마드        163.0\n",
       "건시네마           162.0\n",
       "(주)씨엠닉스        136.0\n",
       "위더스필름           90.0\n",
       "인터콘미디어          79.0\n",
       "한국YWCA연합회       71.0\n",
       "나우콘텐츠           54.0\n",
       "위드시네마           46.0\n",
       "사람과 사람들         42.0\n",
       "고구마공작소           8.0\n",
       "인피니티엔터테인먼트       2.0\n",
       "Name: box_off_num, dtype: float64"
      ]
     },
     "execution_count": 19,
     "metadata": {},
     "output_type": "execute_result"
    }
   ],
   "source": [
    "df.groupby(['distributor']).mean()['box_off_num'].sort_values(ascending=False).tail(20)"
   ]
  },
  {
   "cell_type": "markdown",
   "metadata": {},
   "source": [
    "## genre"
   ]
  },
  {
   "cell_type": "markdown",
   "metadata": {
    "heading_collapsed": true
   },
   "source": [
    "### genre 에 따른 box_off_num 평균 확인"
   ]
  },
  {
   "cell_type": "code",
   "execution_count": 187,
   "metadata": {
    "ExecuteTime": {
     "end_time": "2020-07-13T16:35:32.472292Z",
     "start_time": "2020-07-13T16:35:32.454297Z"
    },
    "hidden": true
   },
   "outputs": [
    {
     "data": {
      "text/plain": [
       "Index(['느와르', '액션', 'SF', '코미디', '드라마', '공포', '미스터리', '멜로/로맨스', '애니메이션',\n",
       "       '서스펜스', '다큐멘터리', '뮤지컬'],\n",
       "      dtype='object', name='genre')"
      ]
     },
     "execution_count": 187,
     "metadata": {},
     "output_type": "execute_result"
    }
   ],
   "source": [
    "df.groupby(['genre']).mean()['box_off_num'].sort_values(ascending=False).index"
   ]
  },
  {
   "cell_type": "code",
   "execution_count": 186,
   "metadata": {
    "ExecuteTime": {
     "end_time": "2020-07-13T16:28:40.310365Z",
     "start_time": "2020-07-13T16:28:40.289351Z"
    },
    "hidden": true,
    "scrolled": true
   },
   "outputs": [
    {
     "data": {
      "text/plain": [
       "genre\n",
       "느와르       2.263695e+06\n",
       "액션        2.203974e+06\n",
       "SF        1.788346e+06\n",
       "코미디       1.193914e+06\n",
       "드라마       6.256898e+05\n",
       "공포        5.908325e+05\n",
       "미스터리      5.275482e+05\n",
       "멜로/로맨스    4.259680e+05\n",
       "애니메이션     1.819267e+05\n",
       "서스펜스      8.261100e+04\n",
       "다큐멘터리     6.717226e+04\n",
       "뮤지컬       6.627000e+03\n",
       "Name: box_off_num, dtype: float64"
      ]
     },
     "execution_count": 186,
     "metadata": {},
     "output_type": "execute_result"
    }
   ],
   "source": [
    "df.groupby(['genre']).mean()['box_off_num'].sort_values(ascending=False)"
   ]
  },
  {
   "cell_type": "code",
   "execution_count": 185,
   "metadata": {
    "ExecuteTime": {
     "end_time": "2020-07-13T16:27:32.892451Z",
     "start_time": "2020-07-13T16:27:32.880443Z"
    },
    "hidden": true
   },
   "outputs": [
    {
     "data": {
      "text/plain": [
       "드라마       221\n",
       "다큐멘터리      93\n",
       "멜로/로맨스     78\n",
       "코미디        53\n",
       "공포         42\n",
       "액션         28\n",
       "느와르        27\n",
       "애니메이션      21\n",
       "미스터리       17\n",
       "SF         13\n",
       "뮤지컬         5\n",
       "서스펜스        2\n",
       "Name: genre, dtype: int64"
      ]
     },
     "execution_count": 185,
     "metadata": {},
     "output_type": "execute_result"
    }
   ],
   "source": [
    "df['genre'].value_counts()"
   ]
  },
  {
   "cell_type": "markdown",
   "metadata": {
    "heading_collapsed": true
   },
   "source": [
    "### genre_version1"
   ]
  },
  {
   "cell_type": "code",
   "execution_count": 168,
   "metadata": {
    "ExecuteTime": {
     "end_time": "2020-07-13T16:25:25.516923Z",
     "start_time": "2020-07-13T16:25:25.488903Z"
    },
    "hidden": true
   },
   "outputs": [],
   "source": [
    "df = pd.get_dummies(df, columns=['genre'], prefix='genre')\n",
    "testdf = pd.get_dummies(testdf, columns=['genre'], prefix='genre')"
   ]
  },
  {
   "cell_type": "markdown",
   "metadata": {},
   "source": [
    "### genre_version2\n",
    "\n",
    "version1, 3 보다 좋음\n",
    "\n",
    "영화 종류 묶기 + box_off_num의 평균에 따라 비선호 영화 묶기\n",
    "\n",
    "=> 1466134.4524178207\t\n",
    "\n",
    "* 드라마 멜로/로맨스6\n",
    "\n",
    "* 느와르 액션5\n",
    "\n",
    "* sf4\n",
    "\n",
    "* 코미디3\n",
    "\n",
    "* 공포 미스터리 서스펜스2\n",
    "\n",
    "* 애니메이션 다큐멘터리 뮤지컬1"
   ]
  },
  {
   "cell_type": "code",
   "execution_count": 229,
   "metadata": {
    "ExecuteTime": {
     "end_time": "2020-07-13T16:48:28.939134Z",
     "start_time": "2020-07-13T16:48:28.920123Z"
    }
   },
   "outputs": [],
   "source": [
    "genre_mapper = {'느와르' : 5 , '액션' : 5, 'SF' : 4, '코미디' : 3, '드라마' : 6, '공포' : 2, '미스터리' : 2, '멜로/로맨스' : 6, '애니메이션' : 1,\n",
    "       '서스펜스' : 2, '다큐멘터리' : 1, '뮤지컬' : 1} \n",
    "\n",
    "df = make_col(df, 'genre', genre_mapper )\n",
    "testdf = make_col(testdf, 'genre', genre_mapper )"
   ]
  },
  {
   "cell_type": "markdown",
   "metadata": {
    "heading_collapsed": true
   },
   "source": [
    "### genre_version3\n",
    "\n",
    "box_off_num 평균에 따라 임의로 분류\n",
    "\n",
    "=> 1467553.925063711 "
   ]
  },
  {
   "cell_type": "code",
   "execution_count": null,
   "metadata": {
    "hidden": true
   },
   "outputs": [],
   "source": [
    "느와르       4\n",
    "액션        4\n",
    "SF        3\n",
    "코미디       3\n",
    "드라마       2\n",
    "공포        2\n",
    "미스터리      2\n",
    "멜로/로맨스    2\n",
    "애니메이션     1\n",
    "서스펜스     1\n",
    "다큐멘터리     1\n",
    "뮤지컬       1"
   ]
  },
  {
   "cell_type": "code",
   "execution_count": 210,
   "metadata": {
    "ExecuteTime": {
     "end_time": "2020-07-13T16:45:20.479195Z",
     "start_time": "2020-07-13T16:45:20.464182Z"
    },
    "hidden": true
   },
   "outputs": [],
   "source": [
    "genre_mapper = {'느와르' : 4 , '액션' : 4, 'SF' : 3, '코미디' : 3, '드라마' : 2, '공포' : 2, '미스터리' : 2, '멜로/로맨스' : 2, '애니메이션' : 1,\n",
    "       '서스펜스' : 1, '다큐멘터리' : 1, '뮤지컬' : 1} \n",
    "\n",
    "df = make_col(df, 'genre', genre_mapper )\n",
    "testdf = make_col(testdf, 'genre', genre_mapper )"
   ]
  },
  {
   "cell_type": "markdown",
   "metadata": {},
   "source": [
    "## release_time"
   ]
  },
  {
   "cell_type": "code",
   "execution_count": 230,
   "metadata": {
    "ExecuteTime": {
     "end_time": "2020-07-13T16:48:31.944270Z",
     "start_time": "2020-07-13T16:48:31.906244Z"
    }
   },
   "outputs": [],
   "source": [
    "def release_time(df) :\n",
    "    years, months, days = [], [], []\n",
    "    for line in df['release_time'] :\n",
    "        a = line.split('-')\n",
    "        years.append(int(a[0]))\n",
    "        months.append(int(a[1]))\n",
    "        days.append(a[2])\n",
    "        \n",
    "    new_days = []\n",
    "    for i in range(len(days)) :\n",
    "        if int(days[i]) >= 20 :\n",
    "            new_days.append(3)\n",
    "        elif int(days[i]) >= 10 :\n",
    "            new_days.append(2)\n",
    "        else :\n",
    "            new_days.append(1)    \n",
    "            \n",
    "    df['release_year'] = pd.DataFrame(years)\n",
    "    df['release_month'] = pd.DataFrame(months)\n",
    "    df['release_day'] = pd.DataFrame(new_days)\n",
    "\n",
    "    del df['release_time']\n",
    "    return df\n",
    "\n",
    "df = release_time(df)\n",
    "testdf = release_time(testdf)"
   ]
  },
  {
   "cell_type": "markdown",
   "metadata": {},
   "source": [
    "## time\n",
    "\n",
    "전처리 이전과 비교하였을 때, box_off_num 과의 상관관계는 낮아졌다 ( 0.44 -> 0.29 ) \n",
    "\n",
    "하지만, 전처리 이후 성능이 개선됨\n",
    "\n",
    "=> 1472434.761373017 ( 130, 70, ~ )\n",
    "\n",
    "=> 1472973.0197688688 ( 130, 100, 70, ~ )"
   ]
  },
  {
   "cell_type": "code",
   "execution_count": 231,
   "metadata": {
    "ExecuteTime": {
     "end_time": "2020-07-13T16:48:33.564422Z",
     "start_time": "2020-07-13T16:48:33.545407Z"
    }
   },
   "outputs": [],
   "source": [
    "def time(df) :\n",
    "    new_time = []\n",
    "    for i in df['time'] :\n",
    "        if i >= 130 :\n",
    "            new_time.append(3)\n",
    "        elif i > 70 : \n",
    "            new_time.append(2)\n",
    "        else :\n",
    "            new_time.append(1)\n",
    "\n",
    "    df['new_time'] = pd.DataFrame(new_time)\n",
    "    del df['time']\n",
    "    return df\n",
    "\n",
    "df = time(df)\n",
    "testdf = time(testdf)"
   ]
  },
  {
   "cell_type": "markdown",
   "metadata": {},
   "source": [
    "## screening_rat"
   ]
  },
  {
   "cell_type": "markdown",
   "metadata": {},
   "source": [
    "### mapping_version1\n",
    "\n",
    "version1 이 더 좋음"
   ]
  },
  {
   "cell_type": "code",
   "execution_count": 232,
   "metadata": {
    "ExecuteTime": {
     "end_time": "2020-07-13T16:48:34.824318Z",
     "start_time": "2020-07-13T16:48:34.809305Z"
    }
   },
   "outputs": [],
   "source": [
    "screening_rat_mapper = {'15세 관람가' : 3, '12세 관람가' : 2, '전체 관람가' : 2, '청소년 관람불가' : 1} \n",
    "\n",
    "df = make_col(df, 'screening_rat', screening_rat_mapper )\n",
    "testdf = make_col(testdf, 'screening_rat', screening_rat_mapper )"
   ]
  },
  {
   "cell_type": "markdown",
   "metadata": {
    "heading_collapsed": true
   },
   "source": [
    "### mapping_version2"
   ]
  },
  {
   "cell_type": "code",
   "execution_count": 83,
   "metadata": {
    "ExecuteTime": {
     "end_time": "2020-07-13T16:07:21.579559Z",
     "start_time": "2020-07-13T16:07:21.570555Z"
    },
    "hidden": true
   },
   "outputs": [],
   "source": [
    "def screen_rat(df) :\n",
    "    tmp = sorted(df['screening_rat'].unique(), reverse=False)\n",
    "\n",
    "    mapping = {}\n",
    "    num = 1\n",
    "    for i in tmp :\n",
    "        mapping.update({i : num})\n",
    "        num += 1\n",
    "\n",
    "    return make_col(df, 'screening_rat', mapping)"
   ]
  },
  {
   "cell_type": "code",
   "execution_count": 84,
   "metadata": {
    "ExecuteTime": {
     "end_time": "2020-07-13T16:07:23.111649Z",
     "start_time": "2020-07-13T16:07:23.097638Z"
    },
    "hidden": true
   },
   "outputs": [],
   "source": [
    "df = screen_rat(df)\n",
    "testdf = screen_rat(testdf)"
   ]
  },
  {
   "cell_type": "markdown",
   "metadata": {
    "heading_collapsed": true
   },
   "source": [
    "### 관람 연령 제한에 따른 box_off_num 평균, 영화 수 "
   ]
  },
  {
   "cell_type": "code",
   "execution_count": 51,
   "metadata": {
    "ExecuteTime": {
     "end_time": "2020-07-13T15:44:29.808630Z",
     "start_time": "2020-07-13T15:44:29.769605Z"
    },
    "hidden": true,
    "scrolled": true
   },
   "outputs": [
    {
     "data": {
      "text/plain": [
       "screening_rat\n",
       "15세 관람가     1.247519e+06\n",
       "12세 관람가     8.449809e+05\n",
       "청소년 관람불가    3.641813e+05\n",
       "전체 관람가      1.351005e+05\n",
       "Name: box_off_num, dtype: float64"
      ]
     },
     "execution_count": 51,
     "metadata": {},
     "output_type": "execute_result"
    }
   ],
   "source": [
    "df.groupby(['screening_rat']).mean()['box_off_num'].sort_values(ascending=False)"
   ]
  },
  {
   "cell_type": "code",
   "execution_count": 52,
   "metadata": {
    "ExecuteTime": {
     "end_time": "2020-07-13T15:44:55.564935Z",
     "start_time": "2020-07-13T15:44:55.545922Z"
    },
    "hidden": true
   },
   "outputs": [
    {
     "data": {
      "text/plain": [
       "screening_rat\n",
       "청소년 관람불가    204\n",
       "15세 관람가     202\n",
       "12세 관람가     102\n",
       "전체 관람가       92\n",
       "Name: box_off_num, dtype: int64"
      ]
     },
     "execution_count": 52,
     "metadata": {},
     "output_type": "execute_result"
    }
   ],
   "source": [
    "df.groupby(['screening_rat']).count()['box_off_num'].sort_values(ascending=False)"
   ]
  },
  {
   "cell_type": "markdown",
   "metadata": {},
   "source": [
    "## director"
   ]
  },
  {
   "cell_type": "code",
   "execution_count": 233,
   "metadata": {
    "ExecuteTime": {
     "end_time": "2020-07-13T16:48:36.061197Z",
     "start_time": "2020-07-13T16:48:36.052189Z"
    }
   },
   "outputs": [],
   "source": [
    "del df['director']\n",
    "del testdf['director']"
   ]
  },
  {
   "cell_type": "markdown",
   "metadata": {},
   "source": [
    "## dir_prev_bfnum"
   ]
  },
  {
   "cell_type": "code",
   "execution_count": 234,
   "metadata": {
    "ExecuteTime": {
     "end_time": "2020-07-13T16:48:37.500218Z",
     "start_time": "2020-07-13T16:48:37.488212Z"
    }
   },
   "outputs": [],
   "source": [
    "# 결측치 0으로 채워 넣음\n",
    "df = df.fillna(0)\n",
    "testdf = testdf.fillna(0)"
   ]
  },
  {
   "cell_type": "markdown",
   "metadata": {
    "heading_collapsed": true
   },
   "source": [
    "## dir_prev_num"
   ]
  },
  {
   "cell_type": "code",
   "execution_count": 61,
   "metadata": {
    "ExecuteTime": {
     "end_time": "2020-07-13T15:57:20.576422Z",
     "start_time": "2020-07-13T15:57:20.558408Z"
    },
    "hidden": true
   },
   "outputs": [
    {
     "data": {
      "text/plain": [
       "dir_prev_num\n",
       "0    330\n",
       "1    113\n",
       "2     86\n",
       "3     47\n",
       "4     20\n",
       "5      4\n",
       "Name: box_off_num, dtype: int64"
      ]
     },
     "execution_count": 61,
     "metadata": {},
     "output_type": "execute_result"
    }
   ],
   "source": [
    "# 그대로 사용"
   ]
  },
  {
   "cell_type": "markdown",
   "metadata": {
    "heading_collapsed": true
   },
   "source": [
    "## num_staff"
   ]
  },
  {
   "cell_type": "code",
   "execution_count": null,
   "metadata": {
    "hidden": true
   },
   "outputs": [],
   "source": [
    "# 그대로 사용"
   ]
  },
  {
   "cell_type": "markdown",
   "metadata": {
    "heading_collapsed": true
   },
   "source": [
    "## num_actor"
   ]
  },
  {
   "cell_type": "code",
   "execution_count": null,
   "metadata": {
    "hidden": true
   },
   "outputs": [],
   "source": [
    "# 그대로 사용"
   ]
  },
  {
   "cell_type": "markdown",
   "metadata": {
    "heading_collapsed": true
   },
   "source": [
    "# 상관관계"
   ]
  },
  {
   "cell_type": "code",
   "execution_count": 235,
   "metadata": {
    "ExecuteTime": {
     "end_time": "2020-07-13T16:48:43.342371Z",
     "start_time": "2020-07-13T16:48:43.289333Z"
    },
    "hidden": true,
    "scrolled": true
   },
   "outputs": [
    {
     "data": {
      "text/html": [
       "<div>\n",
       "<style scoped>\n",
       "    .dataframe tbody tr th:only-of-type {\n",
       "        vertical-align: middle;\n",
       "    }\n",
       "\n",
       "    .dataframe tbody tr th {\n",
       "        vertical-align: top;\n",
       "    }\n",
       "\n",
       "    .dataframe thead th {\n",
       "        text-align: right;\n",
       "    }\n",
       "</style>\n",
       "<table border=\"1\" class=\"dataframe\">\n",
       "  <thead>\n",
       "    <tr style=\"text-align: right;\">\n",
       "      <th></th>\n",
       "      <th>dir_prev_bfnum</th>\n",
       "      <th>dir_prev_num</th>\n",
       "      <th>num_staff</th>\n",
       "      <th>num_actor</th>\n",
       "      <th>box_off_num</th>\n",
       "      <th>new_distributor</th>\n",
       "      <th>new_genre</th>\n",
       "      <th>release_year</th>\n",
       "      <th>release_month</th>\n",
       "      <th>release_day</th>\n",
       "      <th>new_time</th>\n",
       "      <th>new_screening_rat</th>\n",
       "    </tr>\n",
       "  </thead>\n",
       "  <tbody>\n",
       "    <tr>\n",
       "      <th>box_off_num</th>\n",
       "      <td>0.293791</td>\n",
       "      <td>0.259674</td>\n",
       "      <td>0.544265</td>\n",
       "      <td>0.111179</td>\n",
       "      <td>1.000000</td>\n",
       "      <td>0.450164</td>\n",
       "      <td>0.095954</td>\n",
       "      <td>-0.002497</td>\n",
       "      <td>0.019104</td>\n",
       "      <td>-0.011023</td>\n",
       "      <td>0.294977</td>\n",
       "      <td>0.198700</td>\n",
       "    </tr>\n",
       "    <tr>\n",
       "      <th>num_staff</th>\n",
       "      <td>0.369657</td>\n",
       "      <td>0.450706</td>\n",
       "      <td>1.000000</td>\n",
       "      <td>0.077871</td>\n",
       "      <td>0.544265</td>\n",
       "      <td>0.691844</td>\n",
       "      <td>0.267746</td>\n",
       "      <td>-0.032891</td>\n",
       "      <td>-0.002841</td>\n",
       "      <td>0.008254</td>\n",
       "      <td>0.329142</td>\n",
       "      <td>0.190978</td>\n",
       "    </tr>\n",
       "    <tr>\n",
       "      <th>new_distributor</th>\n",
       "      <td>0.273246</td>\n",
       "      <td>0.394395</td>\n",
       "      <td>0.691844</td>\n",
       "      <td>0.076260</td>\n",
       "      <td>0.450164</td>\n",
       "      <td>1.000000</td>\n",
       "      <td>0.087552</td>\n",
       "      <td>-0.059856</td>\n",
       "      <td>-0.027985</td>\n",
       "      <td>-0.027702</td>\n",
       "      <td>0.256027</td>\n",
       "      <td>0.240402</td>\n",
       "    </tr>\n",
       "    <tr>\n",
       "      <th>new_time</th>\n",
       "      <td>0.197864</td>\n",
       "      <td>0.160672</td>\n",
       "      <td>0.329142</td>\n",
       "      <td>0.033701</td>\n",
       "      <td>0.294977</td>\n",
       "      <td>0.256027</td>\n",
       "      <td>0.102547</td>\n",
       "      <td>-0.052543</td>\n",
       "      <td>0.008131</td>\n",
       "      <td>0.029267</td>\n",
       "      <td>1.000000</td>\n",
       "      <td>0.007174</td>\n",
       "    </tr>\n",
       "    <tr>\n",
       "      <th>dir_prev_bfnum</th>\n",
       "      <td>1.000000</td>\n",
       "      <td>0.396616</td>\n",
       "      <td>0.369657</td>\n",
       "      <td>0.042491</td>\n",
       "      <td>0.293791</td>\n",
       "      <td>0.273246</td>\n",
       "      <td>0.074968</td>\n",
       "      <td>0.033592</td>\n",
       "      <td>0.047183</td>\n",
       "      <td>-0.035287</td>\n",
       "      <td>0.197864</td>\n",
       "      <td>0.074945</td>\n",
       "    </tr>\n",
       "    <tr>\n",
       "      <th>dir_prev_num</th>\n",
       "      <td>0.396616</td>\n",
       "      <td>1.000000</td>\n",
       "      <td>0.450706</td>\n",
       "      <td>0.014006</td>\n",
       "      <td>0.259674</td>\n",
       "      <td>0.394395</td>\n",
       "      <td>0.125345</td>\n",
       "      <td>0.132621</td>\n",
       "      <td>0.034019</td>\n",
       "      <td>0.030678</td>\n",
       "      <td>0.160672</td>\n",
       "      <td>0.162363</td>\n",
       "    </tr>\n",
       "    <tr>\n",
       "      <th>new_screening_rat</th>\n",
       "      <td>0.074945</td>\n",
       "      <td>0.162363</td>\n",
       "      <td>0.190978</td>\n",
       "      <td>0.074099</td>\n",
       "      <td>0.198700</td>\n",
       "      <td>0.240402</td>\n",
       "      <td>-0.104835</td>\n",
       "      <td>-0.121516</td>\n",
       "      <td>-0.039411</td>\n",
       "      <td>-0.016887</td>\n",
       "      <td>0.007174</td>\n",
       "      <td>1.000000</td>\n",
       "    </tr>\n",
       "    <tr>\n",
       "      <th>num_actor</th>\n",
       "      <td>0.042491</td>\n",
       "      <td>0.014006</td>\n",
       "      <td>0.077871</td>\n",
       "      <td>1.000000</td>\n",
       "      <td>0.111179</td>\n",
       "      <td>0.076260</td>\n",
       "      <td>-0.034260</td>\n",
       "      <td>-0.098869</td>\n",
       "      <td>-0.015063</td>\n",
       "      <td>0.009580</td>\n",
       "      <td>0.033701</td>\n",
       "      <td>0.074099</td>\n",
       "    </tr>\n",
       "    <tr>\n",
       "      <th>new_genre</th>\n",
       "      <td>0.074968</td>\n",
       "      <td>0.125345</td>\n",
       "      <td>0.267746</td>\n",
       "      <td>-0.034260</td>\n",
       "      <td>0.095954</td>\n",
       "      <td>0.087552</td>\n",
       "      <td>1.000000</td>\n",
       "      <td>-0.018831</td>\n",
       "      <td>-0.020418</td>\n",
       "      <td>0.001243</td>\n",
       "      <td>0.102547</td>\n",
       "      <td>-0.104835</td>\n",
       "    </tr>\n",
       "    <tr>\n",
       "      <th>release_month</th>\n",
       "      <td>0.047183</td>\n",
       "      <td>0.034019</td>\n",
       "      <td>-0.002841</td>\n",
       "      <td>-0.015063</td>\n",
       "      <td>0.019104</td>\n",
       "      <td>-0.027985</td>\n",
       "      <td>-0.020418</td>\n",
       "      <td>0.046627</td>\n",
       "      <td>1.000000</td>\n",
       "      <td>-0.052697</td>\n",
       "      <td>0.008131</td>\n",
       "      <td>-0.039411</td>\n",
       "    </tr>\n",
       "    <tr>\n",
       "      <th>release_year</th>\n",
       "      <td>0.033592</td>\n",
       "      <td>0.132621</td>\n",
       "      <td>-0.032891</td>\n",
       "      <td>-0.098869</td>\n",
       "      <td>-0.002497</td>\n",
       "      <td>-0.059856</td>\n",
       "      <td>-0.018831</td>\n",
       "      <td>1.000000</td>\n",
       "      <td>0.046627</td>\n",
       "      <td>0.022144</td>\n",
       "      <td>-0.052543</td>\n",
       "      <td>-0.121516</td>\n",
       "    </tr>\n",
       "    <tr>\n",
       "      <th>release_day</th>\n",
       "      <td>-0.035287</td>\n",
       "      <td>0.030678</td>\n",
       "      <td>0.008254</td>\n",
       "      <td>0.009580</td>\n",
       "      <td>-0.011023</td>\n",
       "      <td>-0.027702</td>\n",
       "      <td>0.001243</td>\n",
       "      <td>0.022144</td>\n",
       "      <td>-0.052697</td>\n",
       "      <td>1.000000</td>\n",
       "      <td>0.029267</td>\n",
       "      <td>-0.016887</td>\n",
       "    </tr>\n",
       "  </tbody>\n",
       "</table>\n",
       "</div>"
      ],
      "text/plain": [
       "                   dir_prev_bfnum  dir_prev_num  num_staff  num_actor  \\\n",
       "box_off_num              0.293791      0.259674   0.544265   0.111179   \n",
       "num_staff                0.369657      0.450706   1.000000   0.077871   \n",
       "new_distributor          0.273246      0.394395   0.691844   0.076260   \n",
       "new_time                 0.197864      0.160672   0.329142   0.033701   \n",
       "dir_prev_bfnum           1.000000      0.396616   0.369657   0.042491   \n",
       "dir_prev_num             0.396616      1.000000   0.450706   0.014006   \n",
       "new_screening_rat        0.074945      0.162363   0.190978   0.074099   \n",
       "num_actor                0.042491      0.014006   0.077871   1.000000   \n",
       "new_genre                0.074968      0.125345   0.267746  -0.034260   \n",
       "release_month            0.047183      0.034019  -0.002841  -0.015063   \n",
       "release_year             0.033592      0.132621  -0.032891  -0.098869   \n",
       "release_day             -0.035287      0.030678   0.008254   0.009580   \n",
       "\n",
       "                   box_off_num  new_distributor  new_genre  release_year  \\\n",
       "box_off_num           1.000000         0.450164   0.095954     -0.002497   \n",
       "num_staff             0.544265         0.691844   0.267746     -0.032891   \n",
       "new_distributor       0.450164         1.000000   0.087552     -0.059856   \n",
       "new_time              0.294977         0.256027   0.102547     -0.052543   \n",
       "dir_prev_bfnum        0.293791         0.273246   0.074968      0.033592   \n",
       "dir_prev_num          0.259674         0.394395   0.125345      0.132621   \n",
       "new_screening_rat     0.198700         0.240402  -0.104835     -0.121516   \n",
       "num_actor             0.111179         0.076260  -0.034260     -0.098869   \n",
       "new_genre             0.095954         0.087552   1.000000     -0.018831   \n",
       "release_month         0.019104        -0.027985  -0.020418      0.046627   \n",
       "release_year         -0.002497        -0.059856  -0.018831      1.000000   \n",
       "release_day          -0.011023        -0.027702   0.001243      0.022144   \n",
       "\n",
       "                   release_month  release_day  new_time  new_screening_rat  \n",
       "box_off_num             0.019104    -0.011023  0.294977           0.198700  \n",
       "num_staff              -0.002841     0.008254  0.329142           0.190978  \n",
       "new_distributor        -0.027985    -0.027702  0.256027           0.240402  \n",
       "new_time                0.008131     0.029267  1.000000           0.007174  \n",
       "dir_prev_bfnum          0.047183    -0.035287  0.197864           0.074945  \n",
       "dir_prev_num            0.034019     0.030678  0.160672           0.162363  \n",
       "new_screening_rat      -0.039411    -0.016887  0.007174           1.000000  \n",
       "num_actor              -0.015063     0.009580  0.033701           0.074099  \n",
       "new_genre              -0.020418     0.001243  0.102547          -0.104835  \n",
       "release_month           1.000000    -0.052697  0.008131          -0.039411  \n",
       "release_year            0.046627     0.022144 -0.052543          -0.121516  \n",
       "release_day            -0.052697     1.000000  0.029267          -0.016887  "
      ]
     },
     "execution_count": 235,
     "metadata": {},
     "output_type": "execute_result"
    }
   ],
   "source": [
    "df.corr().sort_values(by='box_off_num', ascending = False)"
   ]
  },
  {
   "cell_type": "markdown",
   "metadata": {},
   "source": [
    "# 모델링"
   ]
  },
  {
   "cell_type": "code",
   "execution_count": null,
   "metadata": {},
   "outputs": [],
   "source": [
    "# 저장함수\n",
    "def save_file(prediction, number) :\n",
    "    sub = pd.read_csv('./data/submission.csv')\n",
    "    sub['box_off_num'] = prediction\n",
    "    sub.to_csv('./submission/submission' + str(number) + '.csv', index=False)\n",
    "    return print('done')"
   ]
  },
  {
   "cell_type": "code",
   "execution_count": 259,
   "metadata": {
    "ExecuteTime": {
     "end_time": "2020-07-13T17:05:22.289331Z",
     "start_time": "2020-07-13T17:05:22.278323Z"
    }
   },
   "outputs": [
    {
     "data": {
      "text/plain": [
       "make_scorer(rmse)"
      ]
     },
     "execution_count": 259,
     "metadata": {},
     "output_type": "execute_result"
    }
   ],
   "source": [
    "import numpy as np\n",
    "from sklearn.metrics import make_scorer\n",
    "\n",
    "def rmse(predict, actual):\n",
    "    predict = np.array(predict)\n",
    "    actual = np.array(actual)\n",
    "\n",
    "    distance = predict - actual\n",
    "    square_distance = distance ** 2\n",
    "    mean_square_distance = square_distance.mean()\n",
    "    score = np.sqrt(mean_square_distance)\n",
    "    \n",
    "    return score\n",
    "\n",
    "rmse_score = make_scorer(rmse)\n",
    "rmse_score"
   ]
  },
  {
   "cell_type": "markdown",
   "metadata": {
    "heading_collapsed": true
   },
   "source": [
    "## sklearn_Linear Regression"
   ]
  },
  {
   "cell_type": "code",
   "execution_count": 236,
   "metadata": {
    "ExecuteTime": {
     "end_time": "2020-07-13T16:52:17.049254Z",
     "start_time": "2020-07-13T16:52:17.042249Z"
    },
    "hidden": true
   },
   "outputs": [],
   "source": [
    "train_Y = df['box_off_num']\n",
    "train_X = df.drop(['box_off_num'], axis=1)\n",
    "\n",
    "test_X = testdf"
   ]
  },
  {
   "cell_type": "code",
   "execution_count": 237,
   "metadata": {
    "ExecuteTime": {
     "end_time": "2020-07-13T16:52:17.889852Z",
     "start_time": "2020-07-13T16:52:17.878846Z"
    },
    "hidden": true
   },
   "outputs": [],
   "source": [
    "from sklearn import linear_model\n",
    "\n",
    "lm = linear_model.LinearRegression()\n",
    "lm.fit(train_X, train_Y)\n",
    "\n",
    "prediction = lm.predict(test_X)"
   ]
  },
  {
   "cell_type": "markdown",
   "metadata": {
    "heading_collapsed": true
   },
   "source": [
    "## sklearn_RandomForestRegressor\n",
    "\n",
    "=> 1528294.5021972428\t ( epoch X )"
   ]
  },
  {
   "cell_type": "code",
   "execution_count": 240,
   "metadata": {
    "ExecuteTime": {
     "end_time": "2020-07-13T16:54:50.200101Z",
     "start_time": "2020-07-13T16:54:50.195096Z"
    },
    "hidden": true
   },
   "outputs": [],
   "source": [
    "from sklearn.ensemble import RandomForestRegressor\n",
    "from sklearn.model_selection import cross_val_score\n",
    "\n",
    "model = RandomForestRegressor(n_estimators=300,\n",
    "                              n_jobs=-1,\n",
    "                              random_state=46)\n",
    "#score = cross_val_score(model, X_train, y_train, cv=20, scoring=rmse_score).mean()"
   ]
  },
  {
   "cell_type": "code",
   "execution_count": 242,
   "metadata": {
    "ExecuteTime": {
     "end_time": "2020-07-13T16:55:31.387373Z",
     "start_time": "2020-07-13T16:55:30.083449Z"
    },
    "hidden": true,
    "scrolled": false
   },
   "outputs": [
    {
     "data": {
      "text/plain": [
       "RandomForestRegressor(bootstrap=True, ccp_alpha=0.0, criterion='mse',\n",
       "                      max_depth=None, max_features='auto', max_leaf_nodes=None,\n",
       "                      max_samples=None, min_impurity_decrease=0.0,\n",
       "                      min_impurity_split=None, min_samples_leaf=1,\n",
       "                      min_samples_split=2, min_weight_fraction_leaf=0.0,\n",
       "                      n_estimators=300, n_jobs=-1, oob_score=False,\n",
       "                      random_state=46, verbose=0, warm_start=False)"
      ]
     },
     "execution_count": 242,
     "metadata": {},
     "output_type": "execute_result"
    }
   ],
   "source": [
    "train_Y = df['box_off_num']\n",
    "train_X = df.drop(['box_off_num'], axis=1)\n",
    "\n",
    "test_X = testdf\n",
    "\n",
    "model.fit(train_X, train_Y)\n"
   ]
  },
  {
   "cell_type": "code",
   "execution_count": 245,
   "metadata": {
    "ExecuteTime": {
     "end_time": "2020-07-13T16:56:15.504727Z",
     "start_time": "2020-07-13T16:56:15.380638Z"
    },
    "collapsed": true,
    "hidden": true
   },
   "outputs": [
    {
     "data": {
      "text/plain": [
       "array([1.37224077e+06, 1.37712202e+06, 2.91496949e+06, 2.35731362e+06,\n",
       "       2.18836183e+06, 3.83021800e+04, 3.05253000e+03, 1.25348333e+03,\n",
       "       4.89507000e+03, 2.70432873e+05, 4.52084997e+05, 1.09368079e+06,\n",
       "       2.43055558e+06, 3.80952000e+03, 1.54969315e+06, 2.49022232e+06,\n",
       "       4.11237000e+03, 2.80051673e+06, 9.91018117e+05, 4.01313674e+06,\n",
       "       3.31340000e+02, 2.75170133e+04, 1.04387323e+05, 2.15437233e+04,\n",
       "       2.86300000e+02, 3.14427729e+06, 2.01759000e+03, 2.63354868e+06,\n",
       "       9.63927000e+03, 7.76519000e+03, 4.01482357e+06, 2.53251757e+05,\n",
       "       3.11146333e+03, 5.57792827e+05, 6.60871667e+03, 2.34236933e+04,\n",
       "       1.94996333e+03, 4.38108000e+03, 4.30301000e+03, 3.68430000e+02,\n",
       "       5.67607333e+03, 2.82403647e+05, 9.73643447e+05, 3.93951430e+05,\n",
       "       1.05306354e+06, 1.88549011e+06, 8.36590000e+02, 1.48209400e+04,\n",
       "       7.02168903e+05, 7.65833333e+02, 6.29552667e+03, 1.05540849e+06,\n",
       "       5.76044333e+03, 1.29539582e+06, 1.30844980e+06, 2.60748967e+04,\n",
       "       4.44599333e+03, 3.18019688e+06, 1.92390372e+06, 2.93474856e+06,\n",
       "       1.92882118e+06, 2.17977983e+06, 2.15948367e+04, 1.29967333e+03,\n",
       "       3.28331233e+04, 6.82160000e+02, 9.15074830e+05, 1.83428483e+05,\n",
       "       9.85092270e+05, 3.98978833e+04, 2.34382962e+06, 3.68218574e+06,\n",
       "       2.82459333e+03, 5.22579394e+06, 1.90934557e+05, 3.39393333e+02,\n",
       "       1.51705816e+06, 1.83686700e+05, 8.66060333e+04, 1.48751900e+04,\n",
       "       4.51829133e+04, 3.07181580e+06, 1.38884933e+04, 1.52758888e+06,\n",
       "       1.56902327e+05, 1.48295960e+06, 4.34219000e+03, 1.28772320e+05,\n",
       "       5.45932667e+03, 1.43210565e+06, 7.39055000e+03, 3.75460000e+03,\n",
       "       6.42948367e+05, 2.20130636e+06, 1.67391380e+06, 5.43186667e+02,\n",
       "       1.38849500e+04, 4.29300000e+02, 3.57129900e+05, 2.50299967e+05,\n",
       "       1.54621329e+06, 3.67401105e+06, 1.75299667e+03, 3.27516363e+05,\n",
       "       8.92669313e+05, 8.96913253e+05, 2.49208393e+06, 1.04534367e+04,\n",
       "       3.30639147e+06, 6.44904000e+03, 2.25800667e+03, 3.42731001e+06,\n",
       "       1.93954798e+06, 2.48434667e+03, 9.28497333e+03, 1.37370031e+06,\n",
       "       3.96716667e+03, 2.73044714e+06, 3.44689000e+03, 1.97961953e+05,\n",
       "       4.23920000e+02, 6.05214490e+05, 2.10236096e+06, 6.30316000e+03,\n",
       "       3.90103333e+02, 1.58923000e+03, 2.15523000e+03, 6.28474700e+04,\n",
       "       4.45504167e+04, 1.58670100e+04, 2.78803000e+03, 4.66687880e+05,\n",
       "       1.96597667e+03, 3.48096000e+03, 3.72866690e+06, 4.20243274e+06,\n",
       "       6.56932333e+03, 1.45924068e+06, 8.73337557e+05, 6.35033333e+02,\n",
       "       4.22757333e+03, 5.17764007e+06, 3.08695268e+06, 6.54513133e+04,\n",
       "       2.48694333e+03, 3.97668477e+05, 2.70783000e+03, 7.87848667e+03,\n",
       "       1.58116560e+06, 3.17629004e+06, 3.74775000e+03, 5.63316333e+03,\n",
       "       1.25451667e+03, 2.96137000e+03, 8.57113000e+03, 8.94622660e+05,\n",
       "       3.96442000e+03, 8.60857467e+04, 4.28244895e+06, 2.62760483e+06,\n",
       "       1.47446823e+05, 2.67412656e+06, 5.25288393e+05, 7.64814803e+05,\n",
       "       1.02179367e+04, 3.89414667e+03, 1.94136737e+06, 4.45703333e+02,\n",
       "       1.65661333e+03, 4.53988000e+03, 1.50261743e+05, 8.96721333e+03,\n",
       "       9.27231000e+03, 2.96690000e+02, 1.54567687e+05, 6.13453633e+04,\n",
       "       6.40870000e+02, 2.18532300e+04, 7.55543104e+06, 5.50176984e+06,\n",
       "       3.67968033e+04, 3.06379333e+03, 1.41098333e+03, 1.76985407e+05,\n",
       "       2.40023047e+06, 2.03624300e+04, 1.59361733e+04, 1.20390867e+04,\n",
       "       2.16140333e+03, 2.42111425e+06, 3.08000900e+04, 1.82426667e+03,\n",
       "       1.67400333e+03, 1.45000667e+03, 3.06379333e+03, 2.89755128e+06,\n",
       "       1.26663133e+04, 1.13483140e+06, 4.01049667e+03, 4.33217614e+06,\n",
       "       1.29794000e+03, 1.19128180e+05, 1.13663000e+03, 8.96838333e+03,\n",
       "       1.95189343e+05, 1.18530259e+06, 2.51820696e+06, 1.34944434e+06,\n",
       "       4.82525667e+03, 2.54825860e+06, 1.40099420e+05, 1.58759561e+06,\n",
       "       2.76173406e+06, 8.25968200e+05, 1.41813257e+05, 6.81546667e+02,\n",
       "       1.58190981e+06, 2.49652567e+04, 6.64543333e+02, 4.57946667e+03,\n",
       "       2.17091213e+05, 2.70879024e+06, 1.64686904e+06, 1.27141257e+05,\n",
       "       9.91135333e+03, 3.25553333e+02, 6.77323333e+02, 9.99896117e+05,\n",
       "       2.44863633e+04, 2.12578334e+06, 6.58209333e+03, 1.27417313e+06,\n",
       "       2.24633023e+05, 7.16773333e+03, 4.01650000e+02, 8.60017000e+03,\n",
       "       9.04382800e+04, 3.30943333e+02, 2.76343333e+02, 5.20069667e+03,\n",
       "       1.87969113e+05, 1.00914000e+03, 1.45449000e+03])"
      ]
     },
     "execution_count": 245,
     "metadata": {},
     "output_type": "execute_result"
    }
   ],
   "source": [
    "prediction = model.predict(test_X)"
   ]
  },
  {
   "cell_type": "markdown",
   "metadata": {
    "heading_collapsed": true
   },
   "source": [
    "## LGBM\n",
    "\n",
    "=> 1480188.794477261"
   ]
  },
  {
   "cell_type": "code",
   "execution_count": 260,
   "metadata": {
    "ExecuteTime": {
     "end_time": "2020-07-13T17:05:38.981197Z",
     "start_time": "2020-07-13T17:05:38.966189Z"
    },
    "hidden": true
   },
   "outputs": [],
   "source": [
    "import lightgbm as lgb\n",
    "from sklearn.model_selection import GridSearchCV\n",
    "from sklearn.model_selection import KFold\n",
    "k_fold = KFold(n_splits=10, shuffle=True, random_state = 777)\n",
    "\n",
    "model = lgb.LGBMRegressor(random_state = 777, n_estimators=10000)\n",
    "X_train, X_test, Y_train = df.drop(['box_off_num'], axis=1), testdf, df['box_off_num']\n",
    "\n",
    "\n",
    "params = {\n",
    "    'learning_rate' : [0.001, 0.0001, 0.00001],\n",
    "    'min_child_samples' : [20, 30]}\n",
    "\n",
    "gs = GridSearchCV(estimator=model,\n",
    "                 param_grid = params,\n",
    "                 scoring=rmse_score,\n",
    "                 cv=k_fold)"
   ]
  },
  {
   "cell_type": "code",
   "execution_count": 261,
   "metadata": {
    "ExecuteTime": {
     "end_time": "2020-07-13T17:13:32.422672Z",
     "start_time": "2020-07-13T17:05:40.789483Z"
    },
    "hidden": true
   },
   "outputs": [
    {
     "data": {
      "text/plain": [
       "GridSearchCV(cv=KFold(n_splits=10, random_state=777, shuffle=True),\n",
       "             error_score=nan,\n",
       "             estimator=LGBMRegressor(boosting_type='gbdt', class_weight=None,\n",
       "                                     colsample_bytree=1.0,\n",
       "                                     importance_type='split', learning_rate=0.1,\n",
       "                                     max_depth=-1, min_child_samples=20,\n",
       "                                     min_child_weight=0.001, min_split_gain=0.0,\n",
       "                                     n_estimators=10000, n_jobs=-1,\n",
       "                                     num_leaves=31, objective=None,\n",
       "                                     random_state=777, reg_alpha=0.0,\n",
       "                                     reg_lambda=0.0, silent=True, subsample=1.0,\n",
       "                                     subsample_for_bin=200000,\n",
       "                                     subsample_freq=0),\n",
       "             iid='deprecated', n_jobs=None,\n",
       "             param_grid={'learning_rate': [0.001, 0.0001, 1e-05],\n",
       "                         'min_child_samples': [20, 30]},\n",
       "             pre_dispatch='2*n_jobs', refit=True, return_train_score=False,\n",
       "             scoring=make_scorer(rmse), verbose=0)"
      ]
     },
     "execution_count": 261,
     "metadata": {},
     "output_type": "execute_result"
    }
   ],
   "source": [
    "gs.fit(X_train, Y_train)"
   ]
  },
  {
   "cell_type": "code",
   "execution_count": 262,
   "metadata": {
    "ExecuteTime": {
     "end_time": "2020-07-13T17:13:42.181609Z",
     "start_time": "2020-07-13T17:13:42.174622Z"
    },
    "hidden": true
   },
   "outputs": [
    {
     "data": {
      "text/plain": [
       "{'learning_rate': 1e-05, 'min_child_samples': 30}"
      ]
     },
     "execution_count": 262,
     "metadata": {},
     "output_type": "execute_result"
    }
   ],
   "source": [
    "gs.best_params_"
   ]
  },
  {
   "cell_type": "code",
   "execution_count": 263,
   "metadata": {
    "ExecuteTime": {
     "end_time": "2020-07-13T17:16:19.916713Z",
     "start_time": "2020-07-13T17:15:12.559845Z"
    },
    "hidden": true
   },
   "outputs": [
    {
     "name": "stdout",
     "output_type": "stream",
     "text": [
      "Training until validation scores don't improve for 1000 rounds\n",
      "[100]\tvalid_0's l2: 4.39233e+12\n",
      "[200]\tvalid_0's l2: 4.39124e+12\n",
      "[300]\tvalid_0's l2: 4.39015e+12\n",
      "[400]\tvalid_0's l2: 4.38906e+12\n",
      "[500]\tvalid_0's l2: 4.38798e+12\n",
      "[600]\tvalid_0's l2: 4.3869e+12\n",
      "[700]\tvalid_0's l2: 4.38582e+12\n",
      "[800]\tvalid_0's l2: 4.38474e+12\n",
      "[900]\tvalid_0's l2: 4.38367e+12\n",
      "[1000]\tvalid_0's l2: 4.3826e+12\n",
      "[1100]\tvalid_0's l2: 4.38153e+12\n",
      "[1200]\tvalid_0's l2: 4.38047e+12\n",
      "[1300]\tvalid_0's l2: 4.37941e+12\n",
      "[1400]\tvalid_0's l2: 4.37835e+12\n",
      "[1500]\tvalid_0's l2: 4.37729e+12\n",
      "[1600]\tvalid_0's l2: 4.37623e+12\n",
      "[1700]\tvalid_0's l2: 4.37518e+12\n",
      "[1800]\tvalid_0's l2: 4.37413e+12\n",
      "[1900]\tvalid_0's l2: 4.37308e+12\n",
      "[2000]\tvalid_0's l2: 4.37204e+12\n",
      "[2100]\tvalid_0's l2: 4.37099e+12\n",
      "[2200]\tvalid_0's l2: 4.36995e+12\n",
      "[2300]\tvalid_0's l2: 4.36892e+12\n",
      "[2400]\tvalid_0's l2: 4.36788e+12\n",
      "[2500]\tvalid_0's l2: 4.36685e+12\n",
      "[2600]\tvalid_0's l2: 4.36578e+12\n",
      "[2700]\tvalid_0's l2: 4.36472e+12\n",
      "[2800]\tvalid_0's l2: 4.36366e+12\n",
      "[2900]\tvalid_0's l2: 4.36261e+12\n",
      "[3000]\tvalid_0's l2: 4.36155e+12\n",
      "[3100]\tvalid_0's l2: 4.36051e+12\n",
      "[3200]\tvalid_0's l2: 4.35946e+12\n",
      "[3300]\tvalid_0's l2: 4.35842e+12\n",
      "[3400]\tvalid_0's l2: 4.35739e+12\n",
      "[3500]\tvalid_0's l2: 4.35636e+12\n",
      "[3600]\tvalid_0's l2: 4.35533e+12\n",
      "[3700]\tvalid_0's l2: 4.3543e+12\n",
      "[3800]\tvalid_0's l2: 4.35328e+12\n",
      "[3900]\tvalid_0's l2: 4.35226e+12\n",
      "[4000]\tvalid_0's l2: 4.35125e+12\n",
      "[4100]\tvalid_0's l2: 4.35024e+12\n",
      "[4200]\tvalid_0's l2: 4.34931e+12\n",
      "[4300]\tvalid_0's l2: 4.34846e+12\n",
      "[4400]\tvalid_0's l2: 4.34761e+12\n",
      "[4500]\tvalid_0's l2: 4.34676e+12\n",
      "[4600]\tvalid_0's l2: 4.34592e+12\n",
      "[4700]\tvalid_0's l2: 4.34508e+12\n",
      "[4800]\tvalid_0's l2: 4.34424e+12\n",
      "[4900]\tvalid_0's l2: 4.34341e+12\n",
      "[5000]\tvalid_0's l2: 4.34258e+12\n",
      "[5100]\tvalid_0's l2: 4.34176e+12\n",
      "[5200]\tvalid_0's l2: 4.34093e+12\n",
      "[5300]\tvalid_0's l2: 4.34011e+12\n",
      "[5400]\tvalid_0's l2: 4.3393e+12\n",
      "[5500]\tvalid_0's l2: 4.33849e+12\n",
      "[5600]\tvalid_0's l2: 4.33768e+12\n",
      "[5700]\tvalid_0's l2: 4.33687e+12\n",
      "[5800]\tvalid_0's l2: 4.33607e+12\n",
      "[5900]\tvalid_0's l2: 4.33527e+12\n",
      "[6000]\tvalid_0's l2: 4.33447e+12\n",
      "[6100]\tvalid_0's l2: 4.33368e+12\n",
      "[6200]\tvalid_0's l2: 4.33289e+12\n",
      "[6300]\tvalid_0's l2: 4.3321e+12\n",
      "[6400]\tvalid_0's l2: 4.33132e+12\n",
      "[6500]\tvalid_0's l2: 4.33054e+12\n",
      "[6600]\tvalid_0's l2: 4.32976e+12\n",
      "[6700]\tvalid_0's l2: 4.32899e+12\n",
      "[6800]\tvalid_0's l2: 4.32822e+12\n",
      "[6900]\tvalid_0's l2: 4.32745e+12\n",
      "[7000]\tvalid_0's l2: 4.32668e+12\n",
      "[7100]\tvalid_0's l2: 4.32592e+12\n",
      "[7200]\tvalid_0's l2: 4.32516e+12\n",
      "[7300]\tvalid_0's l2: 4.32441e+12\n",
      "[7400]\tvalid_0's l2: 4.32366e+12\n",
      "[7500]\tvalid_0's l2: 4.32291e+12\n",
      "[7600]\tvalid_0's l2: 4.32216e+12\n",
      "[7700]\tvalid_0's l2: 4.32142e+12\n",
      "[7800]\tvalid_0's l2: 4.32068e+12\n",
      "[7900]\tvalid_0's l2: 4.31995e+12\n",
      "[8000]\tvalid_0's l2: 4.31921e+12\n",
      "[8100]\tvalid_0's l2: 4.31848e+12\n",
      "[8200]\tvalid_0's l2: 4.31775e+12\n",
      "[8300]\tvalid_0's l2: 4.31707e+12\n",
      "[8400]\tvalid_0's l2: 4.31639e+12\n",
      "[8500]\tvalid_0's l2: 4.31571e+12\n",
      "[8600]\tvalid_0's l2: 4.31504e+12\n",
      "[8700]\tvalid_0's l2: 4.31437e+12\n",
      "[8800]\tvalid_0's l2: 4.3137e+12\n",
      "[8900]\tvalid_0's l2: 4.31303e+12\n",
      "[9000]\tvalid_0's l2: 4.31237e+12\n",
      "[9100]\tvalid_0's l2: 4.31172e+12\n",
      "[9200]\tvalid_0's l2: 4.31106e+12\n",
      "[9300]\tvalid_0's l2: 4.31041e+12\n",
      "[9400]\tvalid_0's l2: 4.30976e+12\n",
      "[9500]\tvalid_0's l2: 4.30911e+12\n",
      "[9600]\tvalid_0's l2: 4.30846e+12\n",
      "[9700]\tvalid_0's l2: 4.30782e+12\n",
      "[9800]\tvalid_0's l2: 4.30718e+12\n",
      "[9900]\tvalid_0's l2: 4.30655e+12\n",
      "[10000]\tvalid_0's l2: 4.30591e+12\n",
      "Did not meet early stopping. Best iteration is:\n",
      "[10000]\tvalid_0's l2: 4.30591e+12\n",
      "Training until validation scores don't improve for 1000 rounds\n",
      "[100]\tvalid_0's l2: 1.19178e+12\n",
      "[200]\tvalid_0's l2: 1.19058e+12\n",
      "[300]\tvalid_0's l2: 1.18938e+12\n",
      "[400]\tvalid_0's l2: 1.18819e+12\n",
      "[500]\tvalid_0's l2: 1.187e+12\n",
      "[600]\tvalid_0's l2: 1.18581e+12\n",
      "[700]\tvalid_0's l2: 1.18462e+12\n",
      "[800]\tvalid_0's l2: 1.18344e+12\n",
      "[900]\tvalid_0's l2: 1.18226e+12\n",
      "[1000]\tvalid_0's l2: 1.18109e+12\n",
      "[1100]\tvalid_0's l2: 1.17992e+12\n",
      "[1200]\tvalid_0's l2: 1.17875e+12\n",
      "[1300]\tvalid_0's l2: 1.17759e+12\n",
      "[1400]\tvalid_0's l2: 1.17642e+12\n",
      "[1500]\tvalid_0's l2: 1.17527e+12\n",
      "[1600]\tvalid_0's l2: 1.17411e+12\n",
      "[1700]\tvalid_0's l2: 1.17296e+12\n",
      "[1800]\tvalid_0's l2: 1.17181e+12\n",
      "[1900]\tvalid_0's l2: 1.17067e+12\n",
      "[2000]\tvalid_0's l2: 1.16953e+12\n",
      "[2100]\tvalid_0's l2: 1.16839e+12\n",
      "[2200]\tvalid_0's l2: 1.16726e+12\n",
      "[2300]\tvalid_0's l2: 1.16613e+12\n",
      "[2400]\tvalid_0's l2: 1.165e+12\n",
      "[2500]\tvalid_0's l2: 1.16388e+12\n",
      "[2600]\tvalid_0's l2: 1.16276e+12\n",
      "[2700]\tvalid_0's l2: 1.16164e+12\n",
      "[2800]\tvalid_0's l2: 1.16053e+12\n",
      "[2900]\tvalid_0's l2: 1.15942e+12\n",
      "[3000]\tvalid_0's l2: 1.15831e+12\n",
      "[3100]\tvalid_0's l2: 1.1572e+12\n",
      "[3200]\tvalid_0's l2: 1.1561e+12\n",
      "[3300]\tvalid_0's l2: 1.15501e+12\n",
      "[3400]\tvalid_0's l2: 1.15391e+12\n",
      "[3500]\tvalid_0's l2: 1.15282e+12\n",
      "[3600]\tvalid_0's l2: 1.15173e+12\n",
      "[3700]\tvalid_0's l2: 1.15065e+12\n",
      "[3800]\tvalid_0's l2: 1.14957e+12\n",
      "[3900]\tvalid_0's l2: 1.14849e+12\n",
      "[4000]\tvalid_0's l2: 1.14741e+12\n",
      "[4100]\tvalid_0's l2: 1.14634e+12\n",
      "[4200]\tvalid_0's l2: 1.14527e+12\n",
      "[4300]\tvalid_0's l2: 1.14421e+12\n",
      "[4400]\tvalid_0's l2: 1.14315e+12\n",
      "[4500]\tvalid_0's l2: 1.14209e+12\n",
      "[4600]\tvalid_0's l2: 1.14103e+12\n",
      "[4700]\tvalid_0's l2: 1.13998e+12\n",
      "[4800]\tvalid_0's l2: 1.13893e+12\n",
      "[4900]\tvalid_0's l2: 1.13788e+12\n",
      "[5000]\tvalid_0's l2: 1.13684e+12\n",
      "[5100]\tvalid_0's l2: 1.1358e+12\n",
      "[5200]\tvalid_0's l2: 1.13476e+12\n",
      "[5300]\tvalid_0's l2: 1.13373e+12\n",
      "[5400]\tvalid_0's l2: 1.1327e+12\n",
      "[5500]\tvalid_0's l2: 1.13167e+12\n",
      "[5600]\tvalid_0's l2: 1.13064e+12\n",
      "[5700]\tvalid_0's l2: 1.12962e+12\n",
      "[5800]\tvalid_0's l2: 1.1286e+12\n",
      "[5900]\tvalid_0's l2: 1.12759e+12\n",
      "[6000]\tvalid_0's l2: 1.12658e+12\n",
      "[6100]\tvalid_0's l2: 1.12557e+12\n",
      "[6200]\tvalid_0's l2: 1.12456e+12\n",
      "[6300]\tvalid_0's l2: 1.12356e+12\n",
      "[6400]\tvalid_0's l2: 1.12256e+12\n",
      "[6500]\tvalid_0's l2: 1.12156e+12\n",
      "[6600]\tvalid_0's l2: 1.12057e+12\n",
      "[6700]\tvalid_0's l2: 1.11958e+12\n",
      "[6800]\tvalid_0's l2: 1.11859e+12\n",
      "[6900]\tvalid_0's l2: 1.1176e+12\n",
      "[7000]\tvalid_0's l2: 1.11662e+12\n",
      "[7100]\tvalid_0's l2: 1.11564e+12\n",
      "[7200]\tvalid_0's l2: 1.11466e+12\n",
      "[7300]\tvalid_0's l2: 1.11369e+12\n",
      "[7400]\tvalid_0's l2: 1.11272e+12\n",
      "[7500]\tvalid_0's l2: 1.11176e+12\n",
      "[7600]\tvalid_0's l2: 1.11083e+12\n",
      "[7700]\tvalid_0's l2: 1.1099e+12\n",
      "[7800]\tvalid_0's l2: 1.10897e+12\n",
      "[7900]\tvalid_0's l2: 1.10805e+12\n",
      "[8000]\tvalid_0's l2: 1.10713e+12\n",
      "[8100]\tvalid_0's l2: 1.10622e+12\n",
      "[8200]\tvalid_0's l2: 1.1053e+12\n",
      "[8300]\tvalid_0's l2: 1.10439e+12\n",
      "[8400]\tvalid_0's l2: 1.10348e+12\n",
      "[8500]\tvalid_0's l2: 1.10258e+12\n",
      "[8600]\tvalid_0's l2: 1.10167e+12\n",
      "[8700]\tvalid_0's l2: 1.10077e+12\n",
      "[8800]\tvalid_0's l2: 1.09988e+12\n",
      "[8900]\tvalid_0's l2: 1.09898e+12\n",
      "[9000]\tvalid_0's l2: 1.09809e+12\n",
      "[9100]\tvalid_0's l2: 1.0972e+12\n",
      "[9200]\tvalid_0's l2: 1.09631e+12\n",
      "[9300]\tvalid_0's l2: 1.09543e+12\n",
      "[9400]\tvalid_0's l2: 1.09454e+12\n",
      "[9500]\tvalid_0's l2: 1.09367e+12\n",
      "[9600]\tvalid_0's l2: 1.09279e+12\n",
      "[9700]\tvalid_0's l2: 1.09192e+12\n",
      "[9800]\tvalid_0's l2: 1.09104e+12\n",
      "[9900]\tvalid_0's l2: 1.09018e+12\n",
      "[10000]\tvalid_0's l2: 1.08931e+12\n",
      "Did not meet early stopping. Best iteration is:\n",
      "[10000]\tvalid_0's l2: 1.08931e+12\n",
      "Training until validation scores don't improve for 1000 rounds\n",
      "[100]\tvalid_0's l2: 5.55181e+12\n",
      "[200]\tvalid_0's l2: 5.55025e+12\n",
      "[300]\tvalid_0's l2: 5.5487e+12\n",
      "[400]\tvalid_0's l2: 5.54696e+12\n",
      "[500]\tvalid_0's l2: 5.54502e+12\n",
      "[600]\tvalid_0's l2: 5.54307e+12\n",
      "[700]\tvalid_0's l2: 5.54113e+12\n",
      "[800]\tvalid_0's l2: 5.5392e+12\n",
      "[900]\tvalid_0's l2: 5.53727e+12\n",
      "[1000]\tvalid_0's l2: 5.53534e+12\n",
      "[1100]\tvalid_0's l2: 5.53341e+12\n",
      "[1200]\tvalid_0's l2: 5.53149e+12\n",
      "[1300]\tvalid_0's l2: 5.52957e+12\n",
      "[1400]\tvalid_0's l2: 5.52766e+12\n",
      "[1500]\tvalid_0's l2: 5.52575e+12\n",
      "[1600]\tvalid_0's l2: 5.52384e+12\n",
      "[1700]\tvalid_0's l2: 5.52193e+12\n",
      "[1800]\tvalid_0's l2: 5.52003e+12\n",
      "[1900]\tvalid_0's l2: 5.51813e+12\n",
      "[2000]\tvalid_0's l2: 5.51624e+12\n",
      "[2100]\tvalid_0's l2: 5.51436e+12\n",
      "[2200]\tvalid_0's l2: 5.51247e+12\n",
      "[2300]\tvalid_0's l2: 5.51059e+12\n",
      "[2400]\tvalid_0's l2: 5.50871e+12\n",
      "[2500]\tvalid_0's l2: 5.50684e+12\n",
      "[2600]\tvalid_0's l2: 5.50497e+12\n",
      "[2700]\tvalid_0's l2: 5.5031e+12\n",
      "[2800]\tvalid_0's l2: 5.50124e+12\n",
      "[2900]\tvalid_0's l2: 5.49938e+12\n",
      "[3000]\tvalid_0's l2: 5.49752e+12\n",
      "[3100]\tvalid_0's l2: 5.49566e+12\n",
      "[3200]\tvalid_0's l2: 5.49381e+12\n",
      "[3300]\tvalid_0's l2: 5.49196e+12\n",
      "[3400]\tvalid_0's l2: 5.49012e+12\n",
      "[3500]\tvalid_0's l2: 5.48828e+12\n",
      "[3600]\tvalid_0's l2: 5.48644e+12\n",
      "[3700]\tvalid_0's l2: 5.4846e+12\n",
      "[3800]\tvalid_0's l2: 5.48277e+12\n",
      "[3900]\tvalid_0's l2: 5.48094e+12\n",
      "[4000]\tvalid_0's l2: 5.47911e+12\n"
     ]
    },
    {
     "name": "stdout",
     "output_type": "stream",
     "text": [
      "[4100]\tvalid_0's l2: 5.47729e+12\n",
      "[4200]\tvalid_0's l2: 5.47547e+12\n",
      "[4300]\tvalid_0's l2: 5.47365e+12\n",
      "[4400]\tvalid_0's l2: 5.47184e+12\n",
      "[4500]\tvalid_0's l2: 5.47003e+12\n",
      "[4600]\tvalid_0's l2: 5.46822e+12\n",
      "[4700]\tvalid_0's l2: 5.46642e+12\n",
      "[4800]\tvalid_0's l2: 5.46461e+12\n",
      "[4900]\tvalid_0's l2: 5.46282e+12\n",
      "[5000]\tvalid_0's l2: 5.46102e+12\n",
      "[5100]\tvalid_0's l2: 5.45923e+12\n",
      "[5200]\tvalid_0's l2: 5.45744e+12\n",
      "[5300]\tvalid_0's l2: 5.45567e+12\n",
      "[5400]\tvalid_0's l2: 5.4539e+12\n",
      "[5500]\tvalid_0's l2: 5.45213e+12\n",
      "[5600]\tvalid_0's l2: 5.45027e+12\n",
      "[5700]\tvalid_0's l2: 5.44837e+12\n",
      "[5800]\tvalid_0's l2: 5.44648e+12\n",
      "[5900]\tvalid_0's l2: 5.44459e+12\n",
      "[6000]\tvalid_0's l2: 5.44271e+12\n",
      "[6100]\tvalid_0's l2: 5.44082e+12\n",
      "[6200]\tvalid_0's l2: 5.43894e+12\n",
      "[6300]\tvalid_0's l2: 5.43706e+12\n",
      "[6400]\tvalid_0's l2: 5.43519e+12\n",
      "[6500]\tvalid_0's l2: 5.43332e+12\n",
      "[6600]\tvalid_0's l2: 5.43146e+12\n",
      "[6700]\tvalid_0's l2: 5.4296e+12\n",
      "[6800]\tvalid_0's l2: 5.42774e+12\n",
      "[6900]\tvalid_0's l2: 5.42589e+12\n",
      "[7000]\tvalid_0's l2: 5.42403e+12\n",
      "[7100]\tvalid_0's l2: 5.42218e+12\n",
      "[7200]\tvalid_0's l2: 5.42034e+12\n",
      "[7300]\tvalid_0's l2: 5.4185e+12\n",
      "[7400]\tvalid_0's l2: 5.41666e+12\n",
      "[7500]\tvalid_0's l2: 5.41483e+12\n",
      "[7600]\tvalid_0's l2: 5.413e+12\n",
      "[7700]\tvalid_0's l2: 5.41117e+12\n",
      "[7800]\tvalid_0's l2: 5.40934e+12\n",
      "[7900]\tvalid_0's l2: 5.40753e+12\n",
      "[8000]\tvalid_0's l2: 5.40571e+12\n",
      "[8100]\tvalid_0's l2: 5.40389e+12\n",
      "[8200]\tvalid_0's l2: 5.40208e+12\n",
      "[8300]\tvalid_0's l2: 5.40027e+12\n",
      "[8400]\tvalid_0's l2: 5.39848e+12\n",
      "[8500]\tvalid_0's l2: 5.39667e+12\n",
      "[8600]\tvalid_0's l2: 5.39488e+12\n",
      "[8700]\tvalid_0's l2: 5.39308e+12\n",
      "[8800]\tvalid_0's l2: 5.39129e+12\n",
      "[8900]\tvalid_0's l2: 5.38951e+12\n",
      "[9000]\tvalid_0's l2: 5.38772e+12\n",
      "[9100]\tvalid_0's l2: 5.38594e+12\n",
      "[9200]\tvalid_0's l2: 5.38417e+12\n",
      "[9300]\tvalid_0's l2: 5.38239e+12\n",
      "[9400]\tvalid_0's l2: 5.38062e+12\n",
      "[9500]\tvalid_0's l2: 5.37885e+12\n",
      "[9600]\tvalid_0's l2: 5.37709e+12\n",
      "[9700]\tvalid_0's l2: 5.37533e+12\n",
      "[9800]\tvalid_0's l2: 5.37357e+12\n",
      "[9900]\tvalid_0's l2: 5.37182e+12\n",
      "[10000]\tvalid_0's l2: 5.37007e+12\n",
      "Did not meet early stopping. Best iteration is:\n",
      "[10000]\tvalid_0's l2: 5.37007e+12\n",
      "Training until validation scores don't improve for 1000 rounds\n",
      "[100]\tvalid_0's l2: 5.82132e+12\n",
      "[200]\tvalid_0's l2: 5.81955e+12\n",
      "[300]\tvalid_0's l2: 5.81778e+12\n",
      "[400]\tvalid_0's l2: 5.81601e+12\n",
      "[500]\tvalid_0's l2: 5.81425e+12\n",
      "[600]\tvalid_0's l2: 5.81249e+12\n",
      "[700]\tvalid_0's l2: 5.81074e+12\n",
      "[800]\tvalid_0's l2: 5.80898e+12\n",
      "[900]\tvalid_0's l2: 5.80723e+12\n",
      "[1000]\tvalid_0's l2: 5.80549e+12\n",
      "[1100]\tvalid_0's l2: 5.80374e+12\n",
      "[1200]\tvalid_0's l2: 5.802e+12\n",
      "[1300]\tvalid_0's l2: 5.80027e+12\n",
      "[1400]\tvalid_0's l2: 5.79854e+12\n",
      "[1500]\tvalid_0's l2: 5.79681e+12\n",
      "[1600]\tvalid_0's l2: 5.79508e+12\n",
      "[1700]\tvalid_0's l2: 5.79336e+12\n",
      "[1800]\tvalid_0's l2: 5.79164e+12\n",
      "[1900]\tvalid_0's l2: 5.78992e+12\n",
      "[2000]\tvalid_0's l2: 5.78821e+12\n",
      "[2100]\tvalid_0's l2: 5.7865e+12\n",
      "[2200]\tvalid_0's l2: 5.78479e+12\n",
      "[2300]\tvalid_0's l2: 5.78309e+12\n",
      "[2400]\tvalid_0's l2: 5.78139e+12\n",
      "[2500]\tvalid_0's l2: 5.77969e+12\n",
      "[2600]\tvalid_0's l2: 5.77799e+12\n",
      "[2700]\tvalid_0's l2: 5.7763e+12\n",
      "[2800]\tvalid_0's l2: 5.77462e+12\n",
      "[2900]\tvalid_0's l2: 5.77293e+12\n",
      "[3000]\tvalid_0's l2: 5.77125e+12\n",
      "[3100]\tvalid_0's l2: 5.76957e+12\n",
      "[3200]\tvalid_0's l2: 5.7679e+12\n",
      "[3300]\tvalid_0's l2: 5.76623e+12\n",
      "[3400]\tvalid_0's l2: 5.76456e+12\n",
      "[3500]\tvalid_0's l2: 5.76289e+12\n",
      "[3600]\tvalid_0's l2: 5.76123e+12\n",
      "[3700]\tvalid_0's l2: 5.75957e+12\n",
      "[3800]\tvalid_0's l2: 5.75791e+12\n",
      "[3900]\tvalid_0's l2: 5.75626e+12\n",
      "[4000]\tvalid_0's l2: 5.75461e+12\n",
      "[4100]\tvalid_0's l2: 5.75297e+12\n",
      "[4200]\tvalid_0's l2: 5.75132e+12\n",
      "[4300]\tvalid_0's l2: 5.74968e+12\n",
      "[4400]\tvalid_0's l2: 5.74804e+12\n",
      "[4500]\tvalid_0's l2: 5.74641e+12\n",
      "[4600]\tvalid_0's l2: 5.74478e+12\n",
      "[4700]\tvalid_0's l2: 5.74315e+12\n",
      "[4800]\tvalid_0's l2: 5.74153e+12\n",
      "[4900]\tvalid_0's l2: 5.7399e+12\n",
      "[5000]\tvalid_0's l2: 5.73828e+12\n",
      "[5100]\tvalid_0's l2: 5.73667e+12\n",
      "[5200]\tvalid_0's l2: 5.73506e+12\n",
      "[5300]\tvalid_0's l2: 5.73345e+12\n",
      "[5400]\tvalid_0's l2: 5.73184e+12\n",
      "[5500]\tvalid_0's l2: 5.73024e+12\n",
      "[5600]\tvalid_0's l2: 5.72864e+12\n",
      "[5700]\tvalid_0's l2: 5.72704e+12\n",
      "[5800]\tvalid_0's l2: 5.72544e+12\n",
      "[5900]\tvalid_0's l2: 5.72385e+12\n",
      "[6000]\tvalid_0's l2: 5.72226e+12\n",
      "[6100]\tvalid_0's l2: 5.72068e+12\n",
      "[6200]\tvalid_0's l2: 5.7191e+12\n",
      "[6300]\tvalid_0's l2: 5.71752e+12\n",
      "[6400]\tvalid_0's l2: 5.71594e+12\n",
      "[6500]\tvalid_0's l2: 5.71437e+12\n",
      "[6600]\tvalid_0's l2: 5.71279e+12\n",
      "[6700]\tvalid_0's l2: 5.71123e+12\n",
      "[6800]\tvalid_0's l2: 5.70966e+12\n",
      "[6900]\tvalid_0's l2: 5.7081e+12\n",
      "[7000]\tvalid_0's l2: 5.70654e+12\n",
      "[7100]\tvalid_0's l2: 5.70499e+12\n",
      "[7200]\tvalid_0's l2: 5.70343e+12\n",
      "[7300]\tvalid_0's l2: 5.70188e+12\n",
      "[7400]\tvalid_0's l2: 5.70034e+12\n",
      "[7500]\tvalid_0's l2: 5.69879e+12\n",
      "[7600]\tvalid_0's l2: 5.69725e+12\n",
      "[7700]\tvalid_0's l2: 5.69571e+12\n",
      "[7800]\tvalid_0's l2: 5.69418e+12\n",
      "[7900]\tvalid_0's l2: 5.69264e+12\n",
      "[8000]\tvalid_0's l2: 5.69111e+12\n",
      "[8100]\tvalid_0's l2: 5.68959e+12\n",
      "[8200]\tvalid_0's l2: 5.68806e+12\n",
      "[8300]\tvalid_0's l2: 5.68654e+12\n",
      "[8400]\tvalid_0's l2: 5.68502e+12\n",
      "[8500]\tvalid_0's l2: 5.68351e+12\n",
      "[8600]\tvalid_0's l2: 5.682e+12\n",
      "[8700]\tvalid_0's l2: 5.68049e+12\n",
      "[8800]\tvalid_0's l2: 5.67898e+12\n",
      "[8900]\tvalid_0's l2: 5.67748e+12\n",
      "[9000]\tvalid_0's l2: 5.67598e+12\n",
      "[9100]\tvalid_0's l2: 5.67448e+12\n",
      "[9200]\tvalid_0's l2: 5.67292e+12\n",
      "[9300]\tvalid_0's l2: 5.671e+12\n",
      "[9400]\tvalid_0's l2: 5.66908e+12\n",
      "[9500]\tvalid_0's l2: 5.66716e+12\n",
      "[9600]\tvalid_0's l2: 5.66525e+12\n",
      "[9700]\tvalid_0's l2: 5.66334e+12\n",
      "[9800]\tvalid_0's l2: 5.66145e+12\n",
      "[9900]\tvalid_0's l2: 5.65956e+12\n",
      "[10000]\tvalid_0's l2: 5.65768e+12\n",
      "Did not meet early stopping. Best iteration is:\n",
      "[10000]\tvalid_0's l2: 5.65768e+12\n",
      "Training until validation scores don't improve for 1000 rounds\n",
      "[100]\tvalid_0's l2: 3.30133e+12\n",
      "[200]\tvalid_0's l2: 3.29931e+12\n",
      "[300]\tvalid_0's l2: 3.29729e+12\n",
      "[400]\tvalid_0's l2: 3.29527e+12\n",
      "[500]\tvalid_0's l2: 3.29326e+12\n",
      "[600]\tvalid_0's l2: 3.29125e+12\n",
      "[700]\tvalid_0's l2: 3.28925e+12\n",
      "[800]\tvalid_0's l2: 3.28725e+12\n",
      "[900]\tvalid_0's l2: 3.28525e+12\n",
      "[1000]\tvalid_0's l2: 3.28326e+12\n",
      "[1100]\tvalid_0's l2: 3.28127e+12\n",
      "[1200]\tvalid_0's l2: 3.27929e+12\n",
      "[1300]\tvalid_0's l2: 3.27731e+12\n",
      "[1400]\tvalid_0's l2: 3.27534e+12\n",
      "[1500]\tvalid_0's l2: 3.27337e+12\n",
      "[1600]\tvalid_0's l2: 3.2714e+12\n",
      "[1700]\tvalid_0's l2: 3.26944e+12\n",
      "[1800]\tvalid_0's l2: 3.26748e+12\n",
      "[1900]\tvalid_0's l2: 3.26552e+12\n",
      "[2000]\tvalid_0's l2: 3.26357e+12\n",
      "[2100]\tvalid_0's l2: 3.26162e+12\n",
      "[2200]\tvalid_0's l2: 3.25968e+12\n",
      "[2300]\tvalid_0's l2: 3.25774e+12\n",
      "[2400]\tvalid_0's l2: 3.25581e+12\n",
      "[2500]\tvalid_0's l2: 3.25387e+12\n",
      "[2600]\tvalid_0's l2: 3.25195e+12\n",
      "[2700]\tvalid_0's l2: 3.25002e+12\n",
      "[2800]\tvalid_0's l2: 3.2481e+12\n",
      "[2900]\tvalid_0's l2: 3.24621e+12\n",
      "[3000]\tvalid_0's l2: 3.24432e+12\n",
      "[3100]\tvalid_0's l2: 3.24244e+12\n",
      "[3200]\tvalid_0's l2: 3.24057e+12\n",
      "[3300]\tvalid_0's l2: 3.23869e+12\n",
      "[3400]\tvalid_0's l2: 3.23682e+12\n",
      "[3500]\tvalid_0's l2: 3.23496e+12\n",
      "[3600]\tvalid_0's l2: 3.2331e+12\n",
      "[3700]\tvalid_0's l2: 3.23124e+12\n",
      "[3800]\tvalid_0's l2: 3.22938e+12\n",
      "[3900]\tvalid_0's l2: 3.22753e+12\n",
      "[4000]\tvalid_0's l2: 3.22568e+12\n",
      "[4100]\tvalid_0's l2: 3.22384e+12\n",
      "[4200]\tvalid_0's l2: 3.22199e+12\n",
      "[4300]\tvalid_0's l2: 3.22016e+12\n",
      "[4400]\tvalid_0's l2: 3.21832e+12\n",
      "[4500]\tvalid_0's l2: 3.21649e+12\n",
      "[4600]\tvalid_0's l2: 3.21466e+12\n",
      "[4700]\tvalid_0's l2: 3.21284e+12\n",
      "[4800]\tvalid_0's l2: 3.21102e+12\n",
      "[4900]\tvalid_0's l2: 3.2092e+12\n",
      "[5000]\tvalid_0's l2: 3.20739e+12\n",
      "[5100]\tvalid_0's l2: 3.20558e+12\n",
      "[5200]\tvalid_0's l2: 3.20378e+12\n",
      "[5300]\tvalid_0's l2: 3.20197e+12\n",
      "[5400]\tvalid_0's l2: 3.20017e+12\n",
      "[5500]\tvalid_0's l2: 3.19838e+12\n",
      "[5600]\tvalid_0's l2: 3.19659e+12\n",
      "[5700]\tvalid_0's l2: 3.1948e+12\n",
      "[5800]\tvalid_0's l2: 3.19301e+12\n",
      "[5900]\tvalid_0's l2: 3.19123e+12\n",
      "[6000]\tvalid_0's l2: 3.18945e+12\n",
      "[6100]\tvalid_0's l2: 3.18768e+12\n",
      "[6200]\tvalid_0's l2: 3.1859e+12\n",
      "[6300]\tvalid_0's l2: 3.18414e+12\n",
      "[6400]\tvalid_0's l2: 3.18237e+12\n",
      "[6500]\tvalid_0's l2: 3.18061e+12\n",
      "[6600]\tvalid_0's l2: 3.17885e+12\n",
      "[6700]\tvalid_0's l2: 3.1771e+12\n",
      "[6800]\tvalid_0's l2: 3.17534e+12\n",
      "[6900]\tvalid_0's l2: 3.1736e+12\n",
      "[7000]\tvalid_0's l2: 3.17185e+12\n",
      "[7100]\tvalid_0's l2: 3.17011e+12\n",
      "[7200]\tvalid_0's l2: 3.16837e+12\n",
      "[7300]\tvalid_0's l2: 3.16664e+12\n",
      "[7400]\tvalid_0's l2: 3.16491e+12\n",
      "[7500]\tvalid_0's l2: 3.16318e+12\n",
      "[7600]\tvalid_0's l2: 3.16145e+12\n",
      "[7700]\tvalid_0's l2: 3.15973e+12\n",
      "[7800]\tvalid_0's l2: 3.15801e+12\n",
      "[7900]\tvalid_0's l2: 3.15629e+12\n",
      "[8000]\tvalid_0's l2: 3.15455e+12\n",
      "[8100]\tvalid_0's l2: 3.15281e+12\n"
     ]
    },
    {
     "name": "stdout",
     "output_type": "stream",
     "text": [
      "[8200]\tvalid_0's l2: 3.15108e+12\n",
      "[8300]\tvalid_0's l2: 3.14935e+12\n",
      "[8400]\tvalid_0's l2: 3.14763e+12\n",
      "[8500]\tvalid_0's l2: 3.1459e+12\n",
      "[8600]\tvalid_0's l2: 3.14419e+12\n",
      "[8700]\tvalid_0's l2: 3.14247e+12\n",
      "[8800]\tvalid_0's l2: 3.14076e+12\n",
      "[8900]\tvalid_0's l2: 3.13905e+12\n",
      "[9000]\tvalid_0's l2: 3.13735e+12\n",
      "[9100]\tvalid_0's l2: 3.13564e+12\n",
      "[9200]\tvalid_0's l2: 3.13395e+12\n",
      "[9300]\tvalid_0's l2: 3.13225e+12\n",
      "[9400]\tvalid_0's l2: 3.13056e+12\n",
      "[9500]\tvalid_0's l2: 3.12885e+12\n",
      "[9600]\tvalid_0's l2: 3.12714e+12\n",
      "[9700]\tvalid_0's l2: 3.12542e+12\n",
      "[9800]\tvalid_0's l2: 3.12372e+12\n",
      "[9900]\tvalid_0's l2: 3.12201e+12\n",
      "[10000]\tvalid_0's l2: 3.12031e+12\n",
      "Did not meet early stopping. Best iteration is:\n",
      "[10000]\tvalid_0's l2: 3.12031e+12\n",
      "Training until validation scores don't improve for 1000 rounds\n",
      "[100]\tvalid_0's l2: 4.30428e+12\n",
      "[200]\tvalid_0's l2: 4.30176e+12\n",
      "[300]\tvalid_0's l2: 4.29926e+12\n",
      "[400]\tvalid_0's l2: 4.29675e+12\n",
      "[500]\tvalid_0's l2: 4.29425e+12\n",
      "[600]\tvalid_0's l2: 4.29176e+12\n",
      "[700]\tvalid_0's l2: 4.28927e+12\n",
      "[800]\tvalid_0's l2: 4.28678e+12\n",
      "[900]\tvalid_0's l2: 4.2843e+12\n",
      "[1000]\tvalid_0's l2: 4.28182e+12\n",
      "[1100]\tvalid_0's l2: 4.27935e+12\n",
      "[1200]\tvalid_0's l2: 4.27688e+12\n",
      "[1300]\tvalid_0's l2: 4.27442e+12\n",
      "[1400]\tvalid_0's l2: 4.27196e+12\n",
      "[1500]\tvalid_0's l2: 4.2695e+12\n",
      "[1600]\tvalid_0's l2: 4.26706e+12\n",
      "[1700]\tvalid_0's l2: 4.26462e+12\n",
      "[1800]\tvalid_0's l2: 4.26218e+12\n",
      "[1900]\tvalid_0's l2: 4.25975e+12\n",
      "[2000]\tvalid_0's l2: 4.25732e+12\n",
      "[2100]\tvalid_0's l2: 4.2549e+12\n",
      "[2200]\tvalid_0's l2: 4.25248e+12\n",
      "[2300]\tvalid_0's l2: 4.25007e+12\n",
      "[2400]\tvalid_0's l2: 4.24766e+12\n",
      "[2500]\tvalid_0's l2: 4.24526e+12\n",
      "[2600]\tvalid_0's l2: 4.24285e+12\n",
      "[2700]\tvalid_0's l2: 4.24046e+12\n",
      "[2800]\tvalid_0's l2: 4.23807e+12\n",
      "[2900]\tvalid_0's l2: 4.23572e+12\n",
      "[3000]\tvalid_0's l2: 4.23337e+12\n",
      "[3100]\tvalid_0's l2: 4.23104e+12\n",
      "[3200]\tvalid_0's l2: 4.2287e+12\n",
      "[3300]\tvalid_0's l2: 4.22637e+12\n",
      "[3400]\tvalid_0's l2: 4.22405e+12\n",
      "[3500]\tvalid_0's l2: 4.22172e+12\n",
      "[3600]\tvalid_0's l2: 4.21941e+12\n",
      "[3700]\tvalid_0's l2: 4.21709e+12\n",
      "[3800]\tvalid_0's l2: 4.21479e+12\n",
      "[3900]\tvalid_0's l2: 4.21248e+12\n",
      "[4000]\tvalid_0's l2: 4.21018e+12\n",
      "[4100]\tvalid_0's l2: 4.20788e+12\n",
      "[4200]\tvalid_0's l2: 4.20559e+12\n",
      "[4300]\tvalid_0's l2: 4.20331e+12\n",
      "[4400]\tvalid_0's l2: 4.20102e+12\n",
      "[4500]\tvalid_0's l2: 4.19874e+12\n",
      "[4600]\tvalid_0's l2: 4.19647e+12\n",
      "[4700]\tvalid_0's l2: 4.1942e+12\n",
      "[4800]\tvalid_0's l2: 4.19193e+12\n",
      "[4900]\tvalid_0's l2: 4.18967e+12\n",
      "[5000]\tvalid_0's l2: 4.18741e+12\n",
      "[5100]\tvalid_0's l2: 4.18515e+12\n",
      "[5200]\tvalid_0's l2: 4.1829e+12\n",
      "[5300]\tvalid_0's l2: 4.18066e+12\n",
      "[5400]\tvalid_0's l2: 4.17842e+12\n",
      "[5500]\tvalid_0's l2: 4.17618e+12\n",
      "[5600]\tvalid_0's l2: 4.17394e+12\n",
      "[5700]\tvalid_0's l2: 4.17171e+12\n",
      "[5800]\tvalid_0's l2: 4.16949e+12\n",
      "[5900]\tvalid_0's l2: 4.16726e+12\n",
      "[6000]\tvalid_0's l2: 4.16505e+12\n",
      "[6100]\tvalid_0's l2: 4.16283e+12\n",
      "[6200]\tvalid_0's l2: 4.16063e+12\n",
      "[6300]\tvalid_0's l2: 4.15843e+12\n",
      "[6400]\tvalid_0's l2: 4.15624e+12\n",
      "[6500]\tvalid_0's l2: 4.15405e+12\n",
      "[6600]\tvalid_0's l2: 4.15187e+12\n",
      "[6700]\tvalid_0's l2: 4.14969e+12\n",
      "[6800]\tvalid_0's l2: 4.14752e+12\n",
      "[6900]\tvalid_0's l2: 4.14534e+12\n",
      "[7000]\tvalid_0's l2: 4.14318e+12\n",
      "[7100]\tvalid_0's l2: 4.14102e+12\n",
      "[7200]\tvalid_0's l2: 4.13886e+12\n",
      "[7300]\tvalid_0's l2: 4.1367e+12\n",
      "[7400]\tvalid_0's l2: 4.13455e+12\n",
      "[7500]\tvalid_0's l2: 4.13241e+12\n",
      "[7600]\tvalid_0's l2: 4.13027e+12\n",
      "[7700]\tvalid_0's l2: 4.12813e+12\n",
      "[7800]\tvalid_0's l2: 4.126e+12\n",
      "[7900]\tvalid_0's l2: 4.12387e+12\n",
      "[8000]\tvalid_0's l2: 4.12174e+12\n",
      "[8100]\tvalid_0's l2: 4.11962e+12\n",
      "[8200]\tvalid_0's l2: 4.1175e+12\n",
      "[8300]\tvalid_0's l2: 4.11539e+12\n",
      "[8400]\tvalid_0's l2: 4.11328e+12\n",
      "[8500]\tvalid_0's l2: 4.11118e+12\n",
      "[8600]\tvalid_0's l2: 4.10908e+12\n",
      "[8700]\tvalid_0's l2: 4.10698e+12\n",
      "[8800]\tvalid_0's l2: 4.10489e+12\n",
      "[8900]\tvalid_0's l2: 4.1028e+12\n",
      "[9000]\tvalid_0's l2: 4.10072e+12\n",
      "[9100]\tvalid_0's l2: 4.09864e+12\n",
      "[9200]\tvalid_0's l2: 4.09656e+12\n",
      "[9300]\tvalid_0's l2: 4.09449e+12\n",
      "[9400]\tvalid_0's l2: 4.09242e+12\n",
      "[9500]\tvalid_0's l2: 4.09036e+12\n",
      "[9600]\tvalid_0's l2: 4.0883e+12\n",
      "[9700]\tvalid_0's l2: 4.08624e+12\n",
      "[9800]\tvalid_0's l2: 4.08419e+12\n",
      "[9900]\tvalid_0's l2: 4.08214e+12\n",
      "[10000]\tvalid_0's l2: 4.0801e+12\n",
      "Did not meet early stopping. Best iteration is:\n",
      "[10000]\tvalid_0's l2: 4.0801e+12\n",
      "Training until validation scores don't improve for 1000 rounds\n",
      "[100]\tvalid_0's l2: 2.15263e+12\n",
      "[200]\tvalid_0's l2: 2.15109e+12\n",
      "[300]\tvalid_0's l2: 2.14956e+12\n",
      "[400]\tvalid_0's l2: 2.14803e+12\n",
      "[500]\tvalid_0's l2: 2.1465e+12\n",
      "[600]\tvalid_0's l2: 2.14498e+12\n",
      "[700]\tvalid_0's l2: 2.14347e+12\n",
      "[800]\tvalid_0's l2: 2.14196e+12\n",
      "[900]\tvalid_0's l2: 2.14046e+12\n",
      "[1000]\tvalid_0's l2: 2.13897e+12\n",
      "[1100]\tvalid_0's l2: 2.13747e+12\n",
      "[1200]\tvalid_0's l2: 2.13599e+12\n",
      "[1300]\tvalid_0's l2: 2.13451e+12\n",
      "[1400]\tvalid_0's l2: 2.13303e+12\n",
      "[1500]\tvalid_0's l2: 2.13155e+12\n",
      "[1600]\tvalid_0's l2: 2.13008e+12\n",
      "[1700]\tvalid_0's l2: 2.12862e+12\n",
      "[1800]\tvalid_0's l2: 2.12716e+12\n",
      "[1900]\tvalid_0's l2: 2.1257e+12\n",
      "[2000]\tvalid_0's l2: 2.12425e+12\n",
      "[2100]\tvalid_0's l2: 2.1228e+12\n",
      "[2200]\tvalid_0's l2: 2.12135e+12\n",
      "[2300]\tvalid_0's l2: 2.11991e+12\n",
      "[2400]\tvalid_0's l2: 2.11847e+12\n",
      "[2500]\tvalid_0's l2: 2.11704e+12\n",
      "[2600]\tvalid_0's l2: 2.11561e+12\n",
      "[2700]\tvalid_0's l2: 2.11419e+12\n",
      "[2800]\tvalid_0's l2: 2.11277e+12\n",
      "[2900]\tvalid_0's l2: 2.11135e+12\n",
      "[3000]\tvalid_0's l2: 2.10994e+12\n",
      "[3100]\tvalid_0's l2: 2.10853e+12\n",
      "[3200]\tvalid_0's l2: 2.10712e+12\n",
      "[3300]\tvalid_0's l2: 2.10572e+12\n",
      "[3400]\tvalid_0's l2: 2.10433e+12\n",
      "[3500]\tvalid_0's l2: 2.10293e+12\n",
      "[3600]\tvalid_0's l2: 2.10154e+12\n",
      "[3700]\tvalid_0's l2: 2.10016e+12\n",
      "[3800]\tvalid_0's l2: 2.09878e+12\n",
      "[3900]\tvalid_0's l2: 2.0974e+12\n",
      "[4000]\tvalid_0's l2: 2.09603e+12\n",
      "[4100]\tvalid_0's l2: 2.09466e+12\n",
      "[4200]\tvalid_0's l2: 2.0933e+12\n",
      "[4300]\tvalid_0's l2: 2.09193e+12\n",
      "[4400]\tvalid_0's l2: 2.09058e+12\n",
      "[4500]\tvalid_0's l2: 2.08922e+12\n",
      "[4600]\tvalid_0's l2: 2.08787e+12\n",
      "[4700]\tvalid_0's l2: 2.08653e+12\n",
      "[4800]\tvalid_0's l2: 2.08519e+12\n",
      "[4900]\tvalid_0's l2: 2.08385e+12\n",
      "[5000]\tvalid_0's l2: 2.08252e+12\n",
      "[5100]\tvalid_0's l2: 2.08118e+12\n",
      "[5200]\tvalid_0's l2: 2.07986e+12\n",
      "[5300]\tvalid_0's l2: 2.07854e+12\n",
      "[5400]\tvalid_0's l2: 2.07722e+12\n",
      "[5500]\tvalid_0's l2: 2.0759e+12\n",
      "[5600]\tvalid_0's l2: 2.07459e+12\n",
      "[5700]\tvalid_0's l2: 2.07328e+12\n",
      "[5800]\tvalid_0's l2: 2.07198e+12\n",
      "[5900]\tvalid_0's l2: 2.07068e+12\n",
      "[6000]\tvalid_0's l2: 2.06938e+12\n",
      "[6100]\tvalid_0's l2: 2.06809e+12\n",
      "[6200]\tvalid_0's l2: 2.0668e+12\n",
      "[6300]\tvalid_0's l2: 2.06552e+12\n",
      "[6400]\tvalid_0's l2: 2.06424e+12\n",
      "[6500]\tvalid_0's l2: 2.06296e+12\n",
      "[6600]\tvalid_0's l2: 2.06169e+12\n",
      "[6700]\tvalid_0's l2: 2.06042e+12\n",
      "[6800]\tvalid_0's l2: 2.05915e+12\n",
      "[6900]\tvalid_0's l2: 2.05789e+12\n",
      "[7000]\tvalid_0's l2: 2.05663e+12\n",
      "[7100]\tvalid_0's l2: 2.05537e+12\n",
      "[7200]\tvalid_0's l2: 2.05412e+12\n",
      "[7300]\tvalid_0's l2: 2.05287e+12\n",
      "[7400]\tvalid_0's l2: 2.05163e+12\n",
      "[7500]\tvalid_0's l2: 2.05039e+12\n",
      "[7600]\tvalid_0's l2: 2.04915e+12\n",
      "[7700]\tvalid_0's l2: 2.04792e+12\n",
      "[7800]\tvalid_0's l2: 2.04669e+12\n",
      "[7900]\tvalid_0's l2: 2.04546e+12\n",
      "[8000]\tvalid_0's l2: 2.04424e+12\n",
      "[8100]\tvalid_0's l2: 2.04302e+12\n",
      "[8200]\tvalid_0's l2: 2.0418e+12\n",
      "[8300]\tvalid_0's l2: 2.04059e+12\n",
      "[8400]\tvalid_0's l2: 2.03938e+12\n",
      "[8500]\tvalid_0's l2: 2.03818e+12\n",
      "[8600]\tvalid_0's l2: 2.03697e+12\n",
      "[8700]\tvalid_0's l2: 2.03578e+12\n",
      "[8800]\tvalid_0's l2: 2.03458e+12\n",
      "[8900]\tvalid_0's l2: 2.03339e+12\n",
      "[9000]\tvalid_0's l2: 2.03218e+12\n",
      "[9100]\tvalid_0's l2: 2.03096e+12\n",
      "[9200]\tvalid_0's l2: 2.02976e+12\n",
      "[9300]\tvalid_0's l2: 2.02855e+12\n",
      "[9400]\tvalid_0's l2: 2.02735e+12\n",
      "[9500]\tvalid_0's l2: 2.02615e+12\n",
      "[9600]\tvalid_0's l2: 2.02496e+12\n",
      "[9700]\tvalid_0's l2: 2.02377e+12\n",
      "[9800]\tvalid_0's l2: 2.02258e+12\n",
      "[9900]\tvalid_0's l2: 2.0214e+12\n",
      "[10000]\tvalid_0's l2: 2.02022e+12\n",
      "Did not meet early stopping. Best iteration is:\n",
      "[10000]\tvalid_0's l2: 2.02022e+12\n",
      "Training until validation scores don't improve for 1000 rounds\n",
      "[100]\tvalid_0's l2: 1.96475e+12\n",
      "[200]\tvalid_0's l2: 1.96292e+12\n",
      "[300]\tvalid_0's l2: 1.96109e+12\n",
      "[400]\tvalid_0's l2: 1.95927e+12\n",
      "[500]\tvalid_0's l2: 1.95745e+12\n",
      "[600]\tvalid_0's l2: 1.95564e+12\n",
      "[700]\tvalid_0's l2: 1.95382e+12\n",
      "[800]\tvalid_0's l2: 1.95202e+12\n",
      "[900]\tvalid_0's l2: 1.95021e+12\n",
      "[1000]\tvalid_0's l2: 1.94842e+12\n",
      "[1100]\tvalid_0's l2: 1.94662e+12\n",
      "[1200]\tvalid_0's l2: 1.94483e+12\n",
      "[1300]\tvalid_0's l2: 1.94304e+12\n",
      "[1400]\tvalid_0's l2: 1.94126e+12\n",
      "[1500]\tvalid_0's l2: 1.93948e+12\n",
      "[1600]\tvalid_0's l2: 1.93771e+12\n",
      "[1700]\tvalid_0's l2: 1.93594e+12\n",
      "[1800]\tvalid_0's l2: 1.93417e+12\n",
      "[1900]\tvalid_0's l2: 1.9324e+12\n"
     ]
    },
    {
     "name": "stdout",
     "output_type": "stream",
     "text": [
      "[2000]\tvalid_0's l2: 1.93065e+12\n",
      "[2100]\tvalid_0's l2: 1.92889e+12\n",
      "[2200]\tvalid_0's l2: 1.92714e+12\n",
      "[2300]\tvalid_0's l2: 1.92539e+12\n",
      "[2400]\tvalid_0's l2: 1.92365e+12\n",
      "[2500]\tvalid_0's l2: 1.92191e+12\n",
      "[2600]\tvalid_0's l2: 1.92017e+12\n",
      "[2700]\tvalid_0's l2: 1.91844e+12\n",
      "[2800]\tvalid_0's l2: 1.91671e+12\n",
      "[2900]\tvalid_0's l2: 1.91498e+12\n",
      "[3000]\tvalid_0's l2: 1.91326e+12\n",
      "[3100]\tvalid_0's l2: 1.91155e+12\n",
      "[3200]\tvalid_0's l2: 1.90983e+12\n",
      "[3300]\tvalid_0's l2: 1.90812e+12\n",
      "[3400]\tvalid_0's l2: 1.90642e+12\n",
      "[3500]\tvalid_0's l2: 1.90472e+12\n",
      "[3600]\tvalid_0's l2: 1.90302e+12\n",
      "[3700]\tvalid_0's l2: 1.90132e+12\n",
      "[3800]\tvalid_0's l2: 1.89963e+12\n",
      "[3900]\tvalid_0's l2: 1.89795e+12\n",
      "[4000]\tvalid_0's l2: 1.89626e+12\n",
      "[4100]\tvalid_0's l2: 1.89458e+12\n",
      "[4200]\tvalid_0's l2: 1.89291e+12\n",
      "[4300]\tvalid_0's l2: 1.89124e+12\n",
      "[4400]\tvalid_0's l2: 1.8896e+12\n",
      "[4500]\tvalid_0's l2: 1.88797e+12\n",
      "[4600]\tvalid_0's l2: 1.88635e+12\n",
      "[4700]\tvalid_0's l2: 1.88473e+12\n",
      "[4800]\tvalid_0's l2: 1.88312e+12\n",
      "[4900]\tvalid_0's l2: 1.88151e+12\n",
      "[5000]\tvalid_0's l2: 1.8799e+12\n",
      "[5100]\tvalid_0's l2: 1.87829e+12\n",
      "[5200]\tvalid_0's l2: 1.87669e+12\n",
      "[5300]\tvalid_0's l2: 1.87509e+12\n",
      "[5400]\tvalid_0's l2: 1.8735e+12\n",
      "[5500]\tvalid_0's l2: 1.8719e+12\n",
      "[5600]\tvalid_0's l2: 1.87032e+12\n",
      "[5700]\tvalid_0's l2: 1.86873e+12\n",
      "[5800]\tvalid_0's l2: 1.86715e+12\n",
      "[5900]\tvalid_0's l2: 1.86557e+12\n",
      "[6000]\tvalid_0's l2: 1.864e+12\n",
      "[6100]\tvalid_0's l2: 1.86243e+12\n",
      "[6200]\tvalid_0's l2: 1.86086e+12\n",
      "[6300]\tvalid_0's l2: 1.8593e+12\n",
      "[6400]\tvalid_0's l2: 1.85773e+12\n",
      "[6500]\tvalid_0's l2: 1.85618e+12\n",
      "[6600]\tvalid_0's l2: 1.85462e+12\n",
      "[6700]\tvalid_0's l2: 1.85307e+12\n",
      "[6800]\tvalid_0's l2: 1.85152e+12\n",
      "[6900]\tvalid_0's l2: 1.84998e+12\n",
      "[7000]\tvalid_0's l2: 1.84844e+12\n",
      "[7100]\tvalid_0's l2: 1.8469e+12\n",
      "[7200]\tvalid_0's l2: 1.84537e+12\n",
      "[7300]\tvalid_0's l2: 1.84384e+12\n",
      "[7400]\tvalid_0's l2: 1.84231e+12\n",
      "[7500]\tvalid_0's l2: 1.84078e+12\n",
      "[7600]\tvalid_0's l2: 1.83926e+12\n",
      "[7700]\tvalid_0's l2: 1.83775e+12\n",
      "[7800]\tvalid_0's l2: 1.83623e+12\n",
      "[7900]\tvalid_0's l2: 1.83472e+12\n",
      "[8000]\tvalid_0's l2: 1.83321e+12\n",
      "[8100]\tvalid_0's l2: 1.83171e+12\n",
      "[8200]\tvalid_0's l2: 1.83021e+12\n",
      "[8300]\tvalid_0's l2: 1.82871e+12\n",
      "[8400]\tvalid_0's l2: 1.82721e+12\n",
      "[8500]\tvalid_0's l2: 1.82572e+12\n",
      "[8600]\tvalid_0's l2: 1.82423e+12\n",
      "[8700]\tvalid_0's l2: 1.82275e+12\n",
      "[8800]\tvalid_0's l2: 1.82126e+12\n",
      "[8900]\tvalid_0's l2: 1.81979e+12\n",
      "[9000]\tvalid_0's l2: 1.81831e+12\n",
      "[9100]\tvalid_0's l2: 1.81684e+12\n",
      "[9200]\tvalid_0's l2: 1.81537e+12\n",
      "[9300]\tvalid_0's l2: 1.8139e+12\n",
      "[9400]\tvalid_0's l2: 1.81244e+12\n",
      "[9500]\tvalid_0's l2: 1.81098e+12\n",
      "[9600]\tvalid_0's l2: 1.80952e+12\n",
      "[9700]\tvalid_0's l2: 1.80807e+12\n",
      "[9800]\tvalid_0's l2: 1.80662e+12\n",
      "[9900]\tvalid_0's l2: 1.80517e+12\n",
      "[10000]\tvalid_0's l2: 1.80373e+12\n",
      "Did not meet early stopping. Best iteration is:\n",
      "[10000]\tvalid_0's l2: 1.80373e+12\n",
      "Training until validation scores don't improve for 1000 rounds\n",
      "[100]\tvalid_0's l2: 9.58295e+11\n",
      "[200]\tvalid_0's l2: 9.57059e+11\n",
      "[300]\tvalid_0's l2: 9.55866e+11\n",
      "[400]\tvalid_0's l2: 9.54679e+11\n",
      "[500]\tvalid_0's l2: 9.53496e+11\n",
      "[600]\tvalid_0's l2: 9.52316e+11\n",
      "[700]\tvalid_0's l2: 9.51141e+11\n",
      "[800]\tvalid_0's l2: 9.49969e+11\n",
      "[900]\tvalid_0's l2: 9.48801e+11\n",
      "[1000]\tvalid_0's l2: 9.47636e+11\n",
      "[1100]\tvalid_0's l2: 9.46475e+11\n",
      "[1200]\tvalid_0's l2: 9.45318e+11\n",
      "[1300]\tvalid_0's l2: 9.44165e+11\n",
      "[1400]\tvalid_0's l2: 9.43016e+11\n",
      "[1500]\tvalid_0's l2: 9.4187e+11\n",
      "[1600]\tvalid_0's l2: 9.40728e+11\n",
      "[1700]\tvalid_0's l2: 9.39589e+11\n",
      "[1800]\tvalid_0's l2: 9.38454e+11\n",
      "[1900]\tvalid_0's l2: 9.37322e+11\n",
      "[2000]\tvalid_0's l2: 9.36195e+11\n",
      "[2100]\tvalid_0's l2: 9.3507e+11\n",
      "[2200]\tvalid_0's l2: 9.3395e+11\n",
      "[2300]\tvalid_0's l2: 9.32833e+11\n",
      "[2400]\tvalid_0's l2: 9.3172e+11\n",
      "[2500]\tvalid_0's l2: 9.3061e+11\n",
      "[2600]\tvalid_0's l2: 9.29489e+11\n",
      "[2700]\tvalid_0's l2: 9.28351e+11\n",
      "[2800]\tvalid_0's l2: 9.27217e+11\n",
      "[2900]\tvalid_0's l2: 9.26086e+11\n",
      "[3000]\tvalid_0's l2: 9.2496e+11\n",
      "[3100]\tvalid_0's l2: 9.23836e+11\n",
      "[3200]\tvalid_0's l2: 9.22716e+11\n",
      "[3300]\tvalid_0's l2: 9.216e+11\n",
      "[3400]\tvalid_0's l2: 9.20488e+11\n",
      "[3500]\tvalid_0's l2: 9.19378e+11\n",
      "[3600]\tvalid_0's l2: 9.18272e+11\n",
      "[3700]\tvalid_0's l2: 9.17171e+11\n",
      "[3800]\tvalid_0's l2: 9.16072e+11\n",
      "[3900]\tvalid_0's l2: 9.14977e+11\n",
      "[4000]\tvalid_0's l2: 9.13885e+11\n",
      "[4100]\tvalid_0's l2: 9.12797e+11\n",
      "[4200]\tvalid_0's l2: 9.11712e+11\n",
      "[4300]\tvalid_0's l2: 9.10631e+11\n",
      "[4400]\tvalid_0's l2: 9.09554e+11\n",
      "[4500]\tvalid_0's l2: 9.08479e+11\n",
      "[4600]\tvalid_0's l2: 9.07409e+11\n",
      "[4700]\tvalid_0's l2: 9.06341e+11\n",
      "[4800]\tvalid_0's l2: 9.05277e+11\n",
      "[4900]\tvalid_0's l2: 9.04217e+11\n",
      "[5000]\tvalid_0's l2: 9.03159e+11\n",
      "[5100]\tvalid_0's l2: 9.02106e+11\n",
      "[5200]\tvalid_0's l2: 9.01055e+11\n",
      "[5300]\tvalid_0's l2: 9.00009e+11\n",
      "[5400]\tvalid_0's l2: 8.98965e+11\n",
      "[5500]\tvalid_0's l2: 8.97925e+11\n",
      "[5600]\tvalid_0's l2: 8.96888e+11\n",
      "[5700]\tvalid_0's l2: 8.95854e+11\n",
      "[5800]\tvalid_0's l2: 8.94825e+11\n",
      "[5900]\tvalid_0's l2: 8.93798e+11\n",
      "[6000]\tvalid_0's l2: 8.92775e+11\n",
      "[6100]\tvalid_0's l2: 8.91754e+11\n",
      "[6200]\tvalid_0's l2: 8.90738e+11\n",
      "[6300]\tvalid_0's l2: 8.89724e+11\n",
      "[6400]\tvalid_0's l2: 8.88715e+11\n",
      "[6500]\tvalid_0's l2: 8.87707e+11\n",
      "[6600]\tvalid_0's l2: 8.86704e+11\n",
      "[6700]\tvalid_0's l2: 8.85704e+11\n",
      "[6800]\tvalid_0's l2: 8.84707e+11\n",
      "[6900]\tvalid_0's l2: 8.83713e+11\n",
      "[7000]\tvalid_0's l2: 8.82722e+11\n",
      "[7100]\tvalid_0's l2: 8.81735e+11\n",
      "[7200]\tvalid_0's l2: 8.80752e+11\n",
      "[7300]\tvalid_0's l2: 8.79771e+11\n",
      "[7400]\tvalid_0's l2: 8.78793e+11\n",
      "[7500]\tvalid_0's l2: 8.77819e+11\n",
      "[7600]\tvalid_0's l2: 8.76848e+11\n",
      "[7700]\tvalid_0's l2: 8.7588e+11\n",
      "[7800]\tvalid_0's l2: 8.74916e+11\n",
      "[7900]\tvalid_0's l2: 8.73954e+11\n",
      "[8000]\tvalid_0's l2: 8.72995e+11\n",
      "[8100]\tvalid_0's l2: 8.72041e+11\n",
      "[8200]\tvalid_0's l2: 8.71088e+11\n",
      "[8300]\tvalid_0's l2: 8.7014e+11\n",
      "[8400]\tvalid_0's l2: 8.69194e+11\n",
      "[8500]\tvalid_0's l2: 8.68252e+11\n",
      "[8600]\tvalid_0's l2: 8.67312e+11\n",
      "[8700]\tvalid_0's l2: 8.66376e+11\n",
      "[8800]\tvalid_0's l2: 8.65443e+11\n",
      "[8900]\tvalid_0's l2: 8.64513e+11\n",
      "[9000]\tvalid_0's l2: 8.63586e+11\n",
      "[9100]\tvalid_0's l2: 8.62662e+11\n",
      "[9200]\tvalid_0's l2: 8.61741e+11\n",
      "[9300]\tvalid_0's l2: 8.60824e+11\n",
      "[9400]\tvalid_0's l2: 8.59909e+11\n",
      "[9500]\tvalid_0's l2: 8.58998e+11\n",
      "[9600]\tvalid_0's l2: 8.58089e+11\n",
      "[9700]\tvalid_0's l2: 8.57184e+11\n",
      "[9800]\tvalid_0's l2: 8.56282e+11\n",
      "[9900]\tvalid_0's l2: 8.55383e+11\n",
      "[10000]\tvalid_0's l2: 8.54487e+11\n",
      "Did not meet early stopping. Best iteration is:\n",
      "[10000]\tvalid_0's l2: 8.54487e+11\n",
      "Training until validation scores don't improve for 1000 rounds\n",
      "[100]\tvalid_0's l2: 3.76154e+12\n",
      "[200]\tvalid_0's l2: 3.75825e+12\n",
      "[300]\tvalid_0's l2: 3.75496e+12\n",
      "[400]\tvalid_0's l2: 3.7517e+12\n",
      "[500]\tvalid_0's l2: 3.74845e+12\n",
      "[600]\tvalid_0's l2: 3.7452e+12\n",
      "[700]\tvalid_0's l2: 3.74196e+12\n",
      "[800]\tvalid_0's l2: 3.73873e+12\n",
      "[900]\tvalid_0's l2: 3.73551e+12\n",
      "[1000]\tvalid_0's l2: 3.73228e+12\n",
      "[1100]\tvalid_0's l2: 3.72907e+12\n",
      "[1200]\tvalid_0's l2: 3.72586e+12\n",
      "[1300]\tvalid_0's l2: 3.72266e+12\n",
      "[1400]\tvalid_0's l2: 3.71946e+12\n",
      "[1500]\tvalid_0's l2: 3.71627e+12\n",
      "[1600]\tvalid_0's l2: 3.71309e+12\n",
      "[1700]\tvalid_0's l2: 3.70991e+12\n",
      "[1800]\tvalid_0's l2: 3.70674e+12\n",
      "[1900]\tvalid_0's l2: 3.70357e+12\n",
      "[2000]\tvalid_0's l2: 3.70041e+12\n",
      "[2100]\tvalid_0's l2: 3.69726e+12\n",
      "[2200]\tvalid_0's l2: 3.69411e+12\n",
      "[2300]\tvalid_0's l2: 3.69097e+12\n",
      "[2400]\tvalid_0's l2: 3.68784e+12\n",
      "[2500]\tvalid_0's l2: 3.68471e+12\n",
      "[2600]\tvalid_0's l2: 3.68158e+12\n",
      "[2700]\tvalid_0's l2: 3.67847e+12\n",
      "[2800]\tvalid_0's l2: 3.67535e+12\n",
      "[2900]\tvalid_0's l2: 3.67225e+12\n",
      "[3000]\tvalid_0's l2: 3.66915e+12\n",
      "[3100]\tvalid_0's l2: 3.66605e+12\n",
      "[3200]\tvalid_0's l2: 3.66297e+12\n",
      "[3300]\tvalid_0's l2: 3.65988e+12\n",
      "[3400]\tvalid_0's l2: 3.65681e+12\n",
      "[3500]\tvalid_0's l2: 3.65374e+12\n",
      "[3600]\tvalid_0's l2: 3.65067e+12\n",
      "[3700]\tvalid_0's l2: 3.64761e+12\n",
      "[3800]\tvalid_0's l2: 3.64456e+12\n",
      "[3900]\tvalid_0's l2: 3.64151e+12\n",
      "[4000]\tvalid_0's l2: 3.63847e+12\n",
      "[4100]\tvalid_0's l2: 3.63544e+12\n",
      "[4200]\tvalid_0's l2: 3.63241e+12\n",
      "[4300]\tvalid_0's l2: 3.62938e+12\n",
      "[4400]\tvalid_0's l2: 3.62636e+12\n",
      "[4500]\tvalid_0's l2: 3.62335e+12\n",
      "[4600]\tvalid_0's l2: 3.62035e+12\n",
      "[4700]\tvalid_0's l2: 3.61734e+12\n",
      "[4800]\tvalid_0's l2: 3.61435e+12\n",
      "[4900]\tvalid_0's l2: 3.61136e+12\n",
      "[5000]\tvalid_0's l2: 3.60838e+12\n",
      "[5100]\tvalid_0's l2: 3.6054e+12\n",
      "[5200]\tvalid_0's l2: 3.60243e+12\n",
      "[5300]\tvalid_0's l2: 3.59946e+12\n",
      "[5400]\tvalid_0's l2: 3.5965e+12\n",
      "[5500]\tvalid_0's l2: 3.59354e+12\n",
      "[5600]\tvalid_0's l2: 3.59059e+12\n",
      "[5700]\tvalid_0's l2: 3.58765e+12\n",
      "[5800]\tvalid_0's l2: 3.58471e+12\n",
      "[5900]\tvalid_0's l2: 3.58178e+12\n",
      "[6000]\tvalid_0's l2: 3.57885e+12\n",
      "[6100]\tvalid_0's l2: 3.57593e+12\n",
      "[6200]\tvalid_0's l2: 3.57301e+12\n",
      "[6300]\tvalid_0's l2: 3.5701e+12\n"
     ]
    },
    {
     "name": "stdout",
     "output_type": "stream",
     "text": [
      "[6400]\tvalid_0's l2: 3.56719e+12\n",
      "[6500]\tvalid_0's l2: 3.5643e+12\n",
      "[6600]\tvalid_0's l2: 3.5614e+12\n",
      "[6700]\tvalid_0's l2: 3.55851e+12\n",
      "[6800]\tvalid_0's l2: 3.55563e+12\n",
      "[6900]\tvalid_0's l2: 3.55275e+12\n",
      "[7000]\tvalid_0's l2: 3.54988e+12\n",
      "[7100]\tvalid_0's l2: 3.54701e+12\n",
      "[7200]\tvalid_0's l2: 3.54415e+12\n",
      "[7300]\tvalid_0's l2: 3.5413e+12\n",
      "[7400]\tvalid_0's l2: 3.53845e+12\n",
      "[7500]\tvalid_0's l2: 3.5356e+12\n",
      "[7600]\tvalid_0's l2: 3.53276e+12\n",
      "[7700]\tvalid_0's l2: 3.52993e+12\n",
      "[7800]\tvalid_0's l2: 3.5271e+12\n",
      "[7900]\tvalid_0's l2: 3.52428e+12\n",
      "[8000]\tvalid_0's l2: 3.52146e+12\n",
      "[8100]\tvalid_0's l2: 3.51865e+12\n",
      "[8200]\tvalid_0's l2: 3.51584e+12\n",
      "[8300]\tvalid_0's l2: 3.51304e+12\n",
      "[8400]\tvalid_0's l2: 3.51024e+12\n",
      "[8500]\tvalid_0's l2: 3.50745e+12\n",
      "[8600]\tvalid_0's l2: 3.50466e+12\n",
      "[8700]\tvalid_0's l2: 3.50188e+12\n",
      "[8800]\tvalid_0's l2: 3.49911e+12\n",
      "[8900]\tvalid_0's l2: 3.49634e+12\n",
      "[9000]\tvalid_0's l2: 3.49357e+12\n",
      "[9100]\tvalid_0's l2: 3.49081e+12\n",
      "[9200]\tvalid_0's l2: 3.48806e+12\n",
      "[9300]\tvalid_0's l2: 3.48531e+12\n",
      "[9400]\tvalid_0's l2: 3.48257e+12\n",
      "[9500]\tvalid_0's l2: 3.47983e+12\n",
      "[9600]\tvalid_0's l2: 3.47712e+12\n",
      "[9700]\tvalid_0's l2: 3.4745e+12\n",
      "[9800]\tvalid_0's l2: 3.47188e+12\n",
      "[9900]\tvalid_0's l2: 3.46927e+12\n",
      "[10000]\tvalid_0's l2: 3.46666e+12\n",
      "Did not meet early stopping. Best iteration is:\n",
      "[10000]\tvalid_0's l2: 3.46666e+12\n"
     ]
    }
   ],
   "source": [
    "model = lgb.LGBMRegressor(random_state = 777, n_estimators=10000, learning_rate= 1e-05, min_child_samples= 30)\n",
    "models = []\n",
    "for train_idx, val_idx in k_fold.split(X_train) :\n",
    "    x_t = X_train.iloc[train_idx]\n",
    "    y_t = Y_train.iloc[train_idx]\n",
    "    x_val = X_train.iloc[val_idx]\n",
    "    y_val = Y_train.iloc[val_idx]\n",
    "    \n",
    "    models.append(model.fit(x_t, y_t, eval_set = (x_val, y_val), early_stopping_rounds=1000, verbose=100))\n",
    "    "
   ]
  },
  {
   "cell_type": "code",
   "execution_count": 264,
   "metadata": {
    "ExecuteTime": {
     "end_time": "2020-07-13T17:16:55.202791Z",
     "start_time": "2020-07-13T17:16:52.952192Z"
    },
    "hidden": true
   },
   "outputs": [
    {
     "data": {
      "text/plain": [
       "10"
      ]
     },
     "execution_count": 264,
     "metadata": {},
     "output_type": "execute_result"
    }
   ],
   "source": [
    "preds = []\n",
    "for model in models :\n",
    "    preds.append(model.predict(X_test))\n",
    "len(preds)"
   ]
  },
  {
   "cell_type": "code",
   "execution_count": 265,
   "metadata": {
    "ExecuteTime": {
     "end_time": "2020-07-13T17:16:55.634097Z",
     "start_time": "2020-07-13T17:16:55.626093Z"
    },
    "hidden": true
   },
   "outputs": [],
   "source": [
    "import numpy as np\n",
    "prediction = np.mean(preds, axis=0)"
   ]
  },
  {
   "cell_type": "code",
   "execution_count": 266,
   "metadata": {
    "ExecuteTime": {
     "end_time": "2020-07-13T17:17:01.626357Z",
     "start_time": "2020-07-13T17:17:01.614349Z"
    },
    "hidden": true
   },
   "outputs": [
    {
     "data": {
      "text/plain": [
       "array([691695.2517164 , 672319.21502713, 851316.339441  , 903897.40003323,\n",
       "       903897.40003323, 635577.41282796, 626110.17356157, 625556.93486383,\n",
       "       625560.00726256, 691239.28514796, 635820.24005134, 691695.2517164 ,\n",
       "       691695.2517164 , 625676.61787807, 851316.339441  , 955633.49804001,\n",
       "       625999.87401811, 851316.339441  , 672319.21502713, 757723.25541921,\n",
       "       625556.93486383, 627289.84345835, 635820.24005134, 625556.93486383,\n",
       "       625556.93486383, 955633.49804001, 625808.53751061, 903897.40003323,\n",
       "       625999.8043815 , 625556.93486383, 851316.339441  , 627269.50418685,\n",
       "       626109.65018459, 691239.28514796, 626110.17356157, 627251.25526062,\n",
       "       625676.54824146, 626109.65018459, 625999.8043815 , 625556.93486383,\n",
       "       625556.93486383, 627251.25526062, 757723.25541921, 630908.00879904,\n",
       "       757723.25541921, 851316.339441  , 625556.93486383, 635577.41282796,\n",
       "       757723.25541921, 625560.00726256, 627269.50418685, 757723.25541921,\n",
       "       625999.8043815 , 757723.25541921, 672319.21502713, 635577.41282796,\n",
       "       626109.65018459, 903897.40003323, 903897.40003323, 851316.339441  ,\n",
       "       903897.40003323, 903897.40003323, 635579.41035238, 625556.93486383,\n",
       "       635579.41035238, 625556.93486383, 852641.11758969, 672319.21502713,\n",
       "       672319.21502713, 635579.41035238, 851316.339441  , 757723.25541921,\n",
       "       625808.53751061, 851788.03603721, 625808.53751061, 625556.93486383,\n",
       "       757723.25541921, 635621.02988268, 635820.24005134, 626110.17356157,\n",
       "       635621.02988268, 904369.09662944, 635579.34071576, 852641.11758969,\n",
       "       627269.50418685, 905222.17818192, 625808.53751061, 630926.25772527,\n",
       "       627269.50418685, 757723.25541921, 627269.50418685, 626109.65018459,\n",
       "       672319.21502713, 850959.83379603, 672319.21502713, 625556.93486383,\n",
       "       627251.25526062, 625556.93486383, 672319.21502713, 672319.21502713,\n",
       "       672319.21502713, 905222.17818192, 625559.48388559, 672319.21502713,\n",
       "       672319.21502713, 672319.21502713, 904369.09662944, 627251.25526062,\n",
       "       904369.09662944, 626110.17356157, 625808.60714722, 852641.11758969,\n",
       "       904369.09662944, 625676.61787807, 630946.59699677, 672319.21502713,\n",
       "       625999.87401811, 903540.89438826, 625676.61787807, 630908.00879904,\n",
       "       625556.93486383, 672319.21502713, 757723.25541921, 627269.50418685,\n",
       "       625556.93486383, 625808.53751061, 625686.41850523, 627269.50418685,\n",
       "       635621.02988268, 626110.17356157, 625556.93486383, 757723.25541921,\n",
       "       625686.34886862, 625808.53751061, 905222.17818192, 905222.17818192,\n",
       "       625808.53751061, 757723.25541921, 757723.25541921, 625556.93486383,\n",
       "       625808.60714722, 851788.03603721, 905222.17818192, 635820.24005134,\n",
       "       625808.60714722, 691239.28514796, 626110.17356157, 626110.17356157,\n",
       "       904377.21559647, 904369.09662944, 625999.87401811, 625999.87401811,\n",
       "       625556.93486383, 625999.87401811, 627251.25526062, 692166.94831261,\n",
       "       625808.60714722, 627269.50418685, 956105.19463622, 956105.19463622,\n",
       "       691239.28514796, 956958.27618871, 672319.21502713, 672319.21502713,\n",
       "       627269.50418685, 625808.60714722, 956105.19463622, 625556.93486383,\n",
       "       625674.8463197 , 625998.10245973, 627251.25526062, 627251.25526062,\n",
       "       635577.638794  , 625556.93486383, 627289.84345835, 635820.24005134,\n",
       "       625556.93486383, 627269.50418685, 956958.27618871, 956958.27618871,\n",
       "       635621.02988268, 625808.60714722, 625674.8463197 , 635820.24005134,\n",
       "       956958.27618871, 626110.17356157, 625998.10245973, 635577.638794  ,\n",
       "       625806.83558885, 692166.94831261, 630926.25772527, 625674.8463197 ,\n",
       "       625806.83558885, 625674.8463197 , 625808.60714722, 956958.27618871,\n",
       "       626110.17356157, 692166.94831261, 625808.60714722, 904369.09662944,\n",
       "       625556.93486383, 630926.25772527, 625560.00726256, 625999.87401811,\n",
       "       627289.84345835, 672319.21502713, 903524.13404399, 852641.11758969,\n",
       "       625999.87401811, 905222.17818192, 627251.25526062, 851788.03603721,\n",
       "       903524.13404399, 691239.28514796, 627269.50418685, 625556.93486383,\n",
       "       903524.13404399, 627269.50418685, 625560.00726256, 625998.10245973,\n",
       "       627251.25526062, 903524.13404399, 757723.25541921, 627289.84345835,\n",
       "       630926.25772527, 625556.93486383, 625556.93486383, 693020.0298651 ,\n",
       "       630926.25772527, 956958.27618871, 625998.10245973, 692166.94831261,\n",
       "       630946.59699677, 626110.17356157, 625556.93486383, 626110.17356157,\n",
       "       635577.41282796, 625556.93486383, 625556.93486383, 626110.17356157,\n",
       "       691239.28514796, 625556.93486383, 625806.83558885])"
      ]
     },
     "execution_count": 266,
     "metadata": {},
     "output_type": "execute_result"
    }
   ],
   "source": [
    "prediction"
   ]
  },
  {
   "cell_type": "markdown",
   "metadata": {},
   "source": [
    "## sklearn_RandomForestRegressor \n",
    "+ RMSE + Hyper Parameter Tuning"
   ]
  },
  {
   "cell_type": "code",
   "execution_count": 267,
   "metadata": {
    "ExecuteTime": {
     "end_time": "2020-07-13T17:18:43.765951Z",
     "start_time": "2020-07-13T17:18:43.759944Z"
    }
   },
   "outputs": [],
   "source": [
    "from sklearn.ensemble import RandomForestRegressor\n",
    "\n",
    "model = RandomForestRegressor(n_estimators=300,\n",
    "                              n_jobs=-1,\n",
    "                              random_state=46)"
   ]
  },
  {
   "cell_type": "code",
   "execution_count": 269,
   "metadata": {
    "ExecuteTime": {
     "end_time": "2020-07-13T18:00:52.748318Z",
     "start_time": "2020-07-13T17:19:02.130003Z"
    }
   },
   "outputs": [
    {
     "name": "stdout",
     "output_type": "stream",
     "text": [
      " 0 n_estimators = 300, max_depth = 90, max_features = 0.194105, Score = 1326479.93936\n",
      " 1 n_estimators = 300, max_depth = 36, max_features = 0.381561, Score = 1336569.44026\n",
      " 2 n_estimators = 300, max_depth = 80, max_features = 0.728873, Score = 1382447.05012\n",
      " 3 n_estimators = 300, max_depth = 70, max_features = 0.733827, Score = 1382447.05012\n",
      " 4 n_estimators = 300, max_depth = 40, max_features = 0.485967, Score = 1348670.47599\n",
      " 5 n_estimators = 300, max_depth = 98, max_features = 0.727425, Score = 1382447.05012\n",
      " 6 n_estimators = 300, max_depth = 49, max_features = 0.549473, Score = 1353331.42717\n",
      " 7 n_estimators = 300, max_depth = 63, max_features = 0.555074, Score = 1353331.42717\n",
      " 8 n_estimators = 300, max_depth = 74, max_features = 0.101698, Score = 1298841.65572\n",
      " 9 n_estimators = 300, max_depth = 13, max_features = 0.896242, Score = 1379064.01650\n",
      "10 n_estimators = 300, max_depth = 38, max_features = 0.913436, Score = 1393568.32132\n",
      "11 n_estimators = 300, max_depth = 19, max_features = 0.867833, Score = 1387308.39705\n",
      "12 n_estimators = 300, max_depth =  2, max_features = 0.858321, Score = 1318323.66359\n",
      "13 n_estimators = 300, max_depth = 24, max_features = 0.423268, Score = 1337061.79686\n",
      "14 n_estimators = 300, max_depth = 75, max_features = 0.216850, Score = 1326479.93936\n",
      "15 n_estimators = 300, max_depth = 44, max_features = 0.638804, Score = 1368699.19854\n",
      "16 n_estimators = 300, max_depth = 53, max_features = 0.102482, Score = 1298841.65572\n",
      "17 n_estimators = 300, max_depth = 89, max_features = 0.547967, Score = 1353331.42717\n",
      "18 n_estimators = 300, max_depth =  4, max_features = 0.735417, Score = 1331353.21286\n",
      "19 n_estimators = 300, max_depth = 50, max_features = 0.993147, Score = 1393568.32132\n",
      "20 n_estimators = 300, max_depth = 51, max_features = 0.663317, Score = 1368699.19854\n",
      "21 n_estimators = 300, max_depth = 98, max_features = 0.141319, Score = 1298841.65572\n",
      "22 n_estimators = 300, max_depth = 56, max_features = 0.460409, Score = 1348670.47599\n",
      "23 n_estimators = 300, max_depth = 33, max_features = 0.500932, Score = 1348670.47599\n",
      "24 n_estimators = 300, max_depth = 56, max_features = 0.116712, Score = 1298841.65572\n",
      "25 n_estimators = 300, max_depth = 85, max_features = 0.899580, Score = 1384255.07404\n",
      "26 n_estimators = 300, max_depth = 53, max_features = 0.508256, Score = 1348670.47599\n",
      "27 n_estimators = 300, max_depth = 57, max_features = 0.434803, Score = 1336569.44026\n",
      "28 n_estimators = 300, max_depth = 52, max_features = 0.864725, Score = 1384255.07404\n",
      "29 n_estimators = 300, max_depth = 89, max_features = 0.970671, Score = 1393568.32132\n",
      "30 n_estimators = 300, max_depth = 15, max_features = 0.657533, Score = 1368015.03118\n",
      "31 n_estimators = 300, max_depth = 67, max_features = 0.552519, Score = 1353331.42717\n",
      "32 n_estimators = 300, max_depth = 17, max_features = 0.659129, Score = 1366549.44171\n",
      "33 n_estimators = 300, max_depth = 98, max_features = 0.313910, Score = 1329884.01708\n",
      "34 n_estimators = 300, max_depth = 48, max_features = 0.919144, Score = 1393568.32132\n",
      "35 n_estimators = 300, max_depth = 51, max_features = 0.188652, Score = 1326479.93936\n",
      "36 n_estimators = 300, max_depth = 53, max_features = 0.178759, Score = 1298841.65572\n",
      "37 n_estimators = 300, max_depth = 51, max_features = 0.462359, Score = 1348670.47599\n",
      "38 n_estimators = 300, max_depth = 90, max_features = 0.251056, Score = 1326479.93936\n",
      "39 n_estimators = 300, max_depth = 28, max_features = 0.954509, Score = 1393563.97377\n",
      "40 n_estimators = 300, max_depth = 93, max_features = 0.795365, Score = 1382447.05012\n",
      "41 n_estimators = 300, max_depth = 85, max_features = 0.264230, Score = 1326479.93936\n",
      "42 n_estimators = 300, max_depth = 38, max_features = 0.123181, Score = 1298841.65572\n",
      "43 n_estimators = 300, max_depth = 80, max_features = 0.283800, Score = 1329884.01708\n",
      "44 n_estimators = 300, max_depth = 72, max_features = 0.611535, Score = 1353331.42717\n",
      "45 n_estimators = 300, max_depth = 67, max_features = 0.384953, Score = 1336569.44026\n",
      "46 n_estimators = 300, max_depth = 87, max_features = 0.918028, Score = 1393568.32132\n",
      "47 n_estimators = 300, max_depth = 71, max_features = 0.603724, Score = 1353331.42717\n",
      "48 n_estimators = 300, max_depth = 57, max_features = 0.823794, Score = 1384255.07404\n",
      "49 n_estimators = 300, max_depth = 43, max_features = 0.306585, Score = 1329884.01708\n",
      "50 n_estimators = 300, max_depth = 48, max_features = 0.487472, Score = 1348670.47599\n",
      "51 n_estimators = 300, max_depth = 98, max_features = 0.738035, Score = 1382447.05012\n",
      "52 n_estimators = 300, max_depth = 43, max_features = 0.764487, Score = 1382447.05012\n",
      "53 n_estimators = 300, max_depth = 59, max_features = 0.547177, Score = 1353331.42717\n",
      "54 n_estimators = 300, max_depth = 66, max_features = 0.469552, Score = 1348670.47599\n",
      "55 n_estimators = 300, max_depth = 23, max_features = 0.264206, Score = 1326540.00123\n",
      "56 n_estimators = 300, max_depth = 24, max_features = 0.633939, Score = 1353095.19574\n",
      "57 n_estimators = 300, max_depth = 57, max_features = 0.926866, Score = 1393568.32132\n",
      "58 n_estimators = 300, max_depth = 98, max_features = 0.183551, Score = 1326479.93936\n",
      "59 n_estimators = 300, max_depth = 51, max_features = 0.719692, Score = 1368699.19854\n",
      "60 n_estimators = 300, max_depth = 94, max_features = 0.449732, Score = 1336569.44026\n",
      "61 n_estimators = 300, max_depth = 11, max_features = 0.279893, Score = 1329971.57214\n",
      "62 n_estimators = 300, max_depth = 69, max_features = 0.894712, Score = 1384255.07404\n",
      "63 n_estimators = 300, max_depth = 70, max_features = 0.899339, Score = 1384255.07404\n",
      "64 n_estimators = 300, max_depth =  9, max_features = 0.589596, Score = 1360339.06884\n",
      "65 n_estimators = 300, max_depth = 17, max_features = 0.165606, Score = 1288737.10335\n",
      "66 n_estimators = 300, max_depth = 44, max_features = 0.236382, Score = 1326479.93936\n",
      "67 n_estimators = 300, max_depth = 22, max_features = 0.189348, Score = 1326413.68561\n",
      "68 n_estimators = 300, max_depth =  4, max_features = 0.159796, Score = 1340606.86591\n",
      "69 n_estimators = 300, max_depth = 89, max_features = 0.930977, Score = 1393568.32132\n",
      "70 n_estimators = 300, max_depth = 74, max_features = 0.359087, Score = 1329884.01708\n",
      "71 n_estimators = 300, max_depth = 25, max_features = 0.927389, Score = 1393110.81219\n",
      "72 n_estimators = 300, max_depth = 67, max_features = 0.455480, Score = 1348670.47599\n",
      "73 n_estimators = 300, max_depth =  9, max_features = 0.549594, Score = 1360339.06884\n",
      "74 n_estimators = 300, max_depth = 46, max_features = 0.619698, Score = 1353331.42717\n",
      "75 n_estimators = 300, max_depth = 29, max_features = 0.708002, Score = 1368120.36134\n",
      "76 n_estimators = 300, max_depth = 60, max_features = 0.374684, Score = 1336569.44026\n",
      "77 n_estimators = 300, max_depth = 43, max_features = 0.738413, Score = 1382447.05012\n",
      "78 n_estimators = 300, max_depth = 37, max_features = 0.172732, Score = 1298841.65572\n",
      "79 n_estimators = 300, max_depth = 41, max_features = 0.684736, Score = 1368699.19854\n",
      "80 n_estimators = 300, max_depth = 74, max_features = 0.906223, Score = 1384255.07404\n",
      "81 n_estimators = 300, max_depth = 99, max_features = 0.778638, Score = 1382447.05012\n",
      "82 n_estimators = 300, max_depth = 28, max_features = 0.956018, Score = 1393563.97377\n",
      "83 n_estimators = 300, max_depth = 60, max_features = 0.730891, Score = 1382447.05012\n",
      "84 n_estimators = 300, max_depth = 69, max_features = 0.232638, Score = 1326479.93936\n",
      "85 n_estimators = 300, max_depth = 41, max_features = 0.878364, Score = 1384255.07404\n",
      "86 n_estimators = 300, max_depth = 52, max_features = 0.879263, Score = 1384255.07404\n",
      "87 n_estimators = 300, max_depth = 65, max_features = 0.415033, Score = 1336569.44026\n",
      "88 n_estimators = 300, max_depth = 12, max_features = 0.320350, Score = 1324067.35343\n",
      "89 n_estimators = 300, max_depth = 80, max_features = 0.503047, Score = 1348670.47599\n",
      "90 n_estimators = 300, max_depth = 71, max_features = 0.644498, Score = 1368699.19854\n",
      "91 n_estimators = 300, max_depth =  6, max_features = 0.213162, Score = 1304230.04521\n",
      "92 n_estimators = 300, max_depth = 73, max_features = 0.626354, Score = 1353331.42717\n",
      "93 n_estimators = 300, max_depth = 14, max_features = 0.388526, Score = 1335118.74905\n",
      "94 n_estimators = 300, max_depth = 29, max_features = 0.238466, Score = 1326479.93936\n",
      "95 n_estimators = 300, max_depth = 68, max_features = 0.760127, Score = 1382447.05012\n"
     ]
    },
    {
     "name": "stdout",
     "output_type": "stream",
     "text": [
      "96 n_estimators = 300, max_depth = 82, max_features = 0.581392, Score = 1353331.42717\n",
      "97 n_estimators = 300, max_depth = 38, max_features = 0.149969, Score = 1298841.65572\n",
      "98 n_estimators = 300, max_depth = 62, max_features = 0.498182, Score = 1348670.47599\n",
      "99 n_estimators = 300, max_depth = 95, max_features = 0.593252, Score = 1353331.42717\n",
      "(100, 5)\n"
     ]
    },
    {
     "data": {
      "text/html": [
       "<div>\n",
       "<style scoped>\n",
       "    .dataframe tbody tr th:only-of-type {\n",
       "        vertical-align: middle;\n",
       "    }\n",
       "\n",
       "    .dataframe tbody tr th {\n",
       "        vertical-align: top;\n",
       "    }\n",
       "\n",
       "    .dataframe thead th {\n",
       "        text-align: right;\n",
       "    }\n",
       "</style>\n",
       "<table border=\"1\" class=\"dataframe\">\n",
       "  <thead>\n",
       "    <tr style=\"text-align: right;\">\n",
       "      <th></th>\n",
       "      <th>epoch</th>\n",
       "      <th>score</th>\n",
       "      <th>n_estimators</th>\n",
       "      <th>max_depth</th>\n",
       "      <th>max_features</th>\n",
       "    </tr>\n",
       "  </thead>\n",
       "  <tbody>\n",
       "    <tr>\n",
       "      <th>65</th>\n",
       "      <td>65</td>\n",
       "      <td>1.288737e+06</td>\n",
       "      <td>300</td>\n",
       "      <td>17</td>\n",
       "      <td>0.165606</td>\n",
       "    </tr>\n",
       "    <tr>\n",
       "      <th>97</th>\n",
       "      <td>97</td>\n",
       "      <td>1.298842e+06</td>\n",
       "      <td>300</td>\n",
       "      <td>38</td>\n",
       "      <td>0.149969</td>\n",
       "    </tr>\n",
       "    <tr>\n",
       "      <th>36</th>\n",
       "      <td>36</td>\n",
       "      <td>1.298842e+06</td>\n",
       "      <td>300</td>\n",
       "      <td>53</td>\n",
       "      <td>0.178759</td>\n",
       "    </tr>\n",
       "    <tr>\n",
       "      <th>78</th>\n",
       "      <td>78</td>\n",
       "      <td>1.298842e+06</td>\n",
       "      <td>300</td>\n",
       "      <td>37</td>\n",
       "      <td>0.172732</td>\n",
       "    </tr>\n",
       "    <tr>\n",
       "      <th>21</th>\n",
       "      <td>21</td>\n",
       "      <td>1.298842e+06</td>\n",
       "      <td>300</td>\n",
       "      <td>98</td>\n",
       "      <td>0.141319</td>\n",
       "    </tr>\n",
       "    <tr>\n",
       "      <th>8</th>\n",
       "      <td>8</td>\n",
       "      <td>1.298842e+06</td>\n",
       "      <td>300</td>\n",
       "      <td>74</td>\n",
       "      <td>0.101698</td>\n",
       "    </tr>\n",
       "    <tr>\n",
       "      <th>24</th>\n",
       "      <td>24</td>\n",
       "      <td>1.298842e+06</td>\n",
       "      <td>300</td>\n",
       "      <td>56</td>\n",
       "      <td>0.116712</td>\n",
       "    </tr>\n",
       "    <tr>\n",
       "      <th>42</th>\n",
       "      <td>42</td>\n",
       "      <td>1.298842e+06</td>\n",
       "      <td>300</td>\n",
       "      <td>38</td>\n",
       "      <td>0.123181</td>\n",
       "    </tr>\n",
       "    <tr>\n",
       "      <th>16</th>\n",
       "      <td>16</td>\n",
       "      <td>1.298842e+06</td>\n",
       "      <td>300</td>\n",
       "      <td>53</td>\n",
       "      <td>0.102482</td>\n",
       "    </tr>\n",
       "    <tr>\n",
       "      <th>91</th>\n",
       "      <td>91</td>\n",
       "      <td>1.304230e+06</td>\n",
       "      <td>300</td>\n",
       "      <td>6</td>\n",
       "      <td>0.213162</td>\n",
       "    </tr>\n",
       "  </tbody>\n",
       "</table>\n",
       "</div>"
      ],
      "text/plain": [
       "    epoch         score  n_estimators  max_depth  max_features\n",
       "65     65  1.288737e+06           300         17      0.165606\n",
       "97     97  1.298842e+06           300         38      0.149969\n",
       "36     36  1.298842e+06           300         53      0.178759\n",
       "78     78  1.298842e+06           300         37      0.172732\n",
       "21     21  1.298842e+06           300         98      0.141319\n",
       "8       8  1.298842e+06           300         74      0.101698\n",
       "24     24  1.298842e+06           300         56      0.116712\n",
       "42     42  1.298842e+06           300         38      0.123181\n",
       "16     16  1.298842e+06           300         53      0.102482\n",
       "91     91  1.304230e+06           300          6      0.213162"
      ]
     },
     "execution_count": 269,
     "metadata": {},
     "output_type": "execute_result"
    }
   ],
   "source": [
    "from sklearn.ensemble import RandomForestRegressor\n",
    "from sklearn.model_selection import cross_val_score\n",
    "\n",
    "n_estimators = 300\n",
    "\n",
    "# 랜덤 서치 횟수\n",
    "num_epoch = 100\n",
    "\n",
    "# hyperparameter 탐색 결과가 저장될 리스트\n",
    "coarse_hyperparameters_list = []\n",
    "\n",
    "for epoch in range(num_epoch):\n",
    "    # max depth의 값을 2~100으로 설정\n",
    "    max_depth = np.random.randint(low=2, high=100)\n",
    "\n",
    "    # 적용할 feature의 비율을 0.1~1.0로 설정\n",
    "    max_features = np.random.uniform(low=0.1, high=1.0)\n",
    "\n",
    "    model = RandomForestRegressor(n_estimators=n_estimators,\n",
    "                                  max_depth=max_depth,\n",
    "                                  max_features=max_features,\n",
    "                                  n_jobs=-1,\n",
    "                                  random_state=37)\n",
    "\n",
    "    # cross_val_score를 실행하여 rmse의 평균 계산\n",
    "    # cv는 데이터 조각 개수\n",
    "    score = cross_val_score(model, X_train, Y_train, cv=20, scoring=rmse_score).mean()\n",
    "    \n",
    "    # hyperparameter 탐색 결과를 저장할 딕셔너리\n",
    "    hyperparameters = {\n",
    "        'epoch': epoch,\n",
    "        'score': score,\n",
    "        'n_estimators': n_estimators,\n",
    "        'max_depth': max_depth,\n",
    "        'max_features': max_features,\n",
    "    }\n",
    "\n",
    "    # hyperparameter 탐색 결과 저장\n",
    "    coarse_hyperparameters_list.append(hyperparameters)\n",
    "\n",
    "    # hyperparameter 탐색 결과를 출력\n",
    "    print(f\"{epoch:2} n_estimators = {n_estimators}, max_depth = {max_depth:2}, max_features = {max_features:.6f}, Score = {score:.5f}\")\n",
    "\n",
    "# coarse_hyperparameters_list를 DataFrame으로 변환\n",
    "coarse_hyperparameters_list = pd.DataFrame.from_dict(coarse_hyperparameters_list)\n",
    "\n",
    "# coarse_hyperparameters_list를 score가 낮은 순으로 정렬\n",
    "coarse_hyperparameters_list = coarse_hyperparameters_list.sort_values(by=\"score\")\n",
    "\n",
    "print(coarse_hyperparameters_list.shape)\n",
    "\n",
    "# coarse_hyperparameters_list의 상위 10개 출력\n",
    "coarse_hyperparameters_list.head(10)"
   ]
  },
  {
   "cell_type": "code",
   "execution_count": 270,
   "metadata": {
    "ExecuteTime": {
     "end_time": "2020-07-13T18:35:51.329801Z",
     "start_time": "2020-07-13T18:00:53.234663Z"
    }
   },
   "outputs": [
    {
     "name": "stdout",
     "output_type": "stream",
     "text": [
      " 0 n_estimators = 300, max_depth = 15, max_features = 0.271459, Score = 1317521.08610\n",
      " 1 n_estimators = 300, max_depth = 29, max_features = 0.241910, Score = 1326479.93936\n",
      " 2 n_estimators = 300, max_depth = 25, max_features = 0.147939, Score = 1299087.03051\n",
      " 3 n_estimators = 300, max_depth = 14, max_features = 0.259024, Score = 1322764.55622\n",
      " 4 n_estimators = 300, max_depth = 23, max_features = 0.265333, Score = 1326540.00123\n",
      " 5 n_estimators = 300, max_depth = 34, max_features = 0.159292, Score = 1298841.65572\n",
      " 6 n_estimators = 300, max_depth = 22, max_features = 0.190218, Score = 1326413.68561\n",
      " 7 n_estimators = 300, max_depth =  7, max_features = 0.195572, Score = 1314096.11609\n",
      " 8 n_estimators = 300, max_depth =  8, max_features = 0.171999, Score = 1301298.45028\n",
      " 9 n_estimators = 300, max_depth = 27, max_features = 0.289572, Score = 1329682.55079\n",
      "10 n_estimators = 300, max_depth = 27, max_features = 0.255487, Score = 1326587.78057\n",
      "11 n_estimators = 300, max_depth = 27, max_features = 0.107841, Score = 1298883.18468\n",
      "12 n_estimators = 300, max_depth =  8, max_features = 0.172454, Score = 1301298.45028\n",
      "13 n_estimators = 300, max_depth = 27, max_features = 0.193636, Score = 1326587.78057\n",
      "14 n_estimators = 300, max_depth = 27, max_features = 0.221851, Score = 1326587.78057\n",
      "15 n_estimators = 300, max_depth =  6, max_features = 0.165004, Score = 1306641.57821\n",
      "16 n_estimators = 300, max_depth = 20, max_features = 0.160548, Score = 1297432.47552\n",
      "17 n_estimators = 300, max_depth = 22, max_features = 0.220759, Score = 1326413.68561\n",
      "18 n_estimators = 300, max_depth = 29, max_features = 0.137759, Score = 1298841.65572\n",
      "19 n_estimators = 300, max_depth = 28, max_features = 0.191834, Score = 1326314.24618\n",
      "20 n_estimators = 300, max_depth = 32, max_features = 0.203366, Score = 1326479.93936\n",
      "21 n_estimators = 300, max_depth = 28, max_features = 0.104401, Score = 1298841.65572\n",
      "22 n_estimators = 300, max_depth =  5, max_features = 0.152151, Score = 1320524.62828\n",
      "23 n_estimators = 300, max_depth = 22, max_features = 0.187334, Score = 1326413.68561\n",
      "24 n_estimators = 300, max_depth = 32, max_features = 0.153045, Score = 1298841.65572\n",
      "25 n_estimators = 300, max_depth = 29, max_features = 0.292868, Score = 1329878.72329\n",
      "26 n_estimators = 300, max_depth = 27, max_features = 0.267813, Score = 1326587.78057\n",
      "27 n_estimators = 300, max_depth = 14, max_features = 0.192315, Score = 1322764.55622\n",
      "28 n_estimators = 300, max_depth = 24, max_features = 0.160257, Score = 1298062.85246\n",
      "29 n_estimators = 300, max_depth = 28, max_features = 0.201722, Score = 1326314.24618\n",
      "30 n_estimators = 300, max_depth =  7, max_features = 0.187217, Score = 1314096.11609\n",
      "31 n_estimators = 300, max_depth = 25, max_features = 0.114380, Score = 1299087.03051\n",
      "32 n_estimators = 300, max_depth = 15, max_features = 0.168062, Score = 1306186.90515\n",
      "33 n_estimators = 300, max_depth = 12, max_features = 0.250213, Score = 1307189.32078\n",
      "34 n_estimators = 300, max_depth = 28, max_features = 0.119639, Score = 1298841.65572\n",
      "35 n_estimators = 300, max_depth = 22, max_features = 0.234503, Score = 1326413.68561\n",
      "36 n_estimators = 300, max_depth = 22, max_features = 0.182437, Score = 1326413.68561\n",
      "37 n_estimators = 300, max_depth = 22, max_features = 0.150162, Score = 1297955.90295\n",
      "38 n_estimators = 300, max_depth = 31, max_features = 0.202098, Score = 1326479.93936\n",
      "39 n_estimators = 300, max_depth = 33, max_features = 0.183101, Score = 1326479.93936\n",
      "40 n_estimators = 300, max_depth =  8, max_features = 0.292382, Score = 1328364.40419\n",
      "41 n_estimators = 300, max_depth = 10, max_features = 0.182454, Score = 1305650.21271\n",
      "42 n_estimators = 300, max_depth = 21, max_features = 0.229917, Score = 1331151.88571\n",
      "43 n_estimators = 300, max_depth =  8, max_features = 0.123989, Score = 1301298.45028\n",
      "44 n_estimators = 300, max_depth = 12, max_features = 0.252875, Score = 1307189.32078\n",
      "45 n_estimators = 300, max_depth = 32, max_features = 0.238157, Score = 1326479.93936\n",
      "46 n_estimators = 300, max_depth = 24, max_features = 0.112153, Score = 1298062.85246\n",
      "47 n_estimators = 300, max_depth = 26, max_features = 0.244722, Score = 1326520.64225\n",
      "48 n_estimators = 300, max_depth = 10, max_features = 0.209799, Score = 1305650.21271\n",
      "49 n_estimators = 300, max_depth = 23, max_features = 0.101847, Score = 1297790.59404\n",
      "50 n_estimators = 300, max_depth = 17, max_features = 0.112021, Score = 1288737.10335\n",
      "51 n_estimators = 300, max_depth = 20, max_features = 0.210059, Score = 1324888.42959\n",
      "52 n_estimators = 300, max_depth = 29, max_features = 0.132434, Score = 1298841.65572\n",
      "53 n_estimators = 300, max_depth = 19, max_features = 0.201327, Score = 1318676.04499\n",
      "54 n_estimators = 300, max_depth = 11, max_features = 0.274735, Score = 1329971.57214\n",
      "55 n_estimators = 300, max_depth = 27, max_features = 0.274310, Score = 1329682.55079\n",
      "56 n_estimators = 300, max_depth = 34, max_features = 0.115698, Score = 1298841.65572\n",
      "57 n_estimators = 300, max_depth =  7, max_features = 0.154728, Score = 1306254.27660\n",
      "58 n_estimators = 300, max_depth = 18, max_features = 0.180695, Score = 1298622.27087\n",
      "59 n_estimators = 300, max_depth =  8, max_features = 0.162082, Score = 1301298.45028\n",
      "60 n_estimators = 300, max_depth = 32, max_features = 0.232023, Score = 1326479.93936\n",
      "61 n_estimators = 300, max_depth = 29, max_features = 0.212269, Score = 1326479.93936\n",
      "62 n_estimators = 300, max_depth = 25, max_features = 0.205021, Score = 1326841.65224\n",
      "63 n_estimators = 300, max_depth = 28, max_features = 0.232695, Score = 1326314.24618\n",
      "64 n_estimators = 300, max_depth = 20, max_features = 0.274866, Score = 1324424.76226\n",
      "65 n_estimators = 300, max_depth = 23, max_features = 0.181437, Score = 1297790.59404\n",
      "66 n_estimators = 300, max_depth = 18, max_features = 0.223869, Score = 1322271.48710\n",
      "67 n_estimators = 300, max_depth = 10, max_features = 0.159549, Score = 1299297.76143\n",
      "68 n_estimators = 300, max_depth = 11, max_features = 0.182638, Score = 1319367.59294\n",
      "69 n_estimators = 300, max_depth = 32, max_features = 0.204698, Score = 1326479.93936\n",
      "70 n_estimators = 300, max_depth =  8, max_features = 0.243363, Score = 1312273.58957\n",
      "71 n_estimators = 300, max_depth = 19, max_features = 0.203342, Score = 1318676.04499\n",
      "72 n_estimators = 300, max_depth = 11, max_features = 0.265542, Score = 1319367.59294\n",
      "73 n_estimators = 300, max_depth =  5, max_features = 0.241895, Score = 1312186.02482\n",
      "74 n_estimators = 300, max_depth = 30, max_features = 0.272317, Score = 1326479.93936\n",
      "75 n_estimators = 300, max_depth = 22, max_features = 0.172501, Score = 1297955.90295\n",
      "76 n_estimators = 300, max_depth =  5, max_features = 0.198779, Score = 1312186.02482\n",
      "77 n_estimators = 300, max_depth = 16, max_features = 0.260024, Score = 1312269.90942\n",
      "78 n_estimators = 300, max_depth = 30, max_features = 0.124562, Score = 1298841.65572\n",
      "79 n_estimators = 300, max_depth = 21, max_features = 0.279687, Score = 1324730.86388\n",
      "80 n_estimators = 300, max_depth = 27, max_features = 0.216008, Score = 1326587.78057\n",
      "81 n_estimators = 300, max_depth = 26, max_features = 0.162177, Score = 1298950.95452\n",
      "82 n_estimators = 300, max_depth = 28, max_features = 0.131097, Score = 1298841.65572\n",
      "83 n_estimators = 300, max_depth = 12, max_features = 0.208140, Score = 1307189.32078\n",
      "84 n_estimators = 300, max_depth = 19, max_features = 0.270397, Score = 1318676.04499\n",
      "85 n_estimators = 300, max_depth =  6, max_features = 0.200458, Score = 1304230.04521\n",
      "86 n_estimators = 300, max_depth = 28, max_features = 0.209045, Score = 1326314.24618\n",
      "87 n_estimators = 300, max_depth = 20, max_features = 0.253059, Score = 1324888.42959\n",
      "88 n_estimators = 300, max_depth = 19, max_features = 0.274025, Score = 1331327.55721\n",
      "89 n_estimators = 300, max_depth =  5, max_features = 0.227011, Score = 1312186.02482\n",
      "90 n_estimators = 300, max_depth = 22, max_features = 0.276157, Score = 1327449.91833\n",
      "91 n_estimators = 300, max_depth = 28, max_features = 0.154146, Score = 1298841.65572\n",
      "92 n_estimators = 300, max_depth = 30, max_features = 0.110974, Score = 1298841.65572\n",
      "93 n_estimators = 300, max_depth = 22, max_features = 0.251742, Score = 1326413.68561\n",
      "94 n_estimators = 300, max_depth =  7, max_features = 0.207523, Score = 1314096.11609\n",
      "95 n_estimators = 300, max_depth = 18, max_features = 0.146009, Score = 1298622.27087\n"
     ]
    },
    {
     "name": "stdout",
     "output_type": "stream",
     "text": [
      "96 n_estimators = 300, max_depth = 30, max_features = 0.218519, Score = 1326479.93936\n",
      "97 n_estimators = 300, max_depth = 18, max_features = 0.202516, Score = 1322271.48710\n",
      "98 n_estimators = 300, max_depth = 23, max_features = 0.293073, Score = 1329821.12267\n",
      "99 n_estimators = 300, max_depth =  5, max_features = 0.209126, Score = 1312186.02482\n",
      "(100, 5)\n"
     ]
    },
    {
     "data": {
      "text/html": [
       "<div>\n",
       "<style scoped>\n",
       "    .dataframe tbody tr th:only-of-type {\n",
       "        vertical-align: middle;\n",
       "    }\n",
       "\n",
       "    .dataframe tbody tr th {\n",
       "        vertical-align: top;\n",
       "    }\n",
       "\n",
       "    .dataframe thead th {\n",
       "        text-align: right;\n",
       "    }\n",
       "</style>\n",
       "<table border=\"1\" class=\"dataframe\">\n",
       "  <thead>\n",
       "    <tr style=\"text-align: right;\">\n",
       "      <th></th>\n",
       "      <th>epoch</th>\n",
       "      <th>score</th>\n",
       "      <th>n_estimators</th>\n",
       "      <th>max_depth</th>\n",
       "      <th>max_features</th>\n",
       "    </tr>\n",
       "  </thead>\n",
       "  <tbody>\n",
       "    <tr>\n",
       "      <th>50</th>\n",
       "      <td>50</td>\n",
       "      <td>1.288737e+06</td>\n",
       "      <td>300</td>\n",
       "      <td>17</td>\n",
       "      <td>0.112021</td>\n",
       "    </tr>\n",
       "    <tr>\n",
       "      <th>16</th>\n",
       "      <td>16</td>\n",
       "      <td>1.297432e+06</td>\n",
       "      <td>300</td>\n",
       "      <td>20</td>\n",
       "      <td>0.160548</td>\n",
       "    </tr>\n",
       "    <tr>\n",
       "      <th>49</th>\n",
       "      <td>49</td>\n",
       "      <td>1.297791e+06</td>\n",
       "      <td>300</td>\n",
       "      <td>23</td>\n",
       "      <td>0.101847</td>\n",
       "    </tr>\n",
       "    <tr>\n",
       "      <th>65</th>\n",
       "      <td>65</td>\n",
       "      <td>1.297791e+06</td>\n",
       "      <td>300</td>\n",
       "      <td>23</td>\n",
       "      <td>0.181437</td>\n",
       "    </tr>\n",
       "    <tr>\n",
       "      <th>37</th>\n",
       "      <td>37</td>\n",
       "      <td>1.297956e+06</td>\n",
       "      <td>300</td>\n",
       "      <td>22</td>\n",
       "      <td>0.150162</td>\n",
       "    </tr>\n",
       "    <tr>\n",
       "      <th>75</th>\n",
       "      <td>75</td>\n",
       "      <td>1.297956e+06</td>\n",
       "      <td>300</td>\n",
       "      <td>22</td>\n",
       "      <td>0.172501</td>\n",
       "    </tr>\n",
       "    <tr>\n",
       "      <th>46</th>\n",
       "      <td>46</td>\n",
       "      <td>1.298063e+06</td>\n",
       "      <td>300</td>\n",
       "      <td>24</td>\n",
       "      <td>0.112153</td>\n",
       "    </tr>\n",
       "    <tr>\n",
       "      <th>28</th>\n",
       "      <td>28</td>\n",
       "      <td>1.298063e+06</td>\n",
       "      <td>300</td>\n",
       "      <td>24</td>\n",
       "      <td>0.160257</td>\n",
       "    </tr>\n",
       "    <tr>\n",
       "      <th>58</th>\n",
       "      <td>58</td>\n",
       "      <td>1.298622e+06</td>\n",
       "      <td>300</td>\n",
       "      <td>18</td>\n",
       "      <td>0.180695</td>\n",
       "    </tr>\n",
       "    <tr>\n",
       "      <th>95</th>\n",
       "      <td>95</td>\n",
       "      <td>1.298622e+06</td>\n",
       "      <td>300</td>\n",
       "      <td>18</td>\n",
       "      <td>0.146009</td>\n",
       "    </tr>\n",
       "  </tbody>\n",
       "</table>\n",
       "</div>"
      ],
      "text/plain": [
       "    epoch         score  n_estimators  max_depth  max_features\n",
       "50     50  1.288737e+06           300         17      0.112021\n",
       "16     16  1.297432e+06           300         20      0.160548\n",
       "49     49  1.297791e+06           300         23      0.101847\n",
       "65     65  1.297791e+06           300         23      0.181437\n",
       "37     37  1.297956e+06           300         22      0.150162\n",
       "75     75  1.297956e+06           300         22      0.172501\n",
       "46     46  1.298063e+06           300         24      0.112153\n",
       "28     28  1.298063e+06           300         24      0.160257\n",
       "58     58  1.298622e+06           300         18      0.180695\n",
       "95     95  1.298622e+06           300         18      0.146009"
      ]
     },
     "execution_count": 270,
     "metadata": {},
     "output_type": "execute_result"
    }
   ],
   "source": [
    "from sklearn.ensemble import RandomForestRegressor\n",
    "from sklearn.model_selection import cross_val_score\n",
    "\n",
    "n_estimators = 300\n",
    "num_epoch = 100\n",
    "finer_hyperparameters_list = []\n",
    "\n",
    "for epoch in range(num_epoch):\n",
    "    # coarse 단계에서 찾은 뎁스와 피쳐비율 구간을 적용\n",
    "    max_depth = np.random.randint(low=5, high=35)\n",
    "    max_features = np.random.uniform(low=0.1, high=0.3)\n",
    "    \n",
    "    model = RandomForestRegressor(n_estimators=n_estimators,\n",
    "                                  max_depth=max_depth,\n",
    "                                  max_features=max_features,\n",
    "                                  n_jobs=-1,\n",
    "                                  random_state=37)\n",
    "\n",
    "    score = cross_val_score(model, X_train, Y_train, cv=20, scoring=rmse_score).mean()\n",
    "    hyperparameters = {\n",
    "        'epoch': epoch,\n",
    "        'score': score,\n",
    "        'n_estimators': n_estimators,\n",
    "        'max_depth': max_depth,\n",
    "        'max_features': max_features,\n",
    "    }\n",
    "\n",
    "    finer_hyperparameters_list.append(hyperparameters)\n",
    "    print(f\"{epoch:2} n_estimators = {n_estimators}, max_depth = {max_depth:2}, max_features = {max_features:.6f}, Score = {score:.5f}\")\n",
    "\n",
    "finer_hyperparameters_list = pd.DataFrame.from_dict(finer_hyperparameters_list)\n",
    "finer_hyperparameters_list = finer_hyperparameters_list.sort_values(by=\"score\")\n",
    "print(finer_hyperparameters_list.shape)\n",
    "\n",
    "finer_hyperparameters_list.head(10)"
   ]
  },
  {
   "cell_type": "code",
   "execution_count": 271,
   "metadata": {
    "ExecuteTime": {
     "end_time": "2020-07-13T18:35:51.837158Z",
     "start_time": "2020-07-13T18:35:51.824150Z"
    }
   },
   "outputs": [
    {
     "name": "stdout",
     "output_type": "stream",
     "text": [
      "max_depth(best) = 17.0, max_features(best) = 0.112021\n"
     ]
    }
   ],
   "source": [
    "# 가장 정확도가 높은 하이퍼패러미터를 저장\n",
    "best_hyperparameters = finer_hyperparameters_list.iloc[0]\n",
    "\n",
    "best_max_depth = best_hyperparameters[\"max_depth\"]\n",
    "best_max_features = best_hyperparameters[\"max_features\"]\n",
    "\n",
    "print(f\"max_depth(best) = {best_max_depth}, max_features(best) = {best_max_features:.6f}\")"
   ]
  },
  {
   "cell_type": "code",
   "execution_count": 272,
   "metadata": {
    "ExecuteTime": {
     "end_time": "2020-07-13T18:35:52.295485Z",
     "start_time": "2020-07-13T18:35:52.283476Z"
    }
   },
   "outputs": [
    {
     "data": {
      "text/plain": [
       "RandomForestRegressor(bootstrap=True, ccp_alpha=0.0, criterion='mse',\n",
       "                      max_depth=17.0, max_features=0.11202059075079412,\n",
       "                      max_leaf_nodes=None, max_samples=None,\n",
       "                      min_impurity_decrease=0.0, min_impurity_split=None,\n",
       "                      min_samples_leaf=1, min_samples_split=2,\n",
       "                      min_weight_fraction_leaf=0.0, n_estimators=3000,\n",
       "                      n_jobs=-1, oob_score=False, random_state=37, verbose=0,\n",
       "                      warm_start=False)"
      ]
     },
     "execution_count": 272,
     "metadata": {},
     "output_type": "execute_result"
    }
   ],
   "source": [
    "from sklearn.ensemble import RandomForestRegressor\n",
    "\n",
    "best_n_estimators = 3000\n",
    "model = RandomForestRegressor(n_estimators=best_n_estimators,\n",
    "                              max_depth=best_max_depth,\n",
    "                              max_features=best_max_features,\n",
    "                              random_state=37,\n",
    "                              n_jobs=-1)\n",
    "model"
   ]
  },
  {
   "cell_type": "code",
   "execution_count": 273,
   "metadata": {
    "ExecuteTime": {
     "end_time": "2020-07-13T18:36:02.224541Z",
     "start_time": "2020-07-13T18:35:52.745805Z"
    }
   },
   "outputs": [
    {
     "data": {
      "text/plain": [
       "RandomForestRegressor(bootstrap=True, ccp_alpha=0.0, criterion='mse',\n",
       "                      max_depth=17.0, max_features=0.11202059075079412,\n",
       "                      max_leaf_nodes=None, max_samples=None,\n",
       "                      min_impurity_decrease=0.0, min_impurity_split=None,\n",
       "                      min_samples_leaf=1, min_samples_split=2,\n",
       "                      min_weight_fraction_leaf=0.0, n_estimators=3000,\n",
       "                      n_jobs=-1, oob_score=False, random_state=37, verbose=0,\n",
       "                      warm_start=False)"
      ]
     },
     "execution_count": 273,
     "metadata": {},
     "output_type": "execute_result"
    }
   ],
   "source": [
    "model.fit(X_train, Y_train)"
   ]
  },
  {
   "cell_type": "code",
   "execution_count": 274,
   "metadata": {
    "ExecuteTime": {
     "end_time": "2020-07-13T18:36:50.741039Z",
     "start_time": "2020-07-13T18:36:49.819368Z"
    }
   },
   "outputs": [],
   "source": [
    "prediction = model.predict(X_test)"
   ]
  },
  {
   "cell_type": "code",
   "execution_count": 275,
   "metadata": {
    "ExecuteTime": {
     "end_time": "2020-07-13T18:36:52.902559Z",
     "start_time": "2020-07-13T18:36:52.889550Z"
    }
   },
   "outputs": [
    {
     "data": {
      "text/plain": [
       "array([1.14120408e+06, 1.38229853e+06, 2.52788155e+06, 1.90295565e+06,\n",
       "       1.12699834e+06, 1.17496938e+05, 3.12654467e+04, 2.05641047e+04,\n",
       "       5.47985490e+04, 3.64774873e+05, 6.06221523e+05, 8.28629346e+05,\n",
       "       9.49178855e+05, 9.98203006e+04, 1.16794299e+06, 1.91556828e+06,\n",
       "       1.39826672e+05, 9.94534305e+05, 8.64075469e+05, 7.40257431e+05,\n",
       "       1.21421746e+05, 1.26108188e+05, 4.37890810e+05, 6.57430376e+05,\n",
       "       6.82188142e+04, 2.81326498e+06, 2.18291288e+04, 1.39540122e+06,\n",
       "       2.34659883e+04, 1.09182303e+05, 1.70180978e+06, 1.99911525e+05,\n",
       "       1.04815645e+05, 7.90629472e+05, 8.35774031e+04, 1.12621821e+05,\n",
       "       1.24087048e+05, 4.55748035e+04, 3.14723001e+04, 2.12986038e+04,\n",
       "       2.14817005e+05, 2.29201373e+05, 8.53488562e+05, 6.53949246e+05,\n",
       "       9.80298676e+05, 1.24279781e+06, 1.36200576e+05, 6.38011460e+04,\n",
       "       6.95045639e+05, 5.93592169e+04, 8.20365497e+04, 7.16253838e+05,\n",
       "       1.37638914e+05, 1.24992995e+06, 1.12756179e+06, 2.53121687e+05,\n",
       "       9.38328944e+04, 1.62021361e+06, 1.67767462e+06, 1.38124860e+06,\n",
       "       1.34285555e+06, 1.53292485e+06, 1.85697669e+05, 5.31175828e+04,\n",
       "       5.38531524e+05, 2.55598434e+04, 1.07980512e+06, 2.19349886e+05,\n",
       "       1.14959622e+06, 2.57839984e+05, 1.78049162e+06, 2.77531735e+06,\n",
       "       6.23685874e+04, 1.67231670e+06, 7.54502032e+05, 1.27810346e+04,\n",
       "       1.48967735e+06, 2.44534914e+05, 1.95233756e+05, 1.48822863e+04,\n",
       "       8.81909145e+04, 1.88230065e+06, 6.34298849e+04, 1.34139813e+06,\n",
       "       3.38145064e+04, 1.54524423e+06, 1.25157083e+05, 2.71281238e+04,\n",
       "       3.20215289e+04, 1.09268188e+06, 3.67666858e+04, 8.51068668e+04,\n",
       "       6.90372397e+05, 1.77474371e+06, 9.61101203e+05, 2.38652908e+05,\n",
       "       1.81784609e+04, 1.92175765e+04, 6.32510869e+05, 4.22970162e+05,\n",
       "       9.21902303e+05, 2.06284860e+06, 7.31364061e+04, 4.13724418e+05,\n",
       "       9.02753389e+05, 1.12166750e+06, 1.95407738e+06, 2.71544843e+04,\n",
       "       2.86474135e+06, 1.37747458e+04, 2.55700670e+04, 2.22551938e+06,\n",
       "       1.80206160e+06, 2.24448379e+05, 6.86516173e+04, 9.05190981e+05,\n",
       "       4.04106582e+04, 2.76683056e+06, 3.27344265e+05, 2.89604173e+05,\n",
       "       5.16759417e+04, 5.23459018e+05, 1.83407272e+06, 1.09143134e+04,\n",
       "       1.22424160e+05, 6.45028896e+04, 7.35721297e+03, 3.77010180e+04,\n",
       "       1.03765699e+05, 1.81080201e+05, 2.79934459e+04, 5.42511823e+05,\n",
       "       9.50383027e+03, 2.10558574e+04, 2.87083231e+06, 3.75597185e+06,\n",
       "       1.12052994e+05, 1.39761959e+06, 2.03156765e+06, 1.01275050e+05,\n",
       "       4.70306717e+04, 2.23567103e+06, 2.41192119e+06, 2.41944925e+05,\n",
       "       1.52567036e+04, 7.45383910e+05, 5.39166467e+04, 1.71104747e+05,\n",
       "       1.64575354e+06, 2.25238260e+06, 3.96923054e+05, 1.26964527e+05,\n",
       "       5.17732928e+04, 1.51878834e+05, 2.17073959e+05, 5.84649373e+05,\n",
       "       3.84228757e+04, 6.91236898e+04, 2.89301365e+06, 1.52769478e+06,\n",
       "       8.52427515e+04, 2.27712728e+06, 7.76587544e+05, 8.92298115e+05,\n",
       "       6.94245432e+03, 9.96078660e+04, 1.38682729e+06, 1.50345158e+04,\n",
       "       1.61617795e+04, 2.31829586e+04, 3.11310243e+05, 2.66588037e+04,\n",
       "       2.38316887e+04, 3.24695229e+03, 8.68916571e+05, 1.93496714e+05,\n",
       "       3.79803544e+04, 2.61933463e+04, 4.94577009e+06, 3.82648540e+06,\n",
       "       7.97833260e+04, 9.99413230e+03, 6.70077056e+03, 7.58702863e+05,\n",
       "       2.19031430e+06, 2.81628666e+05, 3.46092491e+05, 1.76482409e+05,\n",
       "       1.15874534e+05, 9.45486385e+05, 2.09944395e+05, 5.51043211e+03,\n",
       "       1.02167830e+04, 4.36322004e+04, 9.99413230e+03, 2.12837547e+06,\n",
       "       2.08710495e+05, 9.99954506e+05, 1.88507079e+04, 1.46216270e+06,\n",
       "       6.55781890e+04, 6.58699404e+04, 8.64813047e+04, 1.48472188e+05,\n",
       "       3.81573243e+05, 1.28454720e+06, 1.75319719e+06, 1.66651720e+06,\n",
       "       2.32164575e+04, 2.16118632e+06, 4.17808229e+05, 1.16399905e+06,\n",
       "       2.52331584e+06, 4.22707748e+05, 2.50790956e+04, 6.90281160e+03,\n",
       "       1.54195263e+06, 2.65292880e+04, 3.53816174e+04, 1.64394329e+04,\n",
       "       5.99128368e+05, 2.02632799e+06, 1.07259670e+06, 1.58805909e+05,\n",
       "       2.83485010e+05, 8.85431313e+04, 2.38646801e+04, 9.01283627e+05,\n",
       "       1.47520311e+05, 2.13658042e+06, 2.37240255e+05, 1.12887914e+06,\n",
       "       3.31244364e+05, 2.02130067e+05, 6.18997873e+04, 2.85255026e+04,\n",
       "       4.66126220e+05, 2.02133062e+04, 8.50410014e+04, 3.84732269e+04,\n",
       "       1.68072064e+05, 6.41163240e+04, 3.07827039e+03])"
      ]
     },
     "execution_count": 275,
     "metadata": {},
     "output_type": "execute_result"
    }
   ],
   "source": [
    "prediction"
   ]
  },
  {
   "cell_type": "markdown",
   "metadata": {
    "heading_collapsed": true
   },
   "source": [
    "## 저장"
   ]
  },
  {
   "cell_type": "code",
   "execution_count": 276,
   "metadata": {
    "ExecuteTime": {
     "end_time": "2020-07-13T18:39:10.222153Z",
     "start_time": "2020-07-13T18:39:10.163114Z"
    },
    "hidden": true,
    "scrolled": false
   },
   "outputs": [
    {
     "name": "stdout",
     "output_type": "stream",
     "text": [
      "done\n"
     ]
    }
   ],
   "source": [
    "save_file(prediction, 1)"
   ]
  },
  {
   "cell_type": "code",
   "execution_count": 257,
   "metadata": {
    "ExecuteTime": {
     "end_time": "2020-07-13T17:02:14.974205Z",
     "start_time": "2020-07-13T17:02:14.954193Z"
    },
    "hidden": true,
    "scrolled": true
   },
   "outputs": [
    {
     "name": "stdout",
     "output_type": "stream",
     "text": [
      "17\n"
     ]
    },
    {
     "data": {
      "text/plain": [
       "array([1.20770080e+06, 6.90031595e+05, 2.35273996e+06, 1.79146903e+06,\n",
       "       1.28393481e+06, 0.00000000e+00, 4.58973311e+04, 6.74994360e+04,\n",
       "       5.73651464e+04, 2.50705505e+05, 3.03949274e+05, 1.24414571e+06,\n",
       "       1.25255403e+06, 2.62124358e+05, 1.87210924e+06, 2.78142813e+06,\n",
       "       4.45740346e+04, 1.62199791e+06, 6.69302082e+05, 1.18944660e+06,\n",
       "       2.81445627e+05, 9.67216873e+04, 0.00000000e+00, 3.41069776e+05,\n",
       "       2.70813153e+04, 3.35247077e+06, 3.36520745e+04, 2.12681201e+06,\n",
       "       0.00000000e+00, 0.00000000e+00, 1.58380461e+06, 2.81941696e+05,\n",
       "       3.26562263e+05, 4.43743548e+05, 9.46483610e+04, 4.99330861e+04,\n",
       "       6.94357627e+04, 1.09966984e+05, 2.88522741e+04, 1.78010104e+04,\n",
       "       2.56992278e+05, 3.06542471e+05, 1.21835015e+06, 5.37247536e+05,\n",
       "       1.30546487e+06, 1.98985767e+06, 3.08039794e+05, 0.00000000e+00,\n",
       "       1.01210104e+06, 7.80163312e+04, 5.76994293e+04, 6.73670523e+05,\n",
       "       8.22218028e+04, 1.04375578e+06, 1.03554238e+06, 2.81674877e+04,\n",
       "       2.23132136e+04, 1.89835178e+06, 1.46056331e+06, 2.25219395e+06,\n",
       "       1.61502500e+06, 1.38009750e+06, 2.30654480e+05, 2.80414970e+05,\n",
       "       0.00000000e+00, 5.20945260e+04, 1.88346209e+06, 5.14741780e+05,\n",
       "       3.85326069e+05, 0.00000000e+00, 1.65775160e+06, 1.66631202e+06,\n",
       "       1.09410710e+05, 2.01698463e+06, 3.06363622e+05, 1.38590757e+04,\n",
       "       7.18358006e+05, 1.89925243e+05, 8.22420672e+04, 4.30805296e+04,\n",
       "       0.00000000e+00, 2.34714109e+06, 0.00000000e+00, 2.09615393e+06,\n",
       "       7.20863198e+04, 2.51010385e+06, 1.40848699e+05, 4.87631054e+04,\n",
       "       2.32593472e+04, 9.42631779e+05, 1.56229938e+04, 6.17191398e+04,\n",
       "       7.34784803e+05, 1.58490711e+06, 7.31397695e+05, 7.89400165e+04,\n",
       "       7.34350229e+04, 4.55131520e+04, 6.10907263e+05, 2.96564882e+05,\n",
       "       6.27944921e+05, 3.03334782e+06, 3.95077826e+03, 5.99397627e+05,\n",
       "       3.18371451e+05, 6.44326909e+05, 2.51228031e+06, 5.89770243e+04,\n",
       "       2.68542314e+06, 6.93654667e+04, 5.31081832e+04, 3.00393842e+06,\n",
       "       2.04730749e+06, 6.32280849e+04, 4.02969831e+04, 1.03916051e+06,\n",
       "       7.34080935e+04, 2.79087414e+06, 7.90726235e+04, 1.85641567e+05,\n",
       "       5.19965772e+04, 6.02051219e+05, 1.66468582e+06, 2.02704571e+04,\n",
       "       1.17653262e+05, 8.59877142e+04, 4.34097112e+04, 7.45254749e+04,\n",
       "       0.00000000e+00, 1.87407189e+04, 2.53200434e+04, 9.42769491e+05,\n",
       "       1.48971969e+04, 5.32947056e+04, 3.54935066e+06, 3.14372607e+06,\n",
       "       9.52556336e+04, 1.16163775e+06, 1.08557952e+06, 1.14475539e+05,\n",
       "       5.25313177e+04, 2.72301034e+06, 3.35034234e+06, 3.79006311e+04,\n",
       "       8.14778475e+04, 6.24979196e+05, 7.72892816e+04, 1.07580509e+05,\n",
       "       3.07701773e+06, 1.92135498e+06, 5.46148415e+04, 4.84826841e+04,\n",
       "       5.78606341e+04, 2.96812877e+05, 0.00000000e+00, 1.33647797e+06,\n",
       "       5.60911209e+04, 2.72066027e+05, 3.39440398e+06, 2.68004049e+06,\n",
       "       1.31555927e+05, 3.88003653e+06, 5.88135841e+05, 9.72538169e+05,\n",
       "       2.21532245e+04, 1.48437475e+05, 2.61383956e+06, 7.57562296e+04,\n",
       "       6.58513185e+04, 5.94672264e+04, 0.00000000e+00, 1.96147751e+04,\n",
       "       1.89224390e+03, 7.07738552e+04, 3.13645008e+05, 6.98904696e+04,\n",
       "       8.32101097e+04, 3.32557327e+04, 3.86764603e+06, 3.15049263e+06,\n",
       "       0.00000000e+00, 4.53793066e+04, 6.08680212e+04, 0.00000000e+00,\n",
       "       3.89920266e+06, 2.15555659e+03, 1.66789118e+05, 2.23101045e+04,\n",
       "       5.95398157e+04, 1.56186545e+06, 1.15213317e+05, 1.11831681e+04,\n",
       "       2.98612684e+04, 9.59030008e+04, 4.53793066e+04, 3.26709366e+06,\n",
       "       0.00000000e+00, 1.84374609e+06, 5.25830006e+04, 1.97247868e+06,\n",
       "       2.84389026e+04, 3.34611370e+04, 7.08434544e+04, 2.60215767e+03,\n",
       "       1.44390760e+05, 6.36193505e+05, 2.66317926e+06, 1.46083373e+06,\n",
       "       5.21937054e+04, 2.71232256e+06, 1.51621401e+04, 1.55949590e+06,\n",
       "       3.13093780e+06, 9.42230837e+05, 1.52637236e+04, 4.63888021e+04,\n",
       "       2.74563564e+06, 3.83277330e+03, 5.21406406e+04, 4.14323449e+04,\n",
       "       5.91849574e+05, 3.31259640e+06, 1.16317230e+06, 2.88266638e+05,\n",
       "       5.12774975e+04, 7.52715071e+04, 4.92086328e+04, 1.86582268e+06,\n",
       "       1.01292883e+05, 3.20445648e+06, 0.00000000e+00, 1.28433471e+06,\n",
       "       3.83190751e+05, 0.00000000e+00, 7.10679837e+04, 1.16696215e+05,\n",
       "       3.63986035e+05, 1.41248857e+04, 5.89219325e+04, 2.39145452e+04,\n",
       "       6.68294492e+04, 2.63715922e+05, 4.32827804e+03])"
      ]
     },
     "execution_count": 257,
     "metadata": {},
     "output_type": "execute_result"
    }
   ],
   "source": [
    "a = 0\n",
    "for i in range(len(prediction)) :\n",
    "    if prediction[i] <= 0 :\n",
    "        prediction[i] = 0\n",
    "        a += 1\n",
    "\n",
    "print(a)\n",
    "#prediction = prediction.astype(int)\n",
    "prediction"
   ]
  }
 ],
 "metadata": {
  "kernelspec": {
   "display_name": "Python [conda env:cpu_env] *",
   "language": "python",
   "name": "conda-env-cpu_env-py"
  },
  "language_info": {
   "codemirror_mode": {
    "name": "ipython",
    "version": 3
   },
   "file_extension": ".py",
   "mimetype": "text/x-python",
   "name": "python",
   "nbconvert_exporter": "python",
   "pygments_lexer": "ipython3",
   "version": "3.6.9"
  },
  "toc": {
   "base_numbering": 1,
   "nav_menu": {},
   "number_sections": true,
   "sideBar": true,
   "skip_h1_title": false,
   "title_cell": "Table of Contents",
   "title_sidebar": "Contents",
   "toc_cell": false,
   "toc_position": {},
   "toc_section_display": true,
   "toc_window_display": false
  },
  "varInspector": {
   "cols": {
    "lenName": 16,
    "lenType": 16,
    "lenVar": 40
   },
   "kernels_config": {
    "python": {
     "delete_cmd_postfix": "",
     "delete_cmd_prefix": "del ",
     "library": "var_list.py",
     "varRefreshCmd": "print(var_dic_list())"
    },
    "r": {
     "delete_cmd_postfix": ") ",
     "delete_cmd_prefix": "rm(",
     "library": "var_list.r",
     "varRefreshCmd": "cat(var_dic_list()) "
    }
   },
   "types_to_exclude": [
    "module",
    "function",
    "builtin_function_or_method",
    "instance",
    "_Feature"
   ],
   "window_display": false
  }
 },
 "nbformat": 4,
 "nbformat_minor": 2
}
