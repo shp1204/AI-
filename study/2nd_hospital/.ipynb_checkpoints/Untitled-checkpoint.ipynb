{
 "cells": [
  {
   "cell_type": "code",
   "execution_count": 4,
   "metadata": {
    "ExecuteTime": {
     "end_time": "2020-07-14T19:05:17.916163Z",
     "start_time": "2020-07-14T19:05:17.825103Z"
    }
   },
   "outputs": [],
   "source": [
    "import pandas as pd\n",
    "import numpy as np\n",
    "import matplotlib.pyplot as plt\n",
    "\n",
    "df = pd.read_csv('./data/train.csv')\n",
    "testdf = pd.read_csv('./data/test.csv')"
   ]
  },
  {
   "cell_type": "markdown",
   "metadata": {},
   "source": [
    "# 기초 통계량 확인"
   ]
  },
  {
   "cell_type": "code",
   "execution_count": 6,
   "metadata": {
    "ExecuteTime": {
     "end_time": "2020-07-14T19:05:24.679971Z",
     "start_time": "2020-07-14T19:05:24.671965Z"
    }
   },
   "outputs": [
    {
     "data": {
      "text/plain": [
       "(301, 58)"
      ]
     },
     "execution_count": 6,
     "metadata": {},
     "output_type": "execute_result"
    }
   ],
   "source": [
    "df.shape"
   ]
  },
  {
   "cell_type": "code",
   "execution_count": 7,
   "metadata": {
    "ExecuteTime": {
     "end_time": "2020-07-14T19:05:29.957722Z",
     "start_time": "2020-07-14T19:05:29.946713Z"
    }
   },
   "outputs": [
    {
     "data": {
      "text/plain": [
       "(127, 58)"
      ]
     },
     "execution_count": 7,
     "metadata": {},
     "output_type": "execute_result"
    }
   ],
   "source": [
    "testdf.shape"
   ]
  },
  {
   "cell_type": "code",
   "execution_count": 8,
   "metadata": {
    "ExecuteTime": {
     "end_time": "2020-07-14T19:05:55.322748Z",
     "start_time": "2020-07-14T19:05:55.293729Z"
    },
    "scrolled": true
   },
   "outputs": [
    {
     "name": "stdout",
     "output_type": "stream",
     "text": [
      "<class 'pandas.core.frame.DataFrame'>\n",
      "RangeIndex: 301 entries, 0 to 300\n",
      "Data columns (total 58 columns):\n",
      "inst_id               301 non-null int64\n",
      "OC                    301 non-null object\n",
      "sido                  301 non-null object\n",
      "sgg                   301 non-null int64\n",
      "openDate              301 non-null int64\n",
      "bedCount              296 non-null float64\n",
      "instkind              300 non-null object\n",
      "revenue1              293 non-null float64\n",
      "salescost1            293 non-null float64\n",
      "sga1                  293 non-null float64\n",
      "salary1               293 non-null float64\n",
      "noi1                  293 non-null float64\n",
      "noe1                  293 non-null float64\n",
      "interest1             293 non-null float64\n",
      "ctax1                 293 non-null float64\n",
      "profit1               293 non-null float64\n",
      "liquidAsset1          293 non-null float64\n",
      "quickAsset1           293 non-null float64\n",
      "receivableS1          293 non-null float64\n",
      "inventoryAsset1       293 non-null float64\n",
      "nonCAsset1            293 non-null float64\n",
      "tanAsset1             293 non-null float64\n",
      "OnonCAsset1           293 non-null float64\n",
      "receivableL1          293 non-null float64\n",
      "debt1                 293 non-null float64\n",
      "liquidLiabilities1    293 non-null float64\n",
      "shortLoan1            293 non-null float64\n",
      "NCLiabilities1        293 non-null float64\n",
      "longLoan1             293 non-null float64\n",
      "netAsset1             293 non-null float64\n",
      "surplus1              293 non-null float64\n",
      "revenue2              293 non-null float64\n",
      "salescost2            293 non-null float64\n",
      "sga2                  293 non-null float64\n",
      "salary2               293 non-null float64\n",
      "noi2                  293 non-null float64\n",
      "noe2                  293 non-null float64\n",
      "interest2             293 non-null float64\n",
      "ctax2                 293 non-null float64\n",
      "profit2               293 non-null float64\n",
      "liquidAsset2          293 non-null float64\n",
      "quickAsset2           293 non-null float64\n",
      "receivableS2          293 non-null float64\n",
      "inventoryAsset2       293 non-null float64\n",
      "nonCAsset2            293 non-null float64\n",
      "tanAsset2             293 non-null float64\n",
      "OnonCAsset2           293 non-null float64\n",
      "receivableL2          293 non-null float64\n",
      "debt2                 293 non-null float64\n",
      "liquidLiabilities2    293 non-null float64\n",
      "shortLoan2            293 non-null float64\n",
      "NCLiabilities2        293 non-null float64\n",
      "longLoan2             293 non-null float64\n",
      "netAsset2             293 non-null float64\n",
      "surplus2              293 non-null float64\n",
      "employee1             291 non-null float64\n",
      "employee2             288 non-null float64\n",
      "ownerChange           289 non-null object\n",
      "dtypes: float64(51), int64(3), object(4)\n",
      "memory usage: 136.5+ KB\n"
     ]
    }
   ],
   "source": [
    "df.info()"
   ]
  },
  {
   "cell_type": "code",
   "execution_count": 9,
   "metadata": {
    "ExecuteTime": {
     "end_time": "2020-07-14T19:09:08.278885Z",
     "start_time": "2020-07-14T19:09:08.258870Z"
    },
    "scrolled": true
   },
   "outputs": [
    {
     "data": {
      "text/plain": [
       "inst_id                0\n",
       "OC                     0\n",
       "sido                   0\n",
       "sgg                    0\n",
       "openDate               0\n",
       "bedCount               5\n",
       "instkind               1\n",
       "revenue1               8\n",
       "salescost1             8\n",
       "sga1                   8\n",
       "salary1                8\n",
       "noi1                   8\n",
       "noe1                   8\n",
       "interest1              8\n",
       "ctax1                  8\n",
       "profit1                8\n",
       "liquidAsset1           8\n",
       "quickAsset1            8\n",
       "receivableS1           8\n",
       "inventoryAsset1        8\n",
       "nonCAsset1             8\n",
       "tanAsset1              8\n",
       "OnonCAsset1            8\n",
       "receivableL1           8\n",
       "debt1                  8\n",
       "liquidLiabilities1     8\n",
       "shortLoan1             8\n",
       "NCLiabilities1         8\n",
       "longLoan1              8\n",
       "netAsset1              8\n",
       "surplus1               8\n",
       "revenue2               8\n",
       "salescost2             8\n",
       "sga2                   8\n",
       "salary2                8\n",
       "noi2                   8\n",
       "noe2                   8\n",
       "interest2              8\n",
       "ctax2                  8\n",
       "profit2                8\n",
       "liquidAsset2           8\n",
       "quickAsset2            8\n",
       "receivableS2           8\n",
       "inventoryAsset2        8\n",
       "nonCAsset2             8\n",
       "tanAsset2              8\n",
       "OnonCAsset2            8\n",
       "receivableL2           8\n",
       "debt2                  8\n",
       "liquidLiabilities2     8\n",
       "shortLoan2             8\n",
       "NCLiabilities2         8\n",
       "longLoan2              8\n",
       "netAsset2              8\n",
       "surplus2               8\n",
       "employee1             10\n",
       "employee2             13\n",
       "ownerChange           12\n",
       "dtype: int64"
      ]
     },
     "execution_count": 9,
     "metadata": {},
     "output_type": "execute_result"
    }
   ],
   "source": [
    "df.isnull().sum()"
   ]
  },
  {
   "cell_type": "code",
   "execution_count": 34,
   "metadata": {
    "ExecuteTime": {
     "end_time": "2020-07-14T19:31:19.201783Z",
     "start_time": "2020-07-14T19:31:19.068688Z"
    }
   },
   "outputs": [
    {
     "data": {
      "text/plain": [
       "0      False\n",
       "1       True\n",
       "2      False\n",
       "3      False\n",
       "4      False\n",
       "       ...  \n",
       "296    False\n",
       "297    False\n",
       "298    False\n",
       "299    False\n",
       "300    False\n",
       "Name: revenue1, Length: 301, dtype: bool"
      ]
     },
     "execution_count": 34,
     "metadata": {},
     "output_type": "execute_result"
    }
   ],
   "source": [
    "df['revenue1'].isnull()"
   ]
  },
  {
   "cell_type": "markdown",
   "metadata": {},
   "source": [
    "# column"
   ]
  },
  {
   "cell_type": "markdown",
   "metadata": {
    "ExecuteTime": {
     "end_time": "2020-07-14T19:04:33.342485Z",
     "start_time": "2020-07-14T19:04:33.281442Z"
    }
   },
   "source": [
    "train.csv - 의료기관이 폐업했는지 여부를 포함하여 최근 2개년의 재무정보와 병원 기본정보 \n",
    "\n",
    "test.csv - 폐업 여부를 제외하고 train.csv와 동일 \n",
    "\n",
    "sample_submission.csv - inst_id와 open과 close를 예측하는 OC 두개의 열로 구성. OC의 값은 open 예측일 경우 1, close 예측일 경우 0.\n",
    "\n",
    "\n",
    "\n",
    "inst_id - 각 파일에서의 병원 고유 번호\n",
    "\n",
    "OC – 영업/폐업 분류, 2018년 폐업은 2017년 폐업으로 간주함\n",
    "\n",
    "sido – 병원의 광역 지역 정보\n",
    "\n",
    "sgg – 병원의 시군구 자료\n",
    "\n",
    "openDate – 병원 설립일\n",
    "\n",
    "bedCount - 병원이 갖추고 있는 병상의 수\n",
    "\n",
    "instkind – 병원, 의원, 요양병원, 한의원, 종합병원 등 병원의 종류\n",
    "\n",
    "·        종합병원 : 입원환자 100명 이상 수용 가능\n",
    "\n",
    "·        병원 : 입원 환자 30명 이상 100명 미만 수용 가능\n",
    "\n",
    "·        의원 : 입원 환자 30명 이하 수용 가능\n",
    "\n",
    "·        한방 병원(한의원) : 침술과 한약으로 치료하는 의료 기관.  \n",
    "\n",
    " \n",
    "\n",
    "revenue1 – 매출액, 2017(회계년도)년 데이터를 의미함\n",
    "\n",
    "salescost1 – 매출원가, 2017(회계년도)년 데이터를 의미함\n",
    "\n",
    "sga1 - 판매비와 관리비, 2017(회계년도)년 데이터를 의미함\n",
    "\n",
    "salary1 – 급여, 2017(회계년도)년 데이터를 의미함\n",
    "\n",
    "noi1 – 영업외수익, 2017(회계년도)년 데이터를 의미함\n",
    "\n",
    "noe1 – 영업외비용, 2017(회계년도)년 데이터를 의미함\n",
    "\n",
    "Interest1 – 이자비용, 2017(회계년도)년 데이터를 의미함\n",
    "\n",
    "ctax1 – 법인세비용, 2017(회계년도)년 데이터를 의미함\n",
    "\n",
    "Profit1 – 당기순이익, 2017(회계년도)년 데이터를 의미함\n",
    "\n",
    "liquidAsset1 – 유동자산, 2017(회계년도)년 데이터를 의미함\n",
    "\n",
    "quickAsset1 – 당좌자산, 2017(회계년도)년 데이터를 의미함\n",
    "\n",
    "receivableS1 - 미수금(단기), 2017(회계년도)년 데이터를 의미함\n",
    "\n",
    "inventoryAsset1 – 재고자산, 2017(회계년도)년 데이터를 의미함\n",
    "\n",
    "nonCAsset1 – 비유동자산, 2017(회계년도)년 데이터를 의미함\n",
    "\n",
    "tanAsset1 – 유형자산, 2017(회계년도)년 데이터를 의미함\n",
    "\n",
    "OnonCAsset1 - 기타 비유동자산, 2017(회계년도)년 데이터를 의미함\n",
    "\n",
    "receivableL1 – 장기미수금, 2017(회계년도)년 데이터를 의미함\n",
    "\n",
    "debt1 – 부채총계, 2017(회계년도)년 데이터를 의미함\n",
    "\n",
    "liquidLiabilities1 – 유동부채, 2017(회계년도)년 데이터를 의미함\n",
    "\n",
    "shortLoan1 – 단기차입금, 2017(회계년도)년 데이터를 의미함\n",
    "\n",
    "NCLiabilities1 – 비유동부채, 2017(회계년도)년 데이터를 의미함\n",
    "\n",
    "longLoan1 – 장기차입금, 2017(회계년도)년 데이터를 의미함\n",
    "\n",
    "netAsset1 – 순자산총계, 2017(회계년도)년 데이터를 의미함\n",
    "\n",
    "surplus1 – 이익잉여금, 2017(회계년도)년 데이터를 의미함\n",
    "\n",
    " \n",
    "\n",
    "revenue2 – 매출액, 2016(회계년도)년 데이터를 의미함\n",
    "\n",
    "salescost2 – 매출원가, 2016(회계년도)년 데이터를 의미함\n",
    "\n",
    "sga2 - 판매비와 관리비, 2016(회계년도)년 데이터를 의미함\n",
    "\n",
    "salary2 – 급여, 2016(회계년도)년 데이터를 의미함\n",
    "\n",
    "noi2 – 영업외수익, 2016(회계년도)년 데이터를 의미함\n",
    "\n",
    "noe2 – 영업외비용, 2016(회계년도)년 데이터를 의미함\n",
    "\n",
    "interest2 – 이자비용, 2016(회계년도)년 데이터를 의미함\n",
    "\n",
    "ctax2 – 법인세비용, 2016(회계년도)년 데이터를 의미함\n",
    "\n",
    "profit2 – 당기순이익, 2016(회계년도)년 데이터를 의미함\n",
    "\n",
    "liquidAsset2 – 유동자산, 2016(회계년도)년 데이터를 의미함\n",
    "\n",
    "quickAsset2 – 당좌자산, 2016(회계년도)년 데이터를 의미함\n",
    "\n",
    "receivableS2 - 미수금(단기), 2016(회계년도)년 데이터를 의미함\n",
    "\n",
    "inventoryAsset2 – 재고자산, 2016(회계년도)년 데이터를 의미함\n",
    "\n",
    "nonCAsset2 – 비유동자산, 2016(회계년도)년 데이터를 의미함\n",
    "\n",
    "tanAsset2 – 유형자산, 2016(회계년도)년 데이터를 의미함\n",
    "\n",
    "OnonCAsset2 - 기타 비유동자산, 2016(회계년도)년 데이터를 의미함\n",
    "\n",
    "receivableL2 – 장기미수금, 2016(회계년도)년 데이터를 의미함\n",
    "\n",
    "Debt2 – 부채총계, 2016(회계년도)년 데이터를 의미함\n",
    "\n",
    "liquidLiabilities2 – 유동부채, 2016(회계년도)년 데이터를 의미함\n",
    "\n",
    "shortLoan2 – 단기차입금, 2016(회계년도)년 데이터를 의미함\n",
    "\n",
    "NCLiabilities2 – 비유동부채, 2016(회계년도)년 데이터를 의미함\n",
    "\n",
    "longLoan2 – 장기차입금, 2016(회계년도)년 데이터를 의미함\n",
    "\n",
    "netAsset2 – 순자산총계, 2016(회계년도)년 데이터를 의미함\n",
    "\n",
    "surplus2 – 이익잉여금, 2016(회계년도)년 데이터를 의미함\n",
    "\n",
    "employee1 – 고용한 총 직원의 수, 2017(회계년도)년 데이터를 의미함\n",
    "\n",
    "employee2 – 고용한 총 직원의 수, 2016(회계년도)년 데이터를 의미함\n",
    "\n",
    "ownerChange – 대표자의 변동 "
   ]
  }
 ],
 "metadata": {
  "kernelspec": {
   "display_name": "Python [conda env:cpu_env] *",
   "language": "python",
   "name": "conda-env-cpu_env-py"
  },
  "language_info": {
   "codemirror_mode": {
    "name": "ipython",
    "version": 3
   },
   "file_extension": ".py",
   "mimetype": "text/x-python",
   "name": "python",
   "nbconvert_exporter": "python",
   "pygments_lexer": "ipython3",
   "version": "3.6.9"
  },
  "toc": {
   "base_numbering": 1,
   "nav_menu": {},
   "number_sections": true,
   "sideBar": true,
   "skip_h1_title": false,
   "title_cell": "Table of Contents",
   "title_sidebar": "Contents",
   "toc_cell": false,
   "toc_position": {},
   "toc_section_display": true,
   "toc_window_display": false
  },
  "varInspector": {
   "cols": {
    "lenName": 16,
    "lenType": 16,
    "lenVar": 40
   },
   "kernels_config": {
    "python": {
     "delete_cmd_postfix": "",
     "delete_cmd_prefix": "del ",
     "library": "var_list.py",
     "varRefreshCmd": "print(var_dic_list())"
    },
    "r": {
     "delete_cmd_postfix": ") ",
     "delete_cmd_prefix": "rm(",
     "library": "var_list.r",
     "varRefreshCmd": "cat(var_dic_list()) "
    }
   },
   "types_to_exclude": [
    "module",
    "function",
    "builtin_function_or_method",
    "instance",
    "_Feature"
   ],
   "window_display": false
  }
 },
 "nbformat": 4,
 "nbformat_minor": 2
}
