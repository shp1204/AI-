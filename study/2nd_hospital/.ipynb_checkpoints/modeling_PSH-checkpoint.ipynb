{
 "cells": [
  {
   "cell_type": "code",
   "execution_count": 40,
   "metadata": {
    "ExecuteTime": {
     "end_time": "2020-07-23T05:16:56.978629Z",
     "start_time": "2020-07-23T05:16:56.936598Z"
    }
   },
   "outputs": [],
   "source": [
    "import pandas as pd\n",
    "import numpy as np\n",
    "import matplotlib.pyplot as plt\n",
    "\n",
    "df = pd.read_csv('./data/train.csv')\n",
    "testdf = pd.read_csv('./data/test.csv')\n",
    "\n",
    "# 지수 표현 제거\n",
    "pd.options.display.float_format = '{:.5f}'.format"
   ]
  },
  {
   "cell_type": "markdown",
   "metadata": {},
   "source": [
    "# 1. 결측치 제거"
   ]
  },
  {
   "cell_type": "markdown",
   "metadata": {},
   "source": [
    "feature 수를 줄이기 위해 columns끼리 계산하려면 공통된 8개의 결측치 채워야함"
   ]
  },
  {
   "cell_type": "markdown",
   "metadata": {},
   "source": [
    "## bedcount nan 제거"
   ]
  },
  {
   "cell_type": "markdown",
   "metadata": {},
   "source": [
    "### 병상개수 nan, nan아닌 df 생성"
   ]
  },
  {
   "cell_type": "code",
   "execution_count": 2,
   "metadata": {
    "ExecuteTime": {
     "end_time": "2020-07-23T05:14:52.880206Z",
     "start_time": "2020-07-23T05:14:52.868198Z"
    }
   },
   "outputs": [],
   "source": [
    "bedCount_nandf = df.loc[df['bedCount'].isnull(), : ]\n",
    "bedCount_df = df.drop(bedCount_nandf.index)"
   ]
  },
  {
   "cell_type": "markdown",
   "metadata": {},
   "source": [
    "#### train으로 사용"
   ]
  },
  {
   "cell_type": "code",
   "execution_count": 3,
   "metadata": {
    "ExecuteTime": {
     "end_time": "2020-07-23T05:14:53.243465Z",
     "start_time": "2020-07-23T05:14:53.163408Z"
    }
   },
   "outputs": [
    {
     "data": {
      "text/html": [
       "<div>\n",
       "<style scoped>\n",
       "    .dataframe tbody tr th:only-of-type {\n",
       "        vertical-align: middle;\n",
       "    }\n",
       "\n",
       "    .dataframe tbody tr th {\n",
       "        vertical-align: top;\n",
       "    }\n",
       "\n",
       "    .dataframe thead th {\n",
       "        text-align: right;\n",
       "    }\n",
       "</style>\n",
       "<table border=\"1\" class=\"dataframe\">\n",
       "  <thead>\n",
       "    <tr style=\"text-align: right;\">\n",
       "      <th></th>\n",
       "      <th>inst_id</th>\n",
       "      <th>sgg</th>\n",
       "      <th>openDate</th>\n",
       "      <th>bedCount</th>\n",
       "      <th>revenue1</th>\n",
       "      <th>salescost1</th>\n",
       "      <th>sga1</th>\n",
       "      <th>salary1</th>\n",
       "      <th>noi1</th>\n",
       "      <th>noe1</th>\n",
       "      <th>...</th>\n",
       "      <th>receivableL2</th>\n",
       "      <th>debt2</th>\n",
       "      <th>liquidLiabilities2</th>\n",
       "      <th>shortLoan2</th>\n",
       "      <th>NCLiabilities2</th>\n",
       "      <th>longLoan2</th>\n",
       "      <th>netAsset2</th>\n",
       "      <th>surplus2</th>\n",
       "      <th>employee1</th>\n",
       "      <th>employee2</th>\n",
       "    </tr>\n",
       "    <tr>\n",
       "      <th>instkind</th>\n",
       "      <th></th>\n",
       "      <th></th>\n",
       "      <th></th>\n",
       "      <th></th>\n",
       "      <th></th>\n",
       "      <th></th>\n",
       "      <th></th>\n",
       "      <th></th>\n",
       "      <th></th>\n",
       "      <th></th>\n",
       "      <th></th>\n",
       "      <th></th>\n",
       "      <th></th>\n",
       "      <th></th>\n",
       "      <th></th>\n",
       "      <th></th>\n",
       "      <th></th>\n",
       "      <th></th>\n",
       "      <th></th>\n",
       "      <th></th>\n",
       "      <th></th>\n",
       "    </tr>\n",
       "  </thead>\n",
       "  <tbody>\n",
       "    <tr>\n",
       "      <th>clinic</th>\n",
       "      <td>271.70588</td>\n",
       "      <td>74.29412</td>\n",
       "      <td>20040722.29412</td>\n",
       "      <td>4.70588</td>\n",
       "      <td>18339861664.12500</td>\n",
       "      <td>9116122488.62500</td>\n",
       "      <td>8549328763.12500</td>\n",
       "      <td>2569290592.56250</td>\n",
       "      <td>126356150.00000</td>\n",
       "      <td>342802888.12500</td>\n",
       "      <td>...</td>\n",
       "      <td>0.00000</td>\n",
       "      <td>5300370403.75000</td>\n",
       "      <td>3415634461.75000</td>\n",
       "      <td>379261858.56250</td>\n",
       "      <td>1884985942.00000</td>\n",
       "      <td>539146702.06250</td>\n",
       "      <td>4448940725.00000</td>\n",
       "      <td>51648627.75000</td>\n",
       "      <td>89.06250</td>\n",
       "      <td>83.87500</td>\n",
       "    </tr>\n",
       "    <tr>\n",
       "      <th>dental_clinic</th>\n",
       "      <td>109.00000</td>\n",
       "      <td>79.00000</td>\n",
       "      <td>20120501.00000</td>\n",
       "      <td>0.00000</td>\n",
       "      <td>15472543033.00000</td>\n",
       "      <td>9405840570.00000</td>\n",
       "      <td>5046172942.00000</td>\n",
       "      <td>2268689456.00000</td>\n",
       "      <td>42491802.00000</td>\n",
       "      <td>403788486.00000</td>\n",
       "      <td>...</td>\n",
       "      <td>0.00000</td>\n",
       "      <td>12854804061.00000</td>\n",
       "      <td>5736049364.00000</td>\n",
       "      <td>2361425349.00000</td>\n",
       "      <td>7118754697.00000</td>\n",
       "      <td>7118754697.00000</td>\n",
       "      <td>5762838062.00000</td>\n",
       "      <td>0.00000</td>\n",
       "      <td>107.00000</td>\n",
       "      <td>109.00000</td>\n",
       "    </tr>\n",
       "    <tr>\n",
       "      <th>general_hospital</th>\n",
       "      <td>164.83333</td>\n",
       "      <td>79.13889</td>\n",
       "      <td>19970821.38889</td>\n",
       "      <td>263.27778</td>\n",
       "      <td>42938346277.37500</td>\n",
       "      <td>6935818000.15625</td>\n",
       "      <td>34932735643.40625</td>\n",
       "      <td>19624813058.65625</td>\n",
       "      <td>1028942538.37500</td>\n",
       "      <td>1609590487.25000</td>\n",
       "      <td>...</td>\n",
       "      <td>0.00000</td>\n",
       "      <td>26734046031.28125</td>\n",
       "      <td>13899455245.78125</td>\n",
       "      <td>5028724670.21875</td>\n",
       "      <td>13518376219.50000</td>\n",
       "      <td>6810055954.12500</td>\n",
       "      <td>14768131130.00000</td>\n",
       "      <td>3020268756.06250</td>\n",
       "      <td>414.33333</td>\n",
       "      <td>394.17143</td>\n",
       "    </tr>\n",
       "    <tr>\n",
       "      <th>hospital</th>\n",
       "      <td>212.68675</td>\n",
       "      <td>85.14458</td>\n",
       "      <td>20021714.48193</td>\n",
       "      <td>94.00000</td>\n",
       "      <td>13884962171.80723</td>\n",
       "      <td>1686050998.90361</td>\n",
       "      <td>11538428210.50602</td>\n",
       "      <td>6161557367.39759</td>\n",
       "      <td>273635058.03614</td>\n",
       "      <td>536577494.06024</td>\n",
       "      <td>...</td>\n",
       "      <td>0.00000</td>\n",
       "      <td>8973433613.93976</td>\n",
       "      <td>3655260967.22892</td>\n",
       "      <td>1587765132.36145</td>\n",
       "      <td>5318148550.32530</td>\n",
       "      <td>2753966478.55422</td>\n",
       "      <td>5845555992.65060</td>\n",
       "      <td>1598594714.02410</td>\n",
       "      <td>127.01235</td>\n",
       "      <td>117.02469</td>\n",
       "    </tr>\n",
       "    <tr>\n",
       "      <th>nursing_hospital</th>\n",
       "      <td>223.87770</td>\n",
       "      <td>80.19424</td>\n",
       "      <td>20088483.11511</td>\n",
       "      <td>168.78417</td>\n",
       "      <td>5924620309.75000</td>\n",
       "      <td>347728169.05882</td>\n",
       "      <td>5212944510.75735</td>\n",
       "      <td>3034021641.32353</td>\n",
       "      <td>135385697.16176</td>\n",
       "      <td>302259292.86029</td>\n",
       "      <td>...</td>\n",
       "      <td>0.00000</td>\n",
       "      <td>4337194466.54412</td>\n",
       "      <td>1939622485.65441</td>\n",
       "      <td>876654761.10294</td>\n",
       "      <td>2594592634.96324</td>\n",
       "      <td>2188024725.98529</td>\n",
       "      <td>3231501602.43382</td>\n",
       "      <td>369927831.01471</td>\n",
       "      <td>94.72993</td>\n",
       "      <td>90.75182</td>\n",
       "    </tr>\n",
       "    <tr>\n",
       "      <th>traditional_clinic</th>\n",
       "      <td>196.33333</td>\n",
       "      <td>64.33333</td>\n",
       "      <td>20063947.66667</td>\n",
       "      <td>0.00000</td>\n",
       "      <td>6617933300.33333</td>\n",
       "      <td>2690851471.00000</td>\n",
       "      <td>3610384016.66667</td>\n",
       "      <td>1990843490.00000</td>\n",
       "      <td>26263749.33333</td>\n",
       "      <td>140414603.33333</td>\n",
       "      <td>...</td>\n",
       "      <td>0.00000</td>\n",
       "      <td>2986456505.00000</td>\n",
       "      <td>2588898960.66667</td>\n",
       "      <td>2231373156.33333</td>\n",
       "      <td>397557544.33333</td>\n",
       "      <td>331964365.33333</td>\n",
       "      <td>2386138257.66667</td>\n",
       "      <td>0.00000</td>\n",
       "      <td>80.00000</td>\n",
       "      <td>81.00000</td>\n",
       "    </tr>\n",
       "    <tr>\n",
       "      <th>traditional_hospital</th>\n",
       "      <td>254.28571</td>\n",
       "      <td>61.85714</td>\n",
       "      <td>19998960.14286</td>\n",
       "      <td>46.66667</td>\n",
       "      <td>3966556581.57143</td>\n",
       "      <td>464822148.14286</td>\n",
       "      <td>3208824623.57143</td>\n",
       "      <td>1859422505.71429</td>\n",
       "      <td>26344026.85714</td>\n",
       "      <td>169469005.14286</td>\n",
       "      <td>...</td>\n",
       "      <td>0.00000</td>\n",
       "      <td>3759818962.28571</td>\n",
       "      <td>1824881457.00000</td>\n",
       "      <td>914026469.42857</td>\n",
       "      <td>1934937505.28571</td>\n",
       "      <td>1679223142.85714</td>\n",
       "      <td>2620367473.00000</td>\n",
       "      <td>895634285.71429</td>\n",
       "      <td>38.33333</td>\n",
       "      <td>35.50000</td>\n",
       "    </tr>\n",
       "  </tbody>\n",
       "</table>\n",
       "<p>7 rows × 54 columns</p>\n",
       "</div>"
      ],
      "text/plain": [
       "                       inst_id      sgg       openDate  bedCount  \\\n",
       "instkind                                                           \n",
       "clinic               271.70588 74.29412 20040722.29412   4.70588   \n",
       "dental_clinic        109.00000 79.00000 20120501.00000   0.00000   \n",
       "general_hospital     164.83333 79.13889 19970821.38889 263.27778   \n",
       "hospital             212.68675 85.14458 20021714.48193  94.00000   \n",
       "nursing_hospital     223.87770 80.19424 20088483.11511 168.78417   \n",
       "traditional_clinic   196.33333 64.33333 20063947.66667   0.00000   \n",
       "traditional_hospital 254.28571 61.85714 19998960.14286  46.66667   \n",
       "\n",
       "                              revenue1       salescost1              sga1  \\\n",
       "instkind                                                                    \n",
       "clinic               18339861664.12500 9116122488.62500  8549328763.12500   \n",
       "dental_clinic        15472543033.00000 9405840570.00000  5046172942.00000   \n",
       "general_hospital     42938346277.37500 6935818000.15625 34932735643.40625   \n",
       "hospital             13884962171.80723 1686050998.90361 11538428210.50602   \n",
       "nursing_hospital      5924620309.75000  347728169.05882  5212944510.75735   \n",
       "traditional_clinic    6617933300.33333 2690851471.00000  3610384016.66667   \n",
       "traditional_hospital  3966556581.57143  464822148.14286  3208824623.57143   \n",
       "\n",
       "                               salary1             noi1             noe1  ...  \\\n",
       "instkind                                                                  ...   \n",
       "clinic                2569290592.56250  126356150.00000  342802888.12500  ...   \n",
       "dental_clinic         2268689456.00000   42491802.00000  403788486.00000  ...   \n",
       "general_hospital     19624813058.65625 1028942538.37500 1609590487.25000  ...   \n",
       "hospital              6161557367.39759  273635058.03614  536577494.06024  ...   \n",
       "nursing_hospital      3034021641.32353  135385697.16176  302259292.86029  ...   \n",
       "traditional_clinic    1990843490.00000   26263749.33333  140414603.33333  ...   \n",
       "traditional_hospital  1859422505.71429   26344026.85714  169469005.14286  ...   \n",
       "\n",
       "                      receivableL2             debt2  liquidLiabilities2  \\\n",
       "instkind                                                                   \n",
       "clinic                     0.00000  5300370403.75000    3415634461.75000   \n",
       "dental_clinic              0.00000 12854804061.00000    5736049364.00000   \n",
       "general_hospital           0.00000 26734046031.28125   13899455245.78125   \n",
       "hospital                   0.00000  8973433613.93976    3655260967.22892   \n",
       "nursing_hospital           0.00000  4337194466.54412    1939622485.65441   \n",
       "traditional_clinic         0.00000  2986456505.00000    2588898960.66667   \n",
       "traditional_hospital       0.00000  3759818962.28571    1824881457.00000   \n",
       "\n",
       "                           shortLoan2    NCLiabilities2        longLoan2  \\\n",
       "instkind                                                                   \n",
       "clinic                379261858.56250  1884985942.00000  539146702.06250   \n",
       "dental_clinic        2361425349.00000  7118754697.00000 7118754697.00000   \n",
       "general_hospital     5028724670.21875 13518376219.50000 6810055954.12500   \n",
       "hospital             1587765132.36145  5318148550.32530 2753966478.55422   \n",
       "nursing_hospital      876654761.10294  2594592634.96324 2188024725.98529   \n",
       "traditional_clinic   2231373156.33333   397557544.33333  331964365.33333   \n",
       "traditional_hospital  914026469.42857  1934937505.28571 1679223142.85714   \n",
       "\n",
       "                             netAsset2         surplus2  employee1  employee2  \n",
       "instkind                                                                       \n",
       "clinic                4448940725.00000   51648627.75000   89.06250   83.87500  \n",
       "dental_clinic         5762838062.00000          0.00000  107.00000  109.00000  \n",
       "general_hospital     14768131130.00000 3020268756.06250  414.33333  394.17143  \n",
       "hospital              5845555992.65060 1598594714.02410  127.01235  117.02469  \n",
       "nursing_hospital      3231501602.43382  369927831.01471   94.72993   90.75182  \n",
       "traditional_clinic    2386138257.66667          0.00000   80.00000   81.00000  \n",
       "traditional_hospital  2620367473.00000  895634285.71429   38.33333   35.50000  \n",
       "\n",
       "[7 rows x 54 columns]"
      ]
     },
     "execution_count": 3,
     "metadata": {},
     "output_type": "execute_result"
    }
   ],
   "source": [
    "df.loc[df['OC'] == 'open'].groupby(df['instkind']).mean()"
   ]
  },
  {
   "cell_type": "code",
   "execution_count": 4,
   "metadata": {
    "ExecuteTime": {
     "end_time": "2020-07-23T05:14:59.566972Z",
     "start_time": "2020-07-23T05:14:59.516936Z"
    }
   },
   "outputs": [],
   "source": [
    "bedCount_df.loc[93, ['employee1','employee2']] = [84.33333, 88.66667] #close, hospital\n",
    "bedCount_df.loc[212, ['employee1','employee2']] = [203.75000, 299.00000] # close, nursing_hospital\n",
    "\n",
    "bedCount_df.loc[48, ['employee1','employee2']] = [38.33333,35.50000] # open, traditional_hospital\n",
    "bedCount_df.loc[60, ['employee1','employee2']] = [94.72993,90.75182] # nursing_hospital\n",
    "bedCount_df.loc[206, ['employee1','employee2']] = [94.72993,90.75182] # nursing_hospital\n",
    "bedCount_df.loc[242, ['employee1','employee2']] = [80.00000,81.00000] # traditional_clinic\n",
    "bedCount_df.loc[258, ['employee1','employee2']] = [89.06250,83.87500] # clinic\n",
    "bedCount_df.loc[263, ['employee1','employee2']] = [127.01235,117.02469] # hospital\n",
    "bedCount_df.loc[285, ['employee1','employee2']] = [127.01235,117.02469] # hospital"
   ]
  },
  {
   "cell_type": "markdown",
   "metadata": {},
   "source": [
    "#### test로 사용"
   ]
  },
  {
   "cell_type": "code",
   "execution_count": 5,
   "metadata": {
    "ExecuteTime": {
     "end_time": "2020-07-23T05:15:00.922936Z",
     "start_time": "2020-07-23T05:15:00.850887Z"
    }
   },
   "outputs": [
    {
     "name": "stderr",
     "output_type": "stream",
     "text": [
      "C:\\python\\envs\\cpu_env\\lib\\site-packages\\pandas\\core\\indexing.py:494: SettingWithCopyWarning: \n",
      "A value is trying to be set on a copy of a slice from a DataFrame.\n",
      "Try using .loc[row_indexer,col_indexer] = value instead\n",
      "\n",
      "See the caveats in the documentation: http://pandas.pydata.org/pandas-docs/stable/user_guide/indexing.html#returning-a-view-versus-a-copy\n",
      "  self.obj[item] = s\n"
     ]
    },
    {
     "data": {
      "text/html": [
       "<div>\n",
       "<style scoped>\n",
       "    .dataframe tbody tr th:only-of-type {\n",
       "        vertical-align: middle;\n",
       "    }\n",
       "\n",
       "    .dataframe tbody tr th {\n",
       "        vertical-align: top;\n",
       "    }\n",
       "\n",
       "    .dataframe thead th {\n",
       "        text-align: right;\n",
       "    }\n",
       "</style>\n",
       "<table border=\"1\" class=\"dataframe\">\n",
       "  <thead>\n",
       "    <tr style=\"text-align: right;\">\n",
       "      <th></th>\n",
       "      <th>inst_id</th>\n",
       "      <th>OC</th>\n",
       "      <th>sido</th>\n",
       "      <th>sgg</th>\n",
       "      <th>openDate</th>\n",
       "      <th>bedCount</th>\n",
       "      <th>instkind</th>\n",
       "      <th>revenue1</th>\n",
       "      <th>salescost1</th>\n",
       "      <th>sga1</th>\n",
       "      <th>...</th>\n",
       "      <th>debt2</th>\n",
       "      <th>liquidLiabilities2</th>\n",
       "      <th>shortLoan2</th>\n",
       "      <th>NCLiabilities2</th>\n",
       "      <th>longLoan2</th>\n",
       "      <th>netAsset2</th>\n",
       "      <th>surplus2</th>\n",
       "      <th>employee1</th>\n",
       "      <th>employee2</th>\n",
       "      <th>ownerChange</th>\n",
       "    </tr>\n",
       "  </thead>\n",
       "  <tbody>\n",
       "    <tr>\n",
       "      <th>71</th>\n",
       "      <td>107</td>\n",
       "      <td>close</td>\n",
       "      <td>jeonbuk</td>\n",
       "      <td>26</td>\n",
       "      <td>19990805</td>\n",
       "      <td>nan</td>\n",
       "      <td>traditional_hospital</td>\n",
       "      <td>4131857876.00000</td>\n",
       "      <td>143611800.00000</td>\n",
       "      <td>3529097014.00000</td>\n",
       "      <td>...</td>\n",
       "      <td>2658296224.00000</td>\n",
       "      <td>2632717442.00000</td>\n",
       "      <td>2442950671.00000</td>\n",
       "      <td>25578782.00000</td>\n",
       "      <td>0.00000</td>\n",
       "      <td>2487828487.00000</td>\n",
       "      <td>0.00000</td>\n",
       "      <td>85.00000</td>\n",
       "      <td>74.00000</td>\n",
       "      <td>same</td>\n",
       "    </tr>\n",
       "    <tr>\n",
       "      <th>193</th>\n",
       "      <td>281</td>\n",
       "      <td>close</td>\n",
       "      <td>gyeonggi</td>\n",
       "      <td>12</td>\n",
       "      <td>20121213</td>\n",
       "      <td>nan</td>\n",
       "      <td>NaN</td>\n",
       "      <td>305438818.00000</td>\n",
       "      <td>22416139.00000</td>\n",
       "      <td>467475340.00000</td>\n",
       "      <td>...</td>\n",
       "      <td>0.00000</td>\n",
       "      <td>0.00000</td>\n",
       "      <td>0.00000</td>\n",
       "      <td>0.00000</td>\n",
       "      <td>0.00000</td>\n",
       "      <td>0.00000</td>\n",
       "      <td>0.00000</td>\n",
       "      <td>15.00000</td>\n",
       "      <td>15.00000</td>\n",
       "      <td>change</td>\n",
       "    </tr>\n",
       "    <tr>\n",
       "      <th>297</th>\n",
       "      <td>423</td>\n",
       "      <td>close</td>\n",
       "      <td>choongnam</td>\n",
       "      <td>159</td>\n",
       "      <td>20140618</td>\n",
       "      <td>nan</td>\n",
       "      <td>hospital</td>\n",
       "      <td>6717143911.00000</td>\n",
       "      <td>8200000000.00000</td>\n",
       "      <td>0.00000</td>\n",
       "      <td>...</td>\n",
       "      <td>0.00000</td>\n",
       "      <td>0.00000</td>\n",
       "      <td>0.00000</td>\n",
       "      <td>0.00000</td>\n",
       "      <td>0.00000</td>\n",
       "      <td>0.00000</td>\n",
       "      <td>0.00000</td>\n",
       "      <td>79.00000</td>\n",
       "      <td>79.00000</td>\n",
       "      <td>same</td>\n",
       "    </tr>\n",
       "    <tr>\n",
       "      <th>298</th>\n",
       "      <td>426</td>\n",
       "      <td>close</td>\n",
       "      <td>gyeongbuk</td>\n",
       "      <td>107</td>\n",
       "      <td>19830705</td>\n",
       "      <td>nan</td>\n",
       "      <td>hospital</td>\n",
       "      <td>0.00000</td>\n",
       "      <td>0.00000</td>\n",
       "      <td>54794278.00000</td>\n",
       "      <td>...</td>\n",
       "      <td>6370097200.00000</td>\n",
       "      <td>2170972735.00000</td>\n",
       "      <td>0.00000</td>\n",
       "      <td>4199124465.00000</td>\n",
       "      <td>2498749346.00000</td>\n",
       "      <td>3259161079.00000</td>\n",
       "      <td>0.00000</td>\n",
       "      <td>84.33333</td>\n",
       "      <td>88.66667</td>\n",
       "      <td>NaN</td>\n",
       "    </tr>\n",
       "    <tr>\n",
       "      <th>300</th>\n",
       "      <td>428</td>\n",
       "      <td>open</td>\n",
       "      <td>seoul</td>\n",
       "      <td>79</td>\n",
       "      <td>20011017</td>\n",
       "      <td>nan</td>\n",
       "      <td>traditional_hospital</td>\n",
       "      <td>1340971077.00000</td>\n",
       "      <td>810845020.00000</td>\n",
       "      <td>504340856.00000</td>\n",
       "      <td>...</td>\n",
       "      <td>5349000469.00000</td>\n",
       "      <td>3123072057.00000</td>\n",
       "      <td>0.00000</td>\n",
       "      <td>2225928412.00000</td>\n",
       "      <td>2190000000.00000</td>\n",
       "      <td>5536177777.00000</td>\n",
       "      <td>6269440000.00000</td>\n",
       "      <td>15.00000</td>\n",
       "      <td>15.00000</td>\n",
       "      <td>same</td>\n",
       "    </tr>\n",
       "  </tbody>\n",
       "</table>\n",
       "<p>5 rows × 58 columns</p>\n",
       "</div>"
      ],
      "text/plain": [
       "     inst_id      OC       sido  sgg  openDate  bedCount  \\\n",
       "71       107   close    jeonbuk   26  19990805       nan   \n",
       "193      281   close   gyeonggi   12  20121213       nan   \n",
       "297      423   close  choongnam  159  20140618       nan   \n",
       "298      426   close  gyeongbuk  107  19830705       nan   \n",
       "300      428    open      seoul   79  20011017       nan   \n",
       "\n",
       "                 instkind         revenue1       salescost1             sga1  \\\n",
       "71   traditional_hospital 4131857876.00000  143611800.00000 3529097014.00000   \n",
       "193                   NaN  305438818.00000   22416139.00000  467475340.00000   \n",
       "297              hospital 6717143911.00000 8200000000.00000          0.00000   \n",
       "298              hospital          0.00000          0.00000   54794278.00000   \n",
       "300  traditional_hospital 1340971077.00000  810845020.00000  504340856.00000   \n",
       "\n",
       "     ...            debt2  liquidLiabilities2       shortLoan2  \\\n",
       "71   ... 2658296224.00000    2632717442.00000 2442950671.00000   \n",
       "193  ...          0.00000             0.00000          0.00000   \n",
       "297  ...          0.00000             0.00000          0.00000   \n",
       "298  ... 6370097200.00000    2170972735.00000          0.00000   \n",
       "300  ... 5349000469.00000    3123072057.00000          0.00000   \n",
       "\n",
       "      NCLiabilities2        longLoan2        netAsset2         surplus2  \\\n",
       "71    25578782.00000          0.00000 2487828487.00000          0.00000   \n",
       "193          0.00000          0.00000          0.00000          0.00000   \n",
       "297          0.00000          0.00000          0.00000          0.00000   \n",
       "298 4199124465.00000 2498749346.00000 3259161079.00000          0.00000   \n",
       "300 2225928412.00000 2190000000.00000 5536177777.00000 6269440000.00000   \n",
       "\n",
       "     employee1  employee2  ownerChange  \n",
       "71    85.00000   74.00000         same  \n",
       "193   15.00000   15.00000       change  \n",
       "297   79.00000   79.00000         same  \n",
       "298   84.33333   88.66667          NaN  \n",
       "300   15.00000   15.00000         same  \n",
       "\n",
       "[5 rows x 58 columns]"
      ]
     },
     "execution_count": 5,
     "metadata": {},
     "output_type": "execute_result"
    }
   ],
   "source": [
    "# test로 사용할 데이터의 employee  값에 nan이 있기 때문에\n",
    "# close data 중 hospital의 평균으로 mapping하자\n",
    "\n",
    "df.loc[df['OC'] == ' close'].groupby(df['instkind']).mean() # 84.33333, 88.66667\n",
    "\n",
    "bedCount_nandf.loc[298, ['employee1','employee2']] = [84.33333, 88.66667]\n",
    "bedCount_nandf"
   ]
  },
  {
   "cell_type": "markdown",
   "metadata": {},
   "source": [
    "### 병상개수 df 학습하여 nandf의 병상개수 예측"
   ]
  },
  {
   "cell_type": "code",
   "execution_count": 6,
   "metadata": {
    "ExecuteTime": {
     "end_time": "2020-07-23T05:15:03.887052Z",
     "start_time": "2020-07-23T05:15:03.877042Z"
    }
   },
   "outputs": [],
   "source": [
    "X_train = bedCount_df[['employee1']]\n",
    "y_train = bedCount_df[['bedCount']]\n",
    "X_test = bedCount_nandf[['employee1']]"
   ]
  },
  {
   "cell_type": "code",
   "execution_count": 7,
   "metadata": {
    "ExecuteTime": {
     "end_time": "2020-07-23T05:15:09.095759Z",
     "start_time": "2020-07-23T05:15:04.577541Z"
    }
   },
   "outputs": [],
   "source": [
    "from sklearn.linear_model import LinearRegression\n",
    "model = LinearRegression()\n",
    "model.fit(X_train, y_train)\n",
    "prediction = model.predict(X_test)"
   ]
  },
  {
   "cell_type": "code",
   "execution_count": 8,
   "metadata": {
    "ExecuteTime": {
     "end_time": "2020-07-23T05:15:09.535074Z",
     "start_time": "2020-07-23T05:15:09.520062Z"
    }
   },
   "outputs": [
    {
     "name": "stderr",
     "output_type": "stream",
     "text": [
      "C:\\python\\envs\\cpu_env\\lib\\site-packages\\ipykernel_launcher.py:1: SettingWithCopyWarning: \n",
      "A value is trying to be set on a copy of a slice from a DataFrame.\n",
      "Try using .loc[row_indexer,col_indexer] = value instead\n",
      "\n",
      "See the caveats in the documentation: http://pandas.pydata.org/pandas-docs/stable/user_guide/indexing.html#returning-a-view-versus-a-copy\n",
      "  \"\"\"Entry point for launching an IPython kernel.\n"
     ]
    }
   ],
   "source": [
    "bedCount_nandf['bedCount'] = prediction"
   ]
  },
  {
   "cell_type": "markdown",
   "metadata": {},
   "source": [
    "### bedcount는 모두 값을 가짐"
   ]
  },
  {
   "cell_type": "code",
   "execution_count": 9,
   "metadata": {
    "ExecuteTime": {
     "end_time": "2020-07-23T05:15:09.935358Z",
     "start_time": "2020-07-23T05:15:09.915345Z"
    }
   },
   "outputs": [],
   "source": [
    "newdf = pd.concat([bedCount_df, bedCount_nandf]).sort_index(axis=0)"
   ]
  },
  {
   "cell_type": "markdown",
   "metadata": {},
   "source": [
    "## instkind nan 제거"
   ]
  },
  {
   "cell_type": "code",
   "execution_count": 10,
   "metadata": {
    "ExecuteTime": {
     "end_time": "2020-07-23T05:15:10.434715Z",
     "start_time": "2020-07-23T05:15:10.416701Z"
    }
   },
   "outputs": [
    {
     "data": {
      "text/plain": [
       "instkind\n",
       "clinic                   4.44444\n",
       "dental_clinic            0.00000\n",
       "general_hospital       261.56757\n",
       "hospital                96.77930\n",
       "nursing_hospital       172.34028\n",
       "traditional_clinic       0.00000\n",
       "traditional_hospital    61.96259\n",
       "Name: bedCount, dtype: float64"
      ]
     },
     "execution_count": 10,
     "metadata": {},
     "output_type": "execute_result"
    }
   ],
   "source": [
    "newdf.groupby(['instkind']).mean()['bedCount']"
   ]
  },
  {
   "cell_type": "code",
   "execution_count": 432,
   "metadata": {
    "ExecuteTime": {
     "end_time": "2020-07-22T16:01:13.555002Z",
     "start_time": "2020-07-22T16:01:13.544999Z"
    }
   },
   "outputs": [
    {
     "data": {
      "text/plain": [
       "193   93.54932\n",
       "Name: bedCount, dtype: float64"
      ]
     },
     "execution_count": 432,
     "metadata": {},
     "output_type": "execute_result"
    }
   ],
   "source": [
    "newdf[newdf['instkind'].isnull()]['bedCount']\n",
    "# 얘의 bedCount 값이 위 중 hospital과 가장 비슷하기 때문에 hospital로 채우자."
   ]
  },
  {
   "cell_type": "code",
   "execution_count": 11,
   "metadata": {
    "ExecuteTime": {
     "end_time": "2020-07-23T05:15:11.067164Z",
     "start_time": "2020-07-23T05:15:11.060161Z"
    },
    "scrolled": false
   },
   "outputs": [],
   "source": [
    "newdf['instkind'].fillna('hospital', inplace=True)"
   ]
  },
  {
   "cell_type": "markdown",
   "metadata": {},
   "source": [
    "## revenue1 ~ 공통된 8개의 결측값 채우기"
   ]
  },
  {
   "cell_type": "markdown",
   "metadata": {},
   "source": [
    "8개의 값을 채우기 위해서 bedCount, instkind의 범주화를 한 뒤, 이를 grouping 하였을 때 생성되는 평균값으로 채우자"
   ]
  },
  {
   "cell_type": "markdown",
   "metadata": {},
   "source": [
    "### 1 ) instkind 범주화"
   ]
  },
  {
   "cell_type": "code",
   "execution_count": 12,
   "metadata": {
    "ExecuteTime": {
     "end_time": "2020-07-23T05:15:12.351079Z",
     "start_time": "2020-07-23T05:15:12.345077Z"
    }
   },
   "outputs": [],
   "source": [
    "instkind_mapping = {\n",
    "    'nursing_hospital' : 4,\n",
    "    'general_hospital' : 4,\n",
    "    'hospital' : 4,\n",
    "    'traditional_hospital' : 3,\n",
    "    'clinic' : 2,\n",
    "    'traditional_clinic' : 1,\n",
    "    'dental_clinic' : 1\n",
    "}"
   ]
  },
  {
   "cell_type": "code",
   "execution_count": 13,
   "metadata": {
    "ExecuteTime": {
     "end_time": "2020-07-23T05:15:13.142643Z",
     "start_time": "2020-07-23T05:15:13.137641Z"
    }
   },
   "outputs": [],
   "source": [
    "def new_instkind(x) :\n",
    "    return instkind_mapping.get(x)"
   ]
  },
  {
   "cell_type": "code",
   "execution_count": 14,
   "metadata": {
    "ExecuteTime": {
     "end_time": "2020-07-23T05:15:13.895180Z",
     "start_time": "2020-07-23T05:15:13.888176Z"
    }
   },
   "outputs": [],
   "source": [
    "newdf['newinstkind'] = list(map(lambda x : new_instkind(x), newdf['instkind']))"
   ]
  },
  {
   "cell_type": "markdown",
   "metadata": {
    "ExecuteTime": {
     "end_time": "2020-07-22T06:08:01.877156Z",
     "start_time": "2020-07-22T06:08:01.781088Z"
    }
   },
   "source": [
    "### 2 ) bedcount 범주화"
   ]
  },
  {
   "cell_type": "code",
   "execution_count": 15,
   "metadata": {
    "ExecuteTime": {
     "end_time": "2020-07-23T05:15:15.314193Z",
     "start_time": "2020-07-23T05:15:15.240138Z"
    },
    "scrolled": true
   },
   "outputs": [
    {
     "data": {
      "text/html": [
       "<div>\n",
       "<style scoped>\n",
       "    .dataframe tbody tr th:only-of-type {\n",
       "        vertical-align: middle;\n",
       "    }\n",
       "\n",
       "    .dataframe tbody tr th {\n",
       "        vertical-align: top;\n",
       "    }\n",
       "\n",
       "    .dataframe thead th {\n",
       "        text-align: right;\n",
       "    }\n",
       "</style>\n",
       "<table border=\"1\" class=\"dataframe\">\n",
       "  <thead>\n",
       "    <tr style=\"text-align: right;\">\n",
       "      <th></th>\n",
       "      <th>inst_id</th>\n",
       "      <th>OC</th>\n",
       "      <th>sido</th>\n",
       "      <th>sgg</th>\n",
       "      <th>openDate</th>\n",
       "      <th>bedCount</th>\n",
       "      <th>instkind</th>\n",
       "      <th>revenue1</th>\n",
       "      <th>salescost1</th>\n",
       "      <th>sga1</th>\n",
       "      <th>...</th>\n",
       "      <th>shortLoan2</th>\n",
       "      <th>NCLiabilities2</th>\n",
       "      <th>longLoan2</th>\n",
       "      <th>netAsset2</th>\n",
       "      <th>surplus2</th>\n",
       "      <th>employee1</th>\n",
       "      <th>employee2</th>\n",
       "      <th>ownerChange</th>\n",
       "      <th>newinstkind</th>\n",
       "      <th>newbedcount</th>\n",
       "    </tr>\n",
       "  </thead>\n",
       "  <tbody>\n",
       "    <tr>\n",
       "      <th>0</th>\n",
       "      <td>1</td>\n",
       "      <td>open</td>\n",
       "      <td>choongnam</td>\n",
       "      <td>73</td>\n",
       "      <td>20071228</td>\n",
       "      <td>175.00000</td>\n",
       "      <td>nursing_hospital</td>\n",
       "      <td>4217530010.00000</td>\n",
       "      <td>0.00000</td>\n",
       "      <td>3961134739.00000</td>\n",
       "      <td>...</td>\n",
       "      <td>0.00000</td>\n",
       "      <td>536116887.00000</td>\n",
       "      <td>390000000.00000</td>\n",
       "      <td>2619290493.00000</td>\n",
       "      <td>1271224493.00000</td>\n",
       "      <td>62.00000</td>\n",
       "      <td>64.00000</td>\n",
       "      <td>same</td>\n",
       "      <td>4</td>\n",
       "      <td>2</td>\n",
       "    </tr>\n",
       "    <tr>\n",
       "      <th>1</th>\n",
       "      <td>3</td>\n",
       "      <td>open</td>\n",
       "      <td>gyeongnam</td>\n",
       "      <td>32</td>\n",
       "      <td>19970401</td>\n",
       "      <td>410.00000</td>\n",
       "      <td>general_hospital</td>\n",
       "      <td>nan</td>\n",
       "      <td>nan</td>\n",
       "      <td>nan</td>\n",
       "      <td>...</td>\n",
       "      <td>nan</td>\n",
       "      <td>nan</td>\n",
       "      <td>nan</td>\n",
       "      <td>nan</td>\n",
       "      <td>nan</td>\n",
       "      <td>801.00000</td>\n",
       "      <td>813.00000</td>\n",
       "      <td>same</td>\n",
       "      <td>4</td>\n",
       "      <td>3</td>\n",
       "    </tr>\n",
       "    <tr>\n",
       "      <th>2</th>\n",
       "      <td>4</td>\n",
       "      <td>open</td>\n",
       "      <td>gyeonggi</td>\n",
       "      <td>89</td>\n",
       "      <td>20161228</td>\n",
       "      <td>468.00000</td>\n",
       "      <td>nursing_hospital</td>\n",
       "      <td>1004521989.00000</td>\n",
       "      <td>515483669.00000</td>\n",
       "      <td>447219722.00000</td>\n",
       "      <td>...</td>\n",
       "      <td>0.00000</td>\n",
       "      <td>0.00000</td>\n",
       "      <td>0.00000</td>\n",
       "      <td>0.00000</td>\n",
       "      <td>0.00000</td>\n",
       "      <td>234.00000</td>\n",
       "      <td>1.00000</td>\n",
       "      <td>same</td>\n",
       "      <td>4</td>\n",
       "      <td>3</td>\n",
       "    </tr>\n",
       "    <tr>\n",
       "      <th>3</th>\n",
       "      <td>7</td>\n",
       "      <td>open</td>\n",
       "      <td>incheon</td>\n",
       "      <td>141</td>\n",
       "      <td>20000814</td>\n",
       "      <td>353.00000</td>\n",
       "      <td>general_hospital</td>\n",
       "      <td>72507342181.00000</td>\n",
       "      <td>0.00000</td>\n",
       "      <td>70677397660.00000</td>\n",
       "      <td>...</td>\n",
       "      <td>9219427379.00000</td>\n",
       "      <td>20736413926.00000</td>\n",
       "      <td>15100000000.00000</td>\n",
       "      <td>12954271998.00000</td>\n",
       "      <td>7740829037.00000</td>\n",
       "      <td>663.00000</td>\n",
       "      <td>663.00000</td>\n",
       "      <td>same</td>\n",
       "      <td>4</td>\n",
       "      <td>3</td>\n",
       "    </tr>\n",
       "    <tr>\n",
       "      <th>4</th>\n",
       "      <td>9</td>\n",
       "      <td>open</td>\n",
       "      <td>gyeongnam</td>\n",
       "      <td>32</td>\n",
       "      <td>20050901</td>\n",
       "      <td>196.00000</td>\n",
       "      <td>general_hospital</td>\n",
       "      <td>49043538016.00000</td>\n",
       "      <td>0.00000</td>\n",
       "      <td>47656051197.00000</td>\n",
       "      <td>...</td>\n",
       "      <td>17593752360.00000</td>\n",
       "      <td>21360007048.00000</td>\n",
       "      <td>14108027465.00000</td>\n",
       "      <td>5561941.00000</td>\n",
       "      <td>9025549604.00000</td>\n",
       "      <td>206.00000</td>\n",
       "      <td>197.00000</td>\n",
       "      <td>same</td>\n",
       "      <td>4</td>\n",
       "      <td>2</td>\n",
       "    </tr>\n",
       "    <tr>\n",
       "      <th>...</th>\n",
       "      <td>...</td>\n",
       "      <td>...</td>\n",
       "      <td>...</td>\n",
       "      <td>...</td>\n",
       "      <td>...</td>\n",
       "      <td>...</td>\n",
       "      <td>...</td>\n",
       "      <td>...</td>\n",
       "      <td>...</td>\n",
       "      <td>...</td>\n",
       "      <td>...</td>\n",
       "      <td>...</td>\n",
       "      <td>...</td>\n",
       "      <td>...</td>\n",
       "      <td>...</td>\n",
       "      <td>...</td>\n",
       "      <td>...</td>\n",
       "      <td>...</td>\n",
       "      <td>...</td>\n",
       "      <td>...</td>\n",
       "      <td>...</td>\n",
       "    </tr>\n",
       "    <tr>\n",
       "      <th>296</th>\n",
       "      <td>422</td>\n",
       "      <td>open</td>\n",
       "      <td>jeonnam</td>\n",
       "      <td>178</td>\n",
       "      <td>20050211</td>\n",
       "      <td>214.00000</td>\n",
       "      <td>nursing_hospital</td>\n",
       "      <td>7614696536.00000</td>\n",
       "      <td>415347464.00000</td>\n",
       "      <td>5903119133.00000</td>\n",
       "      <td>...</td>\n",
       "      <td>0.00000</td>\n",
       "      <td>6805569802.00000</td>\n",
       "      <td>5930000000.00000</td>\n",
       "      <td>5379501732.00000</td>\n",
       "      <td>811641602.00000</td>\n",
       "      <td>193.00000</td>\n",
       "      <td>141.00000</td>\n",
       "      <td>same</td>\n",
       "      <td>4</td>\n",
       "      <td>3</td>\n",
       "    </tr>\n",
       "    <tr>\n",
       "      <th>297</th>\n",
       "      <td>423</td>\n",
       "      <td>close</td>\n",
       "      <td>choongnam</td>\n",
       "      <td>159</td>\n",
       "      <td>20140618</td>\n",
       "      <td>119.69981</td>\n",
       "      <td>hospital</td>\n",
       "      <td>6717143911.00000</td>\n",
       "      <td>8200000000.00000</td>\n",
       "      <td>0.00000</td>\n",
       "      <td>...</td>\n",
       "      <td>0.00000</td>\n",
       "      <td>0.00000</td>\n",
       "      <td>0.00000</td>\n",
       "      <td>0.00000</td>\n",
       "      <td>0.00000</td>\n",
       "      <td>79.00000</td>\n",
       "      <td>79.00000</td>\n",
       "      <td>same</td>\n",
       "      <td>4</td>\n",
       "      <td>2</td>\n",
       "    </tr>\n",
       "    <tr>\n",
       "      <th>298</th>\n",
       "      <td>426</td>\n",
       "      <td>close</td>\n",
       "      <td>gyeongbuk</td>\n",
       "      <td>107</td>\n",
       "      <td>19830705</td>\n",
       "      <td>121.87902</td>\n",
       "      <td>hospital</td>\n",
       "      <td>0.00000</td>\n",
       "      <td>0.00000</td>\n",
       "      <td>54794278.00000</td>\n",
       "      <td>...</td>\n",
       "      <td>0.00000</td>\n",
       "      <td>4199124465.00000</td>\n",
       "      <td>2498749346.00000</td>\n",
       "      <td>3259161079.00000</td>\n",
       "      <td>0.00000</td>\n",
       "      <td>84.33333</td>\n",
       "      <td>88.66667</td>\n",
       "      <td>NaN</td>\n",
       "      <td>4</td>\n",
       "      <td>2</td>\n",
       "    </tr>\n",
       "    <tr>\n",
       "      <th>299</th>\n",
       "      <td>427</td>\n",
       "      <td>close</td>\n",
       "      <td>gyeonggi</td>\n",
       "      <td>169</td>\n",
       "      <td>20070101</td>\n",
       "      <td>180.00000</td>\n",
       "      <td>nursing_hospital</td>\n",
       "      <td>2116892231.00000</td>\n",
       "      <td>268174808.00000</td>\n",
       "      <td>3286244912.00000</td>\n",
       "      <td>...</td>\n",
       "      <td>0.00000</td>\n",
       "      <td>0.00000</td>\n",
       "      <td>0.00000</td>\n",
       "      <td>0.00000</td>\n",
       "      <td>0.00000</td>\n",
       "      <td>100.00000</td>\n",
       "      <td>nan</td>\n",
       "      <td>NaN</td>\n",
       "      <td>4</td>\n",
       "      <td>2</td>\n",
       "    </tr>\n",
       "    <tr>\n",
       "      <th>300</th>\n",
       "      <td>428</td>\n",
       "      <td>open</td>\n",
       "      <td>seoul</td>\n",
       "      <td>79</td>\n",
       "      <td>20011017</td>\n",
       "      <td>93.54932</td>\n",
       "      <td>traditional_hospital</td>\n",
       "      <td>1340971077.00000</td>\n",
       "      <td>810845020.00000</td>\n",
       "      <td>504340856.00000</td>\n",
       "      <td>...</td>\n",
       "      <td>0.00000</td>\n",
       "      <td>2225928412.00000</td>\n",
       "      <td>2190000000.00000</td>\n",
       "      <td>5536177777.00000</td>\n",
       "      <td>6269440000.00000</td>\n",
       "      <td>15.00000</td>\n",
       "      <td>15.00000</td>\n",
       "      <td>same</td>\n",
       "      <td>3</td>\n",
       "      <td>1</td>\n",
       "    </tr>\n",
       "  </tbody>\n",
       "</table>\n",
       "<p>301 rows × 60 columns</p>\n",
       "</div>"
      ],
      "text/plain": [
       "     inst_id      OC       sido  sgg  openDate  bedCount  \\\n",
       "0          1    open  choongnam   73  20071228 175.00000   \n",
       "1          3    open  gyeongnam   32  19970401 410.00000   \n",
       "2          4    open   gyeonggi   89  20161228 468.00000   \n",
       "3          7    open    incheon  141  20000814 353.00000   \n",
       "4          9    open  gyeongnam   32  20050901 196.00000   \n",
       "..       ...     ...        ...  ...       ...       ...   \n",
       "296      422    open    jeonnam  178  20050211 214.00000   \n",
       "297      423   close  choongnam  159  20140618 119.69981   \n",
       "298      426   close  gyeongbuk  107  19830705 121.87902   \n",
       "299      427   close   gyeonggi  169  20070101 180.00000   \n",
       "300      428    open      seoul   79  20011017  93.54932   \n",
       "\n",
       "                 instkind          revenue1       salescost1  \\\n",
       "0        nursing_hospital  4217530010.00000          0.00000   \n",
       "1        general_hospital               nan              nan   \n",
       "2        nursing_hospital  1004521989.00000  515483669.00000   \n",
       "3        general_hospital 72507342181.00000          0.00000   \n",
       "4        general_hospital 49043538016.00000          0.00000   \n",
       "..                    ...               ...              ...   \n",
       "296      nursing_hospital  7614696536.00000  415347464.00000   \n",
       "297              hospital  6717143911.00000 8200000000.00000   \n",
       "298              hospital           0.00000          0.00000   \n",
       "299      nursing_hospital  2116892231.00000  268174808.00000   \n",
       "300  traditional_hospital  1340971077.00000  810845020.00000   \n",
       "\n",
       "                 sga1  ...        shortLoan2    NCLiabilities2  \\\n",
       "0    3961134739.00000  ...           0.00000   536116887.00000   \n",
       "1                 nan  ...               nan               nan   \n",
       "2     447219722.00000  ...           0.00000           0.00000   \n",
       "3   70677397660.00000  ...  9219427379.00000 20736413926.00000   \n",
       "4   47656051197.00000  ... 17593752360.00000 21360007048.00000   \n",
       "..                ...  ...               ...               ...   \n",
       "296  5903119133.00000  ...           0.00000  6805569802.00000   \n",
       "297           0.00000  ...           0.00000           0.00000   \n",
       "298    54794278.00000  ...           0.00000  4199124465.00000   \n",
       "299  3286244912.00000  ...           0.00000           0.00000   \n",
       "300   504340856.00000  ...           0.00000  2225928412.00000   \n",
       "\n",
       "            longLoan2         netAsset2         surplus2  employee1  \\\n",
       "0     390000000.00000  2619290493.00000 1271224493.00000   62.00000   \n",
       "1                 nan               nan              nan  801.00000   \n",
       "2             0.00000           0.00000          0.00000  234.00000   \n",
       "3   15100000000.00000 12954271998.00000 7740829037.00000  663.00000   \n",
       "4   14108027465.00000     5561941.00000 9025549604.00000  206.00000   \n",
       "..                ...               ...              ...        ...   \n",
       "296  5930000000.00000  5379501732.00000  811641602.00000  193.00000   \n",
       "297           0.00000           0.00000          0.00000   79.00000   \n",
       "298  2498749346.00000  3259161079.00000          0.00000   84.33333   \n",
       "299           0.00000           0.00000          0.00000  100.00000   \n",
       "300  2190000000.00000  5536177777.00000 6269440000.00000   15.00000   \n",
       "\n",
       "     employee2  ownerChange  newinstkind  newbedcount  \n",
       "0     64.00000         same            4            2  \n",
       "1    813.00000         same            4            3  \n",
       "2      1.00000         same            4            3  \n",
       "3    663.00000         same            4            3  \n",
       "4    197.00000         same            4            2  \n",
       "..         ...          ...          ...          ...  \n",
       "296  141.00000         same            4            3  \n",
       "297   79.00000         same            4            2  \n",
       "298   88.66667          NaN            4            2  \n",
       "299        nan          NaN            4            2  \n",
       "300   15.00000         same            3            1  \n",
       "\n",
       "[301 rows x 60 columns]"
      ]
     },
     "execution_count": 15,
     "metadata": {},
     "output_type": "execute_result"
    }
   ],
   "source": [
    "li = []\n",
    "for bed in newdf['bedCount'] :\n",
    "    if bed == 0 :\n",
    "        li.append(0)\n",
    "    elif bed < 100 :\n",
    "        li.append(1)\n",
    "    elif bed < 200 :\n",
    "        li.append(2)\n",
    "    else :\n",
    "        li.append(3)\n",
    "        \n",
    "newdf['newbedcount'] = li\n",
    "newdf"
   ]
  },
  {
   "cell_type": "markdown",
   "metadata": {},
   "source": [
    "### 3 ) grouping, nan 채워주기"
   ]
  },
  {
   "cell_type": "code",
   "execution_count": 16,
   "metadata": {
    "ExecuteTime": {
     "end_time": "2020-07-23T05:15:17.647853Z",
     "start_time": "2020-07-23T05:15:17.599820Z"
    },
    "scrolled": true
   },
   "outputs": [
    {
     "data": {
      "text/html": [
       "<div>\n",
       "<style scoped>\n",
       "    .dataframe tbody tr th:only-of-type {\n",
       "        vertical-align: middle;\n",
       "    }\n",
       "\n",
       "    .dataframe tbody tr th {\n",
       "        vertical-align: top;\n",
       "    }\n",
       "\n",
       "    .dataframe thead th {\n",
       "        text-align: right;\n",
       "    }\n",
       "</style>\n",
       "<table border=\"1\" class=\"dataframe\">\n",
       "  <thead>\n",
       "    <tr style=\"text-align: right;\">\n",
       "      <th></th>\n",
       "      <th></th>\n",
       "      <th>inst_id</th>\n",
       "      <th>sgg</th>\n",
       "      <th>openDate</th>\n",
       "      <th>bedCount</th>\n",
       "      <th>revenue1</th>\n",
       "      <th>salescost1</th>\n",
       "      <th>sga1</th>\n",
       "      <th>salary1</th>\n",
       "      <th>noi1</th>\n",
       "      <th>noe1</th>\n",
       "      <th>...</th>\n",
       "      <th>receivableL2</th>\n",
       "      <th>debt2</th>\n",
       "      <th>liquidLiabilities2</th>\n",
       "      <th>shortLoan2</th>\n",
       "      <th>NCLiabilities2</th>\n",
       "      <th>longLoan2</th>\n",
       "      <th>netAsset2</th>\n",
       "      <th>surplus2</th>\n",
       "      <th>employee1</th>\n",
       "      <th>employee2</th>\n",
       "    </tr>\n",
       "    <tr>\n",
       "      <th>newinstkind</th>\n",
       "      <th>newbedcount</th>\n",
       "      <th></th>\n",
       "      <th></th>\n",
       "      <th></th>\n",
       "      <th></th>\n",
       "      <th></th>\n",
       "      <th></th>\n",
       "      <th></th>\n",
       "      <th></th>\n",
       "      <th></th>\n",
       "      <th></th>\n",
       "      <th></th>\n",
       "      <th></th>\n",
       "      <th></th>\n",
       "      <th></th>\n",
       "      <th></th>\n",
       "      <th></th>\n",
       "      <th></th>\n",
       "      <th></th>\n",
       "      <th></th>\n",
       "      <th></th>\n",
       "      <th></th>\n",
       "    </tr>\n",
       "  </thead>\n",
       "  <tbody>\n",
       "    <tr>\n",
       "      <th>1</th>\n",
       "      <th>0</th>\n",
       "      <td>212.80000</td>\n",
       "      <td>74.00000</td>\n",
       "      <td>20096492.80000</td>\n",
       "      <td>0.00000</td>\n",
       "      <td>8497826658.20000</td>\n",
       "      <td>3670857873.20000</td>\n",
       "      <td>4252937347.80000</td>\n",
       "      <td>2179236281.60000</td>\n",
       "      <td>39528199.40000</td>\n",
       "      <td>227444101.40000</td>\n",
       "      <td>...</td>\n",
       "      <td>0.00000</td>\n",
       "      <td>4362834715.20000</td>\n",
       "      <td>2700549249.20000</td>\n",
       "      <td>1811108963.60000</td>\n",
       "      <td>1662285466.00000</td>\n",
       "      <td>1622929558.60000</td>\n",
       "      <td>2584250567.00000</td>\n",
       "      <td>0.00000</td>\n",
       "      <td>85.20000</td>\n",
       "      <td>84.40000</td>\n",
       "    </tr>\n",
       "    <tr>\n",
       "      <th rowspan=\"2\" valign=\"top\">2</th>\n",
       "      <th>0</th>\n",
       "      <td>260.92308</td>\n",
       "      <td>70.61538</td>\n",
       "      <td>20040772.38462</td>\n",
       "      <td>0.00000</td>\n",
       "      <td>23249502653.41667</td>\n",
       "      <td>12059560207.50000</td>\n",
       "      <td>10408227595.66667</td>\n",
       "      <td>2873124168.75000</td>\n",
       "      <td>157188525.58333</td>\n",
       "      <td>399887578.25000</td>\n",
       "      <td>...</td>\n",
       "      <td>0.00000</td>\n",
       "      <td>6673322122.91667</td>\n",
       "      <td>4448892981.75000</td>\n",
       "      <td>453182478.08333</td>\n",
       "      <td>2224762474.50000</td>\n",
       "      <td>450399458.83333</td>\n",
       "      <td>5462883517.16667</td>\n",
       "      <td>65936886.16667</td>\n",
       "      <td>105.31250</td>\n",
       "      <td>99.06731</td>\n",
       "    </tr>\n",
       "    <tr>\n",
       "      <th>1</th>\n",
       "      <td>307.20000</td>\n",
       "      <td>76.20000</td>\n",
       "      <td>20060692.80000</td>\n",
       "      <td>16.00000</td>\n",
       "      <td>3071256057.00000</td>\n",
       "      <td>240295767.60000</td>\n",
       "      <td>2580539668.80000</td>\n",
       "      <td>1431328486.00000</td>\n",
       "      <td>27104580.20000</td>\n",
       "      <td>141738873.60000</td>\n",
       "      <td>...</td>\n",
       "      <td>0.00000</td>\n",
       "      <td>1152410932.60000</td>\n",
       "      <td>314196602.40000</td>\n",
       "      <td>126000000.00000</td>\n",
       "      <td>838214330.20000</td>\n",
       "      <td>790000000.00000</td>\n",
       "      <td>1461657255.40000</td>\n",
       "      <td>7027082.00000</td>\n",
       "      <td>32.20000</td>\n",
       "      <td>30.60000</td>\n",
       "    </tr>\n",
       "    <tr>\n",
       "      <th rowspan=\"2\" valign=\"top\">3</th>\n",
       "      <th>1</th>\n",
       "      <td>254.28571</td>\n",
       "      <td>61.85714</td>\n",
       "      <td>19998960.14286</td>\n",
       "      <td>53.36419</td>\n",
       "      <td>3966556581.57143</td>\n",
       "      <td>464822148.14286</td>\n",
       "      <td>3208824623.57143</td>\n",
       "      <td>1859422505.71429</td>\n",
       "      <td>26344026.85714</td>\n",
       "      <td>169469005.14286</td>\n",
       "      <td>...</td>\n",
       "      <td>0.00000</td>\n",
       "      <td>3759818962.28571</td>\n",
       "      <td>1824881457.00000</td>\n",
       "      <td>914026469.42857</td>\n",
       "      <td>1934937505.28571</td>\n",
       "      <td>1679223142.85714</td>\n",
       "      <td>2620367473.00000</td>\n",
       "      <td>895634285.71429</td>\n",
       "      <td>38.33333</td>\n",
       "      <td>35.50000</td>\n",
       "    </tr>\n",
       "    <tr>\n",
       "      <th>2</th>\n",
       "      <td>107.00000</td>\n",
       "      <td>26.00000</td>\n",
       "      <td>19990805.00000</td>\n",
       "      <td>122.15142</td>\n",
       "      <td>4131857876.00000</td>\n",
       "      <td>143611800.00000</td>\n",
       "      <td>3529097014.00000</td>\n",
       "      <td>2198043355.00000</td>\n",
       "      <td>56630198.00000</td>\n",
       "      <td>228194537.00000</td>\n",
       "      <td>...</td>\n",
       "      <td>0.00000</td>\n",
       "      <td>2658296224.00000</td>\n",
       "      <td>2632717442.00000</td>\n",
       "      <td>2442950671.00000</td>\n",
       "      <td>25578782.00000</td>\n",
       "      <td>0.00000</td>\n",
       "      <td>2487828487.00000</td>\n",
       "      <td>0.00000</td>\n",
       "      <td>85.00000</td>\n",
       "      <td>74.00000</td>\n",
       "    </tr>\n",
       "    <tr>\n",
       "      <th rowspan=\"4\" valign=\"top\">4</th>\n",
       "      <th>0</th>\n",
       "      <td>305.50000</td>\n",
       "      <td>101.00000</td>\n",
       "      <td>20005634.25000</td>\n",
       "      <td>0.00000</td>\n",
       "      <td>7678468361.00000</td>\n",
       "      <td>234186052.00000</td>\n",
       "      <td>6841983185.00000</td>\n",
       "      <td>3933229705.75000</td>\n",
       "      <td>98985262.75000</td>\n",
       "      <td>221655511.75000</td>\n",
       "      <td>...</td>\n",
       "      <td>0.00000</td>\n",
       "      <td>5237542616.75000</td>\n",
       "      <td>2056859630.75000</td>\n",
       "      <td>1073950304.75000</td>\n",
       "      <td>3180682986.00000</td>\n",
       "      <td>2426542500.00000</td>\n",
       "      <td>5869052393.75000</td>\n",
       "      <td>0.00000</td>\n",
       "      <td>96.25000</td>\n",
       "      <td>96.75000</td>\n",
       "    </tr>\n",
       "    <tr>\n",
       "      <th>1</th>\n",
       "      <td>235.53165</td>\n",
       "      <td>83.20253</td>\n",
       "      <td>20026227.64557</td>\n",
       "      <td>52.37404</td>\n",
       "      <td>8871353533.57692</td>\n",
       "      <td>1267852399.23077</td>\n",
       "      <td>7217010324.96154</td>\n",
       "      <td>4057111961.84615</td>\n",
       "      <td>243781726.02564</td>\n",
       "      <td>417673428.43590</td>\n",
       "      <td>...</td>\n",
       "      <td>0.00000</td>\n",
       "      <td>6432857724.14103</td>\n",
       "      <td>2236107525.17949</td>\n",
       "      <td>1103782564.16667</td>\n",
       "      <td>4196750198.96154</td>\n",
       "      <td>1863466631.23077</td>\n",
       "      <td>5403561784.62821</td>\n",
       "      <td>1672540528.85897</td>\n",
       "      <td>87.94636</td>\n",
       "      <td>87.08892</td>\n",
       "    </tr>\n",
       "    <tr>\n",
       "      <th>2</th>\n",
       "      <td>220.07200</td>\n",
       "      <td>78.13600</td>\n",
       "      <td>20073640.57600</td>\n",
       "      <td>153.36463</td>\n",
       "      <td>9342707571.12800</td>\n",
       "      <td>777953929.89600</td>\n",
       "      <td>8118239599.88800</td>\n",
       "      <td>4289142850.39200</td>\n",
       "      <td>135224079.24000</td>\n",
       "      <td>363217696.16000</td>\n",
       "      <td>...</td>\n",
       "      <td>521938.48000</td>\n",
       "      <td>6578119297.52800</td>\n",
       "      <td>3206139647.28800</td>\n",
       "      <td>1388116028.63200</td>\n",
       "      <td>3418089781.65600</td>\n",
       "      <td>2515608582.76800</td>\n",
       "      <td>2743630594.79200</td>\n",
       "      <td>414144897.20800</td>\n",
       "      <td>108.68060</td>\n",
       "      <td>105.81511</td>\n",
       "    </tr>\n",
       "    <tr>\n",
       "      <th>3</th>\n",
       "      <td>172.88710</td>\n",
       "      <td>89.04839</td>\n",
       "      <td>20040141.58065</td>\n",
       "      <td>319.30645</td>\n",
       "      <td>27055301918.64286</td>\n",
       "      <td>4029021226.78571</td>\n",
       "      <td>22094160215.98214</td>\n",
       "      <td>12867513307.12500</td>\n",
       "      <td>718265023.62500</td>\n",
       "      <td>1124439156.08929</td>\n",
       "      <td>...</td>\n",
       "      <td>0.00000</td>\n",
       "      <td>16163833096.42857</td>\n",
       "      <td>8283435335.53571</td>\n",
       "      <td>2760260022.44643</td>\n",
       "      <td>8749557454.50000</td>\n",
       "      <td>5273074098.89286</td>\n",
       "      <td>11620283518.91072</td>\n",
       "      <td>1739569162.03571</td>\n",
       "      <td>310.92038</td>\n",
       "      <td>283.82653</td>\n",
       "    </tr>\n",
       "  </tbody>\n",
       "</table>\n",
       "<p>9 rows × 54 columns</p>\n",
       "</div>"
      ],
      "text/plain": [
       "                          inst_id       sgg       openDate  bedCount  \\\n",
       "newinstkind newbedcount                                                \n",
       "1           0           212.80000  74.00000 20096492.80000   0.00000   \n",
       "2           0           260.92308  70.61538 20040772.38462   0.00000   \n",
       "            1           307.20000  76.20000 20060692.80000  16.00000   \n",
       "3           1           254.28571  61.85714 19998960.14286  53.36419   \n",
       "            2           107.00000  26.00000 19990805.00000 122.15142   \n",
       "4           0           305.50000 101.00000 20005634.25000   0.00000   \n",
       "            1           235.53165  83.20253 20026227.64557  52.37404   \n",
       "            2           220.07200  78.13600 20073640.57600 153.36463   \n",
       "            3           172.88710  89.04839 20040141.58065 319.30645   \n",
       "\n",
       "                                 revenue1        salescost1              sga1  \\\n",
       "newinstkind newbedcount                                                         \n",
       "1           0            8497826658.20000  3670857873.20000  4252937347.80000   \n",
       "2           0           23249502653.41667 12059560207.50000 10408227595.66667   \n",
       "            1            3071256057.00000   240295767.60000  2580539668.80000   \n",
       "3           1            3966556581.57143   464822148.14286  3208824623.57143   \n",
       "            2            4131857876.00000   143611800.00000  3529097014.00000   \n",
       "4           0            7678468361.00000   234186052.00000  6841983185.00000   \n",
       "            1            8871353533.57692  1267852399.23077  7217010324.96154   \n",
       "            2            9342707571.12800   777953929.89600  8118239599.88800   \n",
       "            3           27055301918.64286  4029021226.78571 22094160215.98214   \n",
       "\n",
       "                                  salary1            noi1             noe1  \\\n",
       "newinstkind newbedcount                                                      \n",
       "1           0            2179236281.60000  39528199.40000  227444101.40000   \n",
       "2           0            2873124168.75000 157188525.58333  399887578.25000   \n",
       "            1            1431328486.00000  27104580.20000  141738873.60000   \n",
       "3           1            1859422505.71429  26344026.85714  169469005.14286   \n",
       "            2            2198043355.00000  56630198.00000  228194537.00000   \n",
       "4           0            3933229705.75000  98985262.75000  221655511.75000   \n",
       "            1            4057111961.84615 243781726.02564  417673428.43590   \n",
       "            2            4289142850.39200 135224079.24000  363217696.16000   \n",
       "            3           12867513307.12500 718265023.62500 1124439156.08929   \n",
       "\n",
       "                         ...  receivableL2             debt2  \\\n",
       "newinstkind newbedcount  ...                                   \n",
       "1           0            ...       0.00000  4362834715.20000   \n",
       "2           0            ...       0.00000  6673322122.91667   \n",
       "            1            ...       0.00000  1152410932.60000   \n",
       "3           1            ...       0.00000  3759818962.28571   \n",
       "            2            ...       0.00000  2658296224.00000   \n",
       "4           0            ...       0.00000  5237542616.75000   \n",
       "            1            ...       0.00000  6432857724.14103   \n",
       "            2            ...  521938.48000  6578119297.52800   \n",
       "            3            ...       0.00000 16163833096.42857   \n",
       "\n",
       "                         liquidLiabilities2       shortLoan2   NCLiabilities2  \\\n",
       "newinstkind newbedcount                                                         \n",
       "1           0              2700549249.20000 1811108963.60000 1662285466.00000   \n",
       "2           0              4448892981.75000  453182478.08333 2224762474.50000   \n",
       "            1               314196602.40000  126000000.00000  838214330.20000   \n",
       "3           1              1824881457.00000  914026469.42857 1934937505.28571   \n",
       "            2              2632717442.00000 2442950671.00000   25578782.00000   \n",
       "4           0              2056859630.75000 1073950304.75000 3180682986.00000   \n",
       "            1              2236107525.17949 1103782564.16667 4196750198.96154   \n",
       "            2              3206139647.28800 1388116028.63200 3418089781.65600   \n",
       "            3              8283435335.53571 2760260022.44643 8749557454.50000   \n",
       "\n",
       "                               longLoan2         netAsset2         surplus2  \\\n",
       "newinstkind newbedcount                                                       \n",
       "1           0           1622929558.60000  2584250567.00000          0.00000   \n",
       "2           0            450399458.83333  5462883517.16667   65936886.16667   \n",
       "            1            790000000.00000  1461657255.40000    7027082.00000   \n",
       "3           1           1679223142.85714  2620367473.00000  895634285.71429   \n",
       "            2                    0.00000  2487828487.00000          0.00000   \n",
       "4           0           2426542500.00000  5869052393.75000          0.00000   \n",
       "            1           1863466631.23077  5403561784.62821 1672540528.85897   \n",
       "            2           2515608582.76800  2743630594.79200  414144897.20800   \n",
       "            3           5273074098.89286 11620283518.91072 1739569162.03571   \n",
       "\n",
       "                         employee1  employee2  \n",
       "newinstkind newbedcount                        \n",
       "1           0             85.20000   84.40000  \n",
       "2           0            105.31250   99.06731  \n",
       "            1             32.20000   30.60000  \n",
       "3           1             38.33333   35.50000  \n",
       "            2             85.00000   74.00000  \n",
       "4           0             96.25000   96.75000  \n",
       "            1             87.94636   87.08892  \n",
       "            2            108.68060  105.81511  \n",
       "            3            310.92038  283.82653  \n",
       "\n",
       "[9 rows x 54 columns]"
      ]
     },
     "execution_count": 16,
     "metadata": {},
     "output_type": "execute_result"
    }
   ],
   "source": [
    "tmp = newdf.groupby(['newinstkind', 'newbedcount']).mean()\n",
    "tmp"
   ]
  },
  {
   "cell_type": "code",
   "execution_count": 17,
   "metadata": {
    "ExecuteTime": {
     "end_time": "2020-07-23T05:15:19.535197Z",
     "start_time": "2020-07-23T05:15:19.528198Z"
    }
   },
   "outputs": [],
   "source": [
    "fill_columns = ['revenue1', 'salescost1', 'sga1', 'salary1', 'noi1', 'noe1',\n",
    "       'interest1', 'ctax1', 'profit1', 'liquidAsset1', 'quickAsset1',\n",
    "       'receivableS1', 'inventoryAsset1', 'nonCAsset1', 'tanAsset1',\n",
    "       'OnonCAsset1', 'receivableL1', 'debt1', 'liquidLiabilities1',\n",
    "       'shortLoan1', 'NCLiabilities1', 'longLoan1', 'netAsset1', 'surplus1',\n",
    "       'revenue2', 'salescost2', 'sga2', 'salary2', 'noi2', 'noe2',\n",
    "       'interest2', 'ctax2', 'profit2', 'liquidAsset2', 'quickAsset2',\n",
    "       'receivableS2', 'inventoryAsset2', 'nonCAsset2', 'tanAsset2',\n",
    "       'OnonCAsset2', 'receivableL2', 'debt2', 'liquidLiabilities2',\n",
    "       'shortLoan2', 'NCLiabilities2', 'longLoan2', 'netAsset2', 'surplus2']"
   ]
  },
  {
   "cell_type": "code",
   "execution_count": 18,
   "metadata": {
    "ExecuteTime": {
     "end_time": "2020-07-23T05:15:20.229693Z",
     "start_time": "2020-07-23T05:15:20.215684Z"
    },
    "scrolled": true
   },
   "outputs": [],
   "source": [
    "tmp43 = tmp.iloc[8][fill_columns]\n",
    "\n",
    "tmp43 = pd.DataFrame(tmp43.values,\n",
    "            index = [fill_columns]).transpose()\n",
    "\n",
    "tmp43.columns = fill_columns"
   ]
  },
  {
   "cell_type": "code",
   "execution_count": 19,
   "metadata": {
    "ExecuteTime": {
     "end_time": "2020-07-23T05:15:21.408533Z",
     "start_time": "2020-07-23T05:15:21.397526Z"
    }
   },
   "outputs": [],
   "source": [
    "tmp41 = tmp.iloc[6][fill_columns]\n",
    "\n",
    "tmp41 = pd.DataFrame(tmp41.values,\n",
    "            index = [fill_columns]).transpose()\n",
    "\n",
    "tmp41.columns = fill_columns"
   ]
  },
  {
   "cell_type": "code",
   "execution_count": 20,
   "metadata": {
    "ExecuteTime": {
     "end_time": "2020-07-23T05:15:22.279153Z",
     "start_time": "2020-07-23T05:15:22.265143Z"
    }
   },
   "outputs": [],
   "source": [
    "tmp20 = tmp.iloc[1][fill_columns]\n",
    "\n",
    "tmp20 = pd.DataFrame(tmp20.values,\n",
    "            index = [fill_columns]).transpose()\n",
    "\n",
    "tmp20.columns = fill_columns"
   ]
  },
  {
   "cell_type": "code",
   "execution_count": 443,
   "metadata": {
    "ExecuteTime": {
     "end_time": "2020-07-22T16:01:32.290353Z",
     "start_time": "2020-07-22T16:01:32.236312Z"
    }
   },
   "outputs": [
    {
     "data": {
      "text/html": [
       "<div>\n",
       "<style scoped>\n",
       "    .dataframe tbody tr th:only-of-type {\n",
       "        vertical-align: middle;\n",
       "    }\n",
       "\n",
       "    .dataframe tbody tr th {\n",
       "        vertical-align: top;\n",
       "    }\n",
       "\n",
       "    .dataframe thead th {\n",
       "        text-align: right;\n",
       "    }\n",
       "</style>\n",
       "<table border=\"1\" class=\"dataframe\">\n",
       "  <thead>\n",
       "    <tr style=\"text-align: right;\">\n",
       "      <th></th>\n",
       "      <th>inst_id</th>\n",
       "      <th>OC</th>\n",
       "      <th>sido</th>\n",
       "      <th>sgg</th>\n",
       "      <th>openDate</th>\n",
       "      <th>bedCount</th>\n",
       "      <th>instkind</th>\n",
       "      <th>revenue1</th>\n",
       "      <th>salescost1</th>\n",
       "      <th>sga1</th>\n",
       "      <th>...</th>\n",
       "      <th>shortLoan2</th>\n",
       "      <th>NCLiabilities2</th>\n",
       "      <th>longLoan2</th>\n",
       "      <th>netAsset2</th>\n",
       "      <th>surplus2</th>\n",
       "      <th>employee1</th>\n",
       "      <th>employee2</th>\n",
       "      <th>ownerChange</th>\n",
       "      <th>newinstkind</th>\n",
       "      <th>newbedcount</th>\n",
       "    </tr>\n",
       "  </thead>\n",
       "  <tbody>\n",
       "    <tr>\n",
       "      <th>1</th>\n",
       "      <td>3</td>\n",
       "      <td>open</td>\n",
       "      <td>gyeongnam</td>\n",
       "      <td>32</td>\n",
       "      <td>19970401</td>\n",
       "      <td>410.00000</td>\n",
       "      <td>general_hospital</td>\n",
       "      <td>nan</td>\n",
       "      <td>nan</td>\n",
       "      <td>nan</td>\n",
       "      <td>...</td>\n",
       "      <td>nan</td>\n",
       "      <td>nan</td>\n",
       "      <td>nan</td>\n",
       "      <td>nan</td>\n",
       "      <td>nan</td>\n",
       "      <td>801.00000</td>\n",
       "      <td>813.00000</td>\n",
       "      <td>same</td>\n",
       "      <td>4</td>\n",
       "      <td>3</td>\n",
       "    </tr>\n",
       "    <tr>\n",
       "      <th>14</th>\n",
       "      <td>26</td>\n",
       "      <td>open</td>\n",
       "      <td>ulsan</td>\n",
       "      <td>127</td>\n",
       "      <td>20160531</td>\n",
       "      <td>237.00000</td>\n",
       "      <td>general_hospital</td>\n",
       "      <td>nan</td>\n",
       "      <td>nan</td>\n",
       "      <td>nan</td>\n",
       "      <td>...</td>\n",
       "      <td>nan</td>\n",
       "      <td>nan</td>\n",
       "      <td>nan</td>\n",
       "      <td>nan</td>\n",
       "      <td>nan</td>\n",
       "      <td>951.00000</td>\n",
       "      <td>901.00000</td>\n",
       "      <td>same</td>\n",
       "      <td>4</td>\n",
       "      <td>3</td>\n",
       "    </tr>\n",
       "    <tr>\n",
       "      <th>32</th>\n",
       "      <td>55</td>\n",
       "      <td>open</td>\n",
       "      <td>incheon</td>\n",
       "      <td>141</td>\n",
       "      <td>19930708</td>\n",
       "      <td>232.00000</td>\n",
       "      <td>general_hospital</td>\n",
       "      <td>nan</td>\n",
       "      <td>nan</td>\n",
       "      <td>nan</td>\n",
       "      <td>...</td>\n",
       "      <td>nan</td>\n",
       "      <td>nan</td>\n",
       "      <td>nan</td>\n",
       "      <td>nan</td>\n",
       "      <td>nan</td>\n",
       "      <td>323.00000</td>\n",
       "      <td>323.00000</td>\n",
       "      <td>same</td>\n",
       "      <td>4</td>\n",
       "      <td>3</td>\n",
       "    </tr>\n",
       "    <tr>\n",
       "      <th>55</th>\n",
       "      <td>87</td>\n",
       "      <td>open</td>\n",
       "      <td>gyeonggi</td>\n",
       "      <td>120</td>\n",
       "      <td>20130314</td>\n",
       "      <td>327.00000</td>\n",
       "      <td>nursing_hospital</td>\n",
       "      <td>nan</td>\n",
       "      <td>nan</td>\n",
       "      <td>nan</td>\n",
       "      <td>...</td>\n",
       "      <td>nan</td>\n",
       "      <td>nan</td>\n",
       "      <td>nan</td>\n",
       "      <td>nan</td>\n",
       "      <td>nan</td>\n",
       "      <td>200.00000</td>\n",
       "      <td>203.00000</td>\n",
       "      <td>same</td>\n",
       "      <td>4</td>\n",
       "      <td>3</td>\n",
       "    </tr>\n",
       "    <tr>\n",
       "      <th>60</th>\n",
       "      <td>94</td>\n",
       "      <td>open</td>\n",
       "      <td>gangwon</td>\n",
       "      <td>128</td>\n",
       "      <td>20031201</td>\n",
       "      <td>244.00000</td>\n",
       "      <td>nursing_hospital</td>\n",
       "      <td>nan</td>\n",
       "      <td>nan</td>\n",
       "      <td>nan</td>\n",
       "      <td>...</td>\n",
       "      <td>nan</td>\n",
       "      <td>nan</td>\n",
       "      <td>nan</td>\n",
       "      <td>nan</td>\n",
       "      <td>nan</td>\n",
       "      <td>94.72993</td>\n",
       "      <td>90.75182</td>\n",
       "      <td>NaN</td>\n",
       "      <td>4</td>\n",
       "      <td>3</td>\n",
       "    </tr>\n",
       "    <tr>\n",
       "      <th>248</th>\n",
       "      <td>353</td>\n",
       "      <td>open</td>\n",
       "      <td>gyeonggi</td>\n",
       "      <td>81</td>\n",
       "      <td>20040303</td>\n",
       "      <td>255.00000</td>\n",
       "      <td>general_hospital</td>\n",
       "      <td>nan</td>\n",
       "      <td>nan</td>\n",
       "      <td>nan</td>\n",
       "      <td>...</td>\n",
       "      <td>nan</td>\n",
       "      <td>nan</td>\n",
       "      <td>nan</td>\n",
       "      <td>nan</td>\n",
       "      <td>nan</td>\n",
       "      <td>255.00000</td>\n",
       "      <td>244.00000</td>\n",
       "      <td>same</td>\n",
       "      <td>4</td>\n",
       "      <td>3</td>\n",
       "    </tr>\n",
       "    <tr>\n",
       "      <th>257</th>\n",
       "      <td>362</td>\n",
       "      <td>open</td>\n",
       "      <td>choongnam</td>\n",
       "      <td>94</td>\n",
       "      <td>19861212</td>\n",
       "      <td>50.00000</td>\n",
       "      <td>nursing_hospital</td>\n",
       "      <td>nan</td>\n",
       "      <td>nan</td>\n",
       "      <td>nan</td>\n",
       "      <td>...</td>\n",
       "      <td>nan</td>\n",
       "      <td>nan</td>\n",
       "      <td>nan</td>\n",
       "      <td>nan</td>\n",
       "      <td>nan</td>\n",
       "      <td>93.00000</td>\n",
       "      <td>89.00000</td>\n",
       "      <td>same</td>\n",
       "      <td>4</td>\n",
       "      <td>1</td>\n",
       "    </tr>\n",
       "    <tr>\n",
       "      <th>258</th>\n",
       "      <td>363</td>\n",
       "      <td>open</td>\n",
       "      <td>gyeongbuk</td>\n",
       "      <td>95</td>\n",
       "      <td>20141219</td>\n",
       "      <td>0.00000</td>\n",
       "      <td>clinic</td>\n",
       "      <td>nan</td>\n",
       "      <td>nan</td>\n",
       "      <td>nan</td>\n",
       "      <td>...</td>\n",
       "      <td>nan</td>\n",
       "      <td>nan</td>\n",
       "      <td>nan</td>\n",
       "      <td>nan</td>\n",
       "      <td>nan</td>\n",
       "      <td>89.06250</td>\n",
       "      <td>83.87500</td>\n",
       "      <td>NaN</td>\n",
       "      <td>2</td>\n",
       "      <td>0</td>\n",
       "    </tr>\n",
       "  </tbody>\n",
       "</table>\n",
       "<p>8 rows × 60 columns</p>\n",
       "</div>"
      ],
      "text/plain": [
       "     inst_id    OC       sido  sgg  openDate  bedCount          instkind  \\\n",
       "1          3  open  gyeongnam   32  19970401 410.00000  general_hospital   \n",
       "14        26  open      ulsan  127  20160531 237.00000  general_hospital   \n",
       "32        55  open    incheon  141  19930708 232.00000  general_hospital   \n",
       "55        87  open   gyeonggi  120  20130314 327.00000  nursing_hospital   \n",
       "60        94  open    gangwon  128  20031201 244.00000  nursing_hospital   \n",
       "248      353  open   gyeonggi   81  20040303 255.00000  general_hospital   \n",
       "257      362  open  choongnam   94  19861212  50.00000  nursing_hospital   \n",
       "258      363  open  gyeongbuk   95  20141219   0.00000            clinic   \n",
       "\n",
       "     revenue1  salescost1  sga1  ...  shortLoan2  NCLiabilities2  longLoan2  \\\n",
       "1         nan         nan   nan  ...         nan             nan        nan   \n",
       "14        nan         nan   nan  ...         nan             nan        nan   \n",
       "32        nan         nan   nan  ...         nan             nan        nan   \n",
       "55        nan         nan   nan  ...         nan             nan        nan   \n",
       "60        nan         nan   nan  ...         nan             nan        nan   \n",
       "248       nan         nan   nan  ...         nan             nan        nan   \n",
       "257       nan         nan   nan  ...         nan             nan        nan   \n",
       "258       nan         nan   nan  ...         nan             nan        nan   \n",
       "\n",
       "     netAsset2  surplus2  employee1  employee2  ownerChange  newinstkind  \\\n",
       "1          nan       nan  801.00000  813.00000         same            4   \n",
       "14         nan       nan  951.00000  901.00000         same            4   \n",
       "32         nan       nan  323.00000  323.00000         same            4   \n",
       "55         nan       nan  200.00000  203.00000         same            4   \n",
       "60         nan       nan   94.72993   90.75182          NaN            4   \n",
       "248        nan       nan  255.00000  244.00000         same            4   \n",
       "257        nan       nan   93.00000   89.00000         same            4   \n",
       "258        nan       nan   89.06250   83.87500          NaN            2   \n",
       "\n",
       "     newbedcount  \n",
       "1              3  \n",
       "14             3  \n",
       "32             3  \n",
       "55             3  \n",
       "60             3  \n",
       "248            3  \n",
       "257            1  \n",
       "258            0  \n",
       "\n",
       "[8 rows x 60 columns]"
      ]
     },
     "execution_count": 443,
     "metadata": {},
     "output_type": "execute_result"
    }
   ],
   "source": [
    "newdf.loc[newdf['revenue1'].isnull()]"
   ]
  },
  {
   "cell_type": "code",
   "execution_count": 21,
   "metadata": {
    "ExecuteTime": {
     "end_time": "2020-07-23T05:15:24.327612Z",
     "start_time": "2020-07-23T05:15:24.208532Z"
    },
    "scrolled": true
   },
   "outputs": [
    {
     "name": "stderr",
     "output_type": "stream",
     "text": [
      "C:\\python\\envs\\cpu_env\\lib\\site-packages\\ipykernel_launcher.py:5: SettingWithCopyWarning: \n",
      "A value is trying to be set on a copy of a slice from a DataFrame\n",
      "\n",
      "See the caveats in the documentation: http://pandas.pydata.org/pandas-docs/stable/user_guide/indexing.html#returning-a-view-versus-a-copy\n",
      "  \"\"\"\n",
      "C:\\python\\envs\\cpu_env\\lib\\site-packages\\ipykernel_launcher.py:8: SettingWithCopyWarning: \n",
      "A value is trying to be set on a copy of a slice from a DataFrame\n",
      "\n",
      "See the caveats in the documentation: http://pandas.pydata.org/pandas-docs/stable/user_guide/indexing.html#returning-a-view-versus-a-copy\n",
      "  \n",
      "C:\\python\\envs\\cpu_env\\lib\\site-packages\\ipykernel_launcher.py:11: SettingWithCopyWarning: \n",
      "A value is trying to be set on a copy of a slice from a DataFrame\n",
      "\n",
      "See the caveats in the documentation: http://pandas.pydata.org/pandas-docs/stable/user_guide/indexing.html#returning-a-view-versus-a-copy\n",
      "  # This is added back by InteractiveShellApp.init_path()\n"
     ]
    }
   ],
   "source": [
    "# 1, 14, 32, 55, 60, 248\n",
    "idx_nums = [1, 14, 32, 55, 60, 248]\n",
    "for idx in idx_nums :\n",
    "    for col in fill_columns :\n",
    "        newdf[col][idx] = tmp43[col]\n",
    "\n",
    "for col in fill_columns :\n",
    "    newdf[col][257] = tmp41[col]\n",
    "    \n",
    "for col in fill_columns :\n",
    "    newdf[col][258] = tmp20[col]"
   ]
  },
  {
   "cell_type": "markdown",
   "metadata": {},
   "source": [
    "## employee2 결측치 제거"
   ]
  },
  {
   "cell_type": "code",
   "execution_count": 22,
   "metadata": {
    "ExecuteTime": {
     "end_time": "2020-07-23T05:15:26.220962Z",
     "start_time": "2020-07-23T05:15:26.211955Z"
    }
   },
   "outputs": [],
   "source": [
    "employee2_nandf = newdf.loc[newdf['employee2'].isnull(), : ]\n",
    "employee2_df = newdf.drop(employee2_nandf.index)"
   ]
  },
  {
   "cell_type": "code",
   "execution_count": 23,
   "metadata": {
    "ExecuteTime": {
     "end_time": "2020-07-23T05:15:27.493869Z",
     "start_time": "2020-07-23T05:15:27.484868Z"
    }
   },
   "outputs": [],
   "source": [
    "X_train = employee2_df[['employee1']]\n",
    "y_train = employee2_df[['employee2']]\n",
    "X_test = employee2_nandf[['employee1']]"
   ]
  },
  {
   "cell_type": "code",
   "execution_count": 24,
   "metadata": {
    "ExecuteTime": {
     "end_time": "2020-07-23T05:15:28.455554Z",
     "start_time": "2020-07-23T05:15:28.445547Z"
    },
    "scrolled": true
   },
   "outputs": [],
   "source": [
    "from sklearn.linear_model import LinearRegression\n",
    "model = LinearRegression()\n",
    "model.fit(X_train, y_train)\n",
    "prediction = model.predict(X_test)"
   ]
  },
  {
   "cell_type": "code",
   "execution_count": 25,
   "metadata": {
    "ExecuteTime": {
     "end_time": "2020-07-23T05:15:29.660430Z",
     "start_time": "2020-07-23T05:15:29.639399Z"
    }
   },
   "outputs": [
    {
     "name": "stderr",
     "output_type": "stream",
     "text": [
      "C:\\python\\envs\\cpu_env\\lib\\site-packages\\ipykernel_launcher.py:1: SettingWithCopyWarning: \n",
      "A value is trying to be set on a copy of a slice from a DataFrame.\n",
      "Try using .loc[row_indexer,col_indexer] = value instead\n",
      "\n",
      "See the caveats in the documentation: http://pandas.pydata.org/pandas-docs/stable/user_guide/indexing.html#returning-a-view-versus-a-copy\n",
      "  \"\"\"Entry point for launching an IPython kernel.\n"
     ]
    }
   ],
   "source": [
    "employee2_nandf['employee2'] = prediction\n",
    "newdf = pd.concat([employee2_df, employee2_nandf]).sort_index(axis=0)"
   ]
  },
  {
   "cell_type": "markdown",
   "metadata": {
    "heading_collapsed": true
   },
   "source": [
    "## ownerChange 결측치 제거"
   ]
  },
  {
   "cell_type": "markdown",
   "metadata": {
    "ExecuteTime": {
     "end_time": "2020-07-22T13:56:17.635018Z",
     "start_time": "2020-07-22T13:56:17.532946Z"
    },
    "hidden": true
   },
   "source": [
    "4 / 12 : close, 8 / 12 : open\n",
    "- close : 2 : 2 = change, same \n",
    "- open : 7 : 1 = same : change\n",
    "\n",
    "3 / 12 : change, 9 / 12 : same"
   ]
  },
  {
   "cell_type": "code",
   "execution_count": 218,
   "metadata": {
    "ExecuteTime": {
     "end_time": "2020-07-22T14:03:19.530627Z",
     "start_time": "2020-07-22T14:03:19.518619Z"
    },
    "hidden": true,
    "scrolled": true
   },
   "outputs": [
    {
     "name": "stderr",
     "output_type": "stream",
     "text": [
      "C:\\python\\envs\\cpu_env\\lib\\site-packages\\ipykernel_launcher.py:1: SettingWithCopyWarning: \n",
      "A value is trying to be set on a copy of a slice from a DataFrame\n",
      "\n",
      "See the caveats in the documentation: http://pandas.pydata.org/pandas-docs/stable/user_guide/indexing.html#returning-a-view-versus-a-copy\n",
      "  \"\"\"Entry point for launching an IPython kernel.\n",
      "C:\\python\\envs\\cpu_env\\lib\\site-packages\\ipykernel_launcher.py:2: SettingWithCopyWarning: \n",
      "A value is trying to be set on a copy of a slice from a DataFrame\n",
      "\n",
      "See the caveats in the documentation: http://pandas.pydata.org/pandas-docs/stable/user_guide/indexing.html#returning-a-view-versus-a-copy\n",
      "  \n"
     ]
    }
   ],
   "source": [
    "newdf['ownerChange'][[48, 60, 62, 93, 206, 212, 242, 258, 263]] = 'same'\n",
    "newdf['ownerChange'][[285, 298, 299]] = 'change'"
   ]
  },
  {
   "cell_type": "markdown",
   "metadata": {
    "ExecuteTime": {
     "end_time": "2020-07-22T14:03:54.716697Z",
     "start_time": "2020-07-22T14:03:54.596612Z"
    }
   },
   "source": [
    "# 2. column생성 및 삭제"
   ]
  },
  {
   "cell_type": "markdown",
   "metadata": {},
   "source": [
    "## 식 계산"
   ]
  },
  {
   "cell_type": "code",
   "execution_count": 26,
   "metadata": {
    "ExecuteTime": {
     "end_time": "2020-07-23T05:15:31.171507Z",
     "start_time": "2020-07-23T05:15:31.116456Z"
    },
    "scrolled": true
   },
   "outputs": [],
   "source": [
    "newdf['currentRatio1'] = newdf['liquidAsset1'] / (newdf['liquidLiabilities1']+1)\n",
    "newdf['currentRatio2'] = newdf['liquidAsset2'] / (newdf['liquidLiabilities2']+1)\n",
    "newdf[\"quickRatio1\"] = newdf[\"quickAsset1\"]/(newdf[\"liquidLiabilities1\"]+1)\n",
    "newdf[\"quickRatio2\"] = newdf[\"quickAsset2\"]/(newdf[\"liquidLiabilities2\"]+1)\n",
    "newdf[\"debtRatio1\"] = newdf[\"debt1\"]/(newdf[\"surplus1\"]+1)\n",
    "newdf[\"debtRatio2\"] = newdf[\"debt2\"]/(newdf[\"surplus2\"]+1)"
   ]
  },
  {
   "cell_type": "markdown",
   "metadata": {},
   "source": [
    "## 사용할 column 선택"
   ]
  },
  {
   "cell_type": "code",
   "execution_count": 27,
   "metadata": {
    "ExecuteTime": {
     "end_time": "2020-07-23T05:15:32.403367Z",
     "start_time": "2020-07-23T05:15:32.394363Z"
    }
   },
   "outputs": [],
   "source": [
    "usedf = newdf.loc[:,['inst_id', 'OC','employee1', 'employee2','newinstkind','newbedcount', 'currentRatio1', 'currentRatio2', 'quickRatio1',\n",
    "       'quickRatio2', 'debtRatio1', 'debtRatio2']] # 'ownerChange',"
   ]
  },
  {
   "cell_type": "markdown",
   "metadata": {},
   "source": [
    "### column type : object인 아이들 바꿔주자"
   ]
  },
  {
   "cell_type": "code",
   "execution_count": 28,
   "metadata": {
    "ExecuteTime": {
     "end_time": "2020-07-23T05:15:33.867411Z",
     "start_time": "2020-07-23T05:15:33.858404Z"
    },
    "scrolled": true
   },
   "outputs": [],
   "source": [
    "def oc_mapping(x) :\n",
    "    if x == 'open' : \n",
    "        return 1\n",
    "    else :\n",
    "        return 0\n",
    "\n",
    "usedf['OC'] = list(map(lambda x : oc_mapping(x), usedf['OC']))"
   ]
  },
  {
   "cell_type": "code",
   "execution_count": 364,
   "metadata": {
    "ExecuteTime": {
     "end_time": "2020-07-22T15:41:00.581739Z",
     "start_time": "2020-07-22T15:41:00.572729Z"
    }
   },
   "outputs": [],
   "source": [
    "def owner_mapping(x) :\n",
    "    if x == 'same' : \n",
    "        return 0\n",
    "    else :\n",
    "        return 1\n",
    "\n",
    "usedf['ownerChange'] = list(map(lambda x : owner_mapping(x), usedf['ownerChange']))"
   ]
  },
  {
   "cell_type": "markdown",
   "metadata": {},
   "source": [
    "# 3. test 데이터 전처리 "
   ]
  },
  {
   "cell_type": "code",
   "execution_count": 41,
   "metadata": {
    "ExecuteTime": {
     "end_time": "2020-07-23T05:17:01.755031Z",
     "start_time": "2020-07-23T05:17:01.738020Z"
    },
    "scrolled": true
   },
   "outputs": [],
   "source": [
    "testdf.employee1 = testdf.employee1.astype('str').str.replace(\",\", \"\").astype('float')\n",
    "testdf.employee2 = testdf.employee2.astype('str').str.replace(\",\", \"\").astype('float')"
   ]
  },
  {
   "cell_type": "markdown",
   "metadata": {},
   "source": [
    "## 1 ) bedCount"
   ]
  },
  {
   "cell_type": "code",
   "execution_count": 42,
   "metadata": {
    "ExecuteTime": {
     "end_time": "2020-07-23T05:17:02.974901Z",
     "start_time": "2020-07-23T05:17:02.928867Z"
    }
   },
   "outputs": [],
   "source": [
    "testdf.loc[testdf['employee1'].isnull(), : ]\n",
    "\n",
    "testdf.loc[2, ['employee1','employee2']] = [107.00000, 109.00000] # general_hospital\n",
    "testdf.loc[13, ['employee1','employee2']] = [127.01235, 117.02469] # hospital\n",
    "testdf.loc[22, ['employee1','employee2']] = [127.01235, 117.02469] # hospital\n",
    "testdf.loc[52, ['employee1','employee2']] = [94.72993, 90.75182] # nursing_hopital\n",
    "testdf.loc[88, ['employee1','employee2']] = [94.72993, 90.75182] # nursing_hopital\n",
    "testdf.loc[93, ['employee1','employee2']] = [94.72993, 90.75182] # nursing_hopital\n",
    "testdf.loc[124, ['employee1','employee2']] = [127.01235, 117.02469] # hospital\n",
    "testdf.loc[126, ['employee1','employee2']] = [127.01235, 117.02469] # hospital"
   ]
  },
  {
   "cell_type": "code",
   "execution_count": 43,
   "metadata": {
    "ExecuteTime": {
     "end_time": "2020-07-23T05:17:09.171316Z",
     "start_time": "2020-07-23T05:17:09.127286Z"
    }
   },
   "outputs": [
    {
     "name": "stderr",
     "output_type": "stream",
     "text": [
      "C:\\python\\envs\\cpu_env\\lib\\site-packages\\ipykernel_launcher.py:13: SettingWithCopyWarning: \n",
      "A value is trying to be set on a copy of a slice from a DataFrame.\n",
      "Try using .loc[row_indexer,col_indexer] = value instead\n",
      "\n",
      "See the caveats in the documentation: http://pandas.pydata.org/pandas-docs/stable/user_guide/indexing.html#returning-a-view-versus-a-copy\n",
      "  del sys.path[0]\n"
     ]
    }
   ],
   "source": [
    "bedCount_nandf = testdf.loc[testdf['bedCount'].isnull(), : ]\n",
    "bedCount_df = testdf.drop(bedCount_nandf.index)\n",
    "\n",
    "X_train = bedCount_df[['employee1']]\n",
    "y_train = bedCount_df[['bedCount']]\n",
    "X_test = bedCount_nandf[['employee1']]\n",
    "\n",
    "from sklearn.linear_model import LinearRegression\n",
    "model = LinearRegression()\n",
    "model.fit(X_train, y_train)\n",
    "prediction = model.predict(X_test)\n",
    "\n",
    "bedCount_nandf['bedCount'] = prediction\n",
    "\n",
    "testdf = pd.concat([bedCount_df, bedCount_nandf]).sort_index(axis=0)"
   ]
  },
  {
   "cell_type": "markdown",
   "metadata": {
    "ExecuteTime": {
     "end_time": "2020-07-22T15:19:39.595011Z",
     "start_time": "2020-07-22T15:19:39.579998Z"
    }
   },
   "source": [
    "## 2 )  instkind"
   ]
  },
  {
   "cell_type": "code",
   "execution_count": 44,
   "metadata": {
    "ExecuteTime": {
     "end_time": "2020-07-23T05:17:12.118416Z",
     "start_time": "2020-07-23T05:17:12.103406Z"
    }
   },
   "outputs": [],
   "source": [
    "testdf[testdf['instkind'].isnull()]\n",
    "\n",
    "testdf.loc[120, ['instkind']] = 'traditional_hospital'\n",
    "testdf.loc[125,['instkind']] = 'nursing_hospital'"
   ]
  },
  {
   "cell_type": "markdown",
   "metadata": {
    "ExecuteTime": {
     "end_time": "2020-07-22T15:19:43.605867Z",
     "start_time": "2020-07-22T15:19:43.599863Z"
    }
   },
   "source": [
    "## 3 ) 공통 2개 "
   ]
  },
  {
   "cell_type": "code",
   "execution_count": 45,
   "metadata": {
    "ExecuteTime": {
     "end_time": "2020-07-23T05:17:13.556441Z",
     "start_time": "2020-07-23T05:17:13.543431Z"
    }
   },
   "outputs": [],
   "source": [
    "testdf['newinstkind'] = list(map(lambda x : new_instkind(x), testdf['instkind']))\n",
    "\n",
    "li = []\n",
    "for bed in testdf['bedCount'] :\n",
    "    if bed == 0 :\n",
    "        li.append(0)\n",
    "    elif bed < 100 :\n",
    "        li.append(1)\n",
    "    elif bed < 200 :\n",
    "        li.append(2)\n",
    "    else :\n",
    "        li.append(3)\n",
    "        \n",
    "testdf['newbedcount'] = li"
   ]
  },
  {
   "cell_type": "code",
   "execution_count": 46,
   "metadata": {
    "ExecuteTime": {
     "end_time": "2020-07-23T05:17:17.913545Z",
     "start_time": "2020-07-23T05:17:17.865512Z"
    },
    "scrolled": false
   },
   "outputs": [
    {
     "name": "stderr",
     "output_type": "stream",
     "text": [
      "C:\\python\\envs\\cpu_env\\lib\\site-packages\\ipykernel_launcher.py:10: SettingWithCopyWarning: \n",
      "A value is trying to be set on a copy of a slice from a DataFrame\n",
      "\n",
      "See the caveats in the documentation: http://pandas.pydata.org/pandas-docs/stable/user_guide/indexing.html#returning-a-view-versus-a-copy\n",
      "  # Remove the CWD from sys.path while we load stuff.\n"
     ]
    }
   ],
   "source": [
    "tmp43 = tmp.iloc[8][fill_columns]\n",
    "tmp43 = pd.DataFrame(tmp43.values,\n",
    "            index = [fill_columns]).transpose()\n",
    "tmp43.columns = fill_columns\n",
    "\n",
    "\n",
    "idx_nums = [15, 56]\n",
    "for idx in idx_nums :\n",
    "    for col in fill_columns :\n",
    "        testdf[col][idx] = tmp43[col]"
   ]
  },
  {
   "cell_type": "markdown",
   "metadata": {},
   "source": [
    "## 4 ) employee2 결측치 제거"
   ]
  },
  {
   "cell_type": "code",
   "execution_count": 47,
   "metadata": {
    "ExecuteTime": {
     "end_time": "2020-07-23T05:17:20.428337Z",
     "start_time": "2020-07-23T05:17:20.382305Z"
    },
    "scrolled": true
   },
   "outputs": [
    {
     "name": "stderr",
     "output_type": "stream",
     "text": [
      "C:\\python\\envs\\cpu_env\\lib\\site-packages\\ipykernel_launcher.py:14: SettingWithCopyWarning: \n",
      "A value is trying to be set on a copy of a slice from a DataFrame.\n",
      "Try using .loc[row_indexer,col_indexer] = value instead\n",
      "\n",
      "See the caveats in the documentation: http://pandas.pydata.org/pandas-docs/stable/user_guide/indexing.html#returning-a-view-versus-a-copy\n",
      "  \n"
     ]
    }
   ],
   "source": [
    "employee2_nandf = testdf.loc[testdf['employee2'].isnull(), : ]\n",
    "employee2_df = testdf.drop(employee2_nandf.index)\n",
    "\n",
    "X_train = employee2_df[['employee1']]\n",
    "y_train = employee2_df[['employee2']]\n",
    "X_test = employee2_nandf[['employee1']]\n",
    "\n",
    "\n",
    "from sklearn.linear_model import LinearRegression\n",
    "model = LinearRegression()\n",
    "model.fit(X_train, y_train)\n",
    "prediction = model.predict(X_test)\n",
    "\n",
    "employee2_nandf['employee2'] = prediction\n",
    "testdf = pd.concat([employee2_df, employee2_nandf]).sort_index(axis=0)"
   ]
  },
  {
   "cell_type": "markdown",
   "metadata": {
    "ExecuteTime": {
     "end_time": "2020-07-22T15:32:17.339917Z",
     "start_time": "2020-07-22T15:32:17.325907Z"
    },
    "heading_collapsed": true
   },
   "source": [
    "## 5 ) ownerChange"
   ]
  },
  {
   "cell_type": "code",
   "execution_count": 329,
   "metadata": {
    "ExecuteTime": {
     "end_time": "2020-07-22T15:33:33.575237Z",
     "start_time": "2020-07-22T15:33:33.489175Z"
    },
    "hidden": true,
    "scrolled": true
   },
   "outputs": [
    {
     "data": {
      "text/html": [
       "<div>\n",
       "<style scoped>\n",
       "    .dataframe tbody tr th:only-of-type {\n",
       "        vertical-align: middle;\n",
       "    }\n",
       "\n",
       "    .dataframe tbody tr th {\n",
       "        vertical-align: top;\n",
       "    }\n",
       "\n",
       "    .dataframe thead th {\n",
       "        text-align: right;\n",
       "    }\n",
       "</style>\n",
       "<table border=\"1\" class=\"dataframe\">\n",
       "  <thead>\n",
       "    <tr style=\"text-align: right;\">\n",
       "      <th></th>\n",
       "      <th>inst_id</th>\n",
       "      <th>OC</th>\n",
       "      <th>sido</th>\n",
       "      <th>sgg</th>\n",
       "      <th>openDate</th>\n",
       "      <th>bedCount</th>\n",
       "      <th>instkind</th>\n",
       "      <th>revenue1</th>\n",
       "      <th>salescost1</th>\n",
       "      <th>sga1</th>\n",
       "      <th>...</th>\n",
       "      <th>shortLoan2</th>\n",
       "      <th>NCLiabilities2</th>\n",
       "      <th>longLoan2</th>\n",
       "      <th>netAsset2</th>\n",
       "      <th>surplus2</th>\n",
       "      <th>employee1</th>\n",
       "      <th>employee2</th>\n",
       "      <th>ownerChange</th>\n",
       "      <th>newinstkind</th>\n",
       "      <th>newbedcount</th>\n",
       "    </tr>\n",
       "  </thead>\n",
       "  <tbody>\n",
       "    <tr>\n",
       "      <th>2</th>\n",
       "      <td>6</td>\n",
       "      <td>nan</td>\n",
       "      <td>jeonnam</td>\n",
       "      <td>103</td>\n",
       "      <td>19890427.00000</td>\n",
       "      <td>276.00000</td>\n",
       "      <td>general_hospital</td>\n",
       "      <td>23260305967.00000</td>\n",
       "      <td>2542570943.00000</td>\n",
       "      <td>23087485220.00000</td>\n",
       "      <td>...</td>\n",
       "      <td>21822782890.00000</td>\n",
       "      <td>0.00000</td>\n",
       "      <td>0.00000</td>\n",
       "      <td>0.00000</td>\n",
       "      <td>16385400958.00000</td>\n",
       "      <td>107.00000</td>\n",
       "      <td>109.00000</td>\n",
       "      <td>NaN</td>\n",
       "      <td>4</td>\n",
       "      <td>3</td>\n",
       "    </tr>\n",
       "    <tr>\n",
       "      <th>20</th>\n",
       "      <td>48</td>\n",
       "      <td>nan</td>\n",
       "      <td>daegu</td>\n",
       "      <td>40</td>\n",
       "      <td>19970228.00000</td>\n",
       "      <td>154.00000</td>\n",
       "      <td>hospital</td>\n",
       "      <td>13516957558.00000</td>\n",
       "      <td>2469250576.00000</td>\n",
       "      <td>10723923120.00000</td>\n",
       "      <td>...</td>\n",
       "      <td>0.00000</td>\n",
       "      <td>0.00000</td>\n",
       "      <td>0.00000</td>\n",
       "      <td>0.00000</td>\n",
       "      <td>0.00000</td>\n",
       "      <td>150.00000</td>\n",
       "      <td>140.32901</td>\n",
       "      <td>NaN</td>\n",
       "      <td>4</td>\n",
       "      <td>2</td>\n",
       "    </tr>\n",
       "    <tr>\n",
       "      <th>22</th>\n",
       "      <td>64</td>\n",
       "      <td>nan</td>\n",
       "      <td>jeonbuk</td>\n",
       "      <td>34</td>\n",
       "      <td>20060629.00000</td>\n",
       "      <td>157.05664</td>\n",
       "      <td>hospital</td>\n",
       "      <td>3207566930.00000</td>\n",
       "      <td>26568783.00000</td>\n",
       "      <td>3242980986.00000</td>\n",
       "      <td>...</td>\n",
       "      <td>0.00000</td>\n",
       "      <td>16736849550.00000</td>\n",
       "      <td>10281084209.00000</td>\n",
       "      <td>16247238290.00000</td>\n",
       "      <td>0.00000</td>\n",
       "      <td>127.01235</td>\n",
       "      <td>117.02469</td>\n",
       "      <td>NaN</td>\n",
       "      <td>4</td>\n",
       "      <td>2</td>\n",
       "    </tr>\n",
       "    <tr>\n",
       "      <th>52</th>\n",
       "      <td>165</td>\n",
       "      <td>nan</td>\n",
       "      <td>jeonbuk</td>\n",
       "      <td>136</td>\n",
       "      <td>20050321.00000</td>\n",
       "      <td>440.00000</td>\n",
       "      <td>nursing_hospital</td>\n",
       "      <td>2179020670.00000</td>\n",
       "      <td>312206615.00000</td>\n",
       "      <td>1507567008.00000</td>\n",
       "      <td>...</td>\n",
       "      <td>0.00000</td>\n",
       "      <td>0.00000</td>\n",
       "      <td>0.00000</td>\n",
       "      <td>0.00000</td>\n",
       "      <td>0.00000</td>\n",
       "      <td>94.72993</td>\n",
       "      <td>90.75182</td>\n",
       "      <td>NaN</td>\n",
       "      <td>4</td>\n",
       "      <td>3</td>\n",
       "    </tr>\n",
       "    <tr>\n",
       "      <th>82</th>\n",
       "      <td>246</td>\n",
       "      <td>nan</td>\n",
       "      <td>jeonnam</td>\n",
       "      <td>145</td>\n",
       "      <td>19880801.00000</td>\n",
       "      <td>191.00000</td>\n",
       "      <td>general_hospital</td>\n",
       "      <td>10101810572.00000</td>\n",
       "      <td>1776294760.00000</td>\n",
       "      <td>8380210191.00000</td>\n",
       "      <td>...</td>\n",
       "      <td>332417093.00000</td>\n",
       "      <td>1817794680.00000</td>\n",
       "      <td>1717794680.00000</td>\n",
       "      <td>6597855415.00000</td>\n",
       "      <td>9530310.00000</td>\n",
       "      <td>116.00000</td>\n",
       "      <td>111.83957</td>\n",
       "      <td>NaN</td>\n",
       "      <td>4</td>\n",
       "      <td>2</td>\n",
       "    </tr>\n",
       "    <tr>\n",
       "      <th>83</th>\n",
       "      <td>254</td>\n",
       "      <td>nan</td>\n",
       "      <td>choongbuk</td>\n",
       "      <td>152</td>\n",
       "      <td>20150124.00000</td>\n",
       "      <td>60.00000</td>\n",
       "      <td>hospital</td>\n",
       "      <td>2326749862.00000</td>\n",
       "      <td>399970836.00000</td>\n",
       "      <td>3083860292.00000</td>\n",
       "      <td>...</td>\n",
       "      <td>117947275.00000</td>\n",
       "      <td>3100000000.00000</td>\n",
       "      <td>3100000000.00000</td>\n",
       "      <td>5617398048.00000</td>\n",
       "      <td>0.00000</td>\n",
       "      <td>37.00000</td>\n",
       "      <td>45.64354</td>\n",
       "      <td>NaN</td>\n",
       "      <td>4</td>\n",
       "      <td>1</td>\n",
       "    </tr>\n",
       "    <tr>\n",
       "      <th>88</th>\n",
       "      <td>293</td>\n",
       "      <td>nan</td>\n",
       "      <td>jeonbuk</td>\n",
       "      <td>26</td>\n",
       "      <td>20050503.00000</td>\n",
       "      <td>124.00000</td>\n",
       "      <td>nursing_hospital</td>\n",
       "      <td>19040120301.00000</td>\n",
       "      <td>1809686866.00000</td>\n",
       "      <td>18630988374.00000</td>\n",
       "      <td>...</td>\n",
       "      <td>0.00000</td>\n",
       "      <td>0.00000</td>\n",
       "      <td>0.00000</td>\n",
       "      <td>971025291.00000</td>\n",
       "      <td>4209769513.00000</td>\n",
       "      <td>94.72993</td>\n",
       "      <td>90.75182</td>\n",
       "      <td>NaN</td>\n",
       "      <td>4</td>\n",
       "      <td>2</td>\n",
       "    </tr>\n",
       "    <tr>\n",
       "      <th>93</th>\n",
       "      <td>310</td>\n",
       "      <td>nan</td>\n",
       "      <td>seoul</td>\n",
       "      <td>36</td>\n",
       "      <td>20100531.00000</td>\n",
       "      <td>104.00000</td>\n",
       "      <td>nursing_hospital</td>\n",
       "      <td>2846454139.00000</td>\n",
       "      <td>0.00000</td>\n",
       "      <td>2975635457.00000</td>\n",
       "      <td>...</td>\n",
       "      <td>1649456932.00000</td>\n",
       "      <td>0.00000</td>\n",
       "      <td>0.00000</td>\n",
       "      <td>1442101666.00000</td>\n",
       "      <td>397348813.00000</td>\n",
       "      <td>94.72993</td>\n",
       "      <td>90.75182</td>\n",
       "      <td>NaN</td>\n",
       "      <td>4</td>\n",
       "      <td>2</td>\n",
       "    </tr>\n",
       "    <tr>\n",
       "      <th>99</th>\n",
       "      <td>341</td>\n",
       "      <td>nan</td>\n",
       "      <td>busan</td>\n",
       "      <td>66</td>\n",
       "      <td>20100226.00000</td>\n",
       "      <td>136.52424</td>\n",
       "      <td>nursing_hospital</td>\n",
       "      <td>39441590.00000</td>\n",
       "      <td>1835644.00000</td>\n",
       "      <td>113993911.00000</td>\n",
       "      <td>...</td>\n",
       "      <td>0.00000</td>\n",
       "      <td>1890000000.00000</td>\n",
       "      <td>1890000000.00000</td>\n",
       "      <td>1963281786.00000</td>\n",
       "      <td>0.00000</td>\n",
       "      <td>32.00000</td>\n",
       "      <td>32.00000</td>\n",
       "      <td>NaN</td>\n",
       "      <td>4</td>\n",
       "      <td>2</td>\n",
       "    </tr>\n",
       "    <tr>\n",
       "      <th>104</th>\n",
       "      <td>374</td>\n",
       "      <td>nan</td>\n",
       "      <td>gyeongbuk</td>\n",
       "      <td>107</td>\n",
       "      <td>20120618.00000</td>\n",
       "      <td>142.00000</td>\n",
       "      <td>nursing_hospital</td>\n",
       "      <td>872461860.00000</td>\n",
       "      <td>0.00000</td>\n",
       "      <td>797293612.00000</td>\n",
       "      <td>...</td>\n",
       "      <td>0.00000</td>\n",
       "      <td>0.00000</td>\n",
       "      <td>0.00000</td>\n",
       "      <td>0.00000</td>\n",
       "      <td>0.00000</td>\n",
       "      <td>61.00000</td>\n",
       "      <td>65.75373</td>\n",
       "      <td>NaN</td>\n",
       "      <td>4</td>\n",
       "      <td>2</td>\n",
       "    </tr>\n",
       "    <tr>\n",
       "      <th>112</th>\n",
       "      <td>395</td>\n",
       "      <td>nan</td>\n",
       "      <td>jeonbuk</td>\n",
       "      <td>143</td>\n",
       "      <td>20161229.00000</td>\n",
       "      <td>156.00000</td>\n",
       "      <td>nursing_hospital</td>\n",
       "      <td>10611031.00000</td>\n",
       "      <td>0.00000</td>\n",
       "      <td>8800.00000</td>\n",
       "      <td>...</td>\n",
       "      <td>0.00000</td>\n",
       "      <td>0.00000</td>\n",
       "      <td>0.00000</td>\n",
       "      <td>0.00000</td>\n",
       "      <td>0.00000</td>\n",
       "      <td>36.00000</td>\n",
       "      <td>44.80562</td>\n",
       "      <td>NaN</td>\n",
       "      <td>4</td>\n",
       "      <td>2</td>\n",
       "    </tr>\n",
       "    <tr>\n",
       "      <th>113</th>\n",
       "      <td>396</td>\n",
       "      <td>nan</td>\n",
       "      <td>jeonbuk</td>\n",
       "      <td>143</td>\n",
       "      <td>20161229.00000</td>\n",
       "      <td>156.00000</td>\n",
       "      <td>nursing_hospital</td>\n",
       "      <td>10611031.00000</td>\n",
       "      <td>0.00000</td>\n",
       "      <td>8800.00000</td>\n",
       "      <td>...</td>\n",
       "      <td>0.00000</td>\n",
       "      <td>0.00000</td>\n",
       "      <td>0.00000</td>\n",
       "      <td>0.00000</td>\n",
       "      <td>0.00000</td>\n",
       "      <td>36.00000</td>\n",
       "      <td>44.80562</td>\n",
       "      <td>NaN</td>\n",
       "      <td>4</td>\n",
       "      <td>2</td>\n",
       "    </tr>\n",
       "    <tr>\n",
       "      <th>122</th>\n",
       "      <td>424</td>\n",
       "      <td>nan</td>\n",
       "      <td>jeonnam</td>\n",
       "      <td>33</td>\n",
       "      <td>20011012.00000</td>\n",
       "      <td>0.00000</td>\n",
       "      <td>traditional_clinic</td>\n",
       "      <td>22330305917.00000</td>\n",
       "      <td>848465677.00000</td>\n",
       "      <td>18492554091.00000</td>\n",
       "      <td>...</td>\n",
       "      <td>0.00000</td>\n",
       "      <td>2750370705.00000</td>\n",
       "      <td>0.00000</td>\n",
       "      <td>13849584833.00000</td>\n",
       "      <td>0.00000</td>\n",
       "      <td>560.00000</td>\n",
       "      <td>483.87804</td>\n",
       "      <td>NaN</td>\n",
       "      <td>1</td>\n",
       "      <td>0</td>\n",
       "    </tr>\n",
       "    <tr>\n",
       "      <th>124</th>\n",
       "      <td>429</td>\n",
       "      <td>nan</td>\n",
       "      <td>gyeonggi</td>\n",
       "      <td>116</td>\n",
       "      <td>20010101.00000</td>\n",
       "      <td>150.00000</td>\n",
       "      <td>hospital</td>\n",
       "      <td>14242664951.00000</td>\n",
       "      <td>1726174241.00000</td>\n",
       "      <td>11487224105.00000</td>\n",
       "      <td>...</td>\n",
       "      <td>0.00000</td>\n",
       "      <td>0.00000</td>\n",
       "      <td>0.00000</td>\n",
       "      <td>0.00000</td>\n",
       "      <td>0.00000</td>\n",
       "      <td>127.01235</td>\n",
       "      <td>117.02469</td>\n",
       "      <td>NaN</td>\n",
       "      <td>4</td>\n",
       "      <td>2</td>\n",
       "    </tr>\n",
       "    <tr>\n",
       "      <th>126</th>\n",
       "      <td>431</td>\n",
       "      <td>nan</td>\n",
       "      <td>choongbuk</td>\n",
       "      <td>163</td>\n",
       "      <td>19961216.00000</td>\n",
       "      <td>96.00000</td>\n",
       "      <td>hospital</td>\n",
       "      <td>10924439614.00000</td>\n",
       "      <td>1168730912.00000</td>\n",
       "      <td>8709839395.00000</td>\n",
       "      <td>...</td>\n",
       "      <td>0.00000</td>\n",
       "      <td>0.00000</td>\n",
       "      <td>0.00000</td>\n",
       "      <td>0.00000</td>\n",
       "      <td>0.00000</td>\n",
       "      <td>127.01235</td>\n",
       "      <td>117.02469</td>\n",
       "      <td>NaN</td>\n",
       "      <td>4</td>\n",
       "      <td>1</td>\n",
       "    </tr>\n",
       "  </tbody>\n",
       "</table>\n",
       "<p>15 rows × 60 columns</p>\n",
       "</div>"
      ],
      "text/plain": [
       "     inst_id  OC       sido  sgg       openDate  bedCount            instkind  \\\n",
       "2          6 nan    jeonnam  103 19890427.00000 276.00000    general_hospital   \n",
       "20        48 nan      daegu   40 19970228.00000 154.00000            hospital   \n",
       "22        64 nan    jeonbuk   34 20060629.00000 157.05664            hospital   \n",
       "52       165 nan    jeonbuk  136 20050321.00000 440.00000    nursing_hospital   \n",
       "82       246 nan    jeonnam  145 19880801.00000 191.00000    general_hospital   \n",
       "83       254 nan  choongbuk  152 20150124.00000  60.00000            hospital   \n",
       "88       293 nan    jeonbuk   26 20050503.00000 124.00000    nursing_hospital   \n",
       "93       310 nan      seoul   36 20100531.00000 104.00000    nursing_hospital   \n",
       "99       341 nan      busan   66 20100226.00000 136.52424    nursing_hospital   \n",
       "104      374 nan  gyeongbuk  107 20120618.00000 142.00000    nursing_hospital   \n",
       "112      395 nan    jeonbuk  143 20161229.00000 156.00000    nursing_hospital   \n",
       "113      396 nan    jeonbuk  143 20161229.00000 156.00000    nursing_hospital   \n",
       "122      424 nan    jeonnam   33 20011012.00000   0.00000  traditional_clinic   \n",
       "124      429 nan   gyeonggi  116 20010101.00000 150.00000            hospital   \n",
       "126      431 nan  choongbuk  163 19961216.00000  96.00000            hospital   \n",
       "\n",
       "             revenue1       salescost1              sga1  ...  \\\n",
       "2   23260305967.00000 2542570943.00000 23087485220.00000  ...   \n",
       "20  13516957558.00000 2469250576.00000 10723923120.00000  ...   \n",
       "22   3207566930.00000   26568783.00000  3242980986.00000  ...   \n",
       "52   2179020670.00000  312206615.00000  1507567008.00000  ...   \n",
       "82  10101810572.00000 1776294760.00000  8380210191.00000  ...   \n",
       "83   2326749862.00000  399970836.00000  3083860292.00000  ...   \n",
       "88  19040120301.00000 1809686866.00000 18630988374.00000  ...   \n",
       "93   2846454139.00000          0.00000  2975635457.00000  ...   \n",
       "99     39441590.00000    1835644.00000   113993911.00000  ...   \n",
       "104   872461860.00000          0.00000   797293612.00000  ...   \n",
       "112    10611031.00000          0.00000        8800.00000  ...   \n",
       "113    10611031.00000          0.00000        8800.00000  ...   \n",
       "122 22330305917.00000  848465677.00000 18492554091.00000  ...   \n",
       "124 14242664951.00000 1726174241.00000 11487224105.00000  ...   \n",
       "126 10924439614.00000 1168730912.00000  8709839395.00000  ...   \n",
       "\n",
       "           shortLoan2    NCLiabilities2         longLoan2         netAsset2  \\\n",
       "2   21822782890.00000           0.00000           0.00000           0.00000   \n",
       "20            0.00000           0.00000           0.00000           0.00000   \n",
       "22            0.00000 16736849550.00000 10281084209.00000 16247238290.00000   \n",
       "52            0.00000           0.00000           0.00000           0.00000   \n",
       "82    332417093.00000  1817794680.00000  1717794680.00000  6597855415.00000   \n",
       "83    117947275.00000  3100000000.00000  3100000000.00000  5617398048.00000   \n",
       "88            0.00000           0.00000           0.00000   971025291.00000   \n",
       "93   1649456932.00000           0.00000           0.00000  1442101666.00000   \n",
       "99            0.00000  1890000000.00000  1890000000.00000  1963281786.00000   \n",
       "104           0.00000           0.00000           0.00000           0.00000   \n",
       "112           0.00000           0.00000           0.00000           0.00000   \n",
       "113           0.00000           0.00000           0.00000           0.00000   \n",
       "122           0.00000  2750370705.00000           0.00000 13849584833.00000   \n",
       "124           0.00000           0.00000           0.00000           0.00000   \n",
       "126           0.00000           0.00000           0.00000           0.00000   \n",
       "\n",
       "             surplus2  employee1  employee2  ownerChange  newinstkind  \\\n",
       "2   16385400958.00000  107.00000  109.00000          NaN            4   \n",
       "20            0.00000  150.00000  140.32901          NaN            4   \n",
       "22            0.00000  127.01235  117.02469          NaN            4   \n",
       "52            0.00000   94.72993   90.75182          NaN            4   \n",
       "82      9530310.00000  116.00000  111.83957          NaN            4   \n",
       "83            0.00000   37.00000   45.64354          NaN            4   \n",
       "88   4209769513.00000   94.72993   90.75182          NaN            4   \n",
       "93    397348813.00000   94.72993   90.75182          NaN            4   \n",
       "99            0.00000   32.00000   32.00000          NaN            4   \n",
       "104           0.00000   61.00000   65.75373          NaN            4   \n",
       "112           0.00000   36.00000   44.80562          NaN            4   \n",
       "113           0.00000   36.00000   44.80562          NaN            4   \n",
       "122           0.00000  560.00000  483.87804          NaN            1   \n",
       "124           0.00000  127.01235  117.02469          NaN            4   \n",
       "126           0.00000  127.01235  117.02469          NaN            4   \n",
       "\n",
       "     newbedcount  \n",
       "2              3  \n",
       "20             2  \n",
       "22             2  \n",
       "52             3  \n",
       "82             2  \n",
       "83             1  \n",
       "88             2  \n",
       "93             2  \n",
       "99             2  \n",
       "104            2  \n",
       "112            2  \n",
       "113            2  \n",
       "122            0  \n",
       "124            2  \n",
       "126            1  \n",
       "\n",
       "[15 rows x 60 columns]"
      ]
     },
     "execution_count": 329,
     "metadata": {},
     "output_type": "execute_result"
    }
   ],
   "source": [
    "testdf.loc[testdf['ownerChange'].isnull()]\n",
    "\n",
    "# 7 : 1 open\n",
    "# 1 : 1 close\n",
    "\n",
    "# ????????????????? 어떡하지/??????????????\n",
    "\n"
   ]
  },
  {
   "cell_type": "markdown",
   "metadata": {},
   "source": [
    "## 6 ) column 정리"
   ]
  },
  {
   "cell_type": "code",
   "execution_count": 48,
   "metadata": {
    "ExecuteTime": {
     "end_time": "2020-07-23T05:17:23.255351Z",
     "start_time": "2020-07-23T05:17:23.231337Z"
    }
   },
   "outputs": [],
   "source": [
    "testdf['currentRatio1'] = testdf['liquidAsset1'] / (testdf['liquidLiabilities1']+1)\n",
    "testdf['currentRatio2'] = testdf['liquidAsset2'] / (testdf['liquidLiabilities2']+1)\n",
    "testdf[\"quickRatio1\"] = testdf[\"quickAsset1\"]/(testdf[\"liquidLiabilities1\"]+1)\n",
    "testdf[\"quickRatio2\"] = testdf[\"quickAsset2\"]/(testdf[\"liquidLiabilities2\"]+1)\n",
    "testdf[\"debtRatio1\"] = testdf[\"debt1\"]/(testdf[\"surplus1\"]+1)\n",
    "testdf[\"debtRatio2\"] = testdf[\"debt2\"]/(testdf[\"surplus2\"]+1)"
   ]
  },
  {
   "cell_type": "code",
   "execution_count": 49,
   "metadata": {
    "ExecuteTime": {
     "end_time": "2020-07-23T05:17:25.940265Z",
     "start_time": "2020-07-23T05:17:25.931260Z"
    }
   },
   "outputs": [],
   "source": [
    "testdf = testdf.loc[:,['inst_id', 'OC','employee1', 'employee2','newinstkind','newbedcount', 'currentRatio1', 'currentRatio2', 'quickRatio1',\n",
    "       'quickRatio2', 'debtRatio1', 'debtRatio2']] # 'ownerChange',"
   ]
  },
  {
   "cell_type": "code",
   "execution_count": 50,
   "metadata": {
    "ExecuteTime": {
     "end_time": "2020-07-23T05:17:28.198873Z",
     "start_time": "2020-07-23T05:17:28.188871Z"
    }
   },
   "outputs": [],
   "source": [
    "def oc_mapping(x) :\n",
    "    if x == 'open' : \n",
    "        return 0\n",
    "    else :\n",
    "        return 1\n",
    "\n",
    "testdf['OC'] = list(map(lambda x : oc_mapping(x), testdf['OC']))\n",
    "\n",
    "# def owner_mapping(x) :\n",
    "#     if x == 'same' : \n",
    "#         return 0\n",
    "#     else :\n",
    "#         return 1\n",
    "\n",
    "# testdf['ownerChange'] = list(map(lambda x : owner_mapping(x), testdf['ownerChange']))"
   ]
  },
  {
   "cell_type": "markdown",
   "metadata": {},
   "source": [
    "# 4. 모델링"
   ]
  },
  {
   "cell_type": "code",
   "execution_count": 51,
   "metadata": {
    "ExecuteTime": {
     "end_time": "2020-07-23T05:17:30.213310Z",
     "start_time": "2020-07-23T05:17:30.201305Z"
    }
   },
   "outputs": [],
   "source": [
    "train_x_data = usedf.drop(\"OC\", axis=1, inplace = False).values\n",
    "test_x_data = testdf.drop(\"OC\", axis=1, inplace = False).values\n",
    "train_y_data = usedf[\"OC\"].values.reshape([-1,1])"
   ]
  },
  {
   "cell_type": "markdown",
   "metadata": {
    "heading_collapsed": true
   },
   "source": [
    "## 1 ) sklearn / LogisticRegression"
   ]
  },
  {
   "cell_type": "code",
   "execution_count": 466,
   "metadata": {
    "ExecuteTime": {
     "end_time": "2020-07-22T16:03:36.494851Z",
     "start_time": "2020-07-22T16:03:36.415793Z"
    },
    "hidden": true,
    "scrolled": true
   },
   "outputs": [
    {
     "name": "stderr",
     "output_type": "stream",
     "text": [
      "C:\\python\\envs\\cpu_env\\lib\\site-packages\\sklearn\\utils\\validation.py:760: DataConversionWarning: A column-vector y was passed when a 1d array was expected. Please change the shape of y to (n_samples, ), for example using ravel().\n",
      "  y = column_or_1d(y, warn=True)\n"
     ]
    }
   ],
   "source": [
    "from sklearn.linear_model import LogisticRegression\n",
    "\n",
    "model = LogisticRegression()\n",
    "myModel = model.fit(train_x_data, train_y_data)\n",
    "prediction = myModel.predict(test_x_data)"
   ]
  },
  {
   "cell_type": "markdown",
   "metadata": {
    "heading_collapsed": true
   },
   "source": [
    "## 2 ) svm"
   ]
  },
  {
   "cell_type": "code",
   "execution_count": 478,
   "metadata": {
    "ExecuteTime": {
     "end_time": "2020-07-22T16:12:49.761573Z",
     "start_time": "2020-07-22T16:12:49.701532Z"
    },
    "hidden": true,
    "scrolled": true
   },
   "outputs": [
    {
     "name": "stderr",
     "output_type": "stream",
     "text": [
      "C:\\python\\envs\\cpu_env\\lib\\site-packages\\sklearn\\utils\\validation.py:760: DataConversionWarning: A column-vector y was passed when a 1d array was expected. Please change the shape of y to (n_samples, ), for example using ravel().\n",
      "  y = column_or_1d(y, warn=True)\n",
      "C:\\python\\envs\\cpu_env\\lib\\site-packages\\sklearn\\svm\\_base.py:947: ConvergenceWarning: Liblinear failed to converge, increase the number of iterations.\n",
      "  \"the number of iterations.\", ConvergenceWarning)\n"
     ]
    }
   ],
   "source": [
    "import sklearn as sk\n",
    "from sklearn import svm\n",
    "import pandas as pd\n",
    "import os\n",
    "\n",
    "SVM = svm.LinearSVC()\n",
    "SVM.fit(train_x_data, train_y_data)\n",
    "prediction = SVM.predict(test_x_data)"
   ]
  },
  {
   "cell_type": "markdown",
   "metadata": {},
   "source": [
    "## 3 ) random forest"
   ]
  },
  {
   "cell_type": "code",
   "execution_count": 52,
   "metadata": {
    "ExecuteTime": {
     "end_time": "2020-07-23T05:17:33.451616Z",
     "start_time": "2020-07-23T05:17:33.074349Z"
    }
   },
   "outputs": [
    {
     "name": "stderr",
     "output_type": "stream",
     "text": [
      "C:\\python\\envs\\cpu_env\\lib\\site-packages\\ipykernel_launcher.py:5: DataConversionWarning: A column-vector y was passed when a 1d array was expected. Please change the shape of y to (n_samples,), for example using ravel().\n",
      "  \"\"\"\n"
     ]
    }
   ],
   "source": [
    "import sklearn as sk\n",
    "from sklearn.ensemble import RandomForestClassifier\n",
    "\n",
    "RF = RandomForestClassifier(n_estimators=100, max_depth=10, random_state=0)\n",
    "RF.fit(train_x_data, train_y_data)\n",
    "prediction = RF.predict(test_x_data)"
   ]
  },
  {
   "cell_type": "markdown",
   "metadata": {
    "heading_collapsed": true
   },
   "source": [
    "## 4 ) tmp"
   ]
  },
  {
   "cell_type": "code",
   "execution_count": 488,
   "metadata": {
    "ExecuteTime": {
     "end_time": "2020-07-22T16:20:35.147169Z",
     "start_time": "2020-07-22T16:20:21.682574Z"
    },
    "hidden": true
   },
   "outputs": [],
   "source": [
    "import tensorflow as tf\n",
    "import numpy as np\n",
    "import pandas as pd\n",
    "import matplotlib.pyplot as plt\n",
    "from sklearn.preprocessing import MinMaxScaler\n",
    "from sklearn.linear_model import LogisticRegression"
   ]
  },
  {
   "cell_type": "code",
   "execution_count": 489,
   "metadata": {
    "ExecuteTime": {
     "end_time": "2020-07-22T16:21:54.747885Z",
     "start_time": "2020-07-22T16:21:54.738879Z"
    },
    "hidden": true
   },
   "outputs": [
    {
     "data": {
      "text/plain": [
       "(301, 11)"
      ]
     },
     "execution_count": 489,
     "metadata": {},
     "output_type": "execute_result"
    }
   ],
   "source": [
    "train_x_data.shape"
   ]
  },
  {
   "cell_type": "code",
   "execution_count": 490,
   "metadata": {
    "ExecuteTime": {
     "end_time": "2020-07-22T16:23:19.244090Z",
     "start_time": "2020-07-22T16:23:18.665678Z"
    },
    "hidden": true
   },
   "outputs": [
    {
     "ename": "AttributeError",
     "evalue": "module 'tensorflow' has no attribute 'placeholder'",
     "output_type": "error",
     "traceback": [
      "\u001b[1;31m---------------------------------------------------------------------------\u001b[0m",
      "\u001b[1;31mAttributeError\u001b[0m                            Traceback (most recent call last)",
      "\u001b[1;32m<ipython-input-490-b65e19c50faa>\u001b[0m in \u001b[0;36m<module>\u001b[1;34m\u001b[0m\n\u001b[1;32m----> 1\u001b[1;33m \u001b[0mX\u001b[0m \u001b[1;33m=\u001b[0m \u001b[0mtf\u001b[0m\u001b[1;33m.\u001b[0m\u001b[0mplaceholder\u001b[0m\u001b[1;33m(\u001b[0m\u001b[0mshape\u001b[0m \u001b[1;33m=\u001b[0m \u001b[1;33m[\u001b[0m\u001b[1;32mNone\u001b[0m\u001b[1;33m,\u001b[0m\u001b[1;36m11\u001b[0m\u001b[1;33m]\u001b[0m\u001b[1;33m,\u001b[0m \u001b[0mdtype\u001b[0m \u001b[1;33m=\u001b[0m \u001b[0mtf\u001b[0m\u001b[1;33m.\u001b[0m\u001b[0mfloat32\u001b[0m\u001b[1;33m)\u001b[0m\u001b[1;33m\u001b[0m\u001b[1;33m\u001b[0m\u001b[0m\n\u001b[0m\u001b[0;32m      2\u001b[0m \u001b[0mY\u001b[0m \u001b[1;33m=\u001b[0m \u001b[0mtf\u001b[0m\u001b[1;33m.\u001b[0m\u001b[0mplaceholder\u001b[0m\u001b[1;33m(\u001b[0m\u001b[0mshape\u001b[0m \u001b[1;33m=\u001b[0m \u001b[1;33m[\u001b[0m\u001b[1;32mNone\u001b[0m\u001b[1;33m,\u001b[0m\u001b[1;36m1\u001b[0m\u001b[1;33m]\u001b[0m\u001b[1;33m,\u001b[0m \u001b[0mdtype\u001b[0m \u001b[1;33m=\u001b[0m \u001b[0mtf\u001b[0m\u001b[1;33m.\u001b[0m\u001b[0mfloat32\u001b[0m\u001b[1;33m)\u001b[0m\u001b[1;33m\u001b[0m\u001b[1;33m\u001b[0m\u001b[0m\n\u001b[0;32m      3\u001b[0m \u001b[1;33m\u001b[0m\u001b[0m\n\u001b[0;32m      4\u001b[0m \u001b[0mW\u001b[0m \u001b[1;33m=\u001b[0m \u001b[0mtf\u001b[0m\u001b[1;33m.\u001b[0m\u001b[0mVariable\u001b[0m\u001b[1;33m(\u001b[0m\u001b[0mtf\u001b[0m\u001b[1;33m.\u001b[0m\u001b[0mrandom_normal\u001b[0m\u001b[1;33m(\u001b[0m\u001b[1;33m[\u001b[0m\u001b[1;36m11\u001b[0m\u001b[1;33m,\u001b[0m\u001b[1;36m1\u001b[0m\u001b[1;33m]\u001b[0m\u001b[1;33m)\u001b[0m\u001b[1;33m,\u001b[0m \u001b[0mname\u001b[0m \u001b[1;33m=\u001b[0m \u001b[1;34m\"Weight\"\u001b[0m\u001b[1;33m)\u001b[0m\u001b[1;33m\u001b[0m\u001b[1;33m\u001b[0m\u001b[0m\n\u001b[0;32m      5\u001b[0m \u001b[0mb\u001b[0m \u001b[1;33m=\u001b[0m \u001b[0mtf\u001b[0m\u001b[1;33m.\u001b[0m\u001b[0mVariable\u001b[0m\u001b[1;33m(\u001b[0m\u001b[0mtf\u001b[0m\u001b[1;33m.\u001b[0m\u001b[0mrandom_normal\u001b[0m\u001b[1;33m(\u001b[0m\u001b[1;33m[\u001b[0m\u001b[1;36m1\u001b[0m\u001b[1;33m]\u001b[0m\u001b[1;33m)\u001b[0m\u001b[1;33m,\u001b[0m \u001b[0mname\u001b[0m \u001b[1;33m=\u001b[0m \u001b[1;34m\"bias\"\u001b[0m\u001b[1;33m)\u001b[0m\u001b[1;33m\u001b[0m\u001b[1;33m\u001b[0m\u001b[0m\n",
      "\u001b[1;31mAttributeError\u001b[0m: module 'tensorflow' has no attribute 'placeholder'"
     ]
    }
   ],
   "source": [
    "X = tf.placeholder(shape = [None,11], dtype = tf.float32)\n",
    "Y = tf.placeholder(shape = [None,1], dtype = tf.float32)\n",
    "\n",
    "W = tf.Variable(tf.random_normal([11,1]), name = \"Weight\")\n",
    "b = tf.Variable(tf.random_normal([1]), name = \"bias\")\n",
    "\n",
    "logit = tf.matmul(X,W) + b\n",
    "H = tf.sigmoid(logit)\n",
    "\n",
    "cost = tf.reduce_mean(tf.nn.sigmoid_cross_entropy_with_logits(logits = logit,\n",
    "                                                             labels = Y))\n",
    "\n",
    "optimizer = tf.train.GradientDescentOptimizer(learning_rate = 0.01)\n",
    "train = optimizer.minimize(cost)\n",
    "\n",
    "sess = tf.Session()\n",
    "sess.run(tf.global_variables_initializer()) \n",
    "\n",
    "for step in range(30000):\n",
    "    _,cost_val = sess.run([train,cost],\n",
    "                         feed_dict={\n",
    "                             X : x_data,\n",
    "                             Y : y_data\n",
    "                         })\n",
    "    if step % 3000 == 0:\n",
    "        print(\"cost값은 : {}\".format(cost_val))\n",
    "        \n",
    "result = tf.cast(sess.run(H > 0.5, \n",
    "                          feed_dict = {X : test_x_data}),\n",
    "                                    dtype = tf.int32)"
   ]
  },
  {
   "cell_type": "code",
   "execution_count": null,
   "metadata": {
    "hidden": true
   },
   "outputs": [],
   "source": [
    "# @ 예측 @\n",
    "result = tf.cast(sess.run(H > 0.5, \n",
    "                          feed_dict = {X : test_x_data}),\n",
    "                 dtype = tf.int32)\n",
    "test_df[\"Survived\"] = sess.run(result)\n",
    "\n",
    "result_df = pd.merge(PassengerId,test_df[\"Survived\"],how = \"inner\", left_index = True, right_index = True)\n",
    "\n",
    "display(result_df)\n",
    "result_df.to_csv(\"result.csv\", index = False)\n"
   ]
  },
  {
   "cell_type": "markdown",
   "metadata": {
    "heading_collapsed": true
   },
   "source": [
    "# 5. 저장"
   ]
  },
  {
   "cell_type": "code",
   "execution_count": null,
   "metadata": {
    "hidden": true
   },
   "outputs": [],
   "source": [
    "# 저장함수\n",
    "def save_file(prediction, name) :\n",
    "    sub = pd.read_csv('./data/submission.csv')\n",
    "    sub['OC'] = prediction\n",
    "    sub.to_csv('./submission/submission_' + name + '.csv', index=False)\n",
    "    return print('done')"
   ]
  },
  {
   "cell_type": "code",
   "execution_count": null,
   "metadata": {
    "hidden": true
   },
   "outputs": [],
   "source": [
    "save_file(prediction, 1)\n",
    "# sklearn.logisticRegression : prediction의 모든 값이 1 임"
   ]
  },
  {
   "cell_type": "code",
   "execution_count": 479,
   "metadata": {
    "ExecuteTime": {
     "end_time": "2020-07-22T16:13:30.543630Z",
     "start_time": "2020-07-22T16:13:30.517613Z"
    },
    "hidden": true
   },
   "outputs": [
    {
     "name": "stdout",
     "output_type": "stream",
     "text": [
      "done\n"
     ]
    }
   ],
   "source": [
    "save_file(prediction, 'svm1')\n",
    "# sklearn.svm : prediction 값이 매우 다양함, 0.3228346457"
   ]
  },
  {
   "cell_type": "code",
   "execution_count": 484,
   "metadata": {
    "ExecuteTime": {
     "end_time": "2020-07-22T16:17:08.869191Z",
     "start_time": "2020-07-22T16:17:08.836170Z"
    },
    "hidden": true
   },
   "outputs": [
    {
     "name": "stdout",
     "output_type": "stream",
     "text": [
      "done\n"
     ]
    }
   ],
   "source": [
    "save_file(prediction, 'RF1')\n",
    "# sklearn.RandomForestClassifier : 0.85826"
   ]
  }
 ],
 "metadata": {
  "kernelspec": {
   "display_name": "Python [conda env:cpu_env] *",
   "language": "python",
   "name": "conda-env-cpu_env-py"
  },
  "language_info": {
   "codemirror_mode": {
    "name": "ipython",
    "version": 3
   },
   "file_extension": ".py",
   "mimetype": "text/x-python",
   "name": "python",
   "nbconvert_exporter": "python",
   "pygments_lexer": "ipython3",
   "version": "3.6.9"
  },
  "toc": {
   "base_numbering": 1,
   "nav_menu": {},
   "number_sections": true,
   "sideBar": true,
   "skip_h1_title": false,
   "title_cell": "Table of Contents",
   "title_sidebar": "Contents",
   "toc_cell": false,
   "toc_position": {},
   "toc_section_display": true,
   "toc_window_display": true
  },
  "varInspector": {
   "cols": {
    "lenName": 16,
    "lenType": 16,
    "lenVar": 40
   },
   "kernels_config": {
    "python": {
     "delete_cmd_postfix": "",
     "delete_cmd_prefix": "del ",
     "library": "var_list.py",
     "varRefreshCmd": "print(var_dic_list())"
    },
    "r": {
     "delete_cmd_postfix": ") ",
     "delete_cmd_prefix": "rm(",
     "library": "var_list.r",
     "varRefreshCmd": "cat(var_dic_list()) "
    }
   },
   "types_to_exclude": [
    "module",
    "function",
    "builtin_function_or_method",
    "instance",
    "_Feature"
   ],
   "window_display": false
  }
 },
 "nbformat": 4,
 "nbformat_minor": 2
}
