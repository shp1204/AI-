{
 "cells": [
  {
   "cell_type": "markdown",
   "metadata": {},
   "source": [
    "np.array([1,2,3,4,5], dtype = 'float')\n",
    "\n",
    "np.zeros(10, dtype = 'int')\n",
    "\n",
    "np.ones()\n",
    "\n",
    "* 0부터 20까지 2차이나는 값을 원소로 가진 배열\n",
    "\n",
    "np.arange(0, 20, 2)\n",
    "\n",
    "* 0부터 1 사이를 5등분하는 값을 원소로 가진 배열\n",
    "\n",
    "np.linspace(0, 1, 5)\n",
    "\n",
    "* 난수로 채워진 배열\n",
    "\n",
    "np.random.random((2,2))\n",
    "\n",
    "* 정규분포의 배열\n",
    "\n",
    "np.random.normal(0, 1, (2,2))\n",
    "\n",
    "* 0부터 10까지 2 * 2의 형태\n",
    "\n",
    "np.random.randint(0, 10, (2,2))"
   ]
  },
  {
   "cell_type": "code",
   "execution_count": 1,
   "metadata": {
    "ExecuteTime": {
     "end_time": "2020-06-11T14:05:32.769699Z",
     "start_time": "2020-06-11T14:05:32.757689Z"
    }
   },
   "outputs": [
    {
     "name": "stdout",
     "output_type": "stream",
     "text": [
      "2\n",
      "(3, 4)\n",
      "12\n",
      "int32\n"
     ]
    }
   ],
   "source": [
    "x2 = np.random.randint(10, size=(3,4))\n",
    "print(x2.ndim)\n",
    "print(x2.shape)\n",
    "print(x2.size)\n",
    "print(x2.dtype)"
   ]
  },
  {
   "cell_type": "markdown",
   "metadata": {},
   "source": [
    "# 1. 배열 만들기"
   ]
  },
  {
   "cell_type": "code",
   "execution_count": null,
   "metadata": {},
   "outputs": [],
   "source": [
    "import numpy as np\n",
    "#0부터 5사이 랜덤한 값이 담긴 3x5 array를 만들어 봅시다!\n",
    "array = np.random.randint(0, 5, (3, 5 ))\n",
    "print(array)"
   ]
  },
  {
   "cell_type": "markdown",
   "metadata": {},
   "source": [
    "# 2. 배열의 기초"
   ]
  },
  {
   "cell_type": "code",
   "execution_count": null,
   "metadata": {},
   "outputs": [],
   "source": [
    "import numpy as np\n",
    "\n",
    "print(\"1차원 array\")\n",
    "array = np.arange(10)\n",
    "print(array)\n",
    "\n",
    "# Q1. array의 자료형을 출력해보세요.\n",
    "print(type(array))\n",
    "\n",
    "# Q2. array의 차원을 출력해보세요.\n",
    "print(array.ndim)\n",
    "\n",
    "# Q3. array의 모양을 출력해보세요.\n",
    "print(array.shape)\n",
    "\n",
    "# Q4. array의 크기를 출력해보세요.\n",
    "print(array.size)\n",
    "\n",
    "# Q5. array의 dtype(data type)을 출력해보세요.\n",
    "print(array.dtype)\n",
    "\n",
    "# Q6. array의 인덱스 5의 요소를 출력해보세요.\n",
    "print(array[5])\n",
    "\n",
    "# Q7. array의 인덱스 3의 요소부터 인덱스 5 요소까지 출력해보세요.\n",
    "print(array[3:6])"
   ]
  },
  {
   "cell_type": "code",
   "execution_count": null,
   "metadata": {},
   "outputs": [],
   "source": [
    "import numpy as np\n",
    "\n",
    "print(\"2차원 array\")\n",
    "matrix = np.arange(1, 16).reshape(3,5)  #1부터 15까지 들어있는 (3,5)짜리 배열을 만듭니다.\n",
    "print(matrix)\n",
    "\n",
    "\n",
    "# Q1. matrix의 자료형을 출력해보세요.\n",
    "print(type(matrix))\n",
    "\n",
    "# Q2. matrix의 차원을 출력해보세요.\n",
    "print(matrix.ndim)\n",
    "\n",
    "# Q3. matrix의 모양을 출력해보세요.\n",
    "print(matrix.shape)\n",
    "\n",
    "# Q4. matrix의 크기를 출력해보세요.\n",
    "print(matrix.size)\n",
    "\n",
    "# Q5. matrix의 dtype(data type)을 출력해보세요.\n",
    "print(matrix.dtype)\n",
    "\n",
    "# Q6. matrix의 (2,3) 인덱스의 요소를 출력해보세요.\n",
    "print(matrix[2,3])\n",
    "\n",
    "# Q7. matrix의 행은 인덱스 0부터 인덱스 1까지, 열은 인덱스 1부터 인덱스 3까지 출력해보세요.\n",
    "print(matrix[0:2,1:4])"
   ]
  },
  {
   "cell_type": "markdown",
   "metadata": {},
   "source": [
    "# 3. Reshape, 이어 붙이고 나누기"
   ]
  },
  {
   "cell_type": "markdown",
   "metadata": {},
   "source": [
    "## 1 ) reshape"
   ]
  },
  {
   "cell_type": "code",
   "execution_count": 3,
   "metadata": {
    "ExecuteTime": {
     "end_time": "2020-06-11T14:12:05.720209Z",
     "start_time": "2020-06-11T14:12:05.711206Z"
    }
   },
   "outputs": [
    {
     "name": "stdout",
     "output_type": "stream",
     "text": [
      "[0 1 2 3 4 5 6 7]\n",
      "(8,)\n",
      "[[0 1 2 3]\n",
      " [4 5 6 7]]\n"
     ]
    }
   ],
   "source": [
    "x = np.arange(8)\n",
    "print(x)\n",
    "print(x.shape)\n",
    "\n",
    "x2 = x.reshape((2,4))\n",
    "print(x2)"
   ]
  },
  {
   "cell_type": "markdown",
   "metadata": {},
   "source": [
    "## 2 ) 이어붙이기"
   ]
  },
  {
   "cell_type": "code",
   "execution_count": 5,
   "metadata": {
    "ExecuteTime": {
     "end_time": "2020-06-11T14:13:33.609725Z",
     "start_time": "2020-06-11T14:13:33.597716Z"
    },
    "scrolled": false
   },
   "outputs": [
    {
     "data": {
      "text/plain": [
       "array([[0, 1],\n",
       "       [2, 3],\n",
       "       [0, 1],\n",
       "       [2, 3]])"
      ]
     },
     "execution_count": 5,
     "metadata": {},
     "output_type": "execute_result"
    }
   ],
   "source": [
    "x = np.array([0,1,2])\n",
    "y = np.array([3,4,5])\n",
    "\n",
    "# 가로로 붙인다\n",
    "np.concatenate([x,y])\n",
    "\n",
    "# 세로로 붙인다 : axis = 0 으로 설정\n",
    "matrix = np.arange(4).reshape(2,2)\n",
    "np.concatenate([matrix, matrix], axis = 0)"
   ]
  },
  {
   "cell_type": "markdown",
   "metadata": {},
   "source": [
    "## 3 ) 나누기"
   ]
  },
  {
   "cell_type": "code",
   "execution_count": 10,
   "metadata": {
    "ExecuteTime": {
     "end_time": "2020-06-11T14:15:53.369137Z",
     "start_time": "2020-06-11T14:15:53.358133Z"
    }
   },
   "outputs": [
    {
     "name": "stdout",
     "output_type": "stream",
     "text": [
      "[[ 0  1  2  3]\n",
      " [ 4  5  6  7]\n",
      " [ 8  9 10 11]]\n",
      "**\n",
      "[[12 13 14 15]]\n",
      "************\n",
      "[[ 0  1  2]\n",
      " [ 4  5  6]\n",
      " [ 8  9 10]\n",
      " [12 13 14]]\n",
      "**\n",
      "[[ 3]\n",
      " [ 7]\n",
      " [11]\n",
      " [15]]\n"
     ]
    }
   ],
   "source": [
    "matrix = np.arange(16).reshape(4,4)\n",
    "\n",
    "# index = 3미만, 이상으로 나눈다\n",
    "upper, lower = np.split(matrix, [3], axis = 0)\n",
    "print(upper)\n",
    "print('**')\n",
    "print(lower)\n",
    "\n",
    "\n",
    "print('************')\n",
    "matrix = np.arange(16).reshape(4,4)\n",
    "\n",
    "# index = 3미만, 이상으로 나눈다\n",
    "upper, lower = np.split(matrix, [3], axis = 1)\n",
    "print(upper)\n",
    "print('**')\n",
    "print(lower)"
   ]
  },
  {
   "cell_type": "markdown",
   "metadata": {},
   "source": [
    "## 4 ) 문제"
   ]
  },
  {
   "cell_type": "code",
   "execution_count": null,
   "metadata": {},
   "outputs": [],
   "source": [
    "import numpy as np\n",
    "\n",
    "print(\"array\")\n",
    "array = np.arange(8)\n",
    "print(array)\n",
    "print(\"shape : \", array.shape, \"\\n\")\n",
    "\n",
    "# Q1. array를 (2,4) 크기로 reshape하여 matrix에 저장한 뒤 matrix와 그의 shape를 출력해보세요.\n",
    "print(\"# reshape (2, 4)\")\n",
    "matrix = array.reshape(2, 4)\n",
    "\n",
    "\n",
    "print(matrix)\n",
    "print(\"shape : \", matrix.shape)\n"
   ]
  },
  {
   "cell_type": "code",
   "execution_count": null,
   "metadata": {},
   "outputs": [],
   "source": [
    "import numpy as np\n",
    "\n",
    "print(\"matrix\")\n",
    "matrix = np.array([[0,1,2,3],\n",
    "                   [4,5,6,7]])\n",
    "print(matrix)\n",
    "print(\"shape : \", matrix.shape, \"\\n\")\n",
    "\n",
    "# (아래의 배열 모양을 참고하세요.)\n",
    "# Q1. matrix 두 개를 세로로 붙이기 \n",
    "'''\n",
    "[[0 1 2 3]\n",
    " [4 5 6 7]\n",
    " [0 1 2 3]\n",
    " [4 5 6 7]]\n",
    "'''\n",
    "m = np.concatenate([matrix, matrix], axis = 0)\n",
    "\n",
    "\n",
    "\n",
    "# Q2. matrix 두 개를 가로로 붙이기\n",
    "'''\n",
    "[[0 1 2 3 0 1 2 3]\n",
    " [4 5 6 7 4 5 6 7]]\n",
    "'''\n",
    "\n",
    "\n",
    "n = np.concatenate([matrix, matrix], axis = 1)"
   ]
  },
  {
   "cell_type": "code",
   "execution_count": null,
   "metadata": {},
   "outputs": [],
   "source": [
    "import numpy as np\n",
    "\n",
    "print(\"matrix\")\n",
    "matrix = np.array([[ 0, 1, 2, 3],\n",
    "                   [ 4, 5, 6, 7],\n",
    "                   [ 8, 9,10,11], \n",
    "                   [12,13,14,15]])\n",
    "print(matrix, \"\\n\")\n",
    "\n",
    "# Q1. matrix를 [3] 행에서 axis 0으로 나누기\n",
    "'''\n",
    "[[0  1   2  3]\n",
    " [4  5   6  7]\n",
    " [8  9  10 11]],\n",
    "\n",
    " [12 13 14 15]\n",
    "'''\n",
    "a, b = np.split(matrix, [3], axis = 0)\n",
    "\n",
    "print(a, \"\\n\")\n",
    "print(b, \"\\n\")\n",
    "\n",
    "\n",
    "# Q2. matrix를 [1] 열에서 axis 1로 나누기\n",
    "'''\n",
    "[[ 0]\n",
    " [ 4]\n",
    " [ 8]\n",
    " [12]],\n",
    "\n",
    "[[ 1  2  3]\n",
    " [ 5  6  7]\n",
    " [ 9 10 11]\n",
    " [13 14 15]]\n",
    "'''\n",
    "\n",
    "c, d = np.split(matrix, [1], axis = 1)\n",
    "\n",
    "print(c, \"\\n\")\n",
    "print(d)"
   ]
  },
  {
   "cell_type": "markdown",
   "metadata": {},
   "source": [
    "# 4. numpy 연산"
   ]
  },
  {
   "cell_type": "code",
   "execution_count": null,
   "metadata": {},
   "outputs": [],
   "source": [
    "import numpy as np\n",
    "\n",
    "array = np.array([1,2,3,4,5])\n",
    "print(array)\n",
    "\n",
    "\n",
    "# Q1. array에 5를 더한 값을 출력해보세요.\n",
    "print(array + 5)\n",
    "\n",
    "# Q2. array에 5를 뺀 값을 출력해보세요.\n",
    "print(array - 5)\n",
    "\n",
    "# Q3. array에 5를 곱한 값을 출력해보세요.\n",
    "print(array * 5)\n",
    "\n",
    "# Q4. array를 5로 나눈 값을 출력해보세요.\n",
    "print(array / 5)\n",
    "\n",
    "\n",
    "# Q5. array에 array2를 더한 값을 출력해보세요.    \n",
    "array2 = np.array([5,4,3,2,1])\n",
    "print(array + array2)\n",
    "\n",
    "\n",
    "# Q6. array에 array2를 뺀 값을 출력해보세요.\n",
    "print(array - array2)"
   ]
  },
  {
   "cell_type": "markdown",
   "metadata": {},
   "source": [
    "# 5. 브로드캐스팅"
   ]
  },
  {
   "cell_type": "code",
   "execution_count": null,
   "metadata": {},
   "outputs": [],
   "source": [
    "import numpy as np\n",
    "\n",
    "'''\n",
    "[[0]\n",
    " [1]\n",
    " [2]\n",
    " [3]\n",
    " [4]\n",
    " [5]] 배열 A와\n",
    "\n",
    " [0 1 2 3 4 5] 배열 B를 선언하고, 덧셈 연산해보세요.\n",
    "'''\n",
    "\n",
    "A = np.arange(6).reshape(6,1)\n",
    "B = np.arange(6)\n",
    "print(A + B)"
   ]
  },
  {
   "cell_type": "markdown",
   "metadata": {},
   "source": [
    "# 6. 집계함수 & 마스킹 연산"
   ]
  },
  {
   "cell_type": "code",
   "execution_count": null,
   "metadata": {},
   "outputs": [],
   "source": [
    "import numpy as np\n",
    "\n",
    "matrix = np.arange(8).reshape((2, 4))\n",
    "print(matrix)\n",
    "\n",
    "# Q1. sum 함수로 matrix의 총 합계를 구해 출력해보세요.\n",
    "print(np.sum(matrix))\n",
    "\n",
    "# Q2. max 함수로 matrix 중 최댓값을 구해 출력해보세요.\n",
    "print(np.max(matrix))\n",
    "\n",
    "# Q3. min 함수로 matrix 중 최솟값을 구해 출력해보세요.\n",
    "print(np.min(matrix))\n",
    "\n",
    "# Q4. mean 함수로 matrix의 평균값을 구해 출력해보세요.\n",
    "print(np.mean(matrix))\n",
    "\n",
    "# Q5. sum 함수의 axis 매개변수로 각 열의 합을 구해 출력해보세요.\n",
    "print(np.sum(matrix, axis=0))\n",
    "\n",
    "# Q6. sum 함수의 axis 매개변수로 각 행의 합을 구해 출력해보세요.\n",
    "print(np.sum(matrix, axis=1))\n",
    "\n",
    "# Q7. std 함수로 matrix의 표준편차를 구해 출력해보세요.\n",
    "print(np.std(matrix))\n",
    "\n",
    "# Q8. 마스킹 연산을 이용하여 matrix 중 5보다 작은 수들만 추출하여 출력해보세요.\n",
    "print(matrix[matrix<5])"
   ]
  },
  {
   "cell_type": "markdown",
   "metadata": {},
   "source": [
    "# 7. 양치기 소년의 거짓말 횟수 구하기"
   ]
  },
  {
   "cell_type": "code",
   "execution_count": null,
   "metadata": {},
   "outputs": [],
   "source": [
    "\n",
    "import numpy as np\n",
    "\n",
    "daily_liar_data = [0, 0, 0, 0, 0, 1, 1, 0, 1, 1, 0, 0, 0, 1, 0, 0, 1, 0, 0, 1, 0, 0, 0, 1, 0, 0, 0, 0, 0, 1, 0, 0, 0, 1, 0, 0, 0, 0, 0, 0, 0, 0, 0, 0, 1, 1, 0, 1, 1, 0, 0, 0, 0, 0, 1, 0, 1, 0, 0, 1, 0, 1, 0, 0, 1, 0, 0, 0, 0, 0, 1, 0, 1, 0, 1, 1, 0, 0, 0, 1, 0, 0, 0, 1, 0, 0, 1, 0, 0, 1, 0, 1, 0, 0, 1, 0, 0, 0, 0, 0]\n",
    "\n",
    "\n",
    "# 양치기 소년이 거짓말을 몇 번 했는지 구하여 출력해주세요.\n",
    "\n",
    "def main() :\n",
    "    # 해당하는 코드 작성\n",
    "    print (100 - np.sum(daily_liar_data))\n",
    "\n",
    "if __name__ == \"__main__\" :\n",
    "    main()\n"
   ]
  }
 ],
 "metadata": {
  "kernelspec": {
   "display_name": "Python [conda env:cpu_env] *",
   "language": "python",
   "name": "conda-env-cpu_env-py"
  },
  "language_info": {
   "codemirror_mode": {
    "name": "ipython",
    "version": 3
   },
   "file_extension": ".py",
   "mimetype": "text/x-python",
   "name": "python",
   "nbconvert_exporter": "python",
   "pygments_lexer": "ipython3",
   "version": "3.6.9"
  },
  "toc": {
   "base_numbering": 1,
   "nav_menu": {},
   "number_sections": true,
   "sideBar": true,
   "skip_h1_title": false,
   "title_cell": "Table of Contents",
   "title_sidebar": "Contents",
   "toc_cell": false,
   "toc_position": {},
   "toc_section_display": true,
   "toc_window_display": false
  },
  "varInspector": {
   "cols": {
    "lenName": 16,
    "lenType": 16,
    "lenVar": 40
   },
   "kernels_config": {
    "python": {
     "delete_cmd_postfix": "",
     "delete_cmd_prefix": "del ",
     "library": "var_list.py",
     "varRefreshCmd": "print(var_dic_list())"
    },
    "r": {
     "delete_cmd_postfix": ") ",
     "delete_cmd_prefix": "rm(",
     "library": "var_list.r",
     "varRefreshCmd": "cat(var_dic_list()) "
    }
   },
   "types_to_exclude": [
    "module",
    "function",
    "builtin_function_or_method",
    "instance",
    "_Feature"
   ],
   "window_display": false
  }
 },
 "nbformat": 4,
 "nbformat_minor": 2
}
