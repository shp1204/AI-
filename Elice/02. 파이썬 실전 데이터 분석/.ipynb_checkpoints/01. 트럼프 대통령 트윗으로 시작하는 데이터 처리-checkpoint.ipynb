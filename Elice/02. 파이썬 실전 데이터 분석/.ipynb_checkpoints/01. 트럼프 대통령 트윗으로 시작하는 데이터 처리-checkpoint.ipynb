{
 "cells": [
  {
   "cell_type": "markdown",
   "metadata": {},
   "source": [
    "# 1. 문장의 단어를 하나씩 가져오기"
   ]
  },
  {
   "cell_type": "code",
   "execution_count": null,
   "metadata": {},
   "outputs": [],
   "source": [
    "# 트럼프 대통령의 1월 1~3일 트윗을 각각 리스트의 원소로 저장합니다.\n",
    "trump_tweets = [\n",
    "    'Will be leaving Florida for Washington (D.C.) today at 4:00 P.M. Much work to be done, but it will be a great New Year!',\n",
    "    'Companies are giving big bonuses to their workers because of the Tax Cut Bill. Really great!',\n",
    "    'MAKE AMERICA GREAT AGAIN!'\n",
    "]\n",
    "\n",
    "def date_tweet(tweet):\n",
    "    # index에 0~2을 차례대로 저장하여 반복문을 실행합니다.\n",
    "    for index in range(len(tweet)):\n",
    "        print('2018년 1월 ' + str(index+1) + '일: ' + tweet[index])\n",
    "\n",
    "\n",
    "# 실행 결과를 확인하기 위한 코드입니다.\n",
    "date_tweet(trump_tweets)"
   ]
  },
  {
   "cell_type": "markdown",
   "metadata": {},
   "source": [
    "# 2. 단어의 일부분"
   ]
  },
  {
   "cell_type": "code",
   "execution_count": null,
   "metadata": {},
   "outputs": [],
   "source": [
    "# 트럼프 대통령 트윗을 공백 기준으로 분리한 리스트입니다. 수정하지 마세요.\n",
    "trump_tweets = ['thank', 'you', 'to', 'president', 'moon', 'of', 'south', 'korea', 'for', 'the', 'beautiful', 'welcoming', 'ceremony', 'it', 'will', 'always', 'be', 'remembered']\n",
    "\n",
    "def print_korea(text):\n",
    "    for word in text :\n",
    "        if word[0] == 'k' :\n",
    "            print(word)\n",
    "    \n",
    "\n",
    "print_korea(trump_tweets)"
   ]
  },
  {
   "cell_type": "markdown",
   "metadata": {},
   "source": [
    "# 3. 단어의 첫 글자 확인하기"
   ]
  },
  {
   "cell_type": "code",
   "execution_count": null,
   "metadata": {},
   "outputs": [],
   "source": [
    "# 트럼프 대통령 트윗을 공백 기준으로 분리한 리스트입니다. 수정하지 마세요.\n",
    "trump_tweets = ['thank', 'you', 'to', 'president', 'moon', 'of', 'south', 'korea', 'for', 'the', 'beautiful', 'welcoming', 'ceremony', 'it', 'will', 'always', 'be', 'remembered']\n",
    "\n",
    "def print_korea(text):\n",
    "    for word in text :\n",
    "        if word.startswith('k') :\n",
    "            print(word)\n",
    "\n",
    "print_korea(trump_tweets)"
   ]
  },
  {
   "cell_type": "markdown",
   "metadata": {},
   "source": [
    "# 4. 문장을 단어 단위로 구분하기"
   ]
  },
  {
   "cell_type": "code",
   "execution_count": null,
   "metadata": {},
   "outputs": [],
   "source": [
    "# 트럼프 대통령의 트윗으로 구성된 문자열입니다. 수정하지 마세요. \n",
    "trump_tweets = \"thank you to president moon of south korea for the beautiful welcoming ceremony it will always be remembered\"\n",
    "\n",
    "def break_into_words(text):\n",
    "    # 아래 코드를 작성하세요.\n",
    "    words = trump_tweets.split(' ')\n",
    "    return words\n",
    "\n",
    "\n",
    "# 아래 주석을 해제하고 결과를 확인해보세요.  \n",
    "print(break_into_words(trump_tweets))"
   ]
  },
  {
   "cell_type": "markdown",
   "metadata": {},
   "source": [
    "# 5. 새로운 단어 추가하기"
   ]
  },
  {
   "cell_type": "code",
   "execution_count": null,
   "metadata": {},
   "outputs": [],
   "source": [
    "# 트럼프 대통령 트윗을 공백 기준으로 분리한 리스트입니다. 수정하지 마세요.\n",
    "trump_tweets = ['america', 'is', 'back', 'and', 'we', 'are', 'coming', 'back', 'bigger', 'and', 'better', 'and', 'stronger', 'than', 'ever', 'before']\n",
    "\n",
    "def make_new_list(text):\n",
    "    # 아래 코드를 작성하세요.\n",
    "    \n",
    "    new_list = []\n",
    "    for word in text :\n",
    "        if word.startswith('b') :\n",
    "            new_list.append(word)\n",
    "    \n",
    "    return new_list\n",
    "\n",
    "\n",
    "# 아래 주석을 해제하고 결과를 확인해보세요.  \n",
    "new_list = make_new_list(trump_tweets)\n",
    "print(new_list)"
   ]
  },
  {
   "cell_type": "markdown",
   "metadata": {},
   "source": [
    "# 6. 대소문자 변환하기"
   ]
  },
  {
   "cell_type": "code",
   "execution_count": null,
   "metadata": {},
   "outputs": [],
   "source": [
    "# 트럼프 대통령의 트윗 세개로 구성된 리스트입니다. 수정하지 마세요.\n",
    "trump_tweets = [\n",
    "    \"FAKE NEWS - A TOTAL POLITICAL WITCH HUNT!\",\n",
    "    \"Any negative polls are fake news, just like the CNN, ABC, NBC polls in the election.\",\n",
    "    \"The Fake News media is officially out of control.\",\n",
    "]\n",
    " \n",
    "def lowercase_all_characters(text):\n",
    "    processed_text = []\n",
    "    for sentence in text :\n",
    "        processed_text.append(sentence.lower())\n",
    "\n",
    "\n",
    "    return processed_text\n",
    "\n",
    "print('\\n'.join(lowercase_all_characters(trump_tweets)))"
   ]
  },
  {
   "cell_type": "markdown",
   "metadata": {},
   "source": [
    "# 7. 특수기호 삭제하기"
   ]
  },
  {
   "cell_type": "code",
   "execution_count": null,
   "metadata": {},
   "outputs": [],
   "source": [
    "# 트럼프 대통령의 트윗 세개로 구성된 리스트입니다. 수정하지 마세요.\n",
    "trump_tweets = [\n",
    "    \"i hope everyone is having a great christmas, then tomorrow it’s back to work in order to make america great again.\",\n",
    "    \"7 of 10 americans prefer 'merry christmas' over 'happy holidays'.\",\n",
    "    \"merry christmas!!!\",\n",
    "]\n",
    "\n",
    "def remove_special_characters(text):\n",
    "    processed_text = []\n",
    "    \n",
    "    for sentence in text :\n",
    "        processed_text.append(sentence.replace(',','').replace(\"'\",'').replace('!',''))\n",
    "    \n",
    "    \n",
    "    \n",
    "    return processed_text\n",
    "\n",
    "\n",
    "# 아래 주석을 해제하고 결과를 확인해보세요.  \n",
    "print('\\n'.join(remove_special_characters(trump_tweets)))"
   ]
  }
 ],
 "metadata": {
  "kernelspec": {
   "display_name": "Python [conda env:cpu_env] *",
   "language": "python",
   "name": "conda-env-cpu_env-py"
  },
  "language_info": {
   "codemirror_mode": {
    "name": "ipython",
    "version": 3
   },
   "file_extension": ".py",
   "mimetype": "text/x-python",
   "name": "python",
   "nbconvert_exporter": "python",
   "pygments_lexer": "ipython3",
   "version": "3.6.9"
  },
  "toc": {
   "base_numbering": 1,
   "nav_menu": {},
   "number_sections": true,
   "sideBar": true,
   "skip_h1_title": false,
   "title_cell": "Table of Contents",
   "title_sidebar": "Contents",
   "toc_cell": false,
   "toc_position": {},
   "toc_section_display": true,
   "toc_window_display": false
  },
  "varInspector": {
   "cols": {
    "lenName": 16,
    "lenType": 16,
    "lenVar": 40
   },
   "kernels_config": {
    "python": {
     "delete_cmd_postfix": "",
     "delete_cmd_prefix": "del ",
     "library": "var_list.py",
     "varRefreshCmd": "print(var_dic_list())"
    },
    "r": {
     "delete_cmd_postfix": ") ",
     "delete_cmd_prefix": "rm(",
     "library": "var_list.r",
     "varRefreshCmd": "cat(var_dic_list()) "
    }
   },
   "types_to_exclude": [
    "module",
    "function",
    "builtin_function_or_method",
    "instance",
    "_Feature"
   ],
   "window_display": false
  }
 },
 "nbformat": 4,
 "nbformat_minor": 2
}
