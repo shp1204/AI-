{
 "cells": [
  {
   "cell_type": "markdown",
   "metadata": {
    "heading_collapsed": true
   },
   "source": [
    "# 실습 1 두수의 합"
   ]
  },
  {
   "cell_type": "markdown",
   "metadata": {
    "hidden": true
   },
   "source": [
    "숫자들의 배열이 주어지고 표적 숫자가 주어졌다고 합시다.배열에 주어진 숫자들 중 두 개의 숫자를 더하면 표적 숫자가 되는데요, 이때 어떤 두 수를 더하면 표적숫자가 되는지 찾는 문제를 풀어 봅시다.예를 들어서, [2, 8, 19, 37, 4, 5] 가 배열로 주어지고 12 가 표적으로 주어지면 8,4 를 찾아내시면 됩니다.\n",
    "\n",
    "입력 배열에는 중복되는 수가 없습니다.\n",
    "입력 배열에는 합해서 표적이 되는 어떤 두 수가 반드시 있습니다.\n",
    "출력의 순서는 상관 없습니다. 위 예시의 경우, 8,4 와 4,8은 둘 다 정답으로 인정합니다."
   ]
  },
  {
   "cell_type": "markdown",
   "metadata": {
    "heading_collapsed": true,
    "hidden": true
   },
   "source": [
    "## 방법 1"
   ]
  },
  {
   "cell_type": "code",
   "execution_count": 10,
   "metadata": {
    "ExecuteTime": {
     "end_time": "2020-06-01T19:22:04.210480Z",
     "start_time": "2020-06-01T19:22:04.196470Z"
    },
    "hidden": true
   },
   "outputs": [
    {
     "name": "stdout",
     "output_type": "stream",
     "text": [
      "(4, 8)\n"
     ]
    }
   ],
   "source": [
    "def twoSum(nums, target):\n",
    "    nums = sorted(nums)\n",
    "\n",
    "    nums2 = []\n",
    "    for num in nums :\n",
    "        if num <= target :\n",
    "            nums2.append(num)\n",
    "\n",
    "    for i in range(len(nums2)) :\n",
    "        for j in range(i+1,len(nums2)) :\n",
    "            if nums2[i] + nums2[j] == target :\n",
    "                a = nums2[i]\n",
    "                b = nums2[j]\n",
    "    \n",
    "    return a,b\n",
    "\n",
    "def main():\n",
    "    print(twoSum([2, 8, 19, 37, 4, 5], 12))\n",
    "\n",
    "if __name__ == \"__main__\":\n",
    "    main()"
   ]
  },
  {
   "cell_type": "markdown",
   "metadata": {
    "hidden": true
   },
   "source": [
    "Testcase 1(30점): 정답입니다! \n",
    "\n",
    "Testcase 2(30점): 정답입니다! \n",
    "\n",
    "Testcase 3(30점): 정답입니다! \n",
    "\n",
    "Testcase 4(5점): 실행 실패. \n",
    "\n",
    "\t제출하신 함수는 0.062466 초의 제한 시간 안에 테스트 케이스 4의 실행을 끝내지 못했습니다. \n",
    "\t효율적으로 작성된 함수는 그 1/10인 0.006247 초 또는 그 이하의 시간에 실행을 마칠 수 있습니다. \n",
    "\t코드를 더 효율적으로 수정해서 다시 도전 해 보세요! \n",
    "    \n",
    "Testcase 5(5점): 실행 실패. \n",
    "\n",
    "\t제출하신 함수는 1.315091 초의 제한 시간 안에 테스트 케이스 5의 실행을 끝내지 못했습니다. \n",
    "\t효율적으로 작성된 함수는 그 1/10인 0.131509 초 또는 그 이하의 시간에 실행을 마칠 수 있습니다. \n",
    "\t코드를 더 효율적으로 수정해서 다시 도전 해 보세요! \n",
    "\n",
    "최종 점수: 90 points\n",
    "\n",
    "코드 실행이 완료되었습니다."
   ]
  },
  {
   "cell_type": "markdown",
   "metadata": {
    "heading_collapsed": true,
    "hidden": true
   },
   "source": [
    "## 방법 2"
   ]
  },
  {
   "cell_type": "code",
   "execution_count": 7,
   "metadata": {
    "ExecuteTime": {
     "end_time": "2020-06-01T19:03:07.063671Z",
     "start_time": "2020-06-01T19:03:07.051665Z"
    },
    "hidden": true
   },
   "outputs": [
    {
     "name": "stdout",
     "output_type": "stream",
     "text": [
      "(8, 4)\n"
     ]
    }
   ],
   "source": [
    "def twoSum(nums, target):\n",
    "    nums = sorted(nums)\n",
    "\n",
    "    nums2 = []\n",
    "    for num in nums :\n",
    "        if num <= target :\n",
    "            nums2.append(num)\n",
    "\n",
    "    for i in range(len(nums2)) :\n",
    "        minus = target - nums2[i]\n",
    "        if minus in nums2 and minus != nums2[i] :\n",
    "            a = nums2[i]\n",
    "            b = minus\n",
    "    \n",
    "    return a,b\n",
    "\n",
    "def main():\n",
    "    print(twoSum([2, 8, 19, 37, 4, 5], 12))\n",
    "\n",
    "if __name__ == \"__main__\":\n",
    "    main()"
   ]
  },
  {
   "cell_type": "markdown",
   "metadata": {
    "ExecuteTime": {
     "end_time": "2020-06-01T19:04:42.726546Z",
     "start_time": "2020-06-01T19:04:42.719538Z"
    },
    "hidden": true
   },
   "source": [
    "Testcase 1(30점): 정답입니다! \n",
    "\n",
    "Testcase 2(30점): 정답입니다! \n",
    "\n",
    "Testcase 3(30점): 정답입니다! \n",
    "\n",
    "Testcase 4(5점): 실행 실패. \n",
    "\n",
    "\t제출하신 함수는 0.098283 초의 제한 시간 안에 테스트 케이스 4의 실행을 끝내지 못했습니다. \n",
    "\t효율적으로 작성된 함수는 그 1/10인 0.009828 초 또는 그 이하의 시간에 실행을 마칠 수 있습니다. \n",
    "\t코드를 더 효율적으로 수정해서 다시 도전 해 보세요! \n",
    "    \n",
    "Testcase 5(5점): 실행 실패. \n",
    "\n",
    "\t제출하신 함수는 0.654562 초의 제한 시간 안에 테스트 케이스 5의 실행을 끝내지 못했습니다. \n",
    "\t효율적으로 작성된 함수는 그 1/10인 0.065456 초 또는 그 이하의 시간에 실행을 마칠 수 있습니다. \n",
    "\t코드를 더 효율적으로 수정해서 다시 도전 해 보세요! \n",
    "\n",
    "최종 점수: 90 points\n",
    "\n",
    "코드 실행이 완료되었습니다."
   ]
  },
  {
   "cell_type": "markdown",
   "metadata": {
    "heading_collapsed": true,
    "hidden": true
   },
   "source": [
    "## 방법 3\n",
    "더 세분화 시켜주자."
   ]
  },
  {
   "cell_type": "code",
   "execution_count": 9,
   "metadata": {
    "ExecuteTime": {
     "end_time": "2020-06-01T19:21:51.078162Z",
     "start_time": "2020-06-01T19:21:51.067154Z"
    },
    "hidden": true
   },
   "outputs": [
    {
     "name": "stdout",
     "output_type": "stream",
     "text": [
      "(4, 8)\n"
     ]
    }
   ],
   "source": [
    "def twoSum(nums, target):\n",
    "    nums.sort()\n",
    "    i = 0\n",
    "    j = len(nums) -1\n",
    "    \n",
    "    while i < j :\n",
    "        \n",
    "        sum = nums[i] + nums[j]\n",
    "        \n",
    "        if sum == target :\n",
    "            return nums[i], nums[j]\n",
    "        \n",
    "        elif sum > target : # 값을 줄여가면서\n",
    "            j -= 1\n",
    "            \n",
    "        else : # 값을 올려가면서\n",
    "            i += 1\n",
    "\n",
    "def main():\n",
    "    print(twoSum([2, 8, 19, 37, 4, 5], 12))\n",
    "\n",
    "if __name__ == \"__main__\":\n",
    "    main()"
   ]
  },
  {
   "cell_type": "markdown",
   "metadata": {
    "hidden": true
   },
   "source": [
    "Testcase 1(30점): 정답입니다! \n",
    "\n",
    "Testcase 2(30점): 정답입니다! \n",
    "\n",
    "Testcase 3(30점): 정답입니다! \n",
    "\n",
    "Testcase 4(5점): 정답입니다! \n",
    "\n",
    "Testcase 5(5점): 정답입니다! \n",
    "\n",
    "최종 점수: 100 points\n",
    "\n",
    "코드 실행이 완료되었습니다."
   ]
  },
  {
   "cell_type": "markdown",
   "metadata": {
    "heading_collapsed": true
   },
   "source": [
    "# 실습 2 가장 큰 두수의 차"
   ]
  },
  {
   "cell_type": "markdown",
   "metadata": {
    "hidden": true
   },
   "source": [
    "0보다 큰 정수들의 배열이 주어졌다고 합시다. 여기서 가능한 모든 서로 다른 두 숫자의 차이를 고려 해 보고, 이중 가장 큰 차이를 반환하는 함수를 적어봅시다. 예를 들어서, [2, 8, 19, 37, 4, 5, 12, 50, 1, 34, 23] 가 입력으로 주어졌을 경우 가장 큰 차이를 내는 숫자쌍은 50-1 = 49 입니다.\n",
    "\n",
    "두 수의 차에 해당하는 값을 반환하면 됩니다. 위 예시의 경우, 49를 반환합니다.\n",
    "양의 값을 반환해야 합니다. 위 예시의 경우 -49가 아니라 49를 반환해야 합니다.\n",
    "배열의 길이는 2보다 크거나 같다고 가정합니다.\n",
    "이 문제에는 여러 종류의 풀이법이 존재합니다. 각 풀이법의 시간 복잡도를 고려하면서 여러가지 방법으로 문제를 풀어 봅시다."
   ]
  },
  {
   "cell_type": "markdown",
   "metadata": {
    "heading_collapsed": true,
    "hidden": true
   },
   "source": [
    "## 방법 1"
   ]
  },
  {
   "cell_type": "code",
   "execution_count": 11,
   "metadata": {
    "ExecuteTime": {
     "end_time": "2020-06-01T19:25:42.688492Z",
     "start_time": "2020-06-01T19:25:42.679483Z"
    },
    "hidden": true
   },
   "outputs": [
    {
     "name": "stdout",
     "output_type": "stream",
     "text": [
      "49\n"
     ]
    }
   ],
   "source": [
    "def maxTwoDiff(nums):\n",
    "    nums.sort()  \n",
    "    return nums[-1] - nums[0]\n",
    "\n",
    "def main():\n",
    "    print(maxTwoDiff([2, 8, 19, 37, 4, 5, 12, 50, 1, 34, 23])) # 49가 리턴되어야 합니다.\n",
    "\n",
    "if __name__ == \"__main__\":\n",
    "    main()"
   ]
  },
  {
   "cell_type": "markdown",
   "metadata": {
    "hidden": true
   },
   "source": [
    "Testcase 1(20점): 정답입니다! \n",
    "\n",
    "Testcase 2(20점): 정답입니다! \n",
    "\n",
    "Testcase 3(20점): 정답입니다! \n",
    "\n",
    "Testcase 4(20점): 정답입니다! \n",
    "\n",
    "\t 하지만 더 효율적인 해가 존재합니다. 10점 만큼 감점합니다 \n",
    "     \n",
    "Testcase 5(20점): 정답입니다! \n",
    "\n",
    "\t 하지만 더 효율적인 해가 존재합니다. 10점 만큼 감점합니다 \n",
    "\n",
    "최종 점수: 80 points\n",
    "\n",
    "코드 실행이 완료되었습니다."
   ]
  },
  {
   "cell_type": "markdown",
   "metadata": {
    "heading_collapsed": true,
    "hidden": true
   },
   "source": [
    "## 방법 2\n",
    "너무 어렵게 생각하지 말자 !"
   ]
  },
  {
   "cell_type": "code",
   "execution_count": 12,
   "metadata": {
    "ExecuteTime": {
     "end_time": "2020-06-01T19:28:31.574317Z",
     "start_time": "2020-06-01T19:28:31.566308Z"
    },
    "hidden": true
   },
   "outputs": [
    {
     "name": "stdout",
     "output_type": "stream",
     "text": [
      "49\n"
     ]
    }
   ],
   "source": [
    "def maxTwoDiff(nums):\n",
    "    return max(nums) - min(nums)\n",
    "\n",
    "def main():\n",
    "    print(maxTwoDiff([2, 8, 19, 37, 4, 5, 12, 50, 1, 34, 23])) # 49가 리턴되어야 합니다.\n",
    "\n",
    "if __name__ == \"__main__\":\n",
    "    main()"
   ]
  },
  {
   "cell_type": "markdown",
   "metadata": {
    "hidden": true
   },
   "source": [
    "Testcase 1(20점): 정답입니다! \n",
    "\n",
    "Testcase 2(20점): 정답입니다! \n",
    "\n",
    "Testcase 3(20점): 정답입니다! \n",
    "\n",
    "Testcase 4(20점): 정답입니다! \n",
    "\n",
    "Testcase 5(20점): 정답입니다! \n",
    "\n",
    "최종 점수: 100 points\n",
    "\n",
    "코드 실행이 완료되었습니다."
   ]
  },
  {
   "cell_type": "markdown",
   "metadata": {
    "heading_collapsed": true
   },
   "source": [
    "# 실습 3 자동차 객체"
   ]
  },
  {
   "cell_type": "markdown",
   "metadata": {
    "hidden": true
   },
   "source": [
    "Python은 세상의 모든 것을 객체(object)로 바라봅니다.\n",
    "\n",
    "이 문제에는 자동차 객체가 주어져 있는데요, 아직 불완전한 상태입니다.\n",
    "\n",
    "객체에 변수와 함수들을 추가해서 완성 해 봅시다.\n",
    "\n",
    "풀어보세요\n",
    "\n",
    "변수 color를 추가 해 봅시다.\n",
    "\n",
    "함수 speedDown을 추가 해 봅시다.\n",
    "\n",
    "함수 changeColor를 추가 해 봅시다.\n",
    "\n",
    "함수 wheelChange의 내용을 변경 해 봅시다."
   ]
  },
  {
   "cell_type": "code",
   "execution_count": 13,
   "metadata": {
    "ExecuteTime": {
     "end_time": "2020-06-01T19:37:05.650055Z",
     "start_time": "2020-06-01T19:37:05.634043Z"
    },
    "hidden": true
   },
   "outputs": [
    {
     "name": "stdout",
     "output_type": "stream",
     "text": [
      "고객님의 차량은 2017 년에 출고되었습니다.\n",
      "현재 속도는 0 km/h 입니다.\n",
      "변경된 속도는 200 km/h 입니다.\n",
      "바닥에 aluminum 재질의 바퀴가 떨어져 있습니다.\n"
     ]
    }
   ],
   "source": [
    "class Car:\n",
    "    def __init__(self):\n",
    "        self.speed = 0\n",
    "        self.year = 2017\n",
    "        self.wheel = Wheel(\"aluminum\")\n",
    "\n",
    "        # 1. 여기에 새로운 오브젝트 변수, color를 추가 해 주세요.\n",
    "        # 색은 기본적으로 \"white\"로 설정되도록 해 주세요\n",
    "        \n",
    "        self.color = 'white'\n",
    "        \n",
    "    def speedUp(self, addSpeed):\n",
    "        self.speed += addSpeed\n",
    "        \n",
    "    # 2. 여기에 새로운 오브젝트 함수, speedDown을 추가해 주세요\n",
    "    # 변화시키고 싶은 속도량을 입력 받은 후, 그만큼 속도록 감소시키는 일을 하는 함수입니다.\n",
    "    def speedDown(self, minusSpeed):\n",
    "        self.speed -= minusSpeed\n",
    "    \n",
    "    \n",
    "    # 3. 여기에 새로운 함수, changeColor를 추가 해 봅시다.\n",
    "    # 변화시키고 싶은 색을 지정하면, 그 색깔로 차를 도색하는 함수입니다.    \n",
    "    def changeColor(self, color_name) :\n",
    "        self.color = color_name\n",
    "\n",
    "    def wheelChange(self, newWheelType):\n",
    "        \n",
    "        # 4. 객체의 데이터로 다른 객체를 사용 할 수도 있습니다. \n",
    "        # Car 객체는 Wheel 객체를 변수로 가지는데요, \n",
    "        # 여기에는 새 바퀴의 색상을 입력받고(newWheelType), 이를 바탕으로 새로운 Wheel 객체를 만들어서\n",
    "        # 자동차의 wheel 데이터에 할당 하는 함수를 적어 봅시다.\n",
    "        self.wheel = Wheel(newWheelType)\n",
    "        \n",
    "\n",
    "class Wheel:\n",
    "    def __init__(self, newWheelType):\n",
    "        self.wheelType = newWheelType\n",
    "\n",
    "def main():\n",
    "    audi = Car()\n",
    "    print(\"고객님의 차량은 {} 년에 출고되었습니다.\".format(audi.year))\n",
    "    print(\"현재 속도는 {} km/h 입니다.\".format(audi.speed))\n",
    "    audi.speedUp(200)\n",
    "    print(\"변경된 속도는 {} km/h 입니다.\".format(audi.speed))\n",
    "    \n",
    "    randomWheel = Wheel(\"aluminum\")\n",
    "    print(\"바닥에 {} 재질의 바퀴가 떨어져 있습니다.\".format(randomWheel.wheelType))\n",
    "    \n",
    "if __name__ == \"__main__\":\n",
    "    main()\n"
   ]
  },
  {
   "cell_type": "markdown",
   "metadata": {},
   "source": [
    "# 미션 1 중복된 하나의 숫자 찾아내기"
   ]
  },
  {
   "cell_type": "markdown",
   "metadata": {},
   "source": [
    "\n",
    "숫자들의 배열이 주어집니다. 이 배열은 길이 n을 가지며, 1부터 n-1까지의 숫자로 이루어져있습니다. 모든 숫자가 배열에 단 한번씩만 나타납니다. 그런데, 딱 하나의 수가 배열에 두번 등장합니다. 이 중복되는 숫자를 찾아내어 보세요.\n",
    "\n",
    "예를 들어서, [1, 5, 2, 4, 5, 6, 3] 를 살펴봅시다. 배열의 길이는 7이며, 따라서 1~6까지의 숫자들이 한번씩 등장합니다. 그런데 5만 한번 더 등장했네요.따라서 이 경우에는5를 찾아내면 됩니다."
   ]
  },
  {
   "cell_type": "code",
   "execution_count": 40,
   "metadata": {
    "ExecuteTime": {
     "end_time": "2020-06-01T20:05:58.254357Z",
     "start_time": "2020-06-01T20:05:58.243331Z"
    }
   },
   "outputs": [
    {
     "name": "stdout",
     "output_type": "stream",
     "text": [
      "5\n"
     ]
    }
   ],
   "source": [
    "import pandas as pd\n",
    "def findDuplicate(nums):\n",
    "    return pd.Series(nums).value_counts().index[0]\n",
    "\n",
    "def main():\n",
    "    print(findDuplicate([1, 5, 2, 4, 5, 6, 3]))\n",
    "\n",
    "if __name__ == \"__main__\":\n",
    "    main()"
   ]
  },
  {
   "cell_type": "markdown",
   "metadata": {},
   "source": [
    "Testcase 1(30점): 정답입니다! \n",
    "\n",
    "Testcase 2(30점): 정답입니다! \n",
    "\n",
    "Testcase 3(30점): 정답입니다! \n",
    "\n",
    "Testcase 4(5점): 정답입니다! \n",
    "\n",
    "Testcase 5(5점): 정답입니다! \n",
    "\n",
    "\n",
    "최종 점수: 100 points\n",
    "\n",
    "코드 실행이 완료되었습니다."
   ]
  },
  {
   "cell_type": "code",
   "execution_count": 41,
   "metadata": {
    "ExecuteTime": {
     "end_time": "2020-06-01T20:06:41.535047Z",
     "start_time": "2020-06-01T20:06:41.524039Z"
    }
   },
   "outputs": [
    {
     "data": {
      "text/plain": [
       "5"
      ]
     },
     "execution_count": 41,
     "metadata": {},
     "output_type": "execute_result"
    }
   ],
   "source": [
    "## 연습버전\n",
    "\n",
    "import pandas as pd\n",
    "\n",
    "a = [1, 5, 2, 4, 5, 6, 3]\n",
    "a = pd.Series(a)\n",
    "b = a.value_counts()\n",
    "b.index[0]"
   ]
  },
  {
   "cell_type": "markdown",
   "metadata": {},
   "source": [
    "# 미션 2 가장 큰 부분합 구하기"
   ]
  },
  {
   "cell_type": "markdown",
   "metadata": {},
   "source": [
    "정수들의 리스트가 입력으로 들어옵니다. 이 정수들의 리스트를 일부분만 잘라내어 모두 더했을 때의 값을 부분합이라 부릅니다. 이때 가장 큰 부분합을 구해봅시다.\n",
    "\n",
    "예를 들어, [-10, -7, 5, -7, 10, 5, -2, 17, -25, 1]이 입력으로 들어왔다면 [10, 5, -2, 17]을 모두 더한 30이 정답이 됩니다.\n",
    "\n",
    "※입력에는 최소 하나 이상의 양수가 존재합니다.\n",
    "\n",
    "※이 문제에는 여러 종류의 풀이법이 존재합니다. 각 풀이법의 시간 복잡도를 고려하면서 여러가지 방법으로 문제를 풀어 봅시다."
   ]
  },
  {
   "cell_type": "markdown",
   "metadata": {},
   "source": [
    "## 방법1"
   ]
  }
 ],
 "metadata": {
  "kernelspec": {
   "display_name": "Python [conda env:cpu_env] *",
   "language": "python",
   "name": "conda-env-cpu_env-py"
  },
  "language_info": {
   "codemirror_mode": {
    "name": "ipython",
    "version": 3
   },
   "file_extension": ".py",
   "mimetype": "text/x-python",
   "name": "python",
   "nbconvert_exporter": "python",
   "pygments_lexer": "ipython3",
   "version": "3.6.9"
  },
  "toc": {
   "base_numbering": 1,
   "nav_menu": {},
   "number_sections": true,
   "sideBar": true,
   "skip_h1_title": false,
   "title_cell": "Table of Contents",
   "title_sidebar": "Contents",
   "toc_cell": false,
   "toc_position": {},
   "toc_section_display": true,
   "toc_window_display": false
  },
  "varInspector": {
   "cols": {
    "lenName": 16,
    "lenType": 16,
    "lenVar": 40
   },
   "kernels_config": {
    "python": {
     "delete_cmd_postfix": "",
     "delete_cmd_prefix": "del ",
     "library": "var_list.py",
     "varRefreshCmd": "print(var_dic_list())"
    },
    "r": {
     "delete_cmd_postfix": ") ",
     "delete_cmd_prefix": "rm(",
     "library": "var_list.r",
     "varRefreshCmd": "cat(var_dic_list()) "
    }
   },
   "types_to_exclude": [
    "module",
    "function",
    "builtin_function_or_method",
    "instance",
    "_Feature"
   ],
   "window_display": false
  }
 },
 "nbformat": 4,
 "nbformat_minor": 2
}
