{
 "cells": [
  {
   "cell_type": "markdown",
   "metadata": {},
   "source": [
    "# 1. 맛보기 1"
   ]
  },
  {
   "cell_type": "markdown",
   "metadata": {},
   "source": [
    "두 수의 합\n",
    "숫자들의 배열이 주어지고 표적 숫자가 주어졌다고 합시다.배열에 주어진 숫자들 중 두 개의 숫자를 더하면 표적 숫자가 되는데요, 이때 어떤 두 수를 더하면 표적숫자가 되는지 찾는 문제를 풀어 봅시다.예를 들어서, [2, 8, 19, 37, 4, 5] 가 배열로 주어지고 12 가 표적으로 주어지면 8,4 를 찾아내시면 됩니다.\n",
    "\n",
    "입력 배열에는 중복되는 수가 없습니다.\n",
    "입력 배열에는 합해서 표적이 되는 어떤 두 수가 반드시 있습니다.\n",
    "출력의 순서는 상관 없습니다. 위 예시의 경우, 8,4 와 4,8은 둘 다 정답으로 인정합니다."
   ]
  },
  {
   "cell_type": "code",
   "execution_count": 18,
   "metadata": {
    "ExecuteTime": {
     "end_time": "2020-06-01T18:04:49.755323Z",
     "start_time": "2020-06-01T18:04:49.742318Z"
    }
   },
   "outputs": [
    {
     "name": "stdout",
     "output_type": "stream",
     "text": [
      "(4, 8)\n"
     ]
    }
   ],
   "source": [
    "def twoSum(nums, target):\n",
    "    nums = sorted(nums)\n",
    "\n",
    "    nums2 = []\n",
    "    for num in nums :\n",
    "        if num <= target :\n",
    "            nums2.append(num)\n",
    "\n",
    "    for i in range(len(nums2)) :\n",
    "        for j in range(i+1,len(nums2)) :\n",
    "            if nums2[i] + nums2[j] == target :\n",
    "                a = nums2[i]\n",
    "                b = nums2[j]\n",
    "    \n",
    "    return a,b\n",
    "\n",
    "def main():\n",
    "    print(twoSum([2, 8, 19, 37, 4, 5], 12))\n",
    "\n",
    "if __name__ == \"__main__\":\n",
    "    main()"
   ]
  },
  {
   "cell_type": "markdown",
   "metadata": {},
   "source": [
    "Testcase 1(30점): 정답입니다! \n",
    "\n",
    "Testcase 2(30점): 정답입니다! \n",
    "\n",
    "Testcase 3(30점): 정답입니다! \n",
    "\n",
    "Testcase 4(5점): 실행 실패. \n",
    "\n",
    "\t제출하신 함수는 0.062466 초의 제한 시간 안에 테스트 케이스 4의 실행을 끝내지 못했습니다. \n",
    "\t효율적으로 작성된 함수는 그 1/10인 0.006247 초 또는 그 이하의 시간에 실행을 마칠 수 있습니다. \n",
    "\t코드를 더 효율적으로 수정해서 다시 도전 해 보세요! \n",
    "    \n",
    "Testcase 5(5점): 실행 실패. \n",
    "\n",
    "\t제출하신 함수는 1.315091 초의 제한 시간 안에 테스트 케이스 5의 실행을 끝내지 못했습니다. \n",
    "\t효율적으로 작성된 함수는 그 1/10인 0.131509 초 또는 그 이하의 시간에 실행을 마칠 수 있습니다. \n",
    "\t코드를 더 효율적으로 수정해서 다시 도전 해 보세요! \n",
    "\n",
    "최종 점수: 90 points\n",
    "\n",
    "코드 실행이 완료되었습니다."
   ]
  },
  {
   "cell_type": "markdown",
   "metadata": {},
   "source": [
    "# 2. 맛보기2"
   ]
  },
  {
   "cell_type": "markdown",
   "metadata": {},
   "source": [
    "이진 트리 출력하기\n",
    "완벽한 이진 트리가 주어졌다고 합시다. 이때, 이 트리를 출력하기 좋은 형태로 반환하는 함수를 구현 해 봅시다. 위에서부터 순서대로, 트리의 각 층별로 하나의 배열을 만들고, 이 배열들의 배열을 반환하는 형태면 됩니다.\n",
    "\n",
    "예를 들어서\n",
    "\n",
    " 1\n",
    " \n",
    "2 3\n",
    "\n",
    "와 같은 트리가 주어졌을 경우 [[1],[2,3]] 을,\n",
    "\n",
    "   1\n",
    "   \n",
    " 2   3\n",
    " \n",
    "4 5 6  7\n",
    "\n",
    "과 같은 트리가 주어졌을 경우에는 [[1],[2,3],[4,5,6,7]]을 반환하면 됩니다."
   ]
  },
  {
   "cell_type": "code",
   "execution_count": null,
   "metadata": {},
   "outputs": [],
   "source": [
    "# 주어진 코드\n",
    "\n",
    "\n",
    "import queue\n",
    "\n",
    "#====이 문제를 풀기 위해 필요한 클래스와 함수들입니다. 따로 수정 할 필요는 없습니다.\n",
    "class Node():\n",
    "    def __init__(self, val):\n",
    "        self.val = val\n",
    "        self.left = None\n",
    "        self.right = None\n",
    "\n",
    "def listToCompleteBinaryTree(lst):\n",
    "    def helper(index):\n",
    "        if index >= len(lst):\n",
    "            return None\n",
    "        node = Node(lst[index])\n",
    "        node.left = helper(index * 2 + 1)\n",
    "        node.right = helper(index * 2 + 2)\n",
    "        return node\n",
    "    return helper(0)\n",
    "#=================================================================================\n",
    "def printTree(node):\n",
    "    all_lines = []\n",
    "    return all_lines\n",
    "\n",
    "def main():\n",
    "    node = listToCompleteBinaryTree([1,2,3,4,5,6,7])\n",
    "    print(printTree(node)) # [[1], [2, 3], [4, 5, 6, 7]]\n",
    "\n",
    "if __name__ == \"__main__\":\n",
    "    main()\n",
    "    "
   ]
  },
  {
   "cell_type": "code",
   "execution_count": 60,
   "metadata": {
    "ExecuteTime": {
     "end_time": "2020-06-01T18:46:32.852277Z",
     "start_time": "2020-06-01T18:46:32.839267Z"
    }
   },
   "outputs": [
    {
     "name": "stdout",
     "output_type": "stream",
     "text": [
      "[[1], [2, 3], [3, 4, 5, 6]]\n"
     ]
    }
   ],
   "source": [
    "## 실행은 되지만 채점 불가\n",
    "\n",
    "def printTree(node):\n",
    "    lists = node\n",
    "    cnt = 0\n",
    "    total = [0]\n",
    "\n",
    "    while sum(total) < len(lists) :\n",
    "        total.append(2**cnt)\n",
    "        cnt += 1\n",
    "\n",
    "    result = []\n",
    "    for i in range(len(total)-1) :\n",
    "        tmp = []\n",
    "        for j in range(total[i], total[i] + total[i+1]) :\n",
    "            tmp.append(lists[j])\n",
    "\n",
    "        result.append(tmp)\n",
    "    return result\n",
    "\n",
    "def main():\n",
    "    node = [1,2,3,4,5,6,7]\n",
    "    print(printTree(node)) # [[1], [2, 3], [4, 5, 6, 7]]\n",
    "\n",
    "if __name__ == \"__main__\":\n",
    "    main()"
   ]
  },
  {
   "cell_type": "code",
   "execution_count": 62,
   "metadata": {
    "ExecuteTime": {
     "end_time": "2020-06-01T18:48:34.520599Z",
     "start_time": "2020-06-01T18:48:34.508592Z"
    }
   },
   "outputs": [
    {
     "name": "stdout",
     "output_type": "stream",
     "text": [
      "[[1], [2, 3], [3, 4, 5, 6]]\n"
     ]
    }
   ],
   "source": [
    "# def 하지 않고 실행\n",
    "\n",
    "lists = [1,2,3,4,5,6,7]\n",
    "cnt = 0\n",
    "total = [0]\n",
    "\n",
    "while sum(total) < len(lists) :\n",
    "    total.append(2**cnt)\n",
    "    cnt += 1\n",
    "    \n",
    "result = []\n",
    "for i in range(len(total)-1) :\n",
    "    tmp = []\n",
    "    for j in range(total[i], total[i] + total[i+1]) :\n",
    "        tmp.append(lists[j])\n",
    "    \n",
    "    result.append(tmp)\n",
    "\n",
    "print(result)"
   ]
  }
 ],
 "metadata": {
  "kernelspec": {
   "display_name": "Python [conda env:cpu_env] *",
   "language": "python",
   "name": "conda-env-cpu_env-py"
  },
  "language_info": {
   "codemirror_mode": {
    "name": "ipython",
    "version": 3
   },
   "file_extension": ".py",
   "mimetype": "text/x-python",
   "name": "python",
   "nbconvert_exporter": "python",
   "pygments_lexer": "ipython3",
   "version": "3.6.9"
  },
  "toc": {
   "base_numbering": 1,
   "nav_menu": {},
   "number_sections": true,
   "sideBar": true,
   "skip_h1_title": false,
   "title_cell": "Table of Contents",
   "title_sidebar": "Contents",
   "toc_cell": false,
   "toc_position": {},
   "toc_section_display": true,
   "toc_window_display": false
  },
  "varInspector": {
   "cols": {
    "lenName": 16,
    "lenType": 16,
    "lenVar": 40
   },
   "kernels_config": {
    "python": {
     "delete_cmd_postfix": "",
     "delete_cmd_prefix": "del ",
     "library": "var_list.py",
     "varRefreshCmd": "print(var_dic_list())"
    },
    "r": {
     "delete_cmd_postfix": ") ",
     "delete_cmd_prefix": "rm(",
     "library": "var_list.r",
     "varRefreshCmd": "cat(var_dic_list()) "
    }
   },
   "types_to_exclude": [
    "module",
    "function",
    "builtin_function_or_method",
    "instance",
    "_Feature"
   ],
   "window_display": false
  }
 },
 "nbformat": 4,
 "nbformat_minor": 2
}
