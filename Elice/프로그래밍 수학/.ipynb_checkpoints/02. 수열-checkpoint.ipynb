{
 "cells": [
  {
   "cell_type": "markdown",
   "metadata": {},
   "source": [
    "# 1. 등차 수열"
   ]
  },
  {
   "cell_type": "code",
   "execution_count": null,
   "metadata": {},
   "outputs": [],
   "source": [
    "def arithSeq(a, d, n):\n",
    "    # To-do\n",
    "    # 등차수열의 초항 a와 공차 d가 주어졌을 때 \n",
    "    # 이 등차수열의 n번째 항을 구하는 함수를 작성하고, 이를 반환해봅시다.\n",
    "    return a + d * (n-1)\n",
    "    \n",
    "    \n",
    "    \n",
    "# 결과 출력을 위한 코드입니다. 자유롭게 값을 바꿔보며 확인해보세요.\n",
    "print(arithSeq(9, -3, 2))"
   ]
  },
  {
   "cell_type": "markdown",
   "metadata": {},
   "source": [
    "# 2. 등비 수열"
   ]
  },
  {
   "cell_type": "code",
   "execution_count": null,
   "metadata": {},
   "outputs": [],
   "source": [
    "def geoSeq(a, r, n):\n",
    "    # To-do\n",
    "    # 등비수열의 초항 a와 공비 r가 주어졌을 때 \n",
    "    # 이 등비수열의 n번째 항을 구하는 함수를 작성하고, 이를 반환해봅시다.\n",
    "    return a * r ** (n - 1)\n",
    "\n",
    "# 결과 출력을 위한 코드입니다. 자유롭게 값을 바꿔보며 확인해보세요.\n",
    "print(geoSeq(32, 0.5, 3))"
   ]
  },
  {
   "cell_type": "markdown",
   "metadata": {},
   "source": [
    "# 3. 계차 수열"
   ]
  },
  {
   "cell_type": "code",
   "execution_count": null,
   "metadata": {},
   "outputs": [],
   "source": [
    "def seqDiff(a, b, n):\n",
    "    # To-do.\n",
    "    # 초항 a와 계차수열 b로 이루어진 수열 An이 주어졌을 때\n",
    "    # 수열 An의 n번째 항을 구하는 함수를 작성하고, 이를 반환해봅시다.\n",
    "    result = a\n",
    "    for i in range(n-1) :\n",
    "        result += b[i]\n",
    "    \n",
    "    return result\n",
    "    \n",
    "    \n",
    "    \n",
    "# 결과 출력을 위한 코드입니다. 자유롭게 값을 바꿔보며 확인해보세요.\n",
    "print(seqDiff(8, [1, -2, 4, -8, 16], 4))"
   ]
  },
  {
   "cell_type": "markdown",
   "metadata": {},
   "source": [
    "# 4. 급수"
   ]
  },
  {
   "cell_type": "code",
   "execution_count": null,
   "metadata": {},
   "outputs": [],
   "source": [
    "def series(a, n):\n",
    "    # To-do\n",
    "    # 수열 a의 n번째 항까지의 합을 구하는 함수를 작성하고, 이를 반환해봅시다.\n",
    "    result = 0\n",
    "    for i in range(n) :\n",
    "        result += a[i]\n",
    "    return result\n",
    "    \n",
    "# 결과 출력을 위한 코드입니다. 자유롭게 값을 바꿔보며 확인해보세요.\n",
    "print(series([1, 2, 3, 4, 5], 5))"
   ]
  },
  {
   "cell_type": "markdown",
   "metadata": {},
   "source": [
    "# 5. 점화식"
   ]
  },
  {
   "cell_type": "code",
   "execution_count": null,
   "metadata": {},
   "outputs": [],
   "source": [
    "def recurrSeq(a, p, q, n):\n",
    "    # To-do\n",
    "    # 주어진 점화식(p*a + q)을 만족하는 수열의 n번째 항을 구하고, 이를 반환해봅시다.\n",
    "    result = a\n",
    "    for i in range(n-1) :\n",
    "        \n",
    "        result = result * p + q\n",
    "    \n",
    "    return result\n",
    "        \n",
    "    \n",
    "# 결과 출력을 위한 코드입니다. 자유롭게 값을 바꿔보며 확인해보세요.\n",
    "print(recurrSeq(1, 2, 3, 5))"
   ]
  },
  {
   "cell_type": "markdown",
   "metadata": {},
   "source": [
    "# 6. 수학적 귀납법"
   ]
  },
  {
   "cell_type": "markdown",
   "metadata": {},
   "source": [
    "# 7. 분할 정복"
   ]
  },
  {
   "cell_type": "code",
   "execution_count": null,
   "metadata": {},
   "outputs": [],
   "source": [
    "def divSort(a):\n",
    "    # 리스트의 길이가 1보다 작거나 같은 경우\n",
    "    if len(a) <= 1:\n",
    "        return a\n",
    "        \n",
    "    # 리스트의 길이가 2인 경우\n",
    "    elif len(a) == 2:\n",
    "        # To-do: 정렬된 리스트를 반환한다\n",
    "        if a[0] > a[1] :\n",
    "            return [a[1], a[0]]\n",
    "        else :\n",
    "            return a\n",
    "    \n",
    "    # 리스트의 길이가 2보다 큰 경우\n",
    "    else:\n",
    "        l = len(a)\n",
    "        # 기준이 되는 요소를 하나 정한다\n",
    "        m = a[l//2]\n",
    "        d1 = [i for i in a if i < m]\n",
    "        d2 = [i for i in a if i > m]\n",
    "        \n",
    "        # To-do: m을 기준으로 2개의 리스트를 나눈다\n",
    "        s1 = divSort(d1)\n",
    "        s2 = divSort(d2)\n",
    "        return s1 + [m] + s2"
   ]
  },
  {
   "cell_type": "markdown",
   "metadata": {},
   "source": [
    "# 미션 1 복리 이자\n",
    "5 개 예제 중 한 개 오류 발생 => 문제가 뭘까 ?"
   ]
  },
  {
   "cell_type": "code",
   "execution_count": 15,
   "metadata": {
    "ExecuteTime": {
     "end_time": "2020-06-04T17:45:36.034069Z",
     "start_time": "2020-06-04T17:45:36.026062Z"
    }
   },
   "outputs": [
    {
     "name": "stdout",
     "output_type": "stream",
     "text": [
      "40604.01000000001\n"
     ]
    }
   ],
   "source": [
    "def interest(a, r, n):\n",
    "    # To-do\n",
    "    # 등비수열을 통해 n년 후의 금액이 어떻게 되는지 계산해봅시다.(원금 * (1+ 연이자율)^n)\n",
    "    # 총 금액에서 원금을 뺀 금액(이자)을 계산한 후, 이를 반환해보세요.\n",
    "    origin = a\n",
    "    a = a * ((1 + r) ** n)\n",
    "    \n",
    "    result = round( a - origin, 2 )\n",
    "    return result\n",
    "    \n",
    "    \n",
    "# 결과 출력을 위한 코드입니다. 자유롭게 값을 바꿔보며 확인해보세요.\n",
    "print(interest(1000000, 0.01, 2))"
   ]
  },
  {
   "cell_type": "markdown",
   "metadata": {},
   "source": [
    "# 미션 2 재귀함수"
   ]
  },
  {
   "cell_type": "code",
   "execution_count": null,
   "metadata": {},
   "outputs": [],
   "source": [
    "def recurrSeq2(a, p, q, n):\n",
    "    # To-do\n",
    "    # [실습5]와 달리 반복문을 사용하지 않고 재귀함수를 사용하여 \n",
    "    # 점화식을 구현하는 코드를 작성해보세요!\n",
    "    if n == 1:  \n",
    "        return a\n",
    "    else:   \n",
    "        a = recurrSeq2(a, p, q, n-1) * p + q\n",
    "        return a\n",
    "\n",
    "    \n",
    "# 결과 출력을 위한 코드입니다. 자유롭게 값을 바꿔보며 확인해보세요.\n",
    "print(recurrSeq2(-5, -1, 2, 5) )"
   ]
  },
  {
   "cell_type": "markdown",
   "metadata": {},
   "source": [
    "# 미션 3 세제곱의 합"
   ]
  },
  {
   "cell_type": "code",
   "execution_count": null,
   "metadata": {},
   "outputs": [],
   "source": [
    "def cubeSum(n):\n",
    "    # To-do\n",
    "    # 1부터 n까지의 세제곱을 모두 합하는 함수를 작성하고, 이를 반환해보세요\n",
    "    \n",
    "    result = 0\n",
    "    for i in range(1, n + 1) :\n",
    "        result += i**3\n",
    "    return result    \n",
    "\n",
    "\n",
    "# 결과 출력을 위한 코드입니다. 자유롭게 값을 바꿔보며 확인해보세요.\n",
    "print(cubeSum(5))"
   ]
  },
  {
   "cell_type": "markdown",
   "metadata": {},
   "source": [
    "# 미션 4 피보나치 수1"
   ]
  },
  {
   "cell_type": "code",
   "execution_count": null,
   "metadata": {},
   "outputs": [],
   "source": [
    "def fibonacci(n):\n",
    "    # To-do\n",
    "    # 문제의 요구사항에 맞추어 1번과 조건문(if)과 3번 반복문(for)을 사용해서 \n",
    "    # 피보나치 수를 구하고, 이를 반환해보세요.\n",
    "    fib = [1, 1]\n",
    "    \n",
    "    if n <= 1 :\n",
    "        return fib[n]\n",
    "    else :\n",
    "    \n",
    "        for i in range(n-2) :\n",
    "            fib.append(fib[-1] + fib[-2])\n",
    "\n",
    "        return fib[n-1]\n",
    "\n",
    "# 결과 출력을 위한 코드입니다. 자유롭게 값을 바꿔보며 확인해보세요.\n",
    "print(fibonacci(1))"
   ]
  },
  {
   "cell_type": "markdown",
   "metadata": {},
   "source": [
    "# 미션 5 피보나치 수2"
   ]
  },
  {
   "cell_type": "code",
   "execution_count": null,
   "metadata": {},
   "outputs": [],
   "source": [
    "def fibonacci2(n):\n",
    "    # To-do\n",
    "    # [미션4]에서 작성한 함수를 활용해서 n을 넘는 가장 작은 피보나치 수열의 항 번호를 찾아 반환해보세요.\n",
    "    fib = [1, 1]\n",
    "    \n",
    "    while n >= fib[-1] :\n",
    "        fib.append(fib[-1] + fib[-2])\n",
    "        \n",
    "    return len(fib)\n",
    "    \n",
    "    \n",
    "# 결과 출력을 위한 코드입니다. 자유롭게 값을 바꿔보며 확인해보세요.\n",
    "print(fibonacci2(10))"
   ]
  }
 ],
 "metadata": {
  "kernelspec": {
   "display_name": "Python [conda env:cpu_env] *",
   "language": "python",
   "name": "conda-env-cpu_env-py"
  },
  "language_info": {
   "codemirror_mode": {
    "name": "ipython",
    "version": 3
   },
   "file_extension": ".py",
   "mimetype": "text/x-python",
   "name": "python",
   "nbconvert_exporter": "python",
   "pygments_lexer": "ipython3",
   "version": "3.6.9"
  },
  "toc": {
   "base_numbering": 1,
   "nav_menu": {},
   "number_sections": true,
   "sideBar": true,
   "skip_h1_title": false,
   "title_cell": "Table of Contents",
   "title_sidebar": "Contents",
   "toc_cell": false,
   "toc_position": {},
   "toc_section_display": true,
   "toc_window_display": false
  },
  "varInspector": {
   "cols": {
    "lenName": 16,
    "lenType": 16,
    "lenVar": 40
   },
   "kernels_config": {
    "python": {
     "delete_cmd_postfix": "",
     "delete_cmd_prefix": "del ",
     "library": "var_list.py",
     "varRefreshCmd": "print(var_dic_list())"
    },
    "r": {
     "delete_cmd_postfix": ") ",
     "delete_cmd_prefix": "rm(",
     "library": "var_list.r",
     "varRefreshCmd": "cat(var_dic_list()) "
    }
   },
   "types_to_exclude": [
    "module",
    "function",
    "builtin_function_or_method",
    "instance",
    "_Feature"
   ],
   "window_display": false
  }
 },
 "nbformat": 4,
 "nbformat_minor": 2
}
