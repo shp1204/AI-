{
 "cells": [
  {
   "cell_type": "code",
   "execution_count": null,
   "metadata": {},
   "outputs": [],
   "source": [
    "# input\n",
    "# int('123') : 숫자로 변환\n",
    "# !="
   ]
  },
  {
   "cell_type": "markdown",
   "metadata": {},
   "source": [
    "# 실습 1"
   ]
  },
  {
   "cell_type": "code",
   "execution_count": null,
   "metadata": {},
   "outputs": [],
   "source": [
    "# input()을 이용해서 입력을 넣고, 이를 변수 var에 담아봅시다.\n",
    "var = input()\n",
    "    \n",
    "\n",
    "# 앵무새가 말을 따라합니다!\n",
    "print(\"앵무새 :\", var)\n",
    "\n",
    "# 입력한 값이 어떤 자료형인지 확인해봅시다.\n",
    "print(type(var))"
   ]
  },
  {
   "cell_type": "markdown",
   "metadata": {},
   "source": [
    "# 실습 2"
   ]
  },
  {
   "cell_type": "code",
   "execution_count": null,
   "metadata": {},
   "outputs": [],
   "source": [
    "#변수 money에 input을 이용해서 입력을 받아봅시다.\n",
    "money = input()\n",
    "\n",
    "# money를 int형으로 변환해서, 다시 money에 넣어줍시다.\n",
    "money = int(money)\n",
    "\n",
    "# money를 2배 불려서 print로 출력해봅시다.\n",
    "print(money * 2)"
   ]
  },
  {
   "cell_type": "markdown",
   "metadata": {},
   "source": [
    "# 실습 3"
   ]
  },
  {
   "cell_type": "code",
   "execution_count": null,
   "metadata": {},
   "outputs": [],
   "source": [
    "# Q1. == 혹은 != 연산자을 이용해서 True인 명제를 ans1에 넣어봅시다.\n",
    "ans1 = (3 == 3)\n",
    "\n",
    "# Q2. > 혹은 < 연산자를 이용해서 False인 명제를 ans2에 넣어봅시다.\n",
    "ans2 = (3 > 5)\n",
    "\n",
    "# Q3. >= 혹은 <= 연산자를 이용해서 True인 명제를 ans3에 넣어봅시다.\n",
    "ans3 = (5 >= 3)\n",
    "\n",
    "# 위의 세 변수를 출력해서 True, False 여부를 확인해봅시다.\n",
    "print(ans1, ans2, ans3)"
   ]
  },
  {
   "cell_type": "markdown",
   "metadata": {},
   "source": [
    "# 실습 4"
   ]
  },
  {
   "cell_type": "code",
   "execution_count": null,
   "metadata": {},
   "outputs": [],
   "source": [
    "# 괄호 안에 적절한 명제를 채워 stat1이 True가 되게 해봅시다.\n",
    "stat1 = 3==3 and 2<4 and (3 <= 5)\n",
    "\n",
    "# 괄호 안에 적절한 명제를 채워 stat2이 False가 되게 해봅시다.\n",
    "stat2 = 4>=6 or \"apple\"==\"Apple\" or (3 >= 5) \n",
    "\n",
    "# 괄호 안에 적절한 명제를 채워 stat3이 True가 되게 해봅시다.\n",
    "stat3 = not (3 > 5)\n",
    "\n",
    "# 위의 세 변수를 한 문장으로 출력해서 True, False 여부를 확인해봅시다.\n",
    "print(stat1, stat2, stat3)"
   ]
  },
  {
   "cell_type": "markdown",
   "metadata": {},
   "source": [
    "# 실습 5"
   ]
  },
  {
   "cell_type": "code",
   "execution_count": null,
   "metadata": {},
   "outputs": [],
   "source": [
    "# input()을 이용해서 숫자(정수) 입력을 받고, 변수 num에 이를 넣어봅시다.\n",
    "num = int(input())\n",
    "\n",
    "# if-else문을 이용해서 만약 입력받은 수가 홀수면 \"(입력받은 수) 홀수입니다.\"\n",
    "# 짝수면 \"(입력받은 수) 짝수입니다.\"를 출력해봅시다.\n",
    "# 괄호는 출력하지 않습니다.\n",
    "if num % 2 == 1:\n",
    "    print(str(num) + ' 홀수입니다.')\n",
    "else:\n",
    "    print(str(num) + ' 짝수입니다.')"
   ]
  },
  {
   "cell_type": "markdown",
   "metadata": {},
   "source": [
    "# 실습 6"
   ]
  },
  {
   "cell_type": "code",
   "execution_count": null,
   "metadata": {},
   "outputs": [],
   "source": [
    "# 변수 answer에 수 1~50 중 하나를 넣어봅시다.\n",
    "answer = 37\n",
    "\n",
    "# input으로 숫자 입력을 받아서 변수 submit에 저장해봅시다.\n",
    "submit = int(input())\n",
    "\n",
    "# if-elif-else문으로 Up-Down Game을 구현해봅시다.\n",
    "# 만약 answer보다 submit이 더 크면 \"정답보다 더 큰 수를 입력했습니다.\"\n",
    "# 만약 answer보다 submit이 더 작으면 \"정답보다 더 작은 수를 입력했습니다.\"\n",
    "# 만약 answer와 submit이 같으면 \"정답!\" 를 출력합니다.\n",
    "if answer > submit :\n",
    "    print('정답보다 더 큰 수를 입력했습니다.')\n",
    "elif anser < submit :\n",
    "    print('정답보다 더 작은 수를 입력했습니다.')\n",
    "else:\n",
    "    print('정답!')"
   ]
  },
  {
   "cell_type": "markdown",
   "metadata": {},
   "source": [
    "# 미션 1"
   ]
  },
  {
   "cell_type": "code",
   "execution_count": null,
   "metadata": {},
   "outputs": [],
   "source": [
    "# 변수 num을 선언하고, 숫자형으로 입력을 받습니다.\n",
    "num = int(input())\n",
    "\n",
    "# if-elif-else문을 이용해서 조건에 따라 출력합니다.\n",
    "# 왼쪽에 있는 조건에 따라 자리수를 출력해봅시다.\n",
    "if num < 10 :\n",
    "    print('한 자리 숫자입니다.')\n",
    "elif num < 100 :\n",
    "    print('두 자리 숫자입니다.')\n",
    "else :\n",
    "    print('세 자리 숫자입니다.')"
   ]
  },
  {
   "cell_type": "markdown",
   "metadata": {},
   "source": [
    "# 미션 2"
   ]
  },
  {
   "cell_type": "code",
   "execution_count": null,
   "metadata": {},
   "outputs": [],
   "source": [
    "#주어진 미션을 수행해볼까요?\n",
    "score = int(input())\n",
    "\n",
    "if score >= 88 :\n",
    "    print('A+')\n",
    "elif score >= 77 :\n",
    "    print('A0')\n",
    "elif score == 0 :\n",
    "    print('F')\n",
    "else :\n",
    "    print('B+')"
   ]
  }
 ],
 "metadata": {
  "kernelspec": {
   "display_name": "Python [conda env:cpu_env] *",
   "language": "python",
   "name": "conda-env-cpu_env-py"
  },
  "language_info": {
   "codemirror_mode": {
    "name": "ipython",
    "version": 3
   },
   "file_extension": ".py",
   "mimetype": "text/x-python",
   "name": "python",
   "nbconvert_exporter": "python",
   "pygments_lexer": "ipython3",
   "version": "3.6.9"
  },
  "toc": {
   "base_numbering": 1,
   "nav_menu": {},
   "number_sections": true,
   "sideBar": true,
   "skip_h1_title": false,
   "title_cell": "Table of Contents",
   "title_sidebar": "Contents",
   "toc_cell": false,
   "toc_position": {},
   "toc_section_display": true,
   "toc_window_display": false
  },
  "varInspector": {
   "cols": {
    "lenName": 16,
    "lenType": 16,
    "lenVar": 40
   },
   "kernels_config": {
    "python": {
     "delete_cmd_postfix": "",
     "delete_cmd_prefix": "del ",
     "library": "var_list.py",
     "varRefreshCmd": "print(var_dic_list())"
    },
    "r": {
     "delete_cmd_postfix": ") ",
     "delete_cmd_prefix": "rm(",
     "library": "var_list.r",
     "varRefreshCmd": "cat(var_dic_list()) "
    }
   },
   "types_to_exclude": [
    "module",
    "function",
    "builtin_function_or_method",
    "instance",
    "_Feature"
   ],
   "window_display": false
  }
 },
 "nbformat": 4,
 "nbformat_minor": 2
}
