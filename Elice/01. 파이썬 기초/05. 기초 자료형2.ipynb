{
 "cells": [
  {
   "cell_type": "markdown",
   "metadata": {},
   "source": [
    "# 1. 원소의 개수 세기 / 꺼내기"
   ]
  },
  {
   "cell_type": "code",
   "execution_count": null,
   "metadata": {},
   "outputs": [],
   "source": [
    "my_list = [1, 2, 2, 3, 3, 3]\n",
    "var1 = my_list.count(3)\n",
    "my_list.pop(-1)\n",
    "my_list.pop(-1)\n",
    "my_list.pop(1)"
   ]
  },
  {
   "cell_type": "markdown",
   "metadata": {},
   "source": [
    "# 2. split, join"
   ]
  },
  {
   "cell_type": "code",
   "execution_count": null,
   "metadata": {},
   "outputs": [],
   "source": [
    "my_str = 'beetea'\n",
    "var1 = my_str.split('e')\n",
    "\n",
    "my_list = ['Seeing', 'is', 'Believing']\n",
    "var2 = ' '.join(my_list)\n",
    "\n",
    "print(var1)\n",
    "print(var2)"
   ]
  },
  {
   "cell_type": "markdown",
   "metadata": {},
   "source": [
    "# 3. 노래가사 분석"
   ]
  },
  {
   "cell_type": "code",
   "execution_count": null,
   "metadata": {},
   "outputs": [],
   "source": [
    "lyrics = \"낙엽을,닮은,너의,눈동자를,나는,정말,정말,좋아했었어,가을을,닮은,너의,목소리를,나는,아직,아직,잊지,못했어,같이,걸으면서,들었던,낙엽,소리가,내,귓가에,들려오는,것만,같아,함께,앉아,있던,좁다란,나무,벤치엔,너의,온기가,남아있는,것만,같아,낙엽을,닮은,너의,눈동자를,나는,정말,정말,좋아했었어,가을을,닮은,너의,목소리를,나는,아직,아직,잊지,못했어\"\n",
    "\n",
    "lyrics_list = lyrics.split(',')\n",
    "print(lyrics_list[45])"
   ]
  },
  {
   "cell_type": "markdown",
   "metadata": {},
   "source": [
    "# 4. tuple 만들기"
   ]
  },
  {
   "cell_type": "code",
   "execution_count": null,
   "metadata": {},
   "outputs": [],
   "source": [
    "my_tuple = (1, 2, 3, 4, 5)\n",
    "var1 = my_tuple[2]\n",
    "var2 = my_tuple[1:4]\n",
    "var3 = len(my_tuple)\n",
    "\n",
    "print(var1, var2, var3)"
   ]
  },
  {
   "cell_type": "markdown",
   "metadata": {},
   "source": [
    "# 5. Tuple VS List"
   ]
  },
  {
   "cell_type": "code",
   "execution_count": 1,
   "metadata": {
    "ExecuteTime": {
     "end_time": "2020-06-09T14:10:30.550645Z",
     "start_time": "2020-06-09T14:10:30.539637Z"
    }
   },
   "outputs": [
    {
     "name": "stdout",
     "output_type": "stream",
     "text": [
      "Tuple은 값을 변경할 수 없습니다.\n",
      "Tuple은 값을 추가할 수 없습니다.\n"
     ]
    }
   ],
   "source": [
    "my_tuple = (1, 2, 3)\n",
    "\n",
    "try:\n",
    "    #여기에 인덱싱을 이용해서 Tuple의 값을 변경해봅시다.\n",
    "    my_tuple[1] = 5\n",
    "    \n",
    "except TypeError:\n",
    "    print(\"Tuple은 값을 변경할 수 없습니다.\")\n",
    "    \n",
    "try:\n",
    "    #여기에 .append()를 이용해서 Tuple의 값을 추가해봅시다.\n",
    "    my_tuple.append(6)\n",
    "    \n",
    "except AttributeError:\n",
    "    print(\"Tuple은 값을 추가할 수 없습니다.\")"
   ]
  },
  {
   "cell_type": "markdown",
   "metadata": {},
   "source": [
    "# 6. Dictionary 만들기"
   ]
  },
  {
   "cell_type": "code",
   "execution_count": null,
   "metadata": {},
   "outputs": [],
   "source": [
    "my_dict = {'사과' : 'apple', '바나나' : 'banana', '당근' : 'carrot'}\n",
    "# 원소 추출\n",
    "var1 = my_dict['사과']\n",
    "\n",
    "# 원소 제거\n",
    "del my_dict['당근']\n",
    "\n",
    "# 원소 추가\n",
    "my_dict['체리'] = 'cherry'"
   ]
  },
  {
   "cell_type": "markdown",
   "metadata": {},
   "source": [
    "# 7. Dictionary의 key"
   ]
  },
  {
   "cell_type": "code",
   "execution_count": null,
   "metadata": {},
   "outputs": [],
   "source": [
    "my_dict = { 1:'Integer', 'a' : 'String', (1,2,3) : 'Tuple'}\n",
    "\n",
    "\n",
    "try:\n",
    "    #여기에 [1, 2, 3] → \"List\"의 대응관계를 만들어봅시다.\n",
    "    my_dict[[1,2,3]] = 'List'\n",
    "    \n",
    "except TypeError:\n",
    "    print(\"List는 Dictionary의 Key가 될 수 없습니다.\")"
   ]
  },
  {
   "cell_type": "markdown",
   "metadata": {},
   "source": [
    "# 8. 미션 1"
   ]
  },
  {
   "cell_type": "code",
   "execution_count": null,
   "metadata": {},
   "outputs": [],
   "source": [
    "cvs = [\"Bello\", \"Bello\", \"Tulaliloo_ti_amo\", \"Tank_yu\", \"Poopaye\", \"Poopaye\"]\n",
    "\n",
    "# Minionese와 한국어가 담긴 miniWord 딕셔너리를 만드세요.\n",
    "miniWord = {'Bello' : '안녕', 'Poopaye' : '잘가', 'Tank_yu' : '고마워', 'Tulaliloo_ti_amo' : '우린 너를 사랑해'}\n",
    "\n",
    "for i in cvs :\n",
    "    print(miniWord[i])"
   ]
  }
 ],
 "metadata": {
  "kernelspec": {
   "display_name": "Python [conda env:cpu_env] *",
   "language": "python",
   "name": "conda-env-cpu_env-py"
  },
  "language_info": {
   "codemirror_mode": {
    "name": "ipython",
    "version": 3
   },
   "file_extension": ".py",
   "mimetype": "text/x-python",
   "name": "python",
   "nbconvert_exporter": "python",
   "pygments_lexer": "ipython3",
   "version": "3.6.9"
  },
  "toc": {
   "base_numbering": 1,
   "nav_menu": {},
   "number_sections": true,
   "sideBar": true,
   "skip_h1_title": false,
   "title_cell": "Table of Contents",
   "title_sidebar": "Contents",
   "toc_cell": false,
   "toc_position": {},
   "toc_section_display": true,
   "toc_window_display": false
  },
  "varInspector": {
   "cols": {
    "lenName": 16,
    "lenType": 16,
    "lenVar": 40
   },
   "kernels_config": {
    "python": {
     "delete_cmd_postfix": "",
     "delete_cmd_prefix": "del ",
     "library": "var_list.py",
     "varRefreshCmd": "print(var_dic_list())"
    },
    "r": {
     "delete_cmd_postfix": ") ",
     "delete_cmd_prefix": "rm(",
     "library": "var_list.r",
     "varRefreshCmd": "cat(var_dic_list()) "
    }
   },
   "types_to_exclude": [
    "module",
    "function",
    "builtin_function_or_method",
    "instance",
    "_Feature"
   ],
   "window_display": false
  }
 },
 "nbformat": 4,
 "nbformat_minor": 2
}
