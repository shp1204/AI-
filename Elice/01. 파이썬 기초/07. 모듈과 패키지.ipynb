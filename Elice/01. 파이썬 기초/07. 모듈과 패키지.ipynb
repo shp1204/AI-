{
 "cells": [
  {
   "cell_type": "markdown",
   "metadata": {},
   "source": [
    "# 1. 모듈\n",
    "\n",
    "**특정 목적을 가진 함수, 자료의 모임**\n",
    "\n",
    "ex ) \n",
    "\n",
    "import random\n",
    "\n",
    "random.randrange(a,b)\n",
    "\n",
    "**내가 원하는 모듈은 .py파일로 만들어서 사용할 수 있다**\n",
    "\n",
    "py 파일 생성 후 함수, 변수 생성\n",
    "\n",
    "- cal.py 파일에서\n",
    "\n",
    "def plus(a, b) :\n",
    "\n",
    "    c = a + b\n",
    "    \n",
    "    return c\n",
    "\n",
    "- main.py 에서\n",
    "\n",
    "import cal\n",
    "\n",
    "cal.plus(3, 4) \n",
    "\n",
    "결과 : 7\n"
   ]
  },
  {
   "cell_type": "markdown",
   "metadata": {},
   "source": [
    "## 1 ) cal.py"
   ]
  },
  {
   "cell_type": "code",
   "execution_count": 1,
   "metadata": {
    "ExecuteTime": {
     "end_time": "2020-06-09T16:02:24.296272Z",
     "start_time": "2020-06-09T16:02:24.287264Z"
    }
   },
   "outputs": [],
   "source": [
    "def plus(a, b) :\n",
    "    return a + b\n",
    "    \n",
    "def minus(a, b) :\n",
    "    return a - b\n",
    "    \n",
    "modelName = 'ELI-C2'"
   ]
  },
  {
   "cell_type": "markdown",
   "metadata": {},
   "source": [
    "## 2 ) main.py"
   ]
  },
  {
   "cell_type": "code",
   "execution_count": null,
   "metadata": {},
   "outputs": [],
   "source": [
    "import cal\n",
    "\n",
    "var1 = cal.modelName\n",
    "var2 = cal.plus(3,4)\n",
    "var3 = cal.minus(7,2)\n",
    "\n",
    "## 변수의 값을 확인하는 출력문입니다.\n",
    "print(var1, var2, var3)"
   ]
  },
  {
   "cell_type": "markdown",
   "metadata": {},
   "source": [
    "## 3 ) time 모듈"
   ]
  },
  {
   "cell_type": "code",
   "execution_count": null,
   "metadata": {},
   "outputs": [],
   "source": [
    "import time\n",
    "\n",
    "# 현재 시간을 문자열로\n",
    "clock = time.ctime()"
   ]
  },
  {
   "cell_type": "markdown",
   "metadata": {},
   "source": [
    "## 4 ) math 모듈"
   ]
  },
  {
   "cell_type": "code",
   "execution_count": null,
   "metadata": {},
   "outputs": [],
   "source": [
    "import math\n",
    "\n",
    "# math.log(진수, 밑)\n",
    "print(math.log(5,2) + math.log(4/5, 2))\n",
    "\n",
    "# 변형하면\n",
    "print(math.log(5 * 4 / 5 , 2))"
   ]
  },
  {
   "cell_type": "markdown",
   "metadata": {},
   "source": [
    "# 2. 패키지\n",
    "\n",
    "패키지는 폴더와 같은 개념이다.\n",
    "\n",
    "user/cal/plus 함수\n",
    "\n",
    "방법 1 )\n",
    "\n",
    "import user\n",
    "\n",
    "user.plus(3,4)\n",
    "\n",
    "방법 2 )\n",
    "\n",
    "from user.cal import plus\n",
    "\n",
    "plus(3, 4)"
   ]
  },
  {
   "cell_type": "markdown",
   "metadata": {},
   "source": [
    "## 1 ) from import 와 import"
   ]
  },
  {
   "cell_type": "code",
   "execution_count": null,
   "metadata": {},
   "outputs": [],
   "source": [
    "from random import randrange\n",
    "\n",
    "import math\n",
    "\n",
    "var1 = randrange(1, 11)\n",
    "\n",
    "var2 = math.log(5184, 72)\n",
    "\n",
    "print(var1, var2)"
   ]
  },
  {
   "cell_type": "markdown",
   "metadata": {},
   "source": [
    "## 2 ) webpage 방문"
   ]
  },
  {
   "cell_type": "code",
   "execution_count": null,
   "metadata": {},
   "outputs": [],
   "source": [
    "from urllib.request import urlopen\n",
    "\n",
    "url = 'https://en.wikipedia.org/wiki/Lorem_ipsum'\n",
    "\n",
    "webpage = urlopen(url).read().decode('utf-8')\n",
    "print(webpage)"
   ]
  },
  {
   "cell_type": "markdown",
   "metadata": {},
   "source": [
    "## 3 ) 로또 추첨기"
   ]
  },
  {
   "cell_type": "code",
   "execution_count": null,
   "metadata": {},
   "outputs": [],
   "source": [
    "import random\n",
    "\n",
    "lotto = []\n",
    "\n",
    "while len(lotto) < 6 :\n",
    "    new = random.randrange(1, 46)\n",
    "    if new not in lotto :\n",
    "        lotto.append(new)\n",
    "\n",
    "print(sorted(lotto))"
   ]
  },
  {
   "cell_type": "markdown",
   "metadata": {},
   "source": [
    "# 3. 계산기의 달인"
   ]
  },
  {
   "cell_type": "markdown",
   "metadata": {},
   "source": [
    "## 1 ) cal.py"
   ]
  },
  {
   "cell_type": "code",
   "execution_count": null,
   "metadata": {},
   "outputs": [],
   "source": [
    "# 모듈 cal안의 메서드들을 구현해주세요.\n",
    "def plus(a,b) :\n",
    "    return a+b\n",
    "\n",
    "def minus(a,b) :\n",
    "    return a-b\n",
    "\n",
    "def times(a,b) :\n",
    "    return a*b\n",
    "\n",
    "def divide(a,b) :\n",
    "    return a/b\n",
    "\n",
    "def mod(a,b) :\n",
    "    return a%b"
   ]
  },
  {
   "cell_type": "markdown",
   "metadata": {},
   "source": [
    "## 2 ) main.py"
   ]
  },
  {
   "cell_type": "code",
   "execution_count": null,
   "metadata": {},
   "outputs": [],
   "source": [
    "import cal\n",
    "\n",
    "var1 = cal.plus(3, 4)\n",
    "\n",
    "var2 = cal.minus(7, 2)\n",
    "\n",
    "var3 = cal.times(3, 5)\n",
    "\n",
    "var4 = cal.divide(9, 3)\n",
    "\n",
    "var5 = cal.mod(10, 3)\n",
    "\n",
    "# 변수의 값을 확인하는 출력문입니다.\n",
    "print('3 + 4 = ', var1)\n",
    "print('7 - 2 = ', var2)\n",
    "print('3 * 5 = ', var3)\n",
    "print('9 / 3 = ', var4)\n",
    "print('10 % 3 = ', var5)"
   ]
  }
 ],
 "metadata": {
  "kernelspec": {
   "display_name": "Python [conda env:cpu_env] *",
   "language": "python",
   "name": "conda-env-cpu_env-py"
  },
  "language_info": {
   "codemirror_mode": {
    "name": "ipython",
    "version": 3
   },
   "file_extension": ".py",
   "mimetype": "text/x-python",
   "name": "python",
   "nbconvert_exporter": "python",
   "pygments_lexer": "ipython3",
   "version": "3.6.9"
  },
  "toc": {
   "base_numbering": 1,
   "nav_menu": {},
   "number_sections": true,
   "sideBar": true,
   "skip_h1_title": false,
   "title_cell": "Table of Contents",
   "title_sidebar": "Contents",
   "toc_cell": false,
   "toc_position": {},
   "toc_section_display": true,
   "toc_window_display": false
  },
  "varInspector": {
   "cols": {
    "lenName": 16,
    "lenType": 16,
    "lenVar": 40
   },
   "kernels_config": {
    "python": {
     "delete_cmd_postfix": "",
     "delete_cmd_prefix": "del ",
     "library": "var_list.py",
     "varRefreshCmd": "print(var_dic_list())"
    },
    "r": {
     "delete_cmd_postfix": ") ",
     "delete_cmd_prefix": "rm(",
     "library": "var_list.r",
     "varRefreshCmd": "cat(var_dic_list()) "
    }
   },
   "types_to_exclude": [
    "module",
    "function",
    "builtin_function_or_method",
    "instance",
    "_Feature"
   ],
   "window_display": false
  }
 },
 "nbformat": 4,
 "nbformat_minor": 2
}
