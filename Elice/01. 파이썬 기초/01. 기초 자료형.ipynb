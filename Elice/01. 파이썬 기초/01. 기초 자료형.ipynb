{
 "cells": [
  {
   "cell_type": "code",
   "execution_count": null,
   "metadata": {},
   "outputs": [],
   "source": [
    "# 따옴표\n",
    "# 변수\n",
    "# 사칙연산\n",
    "# %\n",
    "# 더하기 연산자를 이용하면 문자열을 이어붙일 수 있다\n",
    "# 슬라이싱\n",
    "\n",
    "# 여러 개의 원소를 가지며 원소마다 순서가 있는 자료형을 2개 골라주세요.\n",
    "# 문자열, 리스트"
   ]
  },
  {
   "cell_type": "markdown",
   "metadata": {},
   "source": [
    "# 실습 2"
   ]
  },
  {
   "cell_type": "code",
   "execution_count": 1,
   "metadata": {
    "ExecuteTime": {
     "end_time": "2020-06-02T18:40:05.336105Z",
     "start_time": "2020-06-02T18:40:05.328099Z"
    }
   },
   "outputs": [
    {
     "name": "stdout",
     "output_type": "stream",
     "text": [
      "100\n",
      "5050\n",
      "[50, 50]\n"
     ]
    }
   ],
   "source": [
    "#숫자 50과 숫자 50을 더해서 출력해봅시다!\n",
    "print(50 + 50)\n",
    "\n",
    "#문자열 \"50\"과 문자열 \"50\"을 더해서 출력해봅시다!\n",
    "print('50' + '50')\n",
    "\n",
    "#리스트 [50]과 리스트 [50]을 더해서 출력해봅시다!\n",
    "print([50] + [50])"
   ]
  },
  {
   "cell_type": "markdown",
   "metadata": {},
   "source": [
    "# 실습 4"
   ]
  },
  {
   "cell_type": "code",
   "execution_count": null,
   "metadata": {},
   "outputs": [],
   "source": [
    "#'Num1'이라는 변수를 하나 선언하고, 숫자 23571를 넣어줍시다.\n",
    "Num1 = 23571\n",
    "\n",
    "#'Num2'이라는 변수를 하나 선언하고, 이전 값에 1024를 곱한 값을 넣어줍시다.\n",
    "Num2 = Num1 * 1024\n",
    "\n",
    "#'Num3'이라는 변수를 하나 선언하고, 이전 값에 243을 나눈 값을 넣어줍시다.\n",
    "Num3 = Num2 / 243\n",
    "\n",
    "#'Num4'이라는 변수를 하나 선언하고, 이전 값에 4927819을 더한 값을 넣어줍시다.\n",
    "Num4 = Num3 + 4927819\n",
    "\n",
    "#'Answer'이라는 변수를 하나 선언하고, 이전 값에 829176을 뺀 값을 넣어줍시다.\n",
    "Answer = Num4 - 829176\n",
    "\n",
    "#지효에게 외쳐봅시다. '네가 생각한 답은 Answer원이야!'\n",
    "print(\"네가 생각한 답은\", Answer, \"원이야!\")\n"
   ]
  },
  {
   "cell_type": "markdown",
   "metadata": {},
   "source": [
    "# 실습 5"
   ]
  },
  {
   "cell_type": "code",
   "execution_count": null,
   "metadata": {},
   "outputs": [],
   "source": [
    "# //을 이용해서 변수 intdiv에 4를 넣는 수식을 작성해봅시다.\n",
    "intdiv = 16 // 4\n",
    "\n",
    "# %을 이용해서 변수 modular에 1을 넣는 수식을 작성해봅시다.\n",
    "modular = 5 % 4\n",
    "\n",
    "# **을 이용해서 변수 expo에 16을 넣는 수식을 작성해봅시다.\n",
    "expo = 4 ** 2\n",
    "\n",
    "#위의 세 변수를 출력해서 확인해봅시다.\n",
    "print(intdiv, modular, expo)\n"
   ]
  },
  {
   "cell_type": "markdown",
   "metadata": {},
   "source": [
    "# 실습 6"
   ]
  },
  {
   "cell_type": "code",
   "execution_count": null,
   "metadata": {},
   "outputs": [],
   "source": [
    "# 변수 connect_str를 선언하고, 연결 연산자를 이용해서 '덩덕쿵덕'를 넣어봅시다.\n",
    "connect_str = '덩덕쿵덕'\n",
    "\n",
    "# 변수 iterate_str를 선언하고 반복 연산자를 이용해서 '쿵덕쿵덕'을 넣어봅시다.\n",
    "iterate_str = '쿵덕쿵덕'\n",
    "\n",
    "# 위 두 변수를 이용해서 '덩덕쿵덕쿵덕쿵덕덩덕쿵덕쿵덕쿵덕'을 변수 jajinmori에 넣어봅시다\n",
    "jajinmori = connect_str + iterate_str + connect_str + iterate_str"
   ]
  },
  {
   "cell_type": "markdown",
   "metadata": {},
   "source": [
    "# 실습 7"
   ]
  },
  {
   "cell_type": "code",
   "execution_count": null,
   "metadata": {},
   "outputs": [],
   "source": [
    "# 변수 connect_str를 선언하고, 연결 연산자를 이용해서 '덩덕쿵덕'를 넣어봅시다.\n",
    "connect_str = '덩덕쿵덕'\n",
    "\n",
    "# 변수 iterate_str를 선언하고 반복 연산자를 이용해서 '쿵덕쿵덕'을 넣어봅시다.\n",
    "iterate_str = '쿵덕쿵덕'\n",
    "\n",
    "# 위 두 변수를 이용해서 '덩덕쿵덕쿵덕쿵덕덩덕쿵덕쿵덕쿵덕'을 변수 jajinmori에 넣어봅시다\n",
    "jajinmori = connect_str + iterate_str + connect_str + iterate_str"
   ]
  },
  {
   "cell_type": "markdown",
   "metadata": {},
   "source": [
    "# 미션 1"
   ]
  },
  {
   "cell_type": "markdown",
   "metadata": {},
   "source": [
    "별이 빛나는 밤이에요!\n",
    "밤 하늘에 수많은 별이 보입니다.\n",
    "그런데 와우! 여러분은 ‘계단 모양의’ 별자리를 발견했어요!\n",
    "\n",
    "*\n",
    "\n",
    "**\n",
    "\n",
    "***\n",
    "\n",
    "****\n",
    "\n",
    "*****\n",
    "\n",
    "친구한테 말해보니 이를 전혀 믿지 않는 눈치입니다. 파이썬을 배운 우리, 그때 본 모양을 출력해서 보여줍시다."
   ]
  },
  {
   "cell_type": "code",
   "execution_count": 2,
   "metadata": {
    "ExecuteTime": {
     "end_time": "2020-06-02T18:52:50.907280Z",
     "start_time": "2020-06-02T18:52:50.901275Z"
    },
    "scrolled": true
   },
   "outputs": [
    {
     "name": "stdout",
     "output_type": "stream",
     "text": [
      "*\n",
      "**\n",
      "***\n",
      "****\n",
      "*****\n"
     ]
    }
   ],
   "source": [
    "print('*')\n",
    "print('*'*2)\n",
    "print('*'*3)\n",
    "print('*'*4)\n",
    "print('*'*5)"
   ]
  },
  {
   "cell_type": "code",
   "execution_count": 3,
   "metadata": {
    "ExecuteTime": {
     "end_time": "2020-06-02T18:53:25.243641Z",
     "start_time": "2020-06-02T18:53:25.237637Z"
    },
    "scrolled": true
   },
   "outputs": [
    {
     "name": "stdout",
     "output_type": "stream",
     "text": [
      "*\n",
      "**\n",
      "***\n",
      "****\n",
      "*****\n"
     ]
    }
   ],
   "source": [
    "star = '*'\n",
    "\n",
    "for i in range(1,6) :\n",
    "    print(star * i)"
   ]
  },
  {
   "cell_type": "markdown",
   "metadata": {},
   "source": [
    "# 미션 2"
   ]
  },
  {
   "cell_type": "markdown",
   "metadata": {},
   "source": [
    "섭씨를 화씨로 변환해봅시다!\n",
    "우리나라는 온도의 단위가 섭씨(℃)인 반면, 미국에서는 화씨(℉)를 사용합니다. 이 둘 사이의 관계는 다음과 같습니다\n",
    "\n",
    "[℉] = [℃] * (9/5) + 32\n",
    "\n",
    "=>  ℉는 화씨, ℃는 섭씨\n",
    "\n",
    "이때, 온도는 숫자이기 때문에, 우리가 배운 숫자의 사칙연산으로 섭씨를 화씨로 변환할 수 있습니다! 지시사항을 따라서 섭씨를 화씨로 바꿔봅시다."
   ]
  },
  {
   "cell_type": "code",
   "execution_count": 4,
   "metadata": {
    "ExecuteTime": {
     "end_time": "2020-06-02T18:55:28.732257Z",
     "start_time": "2020-06-02T18:55:28.726256Z"
    }
   },
   "outputs": [
    {
     "name": "stdout",
     "output_type": "stream",
     "text": [
      "[18, 64.4]\n"
     ]
    }
   ],
   "source": [
    "#섭씨온도를 담을 변수 c를 선언하고, 숫자 18을 담아봅시다.\n",
    "c = 18\n",
    "\n",
    "#화씨온도를 담을 변수 f를 선언하고, c와 섭씨-화씨 변환식을 이용해서 값을 담아봅시다.\n",
    "f = c * ( 9 / 5 ) + 32\n",
    "\n",
    "#변수 today_temp를 선언하고, 섭씨온도 c와 화씨온도 f를 순서대로 담은 리스트를 담아봅시다.\n",
    "today_temp = [c, f]\n",
    "\n",
    "#맞게 변환했는지 today_temp를 print()로 확인해봅시다.\n",
    "print(today_temp)"
   ]
  }
 ],
 "metadata": {
  "kernelspec": {
   "display_name": "Python [conda env:cpu_env] *",
   "language": "python",
   "name": "conda-env-cpu_env-py"
  },
  "language_info": {
   "codemirror_mode": {
    "name": "ipython",
    "version": 3
   },
   "file_extension": ".py",
   "mimetype": "text/x-python",
   "name": "python",
   "nbconvert_exporter": "python",
   "pygments_lexer": "ipython3",
   "version": "3.6.9"
  },
  "toc": {
   "base_numbering": 1,
   "nav_menu": {},
   "number_sections": true,
   "sideBar": true,
   "skip_h1_title": false,
   "title_cell": "Table of Contents",
   "title_sidebar": "Contents",
   "toc_cell": false,
   "toc_position": {},
   "toc_section_display": true,
   "toc_window_display": false
  },
  "varInspector": {
   "cols": {
    "lenName": 16,
    "lenType": 16,
    "lenVar": 40
   },
   "kernels_config": {
    "python": {
     "delete_cmd_postfix": "",
     "delete_cmd_prefix": "del ",
     "library": "var_list.py",
     "varRefreshCmd": "print(var_dic_list())"
    },
    "r": {
     "delete_cmd_postfix": ") ",
     "delete_cmd_prefix": "rm(",
     "library": "var_list.r",
     "varRefreshCmd": "cat(var_dic_list()) "
    }
   },
   "types_to_exclude": [
    "module",
    "function",
    "builtin_function_or_method",
    "instance",
    "_Feature"
   ],
   "window_display": false
  }
 },
 "nbformat": 4,
 "nbformat_minor": 2
}
