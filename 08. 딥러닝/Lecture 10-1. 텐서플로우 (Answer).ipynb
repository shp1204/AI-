{
 "cells": [
  {
   "cell_type": "markdown",
   "metadata": {},
   "source": [
    "# 10장. 딥러닝 개념 (1)"
   ]
  },
  {
   "cell_type": "markdown",
   "metadata": {},
   "source": [
    "---"
   ]
  },
  {
   "cell_type": "markdown",
   "metadata": {},
   "source": [
    "## 학습 목표\n",
    "- 텐서플로우를 사용해봅니다.\n",
    "- 퍼셉트론에 대하여 이해합니다."
   ]
  },
  {
   "cell_type": "markdown",
   "metadata": {},
   "source": [
    "---"
   ]
  },
  {
   "cell_type": "markdown",
   "metadata": {},
   "source": [
    "## 목차"
   ]
  },
  {
   "cell_type": "markdown",
   "metadata": {},
   "source": [
    "### 1. 텐서플로우\n",
    "1. 텐서 데이터 생성\n",
    "2. 텐서 데이터 타입 및 기초 연산\n",
    "3. 텐서플로우를 이용한 선형 회귀 구현\n",
    "4. 케라스를 이용한 모델 구현\n",
    "\n",
    "### 2. 퍼셉트론\n",
    "1. 퍼셉트론\n",
    "2. 단층 퍼셉트론\n",
    "3. 다층 퍼셉트론"
   ]
  },
  {
   "cell_type": "markdown",
   "metadata": {},
   "source": [
    "---"
   ]
  },
  {
   "cell_type": "markdown",
   "metadata": {},
   "source": [
    "## 1. 텐서플로우"
   ]
  },
  {
   "cell_type": "markdown",
   "metadata": {},
   "source": [
    "### 1-1. 텐서 데이터 생성"
   ]
  },
  {
   "cell_type": "markdown",
   "metadata": {},
   "source": [
    "텐서플로우는 상수, 시퀀스, 난수, 변수 등을 생성하는 연산을 제공합니다."
   ]
  },
  {
   "cell_type": "markdown",
   "metadata": {},
   "source": [
    "기존 Numpy와 유사하게 사용할 수 있습니다."
   ]
  },
  {
   "cell_type": "markdown",
   "metadata": {},
   "source": [
    "### 상수"
   ]
  },
  {
   "cell_type": "markdown",
   "metadata": {},
   "source": [
    "- `tf.constant(value, dtype=None, shape=None, name='Const')`\n",
    "    - value : 반환되는 상수값\n",
    "    - shape : Tesnor의 차원\n",
    "    - dtype : 반환되는 Tensor 타입\n",
    "    - name : 상수 이름\n",
    "- `tf.zeros(shape, dtype=tf.float32, name=None)` : 모든 원소 값이 0인 Tensor 생성\n",
    "- `tf.ones(shape, dtype=tf.float32, name=None)` : 모든 원소 값이 1인 Tensor 생성\n",
    "- `tf.fill(dims, value, name=None)` : `value`로 채워진 Tensor 생성\n",
    "    - dims : 반환되는 Tensor의 차원"
   ]
  },
  {
   "cell_type": "markdown",
   "metadata": {},
   "source": [
    "### 시퀀스"
   ]
  },
  {
   "cell_type": "markdown",
   "metadata": {},
   "source": [
    "- `tf.range(start, limit, delta, name=None)`\n",
    "    - start : 시작 값\n",
    "    - limit : 끝 값\n",
    "    - delta : 증가량"
   ]
  },
  {
   "cell_type": "markdown",
   "metadata": {},
   "source": [
    "### 난수"
   ]
  },
  {
   "cell_type": "markdown",
   "metadata": {},
   "source": [
    "- `tf.compat.v1.set_random_seed(seed)` : 난수 시드 설정\n",
    "- `tf.random.normal(shape, mean, stddev, dtype=tf.float32, seed=None, name=None)` : 정규분포로 부터 난수 생성\n",
    "- `tf.random.uniform(shape, minval, maxval, dtype=tf.float32, seed=None, name=None)` : 균등분포로 부터 난수 생성"
   ]
  },
  {
   "cell_type": "markdown",
   "metadata": {},
   "source": [
    "### 변수"
   ]
  },
  {
   "cell_type": "markdown",
   "metadata": {},
   "source": [
    "기존의 Tensor와 Operation 객체는 변경할 수 없습니다. 그러므로 연산에 따라 변경되는 값을 저장할 변수가 필요합니다."
   ]
  },
  {
   "cell_type": "markdown",
   "metadata": {},
   "source": [
    "- `tf.Variable(value, name=None)` : 변수 생성"
   ]
  },
  {
   "cell_type": "markdown",
   "metadata": {},
   "source": [
    "### 실습"
   ]
  },
  {
   "cell_type": "markdown",
   "metadata": {},
   "source": [
    "1. 주석을 보고 빈 부분을 알맞게 작성해보세요. "
   ]
  },
  {
   "cell_type": "code",
   "execution_count": 2,
   "metadata": {
    "ExecuteTime": {
     "end_time": "2020-07-21T07:28:44.331694Z",
     "start_time": "2020-07-21T07:28:44.260643Z"
    }
   },
   "outputs": [
    {
     "ename": "ImportError",
     "evalue": "Traceback (most recent call last):\n  File \"C:\\python\\envs\\cpu_env\\lib\\site-packages\\tensorflow\\python\\pywrap_tensorflow.py\", line 58, in <module>\n    from tensorflow.python.pywrap_tensorflow_internal import *\n  File \"C:\\python\\envs\\cpu_env\\lib\\site-packages\\tensorflow\\python\\pywrap_tensorflow_internal.py\", line 28, in <module>\n    _pywrap_tensorflow_internal = swig_import_helper()\n  File \"C:\\python\\envs\\cpu_env\\lib\\site-packages\\tensorflow\\python\\pywrap_tensorflow_internal.py\", line 24, in swig_import_helper\n    _mod = imp.load_module('_pywrap_tensorflow_internal', fp, pathname, description)\n  File \"C:\\python\\envs\\cpu_env\\lib\\imp.py\", line 243, in load_module\n    return load_dynamic(name, filename, file)\n  File \"C:\\python\\envs\\cpu_env\\lib\\imp.py\", line 343, in load_dynamic\n    return _load(spec)\nImportError: DLL load failed: 지정된 모듈을 찾을 수 없습니다.\n\n\nFailed to load the native TensorFlow runtime.\n\nSee https://www.tensorflow.org/install/errors\n\nfor some common reasons and solutions.  Include the entire stack trace\nabove this error message when asking for help.",
     "output_type": "error",
     "traceback": [
      "\u001b[1;31m---------------------------------------------------------------------------\u001b[0m",
      "\u001b[1;31mImportError\u001b[0m                               Traceback (most recent call last)",
      "\u001b[1;32mC:\\python\\envs\\cpu_env\\lib\\site-packages\\tensorflow\\python\\pywrap_tensorflow.py\u001b[0m in \u001b[0;36m<module>\u001b[1;34m\u001b[0m\n\u001b[0;32m     57\u001b[0m \u001b[1;33m\u001b[0m\u001b[0m\n\u001b[1;32m---> 58\u001b[1;33m   \u001b[1;32mfrom\u001b[0m \u001b[0mtensorflow\u001b[0m\u001b[1;33m.\u001b[0m\u001b[0mpython\u001b[0m\u001b[1;33m.\u001b[0m\u001b[0mpywrap_tensorflow_internal\u001b[0m \u001b[1;32mimport\u001b[0m \u001b[1;33m*\u001b[0m\u001b[1;33m\u001b[0m\u001b[1;33m\u001b[0m\u001b[0m\n\u001b[0m\u001b[0;32m     59\u001b[0m \u001b[1;33m\u001b[0m\u001b[0m\n",
      "\u001b[1;32mC:\\python\\envs\\cpu_env\\lib\\site-packages\\tensorflow\\python\\pywrap_tensorflow_internal.py\u001b[0m in \u001b[0;36m<module>\u001b[1;34m\u001b[0m\n\u001b[0;32m     27\u001b[0m             \u001b[1;32mreturn\u001b[0m \u001b[0m_mod\u001b[0m\u001b[1;33m\u001b[0m\u001b[1;33m\u001b[0m\u001b[0m\n\u001b[1;32m---> 28\u001b[1;33m     \u001b[0m_pywrap_tensorflow_internal\u001b[0m \u001b[1;33m=\u001b[0m \u001b[0mswig_import_helper\u001b[0m\u001b[1;33m(\u001b[0m\u001b[1;33m)\u001b[0m\u001b[1;33m\u001b[0m\u001b[1;33m\u001b[0m\u001b[0m\n\u001b[0m\u001b[0;32m     29\u001b[0m     \u001b[1;32mdel\u001b[0m \u001b[0mswig_import_helper\u001b[0m\u001b[1;33m\u001b[0m\u001b[1;33m\u001b[0m\u001b[0m\n",
      "\u001b[1;32mC:\\python\\envs\\cpu_env\\lib\\site-packages\\tensorflow\\python\\pywrap_tensorflow_internal.py\u001b[0m in \u001b[0;36mswig_import_helper\u001b[1;34m()\u001b[0m\n\u001b[0;32m     23\u001b[0m             \u001b[1;32mtry\u001b[0m\u001b[1;33m:\u001b[0m\u001b[1;33m\u001b[0m\u001b[1;33m\u001b[0m\u001b[0m\n\u001b[1;32m---> 24\u001b[1;33m                 \u001b[0m_mod\u001b[0m \u001b[1;33m=\u001b[0m \u001b[0mimp\u001b[0m\u001b[1;33m.\u001b[0m\u001b[0mload_module\u001b[0m\u001b[1;33m(\u001b[0m\u001b[1;34m'_pywrap_tensorflow_internal'\u001b[0m\u001b[1;33m,\u001b[0m \u001b[0mfp\u001b[0m\u001b[1;33m,\u001b[0m \u001b[0mpathname\u001b[0m\u001b[1;33m,\u001b[0m \u001b[0mdescription\u001b[0m\u001b[1;33m)\u001b[0m\u001b[1;33m\u001b[0m\u001b[1;33m\u001b[0m\u001b[0m\n\u001b[0m\u001b[0;32m     25\u001b[0m             \u001b[1;32mfinally\u001b[0m\u001b[1;33m:\u001b[0m\u001b[1;33m\u001b[0m\u001b[1;33m\u001b[0m\u001b[0m\n",
      "\u001b[1;32mC:\\python\\envs\\cpu_env\\lib\\imp.py\u001b[0m in \u001b[0;36mload_module\u001b[1;34m(name, file, filename, details)\u001b[0m\n\u001b[0;32m    242\u001b[0m         \u001b[1;32melse\u001b[0m\u001b[1;33m:\u001b[0m\u001b[1;33m\u001b[0m\u001b[1;33m\u001b[0m\u001b[0m\n\u001b[1;32m--> 243\u001b[1;33m             \u001b[1;32mreturn\u001b[0m \u001b[0mload_dynamic\u001b[0m\u001b[1;33m(\u001b[0m\u001b[0mname\u001b[0m\u001b[1;33m,\u001b[0m \u001b[0mfilename\u001b[0m\u001b[1;33m,\u001b[0m \u001b[0mfile\u001b[0m\u001b[1;33m)\u001b[0m\u001b[1;33m\u001b[0m\u001b[1;33m\u001b[0m\u001b[0m\n\u001b[0m\u001b[0;32m    244\u001b[0m     \u001b[1;32melif\u001b[0m \u001b[0mtype_\u001b[0m \u001b[1;33m==\u001b[0m \u001b[0mPKG_DIRECTORY\u001b[0m\u001b[1;33m:\u001b[0m\u001b[1;33m\u001b[0m\u001b[1;33m\u001b[0m\u001b[0m\n",
      "\u001b[1;32mC:\\python\\envs\\cpu_env\\lib\\imp.py\u001b[0m in \u001b[0;36mload_dynamic\u001b[1;34m(name, path, file)\u001b[0m\n\u001b[0;32m    342\u001b[0m             name=name, loader=loader, origin=path)\n\u001b[1;32m--> 343\u001b[1;33m         \u001b[1;32mreturn\u001b[0m \u001b[0m_load\u001b[0m\u001b[1;33m(\u001b[0m\u001b[0mspec\u001b[0m\u001b[1;33m)\u001b[0m\u001b[1;33m\u001b[0m\u001b[1;33m\u001b[0m\u001b[0m\n\u001b[0m\u001b[0;32m    344\u001b[0m \u001b[1;33m\u001b[0m\u001b[0m\n",
      "\u001b[1;31mImportError\u001b[0m: DLL load failed: 지정된 모듈을 찾을 수 없습니다.",
      "\nDuring handling of the above exception, another exception occurred:\n",
      "\u001b[1;31mImportError\u001b[0m                               Traceback (most recent call last)",
      "\u001b[1;32m<ipython-input-2-4ae80da9abf6>\u001b[0m in \u001b[0;36m<module>\u001b[1;34m\u001b[0m\n\u001b[1;32m----> 1\u001b[1;33m \u001b[1;32mimport\u001b[0m \u001b[0mtensorflow\u001b[0m \u001b[1;32mas\u001b[0m \u001b[0mtf\u001b[0m\u001b[1;33m\u001b[0m\u001b[1;33m\u001b[0m\u001b[0m\n\u001b[0m\u001b[0;32m      2\u001b[0m \u001b[0mtf\u001b[0m\u001b[1;33m.\u001b[0m\u001b[0m__version__\u001b[0m\u001b[1;33m\u001b[0m\u001b[1;33m\u001b[0m\u001b[0m\n",
      "\u001b[1;32mC:\\python\\envs\\cpu_env\\lib\\site-packages\\tensorflow\\__init__.py\u001b[0m in \u001b[0;36m<module>\u001b[1;34m\u001b[0m\n\u001b[0;32m     39\u001b[0m \u001b[1;32mimport\u001b[0m \u001b[0msys\u001b[0m \u001b[1;32mas\u001b[0m \u001b[0m_sys\u001b[0m\u001b[1;33m\u001b[0m\u001b[1;33m\u001b[0m\u001b[0m\n\u001b[0;32m     40\u001b[0m \u001b[1;33m\u001b[0m\u001b[0m\n\u001b[1;32m---> 41\u001b[1;33m \u001b[1;32mfrom\u001b[0m \u001b[0mtensorflow\u001b[0m\u001b[1;33m.\u001b[0m\u001b[0mpython\u001b[0m\u001b[1;33m.\u001b[0m\u001b[0mtools\u001b[0m \u001b[1;32mimport\u001b[0m \u001b[0mmodule_util\u001b[0m \u001b[1;32mas\u001b[0m \u001b[0m_module_util\u001b[0m\u001b[1;33m\u001b[0m\u001b[1;33m\u001b[0m\u001b[0m\n\u001b[0m\u001b[0;32m     42\u001b[0m \u001b[1;32mfrom\u001b[0m \u001b[0mtensorflow\u001b[0m\u001b[1;33m.\u001b[0m\u001b[0mpython\u001b[0m\u001b[1;33m.\u001b[0m\u001b[0mutil\u001b[0m\u001b[1;33m.\u001b[0m\u001b[0mlazy_loader\u001b[0m \u001b[1;32mimport\u001b[0m \u001b[0mLazyLoader\u001b[0m \u001b[1;32mas\u001b[0m \u001b[0m_LazyLoader\u001b[0m\u001b[1;33m\u001b[0m\u001b[1;33m\u001b[0m\u001b[0m\n\u001b[0;32m     43\u001b[0m \u001b[1;33m\u001b[0m\u001b[0m\n",
      "\u001b[1;32mC:\\python\\envs\\cpu_env\\lib\\site-packages\\tensorflow\\python\\__init__.py\u001b[0m in \u001b[0;36m<module>\u001b[1;34m\u001b[0m\n\u001b[0;32m     48\u001b[0m \u001b[1;32mimport\u001b[0m \u001b[0mnumpy\u001b[0m \u001b[1;32mas\u001b[0m \u001b[0mnp\u001b[0m\u001b[1;33m\u001b[0m\u001b[1;33m\u001b[0m\u001b[0m\n\u001b[0;32m     49\u001b[0m \u001b[1;33m\u001b[0m\u001b[0m\n\u001b[1;32m---> 50\u001b[1;33m \u001b[1;32mfrom\u001b[0m \u001b[0mtensorflow\u001b[0m\u001b[1;33m.\u001b[0m\u001b[0mpython\u001b[0m \u001b[1;32mimport\u001b[0m \u001b[0mpywrap_tensorflow\u001b[0m\u001b[1;33m\u001b[0m\u001b[1;33m\u001b[0m\u001b[0m\n\u001b[0m\u001b[0;32m     51\u001b[0m \u001b[1;33m\u001b[0m\u001b[0m\n\u001b[0;32m     52\u001b[0m \u001b[1;31m# Protocol buffers\u001b[0m\u001b[1;33m\u001b[0m\u001b[1;33m\u001b[0m\u001b[1;33m\u001b[0m\u001b[0m\n",
      "\u001b[1;32mC:\\python\\envs\\cpu_env\\lib\\site-packages\\tensorflow\\python\\pywrap_tensorflow.py\u001b[0m in \u001b[0;36m<module>\u001b[1;34m\u001b[0m\n\u001b[0;32m     67\u001b[0m \u001b[1;32mfor\u001b[0m \u001b[0msome\u001b[0m \u001b[0mcommon\u001b[0m \u001b[0mreasons\u001b[0m \u001b[1;32mand\u001b[0m \u001b[0msolutions\u001b[0m\u001b[1;33m.\u001b[0m  \u001b[0mInclude\u001b[0m \u001b[0mthe\u001b[0m \u001b[0mentire\u001b[0m \u001b[0mstack\u001b[0m \u001b[0mtrace\u001b[0m\u001b[1;33m\u001b[0m\u001b[1;33m\u001b[0m\u001b[0m\n\u001b[0;32m     68\u001b[0m above this error message when asking for help.\"\"\" % traceback.format_exc()\n\u001b[1;32m---> 69\u001b[1;33m   \u001b[1;32mraise\u001b[0m \u001b[0mImportError\u001b[0m\u001b[1;33m(\u001b[0m\u001b[0mmsg\u001b[0m\u001b[1;33m)\u001b[0m\u001b[1;33m\u001b[0m\u001b[1;33m\u001b[0m\u001b[0m\n\u001b[0m\u001b[0;32m     70\u001b[0m \u001b[1;33m\u001b[0m\u001b[0m\n\u001b[0;32m     71\u001b[0m \u001b[1;31m# pylint: enable=wildcard-import,g-import-not-at-top,unused-import,line-too-long\u001b[0m\u001b[1;33m\u001b[0m\u001b[1;33m\u001b[0m\u001b[1;33m\u001b[0m\u001b[0m\n",
      "\u001b[1;31mImportError\u001b[0m: Traceback (most recent call last):\n  File \"C:\\python\\envs\\cpu_env\\lib\\site-packages\\tensorflow\\python\\pywrap_tensorflow.py\", line 58, in <module>\n    from tensorflow.python.pywrap_tensorflow_internal import *\n  File \"C:\\python\\envs\\cpu_env\\lib\\site-packages\\tensorflow\\python\\pywrap_tensorflow_internal.py\", line 28, in <module>\n    _pywrap_tensorflow_internal = swig_import_helper()\n  File \"C:\\python\\envs\\cpu_env\\lib\\site-packages\\tensorflow\\python\\pywrap_tensorflow_internal.py\", line 24, in swig_import_helper\n    _mod = imp.load_module('_pywrap_tensorflow_internal', fp, pathname, description)\n  File \"C:\\python\\envs\\cpu_env\\lib\\imp.py\", line 243, in load_module\n    return load_dynamic(name, filename, file)\n  File \"C:\\python\\envs\\cpu_env\\lib\\imp.py\", line 343, in load_dynamic\n    return _load(spec)\nImportError: DLL load failed: 지정된 모듈을 찾을 수 없습니다.\n\n\nFailed to load the native TensorFlow runtime.\n\nSee https://www.tensorflow.org/install/errors\n\nfor some common reasons and solutions.  Include the entire stack trace\nabove this error message when asking for help."
     ]
    }
   ],
   "source": [
    "import tensorflow as tf\n",
    "tf.__version__"
   ]
  },
  {
   "cell_type": "code",
   "execution_count": 1,
   "metadata": {
    "ExecuteTime": {
     "end_time": "2020-07-21T07:25:01.728483Z",
     "start_time": "2020-07-21T07:25:01.318209Z"
    }
   },
   "outputs": [
    {
     "ename": "ImportError",
     "evalue": "Traceback (most recent call last):\n  File \"C:\\python\\envs\\cpu_env\\lib\\site-packages\\tensorflow\\python\\pywrap_tensorflow.py\", line 58, in <module>\n    from tensorflow.python.pywrap_tensorflow_internal import *\n  File \"C:\\python\\envs\\cpu_env\\lib\\site-packages\\tensorflow\\python\\pywrap_tensorflow_internal.py\", line 28, in <module>\n    _pywrap_tensorflow_internal = swig_import_helper()\n  File \"C:\\python\\envs\\cpu_env\\lib\\site-packages\\tensorflow\\python\\pywrap_tensorflow_internal.py\", line 24, in swig_import_helper\n    _mod = imp.load_module('_pywrap_tensorflow_internal', fp, pathname, description)\n  File \"C:\\python\\envs\\cpu_env\\lib\\imp.py\", line 243, in load_module\n    return load_dynamic(name, filename, file)\n  File \"C:\\python\\envs\\cpu_env\\lib\\imp.py\", line 343, in load_dynamic\n    return _load(spec)\nImportError: DLL load failed: 지정된 모듈을 찾을 수 없습니다.\n\n\nFailed to load the native TensorFlow runtime.\n\nSee https://www.tensorflow.org/install/errors\n\nfor some common reasons and solutions.  Include the entire stack trace\nabove this error message when asking for help.",
     "output_type": "error",
     "traceback": [
      "\u001b[1;31m---------------------------------------------------------------------------\u001b[0m",
      "\u001b[1;31mImportError\u001b[0m                               Traceback (most recent call last)",
      "\u001b[1;32mC:\\python\\envs\\cpu_env\\lib\\site-packages\\tensorflow\\python\\pywrap_tensorflow.py\u001b[0m in \u001b[0;36m<module>\u001b[1;34m\u001b[0m\n\u001b[0;32m     57\u001b[0m \u001b[1;33m\u001b[0m\u001b[0m\n\u001b[1;32m---> 58\u001b[1;33m   \u001b[1;32mfrom\u001b[0m \u001b[0mtensorflow\u001b[0m\u001b[1;33m.\u001b[0m\u001b[0mpython\u001b[0m\u001b[1;33m.\u001b[0m\u001b[0mpywrap_tensorflow_internal\u001b[0m \u001b[1;32mimport\u001b[0m \u001b[1;33m*\u001b[0m\u001b[1;33m\u001b[0m\u001b[1;33m\u001b[0m\u001b[0m\n\u001b[0m\u001b[0;32m     59\u001b[0m \u001b[1;33m\u001b[0m\u001b[0m\n",
      "\u001b[1;32mC:\\python\\envs\\cpu_env\\lib\\site-packages\\tensorflow\\python\\pywrap_tensorflow_internal.py\u001b[0m in \u001b[0;36m<module>\u001b[1;34m\u001b[0m\n\u001b[0;32m     27\u001b[0m             \u001b[1;32mreturn\u001b[0m \u001b[0m_mod\u001b[0m\u001b[1;33m\u001b[0m\u001b[1;33m\u001b[0m\u001b[0m\n\u001b[1;32m---> 28\u001b[1;33m     \u001b[0m_pywrap_tensorflow_internal\u001b[0m \u001b[1;33m=\u001b[0m \u001b[0mswig_import_helper\u001b[0m\u001b[1;33m(\u001b[0m\u001b[1;33m)\u001b[0m\u001b[1;33m\u001b[0m\u001b[1;33m\u001b[0m\u001b[0m\n\u001b[0m\u001b[0;32m     29\u001b[0m     \u001b[1;32mdel\u001b[0m \u001b[0mswig_import_helper\u001b[0m\u001b[1;33m\u001b[0m\u001b[1;33m\u001b[0m\u001b[0m\n",
      "\u001b[1;32mC:\\python\\envs\\cpu_env\\lib\\site-packages\\tensorflow\\python\\pywrap_tensorflow_internal.py\u001b[0m in \u001b[0;36mswig_import_helper\u001b[1;34m()\u001b[0m\n\u001b[0;32m     23\u001b[0m             \u001b[1;32mtry\u001b[0m\u001b[1;33m:\u001b[0m\u001b[1;33m\u001b[0m\u001b[1;33m\u001b[0m\u001b[0m\n\u001b[1;32m---> 24\u001b[1;33m                 \u001b[0m_mod\u001b[0m \u001b[1;33m=\u001b[0m \u001b[0mimp\u001b[0m\u001b[1;33m.\u001b[0m\u001b[0mload_module\u001b[0m\u001b[1;33m(\u001b[0m\u001b[1;34m'_pywrap_tensorflow_internal'\u001b[0m\u001b[1;33m,\u001b[0m \u001b[0mfp\u001b[0m\u001b[1;33m,\u001b[0m \u001b[0mpathname\u001b[0m\u001b[1;33m,\u001b[0m \u001b[0mdescription\u001b[0m\u001b[1;33m)\u001b[0m\u001b[1;33m\u001b[0m\u001b[1;33m\u001b[0m\u001b[0m\n\u001b[0m\u001b[0;32m     25\u001b[0m             \u001b[1;32mfinally\u001b[0m\u001b[1;33m:\u001b[0m\u001b[1;33m\u001b[0m\u001b[1;33m\u001b[0m\u001b[0m\n",
      "\u001b[1;32mC:\\python\\envs\\cpu_env\\lib\\imp.py\u001b[0m in \u001b[0;36mload_module\u001b[1;34m(name, file, filename, details)\u001b[0m\n\u001b[0;32m    242\u001b[0m         \u001b[1;32melse\u001b[0m\u001b[1;33m:\u001b[0m\u001b[1;33m\u001b[0m\u001b[1;33m\u001b[0m\u001b[0m\n\u001b[1;32m--> 243\u001b[1;33m             \u001b[1;32mreturn\u001b[0m \u001b[0mload_dynamic\u001b[0m\u001b[1;33m(\u001b[0m\u001b[0mname\u001b[0m\u001b[1;33m,\u001b[0m \u001b[0mfilename\u001b[0m\u001b[1;33m,\u001b[0m \u001b[0mfile\u001b[0m\u001b[1;33m)\u001b[0m\u001b[1;33m\u001b[0m\u001b[1;33m\u001b[0m\u001b[0m\n\u001b[0m\u001b[0;32m    244\u001b[0m     \u001b[1;32melif\u001b[0m \u001b[0mtype_\u001b[0m \u001b[1;33m==\u001b[0m \u001b[0mPKG_DIRECTORY\u001b[0m\u001b[1;33m:\u001b[0m\u001b[1;33m\u001b[0m\u001b[1;33m\u001b[0m\u001b[0m\n",
      "\u001b[1;32mC:\\python\\envs\\cpu_env\\lib\\imp.py\u001b[0m in \u001b[0;36mload_dynamic\u001b[1;34m(name, path, file)\u001b[0m\n\u001b[0;32m    342\u001b[0m             name=name, loader=loader, origin=path)\n\u001b[1;32m--> 343\u001b[1;33m         \u001b[1;32mreturn\u001b[0m \u001b[0m_load\u001b[0m\u001b[1;33m(\u001b[0m\u001b[0mspec\u001b[0m\u001b[1;33m)\u001b[0m\u001b[1;33m\u001b[0m\u001b[1;33m\u001b[0m\u001b[0m\n\u001b[0m\u001b[0;32m    344\u001b[0m \u001b[1;33m\u001b[0m\u001b[0m\n",
      "\u001b[1;31mImportError\u001b[0m: DLL load failed: 지정된 모듈을 찾을 수 없습니다.",
      "\nDuring handling of the above exception, another exception occurred:\n",
      "\u001b[1;31mImportError\u001b[0m                               Traceback (most recent call last)",
      "\u001b[1;32m<ipython-input-1-76f3707d5f66>\u001b[0m in \u001b[0;36m<module>\u001b[1;34m\u001b[0m\n\u001b[0;32m      1\u001b[0m \u001b[1;32mimport\u001b[0m \u001b[0mnumpy\u001b[0m \u001b[1;32mas\u001b[0m \u001b[0mnp\u001b[0m\u001b[1;33m\u001b[0m\u001b[1;33m\u001b[0m\u001b[0m\n\u001b[1;32m----> 2\u001b[1;33m \u001b[1;32mimport\u001b[0m \u001b[0mtensorflow\u001b[0m \u001b[1;32mas\u001b[0m \u001b[0mtf\u001b[0m\u001b[1;33m\u001b[0m\u001b[1;33m\u001b[0m\u001b[0m\n\u001b[0m\u001b[0;32m      3\u001b[0m \u001b[1;33m\u001b[0m\u001b[0m\n\u001b[0;32m      4\u001b[0m \u001b[1;31m# tf.constant로 상수를 생성해보세요.\u001b[0m\u001b[1;33m\u001b[0m\u001b[1;33m\u001b[0m\u001b[1;33m\u001b[0m\u001b[0m\n\u001b[0;32m      5\u001b[0m \u001b[0ma\u001b[0m \u001b[1;33m=\u001b[0m \u001b[0mtf\u001b[0m\u001b[1;33m.\u001b[0m\u001b[0mconstant\u001b[0m\u001b[1;33m(\u001b[0m\u001b[1;36m3\u001b[0m\u001b[1;33m)\u001b[0m\u001b[1;33m\u001b[0m\u001b[1;33m\u001b[0m\u001b[0m\n",
      "\u001b[1;32mC:\\python\\envs\\cpu_env\\lib\\site-packages\\tensorflow\\__init__.py\u001b[0m in \u001b[0;36m<module>\u001b[1;34m\u001b[0m\n\u001b[0;32m     39\u001b[0m \u001b[1;32mimport\u001b[0m \u001b[0msys\u001b[0m \u001b[1;32mas\u001b[0m \u001b[0m_sys\u001b[0m\u001b[1;33m\u001b[0m\u001b[1;33m\u001b[0m\u001b[0m\n\u001b[0;32m     40\u001b[0m \u001b[1;33m\u001b[0m\u001b[0m\n\u001b[1;32m---> 41\u001b[1;33m \u001b[1;32mfrom\u001b[0m \u001b[0mtensorflow\u001b[0m\u001b[1;33m.\u001b[0m\u001b[0mpython\u001b[0m\u001b[1;33m.\u001b[0m\u001b[0mtools\u001b[0m \u001b[1;32mimport\u001b[0m \u001b[0mmodule_util\u001b[0m \u001b[1;32mas\u001b[0m \u001b[0m_module_util\u001b[0m\u001b[1;33m\u001b[0m\u001b[1;33m\u001b[0m\u001b[0m\n\u001b[0m\u001b[0;32m     42\u001b[0m \u001b[1;32mfrom\u001b[0m \u001b[0mtensorflow\u001b[0m\u001b[1;33m.\u001b[0m\u001b[0mpython\u001b[0m\u001b[1;33m.\u001b[0m\u001b[0mutil\u001b[0m\u001b[1;33m.\u001b[0m\u001b[0mlazy_loader\u001b[0m \u001b[1;32mimport\u001b[0m \u001b[0mLazyLoader\u001b[0m \u001b[1;32mas\u001b[0m \u001b[0m_LazyLoader\u001b[0m\u001b[1;33m\u001b[0m\u001b[1;33m\u001b[0m\u001b[0m\n\u001b[0;32m     43\u001b[0m \u001b[1;33m\u001b[0m\u001b[0m\n",
      "\u001b[1;32mC:\\python\\envs\\cpu_env\\lib\\site-packages\\tensorflow\\python\\__init__.py\u001b[0m in \u001b[0;36m<module>\u001b[1;34m\u001b[0m\n\u001b[0;32m     48\u001b[0m \u001b[1;32mimport\u001b[0m \u001b[0mnumpy\u001b[0m \u001b[1;32mas\u001b[0m \u001b[0mnp\u001b[0m\u001b[1;33m\u001b[0m\u001b[1;33m\u001b[0m\u001b[0m\n\u001b[0;32m     49\u001b[0m \u001b[1;33m\u001b[0m\u001b[0m\n\u001b[1;32m---> 50\u001b[1;33m \u001b[1;32mfrom\u001b[0m \u001b[0mtensorflow\u001b[0m\u001b[1;33m.\u001b[0m\u001b[0mpython\u001b[0m \u001b[1;32mimport\u001b[0m \u001b[0mpywrap_tensorflow\u001b[0m\u001b[1;33m\u001b[0m\u001b[1;33m\u001b[0m\u001b[0m\n\u001b[0m\u001b[0;32m     51\u001b[0m \u001b[1;33m\u001b[0m\u001b[0m\n\u001b[0;32m     52\u001b[0m \u001b[1;31m# Protocol buffers\u001b[0m\u001b[1;33m\u001b[0m\u001b[1;33m\u001b[0m\u001b[1;33m\u001b[0m\u001b[0m\n",
      "\u001b[1;32mC:\\python\\envs\\cpu_env\\lib\\site-packages\\tensorflow\\python\\pywrap_tensorflow.py\u001b[0m in \u001b[0;36m<module>\u001b[1;34m\u001b[0m\n\u001b[0;32m     67\u001b[0m \u001b[1;32mfor\u001b[0m \u001b[0msome\u001b[0m \u001b[0mcommon\u001b[0m \u001b[0mreasons\u001b[0m \u001b[1;32mand\u001b[0m \u001b[0msolutions\u001b[0m\u001b[1;33m.\u001b[0m  \u001b[0mInclude\u001b[0m \u001b[0mthe\u001b[0m \u001b[0mentire\u001b[0m \u001b[0mstack\u001b[0m \u001b[0mtrace\u001b[0m\u001b[1;33m\u001b[0m\u001b[1;33m\u001b[0m\u001b[0m\n\u001b[0;32m     68\u001b[0m above this error message when asking for help.\"\"\" % traceback.format_exc()\n\u001b[1;32m---> 69\u001b[1;33m   \u001b[1;32mraise\u001b[0m \u001b[0mImportError\u001b[0m\u001b[1;33m(\u001b[0m\u001b[0mmsg\u001b[0m\u001b[1;33m)\u001b[0m\u001b[1;33m\u001b[0m\u001b[1;33m\u001b[0m\u001b[0m\n\u001b[0m\u001b[0;32m     70\u001b[0m \u001b[1;33m\u001b[0m\u001b[0m\n\u001b[0;32m     71\u001b[0m \u001b[1;31m# pylint: enable=wildcard-import,g-import-not-at-top,unused-import,line-too-long\u001b[0m\u001b[1;33m\u001b[0m\u001b[1;33m\u001b[0m\u001b[1;33m\u001b[0m\u001b[0m\n",
      "\u001b[1;31mImportError\u001b[0m: Traceback (most recent call last):\n  File \"C:\\python\\envs\\cpu_env\\lib\\site-packages\\tensorflow\\python\\pywrap_tensorflow.py\", line 58, in <module>\n    from tensorflow.python.pywrap_tensorflow_internal import *\n  File \"C:\\python\\envs\\cpu_env\\lib\\site-packages\\tensorflow\\python\\pywrap_tensorflow_internal.py\", line 28, in <module>\n    _pywrap_tensorflow_internal = swig_import_helper()\n  File \"C:\\python\\envs\\cpu_env\\lib\\site-packages\\tensorflow\\python\\pywrap_tensorflow_internal.py\", line 24, in swig_import_helper\n    _mod = imp.load_module('_pywrap_tensorflow_internal', fp, pathname, description)\n  File \"C:\\python\\envs\\cpu_env\\lib\\imp.py\", line 243, in load_module\n    return load_dynamic(name, filename, file)\n  File \"C:\\python\\envs\\cpu_env\\lib\\imp.py\", line 343, in load_dynamic\n    return _load(spec)\nImportError: DLL load failed: 지정된 모듈을 찾을 수 없습니다.\n\n\nFailed to load the native TensorFlow runtime.\n\nSee https://www.tensorflow.org/install/errors\n\nfor some common reasons and solutions.  Include the entire stack trace\nabove this error message when asking for help."
     ]
    }
   ],
   "source": [
    "import numpy as np\n",
    "import tensorflow as tf\n",
    "\n",
    "# tf.constant로 상수를 생성해보세요.\n",
    "a = tf.constant(3)\n",
    "\n",
    "# tf.zeros, tf.one, tf.fill을 사용해 Shape을 가진 텐서를 생성해보세요.\n",
    "b = tf.zeros([3,4], dtype=tf.float32)\n",
    "c = tf.ones([3,4], dtype=tf.float32)\n",
    "d = tf.fill([3,4], 3.0)\n",
    "\n",
    "# tf.range로 시퀀스 텐서를 생성해보세요.\n",
    "ran = tf.range(3, 8, delta=1)\n",
    "\n",
    "# 난수 시드 설정해보세요.\n",
    "seed = tf.compat.v1.set_random_seed(23)\n",
    "\n",
    "# 정규 분포를 가진 난수 텐서를 생성해보세요.\n",
    "norm_dist = tf.random.normal([3,4], mean=0.0, stddev=1.0, dtype=tf.float32, seed=seed, name=None)\n",
    "# 균등 분포를 가진 난수 텐서를 생성해보세요.\n",
    "uni_dist = tf.random.uniform([3,4], minval=0, maxval=1, dtype=tf.float32, seed=seed, name=None)\n",
    "\n",
    "# tf.Variable을 생성해보세요.\n",
    "# 딥러닝 모델을 학습할 때 사용되는 weight와 bias는 variable로 생성합니다.\n",
    "weight = tf.Variable(0.0)\n",
    "bias = tf.Variable(0.0)\n",
    "\n",
    "# 각 상수, 시퀀스, 난수, 변수 출력\n",
    "for i in [a, b, c, d, ran, norm_dist, uni_dist, weight, bias]:\n",
    "    print(i.numpy())"
   ]
  },
  {
   "cell_type": "markdown",
   "metadata": {},
   "source": [
    "---"
   ]
  },
  {
   "cell_type": "markdown",
   "metadata": {},
   "source": [
    "### 1-2. 텐서 데이터 타입 및 기초 연산"
   ]
  },
  {
   "cell_type": "markdown",
   "metadata": {},
   "source": [
    "### Data type"
   ]
  },
  {
   "cell_type": "markdown",
   "metadata": {},
   "source": [
    "Tensorflow에서는 다양한 자료형을 사용할 수 있습니다. 이를 이용하면 어떤 데이터든지 구조화된 형식으로 저장할 수 있습니다."
   ]
  },
  {
   "cell_type": "markdown",
   "metadata": {},
   "source": [
    "- `tf.float32` : 32-bit float\n",
    "- `tf.float64` : 64-bit float\n",
    "- `tf.int8` : 8-bit integer\n",
    "- `tf.int16` : 16-bit integer\n",
    "- `tf.int32` : 32-bit integer\n",
    "- `tf.uint8` : 8-bit unsigned integer\n",
    "- `tf.string` : String\n",
    "- `tf.bool` : Boolean"
   ]
  },
  {
   "cell_type": "markdown",
   "metadata": {},
   "source": [
    "### 연산자"
   ]
  },
  {
   "cell_type": "markdown",
   "metadata": {},
   "source": [
    "Tensorflow에도 Numpy와 유사하게 다양한 수학 연산자들을 제공합니다."
   ]
  },
  {
   "cell_type": "markdown",
   "metadata": {},
   "source": [
    "- 단항 연산자\n",
    "\n",
    "    - `tf.negative(x)` = -x\n",
    "    - `tf.logical_not(x)` = !x (tf.bool만 가능)\n",
    "    - `tf.abs(x)` = x의 절대값"
   ]
  },
  {
   "cell_type": "markdown",
   "metadata": {},
   "source": [
    "- 이항 연산자\n",
    "    - `tf.add()` : x + y\n",
    "    - `tf.subtract()` : x - y\n",
    "    - `tf.multiply()` : x * y\n",
    "    - `tf.divide()` : x / y (Python 2)\n",
    "    - `tf.truediv()` : x / y (Python 3)\n",
    "    - `tf.math.floordiv()` : x // y\n",
    "    - `tf.math.mod()` : x % y\n",
    "    - `tf.math.pow()` : x ** y"
   ]
  },
  {
   "cell_type": "markdown",
   "metadata": {},
   "source": [
    "### 실습"
   ]
  },
  {
   "cell_type": "markdown",
   "metadata": {},
   "source": [
    "1. 주석을 보고 빈 부분을 알맞게 작성해보세요."
   ]
  },
  {
   "cell_type": "code",
   "execution_count": null,
   "metadata": {
    "scrolled": true
   },
   "outputs": [],
   "source": [
    "import tensorflow as tf\n",
    "\n",
    "# 다양한 형태의 데이터 타입으로 상수를 선언해보세요.\n",
    "a = tf.constant(3, dtype=tf.float32) # Int or float\n",
    "b = tf.constant(5.5, dtype=tf.float32) # Int or float\n",
    "c = tf.constant(-3, dtype=tf.int32) # Negative int\n",
    "string1 = tf.constant(\"hello\", dtype=tf.string) # String\n",
    "string2 = tf.constant(\"world\", dtype=tf.string) # String\n",
    "boolean = tf.constant(False, dtype=tf.bool) # Boolean\n",
    "\n",
    "# 단항 연산자를 사용해보세요.\n",
    "neg = tf.negative(a) # Negative\n",
    "logic = tf.logical_not(boolean) # Logical negative\n",
    "absolute = tf.abs(c) # Absolute\n",
    "\n",
    "# 사칙연산을 수행해보세요.\n",
    "add = tf.add(a, b)      # add\n",
    "sub = tf.subtract(a, b)      # subtract\n",
    "mul = tf.multiply(a, b)      # multiply\n",
    "div = tf.divide(a, b)      # divide\n",
    "\n",
    "mod = tf.math.mod(a, 2)      # Modulo\n",
    "po = tf.math.pow(a, 3)       # Pow\n",
    "\n",
    "for i in [a,b,c,string1, string2, boolean, neg, logic, absolute, add, sub, mul, div, mod, po]:\n",
    "    print(i.numpy())"
   ]
  },
  {
   "cell_type": "markdown",
   "metadata": {},
   "source": [
    "---"
   ]
  },
  {
   "cell_type": "markdown",
   "metadata": {},
   "source": [
    "### 1-3. 텐서플로우를 이용한 선형 회귀 구현"
   ]
  },
  {
   "cell_type": "markdown",
   "metadata": {},
   "source": [
    "Tensorflow에서 어떻게 머신러닝, 딥러닝 네트워크가 학습이 되는지 전체적인 실습 코드를 통해 배워보겠습니다."
   ]
  },
  {
   "cell_type": "markdown",
   "metadata": {},
   "source": [
    "코드가 눈에 익숙해지도록 전체적인 흐름을 이해해보세요."
   ]
  },
  {
   "cell_type": "markdown",
   "metadata": {},
   "source": [
    "### 선형 회귀"
   ]
  },
  {
   "cell_type": "markdown",
   "metadata": {},
   "source": [
    "선형 회귀는 존재하는 데이터를 이용해 데이터의 분포를 잘 나타내는 선을 찾는 문제입니다."
   ]
  },
  {
   "cell_type": "markdown",
   "metadata": {},
   "source": [
    "- `x_data = [1,2,3,4,5]`\n",
    "- `y_data = [1,2,3,4,5]`"
   ]
  },
  {
   "cell_type": "markdown",
   "metadata": {},
   "source": [
    "현재 데이터를 가장 잘 나타내는 선은 `y = x`입니다."
   ]
  },
  {
   "cell_type": "markdown",
   "metadata": {},
   "source": [
    "데이터를 잘 나타내는 선을 찾는 과정에서 W(weight)값과 b(bias)값을 Gradient Descent 알고리즘을 이용해 찾는 과정을 보여줍니다."
   ]
  },
  {
   "cell_type": "markdown",
   "metadata": {},
   "source": [
    "W와 b 값이 처음에 랜덤으로 주어진 상태에서 점차 W는 1에 b는 0에 가까워지는 것을 볼 수 있습니다. (cost function의 값도 줄어드는 것을 확인할 수 있습니다.)"
   ]
  },
  {
   "cell_type": "markdown",
   "metadata": {},
   "source": [
    "### 실습"
   ]
  },
  {
   "cell_type": "markdown",
   "metadata": {},
   "source": [
    "1. 랜덤하게 설정된 텐서플로우 변수 `W`와 `b`의 값이 어떻게 변하는지 확인해보세요."
   ]
  },
  {
   "cell_type": "markdown",
   "metadata": {},
   "source": [
    "2. `train_step`을 바꿔가며 `W`,`b`값을 확인해보세요. `train_step`이 너무 적거나 많으면 학습이 잘 진행되지 않을 수 있습니다."
   ]
  },
  {
   "cell_type": "markdown",
   "metadata": {},
   "source": [
    "3. `learning_rate`의 수치를 변경해 보세요. learning_rate의 값이 커질수록 빨리 수렴하고 작아질수록 천천히 수렴하는 것을 볼 수 있습니다."
   ]
  },
  {
   "cell_type": "markdown",
   "metadata": {},
   "source": [
    "- $0.01<learning\"_`rate<=0.1$ 권장"
   ]
  },
  {
   "cell_type": "code",
   "execution_count": 1,
   "metadata": {},
   "outputs": [
    {
     "name": "stdout",
     "output_type": "stream",
     "text": [
      "Iter : 0| Weight : 1.0000| Bias : 3.6000|Cost : 328.0000\n",
      "Iter : 30| Weight : 0.4447| Bias : 2.0048|Cost : 0.7569\n",
      "Iter : 60| Weight : 0.6670| Bias : 1.2021|Cost : 0.2721\n",
      "Iter : 90| Weight : 0.8004| Bias : 0.7208|Cost : 0.0978\n",
      "Iter : 120| Weight : 0.8803| Bias : 0.4322|Cost : 0.0352\n",
      "Iter : 150| Weight : 0.9282| Bias : 0.2591|Cost : 0.0126\n",
      "Iter : 180| Weight : 0.9570| Bias : 0.1554|Cost : 0.0045\n",
      "Iter : 210| Weight : 0.9742| Bias : 0.0932|Cost : 0.0016\n",
      "Iter : 240| Weight : 0.9845| Bias : 0.0559|Cost : 0.0006\n",
      "Iter : 270| Weight : 0.9907| Bias : 0.0335|Cost : 0.0002\n",
      "Iter : 300| Weight : 0.9944| Bias : 0.0201|Cost : 0.0001\n",
      "Iter : 330| Weight : 0.9967| Bias : 0.0120|Cost : 0.0000\n",
      "Iter : 360| Weight : 0.9980| Bias : 0.0072|Cost : 0.0000\n",
      "Iter : 390| Weight : 0.9988| Bias : 0.0043|Cost : 0.0000\n",
      "Iter : 420| Weight : 0.9993| Bias : 0.0026|Cost : 0.0000\n",
      "Iter : 450| Weight : 0.9996| Bias : 0.0016|Cost : 0.0000\n",
      "Iter : 480| Weight : 0.9997| Bias : 0.0009|Cost : 0.0000\n",
      "5.4996467\n",
      "3.0001142\n"
     ]
    },
    {
     "data": {
      "image/png": "[encoded data removed]",
      "text/plain": [
       "<Figure size 432x288 with 1 Axes>"
      ]
     },
     "metadata": {
      "needs_background": "light"
     },
     "output_type": "display_data"
    },
    {
     "data": {
      "image/png": "[encoded data removed]",
      "text/plain": [
       "<Figure size 432x288 with 1 Axes>"
      ]
     },
     "metadata": {
      "needs_background": "light"
     },
     "output_type": "display_data"
    },
    {
     "data": {
      "image/png": "[encoded data removed]",
      "text/plain": [
       "<Figure size 432x288 with 1 Axes>"
      ]
     },
     "metadata": {
      "needs_background": "light"
     },
     "output_type": "display_data"
    },
    {
     "data": {
      "image/png": "[encoded data removed]",
      "text/plain": [
       "<Figure size 432x288 with 1 Axes>"
      ]
     },
     "metadata": {
      "needs_background": "light"
     },
     "output_type": "display_data"
    },
    {
     "data": {
      "image/png": "[encoded data removed]",
      "text/plain": [
       "<Figure size 432x288 with 1 Axes>"
      ]
     },
     "metadata": {
      "needs_background": "light"
     },
     "output_type": "display_data"
    },
    {
     "data": {
      "image/png": "[encoded data removed]",
      "text/plain": [
       "<Figure size 432x288 with 1 Axes>"
      ]
     },
     "metadata": {
      "needs_background": "light"
     },
     "output_type": "display_data"
    },
    {
     "data": {
      "image/png": "[encoded data removed]",
      "text/plain": [
       "<Figure size 432x288 with 1 Axes>"
      ]
     },
     "metadata": {
      "needs_background": "light"
     },
     "output_type": "display_data"
    },
    {
     "data": {
      "image/png": "[encoded data removed]",
      "text/plain": [
       "<Figure size 432x288 with 1 Axes>"
      ]
     },
     "metadata": {
      "needs_background": "light"
     },
     "output_type": "display_data"
    },
    {
     "data": {
      "image/png": "[encoded data removed]",
      "text/plain": [
       "<Figure size 432x288 with 1 Axes>"
      ]
     },
     "metadata": {
      "needs_background": "light"
     },
     "output_type": "display_data"
    },
    {
     "data": {
      "image/png": "[encoded data removed]",
      "text/plain": [
       "<Figure size 432x288 with 1 Axes>"
      ]
     },
     "metadata": {
      "needs_background": "light"
     },
     "output_type": "display_data"
    },
    {
     "data": {
      "image/png": "[encoded data removed]",
      "text/plain": [
       "<Figure size 432x288 with 1 Axes>"
      ]
     },
     "metadata": {
      "needs_background": "light"
     },
     "output_type": "display_data"
    },
    {
     "data": {
      "image/png": "[encoded data removed]",
      "text/plain": [
       "<Figure size 432x288 with 1 Axes>"
      ]
     },
     "metadata": {
      "needs_background": "light"
     },
     "output_type": "display_data"
    },
    {
     "data": {
      "image/png": "[encoded data removed]",
      "text/plain": [
       "<Figure size 432x288 with 1 Axes>"
      ]
     },
     "metadata": {
      "needs_background": "light"
     },
     "output_type": "display_data"
    },
    {
     "data": {
      "image/png": "[encoded data removed]",
      "text/plain": [
       "<Figure size 432x288 with 1 Axes>"
      ]
     },
     "metadata": {
      "needs_background": "light"
     },
     "output_type": "display_data"
    },
    {
     "data": {
      "image/png": "[encoded data removed]",
      "text/plain": [
       "<Figure size 432x288 with 1 Axes>"
      ]
     },
     "metadata": {
      "needs_background": "light"
     },
     "output_type": "display_data"
    },
    {
     "data": {
      "image/png": "[encoded data removed]",
      "text/plain": [
       "<Figure size 432x288 with 1 Axes>"
      ]
     },
     "metadata": {
      "needs_background": "light"
     },
     "output_type": "display_data"
    },
    {
     "data": {
      "image/png": "[encoded data removed]",
      "text/plain": [
       "<Figure size 432x288 with 1 Axes>"
      ]
     },
     "metadata": {
      "needs_background": "light"
     },
     "output_type": "display_data"
    }
   ],
   "source": [
    "import numpy as np\n",
    "import tensorflow as tf\n",
    "import matplotlib.pyplot as plt\n",
    "\n",
    "def Visualize(x_data, y_data, hypothesis):\n",
    "    fig, ax = plt.subplots()\n",
    "    ax.grid()\n",
    "    ax.plot(x_data, hypothesis, 'r-')\n",
    "    ax.plot(x_data, y_data, 'o')\n",
    "\n",
    "# Hyperparameter 설정\n",
    "# 학습에 필요한 파라미터를 선언합니다.\n",
    "train_step = 500\n",
    "learning_rate = 0.05\n",
    "\n",
    "# 학습에 사용할 데이터를 준비합니다.\n",
    "x_data = [1, 2, 3, 4, 5]\n",
    "y_data = [1, 2, 3, 4, 5]\n",
    "\n",
    "# 학습에 사용될 Weight와 Bias를 선언합니다.\n",
    "# 일반적으로 랜덤 값으로 선언해 사용하며 학습 데이터와 Shape을 일치시킵니다.\n",
    "W = tf.Variable((-5.0), dtype=tf.float32)\n",
    "b = tf.Variable((2.0), dtype=tf.float32)\n",
    "\n",
    "# 학습을 진행합니다.\n",
    "for i in range(train_step):\n",
    "    with tf.GradientTape() as tape:\n",
    "        # y = W*X + b 형태의 hypothesis를 선언합니다.\n",
    "        hypothesis = W * x_data + b\n",
    "        # 에러를 최소화시키는 손실 함수 cost function을 설계합니다.\n",
    "        cost = tf.reduce_mean(tf.square(hypothesis - y_data))\n",
    "    \n",
    "    # Gradient Descent 방법으로 Error를 최소화하고 Weight와 Bias를 업데이트 합니다.\n",
    "    W_grad, b_grad = tape.gradient(cost, [W, b])\n",
    "    W.assign_sub(learning_rate * W_grad)\n",
    "    b.assign_sub(learning_rate * b_grad)\n",
    "    \n",
    "    # 30번 마다 출력\n",
    "    if i % 30 == 0:\n",
    "        Visualize(x_data,y_data,hypothesis)        \n",
    "        print(\"Iter : {}| Weight : {:.4f}| Bias : {:.4f}|Cost : {:.4f}\".format(i, W.numpy(), b.numpy(), cost))\n",
    "\n",
    "# 학습된 Weight와 Bias로 검증\n",
    "print((W * 5.5 + b).numpy())\n",
    "print((W * 3 + b).numpy())"
   ]
  },
  {
   "cell_type": "markdown",
   "metadata": {},
   "source": [
    "### Tensorflow 1.x"
   ]
  },
  {
   "cell_type": "markdown",
   "metadata": {},
   "source": [
    "텐서플로우 2.0이 가장 최근에 만들어졌지만 아직 1.x 버전을 사용하는 경우가 많습니다."
   ]
  },
  {
   "cell_type": "markdown",
   "metadata": {},
   "source": [
    "기존 텐서플로우 1.x 버전에서는 계산 그래프 구조를 가지고 있으며 각 노드별 출력 결과를 전달하는 함수들이 연속적으로 연결된 형태를 가지고 있습니다."
   ]
  },
  {
   "attachments": {
    "image.png": {
     "image/png": "[encoded data removed]"
    }
   },
   "cell_type": "markdown",
   "metadata": {},
   "source": [
    "![image.png](attachment:image.png)"
   ]
  },
  {
   "cell_type": "markdown",
   "metadata": {},
   "source": [
    "### Session"
   ]
  },
  {
   "cell_type": "markdown",
   "metadata": {},
   "source": [
    "`tf.Session()`은 상수, 변수, 오퍼레이션을 선언하고 실질적으로 그래프를 실행하기 위한 객체입니다."
   ]
  },
  {
   "cell_type": "markdown",
   "metadata": {},
   "source": [
    "1.x 버전에서는 Session에서 모든 학습과 계산을 진행합니다. (2.0 버전에서는 즉시 실행(Eager Excution)을 지원)"
   ]
  },
  {
   "cell_type": "markdown",
   "metadata": {},
   "source": [
    "값을 계산하고 출력하기 위해서는 Session을 반드시 실행시켜야합니다.\n",
    "\n"
   ]
  },
  {
   "cell_type": "markdown",
   "metadata": {},
   "source": [
    "- `sess = tf.Session()`\n",
    "- `sess.run(fetches, feed_dict)`\n",
    "    - fetches : 실행시키고자 하는 그래프 구성 요소\n",
    "    - feed_dict : dictionary 객체 입력\n",
    "- `sess.run(tf.initializers.global_variables())` : 변수 초기화\n",
    "- `sess.close()` : 연산이 끝났으면 Session을 닫아줍니다.\n",
    "\n"
   ]
  },
  {
   "cell_type": "markdown",
   "metadata": {},
   "source": [
    "### feed_dict"
   ]
  },
  {
   "cell_type": "markdown",
   "metadata": {},
   "source": [
    "feed_dict는 그래프에서 Tensor의 값을 오버라이드 할 때 사용되며 Dictionary 객체를 받아 입력으로 사용합니다."
   ]
  },
  {
   "cell_type": "markdown",
   "metadata": {},
   "source": [
    "입력 받는 값들은 숫자, 문자열, Numpy 배열 등 다양한 형태가 될 수 있으며 Tensor와 같은 자료형이여야 합니다."
   ]
  },
  {
   "cell_type": "markdown",
   "metadata": {},
   "source": [
    "- `feed_dict = {X : data}`"
   ]
  },
  {
   "cell_type": "markdown",
   "metadata": {},
   "source": [
    "### Placeholder"
   ]
  },
  {
   "cell_type": "markdown",
   "metadata": {},
   "source": [
    "`tf.placeholder()`는 생성될 때 값을 가지지는 않지만 입력될 자리를 만들어놓습니다. 간단히 말해 Input Node가 됩니다."
   ]
  },
  {
   "cell_type": "markdown",
   "metadata": {},
   "source": [
    "상수나 난수 같은 고정된 값이 아닌 사용자로부터 입력을 받아야할 때 사용됩니다."
   ]
  },
  {
   "cell_type": "markdown",
   "metadata": {},
   "source": [
    "이를 위해 `tf.placeholder()`를 사용합니다."
   ]
  },
  {
   "cell_type": "markdown",
   "metadata": {},
   "source": [
    "- `tf.placeholder(dtype, shape, name)`"
   ]
  },
  {
   "cell_type": "markdown",
   "metadata": {},
   "source": [
    "### 실습"
   ]
  },
  {
   "cell_type": "markdown",
   "metadata": {},
   "source": [
    "1. 작성된 코드를 보고 따라가며 이해해보세요."
   ]
  },
  {
   "cell_type": "markdown",
   "metadata": {},
   "source": [
    "2. `tf.placeholder()`를 선언하여 입력 노드를 생성합니다."
   ]
  },
  {
   "cell_type": "markdown",
   "metadata": {},
   "source": [
    "3. `tf.Session()`을 열어 Session 내에서 연산이 수행되도록 합니다. Session을 실행하기전 변수를 초기화 해주어야합니다."
   ]
  },
  {
   "cell_type": "markdown",
   "metadata": {},
   "source": [
    "4. 상수, 변수, 객체 등 연산을 실질적으로 수행하는 `sess.run()`을 사용하여 연산을 수행합니다."
   ]
  },
  {
   "cell_type": "markdown",
   "metadata": {},
   "source": [
    "5. `feed_dict`에 데이터를 입력하여 기존 선언한 데이터나 사용자가 직접 데이터를 입력할 수 있도록 되어있습니다."
   ]
  },
  {
   "cell_type": "code",
   "execution_count": 2,
   "metadata": {},
   "outputs": [
    {
     "name": "stdout",
     "output_type": "stream",
     "text": [
      "WARNING:tensorflow:From C:\\Users\\msjung\\Anaconda3\\envs\\tensortest\\lib\\site-packages\\tensorflow_core\\python\\ops\\resource_variable_ops.py:1635: calling BaseResourceVariable.__init__ (from tensorflow.python.ops.resource_variable_ops) with constraint is deprecated and will be removed in a future version.\n",
      "Instructions for updating:\n",
      "If using Keras pass *_constraint arguments to layers.\n",
      "Step : 0| Weight : -0.29985| Bias : -2.68221| Cost : 46.69868\n",
      "Step : 30| Weight : 1.53909| Bias : -1.94851| Cost : 0.69096\n",
      "Step : 60| Weight : 1.48753| Bias : -1.76012| Cost : 0.56390\n",
      "Step : 90| Weight : 1.44043| Bias : -1.59008| Cost : 0.46020\n",
      "Step : 120| Weight : 1.39788| Bias : -1.43646| Cost : 0.37558\n",
      "Step : 150| Weight : 1.35944| Bias : -1.29769| Cost : 0.30652\n",
      "Step : 180| Weight : 1.32471| Bias : -1.17232| Cost : 0.25015\n",
      "[5.4231257]\n",
      "[2.1619344]\n"
     ]
    },
    {
     "data": {
      "image/png": "[encoded data removed]",
      "text/plain": [
       "<Figure size 432x288 with 1 Axes>"
      ]
     },
     "metadata": {
      "needs_background": "light"
     },
     "output_type": "display_data"
    },
    {
     "data": {
      "image/png": "[encoded data removed]",
      "text/plain": [
       "<Figure size 432x288 with 1 Axes>"
      ]
     },
     "metadata": {
      "needs_background": "light"
     },
     "output_type": "display_data"
    },
    {
     "data": {
      "image/png": "[encoded data removed]",
      "text/plain": [
       "<Figure size 432x288 with 1 Axes>"
      ]
     },
     "metadata": {
      "needs_background": "light"
     },
     "output_type": "display_data"
    },
    {
     "data": {
      "image/png": "[encoded data removed]",
      "text/plain": [
       "<Figure size 432x288 with 1 Axes>"
      ]
     },
     "metadata": {
      "needs_background": "light"
     },
     "output_type": "display_data"
    },
    {
     "data": {
      "image/png": "[encoded data removed]",
      "text/plain": [
       "<Figure size 432x288 with 1 Axes>"
      ]
     },
     "metadata": {
      "needs_background": "light"
     },
     "output_type": "display_data"
    },
    {
     "data": {
      "image/png": "[encoded data removed]",
      "text/plain": [
       "<Figure size 432x288 with 1 Axes>"
      ]
     },
     "metadata": {
      "needs_background": "light"
     },
     "output_type": "display_data"
    },
    {
     "data": {
      "image/png": "[encoded data removed]",
      "text/plain": [
       "<Figure size 432x288 with 1 Axes>"
      ]
     },
     "metadata": {
      "needs_background": "light"
     },
     "output_type": "display_data"
    }
   ],
   "source": [
    "import tensorflow as tf\n",
    "import matplotlib.pyplot as plt\n",
    "\n",
    "tf.compat.v1.disable_eager_execution()\n",
    "\n",
    "# 시각화 함수\n",
    "def Visualize(x_data, y_data, hypothesis):\n",
    "    fig, ax = plt.subplots()\n",
    "    ax.grid()\n",
    "    ax.plot(x_data, hypothesis, 'r-')\n",
    "    ax.plot(x_data, y_data, 'o')\n",
    "\n",
    "# 선형 데이터 x, y 선언\n",
    "x_data = [1, 2, 3, 4, 5]\n",
    "y_data = [1, 2, 3, 4, 5]\n",
    "\n",
    "# 학습에 사용할 Weight, Bias 선언\n",
    "W = tf.Variable(tf.random.uniform([1], -5.0, 5.0))\n",
    "b = tf.Variable(tf.random.uniform([1], -5.0, 5.0))\n",
    "\n",
    "# 입력이 들어갈 Placeholder (Input Node) 선언\n",
    "X = tf.compat.v1.placeholder(tf.float32)\n",
    "Y = tf.compat.v1.placeholder(tf.float32)\n",
    "\n",
    "# Cost 함수 설계\n",
    "hypothesis = W * X + b\n",
    "cost = tf.reduce_mean(tf.square(hypothesis - Y))\n",
    "\n",
    "# 학습 속도, Cost (Loss)를 줄여나가는 방법을 정하고 Optimizer를 선언합니다.\n",
    "learning_rate = 0.01\n",
    "optimizer = tf.compat.v1.train.GradientDescentOptimizer(learning_rate)\n",
    "train = optimizer.minimize(cost)\n",
    "\n",
    "# Session을 열어줍니다.\n",
    "sess = tf.compat.v1.Session()\n",
    "\n",
    "# Session 내의 전체 변수를 초기화\n",
    "sess.run(tf.compat.v1.initializers.global_variables())\n",
    "\n",
    "# 200번 학습 진행\n",
    "for i in range(200):\n",
    "    # Train 객체에 학습 데이터 x_data와 Label 값 y_data를 입력합니다.\n",
    "    # 입력은 feed_dict로 딕셔너리 형태의 입력이 들어갑니다.\n",
    "    sess.run(train, feed_dict={X: x_data, Y: y_data})\n",
    "    if i % 30 == 0:\n",
    "        Visualize(x_data, y_data, sess.run(hypothesis, feed_dict = {X : x_data}))\n",
    "        print(\"Step : {}| Weight : {:.5f}| Bias : {:.5f}| Cost : {:.5f}\".format(i,float(sess.run(W)), float(sess.run(b)), float(sess.run(cost, feed_dict={X: x_data, Y: y_data}))))\n",
    "\n",
    "# Iteration이 끝나면 학습이 끝났습니다.        \n",
    "# 이제 검증 데이터로 학습된 hypothesis 성능을 평가합니다.\n",
    "print(sess.run(hypothesis, feed_dict = {X : 5}))\n",
    "print(sess.run(hypothesis, feed_dict = {X : 2.5}))\n",
    "\n",
    "# 연산이 전부 끝났으면 Session을 닫아줍니다.\n",
    "sess.close()"
   ]
  },
  {
   "cell_type": "markdown",
   "metadata": {},
   "source": []
  },
  {
   "cell_type": "markdown",
   "metadata": {},
   "source": [
    "### 1-4. 케라스를 이용한 모델 구현"
   ]
  },
  {
   "cell_type": "markdown",
   "metadata": {},
   "source": [
    "### 케라스(Keras)"
   ]
  },
  {
   "cell_type": "markdown",
   "metadata": {},
   "source": [
    "케라스(Keras)는 Sequential하게 계층(Layer)들을 쌓아가며 모델을 생성하고 사이킷런과 같이 한 줄의 코드로 간단하게 학습 방법 설정, 학습, 평가를 진행할 수 있는 API입니다."
   ]
  },
  {
   "cell_type": "markdown",
   "metadata": {},
   "source": [
    "- `keras.Sequential()` : Sequential 모델을 만들기 위한 함수\n",
    "- `keras.layers()` : Fully connected, Convolution 등 다양한 Layer 제공\n",
    "- `model.complie` : 학습 방법 설정\n",
    "- `model.summary()` : 모델 출력\n",
    "- `model.fit()` : 모델 학습"
   ]
  },
  {
   "cell_type": "markdown",
   "metadata": {},
   "source": [
    "### 실습"
   ]
  },
  {
   "cell_type": "markdown",
   "metadata": {},
   "source": [
    "1. 작성된 코드를 보고 이해해보세요."
   ]
  },
  {
   "cell_type": "markdown",
   "metadata": {},
   "source": [
    "2. `keras.layers.Dense()`의 뉴런 개수, Activation, layer 개수를 바꿔가며 결과를 분석해보세요."
   ]
  },
  {
   "cell_type": "markdown",
   "metadata": {},
   "source": [
    "3. `model.fit()`의 학습 횟수 (Epoch)를 바꿔가며 결과를 확인해보세요."
   ]
  },
  {
   "cell_type": "code",
   "execution_count": 11,
   "metadata": {},
   "outputs": [
    {
     "name": "stdout",
     "output_type": "stream",
     "text": [
      "Model: \"sequential\"\n",
      "_________________________________________________________________\n",
      "Layer (type)                 Output Shape              Param #   \n",
      "=================================================================\n",
      "dense (Dense)                (None, 32)                64        \n",
      "_________________________________________________________________\n",
      "dense_1 (Dense)              (None, 32)                1056      \n",
      "_________________________________________________________________\n",
      "dense_2 (Dense)              (None, 1)                 33        \n",
      "=================================================================\n",
      "Total params: 1,153\n",
      "Trainable params: 1,153\n",
      "Non-trainable params: 0\n",
      "_________________________________________________________________\n",
      "Train on 100 samples\n",
      "Epoch 1/500\n",
      "100/100 [==============================] - 0s 957us/sample - loss: 12.8895 - mse: 12.8895 - binary_crossentropy: 49.8103\n",
      "Epoch 2/500\n",
      "100/100 [==============================] - 0s 30us/sample - loss: 12.7842 - mse: 12.7842 - binary_crossentropy: 49.8103\n",
      "Epoch 3/500\n",
      "100/100 [==============================] - 0s 10us/sample - loss: 12.6803 - mse: 12.6803 - binary_crossentropy: 49.2701\n",
      "Epoch 4/500\n",
      "100/100 [==============================] - 0s 30us/sample - loss: 12.5800 - mse: 12.5800 - binary_crossentropy: 48.2282\n",
      "Epoch 5/500\n",
      "100/100 [==============================] - 0s 30us/sample - loss: 12.4900 - mse: 12.4900 - binary_crossentropy: 47.5734\n",
      "Epoch 6/500\n",
      "100/100 [==============================] - 0s 10us/sample - loss: 12.4012 - mse: 12.4012 - binary_crossentropy: 46.3094\n",
      "Epoch 7/500\n",
      "100/100 [==============================] - 0s 40us/sample - loss: 12.3130 - mse: 12.3130 - binary_crossentropy: 42.5001\n",
      "Epoch 8/500\n",
      "100/100 [==============================] - 0s 10us/sample - loss: 12.2261 - mse: 12.2261 - binary_crossentropy: 34.3490\n",
      "Epoch 9/500\n",
      "100/100 [==============================] - 0s 20us/sample - loss: 12.1415 - mse: 12.1415 - binary_crossentropy: 25.2266\n",
      "Epoch 10/500\n",
      "100/100 [==============================] - 0s 20us/sample - loss: 12.0588 - mse: 12.0588 - binary_crossentropy: 12.5004\n",
      "Epoch 11/500\n",
      "100/100 [==============================] - 0s 50us/sample - loss: 11.9764 - mse: 11.9764 - binary_crossentropy: 10.7489\n",
      "Epoch 12/500\n",
      "100/100 [==============================] - 0s 20us/sample - loss: 11.8942 - mse: 11.8942 - binary_crossentropy: 9.6735\n",
      "Epoch 13/500\n",
      "100/100 [==============================] - 0s 60us/sample - loss: 11.8124 - mse: 11.8124 - binary_crossentropy: 8.8732\n",
      "Epoch 14/500\n",
      "100/100 [==============================] - 0s 20us/sample - loss: 11.7308 - mse: 11.7308 - binary_crossentropy: 8.2289\n",
      "Epoch 15/500\n",
      "100/100 [==============================] - 0s 20us/sample - loss: 11.6497 - mse: 11.6497 - binary_crossentropy: 7.6863\n",
      "Epoch 16/500\n",
      "100/100 [==============================] - 0s 30us/sample - loss: 11.5688 - mse: 11.5688 - binary_crossentropy: 7.2154\n",
      "Epoch 17/500\n",
      "100/100 [==============================] - 0s 20us/sample - loss: 11.4885 - mse: 11.4885 - binary_crossentropy: 6.7993\n",
      "Epoch 18/500\n",
      "100/100 [==============================] - 0s 40us/sample - loss: 11.4087 - mse: 11.4087 - binary_crossentropy: 6.4251\n",
      "Epoch 19/500\n",
      "100/100 [==============================] - 0s 20us/sample - loss: 11.3293 - mse: 11.3293 - binary_crossentropy: 6.0841\n",
      "Epoch 20/500\n",
      "100/100 [==============================] - 0s 30us/sample - loss: 11.2509 - mse: 11.2509 - binary_crossentropy: 5.7724\n",
      "Epoch 21/500\n",
      "100/100 [==============================] - 0s 20us/sample - loss: 11.1730 - mse: 11.1730 - binary_crossentropy: 5.4832\n",
      "Epoch 22/500\n",
      "100/100 [==============================] - 0s 30us/sample - loss: 11.0955 - mse: 11.0955 - binary_crossentropy: 5.2126\n",
      "Epoch 23/500\n",
      "100/100 [==============================] - 0s 20us/sample - loss: 11.0190 - mse: 11.0190 - binary_crossentropy: 4.9592\n",
      "Epoch 24/500\n",
      "100/100 [==============================] - 0s 50us/sample - loss: 10.9434 - mse: 10.9434 - binary_crossentropy: 4.7207\n",
      "Epoch 25/500\n",
      "100/100 [==============================] - 0s 10us/sample - loss: 10.8684 - mse: 10.8684 - binary_crossentropy: 4.4943\n",
      "Epoch 26/500\n",
      "100/100 [==============================] - 0s 50us/sample - loss: 10.7932 - mse: 10.7932 - binary_crossentropy: 4.2762\n",
      "Epoch 27/500\n",
      "100/100 [==============================] - 0s 20us/sample - loss: 10.7177 - mse: 10.7177 - binary_crossentropy: 4.0657\n",
      "Epoch 28/500\n",
      "100/100 [==============================] - 0s 20us/sample - loss: 10.6420 - mse: 10.6420 - binary_crossentropy: 3.8616\n",
      "Epoch 29/500\n",
      "100/100 [==============================] - 0s 20us/sample - loss: 10.5659 - mse: 10.5659 - binary_crossentropy: 3.6631\n",
      "Epoch 30/500\n",
      "100/100 [==============================] - 0s 40us/sample - loss: 10.4895 - mse: 10.4895 - binary_crossentropy: 3.4694\n",
      "Epoch 31/500\n",
      "100/100 [==============================] - 0s 20us/sample - loss: 10.4128 - mse: 10.4128 - binary_crossentropy: 3.2805\n",
      "Epoch 32/500\n",
      "100/100 [==============================] - 0s 20us/sample - loss: 10.3360 - mse: 10.3360 - binary_crossentropy: 3.0958\n",
      "Epoch 33/500\n",
      "100/100 [==============================] - 0s 20us/sample - loss: 10.2587 - mse: 10.2587 - binary_crossentropy: 2.9142\n",
      "Epoch 34/500\n",
      "100/100 [==============================] - 0s 50us/sample - loss: 10.1811 - mse: 10.1811 - binary_crossentropy: 2.7353\n",
      "Epoch 35/500\n",
      "100/100 [==============================] - 0s 10us/sample - loss: 10.1024 - mse: 10.1024 - binary_crossentropy: 2.5575\n",
      "Epoch 36/500\n",
      "100/100 [==============================] - 0s 80us/sample - loss: 10.0230 - mse: 10.0230 - binary_crossentropy: 2.3809\n",
      "Epoch 37/500\n",
      "100/100 [==============================] - 0s 20us/sample - loss: 9.9423 - mse: 9.9423 - binary_crossentropy: 2.2041\n",
      "Epoch 38/500\n",
      "100/100 [==============================] - 0s 40us/sample - loss: 9.8587 - mse: 9.8587 - binary_crossentropy: 2.0235\n",
      "Epoch 39/500\n",
      "100/100 [==============================] - 0s 30us/sample - loss: 9.7711 - mse: 9.7711 - binary_crossentropy: 1.8371\n",
      "Epoch 40/500\n",
      "100/100 [==============================] - 0s 30us/sample - loss: 9.6799 - mse: 9.6799 - binary_crossentropy: 1.6453\n",
      "Epoch 41/500\n",
      "100/100 [==============================] - 0s 50us/sample - loss: 9.5869 - mse: 9.5869 - binary_crossentropy: 1.4512\n",
      "Epoch 42/500\n",
      "100/100 [==============================] - 0s 30us/sample - loss: 9.4922 - mse: 9.4922 - binary_crossentropy: 1.2547\n",
      "Epoch 43/500\n",
      "100/100 [==============================] - 0s 40us/sample - loss: 9.3960 - mse: 9.3960 - binary_crossentropy: 1.0557\n",
      "Epoch 44/500\n",
      "100/100 [==============================] - 0s 20us/sample - loss: 9.2985 - mse: 9.2985 - binary_crossentropy: 0.8539\n",
      "Epoch 45/500\n",
      "100/100 [==============================] - 0s 50us/sample - loss: 9.1998 - mse: 9.1998 - binary_crossentropy: 0.6490\n",
      "Epoch 46/500\n",
      "100/100 [==============================] - 0s 70us/sample - loss: 9.1000 - mse: 9.1000 - binary_crossentropy: 0.4405\n",
      "Epoch 47/500\n",
      "100/100 [==============================] - 0s 30us/sample - loss: 8.9992 - mse: 8.9992 - binary_crossentropy: 0.2275\n",
      "Epoch 48/500\n",
      "100/100 [==============================] - 0s 30us/sample - loss: 8.8975 - mse: 8.8975 - binary_crossentropy: 0.0095\n",
      "Epoch 49/500\n",
      "100/100 [==============================] - 0s 30us/sample - loss: 8.7949 - mse: 8.7949 - binary_crossentropy: -0.2149\n",
      "Epoch 50/500\n",
      "100/100 [==============================] - 0s 20us/sample - loss: 8.6913 - mse: 8.6913 - binary_crossentropy: -0.4470\n",
      "Epoch 51/500\n",
      "100/100 [==============================] - 0s 30us/sample - loss: 8.5870 - mse: 8.5870 - binary_crossentropy: -0.6885\n",
      "Epoch 52/500\n",
      "100/100 [==============================] - 0s 80us/sample - loss: 8.4819 - mse: 8.4819 - binary_crossentropy: -0.9415\n",
      "Epoch 53/500\n",
      "100/100 [==============================] - 0s 40us/sample - loss: 8.3761 - mse: 8.3761 - binary_crossentropy: -1.2094\n",
      "Epoch 54/500\n",
      "100/100 [==============================] - 0s 40us/sample - loss: 8.2697 - mse: 8.2697 - binary_crossentropy: -1.4967\n",
      "Epoch 55/500\n",
      "100/100 [==============================] - 0s 10us/sample - loss: 8.1623 - mse: 8.1623 - binary_crossentropy: -1.8106\n",
      "Epoch 56/500\n",
      "100/100 [==============================] - 0s 50us/sample - loss: 8.0542 - mse: 8.0542 - binary_crossentropy: -2.1634\n",
      "Epoch 57/500\n",
      "100/100 [==============================] - 0s 60us/sample - loss: 7.9453 - mse: 7.9453 - binary_crossentropy: -2.5805\n"
     ]
    },
    {
     "name": "stdout",
     "output_type": "stream",
     "text": [
      "Epoch 58/500\n",
      "100/100 [==============================] - 0s 40us/sample - loss: 7.8358 - mse: 7.8358 - binary_crossentropy: -3.1528\n",
      "Epoch 59/500\n",
      "100/100 [==============================] - 0s 30us/sample - loss: 7.7257 - mse: 7.7257 - binary_crossentropy: -5.7842\n",
      "Epoch 60/500\n",
      "100/100 [==============================] - 0s 80us/sample - loss: 7.6151 - mse: 7.6151 - binary_crossentropy: -8.0896\n",
      "Epoch 61/500\n",
      "100/100 [==============================] - 0s 50us/sample - loss: 7.5039 - mse: 7.5039 - binary_crossentropy: -9.5089\n",
      "Epoch 62/500\n",
      "100/100 [==============================] - 0s 40us/sample - loss: 7.3923 - mse: 7.3923 - binary_crossentropy: -11.1777\n",
      "Epoch 63/500\n",
      "100/100 [==============================] - 0s 10us/sample - loss: 7.2803 - mse: 7.2803 - binary_crossentropy: -15.1214\n",
      "Epoch 64/500\n",
      "100/100 [==============================] - 0s 20us/sample - loss: 7.1678 - mse: 7.1678 - binary_crossentropy: -16.1615\n",
      "Epoch 65/500\n",
      "100/100 [==============================] - 0s 20us/sample - loss: 7.0549 - mse: 7.0549 - binary_crossentropy: -17.5498\n",
      "Epoch 66/500\n",
      "100/100 [==============================] - 0s 30us/sample - loss: 6.9415 - mse: 6.9415 - binary_crossentropy: -18.2720\n",
      "Epoch 67/500\n",
      "100/100 [==============================] - 0s 30us/sample - loss: 6.8276 - mse: 6.8276 - binary_crossentropy: -19.1778\n",
      "Epoch 68/500\n",
      "100/100 [==============================] - 0s 20us/sample - loss: 6.7132 - mse: 6.7132 - binary_crossentropy: -20.5573\n",
      "Epoch 69/500\n",
      "100/100 [==============================] - 0s 30us/sample - loss: 6.5985 - mse: 6.5985 - binary_crossentropy: -21.9092\n",
      "Epoch 70/500\n",
      "100/100 [==============================] - 0s 40us/sample - loss: 6.4834 - mse: 6.4834 - binary_crossentropy: -22.5141\n",
      "Epoch 71/500\n",
      "100/100 [==============================] - 0s 60us/sample - loss: 6.3681 - mse: 6.3681 - binary_crossentropy: -23.7745\n",
      "Epoch 72/500\n",
      "100/100 [==============================] - 0s 30us/sample - loss: 6.2525 - mse: 6.2525 - binary_crossentropy: -25.7708\n",
      "Epoch 73/500\n",
      "100/100 [==============================] - 0s 70us/sample - loss: 6.1366 - mse: 6.1366 - binary_crossentropy: -27.1398\n",
      "Epoch 74/500\n",
      "100/100 [==============================] - 0s 30us/sample - loss: 6.0204 - mse: 6.0204 - binary_crossentropy: -27.7158\n",
      "Epoch 75/500\n",
      "100/100 [==============================] - 0s 50us/sample - loss: 5.9039 - mse: 5.9039 - binary_crossentropy: -28.0908\n",
      "Epoch 76/500\n",
      "100/100 [==============================] - 0s 20us/sample - loss: 5.7873 - mse: 5.7873 - binary_crossentropy: -28.6776\n",
      "Epoch 77/500\n",
      "100/100 [==============================] - 0s 30us/sample - loss: 5.6705 - mse: 5.6705 - binary_crossentropy: -29.6360\n",
      "Epoch 78/500\n",
      "100/100 [==============================] - 0s 70us/sample - loss: 5.5535 - mse: 5.5535 - binary_crossentropy: -30.2124\n",
      "Epoch 79/500\n",
      "100/100 [==============================] - 0s 20us/sample - loss: 5.4365 - mse: 5.4365 - binary_crossentropy: -30.9882\n",
      "Epoch 80/500\n",
      "100/100 [==============================] - 0s 30us/sample - loss: 5.3193 - mse: 5.3193 - binary_crossentropy: -31.8459\n",
      "Epoch 81/500\n",
      "100/100 [==============================] - 0s 20us/sample - loss: 5.2022 - mse: 5.2022 - binary_crossentropy: -32.0505\n",
      "Epoch 82/500\n",
      "100/100 [==============================] - 0s 30us/sample - loss: 5.0853 - mse: 5.0853 - binary_crossentropy: -32.1328\n",
      "Epoch 83/500\n",
      "100/100 [==============================] - 0s 40us/sample - loss: 4.9685 - mse: 4.9685 - binary_crossentropy: -32.4403\n",
      "Epoch 84/500\n",
      "100/100 [==============================] - 0s 50us/sample - loss: 4.8519 - mse: 4.8519 - binary_crossentropy: -32.7313\n",
      "Epoch 85/500\n",
      "100/100 [==============================] - 0s 20us/sample - loss: 4.7356 - mse: 4.7356 - binary_crossentropy: -32.8886\n",
      "Epoch 86/500\n",
      "100/100 [==============================] - 0s 30us/sample - loss: 4.6196 - mse: 4.6196 - binary_crossentropy: -33.1286\n",
      "Epoch 87/500\n",
      "100/100 [==============================] - 0s 30us/sample - loss: 4.5039 - mse: 4.5039 - binary_crossentropy: -33.1673\n",
      "Epoch 88/500\n",
      "100/100 [==============================] - 0s 20us/sample - loss: 4.3886 - mse: 4.3886 - binary_crossentropy: -33.3732\n",
      "Epoch 89/500\n",
      "100/100 [==============================] - 0s 40us/sample - loss: 4.2737 - mse: 4.2737 - binary_crossentropy: -33.4605\n",
      "Epoch 90/500\n",
      "100/100 [==============================] - 0s 40us/sample - loss: 4.1593 - mse: 4.1593 - binary_crossentropy: -33.4756\n",
      "Epoch 91/500\n",
      "100/100 [==============================] - 0s 30us/sample - loss: 4.0454 - mse: 4.0454 - binary_crossentropy: -33.5054\n",
      "Epoch 92/500\n",
      "100/100 [==============================] - 0s 20us/sample - loss: 3.9321 - mse: 3.9321 - binary_crossentropy: -33.5856\n",
      "Epoch 93/500\n",
      "100/100 [==============================] - 0s 50us/sample - loss: 3.8194 - mse: 3.8194 - binary_crossentropy: -33.6423\n",
      "Epoch 94/500\n",
      "100/100 [==============================] - 0s 20us/sample - loss: 3.7075 - mse: 3.7075 - binary_crossentropy: -33.7064\n",
      "Epoch 95/500\n",
      "100/100 [==============================] - 0s 30us/sample - loss: 3.5963 - mse: 3.5963 - binary_crossentropy: -33.8025\n",
      "Epoch 96/500\n",
      "100/100 [==============================] - 0s 30us/sample - loss: 3.4860 - mse: 3.4860 - binary_crossentropy: -33.9266\n",
      "Epoch 97/500\n",
      "100/100 [==============================] - 0s 20us/sample - loss: 3.3766 - mse: 3.3766 - binary_crossentropy: -33.9731\n",
      "Epoch 98/500\n",
      "100/100 [==============================] - 0s 30us/sample - loss: 3.2681 - mse: 3.2681 - binary_crossentropy: -33.9758\n",
      "Epoch 99/500\n",
      "100/100 [==============================] - 0s 30us/sample - loss: 3.1608 - mse: 3.1608 - binary_crossentropy: -33.9999\n",
      "Epoch 100/500\n",
      "100/100 [==============================] - 0s 10us/sample - loss: 3.0546 - mse: 3.0546 - binary_crossentropy: -34.0024\n",
      "Epoch 101/500\n",
      "100/100 [==============================] - 0s 20us/sample - loss: 2.9496 - mse: 2.9496 - binary_crossentropy: -33.9986\n",
      "Epoch 102/500\n",
      "100/100 [==============================] - 0s 20us/sample - loss: 2.8459 - mse: 2.8459 - binary_crossentropy: -33.9936\n",
      "Epoch 103/500\n",
      "100/100 [==============================] - 0s 30us/sample - loss: 2.7437 - mse: 2.7437 - binary_crossentropy: -33.9936\n",
      "Epoch 104/500\n",
      "100/100 [==============================] - 0s 20us/sample - loss: 2.6429 - mse: 2.6429 - binary_crossentropy: -33.9936\n",
      "Epoch 105/500\n",
      "100/100 [==============================] - 0s 10us/sample - loss: 2.5437 - mse: 2.5437 - binary_crossentropy: -33.9936\n",
      "Epoch 106/500\n",
      "100/100 [==============================] - 0s 20us/sample - loss: 2.4461 - mse: 2.4461 - binary_crossentropy: -33.9936\n",
      "Epoch 107/500\n",
      "100/100 [==============================] - 0s 30us/sample - loss: 2.3502 - mse: 2.3502 - binary_crossentropy: -33.9936\n",
      "Epoch 108/500\n",
      "100/100 [==============================] - 0s 20us/sample - loss: 2.2561 - mse: 2.2561 - binary_crossentropy: -33.9936\n",
      "Epoch 109/500\n",
      "100/100 [==============================] - 0s 20us/sample - loss: 2.1639 - mse: 2.1639 - binary_crossentropy: -33.9936\n",
      "Epoch 110/500\n",
      "100/100 [==============================] - 0s 10us/sample - loss: 2.0736 - mse: 2.0736 - binary_crossentropy: -33.9936\n",
      "Epoch 111/500\n",
      "100/100 [==============================] - 0s 20us/sample - loss: 1.9853 - mse: 1.9853 - binary_crossentropy: -33.9936\n",
      "Epoch 112/500\n",
      "100/100 [==============================] - 0s 20us/sample - loss: 1.8990 - mse: 1.8990 - binary_crossentropy: -33.9936\n",
      "Epoch 113/500\n",
      "100/100 [==============================] - 0s 10us/sample - loss: 1.8149 - mse: 1.8149 - binary_crossentropy: -33.9936\n",
      "Epoch 114/500\n",
      "100/100 [==============================] - 0s 20us/sample - loss: 1.7329 - mse: 1.7329 - binary_crossentropy: -33.9936\n",
      "Epoch 115/500\n",
      "100/100 [==============================] - 0s 20us/sample - loss: 1.6532 - mse: 1.6532 - binary_crossentropy: -33.9936\n",
      "Epoch 116/500\n",
      "100/100 [==============================] - 0s 20us/sample - loss: 1.5758 - mse: 1.5758 - binary_crossentropy: -33.9936\n",
      "Epoch 117/500\n",
      "100/100 [==============================] - 0s 20us/sample - loss: 1.5007 - mse: 1.5007 - binary_crossentropy: -33.9936\n",
      "Epoch 118/500\n",
      "100/100 [==============================] - 0s 10us/sample - loss: 1.4279 - mse: 1.4279 - binary_crossentropy: -33.9936\n",
      "Epoch 119/500\n",
      "100/100 [==============================] - 0s 80us/sample - loss: 1.3576 - mse: 1.3576 - binary_crossentropy: -33.9936\n"
     ]
    },
    {
     "name": "stdout",
     "output_type": "stream",
     "text": [
      "Epoch 120/500\n",
      "100/100 [==============================] - 0s 30us/sample - loss: 1.2898 - mse: 1.2898 - binary_crossentropy: -33.9936\n",
      "Epoch 121/500\n",
      "100/100 [==============================] - 0s 20us/sample - loss: 1.2244 - mse: 1.2244 - binary_crossentropy: -33.9936\n",
      "Epoch 122/500\n",
      "100/100 [==============================] - 0s 20us/sample - loss: 1.1614 - mse: 1.1614 - binary_crossentropy: -33.9936\n",
      "Epoch 123/500\n",
      "100/100 [==============================] - 0s 20us/sample - loss: 1.1010 - mse: 1.1010 - binary_crossentropy: -33.9936\n",
      "Epoch 124/500\n",
      "100/100 [==============================] - 0s 60us/sample - loss: 1.0431 - mse: 1.0431 - binary_crossentropy: -33.9936\n",
      "Epoch 125/500\n",
      "100/100 [==============================] - 0s 20us/sample - loss: 0.9877 - mse: 0.9877 - binary_crossentropy: -33.9936\n",
      "Epoch 126/500\n",
      "100/100 [==============================] - 0s 20us/sample - loss: 0.9349 - mse: 0.9349 - binary_crossentropy: -33.9936\n",
      "Epoch 127/500\n",
      "100/100 [==============================] - 0s 20us/sample - loss: 0.8845 - mse: 0.8845 - binary_crossentropy: -33.9936\n",
      "Epoch 128/500\n",
      "100/100 [==============================] - 0s 10us/sample - loss: 0.8366 - mse: 0.8366 - binary_crossentropy: -33.9936\n",
      "Epoch 129/500\n",
      "100/100 [==============================] - 0s 20us/sample - loss: 0.7911 - mse: 0.7911 - binary_crossentropy: -33.9936\n",
      "Epoch 130/500\n",
      "100/100 [==============================] - 0s 20us/sample - loss: 0.7481 - mse: 0.7481 - binary_crossentropy: -33.9936\n",
      "Epoch 131/500\n",
      "100/100 [==============================] - 0s 10us/sample - loss: 0.7075 - mse: 0.7075 - binary_crossentropy: -33.9936\n",
      "Epoch 132/500\n",
      "100/100 [==============================] - 0s 20us/sample - loss: 0.6693 - mse: 0.6693 - binary_crossentropy: -33.9936\n",
      "Epoch 133/500\n",
      "100/100 [==============================] - 0s 20us/sample - loss: 0.6333 - mse: 0.6333 - binary_crossentropy: -33.9936\n",
      "Epoch 134/500\n",
      "100/100 [==============================] - 0s 40us/sample - loss: 0.5996 - mse: 0.5996 - binary_crossentropy: -33.9936\n",
      "Epoch 135/500\n",
      "100/100 [==============================] - 0s 30us/sample - loss: 0.5681 - mse: 0.5681 - binary_crossentropy: -33.9936\n",
      "Epoch 136/500\n",
      "100/100 [==============================] - 0s 40us/sample - loss: 0.5387 - mse: 0.5387 - binary_crossentropy: -33.9936\n",
      "Epoch 137/500\n",
      "100/100 [==============================] - 0s 30us/sample - loss: 0.5114 - mse: 0.5114 - binary_crossentropy: -33.9936\n",
      "Epoch 138/500\n",
      "100/100 [==============================] - 0s 30us/sample - loss: 0.4861 - mse: 0.4861 - binary_crossentropy: -33.9936\n",
      "Epoch 139/500\n",
      "100/100 [==============================] - 0s 20us/sample - loss: 0.4627 - mse: 0.4627 - binary_crossentropy: -33.9936\n",
      "Epoch 140/500\n",
      "100/100 [==============================] - 0s 20us/sample - loss: 0.4411 - mse: 0.4411 - binary_crossentropy: -33.9936\n",
      "Epoch 141/500\n",
      "100/100 [==============================] - 0s 20us/sample - loss: 0.4213 - mse: 0.4213 - binary_crossentropy: -33.9936\n",
      "Epoch 142/500\n",
      "100/100 [==============================] - 0s 20us/sample - loss: 0.4031 - mse: 0.4031 - binary_crossentropy: -33.9936\n",
      "Epoch 143/500\n",
      "100/100 [==============================] - 0s 20us/sample - loss: 0.3865 - mse: 0.3865 - binary_crossentropy: -33.9936\n",
      "Epoch 144/500\n",
      "100/100 [==============================] - 0s 20us/sample - loss: 0.3714 - mse: 0.3714 - binary_crossentropy: -33.9936\n",
      "Epoch 145/500\n",
      "100/100 [==============================] - 0s 30us/sample - loss: 0.3577 - mse: 0.3577 - binary_crossentropy: -33.9936\n",
      "Epoch 146/500\n",
      "100/100 [==============================] - 0s 20us/sample - loss: 0.3453 - mse: 0.3453 - binary_crossentropy: -33.9936\n",
      "Epoch 147/500\n",
      "100/100 [==============================] - 0s 10us/sample - loss: 0.3341 - mse: 0.3341 - binary_crossentropy: -33.9936\n",
      "Epoch 148/500\n",
      "100/100 [==============================] - 0s 20us/sample - loss: 0.3241 - mse: 0.3241 - binary_crossentropy: -33.9936\n",
      "Epoch 149/500\n",
      "100/100 [==============================] - 0s 20us/sample - loss: 0.3151 - mse: 0.3151 - binary_crossentropy: -33.9936\n",
      "Epoch 150/500\n",
      "100/100 [==============================] - 0s 30us/sample - loss: 0.3071 - mse: 0.3071 - binary_crossentropy: -33.9936\n",
      "Epoch 151/500\n",
      "100/100 [==============================] - 0s 20us/sample - loss: 0.2999 - mse: 0.2999 - binary_crossentropy: -33.9936\n",
      "Epoch 152/500\n",
      "100/100 [==============================] - 0s 10us/sample - loss: 0.2936 - mse: 0.2936 - binary_crossentropy: -33.9936\n",
      "Epoch 153/500\n",
      "100/100 [==============================] - 0s 10us/sample - loss: 0.2880 - mse: 0.2880 - binary_crossentropy: -33.9936\n",
      "Epoch 154/500\n",
      "100/100 [==============================] - 0s 10us/sample - loss: 0.2831 - mse: 0.2831 - binary_crossentropy: -33.9936\n",
      "Epoch 155/500\n",
      "100/100 [==============================] - 0s 20us/sample - loss: 0.2787 - mse: 0.2787 - binary_crossentropy: -33.9936\n",
      "Epoch 156/500\n",
      "100/100 [==============================] - 0s 30us/sample - loss: 0.2749 - mse: 0.2749 - binary_crossentropy: -33.9936\n",
      "Epoch 157/500\n",
      "100/100 [==============================] - 0s 20us/sample - loss: 0.2715 - mse: 0.2715 - binary_crossentropy: -33.9936\n",
      "Epoch 158/500\n",
      "100/100 [==============================] - 0s 30us/sample - loss: 0.2685 - mse: 0.2685 - binary_crossentropy: -33.9936\n",
      "Epoch 159/500\n",
      "100/100 [==============================] - 0s 20us/sample - loss: 0.2659 - mse: 0.2659 - binary_crossentropy: -33.9936\n",
      "Epoch 160/500\n",
      "100/100 [==============================] - 0s 20us/sample - loss: 0.2636 - mse: 0.2636 - binary_crossentropy: -33.9936\n",
      "Epoch 161/500\n",
      "100/100 [==============================] - 0s 20us/sample - loss: 0.2615 - mse: 0.2615 - binary_crossentropy: -33.9936\n",
      "Epoch 162/500\n",
      "100/100 [==============================] - 0s 30us/sample - loss: 0.2597 - mse: 0.2597 - binary_crossentropy: -33.9936\n",
      "Epoch 163/500\n",
      "100/100 [==============================] - 0s 10us/sample - loss: 0.2580 - mse: 0.2580 - binary_crossentropy: -33.9936\n",
      "Epoch 164/500\n",
      "100/100 [==============================] - 0s 10us/sample - loss: 0.2565 - mse: 0.2565 - binary_crossentropy: -33.9936\n",
      "Epoch 165/500\n",
      "100/100 [==============================] - 0s 20us/sample - loss: 0.2550 - mse: 0.2550 - binary_crossentropy: -33.9936\n",
      "Epoch 166/500\n",
      "100/100 [==============================] - 0s 20us/sample - loss: 0.2537 - mse: 0.2537 - binary_crossentropy: -33.9936\n",
      "Epoch 167/500\n",
      "100/100 [==============================] - 0s 20us/sample - loss: 0.2524 - mse: 0.2524 - binary_crossentropy: -33.9936\n",
      "Epoch 168/500\n",
      "100/100 [==============================] - 0s 30us/sample - loss: 0.2512 - mse: 0.2512 - binary_crossentropy: -33.9936\n",
      "Epoch 169/500\n",
      "100/100 [==============================] - 0s 20us/sample - loss: 0.2500 - mse: 0.2500 - binary_crossentropy: -33.9936\n",
      "Epoch 170/500\n",
      "100/100 [==============================] - 0s 30us/sample - loss: 0.2490 - mse: 0.2490 - binary_crossentropy: -33.9936\n",
      "Epoch 171/500\n",
      "100/100 [==============================] - 0s 10us/sample - loss: 0.2479 - mse: 0.2479 - binary_crossentropy: -33.9936\n",
      "Epoch 172/500\n",
      "100/100 [==============================] - 0s 40us/sample - loss: 0.2468 - mse: 0.2468 - binary_crossentropy: -33.9936\n",
      "Epoch 173/500\n",
      "100/100 [==============================] - 0s 20us/sample - loss: 0.2457 - mse: 0.2457 - binary_crossentropy: -33.9936\n",
      "Epoch 174/500\n",
      "100/100 [==============================] - 0s 40us/sample - loss: 0.2447 - mse: 0.2447 - binary_crossentropy: -33.9936\n",
      "Epoch 175/500\n",
      "100/100 [==============================] - 0s 20us/sample - loss: 0.2436 - mse: 0.2436 - binary_crossentropy: -33.9936\n",
      "Epoch 176/500\n",
      "100/100 [==============================] - 0s 30us/sample - loss: 0.2425 - mse: 0.2425 - binary_crossentropy: -33.9936\n",
      "Epoch 177/500\n",
      "100/100 [==============================] - 0s 20us/sample - loss: 0.2414 - mse: 0.2414 - binary_crossentropy: -33.9936\n",
      "Epoch 178/500\n",
      "100/100 [==============================] - 0s 20us/sample - loss: 0.2403 - mse: 0.2403 - binary_crossentropy: -33.9936\n",
      "Epoch 179/500\n",
      "100/100 [==============================] - 0s 30us/sample - loss: 0.2391 - mse: 0.2391 - binary_crossentropy: -33.9936\n",
      "Epoch 180/500\n",
      "100/100 [==============================] - 0s 30us/sample - loss: 0.2380 - mse: 0.2380 - binary_crossentropy: -33.9936\n",
      "Epoch 181/500\n",
      "100/100 [==============================] - 0s 30us/sample - loss: 0.2368 - mse: 0.2368 - binary_crossentropy: -33.9936\n"
     ]
    },
    {
     "name": "stdout",
     "output_type": "stream",
     "text": [
      "Epoch 182/500\n",
      "100/100 [==============================] - 0s 10us/sample - loss: 0.2356 - mse: 0.2356 - binary_crossentropy: -33.9936\n",
      "Epoch 183/500\n",
      "100/100 [==============================] - 0s 10us/sample - loss: 0.2344 - mse: 0.2344 - binary_crossentropy: -33.9936\n",
      "Epoch 184/500\n",
      "100/100 [==============================] - 0s 20us/sample - loss: 0.2332 - mse: 0.2332 - binary_crossentropy: -33.9936\n",
      "Epoch 185/500\n",
      "100/100 [==============================] - 0s 20us/sample - loss: 0.2320 - mse: 0.2320 - binary_crossentropy: -33.9936\n",
      "Epoch 186/500\n",
      "100/100 [==============================] - 0s 20us/sample - loss: 0.2308 - mse: 0.2308 - binary_crossentropy: -33.9936\n",
      "Epoch 187/500\n",
      "100/100 [==============================] - 0s 20us/sample - loss: 0.2296 - mse: 0.2296 - binary_crossentropy: -33.9936\n",
      "Epoch 188/500\n",
      "100/100 [==============================] - 0s 20us/sample - loss: 0.2284 - mse: 0.2284 - binary_crossentropy: -33.9936\n",
      "Epoch 189/500\n",
      "100/100 [==============================] - 0s 20us/sample - loss: 0.2272 - mse: 0.2272 - binary_crossentropy: -33.9936\n",
      "Epoch 190/500\n",
      "100/100 [==============================] - 0s 10us/sample - loss: 0.2259 - mse: 0.2259 - binary_crossentropy: -33.9936\n",
      "Epoch 191/500\n",
      "100/100 [==============================] - 0s 20us/sample - loss: 0.2247 - mse: 0.2247 - binary_crossentropy: -33.9936\n",
      "Epoch 192/500\n",
      "100/100 [==============================] - 0s 20us/sample - loss: 0.2235 - mse: 0.2235 - binary_crossentropy: -33.9936\n",
      "Epoch 193/500\n",
      "100/100 [==============================] - 0s 10us/sample - loss: 0.2222 - mse: 0.2222 - binary_crossentropy: -33.9936\n",
      "Epoch 194/500\n",
      "100/100 [==============================] - 0s 20us/sample - loss: 0.2210 - mse: 0.2210 - binary_crossentropy: -33.9936\n",
      "Epoch 195/500\n",
      "100/100 [==============================] - 0s 40us/sample - loss: 0.2198 - mse: 0.2198 - binary_crossentropy: -33.9936\n",
      "Epoch 196/500\n",
      "100/100 [==============================] - 0s 20us/sample - loss: 0.2186 - mse: 0.2186 - binary_crossentropy: -33.9936\n",
      "Epoch 197/500\n",
      "100/100 [==============================] - 0s 30us/sample - loss: 0.2173 - mse: 0.2173 - binary_crossentropy: -33.9936\n",
      "Epoch 198/500\n",
      "100/100 [==============================] - 0s 30us/sample - loss: 0.2161 - mse: 0.2161 - binary_crossentropy: -33.9936\n",
      "Epoch 199/500\n",
      "100/100 [==============================] - 0s 30us/sample - loss: 0.2149 - mse: 0.2149 - binary_crossentropy: -33.9936\n",
      "Epoch 200/500\n",
      "100/100 [==============================] - 0s 30us/sample - loss: 0.2137 - mse: 0.2137 - binary_crossentropy: -33.9936\n",
      "Epoch 201/500\n",
      "100/100 [==============================] - 0s 40us/sample - loss: 0.2125 - mse: 0.2125 - binary_crossentropy: -33.9936\n",
      "Epoch 202/500\n",
      "100/100 [==============================] - 0s 20us/sample - loss: 0.2113 - mse: 0.2113 - binary_crossentropy: -33.9936\n",
      "Epoch 203/500\n",
      "100/100 [==============================] - 0s 10us/sample - loss: 0.2100 - mse: 0.2100 - binary_crossentropy: -33.9936\n",
      "Epoch 204/500\n",
      "100/100 [==============================] - 0s 20us/sample - loss: 0.2088 - mse: 0.2088 - binary_crossentropy: -33.9936\n",
      "Epoch 205/500\n",
      "100/100 [==============================] - 0s 10us/sample - loss: 0.2076 - mse: 0.2076 - binary_crossentropy: -33.9936\n",
      "Epoch 206/500\n",
      "100/100 [==============================] - 0s 20us/sample - loss: 0.2064 - mse: 0.2064 - binary_crossentropy: -33.9936\n",
      "Epoch 207/500\n",
      "100/100 [==============================] - 0s 20us/sample - loss: 0.2052 - mse: 0.2052 - binary_crossentropy: -33.9936\n",
      "Epoch 208/500\n",
      "100/100 [==============================] - 0s 20us/sample - loss: 0.2040 - mse: 0.2040 - binary_crossentropy: -33.9936\n",
      "Epoch 209/500\n",
      "100/100 [==============================] - 0s 10us/sample - loss: 0.2028 - mse: 0.2028 - binary_crossentropy: -33.9936\n",
      "Epoch 210/500\n",
      "100/100 [==============================] - 0s 20us/sample - loss: 0.2016 - mse: 0.2016 - binary_crossentropy: -33.9936\n",
      "Epoch 211/500\n",
      "100/100 [==============================] - 0s 20us/sample - loss: 0.2004 - mse: 0.2004 - binary_crossentropy: -33.9936\n",
      "Epoch 212/500\n",
      "100/100 [==============================] - 0s 30us/sample - loss: 0.1992 - mse: 0.1992 - binary_crossentropy: -33.9936\n",
      "Epoch 213/500\n",
      "100/100 [==============================] - 0s 10us/sample - loss: 0.1981 - mse: 0.1981 - binary_crossentropy: -33.9936\n",
      "Epoch 214/500\n",
      "100/100 [==============================] - 0s 20us/sample - loss: 0.1969 - mse: 0.1969 - binary_crossentropy: -33.9936\n",
      "Epoch 215/500\n",
      "100/100 [==============================] - 0s 10us/sample - loss: 0.1957 - mse: 0.1957 - binary_crossentropy: -33.9936\n",
      "Epoch 216/500\n",
      "100/100 [==============================] - 0s 20us/sample - loss: 0.1945 - mse: 0.1945 - binary_crossentropy: -33.9936\n",
      "Epoch 217/500\n",
      "100/100 [==============================] - 0s 10us/sample - loss: 0.1933 - mse: 0.1933 - binary_crossentropy: -33.9936\n",
      "Epoch 218/500\n",
      "100/100 [==============================] - 0s 10us/sample - loss: 0.1921 - mse: 0.1921 - binary_crossentropy: -33.9936\n",
      "Epoch 219/500\n",
      "100/100 [==============================] - 0s 10us/sample - loss: 0.1909 - mse: 0.1909 - binary_crossentropy: -33.9936\n",
      "Epoch 220/500\n",
      "100/100 [==============================] - 0s 20us/sample - loss: 0.1897 - mse: 0.1897 - binary_crossentropy: -33.9936\n",
      "Epoch 221/500\n",
      "100/100 [==============================] - 0s 20us/sample - loss: 0.1885 - mse: 0.1885 - binary_crossentropy: -33.9936\n",
      "Epoch 222/500\n",
      "100/100 [==============================] - 0s 20us/sample - loss: 0.1874 - mse: 0.1874 - binary_crossentropy: -33.9936\n",
      "Epoch 223/500\n",
      "100/100 [==============================] - 0s 20us/sample - loss: 0.1862 - mse: 0.1862 - binary_crossentropy: -33.9936\n",
      "Epoch 224/500\n",
      "100/100 [==============================] - 0s 10us/sample - loss: 0.1850 - mse: 0.1850 - binary_crossentropy: -33.9936\n",
      "Epoch 225/500\n",
      "100/100 [==============================] - 0s 20us/sample - loss: 0.1838 - mse: 0.1838 - binary_crossentropy: -33.9936\n",
      "Epoch 226/500\n",
      "100/100 [==============================] - 0s 10us/sample - loss: 0.1826 - mse: 0.1826 - binary_crossentropy: -33.9936\n",
      "Epoch 227/500\n",
      "100/100 [==============================] - 0s 20us/sample - loss: 0.1815 - mse: 0.1815 - binary_crossentropy: -33.9936\n",
      "Epoch 228/500\n",
      "100/100 [==============================] - 0s 10us/sample - loss: 0.1803 - mse: 0.1803 - binary_crossentropy: -33.9936\n",
      "Epoch 229/500\n",
      "100/100 [==============================] - 0s 20us/sample - loss: 0.1791 - mse: 0.1791 - binary_crossentropy: -33.9936\n",
      "Epoch 230/500\n",
      "100/100 [==============================] - 0s 20us/sample - loss: 0.1779 - mse: 0.1779 - binary_crossentropy: -33.9936\n",
      "Epoch 231/500\n",
      "100/100 [==============================] - 0s 10us/sample - loss: 0.1768 - mse: 0.1768 - binary_crossentropy: -33.9936\n",
      "Epoch 232/500\n",
      "100/100 [==============================] - 0s 10us/sample - loss: 0.1756 - mse: 0.1756 - binary_crossentropy: -33.9936\n",
      "Epoch 233/500\n",
      "100/100 [==============================] - 0s 20us/sample - loss: 0.1744 - mse: 0.1744 - binary_crossentropy: -33.9936\n",
      "Epoch 234/500\n",
      "100/100 [==============================] - 0s 20us/sample - loss: 0.1732 - mse: 0.1732 - binary_crossentropy: -33.9936\n",
      "Epoch 235/500\n",
      "100/100 [==============================] - 0s 30us/sample - loss: 0.1721 - mse: 0.1721 - binary_crossentropy: -33.9936\n",
      "Epoch 236/500\n",
      "100/100 [==============================] - 0s 10us/sample - loss: 0.1709 - mse: 0.1709 - binary_crossentropy: -33.9936\n",
      "Epoch 237/500\n",
      "100/100 [==============================] - 0s 30us/sample - loss: 0.1697 - mse: 0.1697 - binary_crossentropy: -33.9936\n",
      "Epoch 238/500\n",
      "100/100 [==============================] - 0s 20us/sample - loss: 0.1686 - mse: 0.1686 - binary_crossentropy: -33.9936\n",
      "Epoch 239/500\n",
      "100/100 [==============================] - 0s 20us/sample - loss: 0.1674 - mse: 0.1674 - binary_crossentropy: -33.9936\n",
      "Epoch 240/500\n",
      "100/100 [==============================] - 0s 20us/sample - loss: 0.1663 - mse: 0.1663 - binary_crossentropy: -33.9936\n",
      "Epoch 241/500\n",
      "100/100 [==============================] - 0s 20us/sample - loss: 0.1651 - mse: 0.1651 - binary_crossentropy: -33.9936\n",
      "Epoch 242/500\n",
      "100/100 [==============================] - 0s 20us/sample - loss: 0.1639 - mse: 0.1639 - binary_crossentropy: -33.9936\n",
      "Epoch 243/500\n",
      "100/100 [==============================] - 0s 20us/sample - loss: 0.1628 - mse: 0.1628 - binary_crossentropy: -33.9936\n"
     ]
    },
    {
     "name": "stdout",
     "output_type": "stream",
     "text": [
      "Epoch 244/500\n",
      "100/100 [==============================] - 0s 40us/sample - loss: 0.1616 - mse: 0.1616 - binary_crossentropy: -33.9936\n",
      "Epoch 245/500\n",
      "100/100 [==============================] - 0s 20us/sample - loss: 0.1605 - mse: 0.1605 - binary_crossentropy: -33.9936\n",
      "Epoch 246/500\n",
      "100/100 [==============================] - 0s 20us/sample - loss: 0.1593 - mse: 0.1593 - binary_crossentropy: -33.9936\n",
      "Epoch 247/500\n",
      "100/100 [==============================] - 0s 20us/sample - loss: 0.1582 - mse: 0.1582 - binary_crossentropy: -33.9936\n",
      "Epoch 248/500\n",
      "100/100 [==============================] - 0s 20us/sample - loss: 0.1570 - mse: 0.1570 - binary_crossentropy: -33.9936\n",
      "Epoch 249/500\n",
      "100/100 [==============================] - 0s 30us/sample - loss: 0.1559 - mse: 0.1559 - binary_crossentropy: -33.9936\n",
      "Epoch 250/500\n",
      "100/100 [==============================] - 0s 10us/sample - loss: 0.1547 - mse: 0.1547 - binary_crossentropy: -33.9936\n",
      "Epoch 251/500\n",
      "100/100 [==============================] - 0s 10us/sample - loss: 0.1536 - mse: 0.1536 - binary_crossentropy: -33.9936\n",
      "Epoch 252/500\n",
      "100/100 [==============================] - 0s 10us/sample - loss: 0.1525 - mse: 0.1525 - binary_crossentropy: -33.9936\n",
      "Epoch 253/500\n",
      "100/100 [==============================] - 0s 10us/sample - loss: 0.1513 - mse: 0.1513 - binary_crossentropy: -33.9936\n",
      "Epoch 254/500\n",
      "100/100 [==============================] - 0s 10us/sample - loss: 0.1502 - mse: 0.1502 - binary_crossentropy: -33.9936\n",
      "Epoch 255/500\n",
      "100/100 [==============================] - 0s 20us/sample - loss: 0.1491 - mse: 0.1491 - binary_crossentropy: -33.9936\n",
      "Epoch 256/500\n",
      "100/100 [==============================] - 0s 20us/sample - loss: 0.1479 - mse: 0.1479 - binary_crossentropy: -33.9936\n",
      "Epoch 257/500\n",
      "100/100 [==============================] - 0s 20us/sample - loss: 0.1468 - mse: 0.1468 - binary_crossentropy: -33.9936\n",
      "Epoch 258/500\n",
      "100/100 [==============================] - 0s 20us/sample - loss: 0.1457 - mse: 0.1457 - binary_crossentropy: -33.9936\n",
      "Epoch 259/500\n",
      "100/100 [==============================] - 0s 30us/sample - loss: 0.1446 - mse: 0.1446 - binary_crossentropy: -33.9936\n",
      "Epoch 260/500\n",
      "100/100 [==============================] - 0s 20us/sample - loss: 0.1434 - mse: 0.1434 - binary_crossentropy: -33.9936\n",
      "Epoch 261/500\n",
      "100/100 [==============================] - 0s 10us/sample - loss: 0.1423 - mse: 0.1423 - binary_crossentropy: -33.9936\n",
      "Epoch 262/500\n",
      "100/100 [==============================] - 0s 10us/sample - loss: 0.1412 - mse: 0.1412 - binary_crossentropy: -33.9936\n",
      "Epoch 263/500\n",
      "100/100 [==============================] - 0s 10us/sample - loss: 0.1401 - mse: 0.1401 - binary_crossentropy: -33.9936\n",
      "Epoch 264/500\n",
      "100/100 [==============================] - 0s 20us/sample - loss: 0.1390 - mse: 0.1390 - binary_crossentropy: -33.9936\n",
      "Epoch 265/500\n",
      "100/100 [==============================] - 0s 10us/sample - loss: 0.1379 - mse: 0.1379 - binary_crossentropy: -33.9936\n",
      "Epoch 266/500\n",
      "100/100 [==============================] - 0s 20us/sample - loss: 0.1368 - mse: 0.1368 - binary_crossentropy: -33.9936\n",
      "Epoch 267/500\n",
      "100/100 [==============================] - 0s 20us/sample - loss: 0.1357 - mse: 0.1357 - binary_crossentropy: -33.9936\n",
      "Epoch 268/500\n",
      "100/100 [==============================] - 0s 10us/sample - loss: 0.1346 - mse: 0.1346 - binary_crossentropy: -33.9936\n",
      "Epoch 269/500\n",
      "100/100 [==============================] - 0s 20us/sample - loss: 0.1335 - mse: 0.1335 - binary_crossentropy: -33.9936\n",
      "Epoch 270/500\n",
      "100/100 [==============================] - 0s 40us/sample - loss: 0.1324 - mse: 0.1324 - binary_crossentropy: -33.9936\n",
      "Epoch 271/500\n",
      "100/100 [==============================] - 0s 10us/sample - loss: 0.1313 - mse: 0.1313 - binary_crossentropy: -33.9936\n",
      "Epoch 272/500\n",
      "100/100 [==============================] - 0s 30us/sample - loss: 0.1302 - mse: 0.1302 - binary_crossentropy: -33.9936\n",
      "Epoch 273/500\n",
      "100/100 [==============================] - 0s 30us/sample - loss: 0.1292 - mse: 0.1292 - binary_crossentropy: -33.9936\n",
      "Epoch 274/500\n",
      "100/100 [==============================] - 0s 20us/sample - loss: 0.1281 - mse: 0.1281 - binary_crossentropy: -33.9936\n",
      "Epoch 275/500\n",
      "100/100 [==============================] - 0s 10us/sample - loss: 0.1270 - mse: 0.1270 - binary_crossentropy: -33.9936\n",
      "Epoch 276/500\n",
      "100/100 [==============================] - 0s 20us/sample - loss: 0.1259 - mse: 0.1259 - binary_crossentropy: -33.9936\n",
      "Epoch 277/500\n",
      "100/100 [==============================] - 0s 10us/sample - loss: 0.1249 - mse: 0.1249 - binary_crossentropy: -33.9936\n",
      "Epoch 278/500\n",
      "100/100 [==============================] - 0s 10us/sample - loss: 0.1238 - mse: 0.1238 - binary_crossentropy: -33.9936\n",
      "Epoch 279/500\n",
      "100/100 [==============================] - 0s 20us/sample - loss: 0.1227 - mse: 0.1227 - binary_crossentropy: -33.9936\n",
      "Epoch 280/500\n",
      "100/100 [==============================] - 0s 20us/sample - loss: 0.1217 - mse: 0.1217 - binary_crossentropy: -33.9936\n",
      "Epoch 281/500\n",
      "100/100 [==============================] - 0s 20us/sample - loss: 0.1206 - mse: 0.1206 - binary_crossentropy: -33.9936\n",
      "Epoch 282/500\n",
      "100/100 [==============================] - 0s 10us/sample - loss: 0.1196 - mse: 0.1196 - binary_crossentropy: -33.9936\n",
      "Epoch 283/500\n",
      "100/100 [==============================] - 0s 20us/sample - loss: 0.1185 - mse: 0.1185 - binary_crossentropy: -33.9936\n",
      "Epoch 284/500\n",
      "100/100 [==============================] - 0s 20us/sample - loss: 0.1175 - mse: 0.1175 - binary_crossentropy: -33.9936\n",
      "Epoch 285/500\n",
      "100/100 [==============================] - 0s 30us/sample - loss: 0.1165 - mse: 0.1165 - binary_crossentropy: -33.9936\n",
      "Epoch 286/500\n",
      "100/100 [==============================] - 0s 10us/sample - loss: 0.1154 - mse: 0.1154 - binary_crossentropy: -33.9936\n",
      "Epoch 287/500\n",
      "100/100 [==============================] - 0s 10us/sample - loss: 0.1144 - mse: 0.1144 - binary_crossentropy: -33.9936\n",
      "Epoch 288/500\n",
      "100/100 [==============================] - 0s 10us/sample - loss: 0.1134 - mse: 0.1134 - binary_crossentropy: -33.9936\n",
      "Epoch 289/500\n",
      "100/100 [==============================] - 0s 50us/sample - loss: 0.1124 - mse: 0.1124 - binary_crossentropy: -33.9936\n",
      "Epoch 290/500\n",
      "100/100 [==============================] - 0s 20us/sample - loss: 0.1113 - mse: 0.1113 - binary_crossentropy: -33.9936\n",
      "Epoch 291/500\n",
      "100/100 [==============================] - 0s 20us/sample - loss: 0.1103 - mse: 0.1103 - binary_crossentropy: -33.9936\n",
      "Epoch 292/500\n",
      "100/100 [==============================] - 0s 20us/sample - loss: 0.1093 - mse: 0.1093 - binary_crossentropy: -33.9936\n",
      "Epoch 293/500\n",
      "100/100 [==============================] - 0s 20us/sample - loss: 0.1083 - mse: 0.1083 - binary_crossentropy: -33.9936\n",
      "Epoch 294/500\n",
      "100/100 [==============================] - 0s 10us/sample - loss: 0.1073 - mse: 0.1073 - binary_crossentropy: -33.9936\n",
      "Epoch 295/500\n",
      "100/100 [==============================] - 0s 20us/sample - loss: 0.1063 - mse: 0.1063 - binary_crossentropy: -33.9936\n",
      "Epoch 296/500\n",
      "100/100 [==============================] - 0s 20us/sample - loss: 0.1053 - mse: 0.1053 - binary_crossentropy: -33.9936\n",
      "Epoch 297/500\n",
      "100/100 [==============================] - 0s 30us/sample - loss: 0.1044 - mse: 0.1044 - binary_crossentropy: -33.9936\n",
      "Epoch 298/500\n",
      "100/100 [==============================] - 0s 30us/sample - loss: 0.1034 - mse: 0.1034 - binary_crossentropy: -33.9936\n",
      "Epoch 299/500\n",
      "100/100 [==============================] - 0s 30us/sample - loss: 0.1024 - mse: 0.1024 - binary_crossentropy: -33.9936\n",
      "Epoch 300/500\n",
      "100/100 [==============================] - 0s 30us/sample - loss: 0.1014 - mse: 0.1014 - binary_crossentropy: -33.9936\n",
      "Epoch 301/500\n",
      "100/100 [==============================] - 0s 20us/sample - loss: 0.1004 - mse: 0.1004 - binary_crossentropy: -33.9936\n",
      "Epoch 302/500\n",
      "100/100 [==============================] - 0s 20us/sample - loss: 0.0995 - mse: 0.0995 - binary_crossentropy: -33.9936\n",
      "Epoch 303/500\n",
      "100/100 [==============================] - 0s 20us/sample - loss: 0.0985 - mse: 0.0985 - binary_crossentropy: -33.9936\n",
      "Epoch 304/500\n",
      "100/100 [==============================] - 0s 20us/sample - loss: 0.0976 - mse: 0.0976 - binary_crossentropy: -33.9936\n",
      "Epoch 305/500\n",
      "100/100 [==============================] - 0s 40us/sample - loss: 0.0966 - mse: 0.0966 - binary_crossentropy: -33.9936\n"
     ]
    },
    {
     "name": "stdout",
     "output_type": "stream",
     "text": [
      "Epoch 306/500\n",
      "100/100 [==============================] - 0s 20us/sample - loss: 0.0956 - mse: 0.0956 - binary_crossentropy: -33.9936\n",
      "Epoch 307/500\n",
      "100/100 [==============================] - 0s 20us/sample - loss: 0.0947 - mse: 0.0947 - binary_crossentropy: -33.9936\n",
      "Epoch 308/500\n",
      "100/100 [==============================] - 0s 20us/sample - loss: 0.0938 - mse: 0.0938 - binary_crossentropy: -33.9936\n",
      "Epoch 309/500\n",
      "100/100 [==============================] - 0s 20us/sample - loss: 0.0928 - mse: 0.0928 - binary_crossentropy: -33.9936\n",
      "Epoch 310/500\n",
      "100/100 [==============================] - 0s 40us/sample - loss: 0.0919 - mse: 0.0919 - binary_crossentropy: -33.9936\n",
      "Epoch 311/500\n",
      "100/100 [==============================] - 0s 20us/sample - loss: 0.0910 - mse: 0.0910 - binary_crossentropy: -33.9936\n",
      "Epoch 312/500\n",
      "100/100 [==============================] - 0s 30us/sample - loss: 0.0900 - mse: 0.0900 - binary_crossentropy: -33.9936\n",
      "Epoch 313/500\n",
      "100/100 [==============================] - 0s 20us/sample - loss: 0.0891 - mse: 0.0891 - binary_crossentropy: -33.9936\n",
      "Epoch 314/500\n",
      "100/100 [==============================] - 0s 20us/sample - loss: 0.0882 - mse: 0.0882 - binary_crossentropy: -33.9936\n",
      "Epoch 315/500\n",
      "100/100 [==============================] - 0s 20us/sample - loss: 0.0873 - mse: 0.0873 - binary_crossentropy: -33.9936\n",
      "Epoch 316/500\n",
      "100/100 [==============================] - 0s 20us/sample - loss: 0.0864 - mse: 0.0864 - binary_crossentropy: -33.9936\n",
      "Epoch 317/500\n",
      "100/100 [==============================] - 0s 10us/sample - loss: 0.0855 - mse: 0.0855 - binary_crossentropy: -33.9936\n",
      "Epoch 318/500\n",
      "100/100 [==============================] - 0s 20us/sample - loss: 0.0846 - mse: 0.0846 - binary_crossentropy: -33.9936\n",
      "Epoch 319/500\n",
      "100/100 [==============================] - 0s 20us/sample - loss: 0.0837 - mse: 0.0837 - binary_crossentropy: -33.9936\n",
      "Epoch 320/500\n",
      "100/100 [==============================] - 0s 10us/sample - loss: 0.0828 - mse: 0.0828 - binary_crossentropy: -33.9936\n",
      "Epoch 321/500\n",
      "100/100 [==============================] - 0s 20us/sample - loss: 0.0819 - mse: 0.0819 - binary_crossentropy: -33.9936\n",
      "Epoch 322/500\n",
      "100/100 [==============================] - 0s 20us/sample - loss: 0.0811 - mse: 0.0811 - binary_crossentropy: -33.9936\n",
      "Epoch 323/500\n",
      "100/100 [==============================] - 0s 30us/sample - loss: 0.0802 - mse: 0.0802 - binary_crossentropy: -33.9936\n",
      "Epoch 324/500\n",
      "100/100 [==============================] - 0s 20us/sample - loss: 0.0793 - mse: 0.0793 - binary_crossentropy: -33.9936\n",
      "Epoch 325/500\n",
      "100/100 [==============================] - 0s 10us/sample - loss: 0.0785 - mse: 0.0785 - binary_crossentropy: -33.9936\n",
      "Epoch 326/500\n",
      "100/100 [==============================] - 0s 20us/sample - loss: 0.0776 - mse: 0.0776 - binary_crossentropy: -33.9936\n",
      "Epoch 327/500\n",
      "100/100 [==============================] - 0s 10us/sample - loss: 0.0768 - mse: 0.0768 - binary_crossentropy: -33.9936\n",
      "Epoch 328/500\n",
      "100/100 [==============================] - 0s 20us/sample - loss: 0.0759 - mse: 0.0759 - binary_crossentropy: -33.9936\n",
      "Epoch 329/500\n",
      "100/100 [==============================] - 0s 30us/sample - loss: 0.0751 - mse: 0.0751 - binary_crossentropy: -33.9936\n",
      "Epoch 330/500\n",
      "100/100 [==============================] - 0s 10us/sample - loss: 0.0742 - mse: 0.0742 - binary_crossentropy: -33.9936\n",
      "Epoch 331/500\n",
      "100/100 [==============================] - 0s 20us/sample - loss: 0.0734 - mse: 0.0734 - binary_crossentropy: -33.9936\n",
      "Epoch 332/500\n",
      "100/100 [==============================] - 0s 20us/sample - loss: 0.0726 - mse: 0.0726 - binary_crossentropy: -33.9936\n",
      "Epoch 333/500\n",
      "100/100 [==============================] - 0s 20us/sample - loss: 0.0717 - mse: 0.0717 - binary_crossentropy: -33.9936\n",
      "Epoch 334/500\n",
      "100/100 [==============================] - 0s 10us/sample - loss: 0.0709 - mse: 0.0709 - binary_crossentropy: -33.9936\n",
      "Epoch 335/500\n",
      "100/100 [==============================] - 0s 20us/sample - loss: 0.0701 - mse: 0.0701 - binary_crossentropy: -33.9936\n",
      "Epoch 336/500\n",
      "100/100 [==============================] - 0s 10us/sample - loss: 0.0693 - mse: 0.0693 - binary_crossentropy: -33.9936\n",
      "Epoch 337/500\n",
      "100/100 [==============================] - 0s 20us/sample - loss: 0.0685 - mse: 0.0685 - binary_crossentropy: -33.9936\n",
      "Epoch 338/500\n",
      "100/100 [==============================] - 0s 20us/sample - loss: 0.0677 - mse: 0.0677 - binary_crossentropy: -33.9936\n",
      "Epoch 339/500\n",
      "100/100 [==============================] - 0s 20us/sample - loss: 0.0669 - mse: 0.0669 - binary_crossentropy: -33.9936\n",
      "Epoch 340/500\n",
      "100/100 [==============================] - 0s 20us/sample - loss: 0.0661 - mse: 0.0661 - binary_crossentropy: -33.9936\n",
      "Epoch 341/500\n",
      "100/100 [==============================] - 0s 40us/sample - loss: 0.0653 - mse: 0.0653 - binary_crossentropy: -33.9936\n",
      "Epoch 342/500\n",
      "100/100 [==============================] - 0s 20us/sample - loss: 0.0646 - mse: 0.0646 - binary_crossentropy: -33.9936\n",
      "Epoch 343/500\n",
      "100/100 [==============================] - 0s 10us/sample - loss: 0.0638 - mse: 0.0638 - binary_crossentropy: -33.9936\n",
      "Epoch 344/500\n",
      "100/100 [==============================] - 0s 20us/sample - loss: 0.0630 - mse: 0.0630 - binary_crossentropy: -33.9936\n",
      "Epoch 345/500\n",
      "100/100 [==============================] - 0s 20us/sample - loss: 0.0623 - mse: 0.0623 - binary_crossentropy: -33.9936\n",
      "Epoch 346/500\n",
      "100/100 [==============================] - 0s 20us/sample - loss: 0.0615 - mse: 0.0615 - binary_crossentropy: -33.9936\n",
      "Epoch 347/500\n",
      "100/100 [==============================] - 0s 20us/sample - loss: 0.0608 - mse: 0.0608 - binary_crossentropy: -33.9936\n",
      "Epoch 348/500\n",
      "100/100 [==============================] - 0s 20us/sample - loss: 0.0600 - mse: 0.0600 - binary_crossentropy: -33.9936\n",
      "Epoch 349/500\n",
      "100/100 [==============================] - 0s 20us/sample - loss: 0.0593 - mse: 0.0593 - binary_crossentropy: -33.9936\n",
      "Epoch 350/500\n",
      "100/100 [==============================] - 0s 20us/sample - loss: 0.0586 - mse: 0.0586 - binary_crossentropy: -33.9936\n",
      "Epoch 351/500\n",
      "100/100 [==============================] - 0s 20us/sample - loss: 0.0578 - mse: 0.0578 - binary_crossentropy: -33.9936\n",
      "Epoch 352/500\n",
      "100/100 [==============================] - 0s 30us/sample - loss: 0.0571 - mse: 0.0571 - binary_crossentropy: -33.9936\n",
      "Epoch 353/500\n",
      "100/100 [==============================] - 0s 20us/sample - loss: 0.0564 - mse: 0.0564 - binary_crossentropy: -33.9936\n",
      "Epoch 354/500\n",
      "100/100 [==============================] - 0s 20us/sample - loss: 0.0557 - mse: 0.0557 - binary_crossentropy: -33.9936\n",
      "Epoch 355/500\n",
      "100/100 [==============================] - 0s 30us/sample - loss: 0.0550 - mse: 0.0550 - binary_crossentropy: -33.9936\n",
      "Epoch 356/500\n",
      "100/100 [==============================] - 0s 10us/sample - loss: 0.0543 - mse: 0.0543 - binary_crossentropy: -33.9936\n",
      "Epoch 357/500\n",
      "100/100 [==============================] - 0s 30us/sample - loss: 0.0536 - mse: 0.0536 - binary_crossentropy: -33.9936\n",
      "Epoch 358/500\n",
      "100/100 [==============================] - 0s 30us/sample - loss: 0.0529 - mse: 0.0529 - binary_crossentropy: -33.9936\n",
      "Epoch 359/500\n",
      "100/100 [==============================] - 0s 20us/sample - loss: 0.0522 - mse: 0.0522 - binary_crossentropy: -33.9936\n",
      "Epoch 360/500\n",
      "100/100 [==============================] - 0s 10us/sample - loss: 0.0515 - mse: 0.0515 - binary_crossentropy: -33.9936\n",
      "Epoch 361/500\n",
      "100/100 [==============================] - 0s 20us/sample - loss: 0.0509 - mse: 0.0509 - binary_crossentropy: -33.9936\n",
      "Epoch 362/500\n",
      "100/100 [==============================] - 0s 20us/sample - loss: 0.0502 - mse: 0.0502 - binary_crossentropy: -33.9936\n",
      "Epoch 363/500\n",
      "100/100 [==============================] - 0s 30us/sample - loss: 0.0495 - mse: 0.0495 - binary_crossentropy: -33.9936\n",
      "Epoch 364/500\n",
      "100/100 [==============================] - 0s 30us/sample - loss: 0.0489 - mse: 0.0489 - binary_crossentropy: -33.9936\n",
      "Epoch 365/500\n",
      "100/100 [==============================] - 0s 30us/sample - loss: 0.0482 - mse: 0.0482 - binary_crossentropy: -33.9936\n",
      "Epoch 366/500\n",
      "100/100 [==============================] - 0s 10us/sample - loss: 0.0476 - mse: 0.0476 - binary_crossentropy: -33.9936\n",
      "Epoch 367/500\n",
      "100/100 [==============================] - 0s 10us/sample - loss: 0.0469 - mse: 0.0469 - binary_crossentropy: -33.9936\n"
     ]
    },
    {
     "name": "stdout",
     "output_type": "stream",
     "text": [
      "Epoch 368/500\n",
      "100/100 [==============================] - 0s 10us/sample - loss: 0.0463 - mse: 0.0463 - binary_crossentropy: -33.9936\n",
      "Epoch 369/500\n",
      "100/100 [==============================] - 0s 10us/sample - loss: 0.0457 - mse: 0.0457 - binary_crossentropy: -33.9936\n",
      "Epoch 370/500\n",
      "100/100 [==============================] - 0s 20us/sample - loss: 0.0450 - mse: 0.0450 - binary_crossentropy: -33.9936\n",
      "Epoch 371/500\n",
      "100/100 [==============================] - 0s 30us/sample - loss: 0.0444 - mse: 0.0444 - binary_crossentropy: -33.9936\n",
      "Epoch 372/500\n",
      "100/100 [==============================] - 0s 20us/sample - loss: 0.0438 - mse: 0.0438 - binary_crossentropy: -33.9936\n",
      "Epoch 373/500\n",
      "100/100 [==============================] - 0s 10us/sample - loss: 0.0432 - mse: 0.0432 - binary_crossentropy: -33.9936\n",
      "Epoch 374/500\n",
      "100/100 [==============================] - 0s 20us/sample - loss: 0.0426 - mse: 0.0426 - binary_crossentropy: -33.9936\n",
      "Epoch 375/500\n",
      "100/100 [==============================] - 0s 10us/sample - loss: 0.0420 - mse: 0.0420 - binary_crossentropy: -33.9936\n",
      "Epoch 376/500\n",
      "100/100 [==============================] - 0s 30us/sample - loss: 0.0414 - mse: 0.0414 - binary_crossentropy: -33.9936\n",
      "Epoch 377/500\n",
      "100/100 [==============================] - 0s 30us/sample - loss: 0.0408 - mse: 0.0408 - binary_crossentropy: -33.9936\n",
      "Epoch 378/500\n",
      "100/100 [==============================] - 0s 20us/sample - loss: 0.0403 - mse: 0.0403 - binary_crossentropy: -33.9936\n",
      "Epoch 379/500\n",
      "100/100 [==============================] - 0s 10us/sample - loss: 0.0397 - mse: 0.0397 - binary_crossentropy: -33.9936\n",
      "Epoch 380/500\n",
      "100/100 [==============================] - 0s 10us/sample - loss: 0.0391 - mse: 0.0391 - binary_crossentropy: -33.9936\n",
      "Epoch 381/500\n",
      "100/100 [==============================] - 0s 20us/sample - loss: 0.0386 - mse: 0.0386 - binary_crossentropy: -33.9936\n",
      "Epoch 382/500\n",
      "100/100 [==============================] - 0s 10us/sample - loss: 0.0380 - mse: 0.0380 - binary_crossentropy: -33.9936\n",
      "Epoch 383/500\n",
      "100/100 [==============================] - 0s 30us/sample - loss: 0.0374 - mse: 0.0374 - binary_crossentropy: -33.9936\n",
      "Epoch 384/500\n",
      "100/100 [==============================] - 0s 20us/sample - loss: 0.0369 - mse: 0.0369 - binary_crossentropy: -33.9936\n",
      "Epoch 385/500\n",
      "100/100 [==============================] - 0s 20us/sample - loss: 0.0364 - mse: 0.0364 - binary_crossentropy: -33.9936\n",
      "Epoch 386/500\n",
      "100/100 [==============================] - 0s 20us/sample - loss: 0.0358 - mse: 0.0358 - binary_crossentropy: -33.9936\n",
      "Epoch 387/500\n",
      "100/100 [==============================] - 0s 10us/sample - loss: 0.0353 - mse: 0.0353 - binary_crossentropy: -33.9936\n",
      "Epoch 388/500\n",
      "100/100 [==============================] - 0s 30us/sample - loss: 0.0348 - mse: 0.0348 - binary_crossentropy: -33.9936\n",
      "Epoch 389/500\n",
      "100/100 [==============================] - 0s 20us/sample - loss: 0.0342 - mse: 0.0342 - binary_crossentropy: -33.9936\n",
      "Epoch 390/500\n",
      "100/100 [==============================] - 0s 10us/sample - loss: 0.0336 - mse: 0.0336 - binary_crossentropy: -33.9936\n",
      "Epoch 391/500\n",
      "100/100 [==============================] - 0s 20us/sample - loss: 0.0329 - mse: 0.0329 - binary_crossentropy: -33.9936\n",
      "Epoch 392/500\n",
      "100/100 [==============================] - 0s 20us/sample - loss: 0.0321 - mse: 0.0321 - binary_crossentropy: -33.9936\n",
      "Epoch 393/500\n",
      "100/100 [==============================] - 0s 20us/sample - loss: 0.0314 - mse: 0.0314 - binary_crossentropy: -33.9936\n",
      "Epoch 394/500\n",
      "100/100 [==============================] - 0s 30us/sample - loss: 0.0309 - mse: 0.0309 - binary_crossentropy: -33.9936\n",
      "Epoch 395/500\n",
      "100/100 [==============================] - 0s 20us/sample - loss: 0.0303 - mse: 0.0303 - binary_crossentropy: -33.9936\n",
      "Epoch 396/500\n",
      "100/100 [==============================] - 0s 10us/sample - loss: 0.0298 - mse: 0.0298 - binary_crossentropy: -33.9936\n",
      "Epoch 397/500\n",
      "100/100 [==============================] - 0s 10us/sample - loss: 0.0291 - mse: 0.0291 - binary_crossentropy: -33.9936\n",
      "Epoch 398/500\n",
      "100/100 [==============================] - 0s 30us/sample - loss: 0.0285 - mse: 0.0285 - binary_crossentropy: -33.9936\n",
      "Epoch 399/500\n",
      "100/100 [==============================] - 0s 20us/sample - loss: 0.0279 - mse: 0.0279 - binary_crossentropy: -33.9936\n",
      "Epoch 400/500\n",
      "100/100 [==============================] - 0s 20us/sample - loss: 0.0272 - mse: 0.0272 - binary_crossentropy: -33.9936\n",
      "Epoch 401/500\n",
      "100/100 [==============================] - 0s 20us/sample - loss: 0.0266 - mse: 0.0266 - binary_crossentropy: -33.9936\n",
      "Epoch 402/500\n",
      "100/100 [==============================] - 0s 20us/sample - loss: 0.0260 - mse: 0.0260 - binary_crossentropy: -33.9936\n",
      "Epoch 403/500\n",
      "100/100 [==============================] - 0s 20us/sample - loss: 0.0255 - mse: 0.0255 - binary_crossentropy: -33.9936\n",
      "Epoch 404/500\n",
      "100/100 [==============================] - 0s 20us/sample - loss: 0.0248 - mse: 0.0248 - binary_crossentropy: -33.9936\n",
      "Epoch 405/500\n",
      "100/100 [==============================] - 0s 20us/sample - loss: 0.0242 - mse: 0.0242 - binary_crossentropy: -33.9936\n",
      "Epoch 406/500\n",
      "100/100 [==============================] - 0s 20us/sample - loss: 0.0236 - mse: 0.0236 - binary_crossentropy: -33.9936\n",
      "Epoch 407/500\n",
      "100/100 [==============================] - 0s 30us/sample - loss: 0.0231 - mse: 0.0231 - binary_crossentropy: -33.9936\n",
      "Epoch 408/500\n",
      "100/100 [==============================] - 0s 20us/sample - loss: 0.0226 - mse: 0.0226 - binary_crossentropy: -33.9936\n",
      "Epoch 409/500\n",
      "100/100 [==============================] - 0s 20us/sample - loss: 0.0220 - mse: 0.0220 - binary_crossentropy: -33.9936\n",
      "Epoch 410/500\n",
      "100/100 [==============================] - 0s 20us/sample - loss: 0.0215 - mse: 0.0215 - binary_crossentropy: -33.9936\n",
      "Epoch 411/500\n",
      "100/100 [==============================] - 0s 20us/sample - loss: 0.0209 - mse: 0.0209 - binary_crossentropy: -33.9936\n",
      "Epoch 412/500\n",
      "100/100 [==============================] - 0s 20us/sample - loss: 0.0204 - mse: 0.0204 - binary_crossentropy: -33.9936\n",
      "Epoch 413/500\n",
      "100/100 [==============================] - 0s 20us/sample - loss: 0.0199 - mse: 0.0199 - binary_crossentropy: -33.9936\n",
      "Epoch 414/500\n",
      "100/100 [==============================] - 0s 30us/sample - loss: 0.0194 - mse: 0.0194 - binary_crossentropy: -33.9936\n",
      "Epoch 415/500\n",
      "100/100 [==============================] - 0s 20us/sample - loss: 0.0188 - mse: 0.0188 - binary_crossentropy: -33.9936\n",
      "Epoch 416/500\n",
      "100/100 [==============================] - 0s 20us/sample - loss: 0.0183 - mse: 0.0183 - binary_crossentropy: -33.9936\n",
      "Epoch 417/500\n",
      "100/100 [==============================] - 0s 20us/sample - loss: 0.0178 - mse: 0.0178 - binary_crossentropy: -33.9936\n",
      "Epoch 418/500\n",
      "100/100 [==============================] - 0s 10us/sample - loss: 0.0174 - mse: 0.0174 - binary_crossentropy: -33.9936\n",
      "Epoch 419/500\n",
      "100/100 [==============================] - 0s 20us/sample - loss: 0.0169 - mse: 0.0169 - binary_crossentropy: -33.9936\n",
      "Epoch 420/500\n",
      "100/100 [==============================] - 0s 10us/sample - loss: 0.0164 - mse: 0.0164 - binary_crossentropy: -33.9936\n",
      "Epoch 421/500\n",
      "100/100 [==============================] - 0s 10us/sample - loss: 0.0160 - mse: 0.0160 - binary_crossentropy: -33.9936\n",
      "Epoch 422/500\n",
      "100/100 [==============================] - 0s 10us/sample - loss: 0.0155 - mse: 0.0155 - binary_crossentropy: -33.9936\n",
      "Epoch 423/500\n",
      "100/100 [==============================] - 0s 20us/sample - loss: 0.0151 - mse: 0.0151 - binary_crossentropy: -33.9936\n",
      "Epoch 424/500\n",
      "100/100 [==============================] - 0s 20us/sample - loss: 0.0146 - mse: 0.0146 - binary_crossentropy: -33.9936\n",
      "Epoch 425/500\n",
      "100/100 [==============================] - 0s 40us/sample - loss: 0.0142 - mse: 0.0142 - binary_crossentropy: -33.9936\n",
      "Epoch 426/500\n",
      "100/100 [==============================] - 0s 10us/sample - loss: 0.0138 - mse: 0.0138 - binary_crossentropy: -33.9936\n",
      "Epoch 427/500\n",
      "100/100 [==============================] - 0s 30us/sample - loss: 0.0134 - mse: 0.0134 - binary_crossentropy: -33.9936\n",
      "Epoch 428/500\n",
      "100/100 [==============================] - 0s 30us/sample - loss: 0.0130 - mse: 0.0130 - binary_crossentropy: -33.9936\n",
      "Epoch 429/500\n",
      "100/100 [==============================] - 0s 20us/sample - loss: 0.0126 - mse: 0.0126 - binary_crossentropy: -33.9936\n"
     ]
    },
    {
     "name": "stdout",
     "output_type": "stream",
     "text": [
      "Epoch 430/500\n",
      "100/100 [==============================] - 0s 20us/sample - loss: 0.0122 - mse: 0.0122 - binary_crossentropy: -33.9936\n",
      "Epoch 431/500\n",
      "100/100 [==============================] - 0s 20us/sample - loss: 0.0118 - mse: 0.0118 - binary_crossentropy: -33.9936\n",
      "Epoch 432/500\n",
      "100/100 [==============================] - 0s 20us/sample - loss: 0.0114 - mse: 0.0114 - binary_crossentropy: -33.9936\n",
      "Epoch 433/500\n",
      "100/100 [==============================] - 0s 40us/sample - loss: 0.0111 - mse: 0.0111 - binary_crossentropy: -33.9936\n",
      "Epoch 434/500\n",
      "100/100 [==============================] - 0s 30us/sample - loss: 0.0107 - mse: 0.0107 - binary_crossentropy: -33.9936\n",
      "Epoch 435/500\n",
      "100/100 [==============================] - 0s 20us/sample - loss: 0.0104 - mse: 0.0104 - binary_crossentropy: -33.9936\n",
      "Epoch 436/500\n",
      "100/100 [==============================] - 0s 20us/sample - loss: 0.0100 - mse: 0.0100 - binary_crossentropy: -33.9936\n",
      "Epoch 437/500\n",
      "100/100 [==============================] - 0s 20us/sample - loss: 0.0097 - mse: 0.0097 - binary_crossentropy: -33.9936\n",
      "Epoch 438/500\n",
      "100/100 [==============================] - 0s 20us/sample - loss: 0.0094 - mse: 0.0094 - binary_crossentropy: -33.9936\n",
      "Epoch 439/500\n",
      "100/100 [==============================] - 0s 20us/sample - loss: 0.0091 - mse: 0.0091 - binary_crossentropy: -33.9936\n",
      "Epoch 440/500\n",
      "100/100 [==============================] - 0s 20us/sample - loss: 0.0088 - mse: 0.0088 - binary_crossentropy: -33.9936\n",
      "Epoch 441/500\n",
      "100/100 [==============================] - 0s 20us/sample - loss: 0.0085 - mse: 0.0085 - binary_crossentropy: -33.9936\n",
      "Epoch 442/500\n",
      "100/100 [==============================] - 0s 20us/sample - loss: 0.0082 - mse: 0.0082 - binary_crossentropy: -33.9936\n",
      "Epoch 443/500\n",
      "100/100 [==============================] - 0s 20us/sample - loss: 0.0079 - mse: 0.0079 - binary_crossentropy: -33.9936\n",
      "Epoch 444/500\n",
      "100/100 [==============================] - 0s 10us/sample - loss: 0.0076 - mse: 0.0076 - binary_crossentropy: -33.9936\n",
      "Epoch 445/500\n",
      "100/100 [==============================] - 0s 80us/sample - loss: 0.0073 - mse: 0.0073 - binary_crossentropy: -33.9936\n",
      "Epoch 446/500\n",
      "100/100 [==============================] - 0s 20us/sample - loss: 0.0071 - mse: 0.0071 - binary_crossentropy: -33.9936\n",
      "Epoch 447/500\n",
      "100/100 [==============================] - 0s 20us/sample - loss: 0.0068 - mse: 0.0068 - binary_crossentropy: -33.9936\n",
      "Epoch 448/500\n",
      "100/100 [==============================] - 0s 20us/sample - loss: 0.0066 - mse: 0.0066 - binary_crossentropy: -33.9936\n",
      "Epoch 449/500\n",
      "100/100 [==============================] - 0s 20us/sample - loss: 0.0063 - mse: 0.0063 - binary_crossentropy: -33.9936\n",
      "Epoch 450/500\n",
      "100/100 [==============================] - 0s 20us/sample - loss: 0.0061 - mse: 0.0061 - binary_crossentropy: -33.9936\n",
      "Epoch 451/500\n",
      "100/100 [==============================] - 0s 40us/sample - loss: 0.0059 - mse: 0.0059 - binary_crossentropy: -33.9936\n",
      "Epoch 452/500\n",
      "100/100 [==============================] - 0s 20us/sample - loss: 0.0056 - mse: 0.0056 - binary_crossentropy: -33.9936\n",
      "Epoch 453/500\n",
      "100/100 [==============================] - 0s 20us/sample - loss: 0.0054 - mse: 0.0054 - binary_crossentropy: -33.9936\n",
      "Epoch 454/500\n",
      "100/100 [==============================] - 0s 30us/sample - loss: 0.0052 - mse: 0.0052 - binary_crossentropy: -33.9936\n",
      "Epoch 455/500\n",
      "100/100 [==============================] - 0s 20us/sample - loss: 0.0049 - mse: 0.0049 - binary_crossentropy: -33.9936\n",
      "Epoch 456/500\n",
      "100/100 [==============================] - 0s 20us/sample - loss: 0.0047 - mse: 0.0047 - binary_crossentropy: -33.9936\n",
      "Epoch 457/500\n",
      "100/100 [==============================] - 0s 30us/sample - loss: 0.0045 - mse: 0.0045 - binary_crossentropy: -33.9936\n",
      "Epoch 458/500\n",
      "100/100 [==============================] - 0s 20us/sample - loss: 0.0043 - mse: 0.0043 - binary_crossentropy: -33.9936\n",
      "Epoch 459/500\n",
      "100/100 [==============================] - 0s 30us/sample - loss: 0.0041 - mse: 0.0041 - binary_crossentropy: -33.9936\n",
      "Epoch 460/500\n",
      "100/100 [==============================] - 0s 20us/sample - loss: 0.0040 - mse: 0.0040 - binary_crossentropy: -33.9936\n",
      "Epoch 461/500\n",
      "100/100 [==============================] - 0s 10us/sample - loss: 0.0038 - mse: 0.0038 - binary_crossentropy: -33.9936\n",
      "Epoch 462/500\n",
      "100/100 [==============================] - 0s 20us/sample - loss: 0.0036 - mse: 0.0036 - binary_crossentropy: -33.9936\n",
      "Epoch 463/500\n",
      "100/100 [==============================] - 0s 10us/sample - loss: 0.0034 - mse: 0.0034 - binary_crossentropy: -33.9936\n",
      "Epoch 464/500\n",
      "100/100 [==============================] - 0s 20us/sample - loss: 0.0032 - mse: 0.0032 - binary_crossentropy: -33.9936\n",
      "Epoch 465/500\n",
      "100/100 [==============================] - 0s 10us/sample - loss: 0.0031 - mse: 0.0031 - binary_crossentropy: -33.9936\n",
      "Epoch 466/500\n",
      "100/100 [==============================] - 0s 20us/sample - loss: 0.0029 - mse: 0.0029 - binary_crossentropy: -33.9936\n",
      "Epoch 467/500\n",
      "100/100 [==============================] - 0s 20us/sample - loss: 0.0028 - mse: 0.0028 - binary_crossentropy: -33.9936\n",
      "Epoch 468/500\n",
      "100/100 [==============================] - 0s 10us/sample - loss: 0.0026 - mse: 0.0026 - binary_crossentropy: -33.9936\n",
      "Epoch 469/500\n",
      "100/100 [==============================] - 0s 20us/sample - loss: 0.0025 - mse: 0.0025 - binary_crossentropy: -33.9936\n",
      "Epoch 470/500\n",
      "100/100 [==============================] - 0s 40us/sample - loss: 0.0024 - mse: 0.0024 - binary_crossentropy: -33.9936\n",
      "Epoch 471/500\n",
      "100/100 [==============================] - 0s 10us/sample - loss: 0.0022 - mse: 0.0022 - binary_crossentropy: -33.9936\n",
      "Epoch 472/500\n",
      "100/100 [==============================] - 0s 30us/sample - loss: 0.0021 - mse: 0.0021 - binary_crossentropy: -33.9936\n",
      "Epoch 473/500\n",
      "100/100 [==============================] - 0s 10us/sample - loss: 0.0020 - mse: 0.0020 - binary_crossentropy: -33.9936\n",
      "Epoch 474/500\n",
      "100/100 [==============================] - 0s 40us/sample - loss: 0.0019 - mse: 0.0019 - binary_crossentropy: -33.9936\n",
      "Epoch 475/500\n",
      "100/100 [==============================] - 0s 30us/sample - loss: 0.0018 - mse: 0.0018 - binary_crossentropy: -33.9936\n",
      "Epoch 476/500\n",
      "100/100 [==============================] - 0s 40us/sample - loss: 0.0017 - mse: 0.0017 - binary_crossentropy: -33.9936\n",
      "Epoch 477/500\n",
      "100/100 [==============================] - 0s 10us/sample - loss: 0.0016 - mse: 0.0016 - binary_crossentropy: -33.9936\n",
      "Epoch 478/500\n",
      "100/100 [==============================] - 0s 20us/sample - loss: 0.0015 - mse: 0.0015 - binary_crossentropy: -33.9936\n",
      "Epoch 479/500\n",
      "100/100 [==============================] - 0s 20us/sample - loss: 0.0014 - mse: 0.0014 - binary_crossentropy: -33.9936\n",
      "Epoch 480/500\n",
      "100/100 [==============================] - 0s 20us/sample - loss: 0.0013 - mse: 0.0013 - binary_crossentropy: -33.9936\n",
      "Epoch 481/500\n",
      "100/100 [==============================] - 0s 20us/sample - loss: 0.0012 - mse: 0.0012 - binary_crossentropy: -33.9936\n",
      "Epoch 482/500\n",
      "100/100 [==============================] - 0s 20us/sample - loss: 0.0012 - mse: 0.0012 - binary_crossentropy: -33.9936\n",
      "Epoch 483/500\n",
      "100/100 [==============================] - 0s 20us/sample - loss: 0.0011 - mse: 0.0011 - binary_crossentropy: -33.9936\n",
      "Epoch 484/500\n",
      "100/100 [==============================] - 0s 20us/sample - loss: 0.0010 - mse: 0.0010 - binary_crossentropy: -33.9936\n",
      "Epoch 485/500\n",
      "100/100 [==============================] - 0s 20us/sample - loss: 9.5513e-04 - mse: 9.5513e-04 - binary_crossentropy: -33.9936\n",
      "Epoch 486/500\n",
      "100/100 [==============================] - 0s 50us/sample - loss: 8.9804e-04 - mse: 8.9804e-04 - binary_crossentropy: -33.9936\n",
      "Epoch 487/500\n",
      "100/100 [==============================] - 0s 30us/sample - loss: 8.4426e-04 - mse: 8.4426e-04 - binary_crossentropy: -33.9936\n",
      "Epoch 488/500\n",
      "100/100 [==============================] - 0s 50us/sample - loss: 7.9379e-04 - mse: 7.9379e-04 - binary_crossentropy: -33.9936\n",
      "Epoch 489/500\n",
      "100/100 [==============================] - 0s 30us/sample - loss: 7.4695e-04 - mse: 7.4695e-04 - binary_crossentropy: -33.9936\n",
      "Epoch 490/500\n",
      "100/100 [==============================] - 0s 20us/sample - loss: 7.0385e-04 - mse: 7.0385e-04 - binary_crossentropy: -33.9936\n",
      "Epoch 491/500\n",
      "100/100 [==============================] - 0s 20us/sample - loss: 6.6435e-04 - mse: 6.6435e-04 - binary_crossentropy: -33.9936\n"
     ]
    },
    {
     "name": "stdout",
     "output_type": "stream",
     "text": [
      "Epoch 492/500\n",
      "100/100 [==============================] - 0s 30us/sample - loss: 6.2807e-04 - mse: 6.2807e-04 - binary_crossentropy: -33.9936\n",
      "Epoch 493/500\n",
      "100/100 [==============================] - 0s 20us/sample - loss: 5.9459e-04 - mse: 5.9459e-04 - binary_crossentropy: -33.9936\n",
      "Epoch 494/500\n",
      "100/100 [==============================] - 0s 20us/sample - loss: 5.6363e-04 - mse: 5.6363e-04 - binary_crossentropy: -33.9936\n",
      "Epoch 495/500\n",
      "100/100 [==============================] - 0s 30us/sample - loss: 5.3448e-04 - mse: 5.3448e-04 - binary_crossentropy: -33.9936\n",
      "Epoch 496/500\n",
      "100/100 [==============================] - 0s 60us/sample - loss: 5.0548e-04 - mse: 5.0548e-04 - binary_crossentropy: -33.9936\n",
      "Epoch 497/500\n",
      "100/100 [==============================] - 0s 20us/sample - loss: 4.7706e-04 - mse: 4.7706e-04 - binary_crossentropy: -33.9936\n",
      "Epoch 498/500\n",
      "100/100 [==============================] - 0s 50us/sample - loss: 4.6097e-04 - mse: 4.6097e-04 - binary_crossentropy: -33.9936\n",
      "Epoch 499/500\n",
      "100/100 [==============================] - 0s 50us/sample - loss: 4.3943e-04 - mse: 4.3943e-04 - binary_crossentropy: -33.9936\n",
      "Epoch 500/500\n",
      "100/100 [==============================] - 0s 70us/sample - loss: 4.1574e-04 - mse: 4.1574e-04 - binary_crossentropy: -33.9936\n"
     ]
    },
    {
     "data": {
      "text/plain": [
       "<matplotlib.legend.Legend at 0x194f5d9a908>"
      ]
     },
     "execution_count": 11,
     "metadata": {},
     "output_type": "execute_result"
    },
    {
     "data": {
      "image/png": "[encoded data removed]",
      "text/plain": [
       "<Figure size 432x288 with 1 Axes>"
      ]
     },
     "metadata": {
      "needs_background": "light"
     },
     "output_type": "display_data"
    }
   ],
   "source": [
    "import numpy as np\n",
    "import pandas as pd\n",
    "import tensorflow as tf\n",
    "import matplotlib.pyplot as plt\n",
    "from tensorflow import keras\n",
    "\n",
    "# 임의의 데이터 x, y를 선언합니다.\n",
    "x = np.random.rand(100,1)\n",
    "y = 5 * x + 3 * np.random.rand(1)\n",
    "\n",
    "# Keras는 Sequential하게 모델을 선언합니다.\n",
    "# Sequential.add 방법으로 모델을 만들 수도 있고\n",
    "# 아래와 같이 Sequential의 내부 인자로 Layer를 쌓을 수도 있습니다.\n",
    "model = keras.Sequential([\n",
    "    # `.summary` 메서드 때문에 `input_shape`가 필요합니다\n",
    "    # 첫 번째 Layer에 데이터를 넣을때는 input_shape을 맞춰줘야합니다.\n",
    "    keras.layers.Dense(32, activation=tf.nn.relu, input_shape = (1, )),\n",
    "    keras.layers.Dense(32, activation=tf.nn.relu),\n",
    "    keras.layers.Dense(1)\n",
    "])\n",
    "\n",
    "# 모델을 학습시킬 최적화 방법, loss 계산 방법, 평가 방법을 설정합니다.\n",
    "model.compile(optimizer='adam',loss='mse',metrics=['mse', 'binary_crossentropy'])\n",
    "# 모델이 어떻게 이루어져있는지 출력합니다.\n",
    "model.summary()\n",
    "# 모델을 학습시킵니다\n",
    "history = model.fit(x,y, epochs = 500, batch_size = 100)\n",
    "\n",
    "# 결과 출력\n",
    "plt.scatter(x, y, label='y_true')\n",
    "plt.scatter(x, model.predict(x), label='y_pred')\n",
    "plt.legend()"
   ]
  }
 ],
 "metadata": {
  "kernelspec": {
   "display_name": "Python 3",
   "language": "python",
   "name": "python3"
  },
  "language_info": {
   "codemirror_mode": {
    "name": "ipython",
    "version": 3
   },
   "file_extension": ".py",
   "mimetype": "text/x-python",
   "name": "python",
   "nbconvert_exporter": "python",
   "pygments_lexer": "ipython3",
   "version": "3.6.9"
  },
  "toc": {
   "base_numbering": 1,
   "nav_menu": {},
   "number_sections": false,
   "sideBar": true,
   "skip_h1_title": false,
   "title_cell": "Table of Contents",
   "title_sidebar": "Contents",
   "toc_cell": false,
   "toc_position": {
    "height": "calc(100% - 180px)",
    "left": "10px",
    "top": "150px",
    "width": "260.797px"
   },
   "toc_section_display": true,
   "toc_window_display": true
  },
  "varInspector": {
   "cols": {
    "lenName": 16,
    "lenType": 16,
    "lenVar": 40
   },
   "kernels_config": {
    "python": {
     "delete_cmd_postfix": "",
     "delete_cmd_prefix": "del ",
     "library": "var_list.py",
     "varRefreshCmd": "print(var_dic_list())"
    },
    "r": {
     "delete_cmd_postfix": ") ",
     "delete_cmd_prefix": "rm(",
     "library": "var_list.r",
     "varRefreshCmd": "cat(var_dic_list()) "
    }
   },
   "types_to_exclude": [
    "module",
    "function",
    "builtin_function_or_method",
    "instance",
    "_Feature"
   ],
   "window_display": false
  }
 },
 "nbformat": 4,
 "nbformat_minor": 4
}
