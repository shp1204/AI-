{
  "nbformat": 4,
  "nbformat_minor": 0,
  "metadata": {
    "kernelspec": {
      "display_name": "Python 3",
      "language": "python",
      "name": "python3"
    },
    "language_info": {
      "codemirror_mode": {
        "name": "ipython",
        "version": 3
      },
      "file_extension": ".py",
      "mimetype": "text/x-python",
      "name": "python",
      "nbconvert_exporter": "python",
      "pygments_lexer": "ipython3",
      "version": "3.7.3"
    },
    "colab": {
      "name": "B04_VGG16심화합성곱 신경망 구현.ipynb",
      "provenance": [],
      "collapsed_sections": [],
      "toc_visible": true
    },
    "accelerator": "GPU"
  },
  "cells": [
    {
      "cell_type": "markdown",
      "metadata": {
        "id": "HBLDmsyWgytf",
        "colab_type": "text"
      },
      "source": [
        "## VGG-16 모델로 합성곱 신경망 구현 하기\n",
        "\n",
        "- 심화버젼"
      ]
    },
    {
      "cell_type": "markdown",
      "metadata": {
        "id": "2GaJUiEYyMbR",
        "colab_type": "text"
      },
      "source": [
        "VGG-16 은 옥스포드 대학 연구팀에 의해 개발된 모델(VGGNet)로 2014년 이미지넷 이미지 인식대회(ILSVRC)에서 준우승을 했다. \n",
        "\n",
        "이전 모델은 대부분 얕은 층으로 구성된 네트워크를 사용했다면 VGG-16 이후로 층수가 높아지고 있다. 우승을 한 GoogleNet 보다 VGG-16 이 인기가 있는 이유는 간편함 때문이다. \n",
        "\n",
        "학습과 속도 관계로 VGG-16 모델을 줄여서 MNIST 학습을 진행해 본다."
      ]
    },
    {
      "cell_type": "markdown",
      "metadata": {
        "id": "OH7-0lbD0XQ0",
        "colab_type": "text"
      },
      "source": [
        "Colab 의 [런타임] - [런타임 유형 변경] 을 클릭해서 [GPU]를 사용하도록 설정한다. 학습속도가 빨라진다.\n",
        "\n",
        "Keras 의 모델 서브클래싱 API 를 이용한다."
      ]
    },
    {
      "cell_type": "code",
      "metadata": {
        "id": "Q2e6tR8Ygytg",
        "colab_type": "code",
        "colab": {}
      },
      "source": [
        "import tensorflow as tf\n",
        "import numpy as np\n",
        "\n",
        "from tensorflow.keras import Model\n",
        "from tensorflow.keras.layers import Dense, Flatten, Conv2D, MaxPooling2D\n"
      ],
      "execution_count": null,
      "outputs": []
    },
    {
      "cell_type": "markdown",
      "metadata": {
        "id": "uo2usiijnepc",
        "colab_type": "text"
      },
      "source": [
        "# 데이터셋 준비 : MNIST"
      ]
    },
    {
      "cell_type": "markdown",
      "metadata": {
        "id": "WPSlNtIV0Jz2",
        "colab_type": "text"
      },
      "source": [
        "MNIST 를 가져온다. tensorflow 에서 기본으로 제공하는 데이터셋이므로 mnist.load_data() 를 사용한다."
      ]
    },
    {
      "cell_type": "code",
      "metadata": {
        "id": "XcpCTTuWgytr",
        "colab_type": "code",
        "colab": {}
      },
      "source": [
        "# TODO\n",
        "\n",
        "\n",
        "\n"
      ],
      "execution_count": null,
      "outputs": []
    },
    {
      "cell_type": "markdown",
      "metadata": {
        "id": "e0HUo40B0tXy",
        "colab_type": "text"
      },
      "source": [
        "Convolution Layer 를 사용해야 하므로 28x28 짜리 행렬이 아닌 채널이 추가된 텐서로 수정한다. 이번에는 tf.newaxis 를 사용한다. reshape() 을 사용해도 상관없다.\n"
      ]
    },
    {
      "cell_type": "code",
      "metadata": {
        "id": "ZMD_7yN4oeif",
        "colab_type": "code",
        "colab": {}
      },
      "source": [
        "# TODO\n",
        "\n",
        "\n"
      ],
      "execution_count": null,
      "outputs": []
    },
    {
      "cell_type": "code",
      "metadata": {
        "id": "NdzPBNDHosC1",
        "colab_type": "code",
        "colab": {
          "base_uri": "https://localhost:8080/",
          "height": 35
        },
        "outputId": "e0c2dbb3-7ad5-4007-daed-8d65c429b814"
      },
      "source": [
        "x_train.shape, x_test.shape"
      ],
      "execution_count": null,
      "outputs": [
        {
          "output_type": "execute_result",
          "data": {
            "text/plain": [
              "((60000, 28, 28, 1), (10000, 28, 28, 1))"
            ]
          },
          "metadata": {
            "tags": []
          },
          "execution_count": 84
        }
      ]
    },
    {
      "cell_type": "markdown",
      "metadata": {
        "id": "60RixlJ96pDA",
        "colab_type": "text"
      },
      "source": [
        "shuffle() 을 사용해서 데이터셋을 섞은 후 배치를 만든다."
      ]
    },
    {
      "cell_type": "code",
      "metadata": {
        "id": "xXyHa9wB6oiD",
        "colab_type": "code",
        "colab": {}
      },
      "source": [
        "# TODO\n",
        "\n",
        "\n"
      ],
      "execution_count": null,
      "outputs": []
    },
    {
      "cell_type": "markdown",
      "metadata": {
        "id": "gOQ6DJLmpaBu",
        "colab_type": "text"
      },
      "source": [
        "# VGG-16 의 합성곱 층(Convolution Layer) 만들기"
      ]
    },
    {
      "cell_type": "markdown",
      "metadata": {
        "id": "0zbY6BEQ1ISN",
        "colab_type": "text"
      },
      "source": [
        "Keras 의 subclassing API 를 사용하여 tf.keras 모델을 만든다.\n",
        "\n",
        "Conv2D 와 MaxPooling2D 를 사용해서 합성층곱을 정의한다. \n",
        "\n",
        "CNN 은 배치크기를 제외하고 이미지의 높이, 너비, 채널 크기를 텐서입력으로 받는다. MNIST 는 흑백이므로 (28,28,1) 크기의 CNN 을 정의해서 사용한다. "
      ]
    },
    {
      "cell_type": "code",
      "metadata": {
        "id": "W4wjFyUr7kVT",
        "colab_type": "code",
        "colab": {}
      },
      "source": [
        "class MyModel(Model):\n",
        "  def __init__(self):\n",
        "    super(MyModel, self).__init__()\n",
        "    # TODO\n",
        "\n",
        "\n",
        "\n",
        "\n",
        "\n",
        "  def call(self, x):\n",
        "    # TODO\n",
        "\n",
        "\n",
        "    return x\n",
        "\n",
        "model = MyModel()"
      ],
      "execution_count": null,
      "outputs": []
    },
    {
      "cell_type": "markdown",
      "metadata": {
        "id": "UHfhxX_S2vK6",
        "colab_type": "text"
      },
      "source": [
        "Conv2D 와 MaxPooling2D 출력은 (높이, 너비, 채널)의 텐서다. Conv2D 를 써서 채널을 늘리고, MaxPooling2D 를 써서 높이와 너비를 줄인다. 계산비용면에서 출력 채널을 늘리기 위해서는 높이와 너비를 줄여야한다."
      ]
    },
    {
      "cell_type": "markdown",
      "metadata": {
        "id": "oqNGwtb290NP",
        "colab_type": "text"
      },
      "source": [
        "옵티마이저와 손실함수"
      ]
    },
    {
      "cell_type": "code",
      "metadata": {
        "id": "O8TjJ4J37mAi",
        "colab_type": "code",
        "colab": {}
      },
      "source": [
        "loss_object = tf.keras.losses.SparseCategoricalCrossentropy()\n",
        "optimizer = tf.keras.optimizers.Adam()\n"
      ],
      "execution_count": null,
      "outputs": []
    },
    {
      "cell_type": "markdown",
      "metadata": {
        "id": "1aJORfU1-HdI",
        "colab_type": "text"
      },
      "source": [
        "손실과 성능 측정 지표 선택"
      ]
    },
    {
      "cell_type": "code",
      "metadata": {
        "id": "zQ0dia_B7mOa",
        "colab_type": "code",
        "colab": {}
      },
      "source": [
        "train_loss = tf.keras.metrics.Mean(name='train_loss')\n",
        "train_accuracy = tf.keras.metrics.SparseCategoricalAccuracy(name='train_accuracy')\n",
        "\n",
        "test_loss = tf.keras.metrics.Mean(name='test_loss')\n",
        "test_accuracy = tf.keras.metrics.SparseCategoricalAccuracy(name='test_accuracy')\n"
      ],
      "execution_count": null,
      "outputs": []
    },
    {
      "cell_type": "markdown",
      "metadata": {
        "id": "GUe20O2u-oKT",
        "colab_type": "text"
      },
      "source": [
        "tf.GradientTape 으로 모델 훈련"
      ]
    },
    {
      "cell_type": "code",
      "metadata": {
        "id": "p2GVNVJT7mTB",
        "colab_type": "code",
        "colab": {}
      },
      "source": [
        "@tf.function\n",
        "def train_step(images, labels):\n",
        "  with tf.GradientTape() as tape:\n",
        "    predictions = model(images)\n",
        "    loss = loss_object(labels, predictions)\n",
        "  gradients = tape.gradient(loss, model.trainable_variables)\n",
        "  optimizer.apply_gradients(zip(gradients, model.trainable_variables))\n",
        "\n",
        "  train_loss(loss)\n",
        "  train_accuracy(labels, predictions)"
      ],
      "execution_count": null,
      "outputs": []
    },
    {
      "cell_type": "code",
      "metadata": {
        "id": "QQ9RNsT_7mXx",
        "colab_type": "code",
        "colab": {}
      },
      "source": [
        "@tf.function\n",
        "def test_step(images, labels):\n",
        "  predictions = model(images)\n",
        "  t_loss = loss_object(labels, predictions)\n",
        "\n",
        "  test_loss(t_loss)\n",
        "  test_accuracy(labels, predictions)"
      ],
      "execution_count": null,
      "outputs": []
    },
    {
      "cell_type": "code",
      "metadata": {
        "id": "8Nr0y7S_olYR",
        "colab_type": "code",
        "colab": {
          "base_uri": "https://localhost:8080/",
          "height": 129
        },
        "outputId": "ae24fdc8-4bcc-467e-959a-5383152298a7"
      },
      "source": [
        "EPOCHS = 5\n",
        "\n",
        "for epoch in range(EPOCHS):\n",
        "  for images, labels in train_ds:\n",
        "    train_step(images, labels)\n",
        "\n",
        "  for test_images, test_labels in test_ds:\n",
        "    test_step(test_images, test_labels)\n",
        "\n",
        "  template = '에포크: {}, 손실: {}, 정확도: {}, 테스트 손실: {}, 테스트 정확도: {}'\n",
        "  print (template.format(epoch+1,\n",
        "                         train_loss.result(),\n",
        "                         train_accuracy.result()*100,\n",
        "                         test_loss.result(),\n",
        "                         test_accuracy.result()*100))"
      ],
      "execution_count": null,
      "outputs": [
        {
          "output_type": "stream",
          "text": [
            "에포크: 1, 손실: 0.1363498419523239, 정확도: 95.7316665649414, 테스트 손실: 0.06965141743421555, 테스트 정확도: 97.70999908447266\n",
            "에포크: 2, 손실: 0.08989054709672928, 정확도: 97.17582702636719, 테스트 손실: 0.051520440727472305, 테스트 정확도: 98.29000091552734\n",
            "에포크: 3, 손실: 0.0708622857928276, 정확도: 97.77667236328125, 테스트 손실: 0.04616954177618027, 테스트 정확도: 98.48999786376953\n",
            "에포크: 4, 손실: 0.05919172242283821, 정확도: 98.14250183105469, 테스트 손실: 0.04268050193786621, 테스트 정확도: 98.61000061035156\n",
            "에포크: 5, 손실: 0.051203809678554535, 정확도: 98.39067077636719, 테스트 손실: 0.039049182087183, 테스트 정확도: 98.73200225830078\n"
          ],
          "name": "stdout"
        }
      ]
    },
    {
      "cell_type": "markdown",
      "metadata": {
        "id": "gJYDWWc4gytj",
        "colab_type": "text"
      },
      "source": [
        "# 전체 연결 Dense Layer"
      ]
    },
    {
      "cell_type": "markdown",
      "metadata": {
        "id": "r6VOnAEr2poQ",
        "colab_type": "text"
      },
      "source": [
        "모델의 마지막은 Convolution Layer 의 출력 텐서를 2개의 전연결층(Dense)에 연결하고 분류를 진행한다. \n",
        "\n",
        "우선 Flatten() 을 사용해서 텐서를 벡터로 변환한다. 그 후 2개의 Dense() 층을 연결한다. 마지막은 softmax 를 사용해서 10개의 분류에 할당되도록 한다."
      ]
    },
    {
      "cell_type": "markdown",
      "metadata": {
        "id": "DQ1RIC-s4Zk7",
        "colab_type": "text"
      },
      "source": [
        "7x7x64 텐서가 3136 벤터로 Flatten 되었다."
      ]
    },
    {
      "cell_type": "markdown",
      "metadata": {
        "id": "FTLf58QTgytm",
        "colab_type": "text"
      },
      "source": [
        "# 모델 컴파일"
      ]
    },
    {
      "cell_type": "markdown",
      "metadata": {
        "id": "zwMynsY44qcE",
        "colab_type": "text"
      },
      "source": [
        "가장 보편적인 'adam' 과 크로스엔트로피, accuracy 를 사용해서 모델을 컴파일한다."
      ]
    },
    {
      "cell_type": "markdown",
      "metadata": {
        "id": "S2kyE-N-gyto",
        "colab_type": "text"
      },
      "source": [
        "# 훈련"
      ]
    },
    {
      "cell_type": "markdown",
      "metadata": {
        "id": "a78QLWdbv-6i",
        "colab_type": "text"
      },
      "source": [
        "# 평가"
      ]
    },
    {
      "cell_type": "markdown",
      "metadata": {
        "id": "iEKb4rk745Pt",
        "colab_type": "text"
      },
      "source": [
        "간단한 CNN 모델로 99%의 정확도를 얻었다."
      ]
    },
    {
      "cell_type": "code",
      "metadata": {
        "id": "CwRyaBj-kU0z",
        "colab_type": "code",
        "colab": {}
      },
      "source": [
        ""
      ],
      "execution_count": null,
      "outputs": []
    }
  ]
}