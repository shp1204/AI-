{
 "cells": [
  {
   "cell_type": "markdown",
   "metadata": {},
   "source": [
    "# 4. K-Nearest Neighbor (KNN)"
   ]
  },
  {
   "cell_type": "markdown",
   "metadata": {},
   "source": [
    "---"
   ]
  },
  {
   "cell_type": "markdown",
   "metadata": {},
   "source": [
    "## 학습 목표\n",
    "- KNN을 이해하고, 붓꽃(iris) 내장데이터와 diabetes 외부데이터를 사용하여 실습해본다. \n",
    "- 시각화를 함으로써 k에 따라 정확도가 어떻게 달라지는지 확인한다."
   ]
  },
  {
   "cell_type": "markdown",
   "metadata": {},
   "source": [
    "---"
   ]
  },
  {
   "cell_type": "markdown",
   "metadata": {},
   "source": [
    "## 목차\n",
    "\n",
    "### 4.1.K-Nearest Neighbor - data: Iris\n",
    "1. 데이터 로드\n",
    "2. 모델 정의\n",
    "3. 모델 학습\n",
    "4. 결과 예측\n",
    "5. 결과 평가\n",
    "6. 모델 분석\n",
    "\n",
    "### 4.2. K-Nearest Neighbor - data: breast cancer \n",
    "\n",
    "> **직접 실습해보세요!**\n",
    "\n",
    "1. 데이터 로드\n",
    "2. 모델 정의\n",
    "3. 모델 학습 (with Train data)\n",
    "4. 결과 예측 (with Test data)\n",
    "5. 결과 평가"
   ]
  },
  {
   "cell_type": "markdown",
   "metadata": {},
   "source": [
    "---"
   ]
  },
  {
   "cell_type": "markdown",
   "metadata": {},
   "source": [
    "## 4.1  K-Nearest Neighbor - data: Iris\n",
    "\n",
    "> Scikit-Learn을 사용하여 최근접 이웃(KNN)을 실습해봅니다.\n",
    "- Data: sklearn에 내장된 붓꽃 데이터\n",
    "- Task: 붓꽃의 종류를 분류(예측)\n",
    "- KNN은 Sklearn의 neighbors 패키지에 있는 KNeighborsClassifier 메서드를 사용가능합니다."
   ]
  },
  {
   "cell_type": "markdown",
   "metadata": {},
   "source": [
    "### 4-1-1. 데이터 로드"
   ]
  },
  {
   "cell_type": "markdown",
   "metadata": {},
   "source": [
    "load_iris()로 데이터를 로드합니다."
   ]
  },
  {
   "cell_type": "code",
   "execution_count": 1,
   "metadata": {},
   "outputs": [],
   "source": [
    "from sklearn.datasets import load_iris\n",
    "\n",
    "data = load_iris()\n",
    "\n",
    "x = data.data\n",
    "y = data.target"
   ]
  },
  {
   "cell_type": "markdown",
   "metadata": {},
   "source": [
    "sklearn에서 제공하는 train_test_split을 사용하여 데이터를 분리합니다."
   ]
  },
  {
   "cell_type": "code",
   "execution_count": 2,
   "metadata": {},
   "outputs": [],
   "source": [
    "from sklearn.model_selection import train_test_split\n",
    "\n",
    "\n",
    "x_train, x_test, y_train, y_test = train_test_split(x, y, test_size=0.2, random_state=0)"
   ]
  },
  {
   "cell_type": "markdown",
   "metadata": {},
   "source": [
    "### 4-1-2. 모델 정의"
   ]
  },
  {
   "cell_type": "markdown",
   "metadata": {},
   "source": [
    "Scikit-Learn에 구현된 KNeighborsClassifier 함수를 정의합니다."
   ]
  },
  {
   "cell_type": "code",
   "execution_count": 4,
   "metadata": {},
   "outputs": [],
   "source": [
    "from sklearn.neighbors import KNeighborsClassifier\n",
    "\n",
    "knn = KNeighborsClassifier(n_neighbors=5)"
   ]
  },
  {
   "cell_type": "markdown",
   "metadata": {},
   "source": [
    " "
   ]
  },
  {
   "cell_type": "markdown",
   "metadata": {},
   "source": [
    "### 4-1-3. 모델 학습"
   ]
  },
  {
   "cell_type": "code",
   "execution_count": 5,
   "metadata": {},
   "outputs": [
    {
     "data": {
      "text/plain": [
       "KNeighborsClassifier(algorithm='auto', leaf_size=30, metric='minkowski',\n",
       "                     metric_params=None, n_jobs=None, n_neighbors=5, p=2,\n",
       "                     weights='uniform')"
      ]
     },
     "execution_count": 5,
     "metadata": {},
     "output_type": "execute_result"
    }
   ],
   "source": [
    "knn.fit(x_train, y_train)  # 모델 학습"
   ]
  },
  {
   "cell_type": "markdown",
   "metadata": {},
   "source": [
    "### 4-1-4. 결과 예측"
   ]
  },
  {
   "cell_type": "code",
   "execution_count": 7,
   "metadata": {},
   "outputs": [
    {
     "name": "stdout",
     "output_type": "stream",
     "text": [
      "[2 1 0 2 0 2 0 1 1 1 2 1 1 1 2 0 1 1 0 0 2 1 0 0 2 0 0 1 1 0]\n"
     ]
    }
   ],
   "source": [
    "pred = knn.predict(x_test) # 모델 예측\n",
    "print(pred)"
   ]
  },
  {
   "cell_type": "markdown",
   "metadata": {},
   "source": [
    "### 4-1-5. 결과 평가"
   ]
  },
  {
   "cell_type": "markdown",
   "metadata": {},
   "source": [
    "일반적으로 분류에서는 `Accuracy (정확도)`를 평가 척도로 사용합니다. "
   ]
  },
  {
   "cell_type": "code",
   "execution_count": 8,
   "metadata": {},
   "outputs": [
    {
     "name": "stdout",
     "output_type": "stream",
     "text": [
      "accuracy: 0.966667\n"
     ]
    }
   ],
   "source": [
    "from sklearn.metrics import accuracy_score\n",
    "\n",
    "print(\"accuracy: %.6f\" % accuracy_score(y_true=y_test, y_pred=pred))"
   ]
  },
  {
   "cell_type": "markdown",
   "metadata": {},
   "source": [
    "### 4-1-5. 모델 분석"
   ]
  },
  {
   "cell_type": "code",
   "execution_count": 9,
   "metadata": {},
   "outputs": [
    {
     "data": {
      "image/png": "[encoded data removed]",
      "text/plain": [
       "<Figure size 432x288 with 1 Axes>"
      ]
     },
     "metadata": {
      "needs_background": "light"
     },
     "output_type": "display_data"
    }
   ],
   "source": [
    "import numpy as np\n",
    "import matplotlib.pyplot as plt\n",
    "\n",
    "neighbors = np.arange(1, 10)\n",
    "test_accuracy = np.empty(len(neighbors))\n",
    "\n",
    "for i, k in enumerate(neighbors):\n",
    "    model = KNeighborsClassifier(n_neighbors=k)  # 모델 정의\n",
    "    model.fit(x_train, y_train)  # 모델 학습\n",
    "    pred = model.predict(x_test)\n",
    "\n",
    "    test_accuracy[i] = accuracy_score(y_test, pred)\n",
    "\n",
    "plt.plot(neighbors, test_accuracy, label='Test Accuracy')\n",
    "plt.legend()\n",
    "plt.xlabel('Number of neighbors')\n",
    "plt.ylabel('Accuracy')\n",
    "plt.show()"
   ]
  },
  {
   "cell_type": "markdown",
   "metadata": {},
   "source": [
    "---"
   ]
  },
  {
   "cell_type": "markdown",
   "metadata": {},
   "source": [
    "## 4.2  K-Nearest Neighbor - data: diabetes\n",
    "\n",
    "- 사용할 데이터: 외부에서 가져온 diabetes 데이터\n",
    "- **아래에 코드를 작성해주세요** 칸에 코드를 작성해주시면 됩니다."
   ]
  },
  {
   "cell_type": "markdown",
   "metadata": {},
   "source": [
    "### 직접 실습해보세요! (순서 동일)\n",
    "\n",
    "이전과 동일하므로 생략합니다."
   ]
  },
  {
   "cell_type": "code",
   "execution_count": null,
   "metadata": {},
   "outputs": [],
   "source": [
    "from sklearn.neighbors import KNeighborsClassifier\n",
    "from sklearn.metrics import accuracy_score\n",
    "import pandas as pd\n",
    "import numpy as np\n",
    "\n",
    "\n",
    "def main():\n",
    "  \n",
    "    diabetes_data = pd.read_csv('data/diabetes.csv')\n",
    "\n",
    "    print(diabetes_data.head())\n",
    "    \n",
    "    x = diabetes_data.drop(columns=['Outcome'])\n",
    "    y = diabetes_data['Outcome'].values\n",
    "\n",
    "    ####################### 아래에 코드를 작성해주세요 #######################\n",
    "\n",
    "    # 1. 훈련 데이터, 테스트 데이터를 불러오세요! (train:test = 4: 1)\n",
    "    x_train, x_test, y_train, y_test = train_test_split(x, y, test_size=0.2, random_state=0)\n",
    "    \n",
    "    \n",
    "    ##########################################################################\n",
    "   \n",
    "    \n",
    "    neighbors = np.arange(1, 50)\n",
    "    test_accuracy = np.empty(len(neighbors)) \n",
    "    \n",
    "    for i , k in enumerate(neighbors):\n",
    "      \n",
    "        ####################### 아래에 코드를 작성해주세요 #######################\n",
    "    \n",
    "        # 1. 모델 정의\n",
    "        KNN == KNeighborsClassifier(n_neighbors=K)\n",
    "     \n",
    "\n",
    "        # 2. 모델 학습\n",
    "        model.fit(x_train, y_train)\n",
    "    \n",
    "        # 3. 모델 예측\n",
    "        pred = model.predict(x_test)\n",
    "\n",
    "        ##########################################################################\n",
    "        \n",
    "        test_accuracy[i] = accuracy_score(y_test, pred)\n",
    "\n",
    "              \n",
    "    plt.plot(neighbors, test_accuracy, label='Test Accuracy')\n",
    "    plt.legend()\n",
    "    plt.xlabel('Number of neighbors')\n",
    "    plt.ylabel('Accuracy')\n",
    "    plt.show()\n",
    "\n",
    "if __name__ == \"__main__\":\n",
    "    main() "
   ]
  },
  {
   "cell_type": "markdown",
   "metadata": {},
   "source": [
    "#### 정답코드"
   ]
  },
  {
   "cell_type": "code",
   "execution_count": 12,
   "metadata": {},
   "outputs": [
    {
     "name": "stdout",
     "output_type": "stream",
     "text": [
      "   Pregnancies  Glucose  BloodPressure  SkinThickness  Insulin   BMI  \\\n",
      "0            6      148             72             35        0  33.6   \n",
      "1            1       85             66             29        0  26.6   \n",
      "2            8      183             64              0        0  23.3   \n",
      "3            1       89             66             23       94  28.1   \n",
      "4            0      137             40             35      168  43.1   \n",
      "\n",
      "   DiabetesPedigreeFunction  Age  Outcome  \n",
      "0                     0.627   50        1  \n",
      "1                     0.351   31        0  \n",
      "2                     0.672   32        1  \n",
      "3                     0.167   21        0  \n",
      "4                     2.288   33        1  \n"
     ]
    },
    {
     "data": {
      "image/png": "[encoded data removed]",
      "text/plain": [
       "<Figure size 432x288 with 1 Axes>"
      ]
     },
     "metadata": {
      "needs_background": "light"
     },
     "output_type": "display_data"
    }
   ],
   "source": [
    "from sklearn.neighbors import KNeighborsClassifier\n",
    "from sklearn.metrics import accuracy_score\n",
    "import pandas as pd\n",
    "import numpy as np\n",
    "\n",
    "\n",
    "def main():\n",
    "  \n",
    "    diabetes_data = pd.read_csv('data/diabetes.csv')\n",
    "    \n",
    "    print(diabetes_data.head())\n",
    "    \n",
    "    x = diabetes_data.drop(columns=['Outcome'])\n",
    "    y = diabetes_data['Outcome'].values\n",
    "\n",
    "    x_train, x_test, y_train, y_test = train_test_split(x, y, test_size=0.2, random_state=0)\n",
    "    neighbors = np.arange(1, 50)\n",
    "    test_accuracy = np.empty(len(neighbors)) \n",
    "    \n",
    "    for i , k in enumerate(neighbors):\n",
    "        model = KNeighborsClassifier(n_neighbors=k)\n",
    "        model.fit(x_train, y_train)\n",
    "        pred = model.predict(x_test)\n",
    "        \n",
    "        test_accuracy[i] = accuracy_score(y_test, pred)\n",
    "\n",
    "              \n",
    "    plt.plot(neighbors, test_accuracy, label='Test Accuracy')\n",
    "    plt.legend()\n",
    "    plt.xlabel('Number of neighbors')\n",
    "    plt.ylabel('Accuracy')\n",
    "    plt.show()\n",
    "\n",
    "if __name__ == \"__main__\":\n",
    "    main()"
   ]
  },
  {
   "cell_type": "code",
   "execution_count": null,
   "metadata": {},
   "outputs": [],
   "source": []
  }
 ],
 "metadata": {
  "kernelspec": {
   "display_name": "Python 3",
   "language": "python",
   "name": "python3"
  },
  "language_info": {
   "codemirror_mode": {
    "name": "ipython",
    "version": 3
   },
   "file_extension": ".py",
   "mimetype": "text/x-python",
   "name": "python",
   "nbconvert_exporter": "python",
   "pygments_lexer": "ipython3",
   "version": "3.6.9"
  },
  "toc": {
   "base_numbering": 1,
   "nav_menu": {},
   "number_sections": false,
   "sideBar": true,
   "skip_h1_title": false,
   "title_cell": "Table of Contents",
   "title_sidebar": "Contents",
   "toc_cell": false,
   "toc_position": {},
   "toc_section_display": true,
   "toc_window_display": false
  },
  "varInspector": {
   "cols": {
    "lenName": 16,
    "lenType": 16,
    "lenVar": 40
   },
   "kernels_config": {
    "python": {
     "delete_cmd_postfix": "",
     "delete_cmd_prefix": "del ",
     "library": "var_list.py",
     "varRefreshCmd": "print(var_dic_list())"
    },
    "r": {
     "delete_cmd_postfix": ") ",
     "delete_cmd_prefix": "rm(",
     "library": "var_list.r",
     "varRefreshCmd": "cat(var_dic_list()) "
    }
   },
   "types_to_exclude": [
    "module",
    "function",
    "builtin_function_or_method",
    "instance",
    "_Feature"
   ],
   "window_display": false
  }
 },
 "nbformat": 4,
 "nbformat_minor": 4
}
