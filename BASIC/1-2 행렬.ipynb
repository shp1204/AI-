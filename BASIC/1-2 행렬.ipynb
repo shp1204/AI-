{
 "cells": [
  {
   "cell_type": "markdown",
   "metadata": {},
   "source": [
    "# 1. 머신러닝을 위한 선형 대수학"
   ]
  },
  {
   "cell_type": "markdown",
   "metadata": {},
   "source": [
    "---"
   ]
  },
  {
   "cell_type": "markdown",
   "metadata": {},
   "source": [
    "## 학습 목표\n",
    "- 행렬과 벡터를 다루는 선형 대수학의 개념을 학습합니다.\n",
    "- 학습한 수학 공식들을 코드로 계산하는 방법을 학습합니다."
   ]
  },
  {
   "cell_type": "markdown",
   "metadata": {},
   "source": [
    "---"
   ]
  },
  {
   "cell_type": "markdown",
   "metadata": {},
   "source": [
    "## 목차"
   ]
  },
  {
   "cell_type": "markdown",
   "metadata": {},
   "source": [
    "### 1. 벡터\n",
    "1. 스칼라와 벡터 \n",
    "2. 벡터 연산법\n",
    "\n",
    "### 2. 행렬\n",
    "1. 행렬의 정의\n",
    "2. 행렬 연산자\n",
    "3. 특수 행렬"
   ]
  },
  {
   "cell_type": "markdown",
   "metadata": {},
   "source": [
    "---"
   ]
  },
  {
   "cell_type": "markdown",
   "metadata": {},
   "source": [
    "## 2. 행렬"
   ]
  },
  {
   "cell_type": "markdown",
   "metadata": {},
   "source": [
    "**행렬(matrix)**은 수 또는 문자를 괄호 안에 직사각형 형태로 배열한 것을 의미합니다."
   ]
  },
  {
   "cell_type": "markdown",
   "metadata": {},
   "source": [
    "##### mxn 행렬\n",
    "\n",
    "> $$A = \\begin{bmatrix}\n",
    "a_{1,1} & a_{1,2} & \\cdots & a_{1,n} \\\\ \n",
    "a_{2,1} & a_{2,2} & \\cdots & a_{2,n} \\\\\n",
    "\\vdots & \\vdots & \\cdots & \\vdots \\\\\n",
    "a_{m,1} & a_{2,2} & \\cdots & a_{m,n}\n",
    "\\end{bmatrix}$$"
   ]
  },
  {
   "cell_type": "markdown",
   "metadata": {},
   "source": [
    "위 수식과 같이 mxn 행렬은 $m$개의 row와 $n$개의 column을 갖고 $a_{i,j}$의 성분으로 구성되어 있습니다."
   ]
  },
  {
   "cell_type": "markdown",
   "metadata": {},
   "source": [
    " "
   ]
  },
  {
   "cell_type": "markdown",
   "metadata": {},
   "source": [
    "아래 예제들을 살펴보기 이전 먼저 numpy 모듈을 import 해야합니다."
   ]
  },
  {
   "cell_type": "code",
   "execution_count": 13,
   "metadata": {},
   "outputs": [],
   "source": [
    "import numpy as np"
   ]
  },
  {
   "cell_type": "markdown",
   "metadata": {},
   "source": [
    "##### <예제 1> 다양한 shape의 numpy 행렬"
   ]
  },
  {
   "cell_type": "code",
   "execution_count": 14,
   "metadata": {},
   "outputs": [
    {
     "name": "stdout",
     "output_type": "stream",
     "text": [
      "matrix_A: \n",
      "[[1 2]\n",
      " [3 4]]\n",
      "\n",
      "matrix_B: \n",
      "[[5 6]\n",
      " [7 8]]\n"
     ]
    }
   ],
   "source": [
    "matrix_A = np.array([[1, 2],[3, 4]])\n",
    "matrix_B = np.array([[5, 6],[7, 8]])\n",
    "print('matrix_A: \\n{}\\n'.format(matrix_A))\n",
    "print('matrix_B: \\n{}'.format(matrix_B))"
   ]
  },
  {
   "cell_type": "code",
   "execution_count": 15,
   "metadata": {},
   "outputs": [
    {
     "name": "stdout",
     "output_type": "stream",
     "text": [
      "matrix_C: \n",
      "[[1 2 3]\n",
      " [4 5 6]]\n",
      "\n",
      "matrix_D: \n",
      "[[1 2]\n",
      " [3 4]\n",
      " [5 6]]\n"
     ]
    }
   ],
   "source": [
    "matrix_C = np.array([[1, 2, 3],[4, 5, 6]])\n",
    "matrix_D = np.array([[1, 2],[3, 4], [5, 6]])\n",
    "print('matrix_C: \\n{}\\n'.format(matrix_C))\n",
    "print('matrix_D: \\n{}'.format(matrix_D))"
   ]
  },
  {
   "cell_type": "markdown",
   "metadata": {},
   "source": [
    " "
   ]
  },
  {
   "cell_type": "markdown",
   "metadata": {},
   "source": [
    "### 2-1. 행렬 덧셈과 뺄셈, 스칼라 곱"
   ]
  },
  {
   "cell_type": "markdown",
   "metadata": {},
   "source": [
    "머신러닝에서 입력된 데이터들은 행렬로 변환되어 사용됩니다.\n",
    "\n",
    "이러한 행렬들은 각종 연산들을 거쳐 사용되기에 기본적인 행렬 연산에 대한 학습이 필요합니다."
   ]
  },
  {
   "cell_type": "markdown",
   "metadata": {},
   "source": [
    " "
   ]
  },
  {
   "cell_type": "markdown",
   "metadata": {},
   "source": [
    "**행렬 덧셈**: 크기가 같은 두 행렬의 동일한 인덱스에 있는 행렬의 성분끼리 더합니다."
   ]
  },
  {
   "cell_type": "markdown",
   "metadata": {},
   "source": [
    "##### 행렬 덧셈\n",
    "\n",
    "> $$\\begin{bmatrix}\n",
    "a_{1,1} & a_{1,2} \\\\ \n",
    "a_{2,1} & a_{2,2} \n",
    "\\end{bmatrix} + \n",
    "\\begin{bmatrix}\n",
    "b_{1,1} & b_{1,2} \\\\ \n",
    "b_{2,1} & b_{2,2} \n",
    "\\end{bmatrix} = \n",
    "\\begin{bmatrix}\n",
    "a_{1,1} + b_{1,1} & a_{1,2} + b_{1,2} \\\\ \n",
    "a_{2,1} + b_{2,1} & a_{2,2} + b_{2,2}\n",
    "\\end{bmatrix}$$"
   ]
  },
  {
   "cell_type": "markdown",
   "metadata": {},
   "source": [
    "**행렬 뺄셈**: 크기가 같은 두 행렬의 동일한 인덱스에 있는 행렬의 성분끼리 뺄셈을 합니다."
   ]
  },
  {
   "cell_type": "markdown",
   "metadata": {},
   "source": [
    "##### 행렬 뺄셈\n",
    "\n",
    "> $$\\begin{bmatrix}\n",
    "a_{1,1} & a_{1,2} \\\\ \n",
    "a_{2,1} & a_{2,2} \n",
    "\\end{bmatrix} - \n",
    "\\begin{bmatrix}\n",
    "b_{1,1} & b_{1,2} \\\\ \n",
    "b_{2,1} & b_{2,2} \n",
    "\\end{bmatrix} = \n",
    "\\begin{bmatrix}\n",
    "a_{1,1} - b_{1,1} & a_{1,2} - b_{1,2} \\\\ \n",
    "a_{2,1} - b_{2,1} & a_{2,2} - b_{2,2}\n",
    "\\end{bmatrix}$$"
   ]
  },
  {
   "cell_type": "markdown",
   "metadata": {},
   "source": [
    "**행렬 스칼라 곱**: 스칼라 값만큼 모든 성분에 곱합니다."
   ]
  },
  {
   "cell_type": "markdown",
   "metadata": {},
   "source": [
    "##### 행렬 스칼라 곱\n",
    "\n",
    "> $$c\\begin{bmatrix}\n",
    "a_{1,1} & a_{1,2} \\\\ \n",
    "a_{2,1} & a_{2,2} \n",
    "\\end{bmatrix} = \n",
    "\\begin{bmatrix}\n",
    "ca_{1,1} & ca_{1,2} \\\\ \n",
    "ca_{2,1} & ca_{2,2} \n",
    "\\end{bmatrix}\n",
    "$$"
   ]
  },
  {
   "cell_type": "markdown",
   "metadata": {},
   "source": [
    " "
   ]
  },
  {
   "cell_type": "markdown",
   "metadata": {},
   "source": [
    "##### <예제 2> 행렬 덧셈과 뺄셈, 스칼라 곱"
   ]
  },
  {
   "cell_type": "code",
   "execution_count": 16,
   "metadata": {
    "scrolled": true
   },
   "outputs": [
    {
     "name": "stdout",
     "output_type": "stream",
     "text": [
      "matrix_A: \n",
      "[[1 2]\n",
      " [3 4]]\n",
      "\n",
      "matrix_B: \n",
      "[[5 6]\n",
      " [7 8]]\n",
      "matrix_A + matrix_B: \n",
      "[[ 6  8]\n",
      " [10 12]]\n",
      "\n",
      "matrix_A - matrix_B: \n",
      "[[-4 -4]\n",
      " [-4 -4]]\n",
      "\n",
      "2 X matrix_A: \n",
      "[[2 4]\n",
      " [6 8]]\n"
     ]
    }
   ],
   "source": [
    "matrix_A = np.array([[1, 2],[3, 4]])\n",
    "matrix_B = np.array([[5, 6],[7, 8]])\n",
    "print('matrix_A: \\n{}\\n'.format(matrix_A))\n",
    "print('matrix_B: \\n{}'.format(matrix_B))\n",
    "\n",
    "print('matrix_A + matrix_B: \\n{}\\n'.format(matrix_A + matrix_B))\n",
    "print('matrix_A - matrix_B: \\n{}\\n'.format(matrix_A - matrix_B))\n",
    "print('2 X matrix_A: \\n{}'.format(2*matrix_A))"
   ]
  },
  {
   "cell_type": "markdown",
   "metadata": {},
   "source": [
    " "
   ]
  },
  {
   "cell_type": "markdown",
   "metadata": {},
   "source": [
    "### 2-2. 행렬 곱셈"
   ]
  },
  {
   "cell_type": "markdown",
   "metadata": {},
   "source": [
    "스칼라와 행렬과의 곱셈과는 달리 행렬 곱은 특수한 형태로 정의됩니다.\n",
    "\n",
    "제일 기본적인 형태인 **행렬 곱하기 벡터**의 형태의 정의를 보면 다음과 같습니다."
   ]
  },
  {
   "cell_type": "markdown",
   "metadata": {},
   "source": [
    "##### 행렬 곱하기 벡터\n",
    "\n",
    "> $$\\begin{bmatrix}\n",
    "a_{1,1} & a_{1,2} \\\\ \n",
    "a_{2,1} & a_{2,2} \n",
    "\\end{bmatrix}\\begin{bmatrix}\n",
    "x_{1}  \\\\ \n",
    "x_{2}  \n",
    "\\end{bmatrix} = \\begin{bmatrix}\n",
    "a_{1,1}  \\\\ \n",
    "a_{2,1}  \n",
    "\\end{bmatrix}*x_{1} + \\begin{bmatrix}\n",
    "a_{1,2}  \\\\ \n",
    "a_{2,2}  \n",
    "\\end{bmatrix}*x_{2} = \\begin{bmatrix}\n",
    "a_{1,1}x_{1}+a_{1,2}x_{2}  \\\\ \n",
    "a_{2,1}x_{1}+a_{2,2}x_{2}  \n",
    "\\end{bmatrix}$$"
   ]
  },
  {
   "cell_type": "markdown",
   "metadata": {},
   "source": [
    "같은 방식으로 기존 벡터에 column 방향으로 벡터를 추가한다 생각하면 아래와 같은 공식을 얻을 수 있습니다."
   ]
  },
  {
   "cell_type": "markdown",
   "metadata": {},
   "source": [
    "##### column 벡터 추가 형태의 행렬 곱하기 벡터\n",
    "\n",
    "> $$\\begin{bmatrix}\n",
    "a_{1,1} & a_{1,2} \\\\ \n",
    "a_{2,1} & a_{2,2} \n",
    "\\end{bmatrix}\\begin{bmatrix}\n",
    "x_{1,1}  \\\\ \n",
    "x_{2,1}  \n",
    "\\end{bmatrix} =  \\begin{bmatrix}\n",
    "a_{1,1}x_{1,1}+a_{1,2}x_{2,1}  \\\\ \n",
    "a_{2,1}x_{1,1}+a_{2,2}x_{2,1}  \n",
    "\\end{bmatrix}$$\n",
    "\n",
    "> $$\\begin{bmatrix}\n",
    "a_{1,1} & a_{1,2} \\\\ \n",
    "a_{2,1} & a_{2,2} \n",
    "\\end{bmatrix}\\begin{bmatrix}\n",
    "x_{1,2}  \\\\ \n",
    "x_{2,2}  \n",
    "\\end{bmatrix} = \\begin{bmatrix}\n",
    "a_{1,1}x_{1,2}+a_{1,2}x_{2,2}  \\\\ \n",
    "a_{2,1}x_{1,2}+a_{2,2}x_{2,2}  \n",
    "\\end{bmatrix}$$\n",
    "\n",
    "> $$\\begin{bmatrix}\n",
    "a_{1,1} & a_{1,2} \\\\ \n",
    "a_{2,1} & a_{2,2} \n",
    "\\end{bmatrix}\\begin{bmatrix}\n",
    "x_{1,1} & x_{1,2} \\\\ \n",
    "x_{2,1} & x_{2,2}\n",
    "\\end{bmatrix} = \\begin{bmatrix}\n",
    "a_{1,1}x_{1,1}+a_{1,2}x_{2,1} & a_{1,1}x_{1,2}+a_{1,2}x_{2,2} \\\\ \n",
    "a_{2,1}x_{1,1}+a_{2,2}x_{2,1} & a_{1,1}x_{1,2}+a_{1,2}x_{2,2}\n",
    "\\end{bmatrix}$$"
   ]
  },
  {
   "cell_type": "markdown",
   "metadata": {},
   "source": [
    "행렬 곱셈에서 중요한 것은 곱하는 행렬끼리의 크기를 맞춰야 한다는 점입니다.\n",
    "\n",
    "예를 들어, 아래와 같은 계산은 불가능합니다."
   ]
  },
  {
   "cell_type": "markdown",
   "metadata": {},
   "source": [
    "##### 행렬 곱셈이 불가능한 행렬 shape\n",
    "\n",
    "> $$\\begin{bmatrix}\n",
    "a_{1,1} & a_{1,2} \\\\ \n",
    "a_{2,1} & a_{2,2} \n",
    "\\end{bmatrix}\\begin{bmatrix}\n",
    "x_{1}  \\\\ \n",
    "x_{2}  \\\\\n",
    "x_{3}\n",
    "\\end{bmatrix} = \\begin{bmatrix}\n",
    "a_{1,1}  \\\\ \n",
    "a_{2,1}  \n",
    "\\end{bmatrix}*x_{1} + \\begin{bmatrix}\n",
    "a_{1,2}  \\\\ \n",
    "a_{2,2}  \n",
    "\\end{bmatrix}*x_{2} + ? * x_{3} $$"
   ]
  },
  {
   "cell_type": "markdown",
   "metadata": {},
   "source": [
    "따라서 앞서 곱하는 행렬의 column 개수와 뒤에 곱해지는 행렬의 row의 개수가 같아야 합니다.\n",
    "\n",
    "$AB$ 계산하기 위한 조건으로 $A$ 행렬의 shape이 (m,n) $B$ 행렬의 shape은 (n,l)이어야 합니다. (m,n,l는 자연수)\n",
    "\n",
    "그렇게 계산된 $AB$의 shape은 (m,l)입니다."
   ]
  },
  {
   "cell_type": "markdown",
   "metadata": {},
   "source": [
    " "
   ]
  },
  {
   "cell_type": "markdown",
   "metadata": {},
   "source": [
    "행렬 곱셈은 결합 법칙은 성립하지만 일반적인 곱셈에서 가능한 교환 법칙이 성립하지 않습니다.\n",
    "\n",
    "- **결합 법칙**: $(AB)C=A(BC)$\n",
    "- **교환 법칙**: $AB \\neq BA$\n",
    "\n",
    "행렬을 사용한 공식들은 교환법칙이 성립하지 않기에 기존에 존재하던 방정식 풀이나 미분법에서의 공식 등에서 행렬을 그대로 대입할 수 없습니다.\n",
    "\n",
    "따라서 행렬을 사용한 계산법들은 새로운 형태의 공식들로 정리됩니다."
   ]
  },
  {
   "cell_type": "markdown",
   "metadata": {},
   "source": [
    " "
   ]
  },
  {
   "cell_type": "markdown",
   "metadata": {},
   "source": [
    "##### <예제 3>행렬 곱셈"
   ]
  },
  {
   "cell_type": "markdown",
   "metadata": {},
   "source": [
    "행렬의 곱을 수행하기 위해서는 numpy의 `dot` 또는 `matmul` 함수를 사용합니다.\n",
    "\n",
    "`dot` 또는 `matmul` 함수는 3차원 이상의 배열에서 계산은 다르지만 1차원 배열인 벡터와 2차원 배열인 행렬을 다루는 행렬 곱에서는 같은 결과물을 출력합니다.\n",
    "\n",
    "두 함수는 다음과 같이 사용할 수 있습니다.\n",
    "\n",
    "`matmul(A,B) = dot(A,B) = AB` A와 B는 행렬 곱의 크기 조건을 만족하는 두 행렬 또는 행렬과 벡터 "
   ]
  },
  {
   "cell_type": "code",
   "execution_count": 17,
   "metadata": {
    "scrolled": true
   },
   "outputs": [
    {
     "name": "stdout",
     "output_type": "stream",
     "text": [
      "행렬 곱 셈 AB =\n",
      "[[ 5  5]\n",
      " [-5 -5]]\n",
      "[[ 5  5]\n",
      " [-5 -5]]\n",
      "\n",
      "행렬 곱셈 BA =\n",
      "[[0 0]\n",
      " [0 0]]\n",
      "[[0 0]\n",
      " [0 0]]\n"
     ]
    }
   ],
   "source": [
    "matrix_A = np.array([[1, 2],[-1, -2]])\n",
    "matrix_B = np.array([[1, 1],[2, 2]])\n",
    "\n",
    "# 둘 다 같은 결과이다.\n",
    "# 행렬에서는 같은 결과이지만 3차원(tensor)부터는 결과가 다르게 나온다.\n",
    "print('행렬 곱 셈 AB =')\n",
    "print(np.dot(matrix_A,matrix_B))\n",
    "print(np.matmul(matrix_A,matrix_B))\n",
    "\n",
    "print('\\n행렬 곱셈 BA =')\n",
    "print(np.dot(matrix_B,matrix_A))\n",
    "print(np.matmul(matrix_B,matrix_A))"
   ]
  },
  {
   "cell_type": "markdown",
   "metadata": {},
   "source": [
    " "
   ]
  },
  {
   "cell_type": "markdown",
   "metadata": {},
   "source": [
    "### 2-3. 특수 행렬"
   ]
  },
  {
   "cell_type": "markdown",
   "metadata": {},
   "source": [
    "**영행렬(Zero matrix** or **Null matrix)**: 행렬의 모든 원소의 값이 0인 행렬을 의미합니다. 와 같이 중요 단어 bold 처리 해주시면 더 눈에 띄기 좋을 것 같습니다.\n",
    "\n",
    "영행렬은 행렬 덧셈의  **항등원**입니다. (**항등원**: 임의의 수 a에 대하여 어떤 수를 연산했을 때 처음의 수 a가 되도록 만들어 주는 수)\n",
    "\n",
    "예를 들어, 행렬 $A$와 같은 크기의 영행렬 $O$가 있다면 $A+O=O+A=A$를 만족합니다."
   ]
  },
  {
   "cell_type": "markdown",
   "metadata": {},
   "source": [
    "##### 영행렬 덧셈\n",
    "\n",
    "> $$\\begin{bmatrix} 1 & 2 \\\\\\\\ 3 & 4 \\end{bmatrix} + \\begin{bmatrix} 0 & 0 \\\\\\\\ 0 & 0 \\end{bmatrix} = \\begin{bmatrix} 1 & 2 \\\\\\\\ 3 & 4 \\end{bmatrix} $$"
   ]
  },
  {
   "cell_type": "markdown",
   "metadata": {},
   "source": [
    " "
   ]
  },
  {
   "cell_type": "markdown",
   "metadata": {},
   "source": [
    "##### <예제 4> 영행렬 덧셈"
   ]
  },
  {
   "cell_type": "code",
   "execution_count": 18,
   "metadata": {
    "scrolled": true
   },
   "outputs": [
    {
     "name": "stdout",
     "output_type": "stream",
     "text": [
      "O : \n",
      "[[0. 0.]\n",
      " [0. 0.]]\n",
      "\n",
      "A + O = \n",
      "[[ 1.  2.]\n",
      " [-1. -2.]]\n",
      "\n",
      "O + A = \n",
      "[[ 1.  2.]\n",
      " [-1. -2.]]\n",
      "\n"
     ]
    }
   ],
   "source": [
    "null_matrix = np.zeros((2,2))\n",
    "print(\"O : \\n{}\\n\".format(null_matrix))\n",
    "\n",
    "print(\"A + O = \\n{}\\n\".format(matrix_A + null_matrix))\n",
    "print(\"O + A = \\n{}\\n\".format(null_matrix + matrix_A))"
   ]
  },
  {
   "cell_type": "markdown",
   "metadata": {},
   "source": [
    " "
   ]
  },
  {
   "cell_type": "markdown",
   "metadata": {},
   "source": [
    "**단위행렬(Identity matrix)**: 정사각행렬 중에서 행 번호와 열 번호가 같은 위치의 값은 1이고, 나머지는 0을 가지는 행렬을 의미합니다.\n",
    "\n",
    "단위 행렬은 행렬 곱셈에 대한 **항등원**입니다. \n",
    "\n",
    "예를 들어, 행렬  $A$와 같은 크기의 단위행렬 $I$가 있다면 $A \\cdot I=I \\cdot A=A$를 만족합니다."
   ]
  },
  {
   "cell_type": "markdown",
   "metadata": {},
   "source": [
    " "
   ]
  },
  {
   "cell_type": "markdown",
   "metadata": {},
   "source": [
    "##### <예제 5> 단위행렬 곱셈"
   ]
  },
  {
   "cell_type": "code",
   "execution_count": 19,
   "metadata": {
    "scrolled": true
   },
   "outputs": [
    {
     "name": "stdout",
     "output_type": "stream",
     "text": [
      "I : \n",
      "[[1. 0.]\n",
      " [0. 1.]]\n",
      "\n",
      "A * I = \n",
      "[[ 2.  2.]\n",
      " [-1. -1.]]\n",
      "\n",
      "I * A = \n",
      "[[ 2.  2.]\n",
      " [-1. -1.]]\n",
      "\n"
     ]
    }
   ],
   "source": [
    "identity_matrix = np.eye(2)\n",
    "print(\"I : \\n{}\\n\".format(identity_matrix))\n",
    "\n",
    "print(\"A * I = \\n{}\\n\".format(matrix_A + identity_matrix))\n",
    "print(\"I * A = \\n{}\\n\".format(identity_matrix + matrix_A))"
   ]
  },
  {
   "cell_type": "markdown",
   "metadata": {},
   "source": [
    " "
   ]
  },
  {
   "cell_type": "markdown",
   "metadata": {},
   "source": [
    "### 2-4. 전치행렬과 역행렬"
   ]
  },
  {
   "cell_type": "markdown",
   "metadata": {},
   "source": [
    "**전치행렬(transposed matrix)**: 행렬 성분의 행과 열 좌표를 바꾼 행렬을 의미합니다. \n",
    "\n",
    "아래의 예처럼 왼쪽 위에서 오른쪽 아래로 가는 대각선 상에 있는 성분 $a_{i,i}$은 변하지 않습니다.\n",
    "\n",
    "대신 대각선을 기준으로 나머지 성분들이 자리를 교환하게 됩니다. $a_{i,j} -> a_{j,i}$ "
   ]
  },
  {
   "cell_type": "markdown",
   "metadata": {},
   "source": [
    "##### 전치행렬 예\n",
    "\n",
    "> $$A_{1}^{T} = \\begin{bmatrix}\n",
    "a_{1,1} & a_{1,2} & a_{1,3} \\\\ \n",
    "a_{2,1} & a_{2,2} & a_{2,3} \\\\\n",
    "a_{3,1} & a_{3,2} & a_{3,3}\n",
    "\\end{bmatrix}^T = \\begin{bmatrix}\n",
    "a_{1,1} & a_{2,1} & a_{3,1} \\\\ \n",
    "a_{1,2} & a_{2,2} & a_{2,3} \\\\\n",
    "a_{1,3} & a_{2,3} & a_{3,3}\n",
    "\\end{bmatrix},$$    \n",
    "\n",
    "> $$A_{2}^{T} = \\begin{bmatrix}\n",
    "a_{1,1} & a_{1,2}  \\\\ \n",
    "a_{2,1} & a_{2,2}  \\\\\n",
    "a_{3,1} & a_{3,2} \n",
    "\\end{bmatrix}^T = \\begin{bmatrix}\n",
    "a_{1,1} & a_{2,1} & a_{3,1} \\\\ \n",
    "a_{1,2} & a_{2,2} & a_{2,3} \\\\\n",
    "\\end{bmatrix}$$"
   ]
  },
  {
   "cell_type": "markdown",
   "metadata": {},
   "source": [
    "행렬 $A$에 대한 전치 행렬은 $A^T$로 표현됩니다."
   ]
  },
  {
   "cell_type": "markdown",
   "metadata": {},
   "source": [
    "$mxn$ 행렬 $A$와 $B$, 스칼라 값 $c$에 대해서 전치행렬은 다음과 같은 성질을 만족합니다."
   ]
  },
  {
   "cell_type": "markdown",
   "metadata": {},
   "source": [
    "##### 전치행렬의 성질\n",
    "\n",
    "> $$(A^T)^T = A$$\n",
    "\n",
    "> $$(A+B)^T = A^T + B^T$$\n",
    "\n",
    "> $$(cA)^T = c(A^T)$$\n",
    "\n",
    "> $$(AB)^T = B^T A^T$$"
   ]
  },
  {
   "cell_type": "markdown",
   "metadata": {},
   "source": [
    "위 성질들을 아래 코드로 수행해 봅시다."
   ]
  },
  {
   "cell_type": "markdown",
   "metadata": {},
   "source": [
    " "
   ]
  },
  {
   "cell_type": "markdown",
   "metadata": {},
   "source": [
    "##### <예제 6> 전치행렬"
   ]
  },
  {
   "cell_type": "markdown",
   "metadata": {},
   "source": [
    "전치행렬은 numpy의 `transpose()`로 구할 수 있습니다."
   ]
  },
  {
   "cell_type": "code",
   "execution_count": 20,
   "metadata": {},
   "outputs": [
    {
     "name": "stdout",
     "output_type": "stream",
     "text": [
      "(A^T)^T : \n",
      "[[-1  2]\n",
      " [ 4  0]]\n",
      "\n",
      "A : \n",
      "[[-1  2]\n",
      " [ 4  0]]\n",
      "\n",
      "(A + B)^T : \n",
      "[[-2  5]\n",
      " [ 4 -2]]\n",
      "\n",
      "A^T + B^T : \n",
      "[[-2  5]\n",
      " [ 4 -2]]\n",
      "\n",
      "(cA)^T : \n",
      "[[-2  8]\n",
      " [ 4  0]]\n",
      "\n",
      "c(A)^T : \n",
      "[[-2  8]\n",
      " [ 4  0]]\n",
      "\n",
      "(AB)^T : \n",
      "[[ 3 -4]\n",
      " [-6  8]]\n",
      "\n",
      "B^TA^T : \n",
      "[[ 3 -4]\n",
      " [-6  8]]\n",
      "\n"
     ]
    }
   ],
   "source": [
    "matrix_A = np.array([[-1, 2],[4, 0]])\n",
    "matrix_B = np.array([[-1, 2],[1, -2]])\n",
    "c = 2\n",
    "\n",
    "print(\"(A^T)^T : \\n{}\\n\".format((matrix_A.transpose()).transpose()))\n",
    "print(\"A : \\n{}\\n\".format(matrix_A))\n",
    "\n",
    "print(\"(A + B)^T : \\n{}\\n\".format((matrix_A+matrix_B).transpose()))\n",
    "print(\"A^T + B^T : \\n{}\\n\".format((matrix_A+matrix_B).transpose()))\n",
    "\n",
    "print(\"(cA)^T : \\n{}\\n\".format((c*matrix_A).transpose()))\n",
    "print(\"c(A)^T : \\n{}\\n\".format(c*(matrix_A).transpose()))\n",
    "\n",
    "print(\"(AB)^T : \\n{}\\n\".format((np.dot(matrix_A,matrix_B)).transpose()))\n",
    "print(\"B^TA^T : \\n{}\\n\".format(np.dot(matrix_B.transpose(),matrix_A.transpose())))"
   ]
  },
  {
   "cell_type": "markdown",
   "metadata": {},
   "source": [
    " "
   ]
  },
  {
   "cell_type": "markdown",
   "metadata": {},
   "source": [
    "**역행렬(inverse matrix)**: 어떤 행렬의 곱셈에 대한 **역원** 행렬을 의미합니다. (**역원**: 두 원소를 연산한 결과가 항등원일 때, 한 편에 대하여 다른 편을 의미함)\n",
    "\n",
    "$AB = C$ 식을 행렬 $B$에 대해서 정리를 하고 싶을 때, 행렬의 나눗셈은 존재하지 않기에 역행렬을 곱하여 정리 할 수 있습니다.\n",
    "\n",
    "$A$에 대한 역행렬은 $A^{-1}$으로 표현하기에 행렬 B에 대한 정리를 하자면, $B = A^{-1} C$와 같이 정리 할 수 있습니다.\n",
    "\n",
    "역행렬을 구하는 일반적인 방법은 아래와 같습니다."
   ]
  },
  {
   "cell_type": "markdown",
   "metadata": {},
   "source": [
    "##### 역행렬 정의\n",
    "\n",
    "> $$A^{-1}=(\\frac{ 1}{\\det(A)}) adj(A)$$"
   ]
  },
  {
   "cell_type": "markdown",
   "metadata": {},
   "source": [
    "$det(A)$은 행렬 $A$에 대한 determinant 값을 의미하며 $adj(A)$는 adjugate 행렬을 의미합니다.\n",
    "\n",
    "이들에 대한 자세한 설명은 너무 길어지기에 링크로 대신하겠습니다.\n",
    "\n",
    "- determinant 값 참고 링크(한글) : https://ko.wikipedia.org/wiki/%ED%96%89%EB%A0%AC%EC%8B%9D\n",
    "- adjugate 행렬 참고 링크(한글) : https://ko.wikipedia.org/wiki/%EA%B3%A0%EC%A0%84%EC%A0%81_%EC%88%98%EB%B0%98_%ED%96%89%EB%A0%AC\n",
    "\n",
    "역행렬은 항상 존재 하는 것은 아니며 이를 확인하기 위해서는 $\\det(A)\\neq 0$을 확인해야합니다.\n",
    "\n",
    "아래 코드를 수행하며 행렬 $A$의 역행렬과 $det(A)$을 구해봅시다."
   ]
  },
  {
   "cell_type": "markdown",
   "metadata": {},
   "source": [
    " "
   ]
  },
  {
   "cell_type": "markdown",
   "metadata": {},
   "source": [
    "##### <예제 7> 역행렬 구하기"
   ]
  },
  {
   "cell_type": "markdown",
   "metadata": {},
   "source": [
    "numpy 함수를 사용하여 역행렬은 `.linalg.inv()`, determinant는 `.linalg.det()`으로 구할 수 있습니다."
   ]
  },
  {
   "cell_type": "code",
   "execution_count": 21,
   "metadata": {
    "scrolled": true
   },
   "outputs": [
    {
     "name": "stdout",
     "output_type": "stream",
     "text": [
      "역행렬 A: \n",
      "[[0.    0.25 ]\n",
      " [0.5   0.125]]\n",
      "\n",
      "determinant of A: \n",
      "-7.999999999999998\n",
      "\n",
      "determinant of B: \n",
      "0.0\n",
      "\n"
     ]
    }
   ],
   "source": [
    "matrix_A = np.array([[-1, 2],[4, 0]])\n",
    "matrix_B = np.array([[-1, 2],[1, -2]])\n",
    "\n",
    "print(\"역행렬 A: \\n{}\\n\".format(np.linalg.inv(matrix_A)))\n",
    "print(\"determinant of A: \\n{}\\n\".format(np.linalg.det(matrix_A)))\n",
    "print(\"determinant of B: \\n{}\\n\".format(np.linalg.det(matrix_B)))"
   ]
  },
  {
   "cell_type": "markdown",
   "metadata": {},
   "source": [
    " "
   ]
  },
  {
   "cell_type": "markdown",
   "metadata": {},
   "source": [
    "$mxm$  행렬 $𝐴$와 $𝐵$, 스칼라 값 $𝑐$에 대해서 역행렬은 다음과 같은 성질을 만족합니다."
   ]
  },
  {
   "cell_type": "markdown",
   "metadata": {},
   "source": [
    "##### 역행렬의 성질\n",
    "\n",
    "> $$(A^{-1})^{-1}=A$$\n",
    "\n",
    "> $$(cA)^{-1}=\\frac{ 1}{c}A^{-1}$$\n",
    "\n",
    "> $$(AB)^{-1}=B^{-1}A^{-1}$$"
   ]
  },
  {
   "cell_type": "markdown",
   "metadata": {},
   "source": [
    "아래 코드를 수행하며 역행렬의 성질이 만족하는 것을 확인해 봅시다."
   ]
  },
  {
   "cell_type": "markdown",
   "metadata": {},
   "source": [
    " "
   ]
  },
  {
   "cell_type": "markdown",
   "metadata": {},
   "source": [
    "##### <예제 8> 역행렬의 성질"
   ]
  },
  {
   "cell_type": "code",
   "execution_count": 22,
   "metadata": {},
   "outputs": [
    {
     "name": "stdout",
     "output_type": "stream",
     "text": [
      "(A^-1)^-1: \n",
      "[[-1.  2.]\n",
      " [ 4.  0.]]\n",
      "\n",
      "A: \n",
      "[[-1  2]\n",
      " [ 4  0]]\n",
      "\n",
      "(c*A)^-1: \n",
      "[[0.     0.125 ]\n",
      " [0.25   0.0625]]\n",
      "\n",
      "1/c*(A)^-1: \n",
      "[[0.     0.125 ]\n",
      " [0.25   0.0625]]\n",
      "\n",
      "(AB)^-1: \n",
      "[[-1.    -1.   ]\n",
      " [-0.5   -0.375]]\n",
      "\n",
      "B^-1A^-1: \n",
      "[[11.  8.]\n",
      " [ 4.  3.]]\n",
      "\n"
     ]
    }
   ],
   "source": [
    "matrix_A = np.array([[-1, 2],[4, 0]])\n",
    "matrix_B = np.array([[-1, 2],[1, -3]])\n",
    "c=2\n",
    "\n",
    "print(\"(A^-1)^-1: \\n{}\\n\".format(np.linalg.inv(np.linalg.inv(matrix_A))))\n",
    "print(\"A: \\n{}\\n\".format(matrix_A))\n",
    "print(\"(c*A)^-1: \\n{}\\n\".format(np.linalg.inv(c*matrix_A)))\n",
    "print(\"1/c*(A)^-1: \\n{}\\n\".format(1/c*np.linalg.inv(matrix_A)))\n",
    "print(\"(AB)^-1: \\n{}\\n\".format(np.linalg.inv(np.dot(matrix_A,matrix_B))))\n",
    "print(\"B^-1A^-1: \\n{}\\n\".format(np.dot(np.linalg.inv(matrix_B),np.linalg.inv(matrix_B))))"
   ]
  },
  {
   "cell_type": "markdown",
   "metadata": {},
   "source": [
    "---"
   ]
  }
 ],
 "metadata": {
  "kernelspec": {
   "display_name": "Python 3",
   "language": "python",
   "name": "python3"
  },
  "language_info": {
   "codemirror_mode": {
    "name": "ipython",
    "version": 3
   },
   "file_extension": ".py",
   "mimetype": "text/x-python",
   "name": "python",
   "nbconvert_exporter": "python",
   "pygments_lexer": "ipython3",
   "version": "3.6.9"
  },
  "toc": {
   "base_numbering": 1,
   "nav_menu": {},
   "number_sections": false,
   "sideBar": true,
   "skip_h1_title": false,
   "title_cell": "Table of Contents",
   "title_sidebar": "Contents",
   "toc_cell": false,
   "toc_position": {},
   "toc_section_display": true,
   "toc_window_display": true
  },
  "varInspector": {
   "cols": {
    "lenName": 16,
    "lenType": 16,
    "lenVar": 40
   },
   "kernels_config": {
    "python": {
     "delete_cmd_postfix": "",
     "delete_cmd_prefix": "del ",
     "library": "var_list.py",
     "varRefreshCmd": "print(var_dic_list())"
    },
    "r": {
     "delete_cmd_postfix": ") ",
     "delete_cmd_prefix": "rm(",
     "library": "var_list.r",
     "varRefreshCmd": "cat(var_dic_list()) "
    }
   },
   "types_to_exclude": [
    "module",
    "function",
    "builtin_function_or_method",
    "instance",
    "_Feature"
   ],
   "window_display": false
  }
 },
 "nbformat": 4,
 "nbformat_minor": 4
}
