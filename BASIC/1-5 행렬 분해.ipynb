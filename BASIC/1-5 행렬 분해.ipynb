{
 "cells": [
  {
   "cell_type": "markdown",
   "metadata": {},
   "source": [
    "# 1. 머신러닝을 위한 선형 대수학"
   ]
  },
  {
   "cell_type": "markdown",
   "metadata": {},
   "source": [
    "---"
   ]
  },
  {
   "cell_type": "markdown",
   "metadata": {},
   "source": [
    "## 학습 목표\n",
    "- 행렬과 벡터를 다루는 선형 대수학의 개념을 학습합니다.\n",
    "- 학습한 수학 공식들을 코드로 계산하는 방법을 학습합니다."
   ]
  },
  {
   "cell_type": "markdown",
   "metadata": {},
   "source": [
    "---"
   ]
  },
  {
   "cell_type": "markdown",
   "metadata": {},
   "source": [
    "## 목차"
   ]
  },
  {
   "cell_type": "markdown",
   "metadata": {},
   "source": [
    "### 3. 벡터 공간과 차원\n",
    "1. 기저와 벡터 공간\n",
    "2. 랭크와 차원\n",
    "\n",
    "### 4. 선형 변환과 고유값\n",
    "1. 선형 변환 \n",
    "2. 고유값, 고유벡터\n",
    "\n",
    "### 5. 행렬 분해\n",
    "1. 고유 분해\n",
    "2. 특이값 분해"
   ]
  },
  {
   "cell_type": "markdown",
   "metadata": {},
   "source": [
    "---"
   ]
  },
  {
   "cell_type": "markdown",
   "metadata": {},
   "source": [
    "## 5. 행렬 분해"
   ]
  },
  {
   "cell_type": "markdown",
   "metadata": {},
   "source": [
    "### 5-1. 고유 값 분해"
   ]
  },
  {
   "cell_type": "markdown",
   "metadata": {},
   "source": [
    "고유 값과 고유 벡터를 활용할 수 있는 기법 중 가장 자주 쓰이는 것이 **고유 값 분해(eigen value decomposition)**입니다.\n",
    "\n",
    "크기가 (2,2) 행렬 $A$에 대해서 고유 값이 2개 존재 한다면 아래 수식을 만족합니다."
   ]
  },
  {
   "cell_type": "markdown",
   "metadata": {},
   "source": [
    "##### 2개의 고유값을 갖는 A\n",
    "\n",
    "> $$Av_{1}=\\lambda_{1} v_{1}$$\n",
    "\n",
    "> $$Av_{2}=\\lambda_{2} v_{2}$$"
   ]
  },
  {
   "cell_type": "markdown",
   "metadata": {},
   "source": [
    "만얀 위의 두 방정식을 합쳐보면 어떨까요?"
   ]
  },
  {
   "cell_type": "markdown",
   "metadata": {},
   "source": [
    "##### 두 고유 벡터를 사용한 행렬 방정식\n",
    "\n",
    "> $$\\begin{aligned}\n",
    "A[v_{1},v_{2}]&=[\\lambda_{1} v_{1}, \\lambda_{2} v_{2}]\\\\\n",
    "A[v_{1},v_{2}]&=[v_{1},v_{2}]\\begin{bmatrix}\n",
    "\\lambda_{1} & 0  \\\\ \n",
    "0 & \\lambda_{2} \n",
    "\\end{bmatrix} \\\\\n",
    "AV&=V\\Lambda\n",
    "\\end{aligned}$$\n",
    "\n",
    "##### V, Lambda\n",
    "\n",
    "> $$V=[v_{1},v_{2}], \\;\\; \\Lambda = \\begin{bmatrix}\n",
    "\\lambda_{1} & 0  \\\\ \n",
    "0 & \\lambda_{2} \n",
    "\\end{bmatrix}$$"
   ]
  },
  {
   "cell_type": "markdown",
   "metadata": {},
   "source": [
    "다시 이를 행렬 $A$에 대해서 정리하면 아래와 같습니다."
   ]
  },
  {
   "cell_type": "markdown",
   "metadata": {},
   "source": [
    "##### 행렬 A의 고유값 분해\n",
    "\n",
    "> $$A=V\\Lambda V^{-1}$$"
   ]
  },
  {
   "cell_type": "markdown",
   "metadata": {},
   "source": [
    "위 형태를 행렬 $A$를 고유 벡터들의 행렬인 $V$와 고유 값을 대각 성분으로 가지고 있는 $\\Lambda$ 대각 행렬(diagonal matrix)를 사용하여 \"고유값 분해했다\"라고 합니다."
   ]
  },
  {
   "cell_type": "markdown",
   "metadata": {},
   "source": [
    "이렇게 분해한 행렬은 어떤 장점을 가질까요?\n",
    "\n",
    "가장 대표적인 응용으로 행렬의 제곱 계산을 뽑을 수 있습니다.\n",
    "\n",
    "일반적으로 행렬 곱셈을 이용하여 행렬 $A$의 제곱을 하기 위해선 각 column 벡터와 row 벡터의 내적을 계산해야 합니다."
   ]
  },
  {
   "cell_type": "markdown",
   "metadata": {},
   "source": [
    "##### A^2 계산\n",
    "\n",
    "> $$\\begin{aligned}\n",
    "A^{2}&=AA \\\\\n",
    "&=\\begin{bmatrix}\n",
    "a_{1,1} & a_{1,2} & \\cdots & a_{1,N}  \\\\ \n",
    "a_{2,1} & a_{2,2} & \\cdots & a_{2,N}  \\\\ \n",
    "\\vdots & \\cdots & \\cdots & \\vdots  \\\\ \n",
    "a_{N,1} & a_{N,2} & \\cdots & a_{N,N}  \\\\ \n",
    "\\end{bmatrix}\\begin{bmatrix}\n",
    "a_{1,1} & a_{1,2} & \\cdots & a_{1,N}  \\\\ \n",
    "a_{2,1} & a_{2,2} & \\cdots & a_{2,N}  \\\\ \n",
    "\\vdots & \\cdots & \\cdots & \\vdots  \\\\ \n",
    "a_{N,1} & a_{N,2} & \\cdots & a_{N,N}  \\\\ \n",
    "\\end{bmatrix}\\\\\n",
    "&=\\begin{bmatrix}\n",
    "row_{1}*col_{1} & row_{1}*col_{2} & \\cdots & row_{1}*col_{N}  \\\\ \n",
    "row_{2}*col_{1} & row_{2}*col_{2} & \\cdots & row_{2}*col_{N}  \\\\ \n",
    "\\vdots & \\cdots & \\cdots & \\vdots  \\\\ \n",
    "row_{N}*col_{1} & row_{N}*col_{2} & \\cdots & row_{N}*col_{N}  \\\\ \n",
    "\\end{bmatrix}\n",
    "\\end{aligned}$$\n",
    "\n",
    "##### A 행렬의 다양한 형태\n",
    "\n",
    "> $$A=\\begin{bmatrix}\n",
    "row_{1}  \\\\ \n",
    "row_{2}  \\\\ \n",
    "\\vdots   \\\\ \n",
    "row_{N}  \\\\ \n",
    "\\end{bmatrix}, \\;\\; row_{i}=[a_{i,1},a_{i,2},\\cdots, a_{i,N}],\\;\\;$$\n",
    "\n",
    ">$$A=[col_{1}, col_{2}, \\cdots ,col_{N}], \\;\\; col_{i}=\\begin{bmatrix}\n",
    "a_{1,i}  \\\\ \n",
    "a_{2,i}  \\\\ \n",
    "\\vdots  \\\\ \n",
    "a_{N,i}  \\\\ \n",
    "\\end{bmatrix}$$"
   ]
  },
  {
   "cell_type": "markdown",
   "metadata": {},
   "source": [
    "반면에, 행렬 분해를 사용하면 아래와 같이 계산이 가능해집니다."
   ]
  },
  {
   "cell_type": "markdown",
   "metadata": {},
   "source": [
    "##### 행렬 분해를 사용한 A^2 계산\n",
    "\n",
    "> $$\\begin{aligned}\n",
    "A^{2}&=V\\Lambda V^{-1}V\\Lambda V^{-1}\\\\\n",
    "&= V\\Lambda^{2} V^{-1}\n",
    "\\end{aligned}$$"
   ]
  },
  {
   "cell_type": "markdown",
   "metadata": {},
   "source": [
    "제곱의 경우에는 계산량에서 큰 차이가 없을 수 있지만, n제곱에 대해서 생각하면 얘기가 달라집니다."
   ]
  },
  {
   "cell_type": "markdown",
   "metadata": {},
   "source": [
    "##### A^n 계산\n",
    "\n",
    "> $$A^{n} = V\\Lambda^{n} V^{-1}$$"
   ]
  },
  {
   "cell_type": "markdown",
   "metadata": {},
   "source": [
    "위 수식처럼 n제곱의 경우에는 $\\Lambda^{n}$만 달라지게 되므로 매우 빠른 계산이 가능합니다. \n",
    "\n",
    "이러한 제곱 계산량의 완화는 선형 방정식을 푸는데 있어서 계산량을 대폭 줄여 줄 수 있습니다.\n",
    "\n",
    "제곱 계산 이외에도 행렬의 주성분 분석에도 매우 중요한 역할을 하며, 행렬을 이해하는데 매우 중요한 툴로 사용됩니다.\n",
    "\n",
    "실질적인 응용법은 비지도 학습의 차원 축소 기법을 학습하며 다시 설명하도록 하겠습니다."
   ]
  },
  {
   "cell_type": "markdown",
   "metadata": {},
   "source": [
    " "
   ]
  },
  {
   "cell_type": "markdown",
   "metadata": {},
   "source": [
    "##### <예제 1> 행렬 분해 계산"
   ]
  },
  {
   "cell_type": "markdown",
   "metadata": {},
   "source": [
    "파이썬 코드에서는 행렬 분해를 사용하기 위해서 `numpy.linal.svd`(singular vector decomposition)을 사용합니다.\n",
    "\n",
    "**svd(특이 값 분해)**는 고유 값 분해의 일반화 된 분해 방법이라고 생각하면 됩니다. \n",
    "\n",
    "`numpy.linal.svd(A) = A_l_v, A_diag, A_r_v` svd는 크기가 (n,n)인 행렬 A에 대해서 좌 특이 행렬인 `A_l_v`, 특이 값 행렬 `A_diag`, 우 특이 행렬 `A_r_v`을 출력합니다.\n",
    "\n",
    "- `A_l_v`은 고유 값 분해에서 $V$에 대한 행렬로 n개의 고유 벡터가 column 벡터로 이루어짐\n",
    "\n",
    "- `A_r_v`은 고유 값 분해에서 $V^{-1}$에 대한 행렬로 `A_l_v`의 역행렬로 이루어짐\n",
    "\n",
    "- `A_diag`은 고유 값 분해에서 $\\Lambda$에 해당되는 행렬이지만 대각 행렬로 정의 되지 않고 n개의 고유 값이 저장된 벡터형태로 출력됨\n",
    "\n",
    "- `A_diag`의 i번째 고유 값의 해당되는 고유 벡터는 `A_l_v`의 i번째 column 벡터, `A_r_v`의 i번째 row 벡터에 해당됨."
   ]
  },
  {
   "cell_type": "code",
   "execution_count": 13,
   "metadata": {
    "scrolled": true
   },
   "outputs": [
    {
     "name": "stdout",
     "output_type": "stream",
     "text": [
      "eigen value of A: \n",
      "[3.16227766 0.        ]\n",
      "\n",
      "left eigen vector of A: \n",
      "[[-0.89442719  0.4472136 ]\n",
      " [ 0.4472136   0.89442719]]\n",
      "\n",
      "right eigen vector of A: \n",
      "[[-0.70710678  0.70710678]\n",
      " [ 0.70710678  0.70710678]]\n",
      "\n",
      "eigen value of B: \n",
      "[3.         1.73205081 1.73205081]\n",
      "\n",
      "left eigen vector of B: \n",
      "[[ 5.77350269e-01  7.07106781e-01 -4.08248290e-01]\n",
      " [-5.77350269e-01  1.11022302e-16 -8.16496581e-01]\n",
      " [-5.77350269e-01  7.07106781e-01  4.08248290e-01]]\n",
      "\n",
      "right eigen vector of B: \n",
      "[[ 0.57735027 -0.57735027 -0.57735027]\n",
      " [ 0.81649658  0.40824829  0.40824829]\n",
      " [-0.          0.70710678 -0.70710678]]\n",
      "\n"
     ]
    }
   ],
   "source": [
    "# 고유 값 분해를 위한 행렬 A, B\n",
    "A = np.array([[2,-2],[-1,1]])\n",
    "B = np.array([[2,-1,0],[-1,0,2],[0, 2, 1]])\n",
    "origin = [0], [0] # origin point\n",
    "\n",
    "# 고유 값 분해 계산\n",
    "A_l_v, A_diag, A_r_v = np.linalg.svd(A)\n",
    "B_l_v, B_diag, B_r_v = np.linalg.svd(B)\n",
    "\n",
    "# A의 고유 값 출력\n",
    "print(\"eigen value of A: \\n{}\\n\".format(A_diag))\n",
    "# A의 좌 고유 벡터 출력\n",
    "print(\"left eigen vector of A: \\n{}\\n\".format(A_l_v))\n",
    "# A의 우 고유 벡터 출력\n",
    "print(\"right eigen vector of A: \\n{}\\n\".format(A_r_v))\n",
    "\n",
    "# B의 고유 값 출력\n",
    "print(\"eigen value of B: \\n{}\\n\".format(B_diag))\n",
    "# B의 좌 고유 벡터 출력\n",
    "print(\"left eigen vector of B: \\n{}\\n\".format(B_l_v))\n",
    "# B의 우 고유 벡터 출력\n",
    "print(\"right eigen vector of B: \\n{}\\n\".format(B_r_v))\n"
   ]
  },
  {
   "cell_type": "code",
   "execution_count": 3,
   "metadata": {
    "ExecuteTime": {
     "end_time": "2020-07-08T07:09:09.978931Z",
     "start_time": "2020-07-08T07:09:09.962938Z"
    },
    "scrolled": true
   },
   "outputs": [
    {
     "name": "stdout",
     "output_type": "stream",
     "text": [
      "[3. 0.] [[ 0.89442719  0.70710678]\n",
      " [-0.4472136   0.70710678]]\n"
     ]
    },
    {
     "data": {
      "text/plain": [
       "array([[ 2., -2.],\n",
       "       [-1.,  1.]])"
      ]
     },
     "execution_count": 3,
     "metadata": {},
     "output_type": "execute_result"
    }
   ],
   "source": [
    "A = np.array([[2,-2],[-1,1]])\n",
    "\n",
    "A_eig_val, A_eig_vec = np.linalg.eig(A)\n",
    "\n",
    "\n",
    "np.dot(A_eig_val*A_eig_vec, np.linalg.inv(A_eig_vec))"
   ]
  },
  {
   "cell_type": "markdown",
   "metadata": {},
   "source": [
    "---"
   ]
  }
 ],
 "metadata": {
  "kernelspec": {
   "display_name": "Python 3",
   "language": "python",
   "name": "python3"
  },
  "language_info": {
   "codemirror_mode": {
    "name": "ipython",
    "version": 3
   },
   "file_extension": ".py",
   "mimetype": "text/x-python",
   "name": "python",
   "nbconvert_exporter": "python",
   "pygments_lexer": "ipython3",
   "version": "3.6.9"
  },
  "toc": {
   "base_numbering": 1,
   "nav_menu": {},
   "number_sections": false,
   "sideBar": true,
   "skip_h1_title": false,
   "title_cell": "Table of Contents",
   "title_sidebar": "Contents",
   "toc_cell": false,
   "toc_position": {},
   "toc_section_display": true,
   "toc_window_display": true
  },
  "varInspector": {
   "cols": {
    "lenName": 16,
    "lenType": 16,
    "lenVar": 40
   },
   "kernels_config": {
    "python": {
     "delete_cmd_postfix": "",
     "delete_cmd_prefix": "del ",
     "library": "var_list.py",
     "varRefreshCmd": "print(var_dic_list())"
    },
    "r": {
     "delete_cmd_postfix": ") ",
     "delete_cmd_prefix": "rm(",
     "library": "var_list.r",
     "varRefreshCmd": "cat(var_dic_list()) "
    }
   },
   "types_to_exclude": [
    "module",
    "function",
    "builtin_function_or_method",
    "instance",
    "_Feature"
   ],
   "window_display": false
  }
 },
 "nbformat": 4,
 "nbformat_minor": 4
}
