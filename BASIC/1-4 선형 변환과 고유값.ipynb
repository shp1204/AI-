{
 "cells": [
  {
   "cell_type": "markdown",
   "metadata": {},
   "source": [
    "# 1. 머신러닝을 위한 선형 대수학"
   ]
  },
  {
   "cell_type": "markdown",
   "metadata": {},
   "source": [
    "---"
   ]
  },
  {
   "cell_type": "markdown",
   "metadata": {},
   "source": [
    "## 학습 목표\n",
    "- 행렬과 벡터를 다루는 선형 대수학의 개념을 학습합니다.\n",
    "- 학습한 수학 공식들을 코드로 계산하는 방법을 학습합니다."
   ]
  },
  {
   "cell_type": "markdown",
   "metadata": {},
   "source": [
    "---"
   ]
  },
  {
   "cell_type": "markdown",
   "metadata": {},
   "source": [
    "## 목차"
   ]
  },
  {
   "cell_type": "markdown",
   "metadata": {},
   "source": [
    "### 3. 벡터 공간과 차원\n",
    "1. 기저와 벡터 공간\n",
    "2. 랭크와 차원\n",
    "\n",
    "### 4. 선형 변환과 고유값\n",
    "1. 선형 변환 \n",
    "2. 고유값, 고유벡터\n",
    "\n",
    "### 5. 행렬 분해\n",
    "1. 고유 분해\n",
    "2. 특이값 분해"
   ]
  },
  {
   "cell_type": "markdown",
   "metadata": {},
   "source": [
    "---"
   ]
  },
  {
   "cell_type": "markdown",
   "metadata": {},
   "source": [
    "## 4. 선형 변환과 고유값"
   ]
  },
  {
   "cell_type": "markdown",
   "metadata": {},
   "source": [
    "### 4-1. 선형 변환"
   ]
  },
  {
   "cell_type": "markdown",
   "metadata": {},
   "source": [
    "**선형 변환(linear transformation)**: 선형 변환은 선형 결합을 보존하면서 어떠한 벡터 $a$를 다른 벡터 $b$로 변환하는 함수 $L()$를 의미합니다. $(L(a)=b)$\n",
    "\n",
    "$v, w$라는 벡터와 임의의 상수 $c$에 대해서 선형 변환 $L()$은 다음과 같은 성질을 가지고 있습니다."
   ]
  },
  {
   "cell_type": "markdown",
   "metadata": {},
   "source": [
    "##### 선형 변환의 성질\n",
    "\n",
    "> $$L(v+w)=L(v)+L(w)$$\n",
    "\n",
    "> $$L(cv)=cL(v)\\;\\;$$"
   ]
  },
  {
   "cell_type": "markdown",
   "metadata": {},
   "source": [
    "예를 들어 [1,1] 벡터가 있다면 이를 반대 방향으로 바꿔주는 선형 변환 함수 $L_{1}()$이 있다면 아래와 같이 변환시킬 수 있습니다."
   ]
  },
  {
   "cell_type": "markdown",
   "metadata": {},
   "source": [
    "##### 선형 변환 함수 예\n",
    "\n",
    "> $$L_{1}([1,1])=[-1,-1]$$"
   ]
  },
  {
   "cell_type": "markdown",
   "metadata": {},
   "source": [
    "위 선형 변환 함수 $L_{1}()$은 행렬 곱의 형태로 나타내여 질 수 있습니다."
   ]
  },
  {
   "cell_type": "markdown",
   "metadata": {},
   "source": [
    "##### 선형 변환 함수의 행렬 표현\n",
    "\n",
    "> $$L([1,1])= A[1,1]^{T} = \\begin{bmatrix}\n",
    "-1 & 0  \\\\ \n",
    "0 & -1  \\\\ \n",
    "\\end{bmatrix}\\begin{bmatrix}\n",
    "1  \\\\ \n",
    "1  \\\\ \n",
    "\\end{bmatrix} = \\begin{bmatrix}\n",
    "-1  \\\\ \n",
    "-1  \\\\ \n",
    "\\end{bmatrix}$$"
   ]
  },
  {
   "cell_type": "markdown",
   "metadata": {},
   "source": [
    "이러한 선형 변환에 사용되는 행렬 $A$는 어떤 특징을 가지고 있는지 알아보기 위해서 몇 가지 벡터 값을 더 넣어 봅시다."
   ]
  },
  {
   "cell_type": "markdown",
   "metadata": {},
   "source": [
    "##### A의 특징\n",
    "\n",
    "> $$L([-2,3])= A[-2,3]^{T} = \\begin{bmatrix}\n",
    "-1 & 0  \\\\ \n",
    "0 & -1  \\\\ \n",
    "\\end{bmatrix}\\begin{bmatrix}\n",
    "-2  \\\\ \n",
    "3  \\\\ \n",
    "\\end{bmatrix} = \\begin{bmatrix}\n",
    "2  \\\\ \n",
    "-3  \\\\ \n",
    "\\end{bmatrix}$$\n",
    "\n",
    "> $$L([0,-1])= A[0,-1]^{T} = \\begin{bmatrix}\n",
    "-1 & 0  \\\\ \n",
    "0 & -1  \\\\ \n",
    "\\end{bmatrix}\\begin{bmatrix}\n",
    "0 \\\\ \n",
    "-1 \\\\ \n",
    "\\end{bmatrix} = \\begin{bmatrix}\n",
    "0 \\\\ \n",
    "1  \\\\ \n",
    "\\end{bmatrix}$$"
   ]
  },
  {
   "cell_type": "markdown",
   "metadata": {},
   "source": [
    "위 값들을 통해 입력 값의 음의부호(-)가 붙은 벡터가 출력됨을 알 수 있습니다. \n",
    "\n",
    "이를 2차원 평면에서 출력하면 아래와 같습니다."
   ]
  },
  {
   "cell_type": "markdown",
   "metadata": {},
   "source": [
    " "
   ]
  },
  {
   "cell_type": "markdown",
   "metadata": {},
   "source": [
    "##### <예제 1> 선형 변환"
   ]
  },
  {
   "cell_type": "code",
   "execution_count": 1,
   "metadata": {
    "ExecuteTime": {
     "end_time": "2020-07-08T06:50:47.291240Z",
     "start_time": "2020-07-08T06:50:45.935279Z"
    },
    "scrolled": true
   },
   "outputs": [
    {
     "data": {
      "image/png": "[encoded data removed]",
      "text/plain": [
       "<Figure size 432x288 with 1 Axes>"
      ]
     },
     "metadata": {
      "needs_background": "light"
     },
     "output_type": "display_data"
    }
   ],
   "source": [
    "import matplotlib.pyplot as plt\n",
    "import numpy as np\n",
    "\n",
    "x1 = np.array([1,1])\n",
    "x2 = np.array([-2,3])\n",
    "x3 = np.array([0,1])\n",
    "\n",
    "# 선형 변환 함수 행렬 A 정의\n",
    "A = np.array([[-1,0],[0,-1]])\n",
    "origin = [0], [0] # origin point\n",
    "\n",
    "# 선형 변환 후 벡터\n",
    "Ax1 = np.dot(A,x1.reshape((-1,1)))\n",
    "Ax2 = np.dot(A,x2.reshape((-1,1)))\n",
    "Ax3 = np.dot(A,x3.reshape((-1,1)))\n",
    "\n",
    "\n",
    "\"\"\"\n",
    "붉은선은 x1 벡터와 변환된 Ax1 벡터,\n",
    "파란선은 x2 벡터와 변환된 Ax2 벡터,\n",
    "초록선은 x3 벡터와 변환된 Ax3 벡터를 의미함\n",
    "\"\"\"\n",
    "plt.scatter(*origin, s=200, c='k')\n",
    "plt.quiver(*origin, [x1[0],x2[0],x3[0]], [x1[1],x2[1],x3[1]], color=['r','b','g'], angles='xy', scale_units='xy',scale=1)\n",
    "plt.quiver(*origin, [Ax1[0],Ax2[0],Ax3[0]], [Ax1[1],Ax2[1],Ax3[1]], color=['r','b','g'], angles='xy', scale_units='xy',scale=1)\n",
    "plt.axis([-4,4,-4,4])\n",
    "plt.grid(True)\n",
    "plt.show()"
   ]
  },
  {
   "cell_type": "markdown",
   "metadata": {},
   "source": [
    "위 그림에서 볼 수 있는 것과 같이 원점을 기준으로 입력 벡터는 점대칭으로 변환되었습니다.\n",
    "\n",
    "따라서 행렬 $A$를 사용한 선형 변환은 [0,0]을 기준으로 입력된 벡터를 점대칭을 해주는 기능을 갖는 함수라 생각할 수 있습니다.\n",
    "\n",
    "이러한 대칭 이동 이외에도 행렬 $A$의 성분을 조정하면 다양한 변환 방식을 사용할 수 있습니다. \n",
    "\n",
    "머신러닝에서는 3차원 배열로 만들어진 사진 데이터를 다루기 쉬운 1차원 데이터로 변환하는 다양한 인코딩 과정으로 사용되며, 머신러닝 모델의 선형 방정식을 푸는 과정으로도 선형 변환이 활용됩니다."
   ]
  },
  {
   "cell_type": "markdown",
   "metadata": {},
   "source": [
    " "
   ]
  },
  {
   "cell_type": "markdown",
   "metadata": {},
   "source": [
    "### 4-2. 고유 값 & 고유 벡터"
   ]
  },
  {
   "cell_type": "markdown",
   "metadata": {},
   "source": [
    "특정 벡터는 선형 변환을 해도 그 방향이 변하지 않는 경우가 있습니다. "
   ]
  },
  {
   "cell_type": "markdown",
   "metadata": {},
   "source": [
    "아래 예를 살펴 봅시다."
   ]
  },
  {
   "cell_type": "code",
   "execution_count": 2,
   "metadata": {
    "ExecuteTime": {
     "end_time": "2020-07-08T06:52:51.709666Z",
     "start_time": "2020-07-08T06:52:51.436478Z"
    },
    "scrolled": true
   },
   "outputs": [
    {
     "data": {
      "image/png": "[encoded data removed]",
      "text/plain": [
       "<Figure size 432x288 with 1 Axes>"
      ]
     },
     "metadata": {
      "needs_background": "light"
     },
     "output_type": "display_data"
    }
   ],
   "source": [
    "# 선현 변환을 할 벡터 x1, x2 설정\n",
    "x1 = np.array([-1,1])\n",
    "x2 = np.array([0.89442719, -0.4472136])\n",
    "\n",
    "# 선형 변환 벡터 A 설정\n",
    "A = np.array([[2,-2],[-1,1]])\n",
    "origin = [0], [0] # origin point\n",
    "\n",
    "# 선형 변환 계산\n",
    "Ax1 = np.dot(A,x1.reshape((-1,1)))\n",
    "Ax2 = np.dot(A,x2.reshape((-1,1)))\n",
    "\n",
    "\"\"\"\n",
    "붉은선은 x1 벡터와 변환된 Ax1 벡터,\n",
    "파란선은 x2 벡터와 변환된 Ax2 벡터를 의미함\n",
    "\"\"\"\n",
    "plt.quiver(*origin, [x1[0],x2[0]], [x1[1],x2[1]], color=['r','b'], angles='xy', scale_units='xy',scale=1)\n",
    "plt.quiver(*origin, [Ax1[0],Ax2[0]], [Ax1[1],Ax2[1]], color=['r','b'], angles='xy', scale_units='xy',scale=1)\n",
    "plt.axis([-5,5,-5,5])\n",
    "plt.grid(True)\n",
    "plt.show()"
   ]
  },
  {
   "cell_type": "markdown",
   "metadata": {},
   "source": [
    "`x1` 벡터는 선형 변환 행렬 $A$에 의해서 그 크기와 방향이 변화했습니다.\n",
    "\n",
    "하지만 `x2` 벡터의 경우는 방향은 변하지 않고 크기만 변한 것을 확인할 수 있습니다.\n",
    "\n",
    "`x2` 벡터의 방향 이외의 벡터를 넣어보면 모두가 방향이 변할 것입니다. (예제의 x1 벡터의 값을 바꿔 실습해보세요.)\n",
    "\n",
    "이러한 특수한 벡터를 우리는 선형 변환 행렬 $A$의 고유 특징이라 의미하여 고유 벡터(eigen vector)라고 합니다.\n",
    "\n",
    "이를 수식으로 나타내면 아래와 같습니다."
   ]
  },
  {
   "cell_type": "markdown",
   "metadata": {},
   "source": [
    "##### 고유 벡터\n",
    "\n",
    "> $$Av=\\lambda v$$"
   ]
  },
  {
   "cell_type": "markdown",
   "metadata": {},
   "source": [
    "$v$는 고유 벡터를 의미하며 일반적으로 크기가 column의 크기가 1인 column 벡터 형태로 정의합니다.\n",
    "\n",
    "$\\lambda$는 변화한 크기 값을 의미하며 고유 값(eigen value)이라고 부릅니다. \n",
    "\n",
    "이러한 고유 값과 고유 벡터는 몇 가지 중요한 특징을 갖습니다.\n",
    "\n",
    "1. 행렬 $A$의 차원 수 만큼의 서로 다른 고유 벡터가 존재\n",
    "2. 고유 벡터와 고유 값은 서로 쌍으로 존재\n",
    "3. 고유 벡터들은 서로 수직\n",
    "\n",
    "아래 예를 통하여 파이썬에서 고유 값과 고유 벡터를 어떻게 구할 수 있는지 알아 봅시다."
   ]
  },
  {
   "cell_type": "markdown",
   "metadata": {},
   "source": [
    " "
   ]
  },
  {
   "cell_type": "markdown",
   "metadata": {},
   "source": [
    "##### <예제 1> 고유 벡터 계산"
   ]
  },
  {
   "cell_type": "markdown",
   "metadata": {},
   "source": [
    "`numpy.linalg.eig(A) = A_eig_val, A_eig_vec`: 크기가 (m,n)인 행렬 A의 고유 값 `A_eig_val`과 고유 벡터 `A_eig_vec`를 출력\n",
    "\n",
    "- `A_eig_val`: (n,1) 크기의 numpy 배열이며 각 성분들은 고유 값을 의미함.\n",
    "\n",
    "- `A_eig_vec`: (n,n) 크기의 numpy 배열이며 각 column 벡터는 고유 벡터를 의미함. \n",
    "\n",
    "- `A_eig_val`의 i번째 고유 값의 해당되는 고유 벡터는 `A_eig_vec`의 i번째 column 벡터에 해당됨."
   ]
  },
  {
   "cell_type": "code",
   "execution_count": 3,
   "metadata": {
    "ExecuteTime": {
     "end_time": "2020-07-08T06:58:51.478360Z",
     "start_time": "2020-07-08T06:58:51.454340Z"
    }
   },
   "outputs": [
    {
     "name": "stdout",
     "output_type": "stream",
     "text": [
      "eigen value of A: \n",
      "[3. 0.]\n",
      "\n",
      "eigen vector of A: \n",
      "[[ 0.89442719  0.70710678]\n",
      " [-0.4472136   0.70710678]]\n",
      "\n",
      "A * 1st eigen vector of A: \n",
      "[ 2.68328157 -1.34164079]\n",
      "\n",
      "1st A_eig_val * 1st eigen vector of A: \n",
      "[ 2.68328157 -1.34164079]\n",
      "\n",
      "eigen value of B: \n",
      "[-1.73205081  1.73205081  3.        ]\n",
      "\n",
      "eigen vector of B: \n",
      "[[ 0.21132487 -0.78867513 -0.57735027]\n",
      " [ 0.78867513 -0.21132487  0.57735027]\n",
      " [-0.57735027 -0.57735027  0.57735027]]\n",
      "\n",
      "B * 1st eigen vector of B: \n",
      "[-0.3660254 -1.3660254  1.       ]\n",
      "\n",
      "1st B_eig_val * 1st eigen vector of B: \n",
      "[-0.3660254 -1.3660254  1.       ]\n",
      "\n"
     ]
    }
   ],
   "source": [
    "# 고유값, 고유 벡터 계산에 사용될 행렬 A, B 정의\n",
    "A = np.array([[2,-2],[-1,1]])\n",
    "B = np.array([[2,-1,0],[-1,0,2],[0, 2, 1]])\n",
    "origin = [0], [0] # origin point\n",
    "\n",
    "# 고유값, 고유 벡터 계산\n",
    "A_eig_val, A_eig_vec = np.linalg.eig(A)\n",
    "B_eig_val, B_eig_vec = np.linalg.eig(B)\n",
    "\n",
    "# A의 고유 값 출력\n",
    "print(\"eigen value of A: \\n{}\\n\".format(A_eig_val))\n",
    "# A의 고유 벡터 출력\n",
    "print(\"eigen vector of A: \\n{}\\n\".format(A_eig_vec))\n",
    "# A와 첫 번째 고유 벡터의 행렬 곱 출력 :  Av_1\n",
    "print(\"A * 1st eigen vector of A: \\n{}\\n\".format(np.dot(A,A_eig_vec[:,0])))\n",
    "# 첫 번째 고유 값과 고유 벡터의 곱 출력 :  lambda*v_1\n",
    "print(\"1st A_eig_val * 1st eigen vector of A: \\n{}\\n\".format(A_eig_val[0]*A_eig_vec[:,0]))\n",
    "\n",
    "# B의 고유 값 출력\n",
    "print(\"eigen value of B: \\n{}\\n\".format(B_eig_val))\n",
    "# B의 고유 벡터 출력\n",
    "print(\"eigen vector of B: \\n{}\\n\".format(B_eig_vec))\n",
    "# B와 첫 번째 고유 벡터의 행렬 곱 출력 :  Bv_1\n",
    "print(\"B * 1st eigen vector of B: \\n{}\\n\".format(np.dot(B,B_eig_vec[:,0])))\n",
    "# 첫 번째 고유 값과 고유 벡터의 곱 출력 :  lambda*v_1\n",
    "print(\"1st B_eig_val * 1st eigen vector of B: \\n{}\\n\".format(B_eig_val[0]*B_eig_vec[:,0]))"
   ]
  },
  {
   "cell_type": "markdown",
   "metadata": {},
   "source": [
    "`np.linalg.eig`로 구한 고유 벡터는 그 크기가 1이 되도록 nomalization한 상태로 출력됩니다."
   ]
  },
  {
   "cell_type": "markdown",
   "metadata": {},
   "source": [
    " "
   ]
  },
  {
   "cell_type": "markdown",
   "metadata": {},
   "source": [
    "**머신러닝과 연관점**"
   ]
  },
  {
   "cell_type": "markdown",
   "metadata": {},
   "source": [
    "그럼 고유 벡터와 고유 값은 머신러닝과는 무슨 관계가 있을까요?\n",
    "\n",
    "선형 변환에서 언급했던 것처럼 우리는 머신러닝을 수행하면서 데이터를 행렬로 사용할 일이 많아 질 것입니다.\n",
    "\n",
    "이러한 행렬의 값을 테이블로 봤을 땐, 데이터 간의 어떤 특성 또는 패턴으로 이루어졌는지 알기 어렵습니다.\n",
    "\n",
    "하지만 고유 값과 고유 벡터를 분석하게 되면 데이터 행렬의 특성을 보다 쉽게 알 수 있는 지표를 구할 수 있습니다.\n",
    "\n",
    "이러한 지표는 비지도 학습 기법 중 대표적인 주성분분석(PCA)과 같은 기술로 확장되어 사용됩니다.\n",
    "\n",
    "또한, PCA 기법뿐만 아니라 행렬 분해, 스펙트럼 정리등 행렬의 다양한 응용 기술에 핵심적인 개념으로 사용됩니다."
   ]
  },
  {
   "cell_type": "markdown",
   "metadata": {},
   "source": [
    " ---"
   ]
  }
 ],
 "metadata": {
  "kernelspec": {
   "display_name": "Python 3",
   "language": "python",
   "name": "python3"
  },
  "language_info": {
   "codemirror_mode": {
    "name": "ipython",
    "version": 3
   },
   "file_extension": ".py",
   "mimetype": "text/x-python",
   "name": "python",
   "nbconvert_exporter": "python",
   "pygments_lexer": "ipython3",
   "version": "3.6.9"
  },
  "toc": {
   "base_numbering": 1,
   "nav_menu": {},
   "number_sections": false,
   "sideBar": true,
   "skip_h1_title": false,
   "title_cell": "Table of Contents",
   "title_sidebar": "Contents",
   "toc_cell": false,
   "toc_position": {
    "height": "calc(100% - 180px)",
    "left": "10px",
    "top": "150px",
    "width": "165px"
   },
   "toc_section_display": true,
   "toc_window_display": true
  },
  "varInspector": {
   "cols": {
    "lenName": 16,
    "lenType": 16,
    "lenVar": 40
   },
   "kernels_config": {
    "python": {
     "delete_cmd_postfix": "",
     "delete_cmd_prefix": "del ",
     "library": "var_list.py",
     "varRefreshCmd": "print(var_dic_list())"
    },
    "r": {
     "delete_cmd_postfix": ") ",
     "delete_cmd_prefix": "rm(",
     "library": "var_list.r",
     "varRefreshCmd": "cat(var_dic_list()) "
    }
   },
   "types_to_exclude": [
    "module",
    "function",
    "builtin_function_or_method",
    "instance",
    "_Feature"
   ],
   "window_display": false
  }
 },
 "nbformat": 4,
 "nbformat_minor": 4
}
