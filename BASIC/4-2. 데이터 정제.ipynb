{
 "cells": [
  {
   "cell_type": "markdown",
   "metadata": {},
   "source": [
    "# 3. 머신러닝 프로젝트 진행과정"
   ]
  },
  {
   "cell_type": "markdown",
   "metadata": {},
   "source": [
    "---"
   ]
  },
  {
   "cell_type": "markdown",
   "metadata": {},
   "source": [
    "## 학습 목표\n",
    "- 머신러닝 프로젝트 수행하기 위해서 그 진행 과정을 학습합니다.\n",
    "- 머신러닝 모델 선택에 앞서 데이터를 분석하고 정제하는 방법을 학습합니다."
   ]
  },
  {
   "cell_type": "markdown",
   "metadata": {},
   "source": [
    "---"
   ]
  },
  {
   "cell_type": "markdown",
   "metadata": {},
   "source": [
    "## 목차"
   ]
  },
  {
   "cell_type": "markdown",
   "metadata": {},
   "source": [
    "### 2. 탐색적 데이터 분석\n",
    "1. 데이터 확인\n",
    "2. 데이터 정제\n",
    "3. 특성 엔지니어링\n",
    "4. 상관 관계 분석\n"
   ]
  },
  {
   "cell_type": "markdown",
   "metadata": {},
   "source": [
    "---"
   ]
  },
  {
   "cell_type": "markdown",
   "metadata": {},
   "source": [
    "### 2-2. 데이터 정제"
   ]
  },
  {
   "cell_type": "markdown",
   "metadata": {},
   "source": [
    "데이터 정제는 Raw 데이터 확인 과정에서 누락된 데이터나 이상치 데이터를 정리하는 과정을 의미합니다."
   ]
  },
  {
   "cell_type": "markdown",
   "metadata": {},
   "source": [
    " "
   ]
  },
  {
   "cell_type": "markdown",
   "metadata": {},
   "source": [
    "#### 결측값 처리"
   ]
  },
  {
   "cell_type": "markdown",
   "metadata": {},
   "source": [
    "우선 누락된 데이터(missing data)인 결측값을 어떻게 처리해야 하는지 알아봅시다.\n",
    "\n",
    "아래의 코드를 실행하면 각 변수 별로 존재하는 결측값의 개수를 알 수 있습니다."
   ]
  },
  {
   "cell_type": "code",
   "execution_count": 1,
   "metadata": {
    "ExecuteTime": {
     "end_time": "2020-07-08T08:07:53.653237Z",
     "start_time": "2020-07-08T08:07:52.468399Z"
    }
   },
   "outputs": [
    {
     "data": {
      "text/html": [
       "<div>\n",
       "<style scoped>\n",
       "    .dataframe tbody tr th:only-of-type {\n",
       "        vertical-align: middle;\n",
       "    }\n",
       "\n",
       "    .dataframe tbody tr th {\n",
       "        vertical-align: top;\n",
       "    }\n",
       "\n",
       "    .dataframe thead th {\n",
       "        text-align: right;\n",
       "    }\n",
       "</style>\n",
       "<table border=\"1\" class=\"dataframe\">\n",
       "  <thead>\n",
       "    <tr style=\"text-align: right;\">\n",
       "      <th></th>\n",
       "      <th>PassengerId</th>\n",
       "      <th>Survived</th>\n",
       "      <th>Pclass</th>\n",
       "      <th>Name</th>\n",
       "      <th>Sex</th>\n",
       "      <th>Age</th>\n",
       "      <th>SibSp</th>\n",
       "      <th>Parch</th>\n",
       "      <th>Ticket</th>\n",
       "      <th>Fare</th>\n",
       "      <th>Cabin</th>\n",
       "      <th>Embarked</th>\n",
       "    </tr>\n",
       "  </thead>\n",
       "  <tbody>\n",
       "    <tr>\n",
       "      <th>0</th>\n",
       "      <td>1</td>\n",
       "      <td>0</td>\n",
       "      <td>3</td>\n",
       "      <td>Braund, Mr. Owen Harris</td>\n",
       "      <td>male</td>\n",
       "      <td>22.0</td>\n",
       "      <td>1</td>\n",
       "      <td>0</td>\n",
       "      <td>A/5 21171</td>\n",
       "      <td>7.2500</td>\n",
       "      <td>NaN</td>\n",
       "      <td>S</td>\n",
       "    </tr>\n",
       "    <tr>\n",
       "      <th>1</th>\n",
       "      <td>2</td>\n",
       "      <td>1</td>\n",
       "      <td>1</td>\n",
       "      <td>Cumings, Mrs. John Bradley (Florence Briggs Th...</td>\n",
       "      <td>female</td>\n",
       "      <td>38.0</td>\n",
       "      <td>1</td>\n",
       "      <td>0</td>\n",
       "      <td>PC 17599</td>\n",
       "      <td>71.2833</td>\n",
       "      <td>C85</td>\n",
       "      <td>C</td>\n",
       "    </tr>\n",
       "    <tr>\n",
       "      <th>2</th>\n",
       "      <td>3</td>\n",
       "      <td>1</td>\n",
       "      <td>3</td>\n",
       "      <td>Heikkinen, Miss. Laina</td>\n",
       "      <td>female</td>\n",
       "      <td>26.0</td>\n",
       "      <td>0</td>\n",
       "      <td>0</td>\n",
       "      <td>STON/O2. 3101282</td>\n",
       "      <td>7.9250</td>\n",
       "      <td>NaN</td>\n",
       "      <td>S</td>\n",
       "    </tr>\n",
       "    <tr>\n",
       "      <th>3</th>\n",
       "      <td>4</td>\n",
       "      <td>1</td>\n",
       "      <td>1</td>\n",
       "      <td>Futrelle, Mrs. Jacques Heath (Lily May Peel)</td>\n",
       "      <td>female</td>\n",
       "      <td>35.0</td>\n",
       "      <td>1</td>\n",
       "      <td>0</td>\n",
       "      <td>113803</td>\n",
       "      <td>53.1000</td>\n",
       "      <td>C123</td>\n",
       "      <td>S</td>\n",
       "    </tr>\n",
       "    <tr>\n",
       "      <th>4</th>\n",
       "      <td>5</td>\n",
       "      <td>0</td>\n",
       "      <td>3</td>\n",
       "      <td>Allen, Mr. William Henry</td>\n",
       "      <td>male</td>\n",
       "      <td>35.0</td>\n",
       "      <td>0</td>\n",
       "      <td>0</td>\n",
       "      <td>373450</td>\n",
       "      <td>8.0500</td>\n",
       "      <td>NaN</td>\n",
       "      <td>S</td>\n",
       "    </tr>\n",
       "  </tbody>\n",
       "</table>\n",
       "</div>"
      ],
      "text/plain": [
       "   PassengerId  Survived  Pclass  \\\n",
       "0            1         0       3   \n",
       "1            2         1       1   \n",
       "2            3         1       3   \n",
       "3            4         1       1   \n",
       "4            5         0       3   \n",
       "\n",
       "                                                Name     Sex   Age  SibSp  \\\n",
       "0                            Braund, Mr. Owen Harris    male  22.0      1   \n",
       "1  Cumings, Mrs. John Bradley (Florence Briggs Th...  female  38.0      1   \n",
       "2                             Heikkinen, Miss. Laina  female  26.0      0   \n",
       "3       Futrelle, Mrs. Jacques Heath (Lily May Peel)  female  35.0      1   \n",
       "4                           Allen, Mr. William Henry    male  35.0      0   \n",
       "\n",
       "   Parch            Ticket     Fare Cabin Embarked  \n",
       "0      0         A/5 21171   7.2500   NaN        S  \n",
       "1      0          PC 17599  71.2833   C85        C  \n",
       "2      0  STON/O2. 3101282   7.9250   NaN        S  \n",
       "3      0            113803  53.1000  C123        S  \n",
       "4      0            373450   8.0500   NaN        S  "
      ]
     },
     "execution_count": 1,
     "metadata": {},
     "output_type": "execute_result"
    }
   ],
   "source": [
    "import pandas as pd\n",
    "\n",
    "titanic = pd.read_csv('./train.csv')\n",
    "\n",
    "titanic.head()"
   ]
  },
  {
   "cell_type": "code",
   "execution_count": 2,
   "metadata": {
    "ExecuteTime": {
     "end_time": "2020-07-08T08:07:56.365165Z",
     "start_time": "2020-07-08T08:07:56.352173Z"
    }
   },
   "outputs": [
    {
     "data": {
      "text/plain": [
       "PassengerId      0\n",
       "Survived         0\n",
       "Pclass           0\n",
       "Name             0\n",
       "Sex              0\n",
       "Age            177\n",
       "SibSp            0\n",
       "Parch            0\n",
       "Ticket           0\n",
       "Fare             0\n",
       "Cabin          687\n",
       "Embarked         2\n",
       "dtype: int64"
      ]
     },
     "execution_count": 2,
     "metadata": {},
     "output_type": "execute_result"
    }
   ],
   "source": [
    "titanic.isnull().sum()"
   ]
  },
  {
   "cell_type": "markdown",
   "metadata": {},
   "source": [
    "이렇게 결측값이 존재하는 상태로 모델을 만들게 될 경우, 변수 간의 관계가 왜곡될 수 있기 때문에 모델의 정확성이 떨어지게 됩니다.\n",
    "\n",
    "따라서 아래와 같은 방법으로 결측값을 처리합니다."
   ]
  },
  {
   "cell_type": "markdown",
   "metadata": {},
   "source": [
    " "
   ]
  },
  {
   "cell_type": "markdown",
   "metadata": {},
   "source": [
    "**삭제**"
   ]
  },
  {
   "cell_type": "markdown",
   "metadata": {},
   "source": [
    "삭제 방식으로는 결측값이 발생한 변수를 삭제하는 **전체 삭제**와 결측값이 발생한 관측치가 있다면 다른 변수에 값이 존재하더라고 그 인덱스 행에 해당되는 데이터를 모두 삭제하는 **부분 삭제** 방식이 있습니다."
   ]
  },
  {
   "cell_type": "markdown",
   "metadata": {},
   "source": [
    "**전체 삭제 예**"
   ]
  },
  {
   "cell_type": "markdown",
   "metadata": {},
   "source": [
    "전체 삭제는 결측값이 있는 변수를 제거하는 것을 의미합니다.\n",
    "\n",
    "`Cabin`의 경우 과반수 이상의 데이터가 손실되어 있기에 데이터로서의 유의미한 정보를 가지고 있다고 보기 어렵습니다.\n",
    "\n",
    "아래 코드를 통하여 `Cabin` 변수의 데이터를 삭제합니다."
   ]
  },
  {
   "cell_type": "code",
   "execution_count": 3,
   "metadata": {
    "ExecuteTime": {
     "end_time": "2020-07-08T08:08:01.530835Z",
     "start_time": "2020-07-08T08:08:01.504817Z"
    }
   },
   "outputs": [
    {
     "data": {
      "text/html": [
       "<div>\n",
       "<style scoped>\n",
       "    .dataframe tbody tr th:only-of-type {\n",
       "        vertical-align: middle;\n",
       "    }\n",
       "\n",
       "    .dataframe tbody tr th {\n",
       "        vertical-align: top;\n",
       "    }\n",
       "\n",
       "    .dataframe thead th {\n",
       "        text-align: right;\n",
       "    }\n",
       "</style>\n",
       "<table border=\"1\" class=\"dataframe\">\n",
       "  <thead>\n",
       "    <tr style=\"text-align: right;\">\n",
       "      <th></th>\n",
       "      <th>PassengerId</th>\n",
       "      <th>Survived</th>\n",
       "      <th>Pclass</th>\n",
       "      <th>Name</th>\n",
       "      <th>Sex</th>\n",
       "      <th>Age</th>\n",
       "      <th>SibSp</th>\n",
       "      <th>Parch</th>\n",
       "      <th>Ticket</th>\n",
       "      <th>Fare</th>\n",
       "      <th>Embarked</th>\n",
       "    </tr>\n",
       "  </thead>\n",
       "  <tbody>\n",
       "    <tr>\n",
       "      <th>0</th>\n",
       "      <td>1</td>\n",
       "      <td>0</td>\n",
       "      <td>3</td>\n",
       "      <td>Braund, Mr. Owen Harris</td>\n",
       "      <td>male</td>\n",
       "      <td>22.0</td>\n",
       "      <td>1</td>\n",
       "      <td>0</td>\n",
       "      <td>A/5 21171</td>\n",
       "      <td>7.2500</td>\n",
       "      <td>S</td>\n",
       "    </tr>\n",
       "    <tr>\n",
       "      <th>1</th>\n",
       "      <td>2</td>\n",
       "      <td>1</td>\n",
       "      <td>1</td>\n",
       "      <td>Cumings, Mrs. John Bradley (Florence Briggs Th...</td>\n",
       "      <td>female</td>\n",
       "      <td>38.0</td>\n",
       "      <td>1</td>\n",
       "      <td>0</td>\n",
       "      <td>PC 17599</td>\n",
       "      <td>71.2833</td>\n",
       "      <td>C</td>\n",
       "    </tr>\n",
       "    <tr>\n",
       "      <th>2</th>\n",
       "      <td>3</td>\n",
       "      <td>1</td>\n",
       "      <td>3</td>\n",
       "      <td>Heikkinen, Miss. Laina</td>\n",
       "      <td>female</td>\n",
       "      <td>26.0</td>\n",
       "      <td>0</td>\n",
       "      <td>0</td>\n",
       "      <td>STON/O2. 3101282</td>\n",
       "      <td>7.9250</td>\n",
       "      <td>S</td>\n",
       "    </tr>\n",
       "    <tr>\n",
       "      <th>3</th>\n",
       "      <td>4</td>\n",
       "      <td>1</td>\n",
       "      <td>1</td>\n",
       "      <td>Futrelle, Mrs. Jacques Heath (Lily May Peel)</td>\n",
       "      <td>female</td>\n",
       "      <td>35.0</td>\n",
       "      <td>1</td>\n",
       "      <td>0</td>\n",
       "      <td>113803</td>\n",
       "      <td>53.1000</td>\n",
       "      <td>S</td>\n",
       "    </tr>\n",
       "    <tr>\n",
       "      <th>4</th>\n",
       "      <td>5</td>\n",
       "      <td>0</td>\n",
       "      <td>3</td>\n",
       "      <td>Allen, Mr. William Henry</td>\n",
       "      <td>male</td>\n",
       "      <td>35.0</td>\n",
       "      <td>0</td>\n",
       "      <td>0</td>\n",
       "      <td>373450</td>\n",
       "      <td>8.0500</td>\n",
       "      <td>S</td>\n",
       "    </tr>\n",
       "  </tbody>\n",
       "</table>\n",
       "</div>"
      ],
      "text/plain": [
       "   PassengerId  Survived  Pclass  \\\n",
       "0            1         0       3   \n",
       "1            2         1       1   \n",
       "2            3         1       3   \n",
       "3            4         1       1   \n",
       "4            5         0       3   \n",
       "\n",
       "                                                Name     Sex   Age  SibSp  \\\n",
       "0                            Braund, Mr. Owen Harris    male  22.0      1   \n",
       "1  Cumings, Mrs. John Bradley (Florence Briggs Th...  female  38.0      1   \n",
       "2                             Heikkinen, Miss. Laina  female  26.0      0   \n",
       "3       Futrelle, Mrs. Jacques Heath (Lily May Peel)  female  35.0      1   \n",
       "4                           Allen, Mr. William Henry    male  35.0      0   \n",
       "\n",
       "   Parch            Ticket     Fare Embarked  \n",
       "0      0         A/5 21171   7.2500        S  \n",
       "1      0          PC 17599  71.2833        C  \n",
       "2      0  STON/O2. 3101282   7.9250        S  \n",
       "3      0            113803  53.1000        S  \n",
       "4      0            373450   8.0500        S  "
      ]
     },
     "execution_count": 3,
     "metadata": {},
     "output_type": "execute_result"
    }
   ],
   "source": [
    "titanic.drop(['Cabin'], axis='columns', inplace=True)\n",
    "\n",
    "titanic.head()"
   ]
  },
  {
   "cell_type": "code",
   "execution_count": 4,
   "metadata": {
    "ExecuteTime": {
     "end_time": "2020-07-08T08:08:04.288796Z",
     "start_time": "2020-07-08T08:08:04.276788Z"
    }
   },
   "outputs": [
    {
     "data": {
      "text/plain": [
       "PassengerId      0\n",
       "Survived         0\n",
       "Pclass           0\n",
       "Name             0\n",
       "Sex              0\n",
       "Age            177\n",
       "SibSp            0\n",
       "Parch            0\n",
       "Ticket           0\n",
       "Fare             0\n",
       "Embarked         2\n",
       "dtype: int64"
      ]
     },
     "execution_count": 4,
     "metadata": {},
     "output_type": "execute_result"
    }
   ],
   "source": [
    "titanic.isnull().sum()"
   ]
  },
  {
   "cell_type": "code",
   "execution_count": 5,
   "metadata": {
    "ExecuteTime": {
     "end_time": "2020-07-08T08:08:06.442327Z",
     "start_time": "2020-07-08T08:08:06.436323Z"
    }
   },
   "outputs": [
    {
     "data": {
      "text/plain": [
       "(891, 11)"
      ]
     },
     "execution_count": 5,
     "metadata": {},
     "output_type": "execute_result"
    }
   ],
   "source": [
    "titanic.shape"
   ]
  },
  {
   "cell_type": "markdown",
   "metadata": {},
   "source": [
    "`inplace=True`는 새로운 정보로 업데이트 하고 싶을 때 사용합니다.\n",
    "\n",
    "예를 들어, Cabin 변수를 제거한 데이터를 titanic 이라는 객체 그대로에 저장하는 경우를 의미합니다.\n",
    "\n",
    "`inplace=True` 를 설정하지 않는다면 또 다른 변수에 데이터를 저장해야 합니다."
   ]
  },
  {
   "cell_type": "markdown",
   "metadata": {},
   "source": [
    " "
   ]
  },
  {
   "cell_type": "markdown",
   "metadata": {},
   "source": [
    "**부분 삭제 예**"
   ]
  },
  {
   "cell_type": "markdown",
   "metadata": {},
   "source": [
    "전체 데이터 수가 891개 인데 `Age`의 데이터가 177개 결측되었다고 `Age` 변수 자체를 제거하기엔 삭제하기엔 정보 손실이 너무 클 수 있습니다.\n",
    "\n",
    "이 경우 결측값이 생긴 데이터의 행을 부분적으로 삭제하는 방법을 사용하여 처리합니다.\n",
    "\n",
    "아래 코드를 실행하면 자동으로 결측값이 있는 행렬을 삭제합니다."
   ]
  },
  {
   "cell_type": "code",
   "execution_count": 6,
   "metadata": {
    "ExecuteTime": {
     "end_time": "2020-07-08T08:10:13.397555Z",
     "start_time": "2020-07-08T08:10:13.384545Z"
    }
   },
   "outputs": [],
   "source": [
    "del_titanic = titanic.dropna()"
   ]
  },
  {
   "cell_type": "code",
   "execution_count": 7,
   "metadata": {
    "ExecuteTime": {
     "end_time": "2020-07-08T08:10:15.555088Z",
     "start_time": "2020-07-08T08:10:15.544099Z"
    }
   },
   "outputs": [
    {
     "data": {
      "text/plain": [
       "PassengerId    0\n",
       "Survived       0\n",
       "Pclass         0\n",
       "Name           0\n",
       "Sex            0\n",
       "Age            0\n",
       "SibSp          0\n",
       "Parch          0\n",
       "Ticket         0\n",
       "Fare           0\n",
       "Embarked       0\n",
       "dtype: int64"
      ]
     },
     "execution_count": 7,
     "metadata": {},
     "output_type": "execute_result"
    }
   ],
   "source": [
    "del_titanic.isnull().sum()"
   ]
  },
  {
   "cell_type": "code",
   "execution_count": 8,
   "metadata": {
    "ExecuteTime": {
     "end_time": "2020-07-08T08:10:18.433133Z",
     "start_time": "2020-07-08T08:10:18.420129Z"
    }
   },
   "outputs": [
    {
     "name": "stdout",
     "output_type": "stream",
     "text": [
      "<class 'pandas.core.frame.DataFrame'>\n",
      "Int64Index: 712 entries, 0 to 890\n",
      "Data columns (total 11 columns):\n",
      "PassengerId    712 non-null int64\n",
      "Survived       712 non-null int64\n",
      "Pclass         712 non-null int64\n",
      "Name           712 non-null object\n",
      "Sex            712 non-null object\n",
      "Age            712 non-null float64\n",
      "SibSp          712 non-null int64\n",
      "Parch          712 non-null int64\n",
      "Ticket         712 non-null object\n",
      "Fare           712 non-null float64\n",
      "Embarked       712 non-null object\n",
      "dtypes: float64(2), int64(5), object(4)\n",
      "memory usage: 66.8+ KB\n"
     ]
    }
   ],
   "source": [
    "del_titanic.info()"
   ]
  },
  {
   "cell_type": "markdown",
   "metadata": {},
   "source": [
    "모든 변수에 대해서 결측값이 존재하는 행이 제거되어 712개의 데이터가 남았으나 데이터의 index는 여전히 0 to 890 입니다."
   ]
  },
  {
   "cell_type": "markdown",
   "metadata": {},
   "source": [
    " "
   ]
  },
  {
   "cell_type": "markdown",
   "metadata": {},
   "source": [
    "**다른 값으로 대체**"
   ]
  },
  {
   "cell_type": "markdown",
   "metadata": {},
   "source": [
    "결측값이 발생한 경우 다른 관측치의 평균, 최빈값, 중간값 등으로 대체할 수 있습니다.\n",
    "\n",
    "일반적으로 데이터의 개수가 적어 삭제보다 다른 값으로 대체해야 할 때 이러한 방법을 사용합니다.\n",
    "\n",
    "대체 방법으로는 모든 관측치를 일괄적으로 대체하는 **일괄 대체**와 범주형 변수를 활용하여 유사한 유형의 평균값 등으로 대체하는 **유사유형 대체**가 있습니다."
   ]
  },
  {
   "cell_type": "markdown",
   "metadata": {},
   "source": [
    " "
   ]
  },
  {
   "cell_type": "markdown",
   "metadata": {},
   "source": [
    "**일괄 대체**"
   ]
  },
  {
   "cell_type": "markdown",
   "metadata": {},
   "source": [
    "대체 방법 중, 일괄 대체는 결측값을 특정값으로 일괄 대체하는 것을 의미합니다.\n",
    "\n",
    "특정값으로는 해당 변수의 데이터 분포를 보고 평균값이나 중간값 등을 선정하여 대체하게 됩니다."
   ]
  },
  {
   "cell_type": "code",
   "execution_count": 9,
   "metadata": {
    "ExecuteTime": {
     "end_time": "2020-07-08T08:11:00.762217Z",
     "start_time": "2020-07-08T08:11:00.750209Z"
    }
   },
   "outputs": [],
   "source": [
    "rep_titanic = titanic\n",
    "rep_titanic['Age'] = titanic['Age'].fillna(titanic['Age'].mean()) # 평균값으로 대체\n",
    "# rep_titanic['Age'] = titanic['Age'].fillna(titanic['Age'].median()) # 중간값으로 대체"
   ]
  },
  {
   "cell_type": "code",
   "execution_count": 10,
   "metadata": {
    "ExecuteTime": {
     "end_time": "2020-07-08T08:11:02.850702Z",
     "start_time": "2020-07-08T08:11:02.835695Z"
    },
    "scrolled": true
   },
   "outputs": [
    {
     "name": "stdout",
     "output_type": "stream",
     "text": [
      "<class 'pandas.core.frame.DataFrame'>\n",
      "RangeIndex: 891 entries, 0 to 890\n",
      "Data columns (total 11 columns):\n",
      "PassengerId    891 non-null int64\n",
      "Survived       891 non-null int64\n",
      "Pclass         891 non-null int64\n",
      "Name           891 non-null object\n",
      "Sex            891 non-null object\n",
      "Age            891 non-null float64\n",
      "SibSp          891 non-null int64\n",
      "Parch          891 non-null int64\n",
      "Ticket         891 non-null object\n",
      "Fare           891 non-null float64\n",
      "Embarked       889 non-null object\n",
      "dtypes: float64(2), int64(5), object(4)\n",
      "memory usage: 76.7+ KB\n"
     ]
    }
   ],
   "source": [
    "rep_titanic.info()"
   ]
  },
  {
   "cell_type": "markdown",
   "metadata": {},
   "source": [
    "위 예처럼 `fillna` 함수를 사용하여 결측값을 대체할 수 있습니다. \n",
    "\n",
    "대체되는 값은 위 코드에서 사용한 평균값, 중간값 혹은 사용자가 선택한 다른 특정값을 사용합니다.\n",
    "\n",
    "`Age` 데이터의 경우 숫자형 데이터이기에 평균값이나 중간값으로 대체가 가능했습니다.\n",
    "\n",
    "하지만 `Embarked`의 경우는 문자형으로 되어 있는 데이터이기에 평균 혹은 중간값으로 대체가 불가능 합니다.\n",
    "\n",
    "변수 확인에서 알 수 있듯이 `Embarked`는 `S, C, Q`값 중에 하나를 갖기에 이중에 하나의 값으로 대체합니다.\n",
    "\n",
    "`S` 데이터가 제일 많았기에 결측값 2개는 다른 값들에 비해서 `S`일 확률이 높을 것이기에 `S`값으로 결측값을 대체합니다. \n",
    "\n",
    "아래와 같은 코드를 수행하여 결측값을 대체합니다."
   ]
  },
  {
   "cell_type": "code",
   "execution_count": 11,
   "metadata": {
    "ExecuteTime": {
     "end_time": "2020-07-08T08:14:04.919100Z",
     "start_time": "2020-07-08T08:14:04.913097Z"
    }
   },
   "outputs": [],
   "source": [
    "rep_titanic['Embarked'] = titanic['Embarked'].fillna('S')"
   ]
  },
  {
   "cell_type": "code",
   "execution_count": 12,
   "metadata": {
    "ExecuteTime": {
     "end_time": "2020-07-08T08:14:06.433176Z",
     "start_time": "2020-07-08T08:14:06.419166Z"
    },
    "scrolled": true
   },
   "outputs": [
    {
     "name": "stdout",
     "output_type": "stream",
     "text": [
      "<class 'pandas.core.frame.DataFrame'>\n",
      "RangeIndex: 891 entries, 0 to 890\n",
      "Data columns (total 11 columns):\n",
      "PassengerId    891 non-null int64\n",
      "Survived       891 non-null int64\n",
      "Pclass         891 non-null int64\n",
      "Name           891 non-null object\n",
      "Sex            891 non-null object\n",
      "Age            891 non-null float64\n",
      "SibSp          891 non-null int64\n",
      "Parch          891 non-null int64\n",
      "Ticket         891 non-null object\n",
      "Fare           891 non-null float64\n",
      "Embarked       891 non-null object\n",
      "dtypes: float64(2), int64(5), object(4)\n",
      "memory usage: 76.7+ KB\n"
     ]
    }
   ],
   "source": [
    "rep_titanic.info()"
   ]
  },
  {
   "cell_type": "markdown",
   "metadata": {},
   "source": [
    "여러 방식으로 대체를 하였지만, 어떤 값을 사용할지는 데이터를 분석하는 주관적 판단에 의해 결정되기에 자칫 의미 없는 값을 사용하게 되면 데이터의 왜곡이 일어날 수 있습니다. \n",
    "\n",
    "따라서 대체 방식은 신중한 판단을 요구합니다."
   ]
  },
  {
   "cell_type": "markdown",
   "metadata": {},
   "source": [
    " "
   ]
  },
  {
   "cell_type": "markdown",
   "metadata": {},
   "source": [
    "**유사 유형 대체 예**"
   ]
  },
  {
   "cell_type": "markdown",
   "metadata": {},
   "source": [
    "일괄적으로 모든 값을 대체하는 것 보단 각 값들에 대해서 예측값으로 대체를 하면 데이터의 신뢰도는 높아질 것입니다.\n",
    "\n",
    "그렇다면 예측값은 어떻게 구할 수 있을까요?\n",
    "\n",
    "바로 머신러닝 기법을 사용하여 구할 수 있습니다.\n",
    "\n",
    "결측값이 있지 않는 다른 데이터들을 머신러닝을 사용해 학습하고 이를 바탕으로 결측값을 예측합니다.\n",
    "\n",
    "일반적으로 연속형 데이터의 경우 회귀방식으로 예측 하고, 이산형 데이터의 경우에는 분류나 클러스터링 방식을 사용하여 결측값을 예측합니다.\n",
    "\n",
    "아직 회귀나 분류, 클러스터링 기법에 대해 배우지 않았기에 이러한 방식으로 대체할 수 있다는 것만 알고 넘어갑시다."
   ]
  },
  {
   "cell_type": "markdown",
   "metadata": {},
   "source": [
    " "
   ]
  },
  {
   "cell_type": "markdown",
   "metadata": {},
   "source": [
    "#### 이상치 처리"
   ]
  },
  {
   "cell_type": "markdown",
   "metadata": {},
   "source": [
    "이상치(outlier)란 데이터/샘플과 동떨어진 관측치로, 머신러닝 모델을 왜곡할 가능성이 있는 관측치를 의미합니다.\n",
    "\n",
    "이상치를 찾아내기 위한 쉽고 간단한 방법은 Raw 데이터 확인 과정에서 시각화된 변수의 분포를 보고 동떨어진 값을 찾는 것입니다.\n",
    "\n",
    "이상치 처리를 수행하기 위해서 우선 정제된 `Age` 변수 데이터를 다시 출력해 봅시다."
   ]
  },
  {
   "cell_type": "code",
   "execution_count": 13,
   "metadata": {
    "ExecuteTime": {
     "end_time": "2020-07-08T08:17:13.073823Z",
     "start_time": "2020-07-08T08:17:12.585478Z"
    },
    "scrolled": true
   },
   "outputs": [
    {
     "data": {
      "image/png": "[encoded data removed]",
      "text/plain": [
       "<Figure size 432x288 with 1 Axes>"
      ]
     },
     "metadata": {
      "needs_background": "light"
     },
     "output_type": "display_data"
    }
   ],
   "source": [
    "boxplot = titanic.boxplot(column = ['Age'])"
   ]
  },
  {
   "cell_type": "markdown",
   "metadata": {},
   "source": [
    "`boxplot`의 25~75% 구간인 박스는 IQR(Inter Quartile Range)라고 부릅니다.\n",
    "\n",
    "25%부분에서 아래로 1.5배 IQR 크기만큼 내려가면 최소값 검은선으로 표시되어 있고, 마찬가지로 75%부분에서 위로 1.5배 IQR 크기만큼 올라가면 최대값이 검은선으로 표시되어 있습니다.\n",
    "\n",
    "이 검은 선을 벗어나는 값들을 우리는 IQR의 범위를 벗어나는 이상치라 표현합니다.\n",
    "\n",
    "이러한 이상치를 눈으로 확인하는 것 뿐만 아니라 실제 값들을 코드를 통해 구하는 방법은 아래와 같습니다."
   ]
  },
  {
   "cell_type": "code",
   "execution_count": 14,
   "metadata": {
    "ExecuteTime": {
     "end_time": "2020-07-08T08:17:18.030344Z",
     "start_time": "2020-07-08T08:17:17.974306Z"
    }
   },
   "outputs": [
    {
     "name": "stdout",
     "output_type": "stream",
     "text": [
      "box_bottom: 22.0\n",
      "\n",
      "box_top: 35.0\n",
      "\n",
      "out_top: \n",
      "     PassengerId  Survived  Pclass  \\\n",
      "11            12         1       1   \n",
      "15            16         1       2   \n",
      "33            34         0       2   \n",
      "54            55         0       1   \n",
      "94            95         0       3   \n",
      "96            97         0       1   \n",
      "116          117         0       3   \n",
      "152          153         0       3   \n",
      "170          171         0       1   \n",
      "174          175         0       1   \n",
      "195          196         1       1   \n",
      "232          233         0       2   \n",
      "252          253         0       1   \n",
      "268          269         1       1   \n",
      "275          276         1       1   \n",
      "280          281         0       3   \n",
      "326          327         0       3   \n",
      "366          367         1       1   \n",
      "438          439         0       1   \n",
      "456          457         0       1   \n",
      "467          468         0       1   \n",
      "483          484         1       3   \n",
      "487          488         0       1   \n",
      "492          493         0       1   \n",
      "493          494         0       1   \n",
      "545          546         0       1   \n",
      "555          556         0       1   \n",
      "570          571         1       2   \n",
      "587          588         1       1   \n",
      "625          626         0       1   \n",
      "626          627         0       2   \n",
      "630          631         1       1   \n",
      "647          648         1       1   \n",
      "659          660         0       1   \n",
      "672          673         0       2   \n",
      "684          685         0       2   \n",
      "694          695         0       1   \n",
      "745          746         0       1   \n",
      "772          773         0       2   \n",
      "829          830         1       1   \n",
      "851          852         0       3   \n",
      "879          880         1       1   \n",
      "\n",
      "                                                 Name     Sex   Age  SibSp  \\\n",
      "11                           Bonnell, Miss. Elizabeth  female  58.0      0   \n",
      "15                   Hewlett, Mrs. (Mary D Kingcome)   female  55.0      0   \n",
      "33                              Wheadon, Mr. Edward H    male  66.0      0   \n",
      "54                     Ostby, Mr. Engelhart Cornelius    male  65.0      0   \n",
      "94                                  Coxon, Mr. Daniel    male  59.0      0   \n",
      "96                          Goldschmidt, Mr. George B    male  71.0      0   \n",
      "116                              Connors, Mr. Patrick    male  70.5      0   \n",
      "152                                  Meo, Mr. Alfonzo    male  55.5      0   \n",
      "170                         Van der hoef, Mr. Wyckoff    male  61.0      0   \n",
      "174                           Smith, Mr. James Clinch    male  56.0      0   \n",
      "195                              Lurette, Miss. Elise  female  58.0      0   \n",
      "232                         Sjostedt, Mr. Ernst Adolf    male  59.0      0   \n",
      "252                         Stead, Mr. William Thomas    male  62.0      0   \n",
      "268     Graham, Mrs. William Thompson (Edith Junkins)  female  58.0      0   \n",
      "275                 Andrews, Miss. Kornelia Theodosia  female  63.0      1   \n",
      "280                                  Duane, Mr. Frank    male  65.0      0   \n",
      "326                         Nysveen, Mr. Johan Hansen    male  61.0      0   \n",
      "366  Warren, Mrs. Frank Manley (Anna Sophia Atkinson)  female  60.0      1   \n",
      "438                                 Fortune, Mr. Mark    male  64.0      1   \n",
      "456                         Millet, Mr. Francis Davis    male  65.0      0   \n",
      "467                        Smart, Mr. John Montgomery    male  56.0      0   \n",
      "483                            Turkula, Mrs. (Hedwig)  female  63.0      0   \n",
      "487                           Kent, Mr. Edward Austin    male  58.0      0   \n",
      "492                        Molson, Mr. Harry Markland    male  55.0      0   \n",
      "493                           Artagaveytia, Mr. Ramon    male  71.0      0   \n",
      "545                      Nicholson, Mr. Arthur Ernest    male  64.0      0   \n",
      "555                                Wright, Mr. George    male  62.0      0   \n",
      "570                                Harris, Mr. George    male  62.0      0   \n",
      "587                  Frolicher-Stehli, Mr. Maxmillian    male  60.0      1   \n",
      "625                             Sutton, Mr. Frederick    male  61.0      0   \n",
      "626                    Kirkland, Rev. Charles Leonard    male  57.0      0   \n",
      "630              Barkworth, Mr. Algernon Henry Wilson    male  80.0      0   \n",
      "647               Simonius-Blumer, Col. Oberst Alfons    male  56.0      0   \n",
      "659                        Newell, Mr. Arthur Webster    male  58.0      0   \n",
      "672                       Mitchell, Mr. Henry Michael    male  70.0      0   \n",
      "684                 Brown, Mr. Thomas William Solomon    male  60.0      1   \n",
      "694                                   Weir, Col. John    male  60.0      0   \n",
      "745                      Crosby, Capt. Edward Gifford    male  70.0      1   \n",
      "772                                 Mack, Mrs. (Mary)  female  57.0      0   \n",
      "829         Stone, Mrs. George Nelson (Martha Evelyn)  female  62.0      0   \n",
      "851                               Svensson, Mr. Johan    male  74.0      0   \n",
      "879     Potter, Mrs. Thomas Jr (Lily Alexenia Wilson)  female  56.0      0   \n",
      "\n",
      "     Parch       Ticket      Fare Embarked  \n",
      "11       0       113783   26.5500        S  \n",
      "15       0       248706   16.0000        S  \n",
      "33       0   C.A. 24579   10.5000        S  \n",
      "54       1       113509   61.9792        C  \n",
      "94       0       364500    7.2500        S  \n",
      "96       0     PC 17754   34.6542        C  \n",
      "116      0       370369    7.7500        Q  \n",
      "152      0   A.5. 11206    8.0500        S  \n",
      "170      0       111240   33.5000        S  \n",
      "174      0        17764   30.6958        C  \n",
      "195      0     PC 17569  146.5208        C  \n",
      "232      0       237442   13.5000        S  \n",
      "252      0       113514   26.5500        S  \n",
      "268      1     PC 17582  153.4625        S  \n",
      "275      0        13502   77.9583        S  \n",
      "280      0       336439    7.7500        Q  \n",
      "326      0       345364    6.2375        S  \n",
      "366      0       110813   75.2500        C  \n",
      "438      4        19950  263.0000        S  \n",
      "456      0        13509   26.5500        S  \n",
      "467      0       113792   26.5500        S  \n",
      "483      0         4134    9.5875        S  \n",
      "487      0        11771   29.7000        C  \n",
      "492      0       113787   30.5000        S  \n",
      "493      0     PC 17609   49.5042        C  \n",
      "545      0          693   26.0000        S  \n",
      "555      0       113807   26.5500        S  \n",
      "570      0  S.W./PP 752   10.5000        S  \n",
      "587      1        13567   79.2000        C  \n",
      "625      0        36963   32.3208        S  \n",
      "626      0       219533   12.3500        Q  \n",
      "630      0        27042   30.0000        S  \n",
      "647      0        13213   35.5000        C  \n",
      "659      2        35273  113.2750        C  \n",
      "672      0   C.A. 24580   10.5000        S  \n",
      "684      1        29750   39.0000        S  \n",
      "694      0       113800   26.5500        S  \n",
      "745      1    WE/P 5735   71.0000        S  \n",
      "772      0  S.O./P.P. 3   10.5000        S  \n",
      "829      0       113572   80.0000        S  \n",
      "851      0       347060    7.7750        S  \n",
      "879      1        11767   83.1583        C  \n",
      "\n",
      "out_bottom: \n",
      "     PassengerId  Survived  Pclass                               Name     Sex  \\\n",
      "7              8         0       3     Palsson, Master. Gosta Leonard    male   \n",
      "16            17         0       3               Rice, Master. Eugene    male   \n",
      "78            79         1       2      Caldwell, Master. Alden Gates    male   \n",
      "119          120         0       3  Andersson, Miss. Ellis Anna Maria  female   \n",
      "164          165         0       3       Panula, Master. Eino Viljami    male   \n",
      "172          173         1       3       Johnson, Miss. Eleanor Ileen  female   \n",
      "183          184         1       2          Becker, Master. Richard F    male   \n",
      "205          206         0       3         Strom, Miss. Telma Matilda  female   \n",
      "297          298         0       1       Allison, Miss. Helen Loraine  female   \n",
      "305          306         1       1     Allison, Master. Hudson Trevor    male   \n",
      "340          341         1       2     Navratil, Master. Edmond Roger    male   \n",
      "381          382         1       3        Nakid, Miss. Maria (\"Mary\")  female   \n",
      "386          387         0       3    Goodwin, Master. Sidney Leonard    male   \n",
      "469          470         1       3      Baclini, Miss. Helene Barbara  female   \n",
      "479          480         1       3           Hirvonen, Miss. Hildur E  female   \n",
      "530          531         1       2           Quick, Miss. Phyllis May  female   \n",
      "642          643         0       3      Skoog, Miss. Margit Elizabeth  female   \n",
      "644          645         1       3             Baclini, Miss. Eugenie  female   \n",
      "755          756         1       2          Hamalainen, Master. Viljo    male   \n",
      "788          789         1       3         Dean, Master. Bertram Vere    male   \n",
      "803          804         1       3    Thomas, Master. Assad Alexander    male   \n",
      "824          825         0       3       Panula, Master. Urho Abraham    male   \n",
      "827          828         1       2              Mallet, Master. Andre    male   \n",
      "831          832         1       2    Richards, Master. George Sibley    male   \n",
      "\n",
      "      Age  SibSp  Parch           Ticket      Fare Embarked  \n",
      "7    2.00      3      1           349909   21.0750        S  \n",
      "16   2.00      4      1           382652   29.1250        Q  \n",
      "78   0.83      0      2           248738   29.0000        S  \n",
      "119  2.00      4      2           347082   31.2750        S  \n",
      "164  1.00      4      1          3101295   39.6875        S  \n",
      "172  1.00      1      1           347742   11.1333        S  \n",
      "183  1.00      2      1           230136   39.0000        S  \n",
      "205  2.00      0      1           347054   10.4625        S  \n",
      "297  2.00      1      2           113781  151.5500        S  \n",
      "305  0.92      1      2           113781  151.5500        S  \n",
      "340  2.00      1      1           230080   26.0000        S  \n",
      "381  1.00      0      2             2653   15.7417        C  \n",
      "386  1.00      5      2          CA 2144   46.9000        S  \n",
      "469  0.75      2      1             2666   19.2583        C  \n",
      "479  2.00      0      1          3101298   12.2875        S  \n",
      "530  2.00      1      1            26360   26.0000        S  \n",
      "642  2.00      3      2           347088   27.9000        S  \n",
      "644  0.75      2      1             2666   19.2583        C  \n",
      "755  0.67      1      1           250649   14.5000        S  \n",
      "788  1.00      1      2        C.A. 2315   20.5750        S  \n",
      "803  0.42      0      1             2625    8.5167        C  \n",
      "824  2.00      4      1          3101295   39.6875        S  \n",
      "827  1.00      0      2  S.C./PARIS 2079   37.0042        C  \n",
      "831  0.83      1      1            29106   18.7500        S  \n"
     ]
    }
   ],
   "source": [
    "box_bottom = titanic['Age'].quantile(.25)\n",
    "box_top = titanic['Age'].quantile(.75)\n",
    "\n",
    "IQR = box_top - box_bottom\n",
    "\n",
    "out_top = titanic[titanic['Age']>box_top+1.5*IQR]\n",
    "out_bottom = titanic[titanic['Age']<box_bottom-1.5*IQR]\n",
    "\n",
    "print(\"box_bottom: {}\\n\".format(box_bottom))\n",
    "print(\"box_top: {}\\n\".format(box_top))\n",
    "print(\"out_top: \\n{}\\n\".format(out_top))\n",
    "print(\"out_bottom: \\n{}\".format(out_bottom))"
   ]
  },
  {
   "cell_type": "markdown",
   "metadata": {},
   "source": [
    "IQR 방식 이외에도 `Z-score`, `Median Absolute Deviation` 방식이 존재하며, 차원축소와 같은 머신러닝 기법을 사용하여 이상치를 해결할 수도 있습니다.\n",
    "\n",
    "또한 도메인 지식을 가진 사람은 직접 변수 확인을 통하여 이상치를 구분할 수도 있습니다.\n",
    "\n",
    "확인한 이상치를 처리하기 위해서 다음과 같은 방법을 사용합니다.\n",
    "\n",
    "- 단순 삭제\n",
    "- 다른 값으로 대체\n",
    "- 변수화"
   ]
  },
  {
   "cell_type": "markdown",
   "metadata": {},
   "source": [
    "**단순 삭제**"
   ]
  },
  {
   "cell_type": "markdown",
   "metadata": {},
   "source": [
    "이상치가 휴먼 에러에 의해서 발생한 경우, 해당 관측치를 삭제합니다.\n",
    "\n",
    "휴먼 에러란 기계의 조작이나 특정한 명령의 수행, 계획 단계에서 사람에 의해 발생하는 실수를 의미합니다. \n",
    "\n",
    "`between`함수를 사용하여 이상치가 아닌 구간을 묶어 새로 저장합니다."
   ]
  },
  {
   "cell_type": "code",
   "execution_count": 15,
   "metadata": {
    "ExecuteTime": {
     "end_time": "2020-07-08T08:17:27.800290Z",
     "start_time": "2020-07-08T08:17:27.792284Z"
    }
   },
   "outputs": [],
   "source": [
    "out_age_del_titanic = titanic[titanic['Age'].between(box_bottom - 1.5 * IQR, box_top + 1.5 * IQR)]"
   ]
  },
  {
   "cell_type": "code",
   "execution_count": 16,
   "metadata": {
    "ExecuteTime": {
     "end_time": "2020-07-08T08:17:29.592563Z",
     "start_time": "2020-07-08T08:17:29.579559Z"
    },
    "scrolled": true
   },
   "outputs": [
    {
     "name": "stdout",
     "output_type": "stream",
     "text": [
      "<class 'pandas.core.frame.DataFrame'>\n",
      "Int64Index: 825 entries, 0 to 890\n",
      "Data columns (total 11 columns):\n",
      "PassengerId    825 non-null int64\n",
      "Survived       825 non-null int64\n",
      "Pclass         825 non-null int64\n",
      "Name           825 non-null object\n",
      "Sex            825 non-null object\n",
      "Age            825 non-null float64\n",
      "SibSp          825 non-null int64\n",
      "Parch          825 non-null int64\n",
      "Ticket         825 non-null object\n",
      "Fare           825 non-null float64\n",
      "Embarked       825 non-null object\n",
      "dtypes: float64(2), int64(5), object(4)\n",
      "memory usage: 77.3+ KB\n"
     ]
    }
   ],
   "source": [
    "out_age_del_titanic.info()"
   ]
  },
  {
   "cell_type": "markdown",
   "metadata": {},
   "source": [
    " "
   ]
  },
  {
   "cell_type": "markdown",
   "metadata": {},
   "source": [
    " "
   ]
  },
  {
   "cell_type": "markdown",
   "metadata": {},
   "source": [
    "**다른 값으로 대체**"
   ]
  },
  {
   "cell_type": "markdown",
   "metadata": {},
   "source": [
    "절대적인 관측치의 숫자가 작은 경우, 삭제의 방법으로 이상치를 제거하면 관측치의 절대량이 작아지는 문제가 발생합니다.\n",
    "\n",
    "이러한 경우 평균값과 같은 다른 특정값으로 대체할 수 있습니다.\n",
    "\n",
    "`Age` 변수의 이상치 값을 평균값을 대체하면 다음과 같습니다."
   ]
  },
  {
   "cell_type": "code",
   "execution_count": 17,
   "metadata": {
    "ExecuteTime": {
     "end_time": "2020-07-08T08:17:45.940181Z",
     "start_time": "2020-07-08T08:17:45.843115Z"
    },
    "scrolled": true
   },
   "outputs": [
    {
     "name": "stdout",
     "output_type": "stream",
     "text": [
      "index: 11  Age: 58.0 -> 29\n",
      "index: 15  Age: 55.0 -> 29\n",
      "index: 33  Age: 66.0 -> 29\n",
      "index: 54  Age: 65.0 -> 29\n",
      "index: 94  Age: 59.0 -> 29\n",
      "index: 96  Age: 71.0 -> 29\n",
      "index: 116  Age: 70.5 -> 29\n",
      "index: 152  Age: 55.5 -> 29\n",
      "index: 170  Age: 61.0 -> 29\n",
      "index: 174  Age: 56.0 -> 29\n",
      "index: 195  Age: 58.0 -> 29\n",
      "index: 232  Age: 59.0 -> 29\n",
      "index: 252  Age: 62.0 -> 29\n",
      "index: 268  Age: 58.0 -> 29\n",
      "index: 275  Age: 63.0 -> 29\n",
      "index: 280  Age: 65.0 -> 29\n",
      "index: 326  Age: 61.0 -> 29\n",
      "index: 366  Age: 60.0 -> 29\n",
      "index: 438  Age: 64.0 -> 29\n",
      "index: 456  Age: 65.0 -> 29\n",
      "index: 467  Age: 56.0 -> 29\n",
      "index: 483  Age: 63.0 -> 29\n",
      "index: 487  Age: 58.0 -> 29\n",
      "index: 492  Age: 55.0 -> 29\n",
      "index: 493  Age: 71.0 -> 29\n",
      "index: 545  Age: 64.0 -> 29\n",
      "index: 555  Age: 62.0 -> 29\n",
      "index: 570  Age: 62.0 -> 29\n",
      "index: 587  Age: 60.0 -> 29\n",
      "index: 625  Age: 61.0 -> 29\n",
      "index: 626  Age: 57.0 -> 29\n",
      "index: 630  Age: 80.0 -> 29\n",
      "index: 647  Age: 56.0 -> 29\n",
      "index: 659  Age: 58.0 -> 29\n",
      "index: 672  Age: 70.0 -> 29\n",
      "index: 684  Age: 60.0 -> 29\n",
      "index: 694  Age: 60.0 -> 29\n",
      "index: 745  Age: 70.0 -> 29\n",
      "index: 772  Age: 57.0 -> 29\n",
      "index: 829  Age: 62.0 -> 29\n",
      "index: 851  Age: 74.0 -> 29\n",
      "index: 879  Age: 56.0 -> 29\n"
     ]
    },
    {
     "name": "stderr",
     "output_type": "stream",
     "text": [
      "C:\\python\\envs\\cpu_env\\lib\\site-packages\\ipykernel_launcher.py:7: SettingWithCopyWarning: \n",
      "A value is trying to be set on a copy of a slice from a DataFrame\n",
      "\n",
      "See the caveats in the documentation: http://pandas.pydata.org/pandas-docs/stable/user_guide/indexing.html#returning-a-view-versus-a-copy\n",
      "  import sys\n"
     ]
    }
   ],
   "source": [
    "# 업데이트할 데이터 프레임 만들기\n",
    "out_age_rep_titanic = titanic\n",
    "\n",
    "# 이상치에 해당되는 인덱스를 뽑아 해당 인덱스에 대체 값 입력\n",
    "for i in out_top['Age'].index:\n",
    "    print(\"index: {}  Age: {} -> {}\".format(i,out_age_rep_titanic['Age'][i],int(out_age_rep_titanic['Age'].mean())))\n",
    "    out_age_rep_titanic.loc[i]['Age'] = int(out_age_rep_titanic['Age'].mean())"
   ]
  },
  {
   "cell_type": "markdown",
   "metadata": {},
   "source": [
    " "
   ]
  },
  {
   "cell_type": "markdown",
   "metadata": {},
   "source": [
    " "
   ]
  },
  {
   "cell_type": "markdown",
   "metadata": {},
   "source": [
    "**변수화**"
   ]
  },
  {
   "cell_type": "markdown",
   "metadata": {},
   "source": [
    "이상치 처리 방법으로 단순 삭제나 대체의 방법 외에도 변수화라는 방법이 존재합니다.\n",
    "\n",
    "이상치가 휴먼 에러에 의해서 생성된 것이 아니라면, 이상치만의 유의미한 정보가 있다고 판단할 수도 있습니다.\n",
    "\n",
    "이 경우, 이상치를 새로운 변수로 구분하여 이상치를 활용할 수 있게 합니다.\n",
    "\n",
    "`Age` 변수의 경우 IQR 방식으로 약 54세 이상부터는 이상치라 판단했습니다.\n",
    "\n",
    "하지만, 54세 이상의 사람들은 휴먼 에러에 의해 생성된 데이터가 아니고 이에 대해서도 분석할 필요가 있습니다.\n",
    "\n",
    "이런 경우, `Age` 변수에 대해서는 이상치 처리를 하지 않는 방법도 있고 아니면 다음과 같은 변수화 방법으로 IQR로 이상치 데이터들을 구분하여 분석할 수 있습니다.\n",
    "\n",
    "`Age` 변수의 이상치를 변수화로 처리 위해서는 50세를 기준으로 하여 이상인 경우 yes, 미만인 경우 no 값을 채우는 `elder` 변수를 새롭게 만들 수 있습니다."
   ]
  },
  {
   "cell_type": "code",
   "execution_count": 18,
   "metadata": {
    "ExecuteTime": {
     "end_time": "2020-07-08T08:17:48.853253Z",
     "start_time": "2020-07-08T08:17:48.841261Z"
    }
   },
   "outputs": [],
   "source": [
    "titanic['elder'] = 'yes'\n",
    "\n",
    "titanic.loc[titanic['Age'] < 50,'elder'] = 'no'"
   ]
  },
  {
   "cell_type": "code",
   "execution_count": 19,
   "metadata": {
    "ExecuteTime": {
     "end_time": "2020-07-08T08:17:50.842665Z",
     "start_time": "2020-07-08T08:17:50.833659Z"
    }
   },
   "outputs": [
    {
     "data": {
      "text/plain": [
       "0      no\n",
       "1      no\n",
       "2      no\n",
       "3      no\n",
       "4      no\n",
       "       ..\n",
       "886    no\n",
       "887    no\n",
       "888    no\n",
       "889    no\n",
       "890    no\n",
       "Name: elder, Length: 891, dtype: object"
      ]
     },
     "execution_count": 19,
     "metadata": {},
     "output_type": "execute_result"
    }
   ],
   "source": [
    "titanic['elder']"
   ]
  },
  {
   "cell_type": "code",
   "execution_count": 20,
   "metadata": {
    "ExecuteTime": {
     "end_time": "2020-07-08T08:17:55.289829Z",
     "start_time": "2020-07-08T08:17:55.036650Z"
    },
    "scrolled": false
   },
   "outputs": [
    {
     "data": {
      "text/plain": [
       "<matplotlib.axes._subplots.AxesSubplot at 0x2579b78898>"
      ]
     },
     "execution_count": 20,
     "metadata": {},
     "output_type": "execute_result"
    },
    {
     "data": {
      "image/png": "[encoded data removed]",
      "text/plain": [
       "<Figure size 432x288 with 1 Axes>"
      ]
     },
     "metadata": {
      "needs_background": "light"
     },
     "output_type": "display_data"
    }
   ],
   "source": [
    "titanic['elder'].value_counts().plot(kind='bar')"
   ]
  },
  {
   "cell_type": "markdown",
   "metadata": {},
   "source": [
    "---"
   ]
  }
 ],
 "metadata": {
  "kernelspec": {
   "display_name": "Python 3",
   "language": "python",
   "name": "python3"
  },
  "language_info": {
   "codemirror_mode": {
    "name": "ipython",
    "version": 3
   },
   "file_extension": ".py",
   "mimetype": "text/x-python",
   "name": "python",
   "nbconvert_exporter": "python",
   "pygments_lexer": "ipython3",
   "version": "3.6.9"
  },
  "toc": {
   "base_numbering": 1,
   "nav_menu": {},
   "number_sections": false,
   "sideBar": true,
   "skip_h1_title": false,
   "title_cell": "Table of Contents",
   "title_sidebar": "Contents",
   "toc_cell": false,
   "toc_position": {
    "height": "calc(100% - 180px)",
    "left": "10px",
    "top": "150px",
    "width": "307.2px"
   },
   "toc_section_display": true,
   "toc_window_display": true
  },
  "varInspector": {
   "cols": {
    "lenName": 16,
    "lenType": 16,
    "lenVar": 40
   },
   "kernels_config": {
    "python": {
     "delete_cmd_postfix": "",
     "delete_cmd_prefix": "del ",
     "library": "var_list.py",
     "varRefreshCmd": "print(var_dic_list())"
    },
    "r": {
     "delete_cmd_postfix": ") ",
     "delete_cmd_prefix": "rm(",
     "library": "var_list.r",
     "varRefreshCmd": "cat(var_dic_list()) "
    }
   },
   "types_to_exclude": [
    "module",
    "function",
    "builtin_function_or_method",
    "instance",
    "_Feature"
   ],
   "window_display": false
  }
 },
 "nbformat": 4,
 "nbformat_minor": 4
}
