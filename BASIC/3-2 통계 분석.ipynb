{
 "cells": [
  {
   "cell_type": "markdown",
   "metadata": {},
   "source": [
    "# 2. 머신러닝을 위한 확률과 통계"
   ]
  },
  {
   "cell_type": "markdown",
   "metadata": {},
   "source": [
    "---"
   ]
  },
  {
   "cell_type": "markdown",
   "metadata": {},
   "source": [
    "## 학습 목표\n",
    "- 확률과 통계의 개념을 이해하고 머신러닝에 사용되는 확률 통계 기법들을 학습합니다.\n",
    "- 학습한 수학 공식들을 코드로 계산하는 방법을 학습합니다."
   ]
  },
  {
   "cell_type": "markdown",
   "metadata": {},
   "source": [
    "---"
   ]
  },
  {
   "cell_type": "markdown",
   "metadata": {},
   "source": [
    "## 목차"
   ]
  },
  {
   "cell_type": "markdown",
   "metadata": {},
   "source": [
    "### 1. 확률 변수와 조건부 확률\n",
    "1. 확률과 확률 변수\n",
    "2. 확률 분포\n",
    "3. 조건부 확률\n",
    "\n",
    "### 2. 통계 분석\n",
    "1. 평균과 표준편차\n",
    "2. 상관 계수"
   ]
  },
  {
   "cell_type": "markdown",
   "metadata": {},
   "source": [
    "---"
   ]
  },
  {
   "cell_type": "markdown",
   "metadata": {},
   "source": [
    "## 2. 통계 분석"
   ]
  },
  {
   "cell_type": "markdown",
   "metadata": {},
   "source": [
    "통계 분석은 수많은 데이터의 특징을 발견하기 위해 사용합니다.\n",
    "\n",
    "여러분은 마트에서 바나나를 고를 때 어떤 점을 기준으로 비교하나요? \n",
    "\n",
    "보통은 각 바나나의 색이나 크기를 비교하며 잘 익었는지 혹은 당도가 높을지를 판단합니다.\n",
    "\n",
    "그런데 마트 단위에서 바나나를 비교한다면 어떻게 비교해야 할까요?\n",
    "\n",
    "예를 들어 A 마트 바나나들은 대체적으로 크기가 크더라, B 마트 바나나들은 신선도가 많이 오락가락해와 같이 비교할 수 있을 것입니다.\n",
    "\n",
    "위 비교처럼, 개별 단위의 바나나에 대해서 얘기하기 보다 전체 바나나들의 특징들을 얘기하게 됩니다.\n",
    "\n",
    "이처럼 많은 수를 가지고 있는 집단을 비교하기 위해선 그 집단의 특징을 수학적으로 비교 가능하게 표현할 필요가 있습니다.\n",
    "\n",
    "이러한 수학적 표현과 그 분석 방식을 통계 분석이라 할 수 있습니다.\n",
    "\n",
    "머신러닝에 사용되는 데이터 또한 통계 분석을 통하여 그 특징을 파악할 수 있고, 데이터가 변형 됨에 따라 비교할 수 있는 수학적 파라미터를 제시해 줍니다."
   ]
  },
  {
   "cell_type": "markdown",
   "metadata": {},
   "source": [
    " "
   ]
  },
  {
   "cell_type": "markdown",
   "metadata": {},
   "source": [
    "### 2-1. 평균과 표준편차"
   ]
  },
  {
   "cell_type": "markdown",
   "metadata": {},
   "source": [
    "가장 기본적인 통계 값으로 평균과 표준편차가 있습니다.\n",
    "\n",
    "대표적으로 정규 분포를 포함하여 다양한 확률 분포 모델에서는 이 두 가지 값만 가지고 있으면 해당 모델의 확률 분포 함수를 표현할 수 있습니다.\n",
    "\n",
    "**평균(mean** or **average)**: 확률 변수 또는 데이터 값의 합을 전체 개수로 나눈 값"
   ]
  },
  {
   "cell_type": "markdown",
   "metadata": {},
   "source": [
    "##### N개의 데이터 평균\n",
    "\n",
    "> $$\\bar{data} = \\frac{1}{N}\\sum_{i=1}^{N}data_{i}$$"
   ]
  },
  {
   "cell_type": "markdown",
   "metadata": {},
   "source": [
    "##### 이산 확률변수 평균\n",
    "\n",
    "> $$E[X]=\\sum_{i=1}^{n}x_{i}p_{i}$$"
   ]
  },
  {
   "cell_type": "markdown",
   "metadata": {},
   "source": [
    "##### 연속 확률변수 평균\n",
    "\n",
    "> $$E[X]=\\int P(x)dx$$"
   ]
  },
  {
   "cell_type": "markdown",
   "metadata": {},
   "source": [
    "**표준편차(standard deviation)**: 확률 변수 또는 데이터 값들이 퍼져 있는 정도로 데이터와 평균의 차이의 평균"
   ]
  },
  {
   "cell_type": "markdown",
   "metadata": {},
   "source": [
    "##### N개의 데이터 표준편차 \n",
    "> $$\\sigma=\\frac{1}{N}\\sum_{i=1}^{N}(data_{i}-\\bar{data})^{2}$$"
   ]
  },
  {
   "cell_type": "markdown",
   "metadata": {},
   "source": [
    "##### 확률 변수 표준편차\n",
    "\n",
    "> $$\\sigma =\\sqrt{E[(X-E[X])^{2}]}$$"
   ]
  },
  {
   "cell_type": "markdown",
   "metadata": {},
   "source": [
    "**분산**: 표준편차의 제곱"
   ]
  },
  {
   "cell_type": "markdown",
   "metadata": {},
   "source": [
    "##### 분산\n",
    "\n",
    "> $$var=\\sigma^{2}$$"
   ]
  },
  {
   "cell_type": "markdown",
   "metadata": {},
   "source": [
    "코딩을 통하여 데이터의 평균과 표준편차를 구하여 봅시다. "
   ]
  },
  {
   "cell_type": "markdown",
   "metadata": {},
   "source": [
    " "
   ]
  },
  {
   "cell_type": "markdown",
   "metadata": {},
   "source": [
    "##### <예제 1> 데이터의 평균과 표준편차"
   ]
  },
  {
   "cell_type": "markdown",
   "metadata": {},
   "source": [
    "numpy의 `mean` 함수와 `std` 함수를 사용하여 데이터의 평균과 표준편차를 구해봅시다."
   ]
  },
  {
   "cell_type": "code",
   "execution_count": 22,
   "metadata": {},
   "outputs": [
    {
     "name": "stdout",
     "output_type": "stream",
     "text": [
      "확률변수 X의 평균: 0.942883081095818\n",
      "확률변수 X의 표준편차: 10.027462759200617\n"
     ]
    }
   ],
   "source": [
    "import numpy as np\n",
    "\n",
    "# 평균 1, 표준편차 10인 정규 분포로 생성한 1000개의 샘플 데이터\n",
    "X = np.random.normal(1,10,1000)\n",
    "\n",
    "# 평균은 mean(), 표준편차는 std() 함수를 사용\n",
    "mean_X = np.mean(X)\n",
    "std_X = np.std(X)\n",
    "\n",
    "print(\"확률변수 X의 평균: {}\".format(mean_X))\n",
    "print(\"확률변수 X의 표준편차: {}\".format(std_X))"
   ]
  },
  {
   "cell_type": "markdown",
   "metadata": {},
   "source": [
    " "
   ]
  },
  {
   "cell_type": "markdown",
   "metadata": {},
   "source": [
    "### 2-2. 상관 계수"
   ]
  },
  {
   "cell_type": "markdown",
   "metadata": {},
   "source": [
    "상관 계수는 평균, 표준편차 외로 데이터 간의 얼마나 비슷한지를 표현하기 위해서 만들어진 파라미터를 의미합니다.\n",
    "\n",
    "상관 계수를 구하는 방식은 여러가지가 있는데 그 중 가장 대표적인 피어슨 상관 관계(Pearson correlation coefficient)를 알아봅시다.\n",
    "\n",
    "확률 변수 X,Y에 대한 피어슨 상관 계수 $\\rho_{X,Y}$는 아래의 수식과 같이 정의합니다."
   ]
  },
  {
   "cell_type": "markdown",
   "metadata": {},
   "source": [
    "##### 피어슨 상관 계수\n",
    "\n",
    "> $$\\rho_{X,Y}=\\frac{cov(X,Y)}{\\sigma_{X}\\sigma_{Y}}$$"
   ]
  },
  {
   "cell_type": "markdown",
   "metadata": {},
   "source": [
    "##### covariance\n",
    "\n",
    "> $$cov(X,Y)=E[(X-E[X])(Y-E[Y])]$$"
   ]
  },
  {
   "cell_type": "markdown",
   "metadata": {},
   "source": [
    "cov()은 공분산(covariance)라 합니다.\n",
    "\n",
    "Y를 X로 치환하면 알 수 있듯이, 서로 같은 데이터일 수록 1에 가까운 값을 갖습니다.\n",
    "\n",
    "코딩을 통하여 상관 계수를 구하여 봅시다."
   ]
  },
  {
   "cell_type": "markdown",
   "metadata": {},
   "source": [
    " "
   ]
  },
  {
   "cell_type": "markdown",
   "metadata": {},
   "source": [
    "##### <예제 2> 상관 계수"
   ]
  },
  {
   "cell_type": "markdown",
   "metadata": {},
   "source": [
    "numpy의 `corrcoef` 함수를 사용하여 상관 계수를 구해봅시다."
   ]
  },
  {
   "cell_type": "code",
   "execution_count": 45,
   "metadata": {},
   "outputs": [
    {
     "name": "stdout",
     "output_type": "stream",
     "text": [
      "확률변수 X,Y의 피어슨 상관 관계: -0.03905219156933289\n"
     ]
    }
   ],
   "source": [
    "import numpy as np\n",
    "\n",
    "# 평균 1, 표준편차 10인 정규 분포로 생성한 1000개의 샘플 데이터\n",
    "X = np.random.normal(1,10,1000)\n",
    "\n",
    "# 평균 3, 표준편차 5인 정규 분포로 생성한 1000개의 샘플 데이터\n",
    "Y = np.random.normal(3,5,1000)\n",
    "\n",
    "# 피어슨 상관 관계 함수 corrcoef(x,y)= [[corr_XX, corr_XY],[corr_YX,corr_YY]]\n",
    "# corr_XX = corr_YY =1\n",
    "# corr_XY = corr_YX\n",
    "corr_XY = np.corrcoef(X,Y)\n",
    "\n",
    "print(\"확률변수 X,Y의 피어슨 상관 관계: {}\".format(corr_XY[0,1]))"
   ]
  },
  {
   "cell_type": "markdown",
   "metadata": {},
   "source": [
    "---"
   ]
  }
 ],
 "metadata": {
  "kernelspec": {
   "display_name": "Python 3",
   "language": "python",
   "name": "python3"
  },
  "language_info": {
   "codemirror_mode": {
    "name": "ipython",
    "version": 3
   },
   "file_extension": ".py",
   "mimetype": "text/x-python",
   "name": "python",
   "nbconvert_exporter": "python",
   "pygments_lexer": "ipython3",
   "version": "3.6.9"
  },
  "toc": {
   "base_numbering": 1,
   "nav_menu": {},
   "number_sections": false,
   "sideBar": true,
   "skip_h1_title": false,
   "title_cell": "Table of Contents",
   "title_sidebar": "Contents",
   "toc_cell": false,
   "toc_position": {},
   "toc_section_display": true,
   "toc_window_display": true
  },
  "varInspector": {
   "cols": {
    "lenName": 16,
    "lenType": 16,
    "lenVar": 40
   },
   "kernels_config": {
    "python": {
     "delete_cmd_postfix": "",
     "delete_cmd_prefix": "del ",
     "library": "var_list.py",
     "varRefreshCmd": "print(var_dic_list())"
    },
    "r": {
     "delete_cmd_postfix": ") ",
     "delete_cmd_prefix": "rm(",
     "library": "var_list.r",
     "varRefreshCmd": "cat(var_dic_list()) "
    }
   },
   "types_to_exclude": [
    "module",
    "function",
    "builtin_function_or_method",
    "instance",
    "_Feature"
   ],
   "window_display": false
  }
 },
 "nbformat": 4,
 "nbformat_minor": 4
}
