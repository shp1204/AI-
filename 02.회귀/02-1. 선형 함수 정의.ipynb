{
 "cells": [
  {
   "cell_type": "markdown",
   "metadata": {},
   "source": [
    "# 2. 선형 회귀 모델"
   ]
  },
  {
   "cell_type": "markdown",
   "metadata": {},
   "source": [
    "---"
   ]
  },
  {
   "cell_type": "markdown",
   "metadata": {},
   "source": [
    "## 학습 목표\n",
    "- 선형 모델의 정의를 학습합니다.\n",
    "- 1차 함수의 형태를 이해하고 하이퍼파라미터에 따라 그래프가 어떻게 변화하는지 이해합니다."
   ]
  },
  {
   "cell_type": "markdown",
   "metadata": {},
   "source": [
    "---"
   ]
  },
  {
   "cell_type": "markdown",
   "metadata": {},
   "source": [
    "## 목차"
   ]
  },
  {
   "cell_type": "markdown",
   "metadata": {},
   "source": [
    "### 1. 선형 함수 정의\n",
    "1. 회귀 모델의 종류\n",
    "2. 선형 회귀란\n",
    "3. 선형 회귀의 장단점\n",
    "\n",
    "### 2. 1차 함수 그리기\n",
    "1. 1차 함수 하이퍼 파라미터에 따른 그래프\n",
    "\n"
   ]
  },
  {
   "cell_type": "markdown",
   "metadata": {},
   "source": [
    "---"
   ]
  },
  {
   "cell_type": "markdown",
   "metadata": {},
   "source": [
    "## 1. 선형 함수 정의"
   ]
  },
  {
   "cell_type": "markdown",
   "metadata": {},
   "source": [
    "### 1-1. 회귀 모델의 종류"
   ]
  },
  {
   "cell_type": "markdown",
   "metadata": {},
   "source": [
    "**회귀 분석**은 크게 선형 관계 모델을 사용하여 특성 데이터와 레이블 데이터의 상관 관계를 분석하는 **선형 회귀 분석**과 선형 관계가 아닌 모델인 **비선형 회귀 모델**로 나누어 집니다."
   ]
  },
  {
   "cell_type": "markdown",
   "metadata": {},
   "source": [
    "<img src=\"img/2-1-1.png\" width=\"50%\" height=\"50%\" title=\"회귀 분석\" alt=\"회귀 분석\"></img>"
   ]
  },
  {
   "cell_type": "markdown",
   "metadata": {},
   "source": [
    "**선형 회귀**의 경우, 선형이라는 특성 덕분에 수학적 분석이 매우 쉽습니다. 따라서 데이터의 분포가 선형 모델의 분포를 갖는다 생각하면 선형 모델을 사용하는 것이 빠르고 쉬운 분석이 가능합니다.\n",
    "\n",
    "선형 회귀 모델이 아닌 **비선형 회귀 모델**의 경우, 수식이 다소 복잡하고 분석이 어려울 수 있지만 선형 회귀에서 불가능한 데이터의 분포를 분석할 수 있습니다. **비선형 회귀 모델**의 경우 더욱 정확한 성능을 보일 수 있지만, 높은 모델의 복잡성과 최적화 과정이 항상 최적의 해를 구할 수 없다는 단점이 있습니다. "
   ]
  },
  {
   "cell_type": "markdown",
   "metadata": {},
   "source": [
    " "
   ]
  },
  {
   "cell_type": "markdown",
   "metadata": {},
   "source": [
    "### 1-2. 선형 회귀란"
   ]
  },
  {
   "cell_type": "markdown",
   "metadata": {},
   "source": [
    "앞서 정의한 내용과 같이 선형 관계 모델을 사용한 분석 방법을 의미합니다. 예를 들어 총 4개의 샘플을 갖는 데이터가 있다고 가정해 봅시다.\n",
    "\n",
    "첫 번째 **feature 데이터**는 $1$, **label 데이터**는 $3.1 $, 두 번째 **feature 데이터**는 $2$, **label 데이터**는 $4.9$ 같은 방식으로 4개 샘플 데이터를 표현하면 아래와 같습니다."
   ]
  },
  {
   "cell_type": "markdown",
   "metadata": {},
   "source": [
    "##### feture 데이터 \n",
    "\n",
    "> $$ X=\\begin{pmatrix}\n",
    "1 \\\\ \n",
    "2 \\\\ \n",
    "3 \\\\ \n",
    "4\n",
    "\\end{pmatrix},\\;\\;\\;$$ \n",
    "\n",
    "##### label 데이터  \n",
    "\n",
    "> $$ Y=\\begin{pmatrix}\n",
    "3.1 \\\\ \n",
    "4.9 \\\\ \n",
    "7.2 \\\\ \n",
    "8.9\n",
    "\\end{pmatrix}.$$"
   ]
  },
  {
   "cell_type": "markdown",
   "metadata": {},
   "source": [
    "$X$와 $Y$의 관계가 보이나요? 보이지 않는다면 **feature 데이터** $X$에 2배를 해봅시다."
   ]
  },
  {
   "cell_type": "markdown",
   "metadata": {},
   "source": [
    "##### feture 데이터 \n",
    "\n",
    "> $$ 2X=\\begin{pmatrix}\n",
    "2 \\\\ \n",
    "4 \\\\ \n",
    "6 \\\\ \n",
    "8\n",
    "\\end{pmatrix},\\;\\;\\;$$ \n",
    "\n",
    "##### label 데이터 \n",
    "\n",
    "\n",
    "> $$ Y=\\begin{pmatrix}\n",
    "3.1 \\\\ \n",
    "4.9 \\\\ \n",
    "7.2 \\\\\n",
    "8.9\n",
    "\\end{pmatrix}.$$"
   ]
  },
  {
   "cell_type": "markdown",
   "metadata": {},
   "source": [
    "아까 전보단 비슷해졌지만 아직 차이가 보입니다. 그렇다면 여기에 1을 더해봅시다."
   ]
  },
  {
   "cell_type": "markdown",
   "metadata": {},
   "source": [
    "##### feture 데이터 \n",
    "\n",
    "> $$ 2X+1=\\begin{pmatrix}\n",
    "3 \\\\ \n",
    "5 \\\\ \n",
    "7 \\\\ \n",
    "9\n",
    "\\end{pmatrix},\\;\\;\\;$$ \n",
    "\n",
    "###### label 데이터 \n",
    "\n",
    "> $$ Y=\\begin{pmatrix}\n",
    "3.1 \\\\ \n",
    "4.9 \\\\ \n",
    "7.2 \\\\ \n",
    "8.9\n",
    "\\end{pmatrix}.$$"
   ]
  },
  {
   "cell_type": "markdown",
   "metadata": {},
   "source": [
    "같진 않지만 매우 비슷해 졌습니다. 이 경우 우리는 다음과 같이 표현해 볼 수 있습니다."
   ]
  },
  {
   "cell_type": "markdown",
   "metadata": {},
   "source": [
    "##### feature 데이터와 label 데이터의 관계 표현\n",
    "\n",
    "> $$Y \\approx 2X+1$$"
   ]
  },
  {
   "cell_type": "markdown",
   "metadata": {},
   "source": [
    "$\\approx$은 같진 않지만 비슷하다는 표현입니다. 이와 같이 feature 데이터에 **상수 배만큼에 또 다른 상수를 더해주는 형태**를 선형 회귀 모델이라고 합니다. "
   ]
  },
  {
   "cell_type": "markdown",
   "metadata": {},
   "source": [
    " "
   ]
  },
  {
   "cell_type": "markdown",
   "metadata": {},
   "source": [
    "조금 더 명확하게 표현하기 위해서, 각 label 데이터 마다의 식으로 아래와 같이 표현이 가능합니다."
   ]
  },
  {
   "cell_type": "markdown",
   "metadata": {},
   "source": [
    "##### i번째 lable 데이터에  대응하는 선형 회귀 분석 모델 함수\n",
    "\n",
    "> $$\n",
    "\\begin{aligned}\n",
    "y_i &\\approx f(x_i) = 2x_i+1 \\\\\n",
    "ex)\\;  3.1 &\\approx f(1)=2*1+1=3\n",
    "\\end{aligned}\n",
    "$$"
   ]
  },
  {
   "cell_type": "markdown",
   "metadata": {},
   "source": [
    "**곱해주는 상수와 더해주는 상수**는 선형 파라미터라 하고 우리는 이 파라미터를 조절하여 모델을 정확하도록 튜닝합니다."
   ]
  },
  {
   "cell_type": "markdown",
   "metadata": {},
   "source": [
    " "
   ]
  },
  {
   "cell_type": "markdown",
   "metadata": {},
   "source": [
    "##### <예제 1> label 데이터와 선형 회귀 분석 모델 근사값"
   ]
  },
  {
   "cell_type": "markdown",
   "metadata": {},
   "source": [
    "위 예시로 사용했던 feature 데이터, label 데이터, 근사선 모델을 사용하여 근사값과 label 데이터를 출력해 봅시다."
   ]
  },
  {
   "cell_type": "code",
   "execution_count": 2,
   "metadata": {},
   "outputs": [
    {
     "name": "stdout",
     "output_type": "stream",
     "text": [
      "2X+1: \n",
      "[[3]\n",
      " [5]\n",
      " [7]\n",
      " [9]]\n",
      "\n",
      "Y: \n",
      "[[3.1]\n",
      " [4.9]\n",
      " [7.2]\n",
      " [8.9]]\n",
      "\n"
     ]
    }
   ],
   "source": [
    "import numpy as np\n",
    "\n",
    "X = np.array([1, 2, 3, 4]).reshape((-1,1))\n",
    "Y = np.array([3.1, 4.9, 7.2, 8.9]).reshape((-1,1))\n",
    "\n",
    "print(\"2X+1: \\n{}\\n\".format(2*X+1))\n",
    "print(\"Y: \\n{}\\n\".format(Y))"
   ]
  },
  {
   "cell_type": "markdown",
   "metadata": {},
   "source": [
    "### 1-3. 선형 회귀의 장단점"
   ]
  },
  {
   "cell_type": "markdown",
   "metadata": {},
   "source": [
    "- **장점**: 선형 관계 모델을 사용하기에 분석하기에 쉽습니다."
   ]
  },
  {
   "cell_type": "markdown",
   "metadata": {},
   "source": [
    "    -> 선형성을 갖는 모델은 비선형 모델에 비하여 그 해결법들이 공식으로 잘 정의되어 있습니다. 따라서 모델 파라미터의 튜닝 과정이 보다 빠르게 진행됩니다."
   ]
  },
  {
   "cell_type": "markdown",
   "metadata": {},
   "source": [
    "- **단점**: 데이터 분포가 선형 모델로 표현이 되지 않는다면 분석하기 어렵습니다."
   ]
  },
  {
   "cell_type": "markdown",
   "metadata": {},
   "source": [
    "    -> 로그 함수나 삼각 함수와 같은 형태로 데이터가 분포한다면 이는 선형 회귀 모델로 구현하기 어렵습니다."
   ]
  },
  {
   "cell_type": "markdown",
   "metadata": {},
   "source": [
    "---"
   ]
  },
  {
   "cell_type": "markdown",
   "metadata": {},
   "source": [
    "#### 심화 학습 - 수학적 정의"
   ]
  },
  {
   "cell_type": "markdown",
   "metadata": {},
   "source": [
    "선형 회귀란 N개의 샘플을 갖는 데이터에서 레이블 데이터 $Y$와 $p$개의 특성을 가진 $X$ 사이의 선형 관계를 모델링한 것을 의미합니다.\n",
    "\n",
    "선형 관계 식은 아래와 같이 정의됩니다."
   ]
  },
  {
   "cell_type": "markdown",
   "metadata": {},
   "source": [
    "##### 선형 관계 식\n",
    "\n",
    "> $$Y=\\begin{pmatrix}\n",
    "y_1 \\\\ \n",
    "y_2 \\\\ \n",
    "\\vdots \\\\ \n",
    "y_N\n",
    "\\end{pmatrix}, \\;\\;\\;\\;\\; X=\\begin{pmatrix}\n",
    "\\mathbf{x_1}^T \\\\ \n",
    "\\mathbf{x_2}^T \\\\ \n",
    "\\vdots \\\\ \n",
    "\\mathbf{x_N}^T\n",
    "\\end{pmatrix}=\\begin{pmatrix}\n",
    "1 & x_{1,1} & ... & x_{1,p} \\\\ \n",
    "1 & x_{2,1} & ... & x_{2,p} \\\\ \n",
    "1 & \\vdots  & \\ddots  & \\vdots \\\\ \n",
    "1 & x_{N,1} & ... & x_{N,p}\n",
    "\\end{pmatrix}, \\;\\;\\;\\;\\; \\mathbf{w}=\\begin{pmatrix}\n",
    "w_0 \\\\\n",
    "w_1 \\\\ \n",
    "w_2 \\\\ \n",
    "\\vdots \\\\ \n",
    "w_p\n",
    "\\end{pmatrix}, \\;\\;\\;\\;\\; \\boldsymbol{\\epsilon}=\\begin{pmatrix}\n",
    "\\epsilon_1 \\\\ \n",
    "\\epsilon_2 \\\\ \n",
    "\\vdots \\\\ \n",
    "\\epsilon_N\n",
    "\\end{pmatrix}, \\;\\;\\;\\;\\; \\mathbf{x_i}=\\begin{pmatrix}\n",
    "x_{i,1} \\\\ \n",
    "x_{i,2} \\\\ \n",
    "\\vdots \\\\ \n",
    "x_{i,p}\n",
    "\\end{pmatrix}$$\n",
    "\n",
    "> $$Y=X\\mathbf{w}+\\boldsymbol{\\epsilon}$$."
   ]
  },
  {
   "cell_type": "markdown",
   "metadata": {},
   "source": [
    "$\\mathbf{w}$ 는 선형 파라미터를 의미하며 $\\boldsymbol{\\epsilon}$은 오차를 의미합니다. \n",
    "\n",
    "위의 예시에서 보여준 $Y \\approx 2X+1$과 좀 다른 것이 아닐까 생각할 수 있지만 다음과 같이 표현하면 결국 같은 표현임을 알 수 있습니다."
   ]
  },
  {
   "cell_type": "markdown",
   "metadata": {},
   "source": [
    "##### 선형 관계식 예\n",
    "\n",
    "> $$Y=\\begin{pmatrix}\n",
    "3.1 \\\\ \n",
    "4.9 \\\\ \n",
    "7.2 \\\\ \n",
    "8.9\n",
    "\\end{pmatrix}, \\;\\;\\;\\;\\; X=\\begin{pmatrix}\n",
    "1 & 1 \\\\ \n",
    "1 & 2 \\\\ \n",
    "1 & 3 \\\\ \n",
    "1 & 4\n",
    "\\end{pmatrix}, \\;\\;\\;\\;\\; \\mathbf{w}=\\begin{pmatrix}\n",
    "1 \\\\ \n",
    "2\n",
    "\\end{pmatrix}, \\;\\;\\;\\;\\; \\boldsymbol{\\epsilon}=\\begin{pmatrix}\n",
    "0.1 \\\\ \n",
    "-0.1 \\\\ \n",
    "0.2 \\\\ \n",
    "-0.1\n",
    "\\end{pmatrix}, \\;\\;\\;\\;\\; $$\n",
    "\n",
    "> $$\\begin{pmatrix}\n",
    "3.1 \\\\ \n",
    "4.9 \\\\ \n",
    "7.2 \\\\ \n",
    "8.9\n",
    "\\end{pmatrix} = \\begin{pmatrix}\n",
    "1 & 1 \\\\ \n",
    "1 & 2 \\\\ \n",
    "1 & 3 \\\\ \n",
    "1 & 4\n",
    "\\end{pmatrix}\\begin{pmatrix}\n",
    "1 \\\\ \n",
    "2\n",
    "\\end{pmatrix}+\\begin{pmatrix}\n",
    "0.1\\\\ \n",
    "-0.1\\\\ \n",
    "0.2\\\\ \n",
    "-0.1\n",
    "\\end{pmatrix}.$$"
   ]
  },
  {
   "cell_type": "markdown",
   "metadata": {},
   "source": [
    " "
   ]
  },
  {
   "cell_type": "markdown",
   "metadata": {},
   "source": [
    "**예측 값 $\\widehat{y_i}$ 정의하기**"
   ]
  },
  {
   "cell_type": "markdown",
   "metadata": {},
   "source": [
    "실제 $i$번째 샘플 데이터 $y_i$와 예측한 데이터 $\\widehat{y_i}$는 다르기에 아래와 같이 표현이 가능합니다."
   ]
  },
  {
   "cell_type": "markdown",
   "metadata": {},
   "source": [
    "##### i 번째 샘플 데이터와 예측 데이터 표현\n",
    "\n",
    "> $$\n",
    "\\begin{aligned}\n",
    "y_i &= \\widehat{y_i} +\\epsilon_i,\n",
    "\\end{aligned}\n",
    "$$\n",
    "\n",
    "샘플 데이터 $y_i$는 예측 데이터 $\\widehat{y_i}$와 $\\epsilon_i$ 크기만큼의 차이가 있습니다. 예측 데이터는 $x_i$에 대한 함수 $f(x_i)$로 표현 가능합니다.\n",
    "\n",
    "##### i 번째 예측 선형 회귀 모델\n",
    "\n",
    "> $$\n",
    "\\begin{aligned}\n",
    "\\widehat{y_i}&=f(x_i)\n",
    "\\end{aligned}\n",
    "$$"
   ]
  },
  {
   "cell_type": "markdown",
   "metadata": {},
   "source": [
    "이해를 돕기 위해 계속 사용했던 4개 데이터 $[1, 2, 3, 4]^{T}$ 예시를 $f()$ 함수로 표현하면 다음과 같습니다."
   ]
  },
  {
   "cell_type": "markdown",
   "metadata": {},
   "source": [
    "##### f()을 사용한 예측 데이터 표현 예\n",
    "\n",
    "> $$\n",
    "\\begin{aligned}\n",
    "\\widehat{y_i}&=f(x_i) \\\\\n",
    "&=2x_i+1\n",
    "\\end{aligned}\n",
    "$$"
   ]
  },
  {
   "cell_type": "markdown",
   "metadata": {},
   "source": [
    "벡터 형태의 입력을 받는 $f()$ 함수를 스칼라를 입력으로 받는 함수로 표현하면 아래와 같습니다."
   ]
  },
  {
   "cell_type": "markdown",
   "metadata": {},
   "source": [
    "##### 스칼라 입력 f()\n",
    "\n",
    "> $$\n",
    "\\begin{aligned}\n",
    "f(1) &=2*1+1=3 \\\\\n",
    "f(2) &=2*2+1=5 \\\\\n",
    "f(3) &=2*3+1=7 \\\\\n",
    "f(4) &=2*4+1=9\n",
    "\\end{aligned}\n",
    "$$"
   ]
  },
  {
   "cell_type": "markdown",
   "metadata": {},
   "source": [
    " "
   ]
  },
  {
   "cell_type": "markdown",
   "metadata": {},
   "source": [
    "**선형성**"
   ]
  },
  {
   "cell_type": "markdown",
   "metadata": {},
   "source": [
    "위 정의한 $f()$ 함수는 선형 회귀 모델이기에 아래의 선형성(linearity) 조건 2가지를 만족합니다. "
   ]
  },
  {
   "cell_type": "markdown",
   "metadata": {},
   "source": [
    "##### superposition\n",
    "\n",
    "> $$f(A+B)=f(A)+f(B) \\;\\;$$ \n",
    "\n",
    "##### homogeneity\n",
    "\n",
    "> $$f(\\alpha A)=\\alpha f(A) \\;\\;$$ "
   ]
  },
  {
   "cell_type": "markdown",
   "metadata": {},
   "source": [
    "A와 B는 크기가 같은 벡터이고 $\\alpha$는 임의의 상수를 의미합니다. 따라서 $f()$ 함수가 위 2가지 성질을 만족하지 못한다면 비선형 회귀입니다."
   ]
  },
  {
   "cell_type": "markdown",
   "metadata": {},
   "source": [
    "##### 선형 회귀 모델 예\n",
    "\n",
    "> $$f(x_i)=3x_i+1$$\n",
    "\n",
    "> $$f(x_i)=-2x_i+2$$\n",
    "\n",
    "##### 비선형 회귀 모델 예\n",
    "\n",
    "> $$f(x_i)=20x_i-2x_{i}^{2} +3$$\n",
    "\n",
    "> $$f(x_i)=2-e^{0.4x_i-1}$$\n",
    "\n",
    "> $$f(x_i)=\\frac{x_i}{4 - x_i}$$"
   ]
  },
  {
   "cell_type": "markdown",
   "metadata": {},
   "source": [
    "##### <예제 2> 선형 회귀 모델과 비선형 회귀 모델 시각화"
   ]
  },
  {
   "cell_type": "markdown",
   "metadata": {},
   "source": [
    "위 예시 모델들을 코드로 구현하여 시각화 해봅시다."
   ]
  },
  {
   "cell_type": "code",
   "execution_count": 7,
   "metadata": {},
   "outputs": [
    {
     "data": {
      "image/png": "[encoded data removed]",
      "text/plain": [
       "<Figure size 576x576 with 1 Axes>"
      ]
     },
     "metadata": {
      "needs_background": "light"
     },
     "output_type": "display_data"
    },
    {
     "name": "stderr",
     "output_type": "stream",
     "text": [
      "C:\\Users\\user\\Anaconda3\\envs\\imagecaptioning\\lib\\site-packages\\ipykernel_launcher.py:35: RuntimeWarning: divide by zero encountered in true_divide\n"
     ]
    },
    {
     "data": {
      "image/png": "[encoded data removed]",
      "text/plain": [
       "<Figure size 432x288 with 1 Axes>"
      ]
     },
     "metadata": {
      "needs_background": "light"
     },
     "output_type": "display_data"
    }
   ],
   "source": [
    "import matplotlib.pyplot as plt\n",
    "\n",
    "# 그래프의 x 축 범위 설정\n",
    "x_range = np.arange(0,10,0.05)\n",
    "\n",
    "# 선형모델 2가지 선언\n",
    "linear_model_1 = 3*x_range + 1\n",
    "linear_model_2 = -2*x_range + 2\n",
    "\n",
    "# 그래프 사이즈\n",
    "plt.figure(figsize=(8, 8))\n",
    "\n",
    "# 선형 그래프 2개 출력\n",
    "plt.subplot(211)\n",
    "plt.plot(x_range, linear_model_1, marker='o', label='linear_1',\n",
    "        color='red',\n",
    "        linestyle='--')\n",
    "\n",
    "plt.plot(x_range, linear_model_2, marker='o', label='linear_2',\n",
    "        color='blue',\n",
    "        linestyle='--')\n",
    "\n",
    "# 레전드 표시\n",
    "plt.legend(\n",
    "        loc='upper right',\n",
    "        borderpad=1\n",
    "    )\n",
    "\n",
    "plt.grid()\n",
    "plt.show()\n",
    "\n",
    "# 비선형 모델 2가지 선언\n",
    "non_linear_model_1 = 20*x_range - 2*x_range**2 + 3\n",
    "non_linear_model_2 = 20 - np.exp(0.4*x_range )\n",
    "non_linear_model_3 = x_range / (4 - x_range)\n",
    "\n",
    "\n",
    "# 비선형 모델 2개 출력\n",
    "plt.subplot(212)\n",
    "plt.plot(x_range, non_linear_model_1, marker='o', label='non_linear_1',\n",
    "        color='black',\n",
    "        linestyle='--')\n",
    "\n",
    "plt.plot(x_range, non_linear_model_2, marker='o', label='non_linear_2',\n",
    "        color='green',\n",
    "        linestyle='--')\n",
    "\n",
    "plt.plot(x_range, non_linear_model_3, marker='o', label='non_linear_3',\n",
    "        color='purple',\n",
    "        linestyle='--')\n",
    "\n",
    "# 레전드 표시\n",
    "plt.legend(\n",
    "        loc='upper right',\n",
    "        borderpad=1\n",
    "    )\n",
    "\n",
    "plt.grid()\n",
    "plt.show()"
   ]
  },
  {
   "cell_type": "markdown",
   "metadata": {},
   "source": [
    "더 깊게 공부하고 싶다면 선형대수학 및 https://ko.wikipedia.org/wiki/%EC%84%A0%ED%98%95_%ED%9A%8C%EA%B7%80 을 참고해 봅니다."
   ]
  },
  {
   "cell_type": "markdown",
   "metadata": {},
   "source": [
    "---"
   ]
  }
 ],
 "metadata": {
  "kernelspec": {
   "display_name": "Python 3",
   "language": "python",
   "name": "python3"
  },
  "language_info": {
   "codemirror_mode": {
    "name": "ipython",
    "version": 3
   },
   "file_extension": ".py",
   "mimetype": "text/x-python",
   "name": "python",
   "nbconvert_exporter": "python",
   "pygments_lexer": "ipython3",
   "version": "3.7.6"
  },
  "toc": {
   "base_numbering": 1,
   "nav_menu": {},
   "number_sections": false,
   "sideBar": true,
   "skip_h1_title": false,
   "title_cell": "Table of Contents",
   "title_sidebar": "Contents",
   "toc_cell": false,
   "toc_position": {
    "height": "calc(100% - 180px)",
    "left": "10px",
    "top": "150px",
    "width": "384px"
   },
   "toc_section_display": true,
   "toc_window_display": true
  }
 },
 "nbformat": 4,
 "nbformat_minor": 4
}
