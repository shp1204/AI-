{
 "cells": [
  {
   "cell_type": "markdown",
   "metadata": {},
   "source": [
    "# 3. 오차와 Loss 함수"
   ]
  },
  {
   "cell_type": "markdown",
   "metadata": {},
   "source": [
    "---"
   ]
  },
  {
   "cell_type": "markdown",
   "metadata": {},
   "source": [
    "## 학습 목표\n",
    "- 데이터와 회귀 모델의 오차를 표현하는 방법에 대해서 학습합니다. \n",
    "- 어떤 회귀 모델이 좋은 모델인지를 판단하는 loss 함수에 대해서 학습합니다."
   ]
  },
  {
   "cell_type": "markdown",
   "metadata": {},
   "source": [
    "---"
   ]
  },
  {
   "cell_type": "markdown",
   "metadata": {},
   "source": [
    "## 목차"
   ]
  },
  {
   "cell_type": "markdown",
   "metadata": {},
   "source": [
    "### 1. 데이터와 회귀 분석 모델 사이의 오차\n",
    "1. 오차 or 잔차 정의 \n",
    "2. 모델에 따른 오차값 비교\n",
    "\n",
    "### 2. Loss 함수 정의 및 계산\n",
    "1. MSE 정의\n",
    "2. Loss 함수 정의\n",
    "3. 근사선에 대응되는 loss 값 출력하기\n"
   ]
  },
  {
   "cell_type": "markdown",
   "metadata": {},
   "source": [
    "---"
   ]
  },
  {
   "cell_type": "markdown",
   "metadata": {},
   "source": [
    "## 2. Loss 함수 정의 및 계산"
   ]
  },
  {
   "cell_type": "markdown",
   "metadata": {},
   "source": [
    "### 2-1. MSE 정의"
   ]
  },
  {
   "cell_type": "markdown",
   "metadata": {},
   "source": [
    "$i$번째 데이터에 대한 오차를 구할 수 있었지만 이것을 가지고 비교하기엔 어려움이 있습니다.\n",
    "\n",
    "아래의 예시를 살펴보며 생각해봅시다."
   ]
  },
  {
   "cell_type": "markdown",
   "metadata": {},
   "source": [
    "$1번\\;모델의\\;에러 \\; =\\begin{pmatrix}\n",
    "0.1 \\\\ \n",
    "-0.1 \\\\ \n",
    "0.2 \\\\ \n",
    "-0.1\n",
    "\\end{pmatrix}, \\;\\;\\;\\;\\; $ $2번\\;모델의\\;에러 \\;=\\begin{pmatrix}\n",
    "0.2 \\\\ \n",
    "0 \\\\ \n",
    "0.1 \\\\ \n",
    "-0.3\n",
    "\\end{pmatrix}, \\;\\;\\;\\;\\; $"
   ]
  },
  {
   "cell_type": "markdown",
   "metadata": {},
   "source": [
    "둘 중에 어떤 모델이 좋다고 할 수 있을까요? \n",
    "\n",
    "첫 번째 데이터는 1번 모델이 좋고, 두 번째 데이터는 2번 모델이 좋고, \n",
    "\n",
    "세 번째 데이터는 2번 모델이 좋고, 네 번째 데이터는 1번 모델이 좋고... 2대2인데 이게 맞는 비교일까요?\n",
    "\n",
    "각 샘플마다의 비교는 되었지만 좋고 안좋고 2가지만 고려했지 얼마나 좋은지에 대해서는 고려하지 않았습니다.\n",
    "\n",
    "각 샘플 마다의 좋은 정도까지 포함하기 위해서 우리는 **MSE(Mean Squared Error)** 라는 기법을 사용합니다.\n"
   ]
  },
  {
   "cell_type": "markdown",
   "metadata": {},
   "source": [
    "##### <예제 1> MSE 정의"
   ]
  },
  {
   "cell_type": "markdown",
   "metadata": {},
   "source": [
    "MSE를 수학적으로 정의하면 아래와 같이 표현 됩니다."
   ]
  },
  {
   "cell_type": "markdown",
   "metadata": {},
   "source": [
    "##### MSE 정의\n",
    "\n",
    "$$\n",
    "\\begin{aligned}\n",
    "MSE(Y,\\widehat{Y}) &= E[error_{i}^{2}] ,\\\\\n",
    "&= E[(y_i-f(x_i))^{2}], \\\\\n",
    "&= \\frac{1}{N}\\sum_{i=1}^{N}(y_i-f(x_i))^{2}\n",
    "\\end{aligned}\n",
    "$$\n",
    "\n",
    "$$\n",
    "\\begin{aligned}\n",
    "\\widehat{Y}=[\\widehat{y_1}, \\widehat{y_2},...,\\widehat{y_N}]^T, \n",
    "\\widehat{y_i}=f(x_i)\n",
    "\\end{aligned}\n",
    "$$"
   ]
  },
  {
   "cell_type": "markdown",
   "metadata": {},
   "source": [
    "$\\widehat{Y}$은 회귀 모델로 각 샘플들의 해당되는 예측값들의 column 벡터를 의미하며, $E[X]$은 $X$의 평균 값을 의미합니다.\n",
    "\n",
    "오차에 제곱을 하게 되면 항상 0이상의 양수이기에 이를 평균 낸 값을 생각한다면 전체적인 오차의 정도를 알 수 있습니다.\n",
    "\n",
    "##### 에러의 제곱\n",
    "\n",
    "> $$error_{i}^{2} \\geq 0$$"
   ]
  },
  {
   "cell_type": "markdown",
   "metadata": {},
   "source": [
    " "
   ]
  },
  {
   "cell_type": "markdown",
   "metadata": {},
   "source": [
    "### 2-2. Loss 함수 정의"
   ]
  },
  {
   "cell_type": "markdown",
   "metadata": {},
   "source": [
    "좋은 모델의 정도를 표현하는 방법으로 선형 회귀에서는 Loss 함수 정의합니다.\n",
    "\n",
    "손실 함수라 불리우는 Loss 함수란 원래 데이터에 비해서 예측 한 값의 데이터 손실 정도를 의미합니다.\n",
    "\n",
    "혹은 데이터 손실 만큼 비용이 든다는 의미로 비용(cost) 함수라는 이름으로도 사용됩니다.\n",
    "\n",
    "이러한 Loss 함수는 위에서 배운 MSE와 물리적 의미가 같다고 생각할 수 있기에 아래와 같이 정의될 수 있습니다."
   ]
  },
  {
   "cell_type": "markdown",
   "metadata": {},
   "source": [
    "##### Loss 함수\n",
    "\n",
    "> $$Loss(Y,\\widehat{Y})=MSE(Y,\\widehat{Y}),$$\n",
    "\n",
    "##### Cost 함수\n",
    "\n",
    "> $$Cost(Y,\\widehat{Y})=MSE(Y,\\widehat{Y})$$"
   ]
  },
  {
   "cell_type": "markdown",
   "metadata": {},
   "source": [
    "그런데 왜 MSE만 쓰면 되는것을 Loss 함수란 것을 또 정의할까요? 각각의 역할을 제대로 알아봅시다.\n",
    "\n",
    "- **Loss 함수:** 손실된 정도, 정확한 공식이 정해져 있지 않음\n",
    "\n",
    "- **MSE:** 에러 제곱의 평균으로 공식이 정해져 있음\n",
    "\n",
    "만약 MSE말고 다른 손실된 정도를 나타내는 방식이 있다면 Loss 함수는 변형될 수 있습니다."
   ]
  },
  {
   "cell_type": "markdown",
   "metadata": {},
   "source": [
    "##### MAE로 정의된 Loss 함수 \n",
    "\n",
    "> $$Loss(Y,\\widehat{Y})=MAE(Y,\\widehat{Y})$$"
   ]
  },
  {
   "cell_type": "markdown",
   "metadata": {},
   "source": [
    " 그렇다면 왜 MSE로 loss 함수를 정했을까요?"
   ]
  },
  {
   "cell_type": "markdown",
   "metadata": {},
   "source": [
    "현재로서는 확실히 이해하기 힘들 수 있지만, 간단히 말하면 최적의 파라미터 튜닝을 하기 위해서입니다.\n",
    "\n",
    "지금 단계에서는 어떤 모델이 좋은 모델인지 비교까지만 할 수 있엇지 파라미터를 튜닝하여 최적의 성능을 보일 수 있도록 하는 과정은 하지 않았습니다.\n",
    "\n",
    "MSE는 이 과정속에서 보다 쉽게 최적의 튜닝법을 제시할 수 있도록 도와줍니다.\n",
    "\n",
    "더 자세한 내용은 다음 학습 노트북에서 학습해봅시다."
   ]
  },
  {
   "cell_type": "markdown",
   "metadata": {},
   "source": [
    " "
   ]
  },
  {
   "cell_type": "markdown",
   "metadata": {},
   "source": [
    "##### <예제 1> Loss 함수"
   ]
  },
  {
   "cell_type": "markdown",
   "metadata": {},
   "source": [
    "직접 loss 함수를 정의하고 feature 데이터와 lable 데이터에 따른 선형 모델의 loss 값을 출력해봅시다."
   ]
  },
  {
   "cell_type": "code",
   "execution_count": 3,
   "metadata": {
    "scrolled": true
   },
   "outputs": [
    {
     "name": "stdout",
     "output_type": "stream",
     "text": [
      "loss: 0.017499999999999988\n",
      "\n"
     ]
    }
   ],
   "source": [
    "import numpy as np\n",
    "\n",
    "\n",
    "feature_data = np.array([1,2,3,4]).reshape((-1,1))\n",
    "label_data = np.array([3.1,4.9,7.2,8.9]).reshape((-1,1))\n",
    "\n",
    "f_x = 2*feature_data + 1\n",
    "\n",
    "def loss(f_x, label_data):\n",
    "    error = label_data - f_x\n",
    "    ls = np.mean(error**2)\n",
    "    return ls\n",
    "\n",
    "print(\"loss: {}\\n\".format(loss(f_x,label_data)))"
   ]
  },
  {
   "cell_type": "markdown",
   "metadata": {},
   "source": [
    " "
   ]
  },
  {
   "cell_type": "markdown",
   "metadata": {},
   "source": [
    "### 2-3. 회귀 분석 모델에 대응되는 loss 값 출력하기"
   ]
  },
  {
   "cell_type": "markdown",
   "metadata": {},
   "source": [
    "위 과정을 통하여 Loss 함수를 정의하였습니다. \n",
    "\n",
    "이제는 다양한 모델에 적용해보며 어떤 모델이 좋은 모델인지 비교해봅시다."
   ]
  },
  {
   "cell_type": "markdown",
   "metadata": {},
   "source": [
    " "
   ]
  },
  {
   "cell_type": "markdown",
   "metadata": {},
   "source": [
    "##### <예제 2> 모델 별 Loss 값"
   ]
  },
  {
   "cell_type": "markdown",
   "metadata": {},
   "source": [
    "1차 함수, 2차 함수, 지수 함수 형태로 회귀 분석 모델을 정의하여 각 모델의 loss값을 출력해 봅시다."
   ]
  },
  {
   "cell_type": "code",
   "execution_count": 4,
   "metadata": {},
   "outputs": [
    {
     "name": "stdout",
     "output_type": "stream",
     "text": [
      "Loss 1: \n",
      "3.517499999999999\n",
      "\n",
      "Loss 2: \n",
      "18.6675\n",
      "\n",
      "Loss 3: \n",
      "565.1747718191755\n",
      "\n"
     ]
    }
   ],
   "source": [
    "# 1차 선형 함수\n",
    "model1 = 3*feature_data\n",
    "# 2차 함수\n",
    "model2 = feature_data**2 + 1\n",
    "# 지수 함수\n",
    "model3 = np.exp(feature_data)\n",
    "\n",
    "loss1 = loss(model1,label_data)\n",
    "loss2 = loss(model2,label_data)\n",
    "loss3 = loss(model3,label_data)\n",
    "\n",
    "print(\"Loss 1: \\n{}\\n\".format(loss1))\n",
    "print(\"Loss 2: \\n{}\\n\".format(loss2))\n",
    "print(\"Loss 3: \\n{}\\n\".format(loss3))"
   ]
  },
  {
   "cell_type": "markdown",
   "metadata": {},
   "source": [
    " \n"
   ]
  },
  {
   "cell_type": "markdown",
   "metadata": {},
   "source": [
    "위 예제처럼 다양한 모델들의 loss 값을 구할 수 있었고 이를 비교면 `model1` 모델이 오차를 적게 내는 모델이란 것을 알 수 있었습니다.\n",
    "\n",
    "이렇게 함수의 따라 loss 값이 바뀔 수 있지만 함수를 구성하고 있는 파라미터 값들에 따라도 그래프의 궤적이 변하게 되기에 loss 값 또한 변합니다.\n",
    "\n",
    "그럼 만약 1차 선형 회귀 모델을 선택하였다면 loss 값을 줄이기 위해서 파라미터를 어떻게 변화시켜야 할까요.\n",
    "\n",
    "아래 예제를 수행하며 파라미터에 따라 변하는 loss 값을 비교해 봅시다."
   ]
  },
  {
   "cell_type": "markdown",
   "metadata": {},
   "source": [
    " "
   ]
  },
  {
   "cell_type": "markdown",
   "metadata": {},
   "source": [
    "##### <예제 3> 1차 함수  파라미터에 따른 Loss"
   ]
  },
  {
   "cell_type": "markdown",
   "metadata": {},
   "source": [
    "1차 함수 모델의 파라미터에 따라 변하는 loss 값을 비교해 봅시다."
   ]
  },
  {
   "cell_type": "code",
   "execution_count": 6,
   "metadata": {
    "scrolled": false
   },
   "outputs": [
    {
     "name": "stdout",
     "output_type": "stream",
     "text": [
      "Loss 4: \n",
      "3.517499999999999\n",
      "\n",
      "Loss 5: \n",
      "20.767500000000005\n",
      "\n",
      "Loss 6: \n",
      "1.4675000000000002\n",
      "\n"
     ]
    }
   ],
   "source": [
    "model4 = 3*feature_data\n",
    "model5 = -2*feature_data+10\n",
    "model6 = feature_data+3\n",
    "\n",
    "loss4 = loss(model4,label_data)\n",
    "loss5 = loss(model5,label_data)\n",
    "loss6 = loss(model6,label_data)\n",
    "\n",
    "print(\"Loss 4: \\n{}\\n\".format(loss4))\n",
    "print(\"Loss 5: \\n{}\\n\".format(loss5))\n",
    "print(\"Loss 6: \\n{}\\n\".format(loss6))"
   ]
  },
  {
   "cell_type": "markdown",
   "metadata": {},
   "source": [
    "위 모델에서는 `model6`이 가장 낮은 loss 값을 출력하는 파라미터를 가진 모델이라 할 수 있습니다. \n",
    "\n",
    "그렇다면 이러한 파라미터는 어떻게 구할 수 있을까요?\n",
    "\n",
    "다음 학습 노트북에서는 loss 값을 줄이는 파라미터를 찾는 방법을 알아봅니다."
   ]
  },
  {
   "cell_type": "markdown",
   "metadata": {},
   "source": [
    "---"
   ]
  }
 ],
 "metadata": {
  "kernelspec": {
   "display_name": "Python 3",
   "language": "python",
   "name": "python3"
  },
  "language_info": {
   "codemirror_mode": {
    "name": "ipython",
    "version": 3
   },
   "file_extension": ".py",
   "mimetype": "text/x-python",
   "name": "python",
   "nbconvert_exporter": "python",
   "pygments_lexer": "ipython3",
   "version": "3.6.9"
  },
  "toc": {
   "base_numbering": 1,
   "nav_menu": {},
   "number_sections": false,
   "sideBar": true,
   "skip_h1_title": false,
   "title_cell": "Table of Contents",
   "title_sidebar": "Contents",
   "toc_cell": false,
   "toc_position": {},
   "toc_section_display": true,
   "toc_window_display": true
  },
  "varInspector": {
   "cols": {
    "lenName": 16,
    "lenType": 16,
    "lenVar": 40
   },
   "kernels_config": {
    "python": {
     "delete_cmd_postfix": "",
     "delete_cmd_prefix": "del ",
     "library": "var_list.py",
     "varRefreshCmd": "print(var_dic_list())"
    },
    "r": {
     "delete_cmd_postfix": ") ",
     "delete_cmd_prefix": "rm(",
     "library": "var_list.r",
     "varRefreshCmd": "cat(var_dic_list()) "
    }
   },
   "types_to_exclude": [
    "module",
    "function",
    "builtin_function_or_method",
    "instance",
    "_Feature"
   ],
   "window_display": false
  }
 },
 "nbformat": 4,
 "nbformat_minor": 4
}
