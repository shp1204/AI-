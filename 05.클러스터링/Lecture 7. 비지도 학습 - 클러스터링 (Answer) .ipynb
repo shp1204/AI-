{
 "cells": [
  {
   "cell_type": "markdown",
   "metadata": {},
   "source": [
    "# 7장. 비지도 학습 - 클러스터링"
   ]
  },
  {
   "cell_type": "markdown",
   "metadata": {},
   "source": [
    "---"
   ]
  },
  {
   "cell_type": "markdown",
   "metadata": {},
   "source": [
    "## 학습 목표\n",
    "- 간단한 트리 분류기를 만들어봅니다.\n",
    "- 의사결정트리를 직접 사용해보고 최적의 파라미터를 찾는 기법에 대해서 학습합니다.\n",
    "- 앙상블 기법을 직접 적용해봅니다."
   ]
  },
  {
   "cell_type": "markdown",
   "metadata": {},
   "source": [
    "---"
   ]
  },
  {
   "cell_type": "markdown",
   "metadata": {},
   "source": [
    "## 목차"
   ]
  },
  {
   "cell_type": "markdown",
   "metadata": {},
   "source": [
    "### 1. 클러스터링\n",
    "1. K-means 군집화\n",
    "2. Clustering 시각화\n",
    "3. Gaussian Mixture Model (GMM)\n",
    "4. K-means VS GMM\n"
   ]
  },
  {
   "cell_type": "markdown",
   "metadata": {},
   "source": [
    "---"
   ]
  },
  {
   "cell_type": "markdown",
   "metadata": {},
   "source": [
    "## 1. 클러스터링"
   ]
  },
  {
   "cell_type": "markdown",
   "metadata": {},
   "source": [
    "### 1-1. K-means 군집화"
   ]
  },
  {
   "cell_type": "markdown",
   "metadata": {},
   "source": [
    "K-means clustering은 가장 간단하고 널리 사용되는 클러스터링 알고리즘 입니다."
   ]
  },
  {
   "cell_type": "markdown",
   "metadata": {},
   "source": [
    "K-means는 데이터의 영역을 대표하는 Cluster-center를 찾아가며 데이터를 클러스터에 할당합니다."
   ]
  },
  {
   "cell_type": "markdown",
   "metadata": {},
   "source": [
    "### KMeans 함수 설명"
   ]
  },
  {
   "cell_type": "markdown",
   "metadata": {},
   "source": [
    "- `KMeans(n_clusters,init,max_iter)`\n",
    "    - n_clusters : 군집의 개수, 즉 군집 중심점의 개수\n",
    "\n",
    "    - init : 초기 군집 중심점의 좌표를 설정할 방식 (default = ‘k-means++’)\n",
    "\n",
    "    - max_iter : 최대 반복 횟수, 이 횟수 이전에 모든 데이터의 중심점 이동이 없으면 종료\n"
   ]
  },
  {
   "cell_type": "markdown",
   "metadata": {},
   "source": [
    "- KMeans 속성\n",
    "    - labels_ : 각 데이터가 속한 군집 중심점 label\n",
    "    - cluster_centers_ : 각 군집 중심점의 좌표"
   ]
  },
  {
   "cell_type": "markdown",
   "metadata": {},
   "source": [
    "### 실습"
   ]
  },
  {
   "cell_type": "markdown",
   "metadata": {},
   "source": [
    "1. `KMeans()` 객체를 불러오고 내부 파라미터를설정해주세요."
   ]
  },
  {
   "cell_type": "markdown",
   "metadata": {},
   "source": [
    "2. Dataframe에 `kmeans`로 군집화된 `labels_`을 추가해주세요."
   ]
  },
  {
   "cell_type": "markdown",
   "metadata": {},
   "source": [
    "3. `iris_result`를 보고 군집화가 어떻게 이루어졌는지 확인해보세요."
   ]
  },
  {
   "cell_type": "markdown",
   "metadata": {},
   "source": [
    "### TIP"
   ]
  },
  {
   "cell_type": "markdown",
   "metadata": {},
   "source": [
    "`df.groupby()` 함수로 데이터프레임의 특정 부분을 추출하여 정리할 수 있습니다."
   ]
  },
  {
   "cell_type": "code",
   "execution_count": 1,
   "metadata": {},
   "outputs": [
    {
     "name": "stdout",
     "output_type": "stream",
     "text": [
      "target  cluster\n",
      "0       1          50\n",
      "1       0          48\n",
      "        2           2\n",
      "2       0          14\n",
      "        2          36\n",
      "Name: sepal length (cm), dtype: int64\n"
     ]
    }
   ],
   "source": [
    "import pandas as pd\n",
    "import numpy as np\n",
    "from sklearn.cluster import KMeans\n",
    "from sklearn.datasets import load_iris\n",
    "import matplotlib.pyplot as plt\n",
    "\n",
    "def main():\n",
    "    # Iris 데이터 불러오기\n",
    "    iris = load_iris()\n",
    "    \n",
    "    # Iris 데이터 프레임 만들기\n",
    "    irisDF = pd.DataFrame(data = iris.data, columns = iris.feature_names)\n",
    "    \n",
    "    # 1.KMeans 객체 불러오기\n",
    "    # Iris 데이터는 3개의 클래스를 가지고 있으므로 3개의 군집으로 나누어줍니다.\n",
    "    # irisDF를 넣어 군집화를 진행합니다.\n",
    "    kmeans = KMeans(n_clusters = 3).fit(irisDF)\n",
    "    \n",
    "    # 2.군집화 결과를 데이터 프레임에 추가합니다.\n",
    "    irisDF['cluster'] = kmeans.labels_\n",
    "    irisDF['target'] = iris.target\n",
    "    \n",
    "    # 군집화 결과를 보기 위해 groupby 함수를 사용해보겠습니다.\n",
    "    # target과 cluster의 개수에 대해 sepal_length 데이터를 표현합니다.\n",
    "    iris_result = irisDF.groupby(['target','cluster'])['sepal length (cm)'].count()\n",
    "    print(iris_result)\n",
    "    \n",
    "if __name__ == \"__main__\":\n",
    "    main()\n"
   ]
  },
  {
   "cell_type": "markdown",
   "metadata": {},
   "source": [
    "---"
   ]
  },
  {
   "cell_type": "markdown",
   "metadata": {},
   "source": [
    "### 1-2. PCA"
   ]
  },
  {
   "cell_type": "markdown",
   "metadata": {},
   "source": [
    "이번엔 iris 데이터를 시각화해보겠습니다."
   ]
  },
  {
   "cell_type": "markdown",
   "metadata": {},
   "source": [
    "Iris 데이터는 sepal length, sepal width, petal length, petal width 총 4가지 feature를 가지고 있으므로 2차원 평면상에 표현하기 위해서는 feature의 차원을 2개로 축소시켜야합니다.\n"
   ]
  },
  {
   "cell_type": "markdown",
   "metadata": {},
   "source": [
    "예시로 PCA(Principal Component Analysis)를 사용하여 4개의 feature dimension을 2개의 feature로 축소해보겠습니다."
   ]
  },
  {
   "cell_type": "markdown",
   "metadata": {},
   "source": [
    "- `PCA(n_components)`\n",
    "    - n_components : 출력의 dimension"
   ]
  },
  {
   "cell_type": "markdown",
   "metadata": {},
   "source": [
    "- `PCA.fit_transform(data)` : 데이터의 차원을 축소"
   ]
  },
  {
   "cell_type": "markdown",
   "metadata": {},
   "source": [
    "### 실습"
   ]
  },
  {
   "cell_type": "markdown",
   "metadata": {},
   "source": [
    "1. `KMeans()`를 불러오고 내부 인자를 설정해보세요."
   ]
  },
  {
   "cell_type": "markdown",
   "metadata": {},
   "source": [
    "2. `Visualize()`에서 PCA를 통해 Feature의 차원을 축소시켜보세요."
   ]
  },
  {
   "cell_type": "markdown",
   "metadata": {},
   "source": [
    "3. 축소된 feature `pca_x`와 `pca_y`를 데이터프레임에 추가해주세요."
   ]
  },
  {
   "cell_type": "markdown",
   "metadata": {},
   "source": [
    "4. 군집화 결과를 보고 어떻게 군집화가 됐는지 확인해보세요."
   ]
  },
  {
   "cell_type": "code",
   "execution_count": 2,
   "metadata": {
    "scrolled": true
   },
   "outputs": [
    {
     "data": {
      "image/png": "[encoded data removed]",
      "text/plain": [
       "<Figure size 432x288 with 1 Axes>"
      ]
     },
     "metadata": {
      "needs_background": "light"
     },
     "output_type": "display_data"
    }
   ],
   "source": [
    "import matplotlib.pyplot as plt\n",
    "import pandas as pd\n",
    "import numpy as np\n",
    "from sklearn.cluster import KMeans\n",
    "from sklearn.datasets import load_iris\n",
    "\n",
    "iris = load_iris()\n",
    "irisDF = pd.DataFrame(data = iris.data, columns = iris.feature_names)\n",
    "\n",
    "def Visualize():\n",
    "    from sklearn.decomposition import PCA\n",
    "    \n",
    "    # 시각화를 위해 PCA로 feature dimension을 2차원으로 감소시켜줍니다.\n",
    "    # 1.PCA 객체를 불러오고 n_components를 설정합니다.\n",
    "    pca = PCA(n_components = 2)\n",
    "    \n",
    "    # 2.iris.data를 PCA로 변환시켜줍니다.\n",
    "    pca_transformed = pca.fit_transform(iris.data)\n",
    "\n",
    "    # 3.데이터프레임에 차원 축소된 값을 넣어줍니다.\n",
    "    irisDF['pca_x'] = pca_transformed[:,0]\n",
    "    irisDF['pca_y'] = pca_transformed[:,1]\n",
    "    \n",
    "    # 군집된 값이 0, 1, 2 인 경우, 인덱스를 추출합니다.\n",
    "    idx_0 = irisDF[irisDF['cluster'] == 0].index\n",
    "    idx_1 = irisDF[irisDF['cluster'] == 1].index\n",
    "    idx_2 = irisDF[irisDF['cluster'] == 2].index\n",
    "\n",
    "    # 각 군집 인덱스의 pca_x, pca_y 값 추출 및 시각화\n",
    "    fig, ax = plt.subplots()\n",
    "    \n",
    "    ax.scatter(x=irisDF.loc[idx_0, 'pca_x'], y= irisDF.loc[idx_0, 'pca_y'], marker = 'o')\n",
    "    ax.scatter(x=irisDF.loc[idx_1, 'pca_x'], y= irisDF.loc[idx_1, 'pca_y'], marker = 's')\n",
    "    ax.scatter(x=irisDF.loc[idx_2, 'pca_x'], y= irisDF.loc[idx_2, 'pca_y'], marker = '^')\n",
    "    ax.set_xlabel('PCA1')\n",
    "    ax.set_ylabel('PCA2')\n",
    "    \n",
    "def main():\n",
    "    # 4.Kmeans 객체를 불러오고 fit()을 실행해주세요..\n",
    "    kmeans = KMeans(n_clusters = 3).fit(irisDF)\n",
    "    irisDF['cluster'] = kmeans.labels_\n",
    "    irisDF['target'] = iris.target\n",
    "    iris_result = irisDF.groupby(['target','cluster'])['sepal length (cm)'].count()\n",
    "    \n",
    "    Visualize()\n",
    "    \n",
    "if __name__ == \"__main__\":\n",
    "    main()\n"
   ]
  },
  {
   "cell_type": "markdown",
   "metadata": {},
   "source": [
    "---"
   ]
  },
  {
   "cell_type": "markdown",
   "metadata": {},
   "source": [
    "### 1-3. Gaussian Mixture Model (GMM)"
   ]
  },
  {
   "cell_type": "markdown",
   "metadata": {},
   "source": [
    "GMM clustering은 데이터가 여러 개의 가우시안 분포를 가지고 있다고 가정한 후 클러스터링을 진행하는 방식입니다."
   ]
  },
  {
   "cell_type": "markdown",
   "metadata": {},
   "source": [
    "여러 개의 데이터 세트가 있다면 이를 구성하는 여러 개의 정규 분포 곡선을 추출하고, 개별 데이터가 이중 어떤 정규 분포에 속하는지 결정합니다."
   ]
  },
  {
   "cell_type": "markdown",
   "metadata": {},
   "source": [
    "GMM은 sklearn.mixture 패키지에 있습니다. GMM의 경우에는 군집 중심점 (clustering center)가 없으므로 군집의 개수를 정해주면 됩니다."
   ]
  },
  {
   "cell_type": "markdown",
   "metadata": {},
   "source": [
    "- `GaussianMixture(n_components)`\n",
    "    - n_components : 군집의 개수"
   ]
  },
  {
   "cell_type": "markdown",
   "metadata": {},
   "source": [
    "### 실습"
   ]
  },
  {
   "cell_type": "markdown",
   "metadata": {},
   "source": [
    "1. 작성된 코드를 보며 따라가 보세요."
   ]
  },
  {
   "cell_type": "markdown",
   "metadata": {},
   "source": [
    "2. ` GaussianMixture()`를 불러오고 `predict`를 예측해보세요."
   ]
  },
  {
   "cell_type": "markdown",
   "metadata": {},
   "source": [
    "3. `KMeans()`를 불러오고 `predict`를 예측해보세요."
   ]
  },
  {
   "cell_type": "markdown",
   "metadata": {},
   "source": [
    "4. `iris_df`에 `gmm_cluster_labels`, `kmeans_cluster_labels` 값을 넣어 데이터를 정리해보세요."
   ]
  },
  {
   "cell_type": "markdown",
   "metadata": {},
   "source": [
    "5. Kmeans와 GMM의 `iris_result`를 비교해보고 결과가 어떻게 되는지 확인해보세요."
   ]
  },
  {
   "cell_type": "code",
   "execution_count": 3,
   "metadata": {},
   "outputs": [
    {
     "name": "stdout",
     "output_type": "stream",
     "text": [
      "target  gmm_cluster\n",
      "0       0              50\n",
      "1       2              45\n",
      "        1               5\n",
      "2       1              50\n",
      "Name: gmm_cluster, dtype: int64 \n",
      "\n"
     ]
    },
    {
     "data": {
      "image/png": "[encoded data removed]",
      "text/plain": [
       "<Figure size 432x288 with 1 Axes>"
      ]
     },
     "metadata": {
      "needs_background": "light"
     },
     "output_type": "display_data"
    }
   ],
   "source": [
    "import numpy as np\n",
    "import pandas as pd\n",
    "import matplotlib.pyplot as plt\n",
    "from sklearn.datasets import load_iris\n",
    "from sklearn.cluster import KMeans\n",
    "from sklearn.mixture import GaussianMixture\n",
    "\n",
    "iris = load_iris()\n",
    "feature_names = iris.feature_names\n",
    "\n",
    "iris_df = pd.DataFrame(data =iris.data, columns = feature_names)\n",
    "iris_df['target'] = iris.target\n",
    "\n",
    "def Visualize():\n",
    "    from sklearn.decomposition import PCA\n",
    "\n",
    "    pca = PCA(n_components=2)\n",
    "    pca_transformed = pca.fit_transform(iris.data)\n",
    "\n",
    "    iris_df['pca_x'] = pca_transformed[:,0]\n",
    "    iris_df['pca_y'] = pca_transformed[:,1]\n",
    "\n",
    "\n",
    "    # 군집된 값이 0, 1, 2 인 경우, 인덱스 추출\n",
    "    idx_0 = iris_df[iris_df['gmm_cluster'] == 0].index\n",
    "    idx_1 = iris_df[iris_df['gmm_cluster'] == 1].index\n",
    "    idx_2 = iris_df[iris_df['gmm_cluster'] == 2].index\n",
    "    \n",
    "    # 각 군집 인덱스의 pca_x, pca_y 값 추출 및 시각화\n",
    "    fig, ax = plt.subplots()\n",
    "    \n",
    "    ax.scatter(x=iris_df.loc[idx_0, 'pca_x'], y= iris_df.loc[idx_0, 'pca_y'], marker = 'o')\n",
    "    ax.scatter(x=iris_df.loc[idx_1, 'pca_x'], y= iris_df.loc[idx_1, 'pca_y'], marker = 's')\n",
    "    ax.scatter(x=iris_df.loc[idx_2, 'pca_x'], y= iris_df.loc[idx_2, 'pca_y'], marker = '^')\n",
    "    ax.set_title('Gaussian Mixture Model')\n",
    "    ax.set_xlabel('PCA1')\n",
    "    ax.set_ylabel('PCA2')\n",
    "    \n",
    "def main():\n",
    "\t# 1.Gaussian Mixture Model 불러오기 및 학습\n",
    "    gmm = GaussianMixture(n_components=3).fit(iris.data)\n",
    "    # 2.predict 값 출력\n",
    "    gmm_cluster_labels = gmm.predict(iris.data)\n",
    "    \n",
    "    # 3.DataFrame에 예측 값 넣기\n",
    "    iris_df['gmm_cluster'] = gmm_cluster_labels\n",
    "    \n",
    "    # 결과 출력\n",
    "    iris_result = iris_df.groupby(['target'])['gmm_cluster'].value_counts()\n",
    "    print(iris_result,'\\n')\n",
    "    \n",
    "    Visualize()\n",
    "    \n",
    "if __name__ == \"__main__\":\n",
    "    main()\n"
   ]
  },
  {
   "cell_type": "markdown",
   "metadata": {},
   "source": [
    "### 1-4. K-means VS GMM"
   ]
  },
  {
   "cell_type": "markdown",
   "metadata": {},
   "source": [
    "### 임의의 데이터 생성"
   ]
  },
  {
   "cell_type": "markdown",
   "metadata": {},
   "source": [
    "Clustering 알고리즘을 테스트하기 위한 데이터 생성기를 사용해보겠습니다."
   ]
  },
  {
   "cell_type": "markdown",
   "metadata": {},
   "source": [
    "대표적으로 `make_blob()` API를 사용합니다.\n",
    "이를 이용해 타원형 분포를 가진 데이터를 만들어냅니다."
   ]
  },
  {
   "cell_type": "markdown",
   "metadata": {},
   "source": [
    "- `make_blob(n_samples, n_features, centers, cluster_std)`\n",
    "    - n_samples : 생성할 데이터의 총 개수\n",
    "    - n_features : 데이터의 피쳐 개수, 시각화를 위해 보통 2개로 설정\n",
    "    - centers : 군집의 개수\n",
    "    - cluster_std : 데이터의 표준편차"
   ]
  },
  {
   "cell_type": "markdown",
   "metadata": {},
   "source": [
    "### 비교 분석하기"
   ]
  },
  {
   "cell_type": "markdown",
   "metadata": {},
   "source": [
    "K-means는 군집화 범위가 원형입니다. 그러므로 데이터 세트의 분포가 원형에 가까울 수록 효율이 높아집니다."
   ]
  },
  {
   "cell_type": "markdown",
   "metadata": {},
   "source": [
    "하지만 데이터의 분포가 원형인 경우는 적습니다. 데이터의 분포가 만약 타원의 형태로 길쭉하게 늘어져 있다면 K-means는 제대로 군집화를 하지 못합니다."
   ]
  },
  {
   "cell_type": "markdown",
   "metadata": {},
   "source": [
    "이런 경우에는 데이터의 분포 방향에 따라 군집화를 하는 GMM을 사용하면 군집화 성능을 높일 수 있습니다."
   ]
  },
  {
   "cell_type": "markdown",
   "metadata": {},
   "source": [
    "### 실습"
   ]
  },
  {
   "cell_type": "markdown",
   "metadata": {},
   "source": [
    "1. 작성된 코드를 보고 이해해보세요."
   ]
  },
  {
   "cell_type": "markdown",
   "metadata": {},
   "source": [
    "2. 결과 그래프를 보고 K-means와 GMM의 차이를 분석해보세요."
   ]
  },
  {
   "cell_type": "markdown",
   "metadata": {},
   "source": [
    "3. `Make_blobs()`에서 `center`를 바꿔가며 군집의 개수를 변경시키고 `K_mean()`와 `GMM()`으로 다시 군집화해보세요."
   ]
  },
  {
   "cell_type": "code",
   "execution_count": 4,
   "metadata": {},
   "outputs": [
    {
     "name": "stdout",
     "output_type": "stream",
     "text": [
      "K-means Clustering\n",
      "target  kmeans_label\n",
      "0       0               67\n",
      "        2               31\n",
      "        1                2\n",
      "1       1               97\n",
      "        0                3\n",
      "2       2               67\n",
      "        0               33\n",
      "Name: kmeans_label, dtype: int64\n",
      "Gaussian Mixture Model\n",
      "target  gmm_label\n",
      "0       0            100\n",
      "1       1             98\n",
      "        0              2\n",
      "2       2             92\n",
      "        0              8\n",
      "Name: gmm_label, dtype: int64\n"
     ]
    },
    {
     "data": {
      "image/png": "[encoded data removed]",
      "text/plain": [
       "<Figure size 432x288 with 1 Axes>"
      ]
     },
     "metadata": {
      "needs_background": "light"
     },
     "output_type": "display_data"
    },
    {
     "data": {
      "image/png": "[encoded data removed]",
      "text/plain": [
       "<Figure size 432x288 with 1 Axes>"
      ]
     },
     "metadata": {
      "needs_background": "light"
     },
     "output_type": "display_data"
    },
    {
     "data": {
      "image/png": "[encoded data removed]",
      "text/plain": [
       "<Figure size 432x288 with 1 Axes>"
      ]
     },
     "metadata": {
      "needs_background": "light"
     },
     "output_type": "display_data"
    }
   ],
   "source": [
    "import numpy as np\n",
    "import pandas as pd\n",
    "import matplotlib.pyplot as plt\n",
    "from sklearn.datasets import load_iris\n",
    "from sklearn.cluster import KMeans\n",
    "from sklearn.mixture import GaussianMixture\n",
    "from sklearn.datasets import make_blobs\n",
    "\n",
    "# make_blobs()으로 데이터를 생성해보세요.\n",
    "X, y = make_blobs(n_samples = 300, n_features =2, centers =3, cluster_std = 0.8, random_state=0)\n",
    "\n",
    "# 데이터의 분포를 변형시키기 위해 transformation을 진행합니다.\n",
    "transformation = [[0.60834549, -0.63667341],[-0.40887718,0.85253229]]\n",
    "X_aniso = np.dot(X, transformation)\n",
    "\n",
    "# 데이터 프레임 만들기 \n",
    "clusterDF = pd.DataFrame(data = X_aniso, columns= ['ftr1','ftr2'])\n",
    "clusterDF['target'] = y\n",
    "target_list = np.unique(y)\n",
    "\n",
    "# 생성된 데이터 시각화\n",
    "def data_visualize():\n",
    "    fig, ax = plt.subplots()\n",
    "    for target in target_list:\n",
    "        target_cluster = clusterDF[clusterDF['target'] == target]\n",
    "        ax.scatter(x = target_cluster['ftr1'], y = target_cluster['ftr2'])\n",
    "    \n",
    "# K-Means Clustering\n",
    "def K_means():\n",
    "    # K-means\n",
    "    k_means = KMeans(n_clusters = 3, random_state = 0) # KMeans clustering\n",
    "    kmeans_label = k_means.fit_predict(X_aniso)         # 학습 및 예측\n",
    "    clusterDF['kmeans_label']=kmeans_label             # 데이터프레임에 결과값 저장\n",
    "    \n",
    "    # Kmeans 군집의 중심값을 뽑아보세요.\n",
    "    center = k_means.cluster_centers_                   # 군집별 중심값 추출\n",
    "    \n",
    "    # KMeans 군집 결과 시각화\n",
    "    unique_labels = np.unique(kmeans_label)\n",
    "    fig, ax = plt.subplots()\n",
    "    \n",
    "    for label in unique_labels:\n",
    "        label_cluster = clusterDF[clusterDF['kmeans_label'] == label]\n",
    "        center_x_y = center[label]\n",
    "        ax.scatter(x = label_cluster['ftr1'], y = label_cluster['ftr2'])\n",
    "        ax.scatter(x = center_x_y[0], y = center_x_y[1], s = 70,color = 'k', marker = '$%d$' % label)\n",
    "    \n",
    "    print(\"K-means Clustering\")\n",
    "    print(clusterDF.groupby('target')['kmeans_label'].value_counts())\n",
    "\n",
    "def GMM():\n",
    "    # GMM Clutering\n",
    "    gmm = GaussianMixture(n_components=3, random_state=0)   # GMM 불러오기\n",
    "    gmm_label = gmm.fit(X_aniso).predict(X_aniso)           # 학습과 결과 예측\n",
    "    clusterDF['gmm_label']=gmm_label                        # 예측 label 데이터프레임에 입력\n",
    "    unique_labels = np.unique(gmm_label)\n",
    "    \n",
    "    # GMM Clustering 시각화\n",
    "    fig, ax = plt.subplots()\n",
    "    for label in unique_labels:\n",
    "        label_cluster = clusterDF[clusterDF['gmm_label'] == label]\n",
    "        plt.scatter(x = label_cluster['ftr1'], y = label_cluster['ftr2'])\n",
    "    \n",
    "    print(\"Gaussian Mixture Model\")\n",
    "    print(clusterDF.groupby('target')['gmm_label'].value_counts())\n",
    "\n",
    "def main():\n",
    "    data_visualize()\n",
    "    K_means()\n",
    "    GMM()\n",
    "\n",
    "if __name__ == \"__main__\":\n",
    "    main()\n"
   ]
  }
 ],
 "metadata": {
  "kernelspec": {
   "display_name": "Python 3",
   "language": "python",
   "name": "python3"
  },
  "language_info": {
   "codemirror_mode": {
    "name": "ipython",
    "version": 3
   },
   "file_extension": ".py",
   "mimetype": "text/x-python",
   "name": "python",
   "nbconvert_exporter": "python",
   "pygments_lexer": "ipython3",
   "version": "3.6.9"
  },
  "toc": {
   "base_numbering": 1,
   "nav_menu": {},
   "number_sections": false,
   "sideBar": true,
   "skip_h1_title": false,
   "title_cell": "Table of Contents",
   "title_sidebar": "Contents",
   "toc_cell": false,
   "toc_position": {},
   "toc_section_display": true,
   "toc_window_display": true
  },
  "varInspector": {
   "cols": {
    "lenName": 16,
    "lenType": 16,
    "lenVar": 40
   },
   "kernels_config": {
    "python": {
     "delete_cmd_postfix": "",
     "delete_cmd_prefix": "del ",
     "library": "var_list.py",
     "varRefreshCmd": "print(var_dic_list())"
    },
    "r": {
     "delete_cmd_postfix": ") ",
     "delete_cmd_prefix": "rm(",
     "library": "var_list.r",
     "varRefreshCmd": "cat(var_dic_list()) "
    }
   },
   "types_to_exclude": [
    "module",
    "function",
    "builtin_function_or_method",
    "instance",
    "_Feature"
   ],
   "window_display": false
  }
 },
 "nbformat": 4,
 "nbformat_minor": 4
}
