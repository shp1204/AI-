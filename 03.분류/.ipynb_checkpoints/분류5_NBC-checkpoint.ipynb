{
 "cells": [
  {
   "cell_type": "markdown",
   "metadata": {},
   "source": [
    "# 5. Naive Bayes Classifier (NBC)"
   ]
  },
  {
   "cell_type": "markdown",
   "metadata": {},
   "source": [
    "---"
   ]
  },
  {
   "cell_type": "markdown",
   "metadata": {},
   "source": [
    "## 학습 목표\n",
    "- 이론 수업에서 배웠던 DC 코믹스 예제를 실제 코드 동작을 통해 이해한다.\n",
    "- sklearn에 내장된 wine 데이터와 외부 sentimentSentence 데이터를 사용하여 NBC를 구현해본다."
   ]
  },
  {
   "cell_type": "markdown",
   "metadata": {},
   "source": [
    "---"
   ]
  },
  {
   "cell_type": "markdown",
   "metadata": {},
   "source": [
    "## 목차\n",
    "\n",
    "### 5.1.Naive Bayes Classifier - data: DC comics\n",
    "1. 데이터 로드/전처리\n",
    "2. 모델 정의\n",
    "3. 모델 학습\n",
    "4. 결과 예측\n",
    "5. 결과 확인\n",
    "\n",
    "### 5.2. Naive Bayes Classifier - data: wine\n",
    "1. 데이터 로드\n",
    "2. 모델 정의\n",
    "3. 모델 학습\n",
    "4. 결과 예측\n",
    "5. 결과 평가\n",
    "6. 모델 분석\n",
    "\n",
    "### 5.3. Naive Bayes Classifier - data: sentiment analysis\n",
    "\n",
    "> **직접 실습해보세요!**\n",
    "\n",
    "1. 데이터 로드\n",
    "2. 모델 정의\n",
    "3. 모델 학습 \n",
    "4. 결과 예측\n",
    "5. 결과 평가"
   ]
  },
  {
   "cell_type": "markdown",
   "metadata": {},
   "source": [
    "---"
   ]
  },
  {
   "cell_type": "markdown",
   "metadata": {},
   "source": [
    "## 5.1 Naive Bayes Classifier - data: DC comics\n",
    "\n",
    "> Scikit-Learn을 사용하여 NBC을 실습해봅니다.\n",
    "- Data: DC comics 데이터 직접 입력 (이론 PPT와 동일)"
   ]
  },
  {
   "cell_type": "markdown",
   "metadata": {},
   "source": [
    "### 5-1-1. 데이터 로드/전처리"
   ]
  },
  {
   "cell_type": "markdown",
   "metadata": {},
   "source": [
    "데이터를 직접 입력합니다."
   ]
  },
  {
   "cell_type": "code",
   "execution_count": 1,
   "metadata": {
    "ExecuteTime": {
     "end_time": "2020-07-14T06:29:51.027126Z",
     "start_time": "2020-07-14T06:29:48.117060Z"
    }
   },
   "outputs": [
    {
     "data": {
      "text/html": [
       "<div>\n",
       "<style scoped>\n",
       "    .dataframe tbody tr th:only-of-type {\n",
       "        vertical-align: middle;\n",
       "    }\n",
       "\n",
       "    .dataframe tbody tr th {\n",
       "        vertical-align: top;\n",
       "    }\n",
       "\n",
       "    .dataframe thead th {\n",
       "        text-align: right;\n",
       "    }\n",
       "</style>\n",
       "<table border=\"1\" class=\"dataframe\">\n",
       "  <thead>\n",
       "    <tr style=\"text-align: right;\">\n",
       "      <th></th>\n",
       "      <th>name</th>\n",
       "      <th>sex</th>\n",
       "      <th>mask</th>\n",
       "      <th>cape</th>\n",
       "      <th>tie</th>\n",
       "      <th>ears</th>\n",
       "      <th>smokes</th>\n",
       "      <th>label</th>\n",
       "    </tr>\n",
       "  </thead>\n",
       "  <tbody>\n",
       "    <tr>\n",
       "      <th>0</th>\n",
       "      <td>batman</td>\n",
       "      <td>male</td>\n",
       "      <td>yes</td>\n",
       "      <td>yes</td>\n",
       "      <td>no</td>\n",
       "      <td>yes</td>\n",
       "      <td>no</td>\n",
       "      <td>good</td>\n",
       "    </tr>\n",
       "    <tr>\n",
       "      <th>1</th>\n",
       "      <td>robin</td>\n",
       "      <td>male</td>\n",
       "      <td>yes</td>\n",
       "      <td>yes</td>\n",
       "      <td>no</td>\n",
       "      <td>no</td>\n",
       "      <td>no</td>\n",
       "      <td>good</td>\n",
       "    </tr>\n",
       "    <tr>\n",
       "      <th>2</th>\n",
       "      <td>alfred</td>\n",
       "      <td>male</td>\n",
       "      <td>no</td>\n",
       "      <td>no</td>\n",
       "      <td>yes</td>\n",
       "      <td>no</td>\n",
       "      <td>no</td>\n",
       "      <td>good</td>\n",
       "    </tr>\n",
       "    <tr>\n",
       "      <th>3</th>\n",
       "      <td>penguin</td>\n",
       "      <td>male</td>\n",
       "      <td>no</td>\n",
       "      <td>no</td>\n",
       "      <td>yes</td>\n",
       "      <td>no</td>\n",
       "      <td>yes</td>\n",
       "      <td>bad</td>\n",
       "    </tr>\n",
       "    <tr>\n",
       "      <th>4</th>\n",
       "      <td>catwoman</td>\n",
       "      <td>female</td>\n",
       "      <td>yes</td>\n",
       "      <td>no</td>\n",
       "      <td>no</td>\n",
       "      <td>yes</td>\n",
       "      <td>no</td>\n",
       "      <td>bad</td>\n",
       "    </tr>\n",
       "    <tr>\n",
       "      <th>5</th>\n",
       "      <td>joker</td>\n",
       "      <td>male</td>\n",
       "      <td>no</td>\n",
       "      <td>no</td>\n",
       "      <td>no</td>\n",
       "      <td>no</td>\n",
       "      <td>no</td>\n",
       "      <td>bad</td>\n",
       "    </tr>\n",
       "    <tr>\n",
       "      <th>6</th>\n",
       "      <td>superman</td>\n",
       "      <td>male</td>\n",
       "      <td>yes</td>\n",
       "      <td>yes</td>\n",
       "      <td>no</td>\n",
       "      <td>no</td>\n",
       "      <td>no</td>\n",
       "      <td>None</td>\n",
       "    </tr>\n",
       "  </tbody>\n",
       "</table>\n",
       "</div>"
      ],
      "text/plain": [
       "       name     sex mask cape  tie ears smokes label\n",
       "0    batman    male  yes  yes   no  yes     no  good\n",
       "1     robin    male  yes  yes   no   no     no  good\n",
       "2    alfred    male   no   no  yes   no     no  good\n",
       "3   penguin    male   no   no  yes   no    yes   bad\n",
       "4  catwoman  female  yes   no   no  yes     no   bad\n",
       "5     joker    male   no   no   no   no     no   bad\n",
       "6  superman    male  yes  yes   no   no     no  None"
      ]
     },
     "execution_count": 1,
     "metadata": {},
     "output_type": "execute_result"
    }
   ],
   "source": [
    "# 데이터 준비\n",
    "\n",
    "import pandas as pd\n",
    "\n",
    "data = {\n",
    "    \"name\": [\"batman\", \"robin\", \"alfred\", \"penguin\", \"catwoman\", \"joker\", \"superman\"],\n",
    "    \"sex\": [\"male\", \"male\", \"male\", \"male\", \"female\", \"male\", \"male\"],\n",
    "    \"mask\": [\"yes\", \"yes\", \"no\", \"no\", \"yes\", \"no\", \"yes\"],\n",
    "    \"cape\": [\"yes\", \"yes\", \"no\", \"no\", \"no\", \"no\", \"yes\"],\n",
    "    \"tie\": [\"no\", \"no\", \"yes\", \"yes\", \"no\", \"no\", \"no\"],\n",
    "    \"ears\": [\"yes\", \"no\", \"no\", \"no\", \"yes\", \"no\", \"no\"],\n",
    "    \"smokes\": [\"no\", \"no\", \"no\", \"yes\", \"no\", \"no\", \"no\"],\n",
    "    \"label\": [\"good\", \"good\", \"good\", \"bad\", \"bad\", \"bad\", None],\n",
    "}\n",
    "\n",
    "df = pd.DataFrame(data)\n",
    "df"
   ]
  },
  {
   "cell_type": "markdown",
   "metadata": {},
   "source": [
    "Input 데이터와 Label 데이터를 분리합니다."
   ]
  },
  {
   "cell_type": "code",
   "execution_count": 2,
   "metadata": {
    "ExecuteTime": {
     "end_time": "2020-07-14T06:29:57.140470Z",
     "start_time": "2020-07-14T06:29:57.127461Z"
    }
   },
   "outputs": [
    {
     "data": {
      "text/plain": [
       "(array([['male', 'yes', 'yes', 'no', 'yes', 'no'],\n",
       "        ['male', 'yes', 'yes', 'no', 'no', 'no'],\n",
       "        ['male', 'no', 'no', 'yes', 'no', 'no'],\n",
       "        ['male', 'no', 'no', 'yes', 'no', 'yes'],\n",
       "        ['female', 'yes', 'no', 'no', 'yes', 'no'],\n",
       "        ['male', 'no', 'no', 'no', 'no', 'no'],\n",
       "        ['male', 'yes', 'yes', 'no', 'no', 'no']], dtype=object),\n",
       " array(['good', 'good', 'good', 'bad', 'bad', 'bad', None], dtype=object))"
      ]
     },
     "execution_count": 2,
     "metadata": {},
     "output_type": "execute_result"
    }
   ],
   "source": [
    "# Input 데이터와 Label 분리\n",
    "\n",
    "x = df[['sex', 'mask', 'cape', 'tie', 'ears', 'smokes']].values\n",
    "y = df['label'].values\n",
    "\n",
    "x, y"
   ]
  },
  {
   "cell_type": "code",
   "execution_count": 3,
   "metadata": {
    "ExecuteTime": {
     "end_time": "2020-07-14T06:30:00.965188Z",
     "start_time": "2020-07-14T06:30:00.958183Z"
    }
   },
   "outputs": [],
   "source": [
    "# train set과 test set 분리\n",
    "\n",
    "x_train, x_test = x[:-1], x[-1:]\n",
    "y_train, y_test = y[:-1], y[-1:]"
   ]
  },
  {
   "cell_type": "code",
   "execution_count": 4,
   "metadata": {
    "ExecuteTime": {
     "end_time": "2020-07-14T06:30:06.531144Z",
     "start_time": "2020-07-14T06:30:04.119430Z"
    }
   },
   "outputs": [
    {
     "data": {
      "text/html": [
       "<div>\n",
       "<style scoped>\n",
       "    .dataframe tbody tr th:only-of-type {\n",
       "        vertical-align: middle;\n",
       "    }\n",
       "\n",
       "    .dataframe tbody tr th {\n",
       "        vertical-align: top;\n",
       "    }\n",
       "\n",
       "    .dataframe thead th {\n",
       "        text-align: right;\n",
       "    }\n",
       "</style>\n",
       "<table border=\"1\" class=\"dataframe\">\n",
       "  <thead>\n",
       "    <tr style=\"text-align: right;\">\n",
       "      <th></th>\n",
       "      <th>name</th>\n",
       "      <th>sex</th>\n",
       "      <th>mask</th>\n",
       "      <th>cape</th>\n",
       "      <th>tie</th>\n",
       "      <th>ears</th>\n",
       "      <th>smokes</th>\n",
       "      <th>label</th>\n",
       "    </tr>\n",
       "  </thead>\n",
       "  <tbody>\n",
       "    <tr>\n",
       "      <th>0</th>\n",
       "      <td>batman</td>\n",
       "      <td>1.0</td>\n",
       "      <td>1.0</td>\n",
       "      <td>1.0</td>\n",
       "      <td>0.0</td>\n",
       "      <td>1.0</td>\n",
       "      <td>0.0</td>\n",
       "      <td>1.0</td>\n",
       "    </tr>\n",
       "    <tr>\n",
       "      <th>1</th>\n",
       "      <td>robin</td>\n",
       "      <td>1.0</td>\n",
       "      <td>1.0</td>\n",
       "      <td>1.0</td>\n",
       "      <td>0.0</td>\n",
       "      <td>0.0</td>\n",
       "      <td>0.0</td>\n",
       "      <td>1.0</td>\n",
       "    </tr>\n",
       "    <tr>\n",
       "      <th>2</th>\n",
       "      <td>alfred</td>\n",
       "      <td>1.0</td>\n",
       "      <td>0.0</td>\n",
       "      <td>0.0</td>\n",
       "      <td>1.0</td>\n",
       "      <td>0.0</td>\n",
       "      <td>0.0</td>\n",
       "      <td>1.0</td>\n",
       "    </tr>\n",
       "    <tr>\n",
       "      <th>3</th>\n",
       "      <td>penguin</td>\n",
       "      <td>1.0</td>\n",
       "      <td>0.0</td>\n",
       "      <td>0.0</td>\n",
       "      <td>1.0</td>\n",
       "      <td>0.0</td>\n",
       "      <td>1.0</td>\n",
       "      <td>0.0</td>\n",
       "    </tr>\n",
       "    <tr>\n",
       "      <th>4</th>\n",
       "      <td>catwoman</td>\n",
       "      <td>0.0</td>\n",
       "      <td>1.0</td>\n",
       "      <td>0.0</td>\n",
       "      <td>0.0</td>\n",
       "      <td>1.0</td>\n",
       "      <td>0.0</td>\n",
       "      <td>0.0</td>\n",
       "    </tr>\n",
       "    <tr>\n",
       "      <th>5</th>\n",
       "      <td>joker</td>\n",
       "      <td>1.0</td>\n",
       "      <td>0.0</td>\n",
       "      <td>0.0</td>\n",
       "      <td>0.0</td>\n",
       "      <td>0.0</td>\n",
       "      <td>0.0</td>\n",
       "      <td>0.0</td>\n",
       "    </tr>\n",
       "    <tr>\n",
       "      <th>6</th>\n",
       "      <td>superman</td>\n",
       "      <td>1.0</td>\n",
       "      <td>1.0</td>\n",
       "      <td>1.0</td>\n",
       "      <td>0.0</td>\n",
       "      <td>0.0</td>\n",
       "      <td>0.0</td>\n",
       "      <td>NaN</td>\n",
       "    </tr>\n",
       "  </tbody>\n",
       "</table>\n",
       "</div>"
      ],
      "text/plain": [
       "       name  sex  mask  cape  tie  ears  smokes  label\n",
       "0    batman  1.0   1.0   1.0  0.0   1.0     0.0    1.0\n",
       "1     robin  1.0   1.0   1.0  0.0   0.0     0.0    1.0\n",
       "2    alfred  1.0   0.0   0.0  1.0   0.0     0.0    1.0\n",
       "3   penguin  1.0   0.0   0.0  1.0   0.0     1.0    0.0\n",
       "4  catwoman  0.0   1.0   0.0  0.0   1.0     0.0    0.0\n",
       "5     joker  1.0   0.0   0.0  0.0   0.0     0.0    0.0\n",
       "6  superman  1.0   1.0   1.0  0.0   0.0     0.0    NaN"
      ]
     },
     "execution_count": 4,
     "metadata": {},
     "output_type": "execute_result"
    }
   ],
   "source": [
    "# 데이터 전처리\n",
    "\n",
    "import numpy as np\n",
    "from sklearn.preprocessing import OrdinalEncoder, LabelEncoder\n",
    "\n",
    "encoder = OrdinalEncoder().fit(x_train) # 내가 받은 feature를 yes=1, no=0으로 변환 : feature변경 시 사용\n",
    "x_train = encoder.transform(x_train)\n",
    "x_test = encoder.transform(x_test)\n",
    "\n",
    "le = LabelEncoder().fit(y_train) # 내가 받은 feature를 yes=1, no=0으로 변환 : label 변경 시 사용\n",
    "y_train = le.transform(y_train)\n",
    "\n",
    "temp = np.vstack([x_train, x_test])\n",
    "data['sex'] = temp[:, 0]\n",
    "data['mask'] = temp[:, 1]\n",
    "data['cape'] = temp[:, 2]\n",
    "data['tie'] = temp[:, 3]\n",
    "data['ears'] = temp[:, 4]\n",
    "data['smokes'] = temp[:, 5]\n",
    "data['label'] = y_train.tolist() + [None]\n",
    "\n",
    "pd.DataFrame(data)"
   ]
  },
  {
   "cell_type": "markdown",
   "metadata": {},
   "source": [
    "### 5-1-2. 모델 정의"
   ]
  },
  {
   "cell_type": "code",
   "execution_count": 5,
   "metadata": {
    "ExecuteTime": {
     "end_time": "2020-07-14T06:30:06.645228Z",
     "start_time": "2020-07-14T06:30:06.617205Z"
    }
   },
   "outputs": [],
   "source": [
    "# https://scikit-learn.org/stable/modules/generated/sklearn.naive_bayes.BernoulliNB.html?highlight=bernoullinb#sklearn.naive_bayes.BernoulliNB\n",
    "# Bernoulli Naive Bayes 학습 모델 사용\n",
    "\n",
    "from sklearn.naive_bayes import BernoulliNB\n",
    "\n",
    "# 모델 정의\n",
    "model = BernoulliNB()"
   ]
  },
  {
   "cell_type": "markdown",
   "metadata": {},
   "source": [
    "### 5-1-3. 모델 학습"
   ]
  },
  {
   "cell_type": "code",
   "execution_count": 6,
   "metadata": {
    "ExecuteTime": {
     "end_time": "2020-07-14T06:30:09.985599Z",
     "start_time": "2020-07-14T06:30:09.969588Z"
    }
   },
   "outputs": [
    {
     "data": {
      "text/plain": [
       "BernoulliNB(alpha=1.0, binarize=0.0, class_prior=None, fit_prior=True)"
      ]
     },
     "execution_count": 6,
     "metadata": {},
     "output_type": "execute_result"
    }
   ],
   "source": [
    "# 모델 학습\n",
    "model.fit(x_train, y_train)"
   ]
  },
  {
   "cell_type": "markdown",
   "metadata": {},
   "source": [
    "### 5-1-4. 결과 예측"
   ]
  },
  {
   "cell_type": "code",
   "execution_count": 7,
   "metadata": {
    "ExecuteTime": {
     "end_time": "2020-07-14T06:30:13.455065Z",
     "start_time": "2020-07-14T06:30:13.448059Z"
    }
   },
   "outputs": [],
   "source": [
    "# 데이터 예측\n",
    "y_pred = model.predict(x_test)"
   ]
  },
  {
   "cell_type": "markdown",
   "metadata": {},
   "source": [
    "### 5-1-5. 결과 확인"
   ]
  },
  {
   "cell_type": "code",
   "execution_count": 8,
   "metadata": {
    "ExecuteTime": {
     "end_time": "2020-07-14T06:30:16.502230Z",
     "start_time": "2020-07-14T06:30:16.496227Z"
    }
   },
   "outputs": [
    {
     "data": {
      "text/plain": [
       "array(['good'], dtype=object)"
      ]
     },
     "execution_count": 8,
     "metadata": {},
     "output_type": "execute_result"
    }
   ],
   "source": [
    "# 결과 확인\n",
    "le.inverse_transform(y_pred) # 0,1 로 변경했던 label을 기존 값으로 돌려줌"
   ]
  },
  {
   "cell_type": "raw",
   "metadata": {},
   "source": []
  },
  {
   "cell_type": "markdown",
   "metadata": {},
   "source": [
    "## 5.2 Naive Bayes Classifier - data: Wine\n",
    "\n",
    "> Scikit-Learn을 사용하여 NBC을 실습해봅니다.\n",
    "- Data: sklearn에 내장된 wine 데이터"
   ]
  },
  {
   "cell_type": "markdown",
   "metadata": {},
   "source": [
    "### 5-2-1. 데이터 로드"
   ]
  },
  {
   "cell_type": "code",
   "execution_count": 9,
   "metadata": {
    "ExecuteTime": {
     "end_time": "2020-07-14T06:30:30.104898Z",
     "start_time": "2020-07-14T06:30:29.568517Z"
    },
    "collapsed": true
   },
   "outputs": [
    {
     "name": "stdout",
     "output_type": "stream",
     "text": [
      ".. _wine_dataset:\n",
      "\n",
      "Wine recognition dataset\n",
      "------------------------\n",
      "\n",
      "**Data Set Characteristics:**\n",
      "\n",
      "    :Number of Instances: 178 (50 in each of three classes)\n",
      "    :Number of Attributes: 13 numeric, predictive attributes and the class\n",
      "    :Attribute Information:\n",
      " \t\t- Alcohol\n",
      " \t\t- Malic acid\n",
      " \t\t- Ash\n",
      "\t\t- Alcalinity of ash  \n",
      " \t\t- Magnesium\n",
      "\t\t- Total phenols\n",
      " \t\t- Flavanoids\n",
      " \t\t- Nonflavanoid phenols\n",
      " \t\t- Proanthocyanins\n",
      "\t\t- Color intensity\n",
      " \t\t- Hue\n",
      " \t\t- OD280/OD315 of diluted wines\n",
      " \t\t- Proline\n",
      "\n",
      "    - class:\n",
      "            - class_0\n",
      "            - class_1\n",
      "            - class_2\n",
      "\t\t\n",
      "    :Summary Statistics:\n",
      "    \n",
      "    ============================= ==== ===== ======= =====\n",
      "                                   Min   Max   Mean     SD\n",
      "    ============================= ==== ===== ======= =====\n",
      "    Alcohol:                      11.0  14.8    13.0   0.8\n",
      "    Malic Acid:                   0.74  5.80    2.34  1.12\n",
      "    Ash:                          1.36  3.23    2.36  0.27\n",
      "    Alcalinity of Ash:            10.6  30.0    19.5   3.3\n",
      "    Magnesium:                    70.0 162.0    99.7  14.3\n",
      "    Total Phenols:                0.98  3.88    2.29  0.63\n",
      "    Flavanoids:                   0.34  5.08    2.03  1.00\n",
      "    Nonflavanoid Phenols:         0.13  0.66    0.36  0.12\n",
      "    Proanthocyanins:              0.41  3.58    1.59  0.57\n",
      "    Colour Intensity:              1.3  13.0     5.1   2.3\n",
      "    Hue:                          0.48  1.71    0.96  0.23\n",
      "    OD280/OD315 of diluted wines: 1.27  4.00    2.61  0.71\n",
      "    Proline:                       278  1680     746   315\n",
      "    ============================= ==== ===== ======= =====\n",
      "\n",
      "    :Missing Attribute Values: None\n",
      "    :Class Distribution: class_0 (59), class_1 (71), class_2 (48)\n",
      "    :Creator: R.A. Fisher\n",
      "    :Donor: Michael Marshall (MARSHALL%PLU@io.arc.nasa.gov)\n",
      "    :Date: July, 1988\n",
      "\n",
      "This is a copy of UCI ML Wine recognition datasets.\n",
      "https://archive.ics.uci.edu/ml/machine-learning-databases/wine/wine.data\n",
      "\n",
      "The data is the results of a chemical analysis of wines grown in the same\n",
      "region in Italy by three different cultivators. There are thirteen different\n",
      "measurements taken for different constituents found in the three types of\n",
      "wine.\n",
      "\n",
      "Original Owners: \n",
      "\n",
      "Forina, M. et al, PARVUS - \n",
      "An Extendible Package for Data Exploration, Classification and Correlation. \n",
      "Institute of Pharmaceutical and Food Analysis and Technologies,\n",
      "Via Brigata Salerno, 16147 Genoa, Italy.\n",
      "\n",
      "Citation:\n",
      "\n",
      "Lichman, M. (2013). UCI Machine Learning Repository\n",
      "[https://archive.ics.uci.edu/ml]. Irvine, CA: University of California,\n",
      "School of Information and Computer Science. \n",
      "\n",
      ".. topic:: References\n",
      "\n",
      "  (1) S. Aeberhard, D. Coomans and O. de Vel, \n",
      "  Comparison of Classifiers in High Dimensional Settings, \n",
      "  Tech. Rep. no. 92-02, (1992), Dept. of Computer Science and Dept. of  \n",
      "  Mathematics and Statistics, James Cook University of North Queensland. \n",
      "  (Also submitted to Technometrics). \n",
      "\n",
      "  The data was used with many others for comparing various \n",
      "  classifiers. The classes are separable, though only RDA \n",
      "  has achieved 100% correct classification. \n",
      "  (RDA : 100%, QDA 99.4%, LDA 98.9%, 1NN 96.1% (z-transformed data)) \n",
      "  (All results using the leave-one-out technique) \n",
      "\n",
      "  (2) S. Aeberhard, D. Coomans and O. de Vel, \n",
      "  \"THE CLASSIFICATION PERFORMANCE OF RDA\" \n",
      "  Tech. Rep. no. 92-01, (1992), Dept. of Computer Science and Dept. of \n",
      "  Mathematics and Statistics, James Cook University of North Queensland. \n",
      "  (Also submitted to Journal of Chemometrics).\n",
      "\n"
     ]
    }
   ],
   "source": [
    "from sklearn.datasets import load_wine\n",
    "\n",
    "# 와인 데이터를 불러옵니다.\n",
    "data = load_wine()\n",
    "\n",
    "# 데이터에 대한 자세한 정보를 볼 수 있습니다.\n",
    "print(data.DESCR)\n",
    "\n",
    "# x: 독립변수(attribute)를 저장합니다.\n",
    "# y: 종속변수(class)를 저장합니다.\n",
    "x = data.data\n",
    "y = data.target"
   ]
  },
  {
   "cell_type": "code",
   "execution_count": 10,
   "metadata": {
    "ExecuteTime": {
     "end_time": "2020-07-14T06:30:41.051679Z",
     "start_time": "2020-07-14T06:30:41.041671Z"
    }
   },
   "outputs": [],
   "source": [
    "import numpy as np\n",
    "\n",
    "# Test를 해볼 인덱스를 0부터 (데이터개수-1)까지를 한번 random하게 섞는다.\n",
    "test_ids = np.random.permutation(len(x))\n",
    "\n",
    "x_train = x[test_ids[:-10]]\n",
    "x_test = x[test_ids[-10:]]\n",
    " \n",
    "y_train = y[test_ids[:-10]]\n",
    "y_test = y[test_ids[-10:]]"
   ]
  },
  {
   "cell_type": "markdown",
   "metadata": {},
   "source": [
    "### 5-2-2. 모델 정의"
   ]
  },
  {
   "cell_type": "markdown",
   "metadata": {},
   "source": [
    "Scikit-Learn에 구현된 Naive Bayes Classifier 함수를 정의합니다."
   ]
  },
  {
   "cell_type": "code",
   "execution_count": 11,
   "metadata": {
    "ExecuteTime": {
     "end_time": "2020-07-14T06:30:47.797472Z",
     "start_time": "2020-07-14T06:30:47.792469Z"
    }
   },
   "outputs": [],
   "source": [
    "from sklearn.naive_bayes import GaussianNB, MultinomialNB, BernoulliNB\n",
    "\n",
    "model = GaussianNB()\n",
    "#model = MultinomialNB()\n",
    "#model = BernoulliNB()"
   ]
  },
  {
   "cell_type": "markdown",
   "metadata": {},
   "source": [
    " "
   ]
  },
  {
   "cell_type": "markdown",
   "metadata": {},
   "source": [
    "### 5-2-3. 모델 학습"
   ]
  },
  {
   "cell_type": "code",
   "execution_count": 12,
   "metadata": {
    "ExecuteTime": {
     "end_time": "2020-07-14T06:30:54.315105Z",
     "start_time": "2020-07-14T06:30:54.301096Z"
    }
   },
   "outputs": [
    {
     "data": {
      "text/plain": [
       "GaussianNB(priors=None, var_smoothing=1e-09)"
      ]
     },
     "execution_count": 12,
     "metadata": {},
     "output_type": "execute_result"
    }
   ],
   "source": [
    "model.fit(x_train, y_train)  # 모델 학습"
   ]
  },
  {
   "cell_type": "markdown",
   "metadata": {},
   "source": [
    "### 5-2-4. 결과 예측"
   ]
  },
  {
   "cell_type": "code",
   "execution_count": 13,
   "metadata": {
    "ExecuteTime": {
     "end_time": "2020-07-14T06:30:56.933966Z",
     "start_time": "2020-07-14T06:30:56.927961Z"
    }
   },
   "outputs": [
    {
     "name": "stdout",
     "output_type": "stream",
     "text": [
      "[1 1 0 1 1 2 1 0 0 2]\n"
     ]
    }
   ],
   "source": [
    "pred = model.predict(x_test) # 모델 예측\n",
    "print(pred)"
   ]
  },
  {
   "cell_type": "markdown",
   "metadata": {},
   "source": [
    "### 5-2-5. 결과 평가"
   ]
  },
  {
   "cell_type": "markdown",
   "metadata": {},
   "source": [
    "일반적으로 분류에서는 `Accuracy (정확도)`를 평가 척도로 사용합니다. "
   ]
  },
  {
   "cell_type": "code",
   "execution_count": 14,
   "metadata": {
    "ExecuteTime": {
     "end_time": "2020-07-14T06:31:03.446594Z",
     "start_time": "2020-07-14T06:31:03.338519Z"
    }
   },
   "outputs": [
    {
     "name": "stdout",
     "output_type": "stream",
     "text": [
      "accuracy: 1.000000\n"
     ]
    }
   ],
   "source": [
    "from sklearn.metrics import accuracy_score\n",
    "\n",
    "print(\"accuracy: %.6f\" % accuracy_score(y_true=y_test, y_pred=pred))"
   ]
  },
  {
   "cell_type": "markdown",
   "metadata": {},
   "source": [
    "### 5-2-5. 결과 확인: 확률 예측값 출력"
   ]
  },
  {
   "cell_type": "code",
   "execution_count": 14,
   "metadata": {},
   "outputs": [
    {
     "name": "stdout",
     "output_type": "stream",
     "text": [
      "[[3.63320837e-21 1.95795311e-05 9.99980420e-01]]\n"
     ]
    }
   ],
   "source": [
    "print(model.predict_proba(x_test[0].reshape(1,-1)))"
   ]
  },
  {
   "cell_type": "markdown",
   "metadata": {},
   "source": [
    "---"
   ]
  },
  {
   "cell_type": "markdown",
   "metadata": {},
   "source": [
    "## 5.3  Naive Bayes Classifier - data: SentimentSentence\n",
    "\n",
    "- 사용할 데이터: 외부에서 가져온 Sentiment Sentence 데이터\n",
    "- Task: 문장의 긍/부정을 분류\n",
    "- **아래에 코드를 작성해주세요** 칸에 코드를 작성해주시면 됩니다."
   ]
  },
  {
   "cell_type": "markdown",
   "metadata": {},
   "source": [
    "### 직접 실습해보세요!\n",
    "\n",
    "- 훈련데이터: SentimentSentence_train.csv\n",
    "- 평가데이터: SentimentSentence_test.csv"
   ]
  },
  {
   "cell_type": "code",
   "execution_count": 18,
   "metadata": {
    "ExecuteTime": {
     "end_time": "2020-07-14T06:36:43.183049Z",
     "start_time": "2020-07-14T06:36:42.908853Z"
    }
   },
   "outputs": [
    {
     "name": "stdout",
     "output_type": "stream",
     "text": [
      "                                            sentence  label\n",
      "0  level 5 spicy was perfect  where spice didn't ...      1\n",
      "1  they also now serve indian naan bread with hum...      1\n",
      "2  it kept getting worse and worse so now i'm off...      0\n",
      "3  not a single employee came out to see if we we...      0\n",
      "4  never been to hard rock casino before  will ne...      0\n",
      "accuracy: 0.815000\n"
     ]
    }
   ],
   "source": [
    "from sklearn.naive_bayes import GaussianNB, MultinomialNB, BernoulliNB\n",
    "from sklearn.metrics import accuracy_score\n",
    "from sklearn.feature_extraction.text import TfidfVectorizer\n",
    "import pandas as pd\n",
    "import numpy as np\n",
    "\n",
    "\n",
    "def main():\n",
    "\n",
    "    train_input = pd.read_csv(\"data/SentimentSentence_train.csv\")\n",
    "    test_input = pd.read_csv(\"data/SentimentSentence_test.csv\")\n",
    "\n",
    "    print(train_input.head())\n",
    "\n",
    "    x_train_input = np.array(train_input['sentence'])\n",
    "    y_train = np.array(train_input['label'])\n",
    "    x_test_input = np.array(test_input['sentence'])\n",
    "    y_test = np.array(test_input['label'])\n",
    "    \n",
    "    tfidf = TfidfVectorizer() \n",
    "    # tf : term frequency, idf : inverse document frequence\n",
    "    # tf가 높을수록 중요하다\n",
    "    # 하지만 이 중에서는 the, 이다, 은, 는, 이, 가 등이 포함되어있다\n",
    "    # 따라서 이를 제거하기 위해서 idf를 사용한다\n",
    "    # 이를 다른 문서와 비교하였을 때 또 나타난다면 중요하지 않은 단어로 인식한다\n",
    "    tfidf.fit(x_train_input)\n",
    "\n",
    "    x_train = tfidf.transform(x_train_input).toarray()\n",
    "    x_test = tfidf.transform(x_test_input).toarray()\n",
    "    \n",
    "    ####################### 아래에 코드를 작성해주세요 #######################\n",
    "    \n",
    "    # 1. 모델 정의\n",
    "    #model = GaussianNB()\n",
    "    #model = MultinomialNB()\n",
    "    model = BernoulliNB()\n",
    "     \n",
    "\n",
    "    # 2. 모델 학습\n",
    "    model.fit(x_train, y_train) \n",
    "    \n",
    "    # 3. 모델 예측\n",
    "    pred = model.predict(x_test)\n",
    "\n",
    "    ##########################################################################\n",
    "    \n",
    "    print(\"accuracy: %.6f\" % accuracy_score(y_true=y_test, y_pred=pred))\n",
    "    \n",
    "   \n",
    "\n",
    "if __name__ == \"__main__\":\n",
    "    main()"
   ]
  },
  {
   "cell_type": "markdown",
   "metadata": {},
   "source": [
    "#### 정답코드"
   ]
  },
  {
   "cell_type": "code",
   "execution_count": 18,
   "metadata": {},
   "outputs": [
    {
     "name": "stdout",
     "output_type": "stream",
     "text": [
      "                                            sentence  label\n",
      "0  level 5 spicy was perfect  where spice didn't ...      1\n",
      "1  they also now serve indian naan bread with hum...      1\n",
      "2  it kept getting worse and worse so now i'm off...      0\n",
      "3  not a single employee came out to see if we we...      0\n",
      "4  never been to hard rock casino before  will ne...      0\n",
      "0.815000\n"
     ]
    }
   ],
   "source": [
    "from sklearn.naive_bayes import GaussianNB, MultinomialNB, BernoulliNB\n",
    "from sklearn.metrics import accuracy_score\n",
    "from sklearn.feature_extraction.text import TfidfVectorizer\n",
    "import pandas as pd\n",
    "import numpy as np\n",
    "\n",
    "\n",
    "def main():\n",
    "\n",
    "    train_input = pd.read_csv(\"data/SentimentSentence_train.csv\")\n",
    "    test_input = pd.read_csv(\"data/SentimentSentence_test.csv\")\n",
    "\n",
    "    print(train_input.head())\n",
    "\n",
    "    x_train_input = np.array(train_input['sentence'])\n",
    "    y_train = np.array(train_input['label'])\n",
    "    x_test_input = np.array(test_input['sentence'])\n",
    "    y_test = np.array(test_input['label'])\n",
    "\n",
    "    tfidf = TfidfVectorizer()\n",
    "    tfidf.fit(x_train_input)\n",
    "\n",
    "    x_train = tfidf.transform(x_train_input).toarray()\n",
    "    x_test = tfidf.transform(x_test_input).toarray()\n",
    "\n",
    "    #model = GaussianNB()\n",
    "    #model = MultinomialNB()\n",
    "    model = BernoulliNB()\n",
    "\n",
    "    model.fit(x_train, y_train)\n",
    "    pred = model.predict(x_test)\n",
    "\n",
    "    print(\"%.6f\" % accuracy_score(y_true=y_test, y_pred=pred))\n",
    "\n",
    "if __name__ == \"__main__\":\n",
    "    main()"
   ]
  },
  {
   "cell_type": "code",
   "execution_count": null,
   "metadata": {},
   "outputs": [],
   "source": []
  }
 ],
 "metadata": {
  "kernelspec": {
   "display_name": "Python 3",
   "language": "python",
   "name": "python3"
  },
  "language_info": {
   "codemirror_mode": {
    "name": "ipython",
    "version": 3
   },
   "file_extension": ".py",
   "mimetype": "text/x-python",
   "name": "python",
   "nbconvert_exporter": "python",
   "pygments_lexer": "ipython3",
   "version": "3.6.9"
  },
  "toc": {
   "base_numbering": 1,
   "nav_menu": {},
   "number_sections": false,
   "sideBar": true,
   "skip_h1_title": false,
   "title_cell": "Table of Contents",
   "title_sidebar": "Contents",
   "toc_cell": false,
   "toc_position": {},
   "toc_section_display": true,
   "toc_window_display": true
  },
  "varInspector": {
   "cols": {
    "lenName": 16,
    "lenType": 16,
    "lenVar": 40
   },
   "kernels_config": {
    "python": {
     "delete_cmd_postfix": "",
     "delete_cmd_prefix": "del ",
     "library": "var_list.py",
     "varRefreshCmd": "print(var_dic_list())"
    },
    "r": {
     "delete_cmd_postfix": ") ",
     "delete_cmd_prefix": "rm(",
     "library": "var_list.r",
     "varRefreshCmd": "cat(var_dic_list()) "
    }
   },
   "types_to_exclude": [
    "module",
    "function",
    "builtin_function_or_method",
    "instance",
    "_Feature"
   ],
   "window_display": false
  }
 },
 "nbformat": 4,
 "nbformat_minor": 4
}
