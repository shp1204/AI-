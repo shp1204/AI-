{
 "cells": [
  {
   "cell_type": "markdown",
   "metadata": {},
   "source": [
    "# 2. Gradient descent 알고리즘"
   ]
  },
  {
   "cell_type": "markdown",
   "metadata": {},
   "source": [
    "---"
   ]
  },
  {
   "cell_type": "markdown",
   "metadata": {},
   "source": [
    "## 학습 목표\n",
    "- Gradient descent 알고리즘을 이해하고 구현합니다.\n",
    "- Gradient descent 장단점을 파악합니다."
   ]
  },
  {
   "cell_type": "markdown",
   "metadata": {},
   "source": [
    "---"
   ]
  },
  {
   "cell_type": "markdown",
   "metadata": {},
   "source": [
    "## 목차"
   ]
  },
  {
   "cell_type": "markdown",
   "metadata": {},
   "source": [
    "### 1. Loss 함수 경사 하강하기\n",
    "1. loss 함수 그래프와 최소 값 지점\n",
    "2. 경사 하강하기\n",
    "\n",
    "### 2. Gradient descent 알고리즘\n",
    "1. Gradient 값 계산\n",
    "2. 업데이트 방식\n",
    "3. 알고리즘 예시\n"
   ]
  },
  {
   "cell_type": "markdown",
   "metadata": {},
   "source": [
    "---"
   ]
  },
  {
   "cell_type": "markdown",
   "metadata": {},
   "source": [
    "## 1. Loss 함수 경사 하강하기"
   ]
  },
  {
   "cell_type": "markdown",
   "metadata": {},
   "source": [
    "### 1-1. loss 함수 그래프와 최소 값 지점"
   ]
  },
  {
   "cell_type": "markdown",
   "metadata": {},
   "source": [
    "Greedy algorithm의 단점을 보완하는 방식인 gradient descent 방식은 경사 하강법이라고도 합니다.\n",
    "\n",
    "gradient descent 방식은 최적화 방식 중에서 일반적으로 가장 많이 쓰이는 방법으로 선형 회귀뿐만 아니라 신경망에서 핵심 최적화 알고리즘으로 사용합니다.\n",
    "\n",
    "이름에서 유추할 수 있듯이 gradient descent 방식은 시작 지점으로부터 최소 값이 있는 방향으로 점점 이동하여 최소 점에 도달하는 방식입니다.\n",
    "\n",
    "생각보다 어려울 수 있는 내용이기에 그림을 보며 이해하여 봅시다."
   ]
  },
  {
   "cell_type": "markdown",
   "metadata": {},
   "source": [
    "<img src=\"img/2-1-1.png\" width=\"30%\" height=\"30%\" title=\"gradient1\" alt=\"gradient1\"></img>"
   ]
  },
  {
   "cell_type": "markdown",
   "metadata": {},
   "source": [
    "기울기 값들을 y축으로, y절편 값들을 x축으로 하여 Loss 값들을 등고선처럼 그리면 위와 같습니다.\n",
    "\n",
    "여기서 붉은색 점은 loss 값이 최소가 되는 지점을 가르키며 바로 이 지점의 좌표를 찾는 것이 최적의 기울기와 y절편을 구하는 것이 됩니다."
   ]
  },
  {
   "cell_type": "markdown",
   "metadata": {},
   "source": [
    "### 1-2. 경사 하강하기"
   ]
  },
  {
   "cell_type": "markdown",
   "metadata": {},
   "source": [
    "만약 여러분이 등산을 하던 도중 제일 낮은 지점을 찾아 간다 생각해봅시다.\n",
    "\n",
    "그렇다면 최소 값이 있는 지점은 산과 산 사이에서 제일 낮은 지점이라고 생각하고 Loss 값은 지형의 높이라 해석할 수 있습니다.\n",
    "\n",
    "기울기, y 절편 값은 무엇일까요? 그 값에 따라 그래프를 그릴 수 있었으니 위치를 나타내는 좌표라 생각할 수 있습니다. \n",
    "\n",
    "만일 0,0 위치에서 여러분이 내려간다면 아래 그림과 같이 표현 가능합니다."
   ]
  },
  {
   "cell_type": "markdown",
   "metadata": {},
   "source": [
    "<img src=\"img/2-1-3.png\" width=\"30%\" height=\"30%\" title=\"gradient3\" alt=\"gradient3\"></img>"
   ]
  },
  {
   "cell_type": "markdown",
   "metadata": {},
   "source": [
    "그림에서는 시작 점으로부터 최소 값의 있는 방향을 쉽게 알 수 있지만 여러분은 그저 그 위치에서 어느 방향으로 가야 내려가는 방향인지만 알 수 있습니다.\n",
    "\n",
    "그렇다면 어느 방향으로 움직이는게 좋을까요? 다양한 방식이 있겠지만 gradient descent 방식은 그 위치에서 가장 경사가 가파른 아래 방향으로 움직이라고 합니다."
   ]
  },
  {
   "cell_type": "markdown",
   "metadata": {},
   "source": [
    "<img src=\"img/2-1-4.png\" width=\"30%\" height=\"30%\" title=\"gradient4\" alt=\"gradient4\"></img>"
   ]
  },
  {
   "cell_type": "markdown",
   "metadata": {},
   "source": [
    "자 이제 시작 점에서 어느정도 움직였고 잠시 쉰다고 생각했을 때의 위치를 표현하면 위와 같습니다.\n",
    "\n",
    "휴식을 마치고 지금 위치에서 가장 가파른 방향으로 움직였다고 하는 과정을 반복하게 되면 아래와 같이 제일 낮은 지점에 도착하게 됩니다."
   ]
  },
  {
   "cell_type": "markdown",
   "metadata": {},
   "source": [
    "<img src=\"img/2-1-5.png\" width=\"30%\" height=\"30%\" title=\"gradient5\" alt=\"gradient5\"></img>"
   ]
  },
  {
   "cell_type": "markdown",
   "metadata": {},
   "source": [
    "지금까지의 과정은 gradient descent 방식을 통하여 최소 값을 찾는 것을 보여줬다 할 수 있습니다.\n",
    "\n",
    "전체적인 방식은 이해할 수 있지만 아직 방향을 찾는 방법이라던지 얼마나 움직였다가 멈춰서 새로 방향을 찾아야 하는지 등등 세세한 부분에서 궁금한 점이 많이 남았습니다.\n",
    "\n",
    "이어지는 알고리즘 파트를 학습하며 해결해 보도록 합시다."
   ]
  },
  {
   "cell_type": "markdown",
   "metadata": {},
   "source": [
    "---"
   ]
  }
 ],
 "metadata": {
  "kernelspec": {
   "display_name": "Python 3",
   "language": "python",
   "name": "python3"
  },
  "language_info": {
   "codemirror_mode": {
    "name": "ipython",
    "version": 3
   },
   "file_extension": ".py",
   "mimetype": "text/x-python",
   "name": "python",
   "nbconvert_exporter": "python",
   "pygments_lexer": "ipython3",
   "version": "3.7.6"
  },
  "toc": {
   "base_numbering": 1,
   "nav_menu": {},
   "number_sections": false,
   "sideBar": true,
   "skip_h1_title": false,
   "title_cell": "Table of Contents",
   "title_sidebar": "Contents",
   "toc_cell": false,
   "toc_position": {},
   "toc_section_display": true,
   "toc_window_display": true
  }
 },
 "nbformat": 4,
 "nbformat_minor": 4
}
