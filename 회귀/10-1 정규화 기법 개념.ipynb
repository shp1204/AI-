{
 "cells": [
  {
   "cell_type": "markdown",
   "metadata": {},
   "source": [
    "# 3장. 다항 선형 회귀와 정규화 기법"
   ]
  },
  {
   "cell_type": "markdown",
   "metadata": {},
   "source": [
    "---"
   ]
  },
  {
   "cell_type": "markdown",
   "metadata": {},
   "source": [
    "## 학습 목표\n",
    "- 정규화 기법이 왜 필요한지를 이해합니다.\n",
    "- 다항 선형 회귀에서 사용되는 릿지, 라쏘, 엘라스틱 정규화 기법에 대해서 학습합니다."
   ]
  },
  {
   "cell_type": "markdown",
   "metadata": {},
   "source": [
    "---"
   ]
  },
  {
   "cell_type": "markdown",
   "metadata": {},
   "source": [
    "## 목차"
   ]
  },
  {
   "cell_type": "markdown",
   "metadata": {},
   "source": [
    "### 1. 정규화 기법 개념\n",
    "1. 선형 회귀의 정규화 기법\n",
    "\n",
    "### 2. 릿지 정규화 기법\n",
    "1. Loss 함수와 규제항\n",
    "2. 규제항 하이퍼 파라미터\n",
    "\n",
    "### 3. 라쏘, 엘라스틱 넷 정규화 기법\n",
    "1. 라쏘 정규화\n",
    "2. 엘라스틱 넷 정규화\n"
   ]
  },
  {
   "cell_type": "markdown",
   "metadata": {},
   "source": [
    "---"
   ]
  },
  {
   "cell_type": "markdown",
   "metadata": {},
   "source": [
    "## 1. 정규화 기법 개념"
   ]
  },
  {
   "cell_type": "markdown",
   "metadata": {},
   "source": [
    "### 1-1. 선형 회귀의 정규화 기법"
   ]
  },
  {
   "cell_type": "markdown",
   "metadata": {},
   "source": [
    "고차항 선형 회귀의 문제점을 해결하기 위해서 정규화 기법을 사용합니다.\n",
    "\n",
    "정규화 기법의 개념을 잡기 위해서 아래 예를 살펴봅시다."
   ]
  },
  {
   "cell_type": "markdown",
   "metadata": {},
   "source": [
    "<img src=\"img/3-1-1.png\" width=\"40%\" height=\"40%\" title=\"over1\" alt=\"over1\"></img>"
   ]
  },
  {
   "cell_type": "markdown",
   "metadata": {},
   "source": [
    "위 그림은 학습용 데이터에 과적합된 회귀 모델을 그래프로 출력한 형태입니다.\n",
    "\n",
    "과적합이 많이 될 수록 고차항 선형 회귀 모델의 형태는 봉우리가 많아지게 됩니다.\n",
    "\n",
    "앞서 고차항 함수에서 알 수 있듯이 고차항의 역할이 많아질 수록 봉우리의 개수가 증가할 확률이 높습니다.\n",
    "\n",
    "만일 고차항의 선형 파라미터를 줄이게 된다면 그래프의 형태는 낮은 차항의 함수 형태로 아래와 같이 표현될 수 있습니다."
   ]
  },
  {
   "cell_type": "markdown",
   "metadata": {},
   "source": [
    "<img src=\"img/3-1-2.png\" width=\"40%\" height=\"40%\" title=\"over2\" alt=\"over2\"></img>"
   ]
  },
  {
   "cell_type": "markdown",
   "metadata": {},
   "source": [
    "이렇게 봉우리를 만들 수 있는 고차항의 선형 파라미터를 줄이는 방법을 선형 회귀의 정규화 기법이라 합니다."
   ]
  },
  {
   "cell_type": "markdown",
   "metadata": {},
   "source": [
    "---"
   ]
  }
 ],
 "metadata": {
  "kernelspec": {
   "display_name": "Python 3",
   "language": "python",
   "name": "python3"
  },
  "language_info": {
   "codemirror_mode": {
    "name": "ipython",
    "version": 3
   },
   "file_extension": ".py",
   "mimetype": "text/x-python",
   "name": "python",
   "nbconvert_exporter": "python",
   "pygments_lexer": "ipython3",
   "version": "3.7.6"
  },
  "toc": {
   "base_numbering": 1,
   "nav_menu": {},
   "number_sections": false,
   "sideBar": true,
   "skip_h1_title": false,
   "title_cell": "Table of Contents",
   "title_sidebar": "Contents",
   "toc_cell": false,
   "toc_position": {},
   "toc_section_display": true,
   "toc_window_display": true
  }
 },
 "nbformat": 4,
 "nbformat_minor": 4
}
