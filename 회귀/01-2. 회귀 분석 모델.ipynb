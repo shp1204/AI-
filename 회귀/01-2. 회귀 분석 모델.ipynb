{
 "cells": [
  {
   "cell_type": "markdown",
   "metadata": {},
   "source": [
    "# 1. 회귀 분석과 회귀 분석 모델"
   ]
  },
  {
   "cell_type": "markdown",
   "metadata": {},
   "source": [
    "---"
   ]
  },
  {
   "cell_type": "markdown",
   "metadata": {},
   "source": [
    "## 학습 목표\n",
    "- 데이터를 회귀 분석 모델을 통하여 분석하는 회귀 방식에 대해서 이해합니다.\n",
    "- 다양한 회귀 분석 모델을 이해합니다."
   ]
  },
  {
   "cell_type": "markdown",
   "metadata": {},
   "source": [
    "---"
   ]
  },
  {
   "cell_type": "markdown",
   "metadata": {},
   "source": [
    "## 목차"
   ]
  },
  {
   "cell_type": "markdown",
   "metadata": {},
   "source": [
    "### 1. 회귀 분석이란?\n",
    "1. 회귀 분석이란\n",
    "2. Feature 데이터와 Label 데이터\n",
    "\n",
    "### 2. 회귀 분석 모델\n",
    "1. 회귀 분석 모델 정의\n",
    "2. 다양한 회귀 분석 모델의 하이퍼 파라미터 조정"
   ]
  },
  {
   "cell_type": "markdown",
   "metadata": {},
   "source": [
    "---"
   ]
  },
  {
   "cell_type": "markdown",
   "metadata": {},
   "source": [
    "## 2. 회귀 분석 모델"
   ]
  },
  {
   "cell_type": "markdown",
   "metadata": {},
   "source": [
    "### 2-1. 회귀 분석 모델"
   ]
  },
  {
   "cell_type": "markdown",
   "metadata": {},
   "source": [
    "회귀 분석을 위한 데이터를 정의하고 코드로 표현했다면 회귀 분석 모델을 수식으로 정의하여 표현해봅시다.\n",
    "\n",
    "만약 학습용 feature 데이터 $X$를 입력 했을 때, 학습용 label 데이터 $Y$를 출력하는 이상적인 모델이 있다고 하면 아래와 같이 표현할 수 있습니다.\n",
    "\n"
   ]
  },
  {
   "cell_type": "markdown",
   "metadata": {},
   "source": [
    "##### 이상적인 상관 관계 모델 \n",
    "\n",
    "> $$Y= Ideal(X)$$\n",
    "\n",
    "하지만 현실에서는 이러한 이상적인 모델을 수학적으로 구현하기는 어렵습니다.  \n",
    "\n",
    "따라서, **수학적으로 구현하기 쉽고 분석하기 쉬운 회귀 분석 모델 $H()$**을 만들어 레이블을 예측합니다.\n"
   ]
  },
  {
   "cell_type": "markdown",
   "metadata": {},
   "source": [
    "##### 회귀 분석 모델  \n",
    "\n",
    "> $$Y \\approx \\widehat{Y} = H(X)$$\n",
    "\n",
    "$\\widehat{Y}$는 회귀 분석 모델을 사용하여 예측한 벡터를 의미하기에 $\\widehat{Y}$과 $Y$가 비슷하면 좋은 모델이라 할 수 있을 것입니다. ($\\approx$은 비슷하다는 의미입니다.)"
   ]
  },
  {
   "cell_type": "markdown",
   "metadata": {},
   "source": [
    " "
   ]
  },
  {
   "cell_type": "markdown",
   "metadata": {},
   "source": [
    " "
   ]
  },
  {
   "cell_type": "markdown",
   "metadata": {},
   "source": [
    "그렇다면 회귀 분석 모델 $H()$은 수식으로 어떻게 표현할까요?\n",
    "\n",
    "한 가지 예를 들어보면 아래와 같습니다."
   ]
  },
  {
   "cell_type": "markdown",
   "metadata": {},
   "source": [
    "\n",
    "##### 벡터식 예시 모델 1\n",
    "\n",
    "> $$H_{1}(X) = 2X + 1$$"
   ]
  },
  {
   "cell_type": "markdown",
   "metadata": {},
   "source": [
    "위 **벡터식 예시 모델 1**처럼 벡터 벡터의 연산을 사용하여 표현할 수 있습니다. \n",
    "\n",
    "만약 feature 데이터가 $X=[1, 2, 3]^T$이라면 그 예측값은 $H_{1}(X)=2*[1, 2, 3]^T + 1=[3,5,7]$으로 구할 수 있습니다. \n",
    "\n",
    "<img src=\"img/1-2-1.png\" width=\"60%\" height=\"60%\" title=\"H()\" alt=\"H()\"></img>"
   ]
  },
  {
   "cell_type": "markdown",
   "metadata": {},
   "source": [
    "$H()$ 함수는 벡터 입력과 벡터 출력을 갖는 함수입니다. \n",
    "\n",
    "벡터들의 식으로 이루어진 $H()$ 함수를 다루는 것 보단 스칼라 입력과 스칼라 출력을 가진 함수를 분석하는 것이 쉬운 경우가 있기에 $h()$을 아래와 같이 정의하여 사용합니다. "
   ]
  },
  {
   "cell_type": "markdown",
   "metadata": {},
   "source": [
    "##### h()와 H()의 관계\n",
    "\n",
    "> $$\n",
    "\\begin{aligned}\n",
    "H(X) &= [ h(x_1), h(x_2), ..., h(x_N) ],\\label{eq:1}\n",
    "\\end{aligned}\n",
    "$$\n",
    "\n",
    "##### 예측값 벡터 \n",
    "\n",
    "> $$\n",
    "\\begin{aligned}\n",
    "\\widehat{y_i} &= h(x_i),\\\\\n",
    "\\widehat{Y} &= [\\widehat{y_1}, \\widehat{y_2},...,\\widehat{y_N} ].\n",
    "\\end{aligned}\n",
    "$$\n",
    "\n"
   ]
  },
  {
   "cell_type": "markdown",
   "metadata": {},
   "source": [
    "그렇다면, 위에서 예시한 $H_{1}(X)$를 $h_{1}()$를 사용하여 표현하면 다음과 같습니다."
   ]
  },
  {
   "cell_type": "markdown",
   "metadata": {},
   "source": [
    "##### h_1()을 사용한 H_1() 모델 표현\n",
    "\n",
    "> $$\n",
    "\\begin{aligned}\n",
    "H_{1}(X) &= [h_{1}(x_1), h_{1}(x_2),..., h_{1}(x_N)],\\\\\n",
    "h_{1}(x_i) &= 2x_i + 1.\n",
    "\\end{aligned}\n",
    "$$"
   ]
  },
  {
   "cell_type": "markdown",
   "metadata": {},
   "source": [
    "feature 데이터 $X=[1, 2, 3]^T$에 대한 $h()$를 사용한 출력은 다음과 같습니다."
   ]
  },
  {
   "cell_type": "markdown",
   "metadata": {},
   "source": [
    "<img src=\"img/1-2-2.png\" width=\"60%\" height=\"60%\" title=\"h()\" alt=\"h()\"></img>"
   ]
  },
  {
   "cell_type": "markdown",
   "metadata": {},
   "source": [
    " "
   ]
  },
  {
   "cell_type": "markdown",
   "metadata": {},
   "source": [
    "이러한 방식을 사용하면 지수 함수, 삼각 함수등 다양한 형태의 모델로 확장하여 표현할 수 있습니다."
   ]
  },
  {
   "cell_type": "markdown",
   "metadata": {},
   "source": [
    "##### 지수 함수 형태 예\n",
    "\n",
    "> $$\n",
    "h_{2}(x_i) = 2^{x_{i}-1},\n",
    "$$\n",
    "\n",
    "##### 삼각 함수 형태 예\n",
    "\n",
    "> $$\n",
    "h_{3}(x_i) = \\sin(2\\pi x_i).\n",
    "$$"
   ]
  },
  {
   "cell_type": "markdown",
   "metadata": {},
   "source": [
    " "
   ]
  },
  {
   "cell_type": "markdown",
   "metadata": {},
   "source": [
    "##### <예제 1>  회귀 분석 모델"
   ]
  },
  {
   "cell_type": "markdown",
   "metadata": {},
   "source": [
    "위에서 정의한 모델들을 코드로 구현해 봅시다."
   ]
  },
  {
   "cell_type": "code",
   "execution_count": 5,
   "metadata": {},
   "outputs": [
    {
     "name": "stdout",
     "output_type": "stream",
     "text": [
      "H1(X): \n",
      "[[ 3]\n",
      " [ 5]\n",
      " [ 7]\n",
      " [ 9]\n",
      " [11]]\n",
      "\n",
      "h1(x_1): \n",
      "[3]\n",
      "\n",
      "h2(x_1): \n",
      "[1]\n",
      "\n",
      "h3(x_1): \n",
      "[-2.4492936e-16]\n",
      "\n"
     ]
    }
   ],
   "source": [
    "# 1-2에서 실습한 X,Y를 사용합니다.\n",
    "import numpy as np\n",
    "\n",
    "# python 리스트 형태로 주어진 데이터\n",
    "Original_X = [1,2,3,4,5]\n",
    "Original_Y = [2.1,4.3,5.8,7.8,10.1]\n",
    "\n",
    "# 수학 계산이 편한 numpy 형태로 변환\n",
    "X = np.array(Original_X)\n",
    "Y = np.array(Original_Y)\n",
    "\n",
    "# column 벡터 형태로 변환\n",
    "X = X.reshape(-1,1)\n",
    "Y = Y.reshape(-1,1)\n",
    "\n",
    "# H1() 함수\n",
    "def H1(X):\n",
    "    \n",
    "    return 2*X+1\n",
    "\n",
    "# h1() 함수\n",
    "def h1(x):\n",
    "\n",
    "    return 2*x+1\n",
    "\n",
    "# h2() 함수\n",
    "def h2(x):\n",
    "    \n",
    "    return 2**(x-1)\n",
    "\n",
    "# h3() 함수\n",
    "def h3(x):\n",
    "    \n",
    "    return np.sin(2*np.pi*x)\n",
    "\n",
    "print(\"H1(X): \\n{}\\n\".format(H1(X)))\n",
    "print(\"h1(x_1): \\n{}\\n\".format(h1(X[0])))\n",
    "print(\"h2(x_1): \\n{}\\n\".format(h2(X[0])))\n",
    "print(\"h3(x_1): \\n{}\\n\".format(h3(X[0])))"
   ]
  },
  {
   "cell_type": "markdown",
   "metadata": {},
   "source": [
    " "
   ]
  },
  {
   "cell_type": "markdown",
   "metadata": {},
   "source": [
    "### 2-2. 다양한 회귀 분석 모델의 하이퍼 파라미터 조정"
   ]
  },
  {
   "cell_type": "markdown",
   "metadata": {},
   "source": [
    "$h()$를 사용하여 여러가지 회귀 분석 모델이 있는 것을 확인 했습니다. 그렇다면 우리는 어떤 모델을 사용해야 할까요?\n",
    "\n",
    "아래와 같은 분포를 갖는 데이터가 주어졌다고 생각해봅시다."
   ]
  },
  {
   "cell_type": "code",
   "execution_count": 9,
   "metadata": {},
   "outputs": [
    {
     "data": {
      "image/png": "[encoded data removed]",
      "text/plain": [
       "<Figure size 432x288 with 1 Axes>"
      ]
     },
     "metadata": {
      "needs_background": "light"
     },
     "output_type": "display_data"
    }
   ],
   "source": [
    "# x축 범위\n",
    "x = np.linspace(-2*np.pi, 2*np.pi, 201)\n",
    "\n",
    "# feature 데이터 설정\n",
    "feature_data = x\n",
    "# label 데이터 설정\n",
    "label_data = np.sin(2*x)+ np.random.normal(0,0.2,x.size)\n",
    "\n",
    "# 출력 파트\n",
    "# feature에 따른 label 데이터 출력\n",
    "plt.scatter(feature_data, label_data)\n",
    "plt.xlabel('feature_data')\n",
    "plt.ylabel('label_data')\n",
    "plt.axis('tight')\n",
    "plt.grid()\n",
    "plt.show()"
   ]
  },
  {
   "cell_type": "markdown",
   "metadata": {},
   "source": [
    "위 데이터는 일정한 주기를 가지고 대략 -1~1의 값을 갖고 있는 것을 확인할 수 있습니다.\n",
    "\n",
    "위 데이터를 표현할 수 있는 모델은 어떤 것이 있을까요?\n",
    "\n",
    "주기를 갖는 함수인 sin 함수를 활용하여 회귀 분석 모델을 만들어 봅시다."
   ]
  },
  {
   "cell_type": "code",
   "execution_count": 10,
   "metadata": {},
   "outputs": [
    {
     "data": {
      "image/png": "[encoded data removed]",
      "text/plain": [
       "<Figure size 432x288 with 1 Axes>"
      ]
     },
     "metadata": {
      "needs_background": "light"
     },
     "output_type": "display_data"
    }
   ],
   "source": [
    "# sin 함수 모델\n",
    "model = np.sin(feature_data)\n",
    "\n",
    "# 출력 파트\n",
    "# 붉은선으로 모델 출력\n",
    "plt.plot(feature_data, model, 'r')\n",
    "# feature에 따른 label 데이터 출력\n",
    "plt.scatter(feature_data, label_data)\n",
    "plt.xlabel('feature_data')\n",
    "plt.ylabel('label_data')\n",
    "plt.axis('tight')\n",
    "plt.grid()\n",
    "plt.show()"
   ]
  },
  {
   "cell_type": "markdown",
   "metadata": {},
   "source": [
    "붉은 색 선으로 sin 함수를 출력하였는데 비슷해 보이지만 뭔가 싱크가 안맞아 보이는 걸 알 수 있습니다.\n",
    "\n",
    "데이터 분포와 맞추기 위해서는 삼각 함수 형태의 회귀 분석 모델을 어떻게 수정해야 할까요?"
   ]
  },
  {
   "cell_type": "markdown",
   "metadata": {},
   "source": [
    " "
   ]
  },
  {
   "cell_type": "markdown",
   "metadata": {},
   "source": [
    "삼각 함수의 주기를 변경하는 방법으로 모델 $h(x_i)=\\sin(x_i)$을 $h(x_i)=\\sin(2x_i)$ 으로 변경한다면 아래와 같이 데이터의 분포와 잘 맞는 것을 볼 수 있습니다."
   ]
  },
  {
   "cell_type": "code",
   "execution_count": 11,
   "metadata": {},
   "outputs": [
    {
     "data": {
      "image/png": "[encoded data removed]",
      "text/plain": [
       "<Figure size 432x288 with 1 Axes>"
      ]
     },
     "metadata": {
      "needs_background": "light"
     },
     "output_type": "display_data"
    }
   ],
   "source": [
    "# x축 범위\n",
    "x = np.linspace(-2*np.pi, 2*np.pi, 201)\n",
    "\n",
    "# feature 데이터 설정\n",
    "feature_data = x\n",
    "# label 데이터 설정\n",
    "label_data = np.sin(2*x)+ np.random.normal(0,0.2,x.size)\n",
    "\n",
    "# sin 함수 모델\n",
    "model = np.sin(2*feature_data)\n",
    "\n",
    "plt.plot(feature_data, model, 'r')\n",
    "plt.scatter(feature_data, label_data)\n",
    "plt.xlabel('feature_data')\n",
    "plt.ylabel('label_data')\n",
    "plt.axis('tight')\n",
    "plt.grid()\n",
    "plt.show()"
   ]
  },
  {
   "cell_type": "markdown",
   "metadata": {},
   "source": [
    "위와 같이 삼각 함수 모델에서 $x_i$ 앞에 1이 곱하여진 것을 2배로 바꿔주는 과정(주기 변경)을 **모델의 하이퍼 파라미터**를 튜닝하는 과정이라 합니다.\n",
    "\n",
    "삼각 함수는 주기, 페이즈, 크기 등을 변경하여 그래프 형태를 수정하는 하이퍼 파라미터 튜닝을 할 수 있으며, 다른 모델들 또한 그래프를 수정할 수 있는 다양한 하이퍼 파라미터들이 존재합니다.\n",
    "\n",
    "이번엔 단순한 일차 함수를 사용하여 데이터 분포를 근사해 봅시다."
   ]
  },
  {
   "cell_type": "code",
   "execution_count": 12,
   "metadata": {},
   "outputs": [
    {
     "data": {
      "image/png": "[encoded data removed]",
      "text/plain": [
       "<Figure size 432x288 with 1 Axes>"
      ]
     },
     "metadata": {
      "needs_background": "light"
     },
     "output_type": "display_data"
    }
   ],
   "source": [
    "# 1차 함수 모델\n",
    "firts_order_model = 1*feature_data+0.1\n",
    "\n",
    "plt.plot(feature_data, firts_order_model, 'r')\n",
    "plt.scatter(feature_data, label_data)\n",
    "plt.xlabel('feature_data')\n",
    "plt.ylabel('label_data')\n",
    "plt.axis('tight')\n",
    "plt.grid()\n",
    "plt.show()"
   ]
  },
  {
   "cell_type": "markdown",
   "metadata": {},
   "source": [
    "위 출력된 그래프 처럼 0에 가까운 feature 데이터들에 대해서는 어느정도 잘 근사한 것을 볼 수 있었지만, 다른 데이터들과는 잘 맞지 않는 것을 볼 수 있습니다.\n",
    "\n",
    "1차 함수의 하이퍼 파라미터들을 튜닝해서 그래프를 수정하면 더 좋아질 수 있을까요?"
   ]
  },
  {
   "cell_type": "code",
   "execution_count": 14,
   "metadata": {},
   "outputs": [
    {
     "data": {
      "image/png": "[encoded data removed]",
      "text/plain": [
       "<Figure size 432x288 with 1 Axes>"
      ]
     },
     "metadata": {
      "needs_background": "light"
     },
     "output_type": "display_data"
    }
   ],
   "source": [
    "# 1차 함수 모델\n",
    "firts_order_model = 0.01*feature_data-0.01\n",
    "\n",
    "plt.plot(feature_data, firts_order_model, 'r')\n",
    "plt.scatter(feature_data, label_data)\n",
    "plt.xlabel('feature_data')\n",
    "plt.ylabel('label_data')\n",
    "plt.axis('tight')\n",
    "plt.grid()\n",
    "plt.show()"
   ]
  },
  {
   "cell_type": "markdown",
   "metadata": {},
   "source": [
    "직선을 아무리 수정해 보아도 주기를 주기형 데이터를 표현하기는 쉽지 않습니다.\n",
    "\n",
    "위 결과를 통하여 우리는 하이퍼 파라미터 튜닝이 모델을 데이터와 가깝도록 할 수 있지만, 에초에 선택한 모델이 가지고 있는 한계를 벗어날 수 없다는 사실을 알 수 있습니다.\n",
    "\n",
    "결국 데이터를 잘 근사할 수 있는 회귀 모델을 구하기 위해서는 모델의 하이퍼 파라미터를 튜닝을 통한 개선도 있지만 모델의 형태를 선택하는 것 또한 매우 중요합니다.\n",
    "\n",
    "그렇다면 회귀 분석의 목표인 **잘 근사하는 모델**을 찾는 과정은 다음과 같이 2가지로 분리할 수 있습니다.\n",
    "\n",
    "- 큰 범주(삼각 함수 or 일차 함수 or 지수 함수 or 합성 함수 등등)의 모델을 선택\n",
    "- 모델의 하이퍼 파라미터를 튜닝"
   ]
  },
  {
   "cell_type": "markdown",
   "metadata": {},
   "source": [
    "**큰 범주에서의 모델을 선택하는 과정**은 EDA 과정에서 데이터 간의 관계를 잘 이해하여 그 관계에 맞는 모델을 선택해야 합니다.\n",
    "\n",
    "현실에서는 데이터 간의 상관 관계를 이해하기 어려운 경우도 많이 생기며, 이러한 경우를 대처하기 위하여 보다 넓은 범주를 아우를 수 있는 모델을 사용하는 방법이나, 신경망 네트워크를 사용하는 등의 방식들이 존재합니다.\n",
    "\n",
    "**모델의 하이퍼 파라미터를 튜닝하는 과정**은 수학적으로 정리된 방법들이 존재하며, 최적화라는 과정을 통하여 보다 좋은 하이퍼 파라미터를 구할 수 있습니다."
   ]
  },
  {
   "cell_type": "markdown",
   "metadata": {},
   "source": [
    "---"
   ]
  }
 ],
 "metadata": {
  "kernelspec": {
   "display_name": "Python 3",
   "language": "python",
   "name": "python3"
  },
  "language_info": {
   "codemirror_mode": {
    "name": "ipython",
    "version": 3
   },
   "file_extension": ".py",
   "mimetype": "text/x-python",
   "name": "python",
   "nbconvert_exporter": "python",
   "pygments_lexer": "ipython3",
   "version": "3.7.6"
  },
  "toc": {
   "base_numbering": 1,
   "nav_menu": {},
   "number_sections": false,
   "sideBar": true,
   "skip_h1_title": false,
   "title_cell": "Table of Contents",
   "title_sidebar": "Contents",
   "toc_cell": false,
   "toc_position": {
    "height": "calc(100% - 180px)",
    "left": "10px",
    "top": "150px",
    "width": "307.188px"
   },
   "toc_section_display": true,
   "toc_window_display": true
  }
 },
 "nbformat": 4,
 "nbformat_minor": 4
}
