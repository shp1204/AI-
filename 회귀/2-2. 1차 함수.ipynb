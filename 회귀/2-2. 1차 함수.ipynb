{
 "cells": [
  {
   "cell_type": "markdown",
   "metadata": {},
   "source": [
    "# 2. 선형 회귀 모델"
   ]
  },
  {
   "cell_type": "markdown",
   "metadata": {},
   "source": [
    "---"
   ]
  },
  {
   "cell_type": "markdown",
   "metadata": {},
   "source": [
    "## 학습 목표\n",
    "- 선형 모델의 정의를 학습합니다.\n",
    "- 1차 함수의 형태를 이해하고 하이퍼파라미터에 따라 그래프가 어떻게 변화하는지 이해합니다."
   ]
  },
  {
   "cell_type": "markdown",
   "metadata": {},
   "source": [
    "---"
   ]
  },
  {
   "cell_type": "markdown",
   "metadata": {},
   "source": [
    "## 목차"
   ]
  },
  {
   "cell_type": "markdown",
   "metadata": {},
   "source": [
    "### 1. 선형 함수 정의\n",
    "1. 회귀 모델의 종류\n",
    "2. 선형 회귀란\n",
    "3. 선형 회귀의 장단점\n",
    "\n",
    "### 2. 1차 함수 그리기\n",
    "1. 1차 함수 하이퍼 파라미터에 따른 그래프\n",
    "\n"
   ]
  },
  {
   "cell_type": "markdown",
   "metadata": {},
   "source": [
    "---"
   ]
  },
  {
   "cell_type": "markdown",
   "metadata": {},
   "source": [
    "## 2. 1차 함수 그리기"
   ]
  },
  {
   "cell_type": "markdown",
   "metadata": {},
   "source": [
    "### 2-1. 1차 함수 파라미터에 따른 그래프"
   ]
  },
  {
   "cell_type": "markdown",
   "metadata": {},
   "source": [
    "처음부터 일반화된 모델을 보며 분석하면 모델을 이해하느라 헤맬 수 있습니다. 그렇기에 가장 간단한 선형 결합 모델인 1차 함수의 구조부터 시작해서 분석해 봅시다.\n",
    "\n",
    "1차 함수는 일반적으로 $y=w_0+w_1x$ 표현됩니다. 수식에서 $w_0$는 y 절편으로 y축과 1차 선이 만나는 지점을 의미합니다."
   ]
  },
  {
   "cell_type": "markdown",
   "metadata": {},
   "source": [
    "<img src=\"./2-2-1.png\" width=\"30%\" height=\"30%\" title=\"y절편\" alt=\"y절편\"></img>"
   ]
  },
  {
   "cell_type": "markdown",
   "metadata": {},
   "source": [
    "$w_1$는 기울기로 1차 선이 얼마나 기울었는지의 정도를 의미합니다."
   ]
  },
  {
   "cell_type": "markdown",
   "metadata": {},
   "source": [
    "<img src=\"./2-2-2.png\" width=\"30%\" height=\"30%\" title=\"기울기\" alt=\"기울기\"></img>"
   ]
  },
  {
   "cell_type": "markdown",
   "metadata": {},
   "source": [
    "우리는 이러한 기울기와 y 절편을 조정하여 모든 형태의 1차 함수를 표현할 수 있습니다."
   ]
  },
  {
   "cell_type": "markdown",
   "metadata": {},
   "source": [
    " "
   ]
  },
  {
   "cell_type": "markdown",
   "metadata": {},
   "source": [
    "##### <예제 1> 1차 함수 그래프 출력"
   ]
  },
  {
   "cell_type": "markdown",
   "metadata": {},
   "source": [
    "아래 코드에서 $w_{0},w_{1}$ 값을 변경하며 출력해봅시다."
   ]
  },
  {
   "cell_type": "code",
   "execution_count": 3,
   "metadata": {},
   "outputs": [
    {
     "data": {
      "image/png": "[encoded data removed]",
      "text/plain": [
       "<Figure size 432x288 with 1 Axes>"
      ]
     },
     "metadata": {
      "needs_background": "light"
     },
     "output_type": "display_data"
    }
   ],
   "source": [
    "import numpy as np\n",
    "import matplotlib.pyplot as plt\n",
    "\n",
    "# x 범위\n",
    "x = np.arange(-10,10,0.1)\n",
    "\n",
    "# 기울기와 y절편 설정\n",
    "w_0 = 1\n",
    "w_1 = 1\n",
    "\n",
    "# 1차 함수\n",
    "f_x = w_0 + w_1*x\n",
    "\n",
    "# 출력\n",
    "plt.plot(x, f_x, color='black')\n",
    "plt.grid()\n",
    "plt.show()"
   ]
  },
  {
   "cell_type": "markdown",
   "metadata": {},
   "source": [
    " "
   ]
  },
  {
   "cell_type": "markdown",
   "metadata": {},
   "source": [
    "그렇다면 어떤 기울기와 y절편 값을 사용해야 좋은 모델일까요?\n",
    "\n",
    "좋은 모델을 정량적으로 구별할 수 있는 방법은 무엇일까요?\n",
    "\n",
    "다음 장에서 좋은 모델의 정도를 정량화 하는 방법에 대해서 알아봅니다. "
   ]
  },
  {
   "cell_type": "markdown",
   "metadata": {},
   "source": [
    "---"
   ]
  }
 ],
 "metadata": {
  "kernelspec": {
   "display_name": "Python 3",
   "language": "python",
   "name": "python3"
  },
  "language_info": {
   "codemirror_mode": {
    "name": "ipython",
    "version": 3
   },
   "file_extension": ".py",
   "mimetype": "text/x-python",
   "name": "python",
   "nbconvert_exporter": "python",
   "pygments_lexer": "ipython3",
   "version": "3.7.6"
  },
  "toc": {
   "base_numbering": 1,
   "nav_menu": {},
   "number_sections": false,
   "sideBar": true,
   "skip_h1_title": false,
   "title_cell": "Table of Contents",
   "title_sidebar": "Contents",
   "toc_cell": false,
   "toc_position": {},
   "toc_section_display": true,
   "toc_window_display": true
  }
 },
 "nbformat": 4,
 "nbformat_minor": 4
}
