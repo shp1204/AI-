{
 "cells": [
  {
   "cell_type": "markdown",
   "metadata": {},
   "source": [
    "# 3. 단순 선형 회귀 - Gradient descent"
   ]
  },
  {
   "cell_type": "markdown",
   "metadata": {},
   "source": [
    "---"
   ]
  },
  {
   "cell_type": "markdown",
   "metadata": {},
   "source": [
    "## 학습 목표\n",
    "- gradient descent의 문제점을 해결할 수 있는 방법에 대해서 학습합니다.\n",
    "- gradient descent를 사용한 단순 선형 회귀 알고리즘을 구현합니다."
   ]
  },
  {
   "cell_type": "markdown",
   "metadata": {},
   "source": [
    "## 목차"
   ]
  },
  {
   "cell_type": "markdown",
   "metadata": {},
   "source": [
    "### 1. Gradient descent 보완\n",
    "1. Local minima 문제\n",
    "2. Learning rate 문제\n",
    "3. 초기 값 문제\n",
    "\n",
    "### 2. Gradient descent를 사용한 단순 선형 회귀\n",
    "1. 단순 선형 회귀 class 구현\n",
    "2. Gradient descent 보완\n"
   ]
  },
  {
   "cell_type": "markdown",
   "metadata": {},
   "source": [
    "---"
   ]
  },
  {
   "cell_type": "markdown",
   "metadata": {},
   "source": [
    "## 2. Gradient descent를 사용한 단순 선형 회귀"
   ]
  },
  {
   "cell_type": "markdown",
   "metadata": {},
   "source": [
    "### 2-1. 단순 선형 회귀 class 구조"
   ]
  },
  {
   "cell_type": "markdown",
   "metadata": {},
   "source": [
    "지금까지 정리한 gradient descent 기법을 사용한 단순 선형 회귀를 class로 구현해 봅시다."
   ]
  },
  {
   "cell_type": "markdown",
   "metadata": {},
   "source": [
    " "
   ]
  },
  {
   "cell_type": "markdown",
   "metadata": {},
   "source": [
    "##### <예제 1> gradient descent 단순 선형 회귀 class"
   ]
  },
  {
   "cell_type": "markdown",
   "metadata": {},
   "source": [
    "class는 least square를 사용했던 단순 선형 회귀 구조와 비슷하게 초기화, 학습, 예측, loss 함수로 구성합니다."
   ]
  },
  {
   "cell_type": "code",
   "execution_count": 14,
   "metadata": {},
   "outputs": [],
   "source": [
    "import numpy as np\n",
    "\n",
    "class simple_linaer_regression_gd:\n",
    "    # 초기화 함수\n",
    "    def __init__(self, initial_w0, initial_w1, initial_lr):\n",
    "        self.w1 = initial_w1\n",
    "        self.w0 = initial_w0\n",
    "        self.lr = initial_lr\n",
    "        \n",
    "    # gradient 함수 정의\n",
    "    def gradient(self, feature, label):\n",
    "\n",
    "        gradient_w0 = -2/(feature.size) * np.sum(label - (self.w0+self.w1*feature))\n",
    "        gradient_w1 = -2/(feature.size) * np.sum((label - (self.w0+self.w1*feature))*(feature))\n",
    "\n",
    "        return gradient_w0, gradient_w1\n",
    "        \n",
    "    # 학습 함수    \n",
    "    def fit(self, feature, label):\n",
    "        \n",
    "        # 현재 파라미터로 계산한 loss 값 저장 \n",
    "        loss1 = self.loss(self.predict(feature), label)\n",
    "\n",
    "        # 반복 횟수를 세기 위하여 변수 초기화\n",
    "        num_iter = 0\n",
    "\n",
    "        while True:\n",
    "\n",
    "            num_iter = num_iter + 1\n",
    "\n",
    "            gradient_w0, gradient_w1 = self.gradient(feature, label)\n",
    "\n",
    "            self.w0 = self.w0 - self.lr*gradient_w0\n",
    "            self.w1 = self.w1 - self.lr*gradient_w1\n",
    "\n",
    "            if loss1 < self.loss(self.predict(feature), label):\n",
    "                print(\"diverges\")\n",
    "                print(\"updates learning rate * 50%\")\n",
    "                status = 'diverges'\n",
    "                self.lr = self.lr/2\n",
    "\n",
    "            if abs(loss1 - self.loss(self.predict(feature), label)) < 0.00001:\n",
    "                print(\"saturates\")\n",
    "                print(\"number of iteration : {}\".format(num_iter))\n",
    "                print(\"loss : {}\".format(loss1))\n",
    "                print(\"W0 : {}\".format(w0))\n",
    "                print(\"W1 : {}\".format(w1))\n",
    "                status = 'converges'\n",
    "                break\n",
    "\n",
    "            loss1 = self.loss(self.predict(feature), label)\n",
    "        \n",
    "    # 예측값 계산 함수\n",
    "    def predict(self, feature):\n",
    "        \n",
    "        prediction = self.w1*feature + self.w0\n",
    "        \n",
    "        return prediction\n",
    "    \n",
    "    # loss 값 계산 함수\n",
    "    def loss(self, feature, label):\n",
    "        \n",
    "        error = label - self.predict(feature)\n",
    "        ls = np.mean(error**2)\n",
    "        \n",
    "        return ls"
   ]
  },
  {
   "cell_type": "markdown",
   "metadata": {},
   "source": [
    " "
   ]
  },
  {
   "cell_type": "markdown",
   "metadata": {},
   "source": [
    "### 2-2. 함수 정의"
   ]
  },
  {
   "cell_type": "markdown",
   "metadata": {},
   "source": [
    "#### 초기화 함수: `__init__`"
   ]
  },
  {
   "cell_type": "markdown",
   "metadata": {},
   "source": [
    "class에 사용되는 변수 `w0, w1, lr`을 초기값을 받아 저장합니다."
   ]
  },
  {
   "cell_type": "markdown",
   "metadata": {},
   "source": [
    "#### 학습 함수: `fit`"
   ]
  },
  {
   "cell_type": "markdown",
   "metadata": {},
   "source": [
    "feature 데이터와 label 데이터를 `feature, label`로 입력 받아 loss 값을 최소로 만드는 파라미터 `w0, w1`을 gradient descent로 구하여 저장합니다.\n",
    "\n",
    "여기서 입력하는 `feature, label`은 N개의 row를 갖는 벡터를 사용해야합니다."
   ]
  },
  {
   "cell_type": "markdown",
   "metadata": {},
   "source": [
    "#### 예측값 계산 함수: `predict`"
   ]
  },
  {
   "cell_type": "markdown",
   "metadata": {},
   "source": [
    "입력 받은 `feature` 데이터를 넣어 단순 선형 모델로 계산된 예측값을 계산합니다."
   ]
  },
  {
   "cell_type": "markdown",
   "metadata": {},
   "source": [
    "#### loss 값 계산 함수: `loss`"
   ]
  },
  {
   "cell_type": "markdown",
   "metadata": {},
   "source": [
    "feature 데이터와 label 데이터를 feature, label로 입력 받아 loss 값을 계산하여 출력합니다."
   ]
  },
  {
   "cell_type": "markdown",
   "metadata": {},
   "source": [
    " "
   ]
  },
  {
   "cell_type": "markdown",
   "metadata": {},
   "source": [
    "##### <예제 2> gradient descent 단순 선형 회귀 학습"
   ]
  },
  {
   "cell_type": "markdown",
   "metadata": {},
   "source": [
    "`<예제 1> gradient descent 단순 선형 회귀 class`에서 구현한 class를 사용하여 학습 과정을 수행해봅시다."
   ]
  },
  {
   "cell_type": "code",
   "execution_count": 15,
   "metadata": {},
   "outputs": [
    {
     "name": "stdout",
     "output_type": "stream",
     "text": [
      "diverges\n",
      "updates learning rate * 50%\n",
      "diverges\n",
      "updates learning rate * 50%\n",
      "diverges\n",
      "updates learning rate * 50%\n",
      "diverges\n",
      "updates learning rate * 50%\n",
      "diverges\n",
      "updates learning rate * 50%\n",
      "saturates\n",
      "number of iteration : 862\n",
      "loss : 52.80384565893719\n",
      "W0 : 1.1394225687172648\n",
      "W1 : 1.9565915191845342\n",
      "loss: 0.015750000651418353\n",
      "\n"
     ]
    }
   ],
   "source": [
    "import numpy as np\n",
    "\n",
    "\n",
    "feature_data = np.array([1,2,3,4]).reshape((-1,1))\n",
    "label_data = np.array([3.1,4.9,7.2,8.9]).reshape((-1,1))\n",
    "\n",
    "# 단순 선형 회귀 모델 불러오기 및 초기화\n",
    "model = simple_linaer_regression_gd(0,0,1)\n",
    "\n",
    "# 학습 수행\n",
    "model.fit(feature_data, label_data)\n",
    "\n",
    "print(\"loss: {}\\n\".format(model.loss(feature_data, label_data))) "
   ]
  },
  {
   "cell_type": "markdown",
   "metadata": {},
   "source": [
    "---"
   ]
  }
 ],
 "metadata": {
  "kernelspec": {
   "display_name": "Python 3",
   "language": "python",
   "name": "python3"
  },
  "language_info": {
   "codemirror_mode": {
    "name": "ipython",
    "version": 3
   },
   "file_extension": ".py",
   "mimetype": "text/x-python",
   "name": "python",
   "nbconvert_exporter": "python",
   "pygments_lexer": "ipython3",
   "version": "3.7.6"
  },
  "toc": {
   "base_numbering": 1,
   "nav_menu": {},
   "number_sections": false,
   "sideBar": true,
   "skip_h1_title": false,
   "title_cell": "Table of Contents",
   "title_sidebar": "Contents",
   "toc_cell": false,
   "toc_position": {},
   "toc_section_display": true,
   "toc_window_display": true
  }
 },
 "nbformat": 4,
 "nbformat_minor": 4
}
