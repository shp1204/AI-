{
 "cells": [
  {
   "cell_type": "markdown",
   "metadata": {},
   "source": [
    "# 4. 단순 선형 회귀"
   ]
  },
  {
   "cell_type": "markdown",
   "metadata": {},
   "source": [
    "---"
   ]
  },
  {
   "cell_type": "markdown",
   "metadata": {},
   "source": [
    "## 학습 목표\n",
    "- 단순 선형 회귀 기법을 평가할 수 있는 방법들을 학습합니다.\n",
    "- 각 평가 기법의 특성과 차이점을 이해합니다."
   ]
  },
  {
   "cell_type": "markdown",
   "metadata": {},
   "source": [
    "---"
   ]
  },
  {
   "cell_type": "markdown",
   "metadata": {},
   "source": [
    "## 목차"
   ]
  },
  {
   "cell_type": "markdown",
   "metadata": {},
   "source": [
    "### 1. Least square 최적화\n",
    "1. 단순 선형 회귀 least square solution\n",
    "\n",
    "### 2. 단순 선형 회귀 class \n",
    "1. 단순 선형 회귀 class 구조\n",
    "2. 함수 정의\n",
    "3. scikit-learn 모듈\n",
    "\n",
    "### 3. 단순 선형 회귀 평가\n",
    "1. RMSE, RMAE\n",
    "2. R2, adjusted R2\n"
   ]
  },
  {
   "cell_type": "markdown",
   "metadata": {},
   "source": [
    "---"
   ]
  },
  {
   "cell_type": "markdown",
   "metadata": {},
   "source": [
    "## 3. 단순 선형 회귀 평가"
   ]
  },
  {
   "cell_type": "markdown",
   "metadata": {},
   "source": [
    "### 3-1. RMSE, RMAE"
   ]
  },
  {
   "cell_type": "markdown",
   "metadata": {},
   "source": [
    "모델 최적화가 되었다면 테스트 데이터를 바탕으로 모델을 평가합니다. "
   ]
  },
  {
   "cell_type": "markdown",
   "metadata": {},
   "source": [
    "#### RMSE"
   ]
  },
  {
   "cell_type": "markdown",
   "metadata": {},
   "source": [
    "Root Mean Square Error의 약자로 추정 값 또는 모델이 예측한 값과 실제 환경에서 관찰되는 값의 차이를 다룰 때 흔히 사용하는 척도입니다."
   ]
  },
  {
   "cell_type": "markdown",
   "metadata": {},
   "source": [
    "##### RMSE 정의\n",
    "\n",
    "> $$RMSE(Y,\\widehat{Y})=\\sqrt{E[(Y-\\widehat{Y})^{2}]}$$,\n",
    "\n",
    "> $$Y=[y_1, y_2,..., y_N], \\widehat{Y}=[\\widehat{y_1}, \\widehat{y_2},..., \\widehat{y_N}]$$,"
   ]
  },
  {
   "cell_type": "markdown",
   "metadata": {},
   "source": [
    "$N$개의 샘플이 있는 경우 $y_i$는 $i$번째 샘플의 레이블(label) 값, $\\widehat{y_i}$는 $i$번째 샘플의 예측값을 의미합니다.\n",
    "\n",
    "RMSE 값은 레이블 값에 얼마나 잘 예측하냐에 따라 0에 수렴한 값을 갖게됩니다."
   ]
  },
  {
   "cell_type": "markdown",
   "metadata": {},
   "source": [
    " "
   ]
  },
  {
   "cell_type": "markdown",
   "metadata": {},
   "source": [
    "#### RMAE"
   ]
  },
  {
   "cell_type": "markdown",
   "metadata": {},
   "source": [
    "Root Mean Absolute Error의 약자로 RMSE와 비슷한 방식이지만 error의 square 값 대신 absolute 값을 다룬다는 점에서 차이가 있습니다. "
   ]
  },
  {
   "cell_type": "markdown",
   "metadata": {},
   "source": [
    "##### RMAE 정의\n",
    "\n",
    "> $$RMAE(Y,\\widehat{Y})=\\sqrt{E[\\| Y-\\widehat{Y}\\|]}$$."
   ]
  },
  {
   "cell_type": "markdown",
   "metadata": {},
   "source": [
    "RMAE 값 또한 RMSE와 마찬가지로 레이블 값에 얼마나 잘 예측하냐에 따라 0에 수렴한 값을 갖게됩니다."
   ]
  },
  {
   "cell_type": "markdown",
   "metadata": {},
   "source": [
    " "
   ]
  },
  {
   "cell_type": "markdown",
   "metadata": {},
   "source": [
    "##### <예제 1>  RMSE, RMAE 값 비교"
   ]
  },
  {
   "cell_type": "markdown",
   "metadata": {},
   "source": [
    "`4-2. 단순 선형 회귀 class`에서 `<예제 2>`의 결과 코드를 가져와 학습된 모델의 RMSE 값과 RMAE 값을 비교해 봅시다."
   ]
  },
  {
   "cell_type": "code",
   "execution_count": 1,
   "metadata": {},
   "outputs": [
    {
     "name": "stdout",
     "output_type": "stream",
     "text": [
      "loss: 0.015749999999999993\n",
      "\n",
      "RMSE: 0.1254990039801113\n",
      "\n",
      "RMAE: 0.33166247903553997\n",
      "\n"
     ]
    }
   ],
   "source": [
    "import numpy as np\n",
    "from sklearn.linear_model import LinearRegression\n",
    "\n",
    "feature_data = np.array([1,2,3,4]).reshape((-1,1))\n",
    "label_data = np.array([3.1,4.9,7.2,8.9]).reshape((-1,1))\n",
    "\n",
    "# 모델 설정\n",
    "sci_model = LinearRegression()\n",
    "\n",
    "# 학습 수행\n",
    "sci_model.fit(feature_data, label_data)\n",
    "\n",
    "# scikit-learn 에서는 loss 함수가 모델안에 내정되어 있지 않기에 정의\n",
    "def loss(prediction, label):\n",
    "        \n",
    "    error = label - prediction\n",
    "    ls = np.mean(error**2)\n",
    "\n",
    "    return ls\n",
    "\n",
    "print(\"loss: {}\\n\".format(loss(sci_model.predict(feature_data), label_data))) \n",
    "\n",
    "def RMSE(prediction, label):\n",
    "    \n",
    "    error = label - prediction\n",
    "    ls = np.sqrt(np.mean(error**2))\n",
    "        \n",
    "    return ls\n",
    "\n",
    "def RMAE(prediction, label):\n",
    "    \n",
    "    error = label - prediction\n",
    "    ls = np.sqrt(np.mean(np.abs(error)))\n",
    "        \n",
    "    return ls\n",
    "\n",
    "print(\"RMSE: {}\\n\".format(RMSE(sci_model.predict(feature_data), label_data))) \n",
    "print(\"RMAE: {}\\n\".format(RMAE(sci_model.predict(feature_data), label_data))) "
   ]
  },
  {
   "cell_type": "markdown",
   "metadata": {},
   "source": [
    "### 3-2. R2, adjusted R2"
   ]
  },
  {
   "cell_type": "markdown",
   "metadata": {},
   "source": [
    "#### R2"
   ]
  },
  {
   "cell_type": "markdown",
   "metadata": {},
   "source": [
    "$R^2$는 회귀 모델 평가를 할 때 매우 자주 쓰이는 방법입니다.\n",
    "\n",
    "$R^2$ 아래와 같은 수식으로 계산할 수 있습니다."
   ]
  },
  {
   "cell_type": "markdown",
   "metadata": {},
   "source": [
    "##### R2 정의\n",
    "\n",
    "> $$R^{2} = 1-\\frac{\\sum_{i=1}^{N}(y_i-\\widehat{y_i})^{2}}{\\sum_{i=1}^{N}(y_i-\\bar{y_i})^{2}}$$,\n",
    "\n",
    "> $$\\bar{y_i}=\\frac{1}{N}\\sum_{i=1}^{N}y_i$$."
   ]
  },
  {
   "cell_type": "markdown",
   "metadata": {},
   "source": [
    "$R^2$는 error의 제곱을 사용한다는 점에서는 MSE와 비슷하지만 분모를 평균과의 차의 제곱으로 나눈 것이 다릅니다."
   ]
  },
  {
   "cell_type": "markdown",
   "metadata": {},
   "source": [
    "그렇다면 분모의 값은 어떤 의미를 할까요?\n",
    "\n",
    "label 값과 그 평균의 차의 제곱의 평균은 바로 분산과 같은 의미라고 생각할 수 있습니다.\n",
    "\n",
    "따라서 label 데이터가 많이 흩어져 있을 수록 그 값이 커지게 됩니다.\n",
    "\n",
    "결과적으로 많이 흩어져 있는 정도에 따라 label 값과 예측 값의 영향력을 미치게 됩니다.\n",
    "\n",
    "정리를 하자면 모델이 label 값과 비슷할 수록 label 데이터의 분산이 높을 수록 1에 가까운 값을 가지게 됩니다."
   ]
  },
  {
   "cell_type": "markdown",
   "metadata": {},
   "source": [
    " "
   ]
  },
  {
   "cell_type": "markdown",
   "metadata": {},
   "source": [
    "#### Adjusted R2"
   ]
  },
  {
   "cell_type": "markdown",
   "metadata": {},
   "source": [
    "$R^2$에 모델 복잡도에 대한 팩터를 추가한 것이 $Adjusted R^2$ 입니다."
   ]
  },
  {
   "cell_type": "markdown",
   "metadata": {},
   "source": [
    "##### Adjusted R2 정의\n",
    "\n",
    "> $$Adjusted R^2 = 1-(1-R^2)\\frac{N-1}{N-p-1}$$,"
   ]
  },
  {
   "cell_type": "markdown",
   "metadata": {},
   "source": [
    "$N$은 샘플의 개수, $p$는 feature column의 개수를 의미합니다.\n",
    "\n",
    "따라서 샘플이 작을수록, feature column이 많을 수록 보다 모델의 복잡성이 높아지고 부정확함을 위 수식 처럼 표현했습니다."
   ]
  },
  {
   "cell_type": "markdown",
   "metadata": {},
   "source": [
    " "
   ]
  },
  {
   "cell_type": "markdown",
   "metadata": {},
   "source": [
    "##### <예제 2> 𝑅2 , 𝐴𝑑𝑗𝑢𝑠𝑡𝑒𝑑 𝑅2 값 비교"
   ]
  },
  {
   "cell_type": "markdown",
   "metadata": {},
   "source": [
    "`4-2. 단순 선형 회귀`에서 `<예제 2>`의 결과 코드를 가져와 학습된 모델의 $R^2$, $Adjusted R^2$를 계산하여 봅시다."
   ]
  },
  {
   "cell_type": "code",
   "execution_count": 22,
   "metadata": {},
   "outputs": [
    {
     "name": "stdout",
     "output_type": "stream",
     "text": [
      "R2: 0.9967638371645049\n",
      "\n",
      "Adjusted R2: 0.9951457557467573\n",
      "\n"
     ]
    }
   ],
   "source": [
    "def R2(prediction, label):\n",
    "    error = label - prediction\n",
    "    r2 = 1-(np.sum(error**2)/np.sum((label-np.mean(label))**2))\n",
    "    return r2\n",
    "\n",
    "def AR2(prediction, feature, label):\n",
    "    error = label - prediction\n",
    "    r2 = 1-(np.sum(error**2)/np.sum((label-np.mean(label))**2))\n",
    "    ar2 = 1-(1-r2)*(label.size-1)/(label.size-feature.shape[1]-1)\n",
    "    return ar2\n",
    "\n",
    "print(\"R2: {}\\n\".format(R2(sci_model.predict(feature_data), label_data))) \n",
    "print(\"Adjusted R2: {}\\n\".format(AR2(sci_model.predict(feature_data), feature_data, label_data))) "
   ]
  },
  {
   "cell_type": "markdown",
   "metadata": {},
   "source": [
    "---"
   ]
  }
 ],
 "metadata": {
  "kernelspec": {
   "display_name": "Python 3",
   "language": "python",
   "name": "python3"
  },
  "language_info": {
   "codemirror_mode": {
    "name": "ipython",
    "version": 3
   },
   "file_extension": ".py",
   "mimetype": "text/x-python",
   "name": "python",
   "nbconvert_exporter": "python",
   "pygments_lexer": "ipython3",
   "version": "3.6.9"
  },
  "toc": {
   "base_numbering": 1,
   "nav_menu": {},
   "number_sections": false,
   "sideBar": true,
   "skip_h1_title": false,
   "title_cell": "Table of Contents",
   "title_sidebar": "Contents",
   "toc_cell": false,
   "toc_position": {
    "height": "calc(100% - 180px)",
    "left": "10px",
    "top": "150px",
    "width": "165px"
   },
   "toc_section_display": true,
   "toc_window_display": true
  },
  "varInspector": {
   "cols": {
    "lenName": 16,
    "lenType": 16,
    "lenVar": 40
   },
   "kernels_config": {
    "python": {
     "delete_cmd_postfix": "",
     "delete_cmd_prefix": "del ",
     "library": "var_list.py",
     "varRefreshCmd": "print(var_dic_list())"
    },
    "r": {
     "delete_cmd_postfix": ") ",
     "delete_cmd_prefix": "rm(",
     "library": "var_list.r",
     "varRefreshCmd": "cat(var_dic_list()) "
    }
   },
   "types_to_exclude": [
    "module",
    "function",
    "builtin_function_or_method",
    "instance",
    "_Feature"
   ],
   "window_display": false
  }
 },
 "nbformat": 4,
 "nbformat_minor": 4
}
