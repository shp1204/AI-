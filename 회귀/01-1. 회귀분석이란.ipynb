{
 "cells": [
  {
   "cell_type": "markdown",
   "metadata": {},
   "source": [
    "# 1. 회귀 분석과 회귀 분석 모델"
   ]
  },
  {
   "cell_type": "markdown",
   "metadata": {},
   "source": [
    "---"
   ]
  },
  {
   "cell_type": "markdown",
   "metadata": {},
   "source": [
    "## 학습 목표\n",
    "- 데이터를 회귀 분석 모델을 통하여 분석하는 회귀 방식에 대해서 이해합니다.\n",
    "- 다양한 회귀 분석 모델을 이해합니다."
   ]
  },
  {
   "cell_type": "markdown",
   "metadata": {},
   "source": [
    "---"
   ]
  },
  {
   "cell_type": "markdown",
   "metadata": {},
   "source": [
    "## 목차"
   ]
  },
  {
   "cell_type": "markdown",
   "metadata": {},
   "source": [
    "### 1. 회귀 분석이란?\n",
    "1. 회귀 분석이란\n",
    "2. Feature 데이터와 Label 데이터\n",
    "\n",
    "### 2. 회귀 분석 모델\n",
    "1. 회귀 분석 모델 정의\n",
    "2. 다양한 회귀 분석 모델의 하이퍼 파라미터 조정"
   ]
  },
  {
   "cell_type": "markdown",
   "metadata": {},
   "source": [
    "---"
   ]
  },
  {
   "cell_type": "markdown",
   "metadata": {},
   "source": [
    "## 1. 근사선과 회귀 분석이란?"
   ]
  },
  {
   "cell_type": "markdown",
   "metadata": {},
   "source": [
    "### 1-1. 회귀 분석이란"
   ]
  },
  {
   "cell_type": "markdown",
   "metadata": {},
   "source": [
    "**회귀 분석은(Regression analysis)**은 관찰된 데이터들에 대해 feature 데이터와 label 데이터 사이의 모형을 구한 뒤, \n",
    "적합도를 측정해 내는 분석 방법을 의미합니다.\n",
    "\n",
    "회귀 분석 예시 : **면적(Feature 데이터)**에 따른 **땅 가격(Label 데이터)** 관계"
   ]
  },
  {
   "cell_type": "markdown",
   "metadata": {},
   "source": [
    "<img src=\"img/1-1-1.png\" width=\"50%\" height=\"50%\" title=\"땅\" alt=\"땅\"></img>"
   ]
  },
  {
   "cell_type": "markdown",
   "metadata": {},
   "source": [
    "위 그림과 같이 면적에 따른 땅가격의 분포에 대해서 **근사선**으로 그 관계를 예측할 수 있습니다.\n",
    "\n",
    "붉은 점선이 가르키는 것 처럼 예측하고 싶은 면적의 값을 넣게 되면 해당 **근사선**에 해당되는 땅 가격을 예측할 수 있습니다.\n",
    "\n",
    "이처럼 회귀 분석은 **feature 데이터**와 **label 데이터**의 관계를 특정 모델(근사선 등)을 사용하여 근사하고 예측합니다."
   ]
  },
  {
   "cell_type": "markdown",
   "metadata": {},
   "source": [
    " "
   ]
  },
  {
   "cell_type": "markdown",
   "metadata": {},
   "source": [
    "회귀 분석을 하기 위해선 어떠한 모델을 사용하여 **feature 데이터**와 **label 데이터**의 관계를 근사해야 합니다.\n",
    "\n",
    "데이터 관계를 근사하기 위해서 선, 면, 연결되지 않은 선 또는 점들과 같이 다양한 형태의 모델들을 사용 수 있으며, 이러한 모델들을 **회귀 분석 모델**이라 부릅니다.\n",
    "\n",
    "회귀 분석에서 중요한 것은 회귀 분석 모델을 **\"얼마나 잘 데이터와 근사하게 만드냐\"**입니다.\n",
    "\n",
    "지금은 추상적으로 잘 근사하는 모델을 만든다고 표현할 수 밖에 없지만, 앞으로 선형 회귀를 학습하며 좋은 모델을 수치적으로 표현하는 방법을 배우고 이를 최소화 하는 방식을 구현하여 **잘 근사하는 모델**에 대해서 알아갈 것입니다."
   ]
  },
  {
   "cell_type": "markdown",
   "metadata": {},
   "source": [
    " "
   ]
  },
  {
   "cell_type": "markdown",
   "metadata": {},
   "source": [
    "### 1-2. Feature 데이터와 Label 데이터"
   ]
  },
  {
   "cell_type": "markdown",
   "metadata": {},
   "source": [
    "회귀 분석 모델을 데이터의 분포와 비슷하게 근사하기 위해서 데이터를 모델에 맞게 정리해야 합니다.\n",
    "\n",
    "지도 학습 기법인 회귀 분석 모델을 사용하기 위해서는 **feature 데이터**와 **label 데이터**를 필요로 합니다.\n",
    "\n",
    "이러한 학습용 **feature 데이터**와 **label 데이터**에 대해서는 아래와 같이 정의할 수 있습니다."
   ]
  },
  {
   "cell_type": "markdown",
   "metadata": {},
   "source": [
    "##### feature 데이터 \n",
    "\n",
    "> $$X=\\begin{pmatrix}\n",
    " x_{1,1} & ... & x_{1,p} \\\\ \n",
    " x_{2,1} & ... & x_{2,p} \\\\ \n",
    " \\vdots  & \\ddots  & \\vdots \\\\ \n",
    " x_{N,1} & ... & x_{N,p}\n",
    "\\end{pmatrix}\\;\\;\\;\\;\\; $$ \n",
    "\n",
    "##### label 데이터 \n",
    "\n",
    "> $$Y=[y_1,y_2,…,y_𝑁]^T,$$"
   ]
  },
  {
   "cell_type": "markdown",
   "metadata": {},
   "source": [
    "$N$은 데이터 샘플의 개수를 의미하며, $p$는 feature의 종류를 의미합니다. \n",
    "\n",
    "예를 들어, 아파트의 가격을 예측하는 모델을 만든다고 했을 때, 아파트의 평수, 주위 교통 시설 수, 아파트 브랜드 지수 등 $p$개의 feature 정보들이 있을 수 있고, label 데이터로는 그에 해당되는 아파트 가격이라 할 수 있습니다. 이러한 데이터들은 N개로 존재한다면 위의 식과 같이 표현 가능합니다."
   ]
  },
  {
   "cell_type": "markdown",
   "metadata": {},
   "source": [
    "<img src=\"img/1-1-2.png\" width=\"80%\" height=\"80%\" title=\"데이터\" alt=\"데이터\"></img>"
   ]
  },
  {
   "cell_type": "markdown",
   "metadata": {},
   "source": [
    " "
   ]
  },
  {
   "cell_type": "markdown",
   "metadata": {},
   "source": [
    "#### 1개의 feature 종류를 갖는 데이터"
   ]
  },
  {
   "cell_type": "markdown",
   "metadata": {},
   "source": [
    "2개 이상의 feature 종류를 갖는 $X$ 행렬을 다루는 것은 처음 선형 회귀를 배우는 과정에서 핵심 개념을 이해하는데 어려움을 줄 수 있습니다. 따라서, 이번 단원에서는 이해하기 쉬운 1가지 종류의 feature를 갖는 $p=1$인 경우를 다루고 이후, 3장에서 다루는 `다중 선형 회귀`에서 $p>1$d인 경우에 대해서 다루도록 하겠습니다. \n",
    "\n",
    "그렇다면 아래의 수식과 같이 $p$를 생략한 형태로 feature 데이터 $X$를 정의할 수 있습니다."
   ]
  },
  {
   "cell_type": "markdown",
   "metadata": {},
   "source": [
    "###### feature 데이터  \n",
    "\n",
    "> $$X=[x_1,x_2,…,x_𝑁]^T$$"
   ]
  },
  {
   "cell_type": "markdown",
   "metadata": {},
   "source": [
    "##### <예제 1> feature & label 데이터"
   ]
  },
  {
   "cell_type": "markdown",
   "metadata": {},
   "source": [
    "자 이렇게 정리된 column vector 형태인 **feature 데이터**와 **label 데이터**를 코드로 표현해 봅시다."
   ]
  },
  {
   "cell_type": "code",
   "execution_count": 1,
   "metadata": {},
   "outputs": [
    {
     "name": "stdout",
     "output_type": "stream",
     "text": [
      "Feature data: \n",
      "[[1]\n",
      " [2]\n",
      " [3]\n",
      " [4]\n",
      " [5]]\n",
      "\n",
      "Label data: \n",
      "[[ 2.1]\n",
      " [ 4.3]\n",
      " [ 5.8]\n",
      " [ 7.8]\n",
      " [10.1]]\n",
      "\n"
     ]
    }
   ],
   "source": [
    "import numpy as np\n",
    "\n",
    "# python 리스트 형태로 주어진 데이터\n",
    "Original_X = [1,2,3,4,5]\n",
    "Original_Y = [2.1,4.3,5.8,7.8,10.1]\n",
    "\n",
    "# 수학 계산이 편한 numpy 형태로 변환\n",
    "X = np.array(Original_X)\n",
    "Y = np.array(Original_Y)\n",
    "\n",
    "# column 벡터 형태로 변환\n",
    "X = X.reshape(-1,1)\n",
    "Y = Y.reshape(-1,1)\n",
    "\n",
    "print(\"Feature data: \\n{}\\n\".format(X))\n",
    "print(\"Label data: \\n{}\\n\".format(Y))"
   ]
  },
  {
   "cell_type": "markdown",
   "metadata": {},
   "source": [
    "---"
   ]
  }
 ],
 "metadata": {
  "kernelspec": {
   "display_name": "Python 3",
   "language": "python",
   "name": "python3"
  },
  "language_info": {
   "codemirror_mode": {
    "name": "ipython",
    "version": 3
   },
   "file_extension": ".py",
   "mimetype": "text/x-python",
   "name": "python",
   "nbconvert_exporter": "python",
   "pygments_lexer": "ipython3",
   "version": "3.7.6"
  },
  "toc": {
   "base_numbering": 1,
   "nav_menu": {},
   "number_sections": false,
   "sideBar": true,
   "skip_h1_title": false,
   "title_cell": "Table of Contents",
   "title_sidebar": "Contents",
   "toc_cell": false,
   "toc_position": {},
   "toc_section_display": true,
   "toc_window_display": true
  }
 },
 "nbformat": 4,
 "nbformat_minor": 4
}
