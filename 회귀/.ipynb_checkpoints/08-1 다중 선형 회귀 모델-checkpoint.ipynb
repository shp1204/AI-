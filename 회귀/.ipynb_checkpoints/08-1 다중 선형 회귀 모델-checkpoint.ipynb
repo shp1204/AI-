{
 "cells": [
  {
   "cell_type": "markdown",
   "metadata": {},
   "source": [
    "# 1장. 다중 선형 회귀"
   ]
  },
  {
   "cell_type": "markdown",
   "metadata": {},
   "source": [
    "---"
   ]
  },
  {
   "cell_type": "markdown",
   "metadata": {},
   "source": [
    "## 학습 목표\n",
    "- 다중 선형 회귀의 최적화 방식을 학습합니다. \n",
    "- 다중 선형 회귀 class를 구현합니다."
   ]
  },
  {
   "cell_type": "markdown",
   "metadata": {},
   "source": [
    "---"
   ]
  },
  {
   "cell_type": "markdown",
   "metadata": {},
   "source": [
    "## 목차"
   ]
  },
  {
   "cell_type": "markdown",
   "metadata": {},
   "source": [
    "### 1. 다중 선형 회귀 모델\n",
    "1. 다중 선형 회귀란?\n",
    "\n",
    "### 2. 다중 선형 회귀 최적화\n",
    "1. 다중 선형 회귀 least square solution\n",
    "2. 다중 선형 회귀 gradient descent\n",
    "\n",
    "### 3. 다중 선형 회귀 함수 class \n",
    "1. 단중 선형 회귀 class 구조\n",
    "2. 함수 정의\n",
    "3. scikit-learn 모듈\n"
   ]
  },
  {
   "cell_type": "markdown",
   "metadata": {},
   "source": [
    "---"
   ]
  },
  {
   "cell_type": "markdown",
   "metadata": {},
   "source": [
    "## 1.  다중 선형 회귀 모델"
   ]
  },
  {
   "cell_type": "markdown",
   "metadata": {},
   "source": [
    "### 1-1. 다중 선형 회귀란?"
   ]
  },
  {
   "cell_type": "markdown",
   "metadata": {},
   "source": [
    "다중 선형 회귀(Multi-variable linear regression)란 2개 이상의 특성들에 따른 레이블 정보를 선형 관계 함수로 분석하는 회귀 방법을 의미합니다.\n",
    "\n",
    "지금까지는 한 가지 특성 데이터에 따른 레이블의 변화를 보고 분석했지만, 실제 데이터들은 무수히 많은 특성 데이터를 가지고 있으며 이에 따라 레이블 데이터가 변합니다.\n",
    "\n",
    "자주 예를 들었던 면적에 따른 땅가격 예측도 사실상 면적 이외의 여러가지 요인들이 땅 가격에 영향을 미칠 것입니다.\n",
    "\n",
    "그렇기에 면적, 인근 역과의 거리, 편의 시설의 개수 정보가 학습 데이터로 주어진다면 이 정보를 아우를 수 있는 모델이 필요할 것입니다.\n",
    "\n",
    "기존 단순 선형 회귀에서는 1차 함수 형태로 모델을 했다면 다중 선형 회귀에서는 여기서 입력 변수가 늘어난 1차 함수 모델로 확장합니다."
   ]
  },
  {
   "cell_type": "markdown",
   "metadata": {},
   "source": [
    "##### 단순 선형 회귀 모델과 다중 선형 회귀 모델\n",
    "\n",
    "> $$\\begin{aligned}\n",
    "f_{단순}(면적)& =w_0 + w_1 면적 \\\\\n",
    "f_{다중}(면적, 거리, 편의)&=w_0 + w_1 면적 + w_2 거리 + w_3 편의\n",
    "\\end{aligned}$$"
   ]
  },
  {
   "cell_type": "markdown",
   "metadata": {},
   "source": [
    "위 수식과 같이 다중 선형 회귀는 단순 선형 회귀 모델에서 추가되는 feature column의 개수만큼 파라미터를 추가하여 모델합니다.\n",
    "\n",
    "따라서 각 feature 종류에 따라 파라미터 만큼의 영향력을 갖게 되고 이것은 label 값인 땅 가격을 예측하는데 사용됩니다.\n",
    "\n",
    "이렇게 모델이 확장되었을 때 어떻게 파라미터를 최적화 하고 모델링을 해야할지 학습하여봅시다."
   ]
  },
  {
   "cell_type": "markdown",
   "metadata": {},
   "source": [
    "---"
   ]
  }
 ],
 "metadata": {
  "kernelspec": {
   "display_name": "Python 3",
   "language": "python",
   "name": "python3"
  },
  "language_info": {
   "codemirror_mode": {
    "name": "ipython",
    "version": 3
   },
   "file_extension": ".py",
   "mimetype": "text/x-python",
   "name": "python",
   "nbconvert_exporter": "python",
   "pygments_lexer": "ipython3",
   "version": "3.6.9"
  },
  "toc": {
   "base_numbering": 1,
   "nav_menu": {},
   "number_sections": false,
   "sideBar": true,
   "skip_h1_title": false,
   "title_cell": "Table of Contents",
   "title_sidebar": "Contents",
   "toc_cell": false,
   "toc_position": {},
   "toc_section_display": true,
   "toc_window_display": true
  },
  "varInspector": {
   "cols": {
    "lenName": 16,
    "lenType": 16,
    "lenVar": 40
   },
   "kernels_config": {
    "python": {
     "delete_cmd_postfix": "",
     "delete_cmd_prefix": "del ",
     "library": "var_list.py",
     "varRefreshCmd": "print(var_dic_list())"
    },
    "r": {
     "delete_cmd_postfix": ") ",
     "delete_cmd_prefix": "rm(",
     "library": "var_list.r",
     "varRefreshCmd": "cat(var_dic_list()) "
    }
   },
   "types_to_exclude": [
    "module",
    "function",
    "builtin_function_or_method",
    "instance",
    "_Feature"
   ],
   "window_display": false
  }
 },
 "nbformat": 4,
 "nbformat_minor": 4
}
