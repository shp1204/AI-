{
 "cells": [
  {
   "cell_type": "markdown",
   "metadata": {},
   "source": [
    "# 2장. 다항 선형 회귀"
   ]
  },
  {
   "cell_type": "markdown",
   "metadata": {},
   "source": [
    "---"
   ]
  },
  {
   "cell_type": "markdown",
   "metadata": {},
   "source": [
    "## 학습 목표\n",
    "- 다항 선형 회귀 모델의 구조와 고차항이 추가될수록 변화하는 특성을 학습합니다. \n",
    "- 다항 선형 회귀 class를 구현합니다."
   ]
  },
  {
   "cell_type": "markdown",
   "metadata": {},
   "source": [
    "---"
   ]
  },
  {
   "cell_type": "markdown",
   "metadata": {},
   "source": [
    "## 목차"
   ]
  },
  {
   "cell_type": "markdown",
   "metadata": {},
   "source": [
    "### 1. 다항 선형 회귀 모델\n",
    "1. 다항 선형 회귀란?\n",
    "\n",
    "### 2. 이차항 선형 회귀\n",
    "1. 이차항 선형 회귀 모델\n",
    "2. 이차항 선형 회귀 class 구조\n",
    "3. scikit-learn 모듈\n",
    "\n",
    "### 3. 고차항 선형 회귀\n",
    "1. 고차항 선형 회귀 모델\n",
    "2. 고차항 선형 회귀 class 구조\n",
    "3. scikit-learn 모듈\n"
   ]
  },
  {
   "cell_type": "markdown",
   "metadata": {},
   "source": [
    "---"
   ]
  },
  {
   "cell_type": "markdown",
   "metadata": {},
   "source": [
    "## 1.  다항 선형 회귀 모델"
   ]
  },
  {
   "cell_type": "markdown",
   "metadata": {},
   "source": [
    "### 1-1. 다항 선형 회귀란?"
   ]
  },
  {
   "cell_type": "markdown",
   "metadata": {},
   "source": [
    "지금까지 1차 함수 형태의 직선형 근사선을 이용하여 회귀 분석을 수행했습니다.\n",
    "\n",
    "하지만 데이터의 상관 관계가 직선형이 아닌 곡선형이 된다면 아래 그림과 같이 직선형 근사 방식만으로는 정확한 휘귀 분석을 할 수 없습니다."
   ]
  },
  {
   "cell_type": "markdown",
   "metadata": {},
   "source": [
    " "
   ]
  },
  {
   "cell_type": "markdown",
   "metadata": {},
   "source": [
    "##### <예제 1> 비선형 데이터 분포"
   ]
  },
  {
   "cell_type": "markdown",
   "metadata": {},
   "source": [
    "`data/polynomial_data.csv`에 저장되어 있는 데이터를 불러와 단순 선형 회귀로 최적화를 해봅시다."
   ]
  },
  {
   "cell_type": "code",
   "execution_count": 1,
   "metadata": {},
   "outputs": [
    {
     "data": {
      "image/png": "[encoded data removed]",
      "text/plain": [
       "<Figure size 432x288 with 1 Axes>"
      ]
     },
     "metadata": {
      "needs_background": "light"
     },
     "output_type": "display_data"
    }
   ],
   "source": [
    "import numpy as np\n",
    "import matplotlib.pyplot as plt\n",
    "import csv\n",
    "\n",
    "from sklearn.linear_model import LinearRegression\n",
    "\n",
    "# csv 데이터를 로드하는 함수\n",
    "def load_data():\n",
    "\n",
    "    f = open('data/polynomial_data.csv', 'r', encoding='utf-8')\n",
    "    raw_data = csv.reader(f)\n",
    "    \n",
    "    x_data = []\n",
    "    y_data = []\n",
    "    \n",
    "    for lines in raw_data:\n",
    "        x_data.append(lines[0])\n",
    "        y_data.append(lines[1])\n",
    "        \n",
    "    x_data = np.array(x_data).astype(np.float64)\n",
    "    y_data = np.array(y_data).astype(np.float64)\n",
    "\n",
    "    return x_data, y_data\n",
    "\n",
    "# 데이터 불러오기\n",
    "feature_data, label_data = load_data()\n",
    "\n",
    "# scikit-learn 선형 회귀 모델 부르기\n",
    "sci_model = LinearRegression()\n",
    "\n",
    "# 학습 시작\n",
    "sci_model.fit(feature_data.reshape(-1,1), label_data.reshape(-1,1))\n",
    "\n",
    "# 데이터 출력\n",
    "plt.scatter(feature_data, label_data)\n",
    "plt.plot(feature_data, sci_model.predict(feature_data.reshape(-1,1)), 'r')\n",
    "\n",
    "plt.xlabel('feature')\n",
    "plt.ylabel('label')\n",
    "plt.grid()\n",
    "plt.show()"
   ]
  },
  {
   "cell_type": "markdown",
   "metadata": {},
   "source": [
    "기존 단순 선형 회귀의 근사선은 1차 함수인 직선으로 비선형 분포와는 잘 맞지 않습니다.\n",
    "\n",
    "따라서 비선형 분포를 근사할 수 있는 곡선형 회귀 모델이 필요합니다.\n",
    "\n",
    "곡선형 근사는 선형 회귀로 구현이 가능하기에 간단한 2차 함수 형태부터 다항 선형 회귀를 학습하여 봅시다.\n",
    "\n",
    "이후 2차 함수 형태에서 고차 함수 형태로 일반화하여 다항 선형 회귀 방식을 학습하여 봅시다."
   ]
  },
  {
   "cell_type": "markdown",
   "metadata": {},
   "source": [
    "---"
   ]
  }
 ],
 "metadata": {
  "kernelspec": {
   "display_name": "Python 3",
   "language": "python",
   "name": "python3"
  },
  "language_info": {
   "codemirror_mode": {
    "name": "ipython",
    "version": 3
   },
   "file_extension": ".py",
   "mimetype": "text/x-python",
   "name": "python",
   "nbconvert_exporter": "python",
   "pygments_lexer": "ipython3",
   "version": "3.6.9"
  },
  "toc": {
   "base_numbering": 1,
   "nav_menu": {},
   "number_sections": false,
   "sideBar": true,
   "skip_h1_title": false,
   "title_cell": "Table of Contents",
   "title_sidebar": "Contents",
   "toc_cell": false,
   "toc_position": {},
   "toc_section_display": true,
   "toc_window_display": true
  },
  "varInspector": {
   "cols": {
    "lenName": 16,
    "lenType": 16,
    "lenVar": 40
   },
   "kernels_config": {
    "python": {
     "delete_cmd_postfix": "",
     "delete_cmd_prefix": "del ",
     "library": "var_list.py",
     "varRefreshCmd": "print(var_dic_list())"
    },
    "r": {
     "delete_cmd_postfix": ") ",
     "delete_cmd_prefix": "rm(",
     "library": "var_list.r",
     "varRefreshCmd": "cat(var_dic_list()) "
    }
   },
   "types_to_exclude": [
    "module",
    "function",
    "builtin_function_or_method",
    "instance",
    "_Feature"
   ],
   "window_display": false
  }
 },
 "nbformat": 4,
 "nbformat_minor": 4
}
