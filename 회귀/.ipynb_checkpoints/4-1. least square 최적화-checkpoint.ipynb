{
 "cells": [
  {
   "cell_type": "markdown",
   "metadata": {},
   "source": [
    "# 4. 단순 선형 회귀"
   ]
  },
  {
   "cell_type": "markdown",
   "metadata": {},
   "source": [
    "---"
   ]
  },
  {
   "cell_type": "markdown",
   "metadata": {},
   "source": [
    "## 학습 목표\n",
    "- 선형 회귀 분석 모델에서 least square solution을 사용하여 최적의 선형 파라미터를 구할 수 있습니다.\n",
    "- least square solution을 사용하여 단순 선형 회귀 class를 구현할 수 있습니다.\n",
    "- 단순 선형 회귀 모델을 평가하는 방법들에 대해서 학습합니다."
   ]
  },
  {
   "cell_type": "markdown",
   "metadata": {},
   "source": [
    "---"
   ]
  },
  {
   "cell_type": "markdown",
   "metadata": {},
   "source": [
    "## 목차"
   ]
  },
  {
   "cell_type": "markdown",
   "metadata": {},
   "source": [
    "### 1. Least square 최적화\n",
    "1. 단순 선형 회귀 least square solution\n",
    "\n",
    "### 2. 단순 선형 회귀 class \n",
    "1. 단순 선형 회귀 class 구조\n",
    "2. 함수 정의\n",
    "3. scikit-learn 모듈\n",
    "\n",
    "### 3. 단순 선형 회귀 평가\n",
    "1. RMSE, RMAE\n",
    "2. R2, adjusted R2\n"
   ]
  },
  {
   "cell_type": "markdown",
   "metadata": {},
   "source": [
    "---"
   ]
  },
  {
   "cell_type": "markdown",
   "metadata": {},
   "source": [
    "## 1.  Least square 최적화"
   ]
  },
  {
   "cell_type": "markdown",
   "metadata": {},
   "source": [
    "### 1-1. 단순 선형 회귀 least square solution"
   ]
  },
  {
   "cell_type": "markdown",
   "metadata": {},
   "source": [
    "선형 회귀 모델과 모델을 평가하는 loss 함수에 대해서 학습하였고 이제는 loss 값을 줄이는 파라미터를 어떻게 찾는지 알아봅시다.\n",
    "\n",
    "본격적으로 최적화 과정에 들어가기 앞서 **학습 데이터**와 **단순 선형 모델**를 정리하여 봅시다."
   ]
  },
  {
   "cell_type": "markdown",
   "metadata": {},
   "source": [
    " "
   ]
  },
  {
   "cell_type": "markdown",
   "metadata": {},
   "source": [
    "#### 학습 데이터"
   ]
  },
  {
   "cell_type": "markdown",
   "metadata": {},
   "source": [
    "우선 데이터는 아래와 같이 정의 합시다.\n",
    "\n",
    "##### 학습용 feature 데이터\n",
    "\n",
    "> $$X=[x_1,x_2,x_3,...,x_N]^T$$\n",
    "\n",
    "###### 학습용 lable 데이터\n",
    "\n",
    "> $$Y=[y_1,y_2,y_3,...,y_N]^T$$"
   ]
  },
  {
   "cell_type": "markdown",
   "metadata": {},
   "source": [
    "딘순 선형 회귀에서는 feature 데이터는 1가지 종류의 데이터에 대해서만 고려하여 $N$개의 샘플을 갖는 column 벡터 형태로 정의합니다. label 데이터도 마찬가지로 $N$개의 샘플을 갖는 column 벡터 형태로 정의하여 각 feature와 label 데이터가 매치됩니다."
   ]
  },
  {
   "cell_type": "markdown",
   "metadata": {},
   "source": [
    " "
   ]
  },
  {
   "cell_type": "markdown",
   "metadata": {},
   "source": [
    "#### 단순 선형 회귀 모델"
   ]
  },
  {
   "cell_type": "markdown",
   "metadata": {},
   "source": [
    "이번엔 단순 선형 모델에 대해서 정의해 봅시다.\n",
    "\n",
    "단순 선형 모델은 1개의 feature column을 입력으로 하여 1차 함수 형태로 회귀 모델을 구현한 것을 의미합니다."
   ]
  },
  {
   "cell_type": "markdown",
   "metadata": {},
   "source": [
    "##### 단순 선형 회귀 모델 \n",
    "\n",
    "> $$f(x_i)=w_O+w_1 x_i$$"
   ]
  },
  {
   "cell_type": "markdown",
   "metadata": {},
   "source": [
    "$w_0, w_1$은 1차 함수 모델 $f()$의 파라미터를 의미합니다."
   ]
  },
  {
   "cell_type": "markdown",
   "metadata": {},
   "source": [
    " "
   ]
  },
  {
   "cell_type": "markdown",
   "metadata": {},
   "source": [
    "#### loss 함수 최적화"
   ]
  },
  {
   "cell_type": "markdown",
   "metadata": {},
   "source": [
    "단순 선형 회귀 모델을 정리 했으니 마지막으로 loss 함수를 정리해 봅시다."
   ]
  },
  {
   "cell_type": "markdown",
   "metadata": {},
   "source": [
    "##### loss 함수\n",
    "\n",
    "> $$\n",
    "\\begin{aligned}\n",
    "Loss(w_0, w_1)&=\\frac{1}{N}\\sum_{i=1}^{N}(y_i-f(x_i))^{2} \\\\\n",
    "&=\\frac{1}{N}\\sum_{i=1}^{N}(y_i-(w_O+w_1 x_i))^{2}\n",
    "\\end{aligned}\n",
    "$$"
   ]
  },
  {
   "cell_type": "markdown",
   "metadata": {},
   "source": [
    "이렇게 정리한 수식에서 선형 파라미터인 $w_0, \\; w_1$를 제외한 $y_i, \\; x_i,\\; N$은 주어진 상수이기에 변수인 선형 파라미터를 조정하여 loss 값을 변화시킬 수 있습니다. 따라서 최적의 모델을 구하기 위해선 선형 파라미터를 조정하여 loss 값을 최소로 만들어야 합니다.\n",
    "\n",
    "최소로 만드는 선형 파라미터를 찾기 위해선 선형 파라미터에 따라서 loss 값이 어떻게 변하는지 알 수 있다면 쉽게 찾을 수 있을겁니다. 그렇기에 선형 파라미터인 $w_0, \\; w_1$에 따라 loss값이 어떻게 변하는지 알아보도록 하겠습니다.\n",
    "\n",
    "loss 함수를 $w_0$ 또는 $w_1$에 대해서 정리를 한다면 아래와 같습니다. "
   ]
  },
  {
   "cell_type": "markdown",
   "metadata": {},
   "source": [
    "- $w_0$에 대한 정리 : $A_{0}w_{0}^{2}+B_{0}w_{0}+C_{0}$\n",
    "\n",
    "- $w_1$에 대한 정리 : $A_{1}w_{1}^{2}+B_{1}w_{1}+C_{1}$"
   ]
  },
  {
   "cell_type": "markdown",
   "metadata": {},
   "source": [
    "상수 값들인 $A_{0},B_{0},...,C_{1}$의 값이 무엇인지는 크게 신경쓰지 않으셔도 됩니다.\n",
    "\n",
    "여기서 중요한 것은 loss 함수는 $w_0, w_1$에 대해서 각각 이차 함수 형태로 정리되어 있다는 것을 의미합니다.\n",
    "\n",
    "$A_{0}=1, \\; B_{0}=2, \\; C_{0}=1$인 경우에 대해서 예제로 출력해 봅시다."
   ]
  },
  {
   "cell_type": "markdown",
   "metadata": {},
   "source": [
    " "
   ]
  },
  {
   "cell_type": "markdown",
   "metadata": {},
   "source": [
    "##### <예제 1> w0에 따른 loss 값 그래프"
   ]
  },
  {
   "cell_type": "markdown",
   "metadata": {},
   "source": [
    "$A_{0}=1, \\; B_{0}=2, \\; C_{0}=1$인 경우, $w_0$를 x축으로 하고 그에 대응하는 loss 값을 y축으로 출력합니다."
   ]
  },
  {
   "cell_type": "code",
   "execution_count": 8,
   "metadata": {},
   "outputs": [
    {
     "data": {
      "image/png": "[encoded data removed]",
      "text/plain": [
       "<Figure size 432x288 with 1 Axes>"
      ]
     },
     "metadata": {
      "needs_background": "light"
     },
     "output_type": "display_data"
    }
   ],
   "source": [
    "import numpy as np\n",
    "import matplotlib.pyplot as plt\n",
    "\n",
    "# w0 범위\n",
    "w0 = np.arange(-12,10,0.1)\n",
    "\n",
    "# loss 함수 정의\n",
    "loss_w0 = 1*w0**2 + 2*w0 + 1\n",
    "\n",
    "# 출력\n",
    "plt.plot(w0, loss_w0)\n",
    "plt.xlabel('w0')\n",
    "plt.ylabel('loss')\n",
    "plt.grid()\n",
    "plt.show()"
   ]
  },
  {
   "cell_type": "markdown",
   "metadata": {},
   "source": [
    "위 그래프처럼 특정 $w_{0}$(정확히는 -1)에서 loss 값이 최저로 떨어진 것을 볼 수 있습니다. 마찬가지로 $w_1$도 이차 함수이기에 최소값을 갖습니다.\n",
    "\n",
    "문제는 $w_0, w_1$를 조절하여 동시에 최저값을 갖는 지점을 찾는 것입니다. ($A_{0},B_{0},C_{0}$에는 $w_{1}$이 섞여 있고 그반대도 마찬가지이기에 문제가 됩니다.)"
   ]
  },
  {
   "cell_type": "markdown",
   "metadata": {},
   "source": [
    "자 그럼 이것을 해결하는 방법을 알아봅시다.\n",
    "\n",
    "선형 회귀 모델에서는 이 값을 공식 하나로 해결 할 수 있는 방식이 존재합니다.\n",
    "\n",
    "마치 이차 방정식 해를 구하는 것처럼 **least square** 방식으로 사용하면 최적의 선형 파라미터를 구하는 공식을 얻을 수 있습니다.\n",
    "\n",
    "유도 방식은 일단 생략하고 공식부터 써 보겠습니다. (심화 학습에서 공식 유도)"
   ]
  },
  {
   "cell_type": "markdown",
   "metadata": {},
   "source": [
    "##### least square solution\n",
    "\n",
    "> $$\\begin{pmatrix}\n",
    "w_{0} \\\\ \n",
    "w_{1} \\\\\n",
    "\\end{pmatrix} = \\begin{pmatrix}\n",
    "\\sum_{i=1}^{N}1 & \\sum_{i=1}^{N}x_{i} \\\\ \n",
    "\\sum_{i=1}^{N}x_{i} & \\sum_{i=1}^{N}x_{i}^{2} \\\\ \n",
    "\\end{pmatrix}^{-1}\\begin{pmatrix}\n",
    "\\sum_{i=1}^{N}y_{i} \\\\ \n",
    "\\sum_{i=1}^{N}x_{i}y_{i}\n",
    "\\end{pmatrix}.$$"
   ]
  },
  {
   "cell_type": "markdown",
   "metadata": {},
   "source": [
    "위 공식은 least square의 일반적인 형태는 아니고 단순 선형 회기에 맞게끔 정리된 수식입니다.\n",
    "\n",
    "일반적인 least square는 이후 다중 회귀 파트에서 정리하도록 하겠습니다.\n",
    "\n",
    "위 공식을 사용하게 되면 우리는 loss 값을 최소로 하는 파라미터를 구할 수 있습니다.\n",
    "\n",
    "이 과정을 우리는 **학습 과정**이라 하고 이를 통하여 선형 파라미터는 최적으로 튜닝됩니다."
   ]
  },
  {
   "cell_type": "markdown",
   "metadata": {},
   "source": [
    " "
   ]
  },
  {
   "cell_type": "markdown",
   "metadata": {},
   "source": [
    "##### <예제 2>  least square 구현"
   ]
  },
  {
   "cell_type": "markdown",
   "metadata": {},
   "source": [
    "아래 예제를 수행하여 least square로 구한 선형파라미터를 사용하여 loss 값을 출력해봅시다."
   ]
  },
  {
   "cell_type": "code",
   "execution_count": 7,
   "metadata": {},
   "outputs": [
    {
     "name": "stdout",
     "output_type": "stream",
     "text": [
      "loss: 0.01574999999999998\n",
      "\n"
     ]
    }
   ],
   "source": [
    "import numpy as np\n",
    "\n",
    "# 학습용 데이터 설정\n",
    "feature_data = np.array([1,2,3,4]).reshape((-1,1))\n",
    "label_data = np.array([3.1,4.9,7.2,8.9]).reshape((-1,1))\n",
    "\n",
    "# least sqaure 공식을 위한 배열 계산\n",
    "leastsquare1 = np.array([[feature_data.size, np.sum(feature_data)],[np.sum(feature_data), np.sum(feature_data**2)]])\n",
    "leastsquare2 = np.array([[np.sum(label_data)],[np.sum(feature_data*label_data)]])\n",
    "\n",
    "# least square solution\n",
    "W = np.dot(np.linalg.inv(leastsquare1),leastsquare2)\n",
    "w0 = W[0]\n",
    "w1 = W[1]\n",
    "\n",
    "# 단순 선형 모델 함수\n",
    "f_x = w1*feature_data + w0\n",
    "\n",
    "# loss 함수\n",
    "def loss(f_x, label_data):\n",
    "    error = label_data - f_x\n",
    "    ls = np.mean(error**2)\n",
    "    return ls\n",
    "\n",
    "# loss 값 출력\n",
    "print(\"loss: {}\\n\".format(loss(f_x,label_data)))"
   ]
  },
  {
   "cell_type": "markdown",
   "metadata": {},
   "source": [
    " ---"
   ]
  },
  {
   "cell_type": "markdown",
   "metadata": {},
   "source": [
    "**심화 학습 - 단순 선형 회귀 least square 유도**"
   ]
  },
  {
   "cell_type": "markdown",
   "metadata": {},
   "source": [
    "파라미터의 이차 함수 형태로 정의된 loss 함수는 최소인 지점에서 기울기가 0입니다. \n",
    "\n",
    "이러한 이차 함수의 특성을 이용하여 각 파리미터에 대한 편미분 구하게 되면 다음과 같은 연립 방정식을 얻을 수 있습니다."
   ]
  },
  {
   "cell_type": "markdown",
   "metadata": {},
   "source": [
    "##### Loss 함수 정의\n",
    "\n",
    "> $$Loss(w_0, w_1)=\\frac{1}{N}\\sum_{i=1}^{N}(y_i-(w_O+w_1 x_i))^{2}$$"
   ]
  },
  {
   "cell_type": "markdown",
   "metadata": {},
   "source": [
    "##### Loss 편미분\n",
    "\n",
    "> $$\\frac{\\partial Loss}{\\partial w_0}=\\frac{2}{N}\\sum_{i=1}^{N}(y_i-(w_O+w_1 x_i))$$,\n",
    "\n",
    "> $$\\frac{\\partial Loss}{\\partial w_1}=\\frac{2}{N}\\sum_{i=1}^{N}(y_i-(w_O+w_1 x_i))(-x_i)$$."
   ]
  },
  {
   "cell_type": "markdown",
   "metadata": {},
   "source": [
    "##### 기울기  0 조건으로 유도한 연립 방정식\n",
    "\n",
    "> $$\\frac{2}{N}\\sum_{i=1}^{N}(y_i-(w_O+w_1 x_i))=0$$,\n",
    "\n",
    "> $$\\frac{2}{N}\\sum_{i=1}^{N}(y_i-(w_O+w_1 x_i))(-x_i)=0$$."
   ]
  },
  {
   "cell_type": "markdown",
   "metadata": {},
   "source": [
    "곱하여져 있는 상수를 정리하면 아래와 같이 정리할 수 있습니다."
   ]
  },
  {
   "cell_type": "markdown",
   "metadata": {},
   "source": [
    "##### 2/N 정리\n",
    "\n",
    "> $$\\sum_{i=1}^{N}(y_i-(w_O+w_1 x_i))=0$$,\n",
    "\n",
    "> $$\\sum_{i=1}^{N}(y_i-(w_O+w_1 x_i))x_i=0$$."
   ]
  },
  {
   "cell_type": "markdown",
   "metadata": {},
   "source": [
    "이제는 $w_0, w_1$에 대해서 정리해봅시다."
   ]
  },
  {
   "cell_type": "markdown",
   "metadata": {},
   "source": [
    "##### w_0, w_1에 대해서 정리\n",
    "\n",
    "> $$(\\sum_{i=1}^{N}1)w_0 + (\\sum_{i=1}^{N}x_i)w_1 = \\sum_{i=1}^{N}y_i$$,\n",
    "\n",
    "> $$(\\sum_{i=1}^{N}x_i)w_0 + (\\sum_{i=1}^{N}x_{i}^{2})w_1 = \\sum_{i=1}^{N}x_i y_i$$."
   ]
  },
  {
   "cell_type": "markdown",
   "metadata": {},
   "source": [
    "이를 행렬식으로 표현하면 다음과 같습니다."
   ]
  },
  {
   "cell_type": "markdown",
   "metadata": {},
   "source": [
    "##### 행렬식 표현\n",
    "\n",
    "> $$\\begin{pmatrix}\n",
    "\\sum_{i=1}^{N}1 & \\sum_{i=1}^{N}x_{i} \\\\ \n",
    "\\sum_{i=1}^{N}x_{i} & \\sum_{i=1}^{N}x_{i}^{2} \\\\ \n",
    "\\end{pmatrix}\\begin{pmatrix}\n",
    "w_{0} \\\\ \n",
    "w_{1} \\\\\n",
    "\\end{pmatrix} = \\begin{pmatrix}\n",
    "\\sum_{i=1}^{N}y_{i} \\\\ \n",
    "\\sum_{i=1}^{N}x_{i}y_{i}\n",
    "\\end{pmatrix}.$$"
   ]
  },
  {
   "cell_type": "markdown",
   "metadata": {},
   "source": [
    " 양변에 역행렬을 곱하여 정리하면 위 공식을 구할 수 있습니다."
   ]
  },
  {
   "cell_type": "markdown",
   "metadata": {},
   "source": [
    "역행렬은 아래 수식을 만족하는 경우 존재 하지 않는데"
   ]
  },
  {
   "cell_type": "markdown",
   "metadata": {},
   "source": [
    "##### determinat 검사\n",
    "\n",
    "> $$\\det(\\begin{pmatrix}\n",
    "\\sum_{i=1}^{N}1 & \\sum_{i=1}^{N}x_{i} \\\\ \n",
    "\\sum_{i=1}^{N}x_{i} & \\sum_{i=1}^{N}x_{i}^{2} \\\\ \n",
    "\\end{pmatrix})=\\sum_{i=1}^{N}1\\sum_{i=1}^{N}x_{i}^{2} - (\\sum_{i=1}^{N}x_{i})^{2} =0$$."
   ]
  },
  {
   "cell_type": "markdown",
   "metadata": {},
   "source": [
    "위 수식이 만족하려면 모든 $x_i$는 같은 값을 가져야 하기에 일반적으로는 역행렬은 항상 존재합니다."
   ]
  },
  {
   "cell_type": "markdown",
   "metadata": {},
   "source": [
    "---"
   ]
  }
 ],
 "metadata": {
  "kernelspec": {
   "display_name": "Python 3",
   "language": "python",
   "name": "python3"
  },
  "language_info": {
   "codemirror_mode": {
    "name": "ipython",
    "version": 3
   },
   "file_extension": ".py",
   "mimetype": "text/x-python",
   "name": "python",
   "nbconvert_exporter": "python",
   "pygments_lexer": "ipython3",
   "version": "3.6.9"
  },
  "toc": {
   "base_numbering": 1,
   "nav_menu": {},
   "number_sections": false,
   "sideBar": true,
   "skip_h1_title": false,
   "title_cell": "Table of Contents",
   "title_sidebar": "Contents",
   "toc_cell": false,
   "toc_position": {},
   "toc_section_display": true,
   "toc_window_display": true
  },
  "varInspector": {
   "cols": {
    "lenName": 16,
    "lenType": 16,
    "lenVar": 40
   },
   "kernels_config": {
    "python": {
     "delete_cmd_postfix": "",
     "delete_cmd_prefix": "del ",
     "library": "var_list.py",
     "varRefreshCmd": "print(var_dic_list())"
    },
    "r": {
     "delete_cmd_postfix": ") ",
     "delete_cmd_prefix": "rm(",
     "library": "var_list.r",
     "varRefreshCmd": "cat(var_dic_list()) "
    }
   },
   "types_to_exclude": [
    "module",
    "function",
    "builtin_function_or_method",
    "instance",
    "_Feature"
   ],
   "window_display": false
  }
 },
 "nbformat": 4,
 "nbformat_minor": 4
}
