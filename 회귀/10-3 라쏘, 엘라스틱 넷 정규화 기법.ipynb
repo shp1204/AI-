{
 "cells": [
  {
   "cell_type": "markdown",
   "metadata": {},
   "source": [
    "# 3장. 다항 선형 회귀와 정규화 기법"
   ]
  },
  {
   "cell_type": "markdown",
   "metadata": {},
   "source": [
    "---"
   ]
  },
  {
   "cell_type": "markdown",
   "metadata": {},
   "source": [
    "## 학습 목표\n",
    "- 정규화 기법이 왜 필요한지를 이해합니다.\n",
    "- 다항 선형 회귀에서 사용되는 릿지, 라쏘, 엘라스틱 정규화 기법에 대해서 학습합니다."
   ]
  },
  {
   "cell_type": "markdown",
   "metadata": {},
   "source": [
    "---"
   ]
  },
  {
   "cell_type": "markdown",
   "metadata": {},
   "source": [
    "## 목차"
   ]
  },
  {
   "cell_type": "markdown",
   "metadata": {},
   "source": [
    "### 1. 정규화 기법 개념\n",
    "1. 선형 회귀의 정규화 기법\n",
    "\n",
    "### 2. 릿지 정규화 기법\n",
    "1. Loss 함수와 규제항\n",
    "2. 규제항 하이퍼 파라미터\n",
    "\n",
    "### 3. 라쏘, 엘라스틱 넷 정규화 기법\n",
    "1. 라쏘 정규화\n",
    "2. 엘라스틱 넷 정규화\n"
   ]
  },
  {
   "cell_type": "markdown",
   "metadata": {},
   "source": [
    "---"
   ]
  },
  {
   "cell_type": "markdown",
   "metadata": {},
   "source": [
    "## 3. 라쏘, 엘라스틱 넷 정규화 기법"
   ]
  },
  {
   "cell_type": "markdown",
   "metadata": {},
   "source": [
    "### 3-1. 라쏘 정규화"
   ]
  },
  {
   "cell_type": "markdown",
   "metadata": {},
   "source": [
    "라쏘(Lasso) 정규화는 릿지에서 원형 규제항을 더한 것과는 달리 아래와 같이 선형 파라미터의 절대값을 더한 규제항을 추가하여 정의합니다."
   ]
  },
  {
   "cell_type": "markdown",
   "metadata": {},
   "source": [
    "##### 라쏘 loss 함수\n",
    "\n",
    "> $$Loss(\\mathbf{w}) = MSE(\\mathbf{w})+\\frac{\\lambda}{N} \\sum_{i=0}^{p}|w_{i}|$$"
   ]
  },
  {
   "cell_type": "markdown",
   "metadata": {},
   "source": [
    "규제항의 형태가 변하였기에 규제항의 크기도 릿지와는 다르게 계산됩니다.\n",
    "\n",
    "아래 그림과 같이 같은 크기를 갖는 규제항은 다이아몬드 형태의 그래프로 그려집니다."
   ]
  },
  {
   "cell_type": "markdown",
   "metadata": {},
   "source": [
    "<img src=\"img/3-3-1.png\" width=\"40%\" height=\"40%\" title=\"las1\" alt=\"las1\"></img>"
   ]
  },
  {
   "cell_type": "markdown",
   "metadata": {},
   "source": [
    " "
   ]
  },
  {
   "cell_type": "markdown",
   "metadata": {},
   "source": [
    "**scikit-learn을 사용한 라쏘 정규화**"
   ]
  },
  {
   "cell_type": "markdown",
   "metadata": {},
   "source": [
    "scikit-learn에서는 라쏘 정규화는 기존에 사용하던 `LinearRegression` class를 사용하여 수행할 수 있습니다.\n",
    "\n",
    "다만 class는 초기화 시, `.Lasso(alpha)`을 사용하여 $\\lambda$ 값을 의미하는 `alpha`값을 설정하여야 합니다."
   ]
  },
  {
   "cell_type": "markdown",
   "metadata": {},
   "source": [
    " "
   ]
  },
  {
   "cell_type": "markdown",
   "metadata": {},
   "source": [
    "##### <예제 1> 라쏘 정규화"
   ]
  },
  {
   "cell_type": "markdown",
   "metadata": {},
   "source": [
    "`2-2. <예제 4>` 에서와 같은 데이터를 사용하여 라쏘 정규화를 수행하고 loss 값을 출력해 봅시다."
   ]
  },
  {
   "cell_type": "code",
   "execution_count": 4,
   "metadata": {},
   "outputs": [
    {
     "name": "stdout",
     "output_type": "stream",
     "text": [
      "X: \n",
      "[[  1.   1.   1.   1.   1.]\n",
      " [  1.   2.   4.   8.  16.]\n",
      " [  1.   3.   9.  27.  81.]\n",
      " [  1.   4.  16.  64. 256.]]\n",
      "\n",
      "loss: 9.08835766581683\n",
      "\n"
     ]
    }
   ],
   "source": [
    "import numpy as np\n",
    "from sklearn.preprocessing import PolynomialFeatures\n",
    "from sklearn import linear_model\n",
    "\n",
    "# 학습용 데이터\n",
    "feature_data = np.array([1, 2, 3, 4]).reshape((-1,1))\n",
    "label_data = np.array([3.1,4.9,7.2,8.9]).reshape((-1,1))\n",
    "\n",
    "# 4차항 선형 회귀에 해당되는 4를 초기값으로 입력\n",
    "poly = PolynomialFeatures(4)\n",
    "\n",
    "# fit 함수를 사용하여 X로 변환 작업을 수행\n",
    "X = poly.fit_transform(feature_data)\n",
    "print(\"X: \\n{}\\n\".format(X))\n",
    "\n",
    "# 라쏘 모델 설정 알파 값을 바꿔가며 수행\n",
    "lasso_model = linear_model.Lasso(alpha=1)\n",
    "\n",
    "# 학습 수행\n",
    "lasso_model.fit(X, label_data)\n",
    "\n",
    "# scikit-learn 에서는 loss 함수가 모델안에 내정되어 있지 않기에 정의\n",
    "def loss(prediction, label):\n",
    "        \n",
    "    error = label - prediction\n",
    "    ls = np.mean(error**2)\n",
    "\n",
    "    return ls\n",
    "\n",
    "print(\"loss: {}\\n\".format(loss(lasso_model.predict(X), label_data))) "
   ]
  },
  {
   "cell_type": "markdown",
   "metadata": {},
   "source": [
    "위 실습에서 모델의 $\\lambda$ 값을 의미하는 `alpha`값을 바꿔가며 loss 값이 어떻게 바뀌는지 수행해 봅시다."
   ]
  },
  {
   "cell_type": "markdown",
   "metadata": {},
   "source": [
    "---"
   ]
  },
  {
   "cell_type": "markdown",
   "metadata": {},
   "source": [
    "### 3-2. 엘라스틱 넷 정규화"
   ]
  },
  {
   "cell_type": "markdown",
   "metadata": {},
   "source": [
    "엘라스틱 넷(Elastic net)은 라쏘와 릿지의 선형 결합으로 아래의 수식으로 정의 됩니다."
   ]
  },
  {
   "cell_type": "markdown",
   "metadata": {},
   "source": [
    "##### 엘라스틱 넷 loss 함수\n",
    "\n",
    "> $$Loss(\\mathbf{w}) = MSE(\\mathbf{w})+\\frac{\\lambda}{N} ((1-\\alpha)\\sum_{i=0}^{p}w_{i}^{2}+\\alpha\\sum_{i=0}^{p}|w_{i}|)$$"
   ]
  },
  {
   "cell_type": "markdown",
   "metadata": {},
   "source": [
    "$\\alpha$는 0보다 크며 1보다 작은 값으로 라쏘와 릿지의 비율을 의미합니다.\n",
    "\n",
    "따라서 그래프도 다이아몬드와 원형이 일정 비율로 합쳐진 형태를 취합니다."
   ]
  },
  {
   "cell_type": "markdown",
   "metadata": {},
   "source": [
    "<img src=\"img/3-3-2.png\" width=\"50%\" height=\"50%\" title=\"ela1\" alt=\"ela1\"></img>"
   ]
  },
  {
   "cell_type": "markdown",
   "metadata": {},
   "source": [
    "정규화 수행시 어떤 기법을 써야 좋은지는 데이터의 분포와 성격에 따라 다르며 이것은 직접 수행하여 성능을 비교함으로서 판단 할 수 있습니다."
   ]
  },
  {
   "cell_type": "markdown",
   "metadata": {},
   "source": [
    " "
   ]
  },
  {
   "cell_type": "markdown",
   "metadata": {},
   "source": [
    "**scikit-learn을 사용한 엘라스틱 넷 정규화**"
   ]
  },
  {
   "cell_type": "markdown",
   "metadata": {},
   "source": [
    "scikit-learn에서는 엘라스틱 넷 정규화는 `ElasticNet` class를 사용하여 수행할 수 있습니다.\n",
    "\n",
    "`ElasticNet` class는 기존에 사용하던 `LinearRegression` class와 거의 흡사합니다.\n",
    "\n",
    "`ElasticNet` class는 초기화 시, $\\lambda$ 값을 의미하는 `alpha`값과 라쏘의 비율을 의미하는 `l1_ratio`을 설정하여야 합니다."
   ]
  },
  {
   "cell_type": "markdown",
   "metadata": {},
   "source": [
    " "
   ]
  },
  {
   "cell_type": "markdown",
   "metadata": {},
   "source": [
    "##### <예제 2> 엘라스틱 넷 정규화"
   ]
  },
  {
   "cell_type": "markdown",
   "metadata": {},
   "source": [
    "`2-2. <예제 4>` 에서와 같은 데이터를 사용하여 엘라스틱 넷 정규화를 수행하고 loss 값을 출력해 봅시다."
   ]
  },
  {
   "cell_type": "code",
   "execution_count": 5,
   "metadata": {},
   "outputs": [
    {
     "name": "stdout",
     "output_type": "stream",
     "text": [
      "X: \n",
      "[[  1.   1.   1.   1.   1.]\n",
      " [  1.   2.   4.   8.  16.]\n",
      " [  1.   3.   9.  27.  81.]\n",
      " [  1.   4.  16.  64. 256.]]\n",
      "\n",
      "loss: 9.274181627963248\n",
      "\n"
     ]
    }
   ],
   "source": [
    "import numpy as np\n",
    "from sklearn.preprocessing import PolynomialFeatures\n",
    "from sklearn.linear_model import ElasticNet\n",
    "\n",
    "# 학습용 데이터\n",
    "feature_data = np.array([1, 2, 3, 4]).reshape((-1,1))\n",
    "label_data = np.array([3.1,4.9,7.2,8.9]).reshape((-1,1))\n",
    "\n",
    "# 4차항 선형 회귀에 해당되는 4를 초기값으로 입력\n",
    "poly = PolynomialFeatures(4)\n",
    "\n",
    "# fit 함수를 사용하여 X로 변환 작업을 수행\n",
    "X = poly.fit_transform(feature_data)\n",
    "print(\"X: \\n{}\\n\".format(X))\n",
    "\n",
    "# 릿지 모델 설정 알파 값을 바꿔가며 수행\n",
    "elastic_model = ElasticNet(alpha=1, l1_ratio=0.5)\n",
    "\n",
    "# 학습 수행\n",
    "elastic_model.fit(X, label_data)\n",
    "\n",
    "# scikit-learn 에서는 loss 함수가 모델안에 내정되어 있지 않기에 정의\n",
    "def loss(prediction, label):\n",
    "        \n",
    "    error = label - prediction\n",
    "    ls = np.mean(error**2)\n",
    "\n",
    "    return ls\n",
    "\n",
    "print(\"loss: {}\\n\".format(loss(elastic_model.predict(X), label_data))) "
   ]
  },
  {
   "cell_type": "markdown",
   "metadata": {},
   "source": [
    "위 실습에서 `alpha, l1_ratio`값을 바꿔가며 loss 값이 어떻게 바뀌는지 수행해 봅시다."
   ]
  },
  {
   "cell_type": "markdown",
   "metadata": {},
   "source": [
    "---"
   ]
  }
 ],
 "metadata": {
  "kernelspec": {
   "display_name": "Python 3",
   "language": "python",
   "name": "python3"
  },
  "language_info": {
   "codemirror_mode": {
    "name": "ipython",
    "version": 3
   },
   "file_extension": ".py",
   "mimetype": "text/x-python",
   "name": "python",
   "nbconvert_exporter": "python",
   "pygments_lexer": "ipython3",
   "version": "3.7.6"
  },
  "toc": {
   "base_numbering": 1,
   "nav_menu": {},
   "number_sections": false,
   "sideBar": true,
   "skip_h1_title": false,
   "title_cell": "Table of Contents",
   "title_sidebar": "Contents",
   "toc_cell": false,
   "toc_position": {},
   "toc_section_display": true,
   "toc_window_display": true
  }
 },
 "nbformat": 4,
 "nbformat_minor": 4
}
