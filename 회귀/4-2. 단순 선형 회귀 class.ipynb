{
 "cells": [
  {
   "cell_type": "markdown",
   "metadata": {},
   "source": [
    "# 4. 단순 선형 회귀"
   ]
  },
  {
   "cell_type": "markdown",
   "metadata": {},
   "source": [
    "---"
   ]
  },
  {
   "cell_type": "markdown",
   "metadata": {},
   "source": [
    "## 학습 목표\n",
    "- 선형 회귀 분석 모델에서 least square solution을 사용하여 최적의 선형 파라미터를 구할 수 있습니다.\n",
    "- least square solution을 사용하여 단순 선형 회귀 class를 구현할 수 있습니다.\n",
    "- 단순 선형 회귀 모델을 평가하는 방법들에 대해서 학습합니다."
   ]
  },
  {
   "cell_type": "markdown",
   "metadata": {},
   "source": [
    "---"
   ]
  },
  {
   "cell_type": "markdown",
   "metadata": {},
   "source": [
    "## 목차"
   ]
  },
  {
   "cell_type": "markdown",
   "metadata": {},
   "source": [
    "### 1. Least square 최적화\n",
    "1. 단순 선형 회귀 least square solution\n",
    "\n",
    "### 2. 단순 선형 회귀 class \n",
    "1. 단순 선형 회귀 class 구조\n",
    "2. 함수 정의\n",
    "3. scikit-learn 모듈\n",
    "\n",
    "### 3. 단순 선형 회귀 평가\n",
    "1. RMSE, RMAE\n",
    "2. R2, adjusted R2\n"
   ]
  },
  {
   "cell_type": "markdown",
   "metadata": {},
   "source": [
    "---"
   ]
  },
  {
   "cell_type": "markdown",
   "metadata": {},
   "source": [
    "## 2. 단순 선형 회귀 class"
   ]
  },
  {
   "cell_type": "markdown",
   "metadata": {},
   "source": [
    "### 2-1. 단순 선형 회귀 class 구조"
   ]
  },
  {
   "cell_type": "markdown",
   "metadata": {},
   "source": [
    "이제 단순 선형 회귀를 수행하기 필요했던 함수들을 모아서 하나의 class로 정리하여 보다 쉽게 사용해보겠습니다.\n",
    "\n",
    "class는 아래와 같은 구조로 설정하겠습니다."
   ]
  },
  {
   "cell_type": "code",
   "execution_count": 8,
   "metadata": {},
   "outputs": [],
   "source": [
    "import numpy as np\n",
    "\n",
    "class simple_linaer_regression:\n",
    "    # 초기화 함수\n",
    "    def __init__(self, initial_w0, initial_w1):\n",
    "        self.w1 = initial_w1\n",
    "        self.w0 = initial_w0\n",
    "        \n",
    "    # 학습 함수    \n",
    "    def fit(self, feature, label):\n",
    "        \n",
    "        leastsquare1 = np.array([[feature.size, np.sum(feature)],[np.sum(feature), np.sum(feature**2)]])\n",
    "        leastsquare2 = np.array([[np.sum(label)],[np.sum(feature*label)]])\n",
    "        \n",
    "        W = np.dot(np.linalg.inv(leastsquare1),leastsquare2)\n",
    "        self.w0 = W[0]\n",
    "        self.w1 = W[1]\n",
    "        \n",
    "    # 예측값 계산 함수\n",
    "    def predict(self, feature):\n",
    "        \n",
    "        prediction = self.w1*feature + self.w0\n",
    "        \n",
    "        return prediction\n",
    "    \n",
    "    # loss 값 계산 함수\n",
    "    def loss(self, feature, label):\n",
    "        \n",
    "        error = label - self.predict(feature)\n",
    "        ls = np.mean(error**2)\n",
    "        \n",
    "        return ls"
   ]
  },
  {
   "cell_type": "markdown",
   "metadata": {},
   "source": [
    " "
   ]
  },
  {
   "cell_type": "markdown",
   "metadata": {},
   "source": [
    "### 2-2. 함수 정의"
   ]
  },
  {
   "cell_type": "markdown",
   "metadata": {},
   "source": [
    "#### 초기화 함수: `__init__`"
   ]
  },
  {
   "cell_type": "markdown",
   "metadata": {},
   "source": [
    "class에 사용되는 변수 `w0, w1`을 초기값을 받아 저장합니다."
   ]
  },
  {
   "cell_type": "markdown",
   "metadata": {},
   "source": [
    "#### 학습 함수: `fit`"
   ]
  },
  {
   "cell_type": "markdown",
   "metadata": {},
   "source": [
    "feature 데이터와 label 데이터를 `feature, label`로 입력 받아 loss 값을 최소로 만드는 파라미터 `w0, w1`을 least square로 구하여 저장합니다.\n",
    "\n",
    "여기서 입력하는 `feature, label`은 N개의 row를 갖는 벡터를 사용해야합니다."
   ]
  },
  {
   "cell_type": "markdown",
   "metadata": {},
   "source": [
    "#### 예측값 계산 함수: `predict`"
   ]
  },
  {
   "cell_type": "markdown",
   "metadata": {},
   "source": [
    "입력 받은 `feature` 데이터를 넣어 단순 선형 모델로 계산된 예측값을 계산합니다."
   ]
  },
  {
   "cell_type": "markdown",
   "metadata": {},
   "source": [
    "#### loss 값 계산 함수: `loss`"
   ]
  },
  {
   "cell_type": "markdown",
   "metadata": {},
   "source": [
    "feature 데이터와 label 데이터를 feature, label로 입력 받아 loss 값을 계산하여 출력합니다."
   ]
  },
  {
   "cell_type": "markdown",
   "metadata": {},
   "source": [
    " "
   ]
  },
  {
   "cell_type": "markdown",
   "metadata": {},
   "source": [
    "##### <예제 1>  `simple_linaer_regression`을 사용한 학습"
   ]
  },
  {
   "cell_type": "markdown",
   "metadata": {},
   "source": [
    "아래 예제를 통하여 단순 선형 회귀 class 를 이용한 학습 과정을 수행해봅시다."
   ]
  },
  {
   "cell_type": "code",
   "execution_count": 9,
   "metadata": {},
   "outputs": [
    {
     "name": "stdout",
     "output_type": "stream",
     "text": [
      "loss: 0.01574999999999998\n",
      "\n"
     ]
    }
   ],
   "source": [
    "import numpy as np\n",
    "\n",
    "\n",
    "feature_data = np.array([1,2,3,4]).reshape((-1,1))\n",
    "label_data = np.array([3.1,4.9,7.2,8.9]).reshape((-1,1))\n",
    "\n",
    "# 단순 선형 회귀 모델 불러오기 및 초기화\n",
    "model = simple_linaer_regression(1,1)\n",
    "\n",
    "# 학습 수행\n",
    "model.fit(feature_data, label_data)\n",
    "\n",
    "print(\"loss: {}\\n\".format(model.loss(feature_data, label_data))) "
   ]
  },
  {
   "cell_type": "markdown",
   "metadata": {},
   "source": [
    " "
   ]
  },
  {
   "cell_type": "markdown",
   "metadata": {},
   "source": [
    "### 2-3. scikit-learn 모듈"
   ]
  },
  {
   "cell_type": "markdown",
   "metadata": {},
   "source": [
    "scikit-learn은 머신 러닝 기법을 간단하고 효율적으로 구현할 수 있는 파이썬 라이브러리입니다.\n",
    "\n",
    "scikit-learn을 사용하면 보다 쉽게 머신 러닝 기법을 구현할 수 있습니다.\n",
    "\n",
    "아래 예제를 보며 같은 데이터를 scikit-learn으로 학습하여 loss 값을 뽑는 과정을 살펴봅시다."
   ]
  },
  {
   "cell_type": "markdown",
   "metadata": {},
   "source": [
    " "
   ]
  },
  {
   "cell_type": "markdown",
   "metadata": {},
   "source": [
    "##### <예제 2> scikit-learn을 사용한 학습"
   ]
  },
  {
   "cell_type": "code",
   "execution_count": 10,
   "metadata": {},
   "outputs": [
    {
     "name": "stdout",
     "output_type": "stream",
     "text": [
      "loss: 0.015749999999999993\n",
      "\n"
     ]
    }
   ],
   "source": [
    "import numpy as np\n",
    "from sklearn.linear_model import LinearRegression\n",
    "\n",
    "feature_data = np.array([1,2,3,4]).reshape((-1,1))\n",
    "label_data = np.array([3.1,4.9,7.2,8.9]).reshape((-1,1))\n",
    "\n",
    "# 모델 설정\n",
    "sci_model = LinearRegression()\n",
    "\n",
    "# 학습 수행\n",
    "sci_model.fit(feature_data, label_data)\n",
    "\n",
    "# scikit-learn 에서는 loss 함수가 모델안에 내정되어 있지 않기에 정의\n",
    "def loss(prediction, label):\n",
    "        \n",
    "    error = label - prediction\n",
    "    ls = np.mean(error**2)\n",
    "\n",
    "    return ls\n",
    "\n",
    "print(\"loss: {}\\n\".format(loss(sci_model.predict(feature_data), label_data))) "
   ]
  },
  {
   "cell_type": "markdown",
   "metadata": {},
   "source": [
    "우선 `from sklearn.linear_model import LinearRegression` 으로 해당 class 모델을 가져옵니다.\n",
    "\n",
    "`sci_model = LinearRegression()` 코드로 LinearRegression class를 sci_model로 입력합니다.\n",
    "\n",
    "`sci_model.fit(feature_data, label_data)` 코드는 fit이란 함수를 사용하여 학습 과정을 수행합니다.\n",
    "\n",
    "fit 함수은 `simple_linear_regression`의 least square 를 사용해서 학습하는 과정과 거의 동일합니다.\n",
    "\n",
    "`sci_model.predict(feature_data)` predict 함수는 `simple_linear_regression`의 predict 함수와 동일하게 예측 값을 출력합니다."
   ]
  },
  {
   "cell_type": "markdown",
   "metadata": {},
   "source": [
    "더 자세한 함수 설명은 scikit-learn 가이드를 참고합시다. https://scikit-learn.org/stable/modules/generated/sklearn.linear_model.LinearRegression.html?highlight=linear%20regression#sklearn.linear_model.LinearRegression"
   ]
  },
  {
   "cell_type": "markdown",
   "metadata": {},
   "source": [
    " "
   ]
  },
  {
   "cell_type": "markdown",
   "metadata": {},
   "source": [
    "마지막으로 scikit-learn 장단점에 대해서 알아봅시다."
   ]
  },
  {
   "cell_type": "markdown",
   "metadata": {},
   "source": [
    "**scikit-learn 장점:**"
   ]
  },
  {
   "cell_type": "markdown",
   "metadata": {},
   "source": [
    "- 머신 러닝 기법의 클래스 호출로 간단하게 알고리즘 구현 가능\n",
    "\n",
    "- 머신 알고리즘 뿐만 아니라 머신 러닝에 필요한 기능을 갖는 함수 제공\n",
    "\n",
    "- Cython 기반 계산으로 빠른 학습 속도"
   ]
  },
  {
   "cell_type": "markdown",
   "metadata": {},
   "source": [
    "**scikit-learn 단점:**"
   ]
  },
  {
   "cell_type": "markdown",
   "metadata": {},
   "source": [
    "- 머신 러닝 기법의 알고리즘을 이해하지 못하고 사용하면 다양한 응용 함수를 사용하기 어려움\n",
    "\n",
    "- 데이터에 맞게 커스텀 알고리즘을 구현할 수 없음"
   ]
  },
  {
   "cell_type": "markdown",
   "metadata": {},
   "source": [
    "---"
   ]
  }
 ],
 "metadata": {
  "kernelspec": {
   "display_name": "Python 3",
   "language": "python",
   "name": "python3"
  },
  "language_info": {
   "codemirror_mode": {
    "name": "ipython",
    "version": 3
   },
   "file_extension": ".py",
   "mimetype": "text/x-python",
   "name": "python",
   "nbconvert_exporter": "python",
   "pygments_lexer": "ipython3",
   "version": "3.6.9"
  },
  "toc": {
   "base_numbering": 1,
   "nav_menu": {},
   "number_sections": false,
   "sideBar": true,
   "skip_h1_title": false,
   "title_cell": "Table of Contents",
   "title_sidebar": "Contents",
   "toc_cell": false,
   "toc_position": {},
   "toc_section_display": true,
   "toc_window_display": true
  },
  "varInspector": {
   "cols": {
    "lenName": 16,
    "lenType": 16,
    "lenVar": 40
   },
   "kernels_config": {
    "python": {
     "delete_cmd_postfix": "",
     "delete_cmd_prefix": "del ",
     "library": "var_list.py",
     "varRefreshCmd": "print(var_dic_list())"
    },
    "r": {
     "delete_cmd_postfix": ") ",
     "delete_cmd_prefix": "rm(",
     "library": "var_list.r",
     "varRefreshCmd": "cat(var_dic_list()) "
    }
   },
   "types_to_exclude": [
    "module",
    "function",
    "builtin_function_or_method",
    "instance",
    "_Feature"
   ],
   "window_display": false
  }
 },
 "nbformat": 4,
 "nbformat_minor": 4
}
