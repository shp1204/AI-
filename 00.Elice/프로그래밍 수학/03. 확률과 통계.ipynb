{
 "cells": [
  {
   "cell_type": "markdown",
   "metadata": {},
   "source": [
    "[ 경우의 수 ]\n",
    "- 합의 법칙\n",
    "- 곱의 법칙\n",
    "- 순열 : n개 중 r개를 뽑아 나열하는 경우의 수"
   ]
  },
  {
   "cell_type": "markdown",
   "metadata": {},
   "source": [
    "# 1. 순열"
   ]
  },
  {
   "cell_type": "code",
   "execution_count": null,
   "metadata": {},
   "outputs": [],
   "source": [
    "# 1. factorial을 사용하기 위해 math 모듈을 불러와봅시다.\n",
    "\n",
    "def running_team(n, r):\n",
    "    # To-do\n",
    "    # 2. 순열의 공식(n!//(n-r)!)을 작성하고, 이를 반환해봅시다.\n",
    "    result = 1\n",
    "    for i in range(r) :\n",
    "        result *= (n-i)\n",
    "        \n",
    "    return result\n",
    "    \n",
    "    \n",
    "# 결과 출력을 위한 코드입니다. 자유롭게 값을 바꿔보며 확인해보세요.\n",
    "print(running_team(30, 6))"
   ]
  },
  {
   "cell_type": "markdown",
   "metadata": {},
   "source": [
    "# 2. 같은 것이 있는 순열"
   ]
  },
  {
   "cell_type": "code",
   "execution_count": null,
   "metadata": {},
   "outputs": [],
   "source": [
    "# 1. factorial을 사용하기 위해 math 모듈을 불러와봅시다.\n",
    "\n",
    "def fruit(a, o):\n",
    "    # To-do\n",
    "    # 2-1. 주어진 과일들을 모두 나열하는 방법의 가짓수((a+o)!)를 계산해봅시다.\n",
    "    # 2-2. 같은 과일간의 순서를 의미없게 하기 위해 각 과일의 개수(a! * o!)만큼 나누어봅시다.\n",
    "    total = a + o\n",
    "    bunja = 1\n",
    "    bunmo = 1\n",
    "    \n",
    "    for i in range(min(a, o)) :\n",
    "        bunja *= (total-i)\n",
    "        bunmo *= (min(a, o) - i)\n",
    "        \n",
    "    return bunja // bunmo\n",
    "    \n",
    "\n",
    "# 결과 출력을 위한 코드입니다. 자유롭게 값을 바꿔보며 확인해보세요.\n",
    "print(fruit(3,0))"
   ]
  },
  {
   "cell_type": "code",
   "execution_count": null,
   "metadata": {},
   "outputs": [],
   "source": [
    "# 함수 이용\n",
    "\n",
    "# 1. factorial을 사용하기 위해 math 모듈을 불러와봅시다.\n",
    "import math\n",
    "\n",
    "def fruit(a, o):\n",
    "    # To-do\n",
    "    # 2-1. 주어진 과일들을 모두 나열하는 방법의 가짓수((a+o)!)를 계산해봅시다.\n",
    "    # 2-2. 같은 과일간의 순서를 의미없게 하기 위해 각 과일의 개수(a! * o!)만큼 나누어봅시다.\n",
    "    total = a + o\n",
    "    bunja = 1\n",
    "    bunmo = 1\n",
    "    \n",
    "    for i in range(min(a, o)) :\n",
    "        bunja *= (total-i)\n",
    "        bunmo *= (min(a, o) - i)\n",
    "        \n",
    "    return bunja // bunmo\n",
    "    \n",
    "\n",
    "# 결과 출력을 위한 코드입니다. 자유롭게 값을 바꿔보며 확인해보세요.\n",
    "print(fruit(3,0))"
   ]
  },
  {
   "cell_type": "markdown",
   "metadata": {},
   "source": [
    "# 3. 조합\n",
    "- n개 중 순서에 관계없이 r개를 뽑아 나열하는 경우의 수"
   ]
  },
  {
   "cell_type": "code",
   "execution_count": null,
   "metadata": {},
   "outputs": [],
   "source": [
    "# 1. factorial을 사용하기 위해 math 모듈을 불러와봅시다.\n",
    "import math\n",
    "\n",
    "def lotto(n, r):\n",
    "    # To-do\n",
    "    # 2. 조합의 공식(n!//((n-r)! * r!))을 작성하고, 이를 반환해봅시다.\n",
    "    return math.factorial(n) // math.factorial(n-r) // math.factorial(r)\n",
    "    \n",
    "    \n",
    "    \n",
    "# 결과 출력을 위한 코드입니다. 자유롭게 값을 바꿔보며 확인해보세요.\n",
    "print(lotto(45, 6))"
   ]
  },
  {
   "cell_type": "markdown",
   "metadata": {},
   "source": [
    "# 4. 통계적 확률"
   ]
  },
  {
   "cell_type": "code",
   "execution_count": null,
   "metadata": {},
   "outputs": [],
   "source": [
    "import coin\n",
    "\n",
    "def stat_prob(coin):\n",
    "    # To-do \n",
    "    # 1. n회 반복하는 for문을 만들기 위해 n을 선언하고, 충분히 큰 수(ex) 1000000)를 대입해보세요.\n",
    "    n = 1000000\n",
    "    \n",
    "    # 2. 앞면이 나온 횟수를 담는 변수 h를 선언하고, 0을 대입해봅시다. (아직 시행을 하지 않았으니까요!)\n",
    "    h = 0\n",
    "    \n",
    "    # 3. n회 반복하는 반복문을 만들어봅시다.\n",
    "    # 3-1. 조건문을 선언하고, 만약 coin을 던졌을 때 H가 나온다면 h를 1개 증가합니다.\n",
    "    for i in range(n) :\n",
    "        if coin.toss() == 'H' :\n",
    "            h += 1\n",
    "        \n",
    "    \n",
    "    # 4. 확률을 담는 변수 p를 선언하고, 앞면이 나온 횟수(h)/던진 횟수(n)를 대입해봅시다.\n",
    "    p = h / n\n",
    "    \n",
    "    # 5. 만약 p와 0.5 사이의 차이(오차)가 0.001 이내라면 True, 아니라면 False 반환\n",
    "    #    0.5와 p 중 무엇이 더 큰지 모르므로 절댓값함수 abs()를 사용\n",
    "    if abs(p - 0.5) <= 0.001 :\n",
    "        return True\n",
    "    else :\n",
    "        return False\n",
    "    \n",
    "    \n",
    "# 결과 출력을 위한 코드입니다. 자유롭게 값을 바꿔보며 확인해보세요.\n",
    "real_coin = coin.Coin(0.5)\n",
    "fake_coin = coin.Coin(0.8)\n",
    "print(stat_prob(real_coin))\n",
    "print(stat_prob(fake_coin))"
   ]
  },
  {
   "cell_type": "markdown",
   "metadata": {},
   "source": [
    "# 5. 독립 시행"
   ]
  },
  {
   "cell_type": "code",
   "execution_count": null,
   "metadata": {},
   "outputs": [],
   "source": [
    "import math\n",
    "# 1. factorial을 사용하기 위해 math 모듈을 불러와봅시다.\n",
    "\n",
    "def shoot_prob(p, n, r):\n",
    "    # # To-do\n",
    "    # 2. 독립시행의 확률을 구하기 위한 공식을 사용하여 확률을 반환해보세요.\n",
    "    #   2-1. 골을 r번 넣을 확률 pa = p ** r\n",
    "    pa = p ** r\n",
    "    \n",
    "    #   2-2. 골을 넣지 못할 나머지 확률 pac = (1-p) ** (n-r)\n",
    "    pac = ( 1 - p ) ** ( n - r )\n",
    "    \n",
    "    #   2-3. 골을 r번 넣을 모든 경우의 수 num = n! // (r! * (n-r)!)\n",
    "    num = math.factorial(n) // math.factorial(r) // math.factorial(n-r)\n",
    "    \n",
    "    #   2-4. 한번의 시행의 성공 확률이 p일 때 n번 중 r번 성공할 확률\n",
    "    #     prob = pa * pac * num\n",
    "    prob = pa * pac * num\n",
    "    \n",
    "    #   2-5. 이 prob이 우리가 구하기 원했던 확률이므로 반환\n",
    "    return prob"
   ]
  },
  {
   "cell_type": "code",
   "execution_count": null,
   "metadata": {},
   "outputs": [],
   "source": []
  },
  {
   "cell_type": "code",
   "execution_count": null,
   "metadata": {},
   "outputs": [],
   "source": []
  },
  {
   "cell_type": "code",
   "execution_count": null,
   "metadata": {},
   "outputs": [],
   "source": []
  },
  {
   "cell_type": "code",
   "execution_count": null,
   "metadata": {},
   "outputs": [],
   "source": []
  },
  {
   "cell_type": "code",
   "execution_count": null,
   "metadata": {},
   "outputs": [],
   "source": []
  },
  {
   "cell_type": "code",
   "execution_count": null,
   "metadata": {},
   "outputs": [],
   "source": []
  }
 ],
 "metadata": {
  "kernelspec": {
   "display_name": "Python [conda env:cpu_env] *",
   "language": "python",
   "name": "conda-env-cpu_env-py"
  },
  "language_info": {
   "codemirror_mode": {
    "name": "ipython",
    "version": 3
   },
   "file_extension": ".py",
   "mimetype": "text/x-python",
   "name": "python",
   "nbconvert_exporter": "python",
   "pygments_lexer": "ipython3",
   "version": "3.6.9"
  },
  "toc": {
   "base_numbering": 1,
   "nav_menu": {},
   "number_sections": true,
   "sideBar": true,
   "skip_h1_title": false,
   "title_cell": "Table of Contents",
   "title_sidebar": "Contents",
   "toc_cell": false,
   "toc_position": {},
   "toc_section_display": true,
   "toc_window_display": false
  },
  "varInspector": {
   "cols": {
    "lenName": 16,
    "lenType": 16,
    "lenVar": 40
   },
   "kernels_config": {
    "python": {
     "delete_cmd_postfix": "",
     "delete_cmd_prefix": "del ",
     "library": "var_list.py",
     "varRefreshCmd": "print(var_dic_list())"
    },
    "r": {
     "delete_cmd_postfix": ") ",
     "delete_cmd_prefix": "rm(",
     "library": "var_list.r",
     "varRefreshCmd": "cat(var_dic_list()) "
    }
   },
   "types_to_exclude": [
    "module",
    "function",
    "builtin_function_or_method",
    "instance",
    "_Feature"
   ],
   "window_display": false
  }
 },
 "nbformat": 4,
 "nbformat_minor": 2
}
