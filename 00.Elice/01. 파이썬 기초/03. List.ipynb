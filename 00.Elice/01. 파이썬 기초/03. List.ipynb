{
 "cells": [
  {
   "cell_type": "markdown",
   "metadata": {},
   "source": [
    "# 1. 실습 1"
   ]
  },
  {
   "cell_type": "code",
   "execution_count": null,
   "metadata": {},
   "outputs": [],
   "source": [
    "my_list = []\n",
    "my_list.append(5)\n",
    "my_list.append(4)\n",
    "my_list.append(2)\n",
    "my_list.append(1)\n",
    "print(my_list)"
   ]
  },
  {
   "cell_type": "markdown",
   "metadata": {},
   "source": [
    "# 2. 실습 2"
   ]
  },
  {
   "cell_type": "code",
   "execution_count": null,
   "metadata": {},
   "outputs": [],
   "source": [
    "my_list = [5, 4, 2, 1]\n",
    "my_list.insert(2, 3)\n",
    "print(my_list)"
   ]
  },
  {
   "cell_type": "markdown",
   "metadata": {},
   "source": [
    "# 3. 실습 3"
   ]
  },
  {
   "cell_type": "code",
   "execution_count": null,
   "metadata": {},
   "outputs": [],
   "source": [
    "my_list = [5, 2, 4, 3, 2, 1]\n",
    "my_list.remove(2)\n",
    "print(my_list)"
   ]
  },
  {
   "cell_type": "markdown",
   "metadata": {},
   "source": [
    "# 4. 실습 4"
   ]
  },
  {
   "cell_type": "code",
   "execution_count": null,
   "metadata": {},
   "outputs": [],
   "source": [
    "my_list = [5,4,3,2]\n",
    "my_list.sort()\n",
    "print(my_list)"
   ]
  },
  {
   "cell_type": "markdown",
   "metadata": {},
   "source": [
    "# 5. 실습 5"
   ]
  },
  {
   "cell_type": "code",
   "execution_count": null,
   "metadata": {},
   "outputs": [],
   "source": [
    "my_str = 'Impossible'\n",
    "my_list = ['Apple', 'Banana', 'Chamwae', 'Durian']\n",
    "var1 = my_list[2]\n",
    "var2 = my_str[2:]"
   ]
  },
  {
   "cell_type": "markdown",
   "metadata": {},
   "source": [
    "# 6. 실습 6"
   ]
  },
  {
   "cell_type": "code",
   "execution_count": null,
   "metadata": {},
   "outputs": [],
   "source": [
    "my_str = 'Impossible'\n",
    "my_list = ['Apple', 'Banana', 'Chamwae', 'Durian']\n",
    "var1 = len(my_str)\n",
    "var2 = 'Egg' in my_list"
   ]
  },
  {
   "cell_type": "markdown",
   "metadata": {},
   "source": [
    "# 7. 실습 7"
   ]
  },
  {
   "cell_type": "code",
   "execution_count": null,
   "metadata": {},
   "outputs": [],
   "source": [
    "str1 = 'Py'\n",
    "str2 = 'thon'\n",
    "\n",
    "my_list = [3, 6, 9]\n",
    "\n",
    "var1 = str1 + str2\n",
    "var2 = my_list * 3"
   ]
  },
  {
   "cell_type": "markdown",
   "metadata": {},
   "source": [
    "# 8. 실습 8"
   ]
  },
  {
   "cell_type": "code",
   "execution_count": 1,
   "metadata": {
    "ExecuteTime": {
     "end_time": "2020-06-03T19:57:06.932904Z",
     "start_time": "2020-06-03T19:57:06.922897Z"
    }
   },
   "outputs": [
    {
     "name": "stdout",
     "output_type": "stream",
     "text": [
      "서울역 도착. //  ['Seongjin', 'Chankyung', 'Junyong', 'Jonghwan']\n",
      "대전역 도착. //  ['Dongbin', 'Seongjin', 'Chankyung', 'Junyong', 'Jonghwan']\n",
      "동대구역 도착. //  ['Dongbin', 'Chankyung', 'Junyong', 'Jonghwan']\n",
      "부산역 도착. //  ['Chankyung', 'Dongbin', 'Jonghwan', 'Junyong']\n",
      "오늘도 빠르고 편안한 기차를 이용해주셔서 감사합니다.\n"
     ]
    }
   ],
   "source": [
    "#현재 기차에는 3명의 승객이 탑승하고 있습니다.\n",
    "train = ['Seongjin', 'Chankyung', 'Junyong']\n",
    "\n",
    "# 서울역에 정차했습니다. \n",
    "# 승객 'Jonghwan'을 맨 뒷칸에 태우세요.\n",
    "train.append('Jonghwan')\n",
    "\n",
    "\n",
    "print('서울역 도착. // ', train)\n",
    "# 대전역에 정차했습니다. \n",
    "# 1등석 승객 'Dongbin'이 탑승했습니다. 이 분을 맨 앞에 태우세요.\n",
    "train.insert(0, 'Dongbin')\n",
    "\n",
    "\n",
    "print('대전역 도착. // ', train)\n",
    "# 동대구역에 정차했습니다. \n",
    "# 승객 'Seongjin'님이 내린다고 합니다. 이 분을 하차시켜주세요.\n",
    "train.remove('Seongjin')\n",
    "\n",
    "\n",
    "print('동대구역 도착. // ', train)\n",
    "# 마지막 역인 부산역에 정차했습니다. \n",
    "# 원활한 하차를 위해 손님들의 자리를 사전순으로 다시 지정해주세요.\n",
    "train.sort()\n",
    "\n",
    "\n",
    "print('부산역 도착. // ', train)\n",
    "print('오늘도 빠르고 편안한 기차를 이용해주셔서 감사합니다.')"
   ]
  },
  {
   "cell_type": "markdown",
   "metadata": {},
   "source": [
    "# 9. 실습 9"
   ]
  },
  {
   "cell_type": "code",
   "execution_count": null,
   "metadata": {},
   "outputs": [],
   "source": [
    "#dahyun의 가방 안에서 '다이아몬드'를 훔쳐볼까요?\n",
    "dahyun = ['은', '은', '은', '은', '은', '은', '은', '은', '은', '은', '은', '은', '은', '은', '은', '은', '은', '은', '은', '은', '은', '은', '은', '은', '은', '은', '은', '은', '은', '은', '은', '은', '은', '은', '은', '은', '은', '은', '은', '은', '은', '은', '다이아몬드', '은']\n",
    "\n",
    "#이 가방에 한번 넣어봅시다!\n",
    "stealBag1 = dahyun[-2]\n",
    "\n",
    "#tzuyu는 가방 안 깊숙히 금을 13개 가지고 있네요! 이것들도 한번 훔쳐볼까요?\n",
    "tzuyu = ['은', '은', '은', '은', '은', '은', '은', '은', '은', '은', '은', '은', '은', '은', '은', '은', '은', '은','금', '금', '금', '금', '금', '금', '금', '금', '금', '금', '금', '금', '금' ]\n",
    "\n",
    "#이 가방에 한번 넣어봅시다!\n",
    "stealBag2 = tzuyu[-13:]\n",
    "\n",
    "#여러분이 훔쳐온 보석은 무엇인지 print()를 이용해서 한번 확인해보세요!\n",
    "print('dahyun로부터 훔쳐온 보석은', stealBag1)\n",
    "print('tzuyu로부터 훔쳐온 보석은', stealBag2)"
   ]
  },
  {
   "cell_type": "markdown",
   "metadata": {},
   "source": [
    "# 10. 실습 10"
   ]
  },
  {
   "cell_type": "code",
   "execution_count": null,
   "metadata": {},
   "outputs": [],
   "source": [
    "twice = [\"모모\", \"쯔위\", \"사나\", \"지효\", \"미나\", \"다현\", \"나연\", \"정연\", \"채영\"]\n",
    "\n",
    "blackpink = [\"지수\", \"제니\", \"리사\", \"로제\"]\n",
    "\n",
    "# 1. 트와이스와 블랙핑크의 멤버는 각각 몇 명일까요? 한 번 알아봅시다!\n",
    "twice_member = len(twice)\n",
    "print(twice_member)\n",
    "\n",
    "blackpink_member = len(blackpink)\n",
    "print(blackpink_member)\n",
    "\n",
    "\n",
    "# 2. 멤버 수가 많아 헷갈리네요! 누가 어디 그룹의 소속인지 알아보고 각각 출력해봅시다.\n",
    "\n",
    "# 2-1. 모모는 블랙핑크 소속일까요? in을 써서 알아봅시다.\n",
    "isMomoBlackpink = '모모' in blackpink\n",
    "print(isMomoBlackpink)\n",
    "# 2-2. 쯔위는 트와이스 소속일까요?\n",
    "isTzuyuTwice = '쯔위' in twice\n",
    "print(isTzuyuTwice)\n",
    "# 2-3. 지수는 블랙핑크 소속일까요?\n",
    "isJisooBlackpink = '지수' in blackpink\n",
    "print(isJisooBlackpink)"
   ]
  },
  {
   "cell_type": "markdown",
   "metadata": {},
   "source": [
    "# 11. 실습 11"
   ]
  },
  {
   "cell_type": "code",
   "execution_count": null,
   "metadata": {},
   "outputs": [],
   "source": [
    "a = ['ring']\n",
    "b = ['ding']\n",
    "c = ['dong']\n",
    "d = ['diggi']\n",
    "# 연결 연산자를 이용해서 ['ring', 'ding', 'dong']를 lyric에 대입해봅시다.\n",
    "lyric = a + b + c\n",
    "print(lyric)\n",
    "# 수능을 하루 앞둔 친구에게 수능 금지곡을 들려줍시다!\n",
    "# 변수 shinee에 다음 리스트를 담아봅시다.\n",
    "# ['ring', 'ding', 'dong', 'ring', 'ding', 'dong']\n",
    "shinee1 = lyric * 2\n",
    "print(shinee1)\n",
    "# 노래가 좀 짧네요! 뒷부분도 불러봅시다!\n",
    "#['ring','diggi','ding','diggi','ding','ding','ding']\n",
    "shinee2 = a + d + b + d + b * 3\n",
    "print(shinee1,shinee2)"
   ]
  },
  {
   "cell_type": "markdown",
   "metadata": {},
   "source": [
    "# 12. 미션 1"
   ]
  },
  {
   "cell_type": "code",
   "execution_count": null,
   "metadata": {},
   "outputs": [],
   "source": [
    "item1 = \"완전 좋고\"\n",
    "item2 = \"빛나며\"\n",
    "item3 = \"손에 착착 감기는\"\n",
    "\n",
    "weapon = item1 + \" \" + item2 + \" \" + item3 + \" \" + '무기'\n",
    "print(weapon)"
   ]
  },
  {
   "cell_type": "markdown",
   "metadata": {},
   "source": [
    "# 13. 미션 2"
   ]
  },
  {
   "cell_type": "code",
   "execution_count": null,
   "metadata": {},
   "outputs": [],
   "source": [
    "# 과일들이 담긴 리스트 fruits입니다.\n",
    "fruits = ['Apple', 'Banana', 'Chamwae', 'Durian']\n",
    "\n",
    "# 아래에 지시사항에 맞추어 \"Durian\"을 fruits에서 지워봅시다.\n",
    "fruits.remove('Durian')\n",
    "\n",
    "# 아래에 지시사항에 맞추어 \"Pineapple\"을 fruits에서 지워봅시다.\n",
    "if 'Pineapple' in fruits :\n",
    "    fruits.remove('Pineapple')\n",
    "else :\n",
    "    print('{}은(는) 리스트 안에 없습니다!'.format('Pineapple'))"
   ]
  }
 ],
 "metadata": {
  "kernelspec": {
   "display_name": "Python [conda env:cpu_env] *",
   "language": "python",
   "name": "conda-env-cpu_env-py"
  },
  "language_info": {
   "codemirror_mode": {
    "name": "ipython",
    "version": 3
   },
   "file_extension": ".py",
   "mimetype": "text/x-python",
   "name": "python",
   "nbconvert_exporter": "python",
   "pygments_lexer": "ipython3",
   "version": "3.6.9"
  },
  "toc": {
   "base_numbering": 1,
   "nav_menu": {},
   "number_sections": true,
   "sideBar": true,
   "skip_h1_title": false,
   "title_cell": "Table of Contents",
   "title_sidebar": "Contents",
   "toc_cell": false,
   "toc_position": {},
   "toc_section_display": true,
   "toc_window_display": false
  },
  "varInspector": {
   "cols": {
    "lenName": 16,
    "lenType": 16,
    "lenVar": 40
   },
   "kernels_config": {
    "python": {
     "delete_cmd_postfix": "",
     "delete_cmd_prefix": "del ",
     "library": "var_list.py",
     "varRefreshCmd": "print(var_dic_list())"
    },
    "r": {
     "delete_cmd_postfix": ") ",
     "delete_cmd_prefix": "rm(",
     "library": "var_list.r",
     "varRefreshCmd": "cat(var_dic_list()) "
    }
   },
   "types_to_exclude": [
    "module",
    "function",
    "builtin_function_or_method",
    "instance",
    "_Feature"
   ],
   "window_display": false
  }
 },
 "nbformat": 4,
 "nbformat_minor": 2
}
