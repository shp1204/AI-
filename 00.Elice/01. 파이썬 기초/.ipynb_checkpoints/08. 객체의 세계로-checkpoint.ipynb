{
 "cells": [
  {
   "cell_type": "markdown",
   "metadata": {},
   "source": [
    "# 1. 객체\n",
    "\n",
    "성질과 할 수 있는 행동이 담긴 자료\n",
    "\n",
    "클래스 : 객체를 만들 수 있는 틀\n",
    "\n",
    "필드 : 객체가 가지고 있는 성질, 변수\n",
    "\n",
    "메서드 : 객체가 할 수 있는 행동, 함수\n",
    "\n",
    "인스턴스 : 객체를 만들 수 있는 틀\n",
    "\n",
    "----\n",
    "\n",
    "붕어빵 틀 = 클래스\n",
    "\n",
    "팥/ 슈크림 붕어빵 = 인스턴스\n",
    "\n",
    "----\n",
    "[ 인스턴스의 변수 사용 ]\n",
    "\n",
    "bobby = Human()\n",
    "\n",
    "bobby.name\n",
    "\n",
    "bobby.age\n",
    "\n",
    "---\n",
    "[ 인스턴스의 메서드 사용 ]\n",
    "\n",
    "bobby = Human()\n",
    "\n",
    "bobby.exercise()\n"
   ]
  },
  {
   "cell_type": "code",
   "execution_count": null,
   "metadata": {},
   "outputs": [],
   "source": [
    "# 다음의 클래스를 정의해줌으로써\n",
    "class Human :\n",
    "    \n",
    "    # 필드\n",
    "    # 아래의 성질을 가지게 된다\n",
    "    name = 'Bob'\n",
    "    age = 10\n",
    "    \n",
    "    # 메서드\n",
    "    # 아래의 행동을 할 수 있다\n",
    "    # 함수 정의 후 self를 넣어줌으로써 메소드 임을 알려준다\n",
    "    def exercise(self) : \n",
    "        print('스쿼시 !')"
   ]
  },
  {
   "cell_type": "markdown",
   "metadata": {},
   "source": [
    "## 1 ) 클래스 만들기"
   ]
  },
  {
   "cell_type": "code",
   "execution_count": null,
   "metadata": {},
   "outputs": [],
   "source": [
    "class Human() :\n",
    "    name = '송중기'\n",
    "    age = 35\n",
    "    def exercise(self) :\n",
    "        return '운동!'"
   ]
  },
  {
   "cell_type": "markdown",
   "metadata": {},
   "source": [
    "## 2 ) 인스턴스 만들기"
   ]
  },
  {
   "cell_type": "code",
   "execution_count": null,
   "metadata": {},
   "outputs": [],
   "source": [
    "# class Human\n",
    "class Human:\n",
    "    name = \"\"\n",
    "    age = 0\n",
    "    \n",
    "    def exercise(self):\n",
    "        return \"운동!\"\n",
    "        \n",
    "# instance Bobby\n",
    "bobby = Human()\n",
    "bobby.name = 'Bob'\n",
    "bobby.age = 10\n",
    "\n",
    "print(bobby.name)\n",
    "print(bobby.age)"
   ]
  },
  {
   "cell_type": "markdown",
   "metadata": {},
   "source": [
    "# 2. 피카츄 클래스 만들기\n",
    "\n",
    "포켓몬 클래스를 상속하는 피카추 클래스 생성\n",
    "\n",
    "= 상속한다는 말은 포켓몬의 하위 클래스에 피카츄가 잇다는 뜻"
   ]
  },
  {
   "cell_type": "code",
   "execution_count": 1,
   "metadata": {
    "ExecuteTime": {
     "end_time": "2020-06-12T05:10:18.108132Z",
     "start_time": "2020-06-12T05:10:18.103129Z"
    }
   },
   "outputs": [],
   "source": [
    "# 포켓몬 클래스를 만든다\n",
    "# 포켓몬의 필드는 이름, 성비, 종류이고 메서드는 skill 이 있다\n",
    "\n",
    "class Pocketmon :\n",
    "    p_name = ''\n",
    "    p_hp = 0\n",
    "    p_type = ''\n",
    "    def skill(self) :\n",
    "        pass"
   ]
  },
  {
   "cell_type": "code",
   "execution_count": 2,
   "metadata": {
    "ExecuteTime": {
     "end_time": "2020-06-12T05:10:19.324998Z",
     "start_time": "2020-06-12T05:10:19.317992Z"
    }
   },
   "outputs": [],
   "source": [
    "# 포켓몬의 클래스를 상속받는 피카추 클래스를 생성한다\n",
    "# 위와 같이 이름, 성비, 종류가 있고 메서드에는 특정 기능이 있따\n",
    "\n",
    "class Pikachu(Pocketmon) :\n",
    "    p_name = 'Pikachu'\n",
    "    p_hp = 50\n",
    "    p_type = 'Electric'\n",
    "    def skill(self) :\n",
    "        print('10만 볼트!')"
   ]
  },
  {
   "cell_type": "code",
   "execution_count": 5,
   "metadata": {
    "ExecuteTime": {
     "end_time": "2020-06-12T05:10:31.067350Z",
     "start_time": "2020-06-12T05:10:31.060363Z"
    }
   },
   "outputs": [
    {
     "name": "stdout",
     "output_type": "stream",
     "text": [
      "10만 볼트!\n",
      "50\n"
     ]
    }
   ],
   "source": [
    "pika = Pikachu()\n",
    "pika.skill()\n",
    "print(pika.p_hp)"
   ]
  },
  {
   "cell_type": "markdown",
   "metadata": {},
   "source": [
    "왜 객체지향 프로그래밍인가?\n",
    "\n",
    "상속, 다형성, 캡슐화를 통해 코드의 재사용이 쉽고, 우리 실생활을 잘 나타낼 수 있기 때문이다 !!!"
   ]
  },
  {
   "cell_type": "markdown",
   "metadata": {},
   "source": [
    "## 1 ) OOP의 특징 : 상속"
   ]
  },
  {
   "cell_type": "code",
   "execution_count": null,
   "metadata": {},
   "outputs": [],
   "source": [
    "class Pet :\n",
    "    attr = ''\n",
    "    def cry(self) :\n",
    "        pass\n",
    "        \n",
    "class Dog(Pet) :\n",
    "    attr = 'cute'\n",
    "    def cry(self) :\n",
    "        print('멍멍!')\n",
    "        \n",
    "    \n",
    "maltese = Dog()\n",
    "print(maltese.attr)\n",
    "maltese.cry()"
   ]
  },
  {
   "cell_type": "markdown",
   "metadata": {},
   "source": [
    "## 2 ) OOP의 특징 : 다형성"
   ]
  },
  {
   "cell_type": "code",
   "execution_count": null,
   "metadata": {},
   "outputs": [],
   "source": [
    "class Animal :\n",
    "    legs = 0\n",
    "    def walk(self) :\n",
    "        print('')\n",
    "        \n",
    "class Dog(Animal) :\n",
    "    legs = 4\n",
    "    def walk(self) :\n",
    "        print('살랑살랑')\n",
    "\n",
    "class Human(Animal) :\n",
    "    legs = 2\n",
    "    def walk(self) :\n",
    "        print('뚜벅뚜벅')\n",
    "\n",
    "maltese = Dog()\n",
    "gildong = Human()"
   ]
  },
  {
   "cell_type": "markdown",
   "metadata": {},
   "source": [
    "## 3 ) 파이썬에서의 객체"
   ]
  },
  {
   "cell_type": "code",
   "execution_count": null,
   "metadata": {},
   "outputs": [],
   "source": [
    "nums = [1, 2, 3]\n",
    "\n",
    "print(nums)\n",
    "\n",
    "print(type(nums))\n",
    "\n",
    "nums.append(4)"
   ]
  },
  {
   "cell_type": "markdown",
   "metadata": {},
   "source": [
    "# 3. 붕어빵 만들기"
   ]
  },
  {
   "cell_type": "code",
   "execution_count": 7,
   "metadata": {
    "ExecuteTime": {
     "end_time": "2020-06-12T05:35:42.069143Z",
     "start_time": "2020-06-12T05:35:42.057135Z"
    }
   },
   "outputs": [
    {
     "name": "stdout",
     "output_type": "stream",
     "text": [
      "팥 맛이 나요!\n",
      "슈크림 맛이 나요!\n"
     ]
    }
   ],
   "source": [
    "# 클래스 Bbread(붕어빵)을 만들어봅시다.\n",
    "# Bbread의 필드 taste를 생성하고, \"밀가루\"를 대입해봅시다.\n",
    "# Bbread의 메서드 eat()를 생성해봅시다. 이 메서드는 \"taste 맛이 나요!\"를 출력합니다.\n",
    "\n",
    "class Bbread :\n",
    "\n",
    "    taste = '밀가루'\n",
    "    \n",
    "    def eat(self) :\n",
    "        print( self.taste +' 맛이 나요!')\n",
    "\n",
    "\n",
    "# 클래스 Bbread의 인스턴스 redBean과 choux를 만들어봅시다.\n",
    "redBean = Bbread()\n",
    "choux = Bbread()\n",
    "\n",
    "\n",
    "# 객체 redBean의 필드 taste를 \"팥\"으로 바꿔줍시다\n",
    "redBean.taste = '팥'\n",
    "\n",
    "\n",
    "# 객체 choux의 필드 taste를 \"슈크림\"으로 바꿔줍시다\n",
    "choux.taste = '슈크림'\n",
    "\n",
    "# 객체 redBean의 메서드 eat()를 실행해봅시다\n",
    "redBean.eat()\n",
    "\n",
    "# 객체 choux의 메서드 eat()를 실행해봅시다\n",
    "choux.eat()"
   ]
  }
 ],
 "metadata": {
  "kernelspec": {
   "display_name": "Python [conda env:cpu_env] *",
   "language": "python",
   "name": "conda-env-cpu_env-py"
  },
  "language_info": {
   "codemirror_mode": {
    "name": "ipython",
    "version": 3
   },
   "file_extension": ".py",
   "mimetype": "text/x-python",
   "name": "python",
   "nbconvert_exporter": "python",
   "pygments_lexer": "ipython3",
   "version": "3.6.9"
  },
  "toc": {
   "base_numbering": 1,
   "nav_menu": {},
   "number_sections": true,
   "sideBar": true,
   "skip_h1_title": false,
   "title_cell": "Table of Contents",
   "title_sidebar": "Contents",
   "toc_cell": false,
   "toc_position": {},
   "toc_section_display": true,
   "toc_window_display": false
  },
  "varInspector": {
   "cols": {
    "lenName": 16,
    "lenType": 16,
    "lenVar": 40
   },
   "kernels_config": {
    "python": {
     "delete_cmd_postfix": "",
     "delete_cmd_prefix": "del ",
     "library": "var_list.py",
     "varRefreshCmd": "print(var_dic_list())"
    },
    "r": {
     "delete_cmd_postfix": ") ",
     "delete_cmd_prefix": "rm(",
     "library": "var_list.r",
     "varRefreshCmd": "cat(var_dic_list()) "
    }
   },
   "types_to_exclude": [
    "module",
    "function",
    "builtin_function_or_method",
    "instance",
    "_Feature"
   ],
   "window_display": false
  }
 },
 "nbformat": 4,
 "nbformat_minor": 2
}
